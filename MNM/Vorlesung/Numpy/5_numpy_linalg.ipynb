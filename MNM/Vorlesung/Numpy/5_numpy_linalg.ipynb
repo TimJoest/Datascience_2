{
 "cells": [
  {
   "cell_type": "markdown",
   "metadata": {
    "deletable": false,
    "editable": false,
    "nbgrader": {
     "cell_type": "markdown",
     "checksum": "7ceff41affbbb8674b99abad698549ae",
     "grade": false,
     "grade_id": "cell-8fcc6b05fc050a6a",
     "locked": true,
     "schema_version": 3,
     "solution": false,
     "task": false
    },
    "slideshow": {
     "slide_type": "slide"
    },
    "tags": []
   },
   "source": [
    "# Linear Algebra with NumPy"
   ]
  },
  {
   "cell_type": "code",
   "execution_count": null,
   "metadata": {
    "deletable": false,
    "editable": false,
    "nbgrader": {
     "cell_type": "code",
     "checksum": "78a80ec61312f74dc32623f99b2228ee",
     "grade": false,
     "grade_id": "cell-8a362816ae9cd571",
     "locked": true,
     "schema_version": 3,
     "solution": false,
     "task": false
    },
    "tags": []
   },
   "outputs": [],
   "source": [
    "import numpy as np"
   ]
  },
  {
   "cell_type": "markdown",
   "metadata": {
    "deletable": false,
    "editable": false,
    "nbgrader": {
     "cell_type": "markdown",
     "checksum": "8df44e38a99c4f1dc21b0948498cc85b",
     "grade": false,
     "grade_id": "cell-cc608a473428ddc0",
     "locked": true,
     "schema_version": 3,
     "solution": false,
     "task": false
    },
    "slideshow": {
     "slide_type": "slide"
    },
    "tags": []
   },
   "source": [
    "## Array operations"
   ]
  },
  {
   "cell_type": "markdown",
   "metadata": {
    "deletable": false,
    "editable": false,
    "nbgrader": {
     "cell_type": "markdown",
     "checksum": "22de7e0e412895ae0958e18e69fa6af8",
     "grade": false,
     "grade_id": "cell-f77aa9210056c8d1",
     "locked": true,
     "schema_version": 3,
     "solution": false,
     "task": false
    },
    "slideshow": {
     "slide_type": "fragment"
    },
    "tags": []
   },
   "source": [
    "Numpy supports linear algebra operations on arrays.\n",
    "* interpret arrays as vectors (1D) and matrices (2D)\n",
    "* fast due to numerical libraries"
   ]
  },
  {
   "cell_type": "markdown",
   "metadata": {
    "deletable": false,
    "editable": false,
    "nbgrader": {
     "cell_type": "markdown",
     "checksum": "df61128a63beb62cd157620203817259",
     "grade": false,
     "grade_id": "cell-f9b0d3e72f1f3329",
     "locked": true,
     "schema_version": 3,
     "solution": false,
     "task": false
    },
    "slideshow": {
     "slide_type": "subslide"
    }
   },
   "source": [
    "### Multiplying vectors and matrices\n",
    "* `np.multiply` is element-wise multiplication and/or with scalars (as we know)\n",
    "* `np.dot` and `np.vdot` are the most general\n",
    "    * \"sum product\" over last axis of first and second-to-last axis of second argument\n",
    "    * with scalars, equivalent to `np.multiply`\n",
    "    * with vectors and matrices, equivalent to `np.matmul`\n",
    "    * can also multiply higher-rank tensors\n",
    "    * `np.vdot` conjugates the first argument (for complex values)\n",
    "* `np.matmul` is specifically for matrices\n",
    "    * broadcasts vectors into matrices\n",
    "    * treats higher-rank arrays as stacks of matrices\n",
    "    * overloads the Python matmul operator (`@`)\n",
    "* `np.dot` and `np.matmul` are very different in higher dimensions"
   ]
  },
  {
   "cell_type": "code",
   "execution_count": null,
   "metadata": {
    "deletable": false,
    "editable": false,
    "nbgrader": {
     "cell_type": "code",
     "checksum": "8a113cf73f64cce9eb2cc5fd3c991a6a",
     "grade": false,
     "grade_id": "cell-09b2283097e52f17",
     "locked": true,
     "schema_version": 3,
     "solution": false,
     "task": false
    },
    "slideshow": {
     "slide_type": "subslide"
    },
    "tags": []
   },
   "outputs": [],
   "source": [
    "vec = np.array([2, 3])\n",
    "A = np.diag((1, -1))\n",
    "B = np.array([[0, 1], [1, 0]])\n",
    "\n",
    "print(vec, '\\n\\n', A, '\\n\\n', B)"
   ]
  },
  {
   "cell_type": "code",
   "execution_count": null,
   "metadata": {
    "deletable": false,
    "nbgrader": {
     "cell_type": "code",
     "checksum": "d74c4326ea382a5348d6c923d13d82e8",
     "grade": true,
     "grade_id": "cell-f31284fdefbc6765",
     "locked": false,
     "points": 0,
     "schema_version": 3,
     "solution": true,
     "task": false
    },
    "slideshow": {
     "slide_type": "fragment"
    },
    "tags": []
   },
   "outputs": [],
   "source": [
    "..."
   ]
  },
  {
   "cell_type": "code",
   "execution_count": null,
   "metadata": {
    "deletable": false,
    "nbgrader": {
     "cell_type": "code",
     "checksum": "8346dd50aea80fe693400177ffd7e152",
     "grade": true,
     "grade_id": "cell-b59bc979abac9c97",
     "locked": false,
     "points": 0,
     "schema_version": 3,
     "solution": true,
     "task": false
    },
    "slideshow": {
     "slide_type": "fragment"
    },
    "tags": []
   },
   "outputs": [],
   "source": [
    "..."
   ]
  },
  {
   "cell_type": "code",
   "execution_count": null,
   "metadata": {
    "deletable": false,
    "nbgrader": {
     "cell_type": "code",
     "checksum": "c235da17b92583aa83b3bda3d0acbcbf",
     "grade": true,
     "grade_id": "cell-4991f2262e794e16",
     "locked": false,
     "points": 0,
     "schema_version": 3,
     "solution": true,
     "task": false
    },
    "slideshow": {
     "slide_type": "subslide"
    },
    "tags": []
   },
   "outputs": [],
   "source": [
    "..."
   ]
  },
  {
   "cell_type": "code",
   "execution_count": null,
   "metadata": {
    "deletable": false,
    "nbgrader": {
     "cell_type": "code",
     "checksum": "270101094524b39886f250a855d7910a",
     "grade": true,
     "grade_id": "cell-81009c43efa58b19",
     "locked": false,
     "points": 0,
     "schema_version": 3,
     "solution": true,
     "task": false
    },
    "slideshow": {
     "slide_type": "fragment"
    },
    "tags": []
   },
   "outputs": [],
   "source": [
    "..."
   ]
  },
  {
   "cell_type": "code",
   "execution_count": null,
   "metadata": {
    "deletable": false,
    "nbgrader": {
     "cell_type": "code",
     "checksum": "13029976c3073bfdf4b8e891c179e579",
     "grade": true,
     "grade_id": "cell-30d66f3b6b96d7d1",
     "locked": false,
     "points": 0,
     "schema_version": 3,
     "solution": true,
     "task": false
    },
    "slideshow": {
     "slide_type": "fragment"
    },
    "tags": []
   },
   "outputs": [],
   "source": [
    "..."
   ]
  },
  {
   "cell_type": "code",
   "execution_count": null,
   "metadata": {
    "deletable": false,
    "nbgrader": {
     "cell_type": "code",
     "checksum": "15e34d7686658343b8b1415c2a39a4b5",
     "grade": true,
     "grade_id": "cell-5f537e2d77865619",
     "locked": false,
     "points": 0,
     "schema_version": 3,
     "solution": true,
     "task": false
    },
    "slideshow": {
     "slide_type": "fragment"
    },
    "tags": []
   },
   "outputs": [],
   "source": [
    "..."
   ]
  },
  {
   "cell_type": "code",
   "execution_count": null,
   "metadata": {
    "deletable": false,
    "editable": false,
    "nbgrader": {
     "cell_type": "code",
     "checksum": "08cc4282f5fa2feb2f1a1bc6b5752984",
     "grade": false,
     "grade_id": "cell-5faf310e72631b8a",
     "locked": true,
     "schema_version": 3,
     "solution": false,
     "task": false
    },
    "slideshow": {
     "slide_type": "subslide"
    },
    "tags": []
   },
   "outputs": [],
   "source": [
    "M, v = np.array([[1, 2], [3, 4]]), np.array([1, 2])\n",
    "M, v"
   ]
  },
  {
   "cell_type": "code",
   "execution_count": null,
   "metadata": {
    "deletable": false,
    "nbgrader": {
     "cell_type": "code",
     "checksum": "091fa331a0013541a388fb92c3a9297b",
     "grade": true,
     "grade_id": "cell-754e28c607fa04ad",
     "locked": false,
     "points": 0,
     "schema_version": 3,
     "solution": true,
     "task": false
    },
    "slideshow": {
     "slide_type": "fragment"
    },
    "tags": []
   },
   "outputs": [],
   "source": [
    "..."
   ]
  },
  {
   "cell_type": "code",
   "execution_count": null,
   "metadata": {
    "deletable": false,
    "nbgrader": {
     "cell_type": "code",
     "checksum": "1a4dc3a6d424b31b684d33f75a37f85f",
     "grade": true,
     "grade_id": "cell-3c122fabe7ff9875",
     "locked": false,
     "points": 0,
     "schema_version": 3,
     "solution": true,
     "task": false
    },
    "slideshow": {
     "slide_type": "fragment"
    },
    "tags": []
   },
   "outputs": [],
   "source": [
    "..."
   ]
  },
  {
   "cell_type": "code",
   "execution_count": null,
   "metadata": {
    "deletable": false,
    "nbgrader": {
     "cell_type": "code",
     "checksum": "a0498c55b17ba0460bb7a9d85749ac2d",
     "grade": true,
     "grade_id": "cell-395ba25436813b70",
     "locked": false,
     "points": 0,
     "schema_version": 3,
     "solution": true,
     "task": false
    },
    "slideshow": {
     "slide_type": "fragment"
    },
    "tags": []
   },
   "outputs": [],
   "source": [
    "..."
   ]
  },
  {
   "cell_type": "markdown",
   "metadata": {
    "deletable": false,
    "editable": false,
    "nbgrader": {
     "cell_type": "markdown",
     "checksum": "0e59d4c2e8649afa8800c3725479d1bc",
     "grade": false,
     "grade_id": "cell-960fb04fc25e1357",
     "locked": true,
     "schema_version": 3,
     "solution": false,
     "task": false
    },
    "slideshow": {
     "slide_type": "subslide"
    },
    "tags": []
   },
   "source": [
    "### Special products and sums\n",
    "* `np.cross` is the cross product specifically defined for three dimensions\n",
    "* `np.trace` is the sum of elements on the diagonal\n",
    "* `np.einsum` does general sum-products with Einstein sum convention"
   ]
  },
  {
   "cell_type": "code",
   "execution_count": null,
   "metadata": {
    "deletable": false,
    "editable": false,
    "nbgrader": {
     "cell_type": "code",
     "checksum": "c9638be65cd0e2d14ffc2529f771b3fd",
     "grade": false,
     "grade_id": "cell-90bd82210402ba2d",
     "locked": true,
     "schema_version": 3,
     "solution": false,
     "task": false
    },
    "slideshow": {
     "slide_type": "fragment"
    },
    "tags": []
   },
   "outputs": [],
   "source": [
    "a, b = np.split(np.arange(6), 2)\n",
    "ones = np.ones((3, 3))\n",
    "\n",
    "lc3 = np.zeros((3, 3, 3))\n",
    "lc3[(0, 1, 2), (1, 2, 0), (2, 0, 1)] = 1\n",
    "lc3[(0, 1, 2), (2, 0, 1), (1, 2, 0)] = -1\n",
    "\n",
    "print(f'{a = }')\n",
    "print(f'{b = }\\n\\n')\n",
    "print(ones, '\\n\\n')\n",
    "print(lc3)"
   ]
  },
  {
   "cell_type": "code",
   "execution_count": null,
   "metadata": {
    "deletable": false,
    "nbgrader": {
     "cell_type": "code",
     "checksum": "53dc461ad97aef20d0e15f3b69ff8f25",
     "grade": true,
     "grade_id": "cell-befc223060cb9ab3",
     "locked": false,
     "points": 0,
     "schema_version": 3,
     "solution": true,
     "task": false
    },
    "slideshow": {
     "slide_type": "fragment"
    },
    "tags": []
   },
   "outputs": [],
   "source": [
    "..."
   ]
  },
  {
   "cell_type": "code",
   "execution_count": null,
   "metadata": {
    "deletable": false,
    "nbgrader": {
     "cell_type": "code",
     "checksum": "fdcc3a0a15510b73bf194703b3c6e8b5",
     "grade": true,
     "grade_id": "cell-b2c80a96d65a9fcd",
     "locked": false,
     "points": 0,
     "schema_version": 3,
     "solution": true,
     "task": false
    },
    "slideshow": {
     "slide_type": "fragment"
    }
   },
   "outputs": [],
   "source": [
    "..."
   ]
  },
  {
   "cell_type": "code",
   "execution_count": null,
   "metadata": {
    "deletable": false,
    "nbgrader": {
     "cell_type": "code",
     "checksum": "921e45a1dd5542d893585a032eb79faf",
     "grade": true,
     "grade_id": "cell-2198cefb6b4d9524",
     "locked": false,
     "points": 0,
     "schema_version": 3,
     "solution": true,
     "task": false
    },
    "slideshow": {
     "slide_type": "fragment"
    }
   },
   "outputs": [],
   "source": [
    "..."
   ]
  },
  {
   "cell_type": "markdown",
   "metadata": {
    "deletable": false,
    "editable": false,
    "nbgrader": {
     "cell_type": "markdown",
     "checksum": "25b7766f868bb0444975beb96e9b920d",
     "grade": false,
     "grade_id": "cell-a9a34fef6323e65f",
     "locked": true,
     "schema_version": 3,
     "solution": false,
     "task": false
    },
    "slideshow": {
     "slide_type": "slide"
    }
   },
   "source": [
    "## Linear algebra package: `np.linalg`"
   ]
  },
  {
   "cell_type": "markdown",
   "metadata": {
    "deletable": false,
    "editable": false,
    "nbgrader": {
     "cell_type": "markdown",
     "checksum": "f839059b2c24fb33732b9af6a60a709a",
     "grade": false,
     "grade_id": "cell-2e8e743624f4e27d",
     "locked": true,
     "schema_version": 3,
     "solution": false,
     "task": false
    },
    "slideshow": {
     "slide_type": "fragment"
    }
   },
   "source": [
    "Numpy has a bunch of linear algebra methods provided by highly optimized BLAS and LAPACK libraries packaged away in `np.linalg`. We will use some of them later on in the course, and here will look at some solvers:\n",
    "* `np.linalg.solve` can solve linear systems of equations\n",
    "    * matrix-vector equations $A\\cdot \\mathbf{x} = \\mathbf{b}$ where $A \\in \\mathbb{R}^{n \\times n}$, and $\\mathbf{b}, \\mathbf{x} \\in \\mathbb{R}^n$\n",
    "    * linear matrix equations $A\\cdot X = B$, where $A\\in \\mathbb{R}^{n \\times n}$, $B, X \\in \\mathbb{R}^{n \\times m}$\n",
    "\n",
    "* `np.linalg.lstsq` solves optimization problems (e.g. for linear regression)\n",
    "* `np.linalg.inv` inverts matrices (e.g. also for linear regression)"
   ]
  },
  {
   "cell_type": "markdown",
   "metadata": {
    "deletable": false,
    "editable": false,
    "nbgrader": {
     "cell_type": "markdown",
     "checksum": "404b19bf2c045e64cc72733096ea6b19",
     "grade": false,
     "grade_id": "cell-5447e71615e472a4",
     "locked": true,
     "schema_version": 3,
     "solution": false,
     "task": false
    },
    "slideshow": {
     "slide_type": "subslide"
    }
   },
   "source": [
    "### Matrix-vector systems of equations\n",
    "\n",
    "For an equation $A \\mathbf{x} = \\mathbf{b}$, find $\\mathbf{x}$ given $A$ and $\\mathbf{b}$.\n",
    "\n",
    "$$\n",
    "A=\n",
    "\\begin{bmatrix}\n",
    "a_{11} & a_{12} & \\cdots & a_{1n} \\\\\n",
    "a_{21} & a_{22} & \\cdots & a_{2n} \\\\\n",
    "\\vdots & \\vdots & \\ddots & \\vdots \\\\\n",
    "a_{n1} & a_{n2} & \\cdots & a_{nn}\n",
    "\\end{bmatrix},\\quad\n",
    "\\mathbf{x}=\n",
    "\\begin{bmatrix}\n",
    "x_1 \\\\\n",
    "x_2 \\\\\n",
    "\\vdots \\\\\n",
    "x_n\n",
    "\\end{bmatrix},\\quad\n",
    "\\mathbf{b}=\n",
    "\\begin{bmatrix}\n",
    "b_1 \\\\\n",
    "b_2 \\\\\n",
    "\\vdots \\\\\n",
    "b_n\n",
    "\\end{bmatrix}\n",
    "$$"
   ]
  },
  {
   "cell_type": "code",
   "execution_count": null,
   "metadata": {
    "deletable": false,
    "editable": false,
    "nbgrader": {
     "cell_type": "code",
     "checksum": "22102b6135ffd4005726cae9f4549f0b",
     "grade": false,
     "grade_id": "cell-1e74b4bd344605aa",
     "locked": true,
     "schema_version": 3,
     "solution": false,
     "task": false
    },
    "slideshow": {
     "slide_type": "fragment"
    },
    "tags": []
   },
   "outputs": [],
   "source": [
    "A = np.array([[1, 3, -2], [3, 5, 6], [2, 4, 3]])\n",
    "b = np.array([5, 7, 8])\n",
    "A, b"
   ]
  },
  {
   "cell_type": "code",
   "execution_count": null,
   "metadata": {
    "deletable": false,
    "nbgrader": {
     "cell_type": "code",
     "checksum": "5b81ecdc48098c5a0cfa4e5368617b85",
     "grade": true,
     "grade_id": "cell-1e74b4bd344605ab",
     "locked": false,
     "points": 0,
     "schema_version": 3,
     "solution": true,
     "task": false
    },
    "slideshow": {
     "slide_type": "fragment"
    },
    "tags": []
   },
   "outputs": [],
   "source": [
    "..."
   ]
  },
  {
   "cell_type": "markdown",
   "metadata": {
    "deletable": false,
    "editable": false,
    "nbgrader": {
     "cell_type": "markdown",
     "checksum": "d2f6e20f96772a718694b54eda37c25b",
     "grade": false,
     "grade_id": "cell-13b429b08c3bab40",
     "locked": true,
     "schema_version": 3,
     "solution": false,
     "task": false
    },
    "slideshow": {
     "slide_type": "subslide"
    }
   },
   "source": [
    "### Least-Squares optimization\n",
    "For fitting giant datasets with linear regression, we can use least-squares optimization. Given $n$ observations of $m$ features each coded in a matrix $A \\in \\mathbb{R}^{n \\times m}$ and observations $\\mathbf{b} \\in \\mathbb{R}^n$, we want to find weights $\\mathbf{x} \\in \\mathbb{R}^m$ such that $A\\cdot \\mathbf{x} - \\mathbf{b}$ becomes minimal.\n",
    "\n",
    "We will deal with linear regression in detail later on."
   ]
  },
  {
   "cell_type": "code",
   "execution_count": null,
   "metadata": {
    "deletable": false,
    "editable": false,
    "nbgrader": {
     "cell_type": "code",
     "checksum": "34a3ffa9c94854e2f31799a41f454d51",
     "grade": false,
     "grade_id": "cell-25bb3723ea23d642",
     "locked": true,
     "schema_version": 3,
     "solution": false,
     "task": false
    },
    "slideshow": {
     "slide_type": "fragment"
    }
   },
   "outputs": [],
   "source": [
    "A = np.array([[1, 3, -2], [3, 5, 6], [2, 4, 3], [4, 2, 2]])\n",
    "b = np.array([5, 7, 8, 9])\n",
    "A, b"
   ]
  },
  {
   "cell_type": "code",
   "execution_count": null,
   "metadata": {
    "deletable": false,
    "nbgrader": {
     "cell_type": "code",
     "checksum": "e3e01e31f37c5ff16ee2766c5eaacecc",
     "grade": true,
     "grade_id": "cell-7968dc206fbc68ad",
     "locked": false,
     "points": 0,
     "schema_version": 3,
     "solution": true,
     "task": false
    },
    "slideshow": {
     "slide_type": "fragment"
    },
    "tags": []
   },
   "outputs": [],
   "source": [
    "..."
   ]
  },
  {
   "cell_type": "markdown",
   "metadata": {
    "deletable": false,
    "editable": false,
    "nbgrader": {
     "cell_type": "markdown",
     "checksum": "a8fbadc9f886732335b2d0b6bd1793cc",
     "grade": false,
     "grade_id": "cell-c39fd765716e34ba",
     "locked": true,
     "schema_version": 3,
     "solution": false,
     "task": false
    },
    "slideshow": {
     "slide_type": "subslide"
    },
    "tags": []
   },
   "source": [
    "### Linear matrix equation\n",
    "For an equation $A X = B$, find $X$ given $A$ and $B$.\n",
    "\n",
    "$$\n",
    "A=\n",
    "\\begin{bmatrix}\n",
    "a_{11} & a_{12} & \\cdots & a_{1n} \\\\\n",
    "a_{21} & a_{22} & \\cdots & a_{2n} \\\\\n",
    "\\vdots & \\vdots & \\ddots & \\vdots \\\\\n",
    "a_{n1} & a_{n2} & \\cdots & a_{nn}\n",
    "\\end{bmatrix},\\quad\n",
    "B = \n",
    "\\begin{bmatrix}\n",
    "b_{11} & b_{12} & \\cdots & x_{1m} \\\\\n",
    "b_{21} & b_{22} & \\cdots & x_{2m} \\\\\n",
    "\\vdots & \\vdots & \\ddots & \\vdots \\\\\n",
    "b_{n1} & b_{n2} & \\cdots & x_{nm}\n",
    "\\end{bmatrix},\\quad\n",
    "X = \n",
    "\\begin{bmatrix}\n",
    "x_{11} & x_{12} & \\cdots & x_{1m} \\\\\n",
    "x_{21} & x_{22} & \\cdots & x_{2m} \\\\\n",
    "\\vdots & \\vdots & \\ddots & \\vdots \\\\\n",
    "x_{n1} & x_{n2} & \\cdots & x_{nm}\n",
    "\\end{bmatrix}\n",
    "$$"
   ]
  },
  {
   "cell_type": "code",
   "execution_count": null,
   "metadata": {
    "deletable": false,
    "editable": false,
    "nbgrader": {
     "cell_type": "code",
     "checksum": "cbd7cc7910c33273bd718caf9396ed1b",
     "grade": false,
     "grade_id": "cell-43bc35dcc813c3bc",
     "locked": true,
     "schema_version": 3,
     "solution": false,
     "task": false
    },
    "slideshow": {
     "slide_type": "subslide"
    },
    "tags": []
   },
   "outputs": [],
   "source": [
    "A = 5 * np.array([[1, 1, 0], [1, 0, 1], [0, 1, 1]]) / 2\n",
    "B = np.eye(3, 2)\n",
    "A, B"
   ]
  },
  {
   "cell_type": "code",
   "execution_count": null,
   "metadata": {
    "deletable": false,
    "nbgrader": {
     "cell_type": "code",
     "checksum": "08f42daaa73ab8fb3fe28c28fb1e54f6",
     "grade": true,
     "grade_id": "cell-853ed081dbd2c9c6",
     "locked": false,
     "points": 0,
     "schema_version": 3,
     "solution": true,
     "task": false
    },
    "slideshow": {
     "slide_type": "subslide"
    },
    "tags": []
   },
   "outputs": [],
   "source": [
    "..."
   ]
  },
  {
   "cell_type": "markdown",
   "metadata": {
    "deletable": false,
    "editable": false,
    "nbgrader": {
     "cell_type": "markdown",
     "checksum": "4e1e166fab2da04b65236187e96a796e",
     "grade": false,
     "grade_id": "cell-a2e1a2f89d838cee",
     "locked": true,
     "schema_version": 3,
     "solution": false,
     "task": false
    },
    "slideshow": {
     "slide_type": "subslide"
    },
    "tags": []
   },
   "source": [
    "### Matrix inversion\n",
    "\n",
    "Matrix inversion is equivalent to solving the linear system of equations (with $A, X \\in \\mathbb{R}^{n \\times n}$):\n",
    "\n",
    "$$A X = \\mathbb{1}_{n \\times n}$$\n",
    "\n",
    "With NumPy we can directly determine the inverse by calling `np.linalg.inv()`"
   ]
  },
  {
   "cell_type": "code",
   "execution_count": null,
   "metadata": {
    "deletable": false,
    "editable": false,
    "nbgrader": {
     "cell_type": "code",
     "checksum": "f9240f5541a974be75adf9532098766e",
     "grade": false,
     "grade_id": "cell-a2b9a8ee8c7e17a1",
     "locked": true,
     "schema_version": 3,
     "solution": false,
     "task": false
    },
    "slideshow": {
     "slide_type": "fragment"
    },
    "tags": []
   },
   "outputs": [],
   "source": [
    "A = np.array([[-1, 1, 1], [1, -1, 1], [1, 1, -1]])\n",
    "A"
   ]
  },
  {
   "cell_type": "code",
   "execution_count": null,
   "metadata": {
    "deletable": false,
    "nbgrader": {
     "cell_type": "code",
     "checksum": "6c7ef3d1dffb43d9cdf71188e0a837ac",
     "grade": true,
     "grade_id": "cell-f8ff68a03fbe2075",
     "locked": false,
     "points": 0,
     "schema_version": 3,
     "solution": true,
     "task": false
    },
    "slideshow": {
     "slide_type": "fragment"
    },
    "tags": []
   },
   "outputs": [],
   "source": [
    "..."
   ]
  },
  {
   "cell_type": "markdown",
   "metadata": {
    "deletable": false,
    "editable": false,
    "nbgrader": {
     "cell_type": "markdown",
     "checksum": "a019379460bad1ade8925ac4c8d0fc57",
     "grade": false,
     "grade_id": "cell-4a27a68fa3bb7208",
     "locked": true,
     "schema_version": 3,
     "solution": false,
     "task": false
    }
   },
   "source": [
    "# Exercises: Linear Algebra"
   ]
  },
  {
   "cell_type": "markdown",
   "metadata": {
    "deletable": false,
    "editable": false,
    "nbgrader": {
     "cell_type": "markdown",
     "checksum": "c8ab6deb19478607a0d7fde81ea9ed3a",
     "grade": false,
     "grade_id": "cell-31cdddbf8c17e9ca",
     "locked": true,
     "schema_version": 3,
     "solution": false,
     "task": false
    }
   },
   "source": [
    "Key to exercises:\n",
    "* `(R)`: Reproduction. You can solve these without referring back to the lecture notebooks.\n",
    "* `(A)`: Application. Solving these may require looking up stuff in the lecture notebooks or online.\n",
    "* `(T)`: Transfer. These may require some thinking, or referring to the internet.\n",
    "* `(*)`: Especially difficult tasks. These might take some time even for experienced programmers."
   ]
  },
  {
   "cell_type": "markdown",
   "metadata": {
    "deletable": false,
    "editable": false,
    "nbgrader": {
     "cell_type": "markdown",
     "checksum": "09a10c91bfa81674db3fc9b4418d8f17",
     "grade": false,
     "grade_id": "cell-d6167ddf38241628",
     "locked": true,
     "schema_version": 3,
     "solution": false,
     "task": false
    }
   },
   "source": [
    "`(R)` When can you use `np.multiply`, `np.dot`, and `np.matmul`? When is which recommended?"
   ]
  },
  {
   "cell_type": "markdown",
   "metadata": {
    "deletable": false,
    "nbgrader": {
     "cell_type": "markdown",
     "checksum": "7e43c1475bccb1aeda2d3b520e4854ef",
     "grade": true,
     "grade_id": "cell-1f593d085fa29343",
     "locked": false,
     "points": 0,
     "schema_version": 3,
     "solution": true,
     "task": false
    }
   },
   "source": [
    "..."
   ]
  },
  {
   "cell_type": "markdown",
   "metadata": {
    "deletable": false,
    "editable": false,
    "nbgrader": {
     "cell_type": "markdown",
     "checksum": "4f14ba806fdefce89663ba217c8757ce",
     "grade": false,
     "grade_id": "cell-c23e983ea8845f6d",
     "locked": true,
     "schema_version": 3,
     "solution": false,
     "task": false
    },
    "tags": []
   },
   "source": [
    "`(A)` Invert the $5\\times5$ Hilbert matrix, with `np.linalg.solve`, `np.linalg.lstsq`, and `np.linalg.inv`."
   ]
  },
  {
   "cell_type": "code",
   "execution_count": null,
   "metadata": {
    "deletable": false,
    "nbgrader": {
     "cell_type": "code",
     "checksum": "2c7aa2f65f3ad7cf31fed4b6d5926e8a",
     "grade": true,
     "grade_id": "cell-8eeac7ba0401db12",
     "locked": false,
     "points": 0,
     "schema_version": 3,
     "solution": true,
     "task": false
    },
    "tags": []
   },
   "outputs": [],
   "source": [
    "..."
   ]
  },
  {
   "cell_type": "markdown",
   "metadata": {
    "deletable": false,
    "editable": false,
    "nbgrader": {
     "cell_type": "markdown",
     "checksum": "0eb17cfdf26bb169ce2cebc2a7bc12bb",
     "grade": false,
     "grade_id": "cell-36df2e9288de91f4",
     "locked": true,
     "schema_version": 3,
     "solution": false,
     "task": false
    },
    "tags": []
   },
   "source": [
    "(`T`) Generalize to $N\\times N$ Hilbert matrices and plot the runtimes of the various ways of solving."
   ]
  },
  {
   "cell_type": "code",
   "execution_count": null,
   "metadata": {
    "deletable": false,
    "nbgrader": {
     "cell_type": "code",
     "checksum": "8c2b39c7fde60c4fd63e52133e133ed0",
     "grade": true,
     "grade_id": "cell-9dcccee438f7ce6e",
     "locked": false,
     "points": 0,
     "schema_version": 3,
     "solution": true,
     "task": false
    },
    "tags": []
   },
   "outputs": [],
   "source": [
    "..."
   ]
  },
  {
   "cell_type": "markdown",
   "metadata": {
    "deletable": false,
    "editable": false,
    "nbgrader": {
     "cell_type": "markdown",
     "checksum": "3af623917813b37bf3b2a338aaf9d6b3",
     "grade": false,
     "grade_id": "cell-96e4cd4c10036b7c",
     "locked": true,
     "schema_version": 3,
     "solution": false,
     "task": false
    },
    "tags": []
   },
   "source": [
    "(`*`) For various sizes of the Hilber matrix, quantify the accuracy of the three methods against the exact analytical result. What do you find?"
   ]
  },
  {
   "cell_type": "code",
   "execution_count": null,
   "metadata": {
    "deletable": false,
    "nbgrader": {
     "cell_type": "code",
     "checksum": "cde61b9af1df0d854180c7871f5e6572",
     "grade": true,
     "grade_id": "cell-468262abc16bf80f",
     "locked": false,
     "points": 0,
     "schema_version": 3,
     "solution": true,
     "task": false
    },
    "tags": []
   },
   "outputs": [],
   "source": [
    "..."
   ]
  },
  {
   "cell_type": "markdown",
   "metadata": {
    "deletable": false,
    "editable": false,
    "nbgrader": {
     "cell_type": "markdown",
     "checksum": "54a3dfb7329b630825d087c563506daa",
     "grade": false,
     "grade_id": "cell-d8af0b4513add367",
     "locked": true,
     "schema_version": 3,
     "solution": false,
     "task": false
    }
   },
   "source": [
    "3. `(T)` Calculate the product of two Levi-Civita symbols $\\sum_k \\varepsilon_{ijk} \\varepsilon_{lkm}$."
   ]
  },
  {
   "cell_type": "code",
   "execution_count": null,
   "metadata": {
    "deletable": false,
    "nbgrader": {
     "cell_type": "code",
     "checksum": "fb24baf78719d75a7e1e6edc53a58737",
     "grade": true,
     "grade_id": "cell-195b96d67d40d289",
     "locked": false,
     "points": 0,
     "schema_version": 3,
     "solution": true,
     "task": false
    }
   },
   "outputs": [],
   "source": [
    "..."
   ]
  }
 ],
 "metadata": {
  "kernelspec": {
   "display_name": "Python 3 (ipykernel)",
   "language": "python",
   "name": "python3"
  },
  "language_info": {
   "codemirror_mode": {
    "name": "ipython",
    "version": 3
   },
   "file_extension": ".py",
   "mimetype": "text/x-python",
   "name": "python",
   "nbconvert_exporter": "python",
   "pygments_lexer": "ipython3",
   "version": "3.10.11"
  }
 },
 "nbformat": 4,
 "nbformat_minor": 4
}
