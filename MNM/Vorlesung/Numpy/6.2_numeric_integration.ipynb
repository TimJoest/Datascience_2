{
 "cells": [
  {
   "cell_type": "markdown",
   "id": "fa43964b-5f25-4132-9cff-1f8dd79d8533",
   "metadata": {
    "deletable": false,
    "editable": false,
    "nbgrader": {
     "cell_type": "markdown",
     "checksum": "8628b77bd2979ac02ce42f44c75eb5e7",
     "grade": false,
     "grade_id": "cell-43441083bfad677b",
     "locked": true,
     "schema_version": 3,
     "solution": false,
     "task": false
    },
    "tags": []
   },
   "source": [
    "# Numerical Integration"
   ]
  },
  {
   "cell_type": "code",
   "execution_count": null,
   "id": "49c2ec4a-a119-4409-9b53-9c4e136e1d67",
   "metadata": {
    "tags": []
   },
   "outputs": [],
   "source": [
    "import matplotlib.pyplot as plt\n",
    "import numpy as np\n",
    "from numpy import typing\n",
    "import pathlib\n",
    "from IPython import display\n",
    "\n",
    "fig = pathlib.Path('fig')"
   ]
  },
  {
   "cell_type": "markdown",
   "id": "6eccf45c-3612-4a7d-a726-a0f1f251d61b",
   "metadata": {
    "deletable": false,
    "editable": false,
    "nbgrader": {
     "cell_type": "markdown",
     "checksum": "c8ab6deb19478607a0d7fde81ea9ed3a",
     "grade": false,
     "grade_id": "cell-31cdddbf8c17e9ca",
     "locked": true,
     "schema_version": 3,
     "solution": false,
     "task": false
    }
   },
   "source": [
    "Key to exercises:\n",
    "* `(R)`: Reproduction. You can solve these without referring back to the lecture notebooks.\n",
    "* `(A)`: Application. Solving these may require looking up stuff in the lecture notebooks or online.\n",
    "* `(T)`: Transfer. These may require some thinking, or referring to the internet.\n",
    "* `(*)`: Especially difficult tasks. These might take some time even for experienced programmers."
   ]
  },
  {
   "cell_type": "markdown",
   "id": "a165f241-e897-4e01-be0e-384a607a8433",
   "metadata": {
    "deletable": false,
    "editable": false,
    "nbgrader": {
     "cell_type": "markdown",
     "checksum": "4871918791e667d54a41dbb0d7095565",
     "grade": false,
     "grade_id": "cell-41935fecd388efdb",
     "locked": true,
     "schema_version": 3,
     "solution": false,
     "task": false
    },
    "tags": []
   },
   "source": [
    "## Problem Statement"
   ]
  },
  {
   "cell_type": "markdown",
   "id": "74610b06-99c8-40f7-953b-e97240095201",
   "metadata": {
    "deletable": false,
    "editable": false,
    "nbgrader": {
     "cell_type": "markdown",
     "checksum": "42792ad3ff2d730f7baf77fc64024ff3",
     "grade": false,
     "grade_id": "cell-c3fb97085a37fab1",
     "locked": true,
     "schema_version": 3,
     "solution": false,
     "task": false
    },
    "tags": []
   },
   "source": [
    "### Analytic Integration"
   ]
  },
  {
   "cell_type": "markdown",
   "id": "8e853bf1-9e55-40f1-b0ff-5419814d31c5",
   "metadata": {
    "deletable": false,
    "editable": false,
    "nbgrader": {
     "cell_type": "markdown",
     "checksum": "c4e55e77ca5e3700c74c2ba43379307d",
     "grade": false,
     "grade_id": "cell-8bb29b5ebd072b0b",
     "locked": true,
     "schema_version": 3,
     "solution": false,
     "task": false
    },
    "tags": []
   },
   "source": [
    "Recall the different symbols for the definite integral from $a$ to $b$ of a univariate real function $f$:\n",
    "\n",
    "$$\\displaystyle I_a^b f = \\int_a^b \\!\\!\\!\\mathrm{d}x~f(x) = F(b) - F(a)$$\n",
    "\n",
    "which is defined by way of the *antiderivative* $F$, which is a differentiable function on $[a, b]$ such that $F' = f$.\n",
    "\n",
    "If we know $f$, we *might* be able to find an analytical expression for $F$. "
   ]
  },
  {
   "cell_type": "markdown",
   "id": "821fcf73-f9dc-44b1-96c2-cc72edf37f13",
   "metadata": {
    "deletable": false,
    "editable": false,
    "nbgrader": {
     "cell_type": "markdown",
     "checksum": "7747a1e811ea53f9a38f521e81981dcd",
     "grade": false,
     "grade_id": "cell-ac76b665737998ae",
     "locked": true,
     "schema_version": 3,
     "solution": false,
     "task": false
    },
    "tags": []
   },
   "source": [
    "### Numeric integration"
   ]
  },
  {
   "cell_type": "markdown",
   "id": "b7fbfd7c-074f-4a32-a35e-c7bf0467f594",
   "metadata": {
    "deletable": false,
    "editable": false,
    "nbgrader": {
     "cell_type": "markdown",
     "checksum": "08e8b6046c771ece4d9ff0c071a288f5",
     "grade": false,
     "grade_id": "cell-5b35468d40373527",
     "locked": true,
     "schema_version": 3,
     "solution": false,
     "task": false
    },
    "tags": []
   },
   "source": [
    "Sometimes we don't have an analytical expression for $F$:"
   ]
  },
  {
   "cell_type": "markdown",
   "id": "7433d105-3e62-4649-92a2-3cbdb6c90e25",
   "metadata": {
    "deletable": false,
    "nbgrader": {
     "cell_type": "markdown",
     "checksum": "aa06a9138b70f270f14f73ab93b8d3bb",
     "grade": true,
     "grade_id": "cell-020791c69e1b52d9",
     "locked": false,
     "points": 0,
     "schema_version": 3,
     "solution": true,
     "task": false
    },
    "tags": []
   },
   "source": [
    "..."
   ]
  },
  {
   "cell_type": "markdown",
   "id": "6e9b6fab-a6fc-4d9c-a9f8-cb91c457b24b",
   "metadata": {
    "deletable": false,
    "editable": false,
    "nbgrader": {
     "cell_type": "markdown",
     "checksum": "4cf88fb48b449c8d11442eef6192ef1a",
     "grade": false,
     "grade_id": "cell-4441aba3a25fe681",
     "locked": true,
     "schema_version": 3,
     "solution": false,
     "task": false
    },
    "tags": []
   },
   "source": [
    "Then, we need to integrate *numerically*!"
   ]
  },
  {
   "cell_type": "markdown",
   "id": "c2a93b3d-fc22-4993-a0d0-f78e7b3a08df",
   "metadata": {
    "deletable": false,
    "editable": false,
    "nbgrader": {
     "cell_type": "markdown",
     "checksum": "06300b118d40fdae6f04fcb928b23bf6",
     "grade": false,
     "grade_id": "cell-e35fbcd58b4c5a33",
     "locked": true,
     "schema_version": 3,
     "solution": false,
     "task": false
    },
    "tags": []
   },
   "source": [
    "## Methods for Integration"
   ]
  },
  {
   "cell_type": "code",
   "execution_count": null,
   "id": "72299152-e47d-4831-89f2-f56434adeb8b",
   "metadata": {
    "deletable": false,
    "nbgrader": {
     "cell_type": "code",
     "checksum": "be2d3dc596bfcd14fea913a7f7c6535f",
     "grade": false,
     "grade_id": "cell-1f5848ea29345ce2",
     "locked": false,
     "schema_version": 3,
     "solution": true,
     "task": false
    },
    "tags": []
   },
   "outputs": [],
   "source": [
    "..."
   ]
  },
  {
   "cell_type": "code",
   "execution_count": null,
   "id": "98615223-bab2-419d-8e0b-4212ae520078",
   "metadata": {
    "deletable": false,
    "nbgrader": {
     "cell_type": "code",
     "checksum": "05efe6869efd4a5d50ad0f2c07bf2b72",
     "grade": false,
     "grade_id": "cell-ce02d6104be16f72",
     "locked": false,
     "schema_version": 3,
     "solution": true,
     "task": false
    },
    "tags": []
   },
   "outputs": [],
   "source": [
    "..."
   ]
  },
  {
   "cell_type": "markdown",
   "id": "f33bc5bd-6d91-4a8a-bcb4-85fca58a7604",
   "metadata": {
    "deletable": false,
    "editable": false,
    "nbgrader": {
     "cell_type": "markdown",
     "checksum": "41d9ba041f1e698eea96c5c6a376d492",
     "grade": false,
     "grade_id": "cell-f75c47b63d04ed72",
     "locked": true,
     "schema_version": 3,
     "solution": false,
     "task": false
    },
    "tags": []
   },
   "source": [
    "### Rectangle"
   ]
  },
  {
   "cell_type": "markdown",
   "id": "19713cee-8daa-478e-b776-74634e01af92",
   "metadata": {
    "deletable": false,
    "editable": false,
    "nbgrader": {
     "cell_type": "markdown",
     "checksum": "17779a56da3ef81a73f923fbc5ba899c",
     "grade": false,
     "grade_id": "cell-cc3839bdffe4c74f",
     "locked": true,
     "schema_version": 3,
     "solution": false,
     "task": false
    },
    "tags": []
   },
   "source": [
    "Suppose we only know *one* function value, $f(a)$."
   ]
  },
  {
   "cell_type": "markdown",
   "id": "9174c2ae-4fb9-4c6f-b452-e7c537b65bf7",
   "metadata": {
    "deletable": false,
    "nbgrader": {
     "cell_type": "markdown",
     "checksum": "76cf286cc5febace8c32888d27b2f2ce",
     "grade": true,
     "grade_id": "cell-cc3839bdffe4c74a",
     "locked": false,
     "points": 0,
     "schema_version": 3,
     "solution": true,
     "task": false
    },
    "tags": []
   },
   "source": [
    "..."
   ]
  },
  {
   "cell_type": "markdown",
   "id": "1130e9bf-9eed-401a-8a9f-fa85f8685129",
   "metadata": {
    "deletable": false,
    "editable": false,
    "nbgrader": {
     "cell_type": "markdown",
     "checksum": "88c76d41625f3c3d7437426074ecfba7",
     "grade": false,
     "grade_id": "cell-5d22bdfdec965aaf",
     "locked": true,
     "schema_version": 3,
     "solution": false,
     "task": false
    },
    "tags": []
   },
   "source": [
    "$$I_a^b f{}_\\text{rectangle} = f(a) \\cdot (b-a)$$"
   ]
  },
  {
   "cell_type": "code",
   "execution_count": null,
   "id": "29f76c32-7737-4e28-9e13-8708a2c7417d",
   "metadata": {
    "deletable": false,
    "editable": false,
    "nbgrader": {
     "cell_type": "code",
     "checksum": "c2caec19a0da1b04c03595cf203bdb8a",
     "grade": false,
     "grade_id": "cell-11880fed8e366c26",
     "locked": true,
     "schema_version": 3,
     "solution": false,
     "task": false
    },
    "tags": []
   },
   "outputs": [],
   "source": [
    "display.Image(filename=fig / 'int_rect_002.png')"
   ]
  },
  {
   "cell_type": "markdown",
   "id": "f546cc02-1dc6-4981-9961-acac084af9c3",
   "metadata": {
    "deletable": false,
    "editable": false,
    "nbgrader": {
     "cell_type": "markdown",
     "checksum": "75dbd6d713d9568a691a016257137cb2",
     "grade": false,
     "grade_id": "cell-aa8ca74e1c6ccedc",
     "locked": true,
     "schema_version": 3,
     "solution": false,
     "task": false
    }
   },
   "source": [
    "### Trapezoid"
   ]
  },
  {
   "cell_type": "markdown",
   "id": "b476959b-58e8-4381-8314-14678bcc3245",
   "metadata": {
    "deletable": false,
    "editable": false,
    "nbgrader": {
     "cell_type": "markdown",
     "checksum": "b8ada0e1dc9639a8d13917e7d5b4224f",
     "grade": false,
     "grade_id": "cell-0060504b0d964593",
     "locked": true,
     "schema_version": 3,
     "solution": false,
     "task": false
    },
    "tags": []
   },
   "source": [
    "Suppose we know *two* function values, $f(a)$ and $f(b)$."
   ]
  },
  {
   "cell_type": "markdown",
   "id": "95f106b2-c739-4409-8c76-c01a378d9d7f",
   "metadata": {
    "deletable": false,
    "nbgrader": {
     "cell_type": "markdown",
     "checksum": "f94585175d9f1f7117c1b944f0eaf0ee",
     "grade": true,
     "grade_id": "cell-0060504b0d964592",
     "locked": false,
     "points": 0,
     "schema_version": 3,
     "solution": true,
     "task": false
    },
    "tags": []
   },
   "source": [
    "..."
   ]
  },
  {
   "cell_type": "markdown",
   "id": "fde0e2be-eb1b-44c3-b887-9a2648c48435",
   "metadata": {
    "deletable": false,
    "editable": false,
    "nbgrader": {
     "cell_type": "markdown",
     "checksum": "4af4458c6366787e2294ed4556722169",
     "grade": false,
     "grade_id": "cell-2dbdb6de328cd75b",
     "locked": true,
     "schema_version": 3,
     "solution": false,
     "task": false
    },
    "tags": []
   },
   "source": [
    "$$ I_a^b f{}_\\text{trapezoid} = \\frac{f(a) + f(b)}{2} (b-a)$$"
   ]
  },
  {
   "cell_type": "code",
   "execution_count": null,
   "id": "de2b4fb3-0dbd-4053-a74f-9e1ad6b58e7e",
   "metadata": {
    "deletable": false,
    "editable": false,
    "nbgrader": {
     "cell_type": "code",
     "checksum": "fd987fb485e5c69742f4399e643ea187",
     "grade": false,
     "grade_id": "cell-c7107e392eedc36e",
     "locked": true,
     "schema_version": 3,
     "solution": false,
     "task": false
    },
    "tags": []
   },
   "outputs": [],
   "source": [
    "display.Image(filename=fig / 'int_trapez_002.png')"
   ]
  },
  {
   "cell_type": "markdown",
   "id": "dae5c0b6-e1dd-4964-8329-7d34e1c31ec4",
   "metadata": {
    "deletable": false,
    "editable": false,
    "nbgrader": {
     "cell_type": "markdown",
     "checksum": "84b0fd457366ed2b89243c4e3d837cfd",
     "grade": false,
     "grade_id": "cell-aa8ca74e1c6ccedd",
     "locked": true,
     "schema_version": 3,
     "solution": false,
     "task": false
    },
    "tags": []
   },
   "source": [
    "### Simpson"
   ]
  },
  {
   "cell_type": "markdown",
   "id": "d5ba045e-2258-4fc9-afd8-f3998a0e11bb",
   "metadata": {
    "deletable": false,
    "editable": false,
    "nbgrader": {
     "cell_type": "markdown",
     "checksum": "b7c17b9a7fe6ab1153e2102f6dfc4aae",
     "grade": false,
     "grade_id": "cell-8ed5ad5e016023fa",
     "locked": true,
     "schema_version": 3,
     "solution": false,
     "task": false
    },
    "tags": []
   },
   "source": [
    "Suppose we know *three* function values at the start-, end-, and midpoint of the interval, $f(a)$, $f(b)$ and $f\\left(\\tfrac{a+b}{2}\\right)$."
   ]
  },
  {
   "cell_type": "markdown",
   "id": "76abaa79-3a78-431e-87d2-9da01c4f1081",
   "metadata": {
    "deletable": false,
    "nbgrader": {
     "cell_type": "markdown",
     "checksum": "29e824a0bfd214fc950989201081cf80",
     "grade": true,
     "grade_id": "cell-8ed5ad5e016023fb",
     "locked": false,
     "points": 0,
     "schema_version": 3,
     "solution": true,
     "task": false
    },
    "tags": []
   },
   "source": [
    "..."
   ]
  },
  {
   "cell_type": "markdown",
   "id": "a0331988-46a9-4e5c-9cab-cf268821337d",
   "metadata": {
    "deletable": false,
    "editable": false,
    "nbgrader": {
     "cell_type": "markdown",
     "checksum": "02cc04d8015b4194def54db3a0ab9c65",
     "grade": false,
     "grade_id": "cell-8113b8cf604be878",
     "locked": true,
     "schema_version": 3,
     "solution": false,
     "task": false
    },
    "tags": []
   },
   "source": [
    "Formally, we construct a quadratic polynomial $p(x) = r x^2 + s x + t$ such that $p(a) = f(a)$, $p(b) = f(b)$, and $p\\left(\\tfrac{a+b}{2}\\right) = f\\left(\\tfrac{a+b}{2}\\right)$. Analytical integration and simplification yields the following pleasant form:\n",
    "\n",
    "$$I_a^b f_\\text{Simpson} = I_a^b p = \\frac{b-a}{6} \\left(f(a) + 4 f\\left(\\tfrac{a+b}{2}\\right) + f(b)\\right)$$"
   ]
  },
  {
   "cell_type": "markdown",
   "id": "3d27ff01-8b52-4d32-8ff5-b176fbd05d92",
   "metadata": {
    "deletable": false,
    "nbgrader": {
     "cell_type": "markdown",
     "checksum": "53862629043994a43eefaedfcbbbfe42",
     "grade": true,
     "grade_id": "cell-60bf7c5a94ccde8b",
     "locked": false,
     "points": 0,
     "schema_version": 3,
     "solution": true,
     "task": false
    },
    "tags": []
   },
   "source": [
    "..."
   ]
  },
  {
   "cell_type": "code",
   "execution_count": null,
   "id": "2b0a3f4f-2a5d-4b57-8985-221e26858e82",
   "metadata": {
    "deletable": false,
    "editable": false,
    "nbgrader": {
     "cell_type": "code",
     "checksum": "e928d2d235e9b4dbc866bb3046de674d",
     "grade": false,
     "grade_id": "cell-5a3f219af8e6c49b",
     "locked": true,
     "schema_version": 3,
     "solution": false,
     "task": false
    },
    "tags": []
   },
   "outputs": [],
   "source": [
    "display.Image(filename=fig / 'int_simpson_003.png')"
   ]
  },
  {
   "cell_type": "markdown",
   "id": "98ee814e-6468-45d7-b2b1-5b77aa7edae6",
   "metadata": {
    "deletable": false,
    "editable": false,
    "nbgrader": {
     "cell_type": "markdown",
     "checksum": "d6929d1dc433f9d01434bee787046bac",
     "grade": false,
     "grade_id": "cell-1fc6fe499c3aa27e",
     "locked": true,
     "schema_version": 3,
     "solution": false,
     "task": false
    },
    "tags": []
   },
   "source": [
    "## Composite Rules"
   ]
  },
  {
   "cell_type": "markdown",
   "id": "7286e5d9-0555-40cf-bf35-3f11b4ff2c54",
   "metadata": {
    "deletable": false,
    "editable": false,
    "nbgrader": {
     "cell_type": "markdown",
     "checksum": "0b6e2df80aa9758d71c10252d3c31c6e",
     "grade": false,
     "grade_id": "cell-f12b2e2e5336c4ed",
     "locked": true,
     "schema_version": 3,
     "solution": false,
     "task": false
    },
    "tags": []
   },
   "source": [
    "In practice, we can get way more than three sample points, say $n$ equidistant sample points. What options do we have?"
   ]
  },
  {
   "cell_type": "markdown",
   "id": "2945d9e2-7e0a-43dd-9069-4447e53edfa0",
   "metadata": {
    "deletable": false,
    "nbgrader": {
     "cell_type": "markdown",
     "checksum": "b38408079a82853cbd2396479f8ec2b4",
     "grade": true,
     "grade_id": "cell-e0963ac9553faf93",
     "locked": false,
     "points": 0,
     "schema_version": 3,
     "solution": true,
     "task": false
    },
    "tags": []
   },
   "source": [
    "..."
   ]
  },
  {
   "cell_type": "code",
   "execution_count": null,
   "id": "7833f376-3da6-4f79-ba0c-e667d1afe673",
   "metadata": {
    "deletable": false,
    "editable": false,
    "nbgrader": {
     "cell_type": "code",
     "checksum": "4ee3cccd0e8b0b812e5a8d78d2b9599c",
     "grade": false,
     "grade_id": "cell-f9a9d6e25a7b0799",
     "locked": true,
     "schema_version": 3,
     "solution": false,
     "task": false
    },
    "tags": []
   },
   "outputs": [],
   "source": [
    "display.Video(filename=fig / 'animation.mp4', embed=True)"
   ]
  },
  {
   "cell_type": "markdown",
   "id": "62e0cf00-9361-4ced-abcd-0fc8f62354b8",
   "metadata": {
    "deletable": false,
    "editable": false,
    "nbgrader": {
     "cell_type": "markdown",
     "checksum": "f6432acf787c977b74338c845a06621b",
     "grade": false,
     "grade_id": "cell-20b5461bf7a21f45",
     "locked": true,
     "schema_version": 3,
     "solution": false,
     "task": false
    },
    "tags": []
   },
   "source": [
    "### Composite Rectangle Rule"
   ]
  },
  {
   "cell_type": "markdown",
   "id": "340e0e8c-f69b-4387-8db0-4bd901b4cc60",
   "metadata": {
    "deletable": false,
    "editable": false,
    "nbgrader": {
     "cell_type": "markdown",
     "checksum": "f711715405459caa6241f550b3e5b455",
     "grade": false,
     "grade_id": "cell-5bfce9f4bf7faf8a",
     "locked": true,
     "schema_version": 3,
     "solution": false,
     "task": false
    },
    "tags": []
   },
   "source": [
    "* $N$ sample points $x_i$ (with $0 \\le i \\lt N$) and associated function values $f(x_i)$\n",
    "* also know endpoint $x_N =b$\n",
    "* construct successive rectangles and sum the areas\n",
    "\n",
    "$$\\displaystyle \\operatorname{I}_a^b{}_\\text{rectangle}(x_i) = \\sum_{k=\n",
    "0}^{N-1}~~f(x_k) \\cdot (x_{k+1} - x_k)$$\n"
   ]
  },
  {
   "cell_type": "markdown",
   "id": "8e4b1778-02e6-4937-90dd-90b6c685b34e",
   "metadata": {
    "deletable": false,
    "editable": false,
    "nbgrader": {
     "cell_type": "markdown",
     "checksum": "13b740f7fde8e9015e8bfaef5161ad3c",
     "grade": false,
     "grade_id": "cell-c6fa1cc3c4cf7dc4",
     "locked": true,
     "schema_version": 3,
     "solution": false,
     "task": false
    },
    "tags": []
   },
   "source": [
    "### Composite Trapezoid Rule"
   ]
  },
  {
   "cell_type": "markdown",
   "id": "da45fa66-e59e-42a5-ad32-ad7146dc1efc",
   "metadata": {
    "deletable": false,
    "editable": false,
    "nbgrader": {
     "cell_type": "markdown",
     "checksum": "026899726ef473d6ca3096179d0f6f71",
     "grade": false,
     "grade_id": "cell-1a08c2443d5fd53f",
     "locked": true,
     "schema_version": 3,
     "solution": false,
     "task": false
    },
    "tags": []
   },
   "source": [
    "* $N+1$ sample points $x_i$ (with $0 \\le i \\le N$) and associated function values $f(x_i)$\n",
    "* construct successive trapezoids and sum the areas\n",
    "\n",
    "$$\\displaystyle \\operatorname{I}_a^b{}_\\text{trapezoid}(x_i) = \\sum_{k=0}^{N-1}~~\\dfrac{f(x_{k}) + f(x_{k+1})}{2}~(x_{k+1} - x_{k})$$\n"
   ]
  },
  {
   "cell_type": "markdown",
   "id": "6a52c827-fc2d-4a6a-9631-5ccef9fadaa5",
   "metadata": {
    "deletable": false,
    "editable": false,
    "nbgrader": {
     "cell_type": "markdown",
     "checksum": "9f48ce6e3a083b8da9390c040a878086",
     "grade": false,
     "grade_id": "cell-296ea63c9b8bc856",
     "locked": true,
     "schema_version": 3,
     "solution": false,
     "task": false
    },
    "tags": []
   },
   "source": [
    "### Composite Simpson's Rule\n",
    "* $N = 2M+1 \\ge 3$ sample points $x_i$ (with $0 \\le i \\lt n$) and associated function values $f(x_k)$\n",
    "* $M$ intervals of 3 points each\n",
    "* additional constraint: $x_{2m+1} = \\dfrac{x_{2m} + x_{2m+2}}{2}$ (each interval must have a *midpoint*)\n",
    "* use successive paraboloids and sum the areas:\n",
    "\n",
    "$$\\displaystyle \\operatorname{I}_a^b{}_\\text{simpson}(x_i) = \\sum_{i=0}^{M-1}~~\\frac{f(x_{2i}) + 4 f(x_{2i + 1}) + f(x_{2i+2})}{6} (x_{2i+2} - x_{2i})$$"
   ]
  },
  {
   "cell_type": "markdown",
   "id": "4506f278-74f9-4bf3-9fd0-edc59a9effb5",
   "metadata": {
    "deletable": false,
    "editable": false,
    "nbgrader": {
     "cell_type": "markdown",
     "checksum": "336efb3e4fa0baba2692e33f2e4b6c5b",
     "grade": false,
     "grade_id": "cell-78e6c5c3d5a0aa14",
     "locked": true,
     "schema_version": 3,
     "solution": false,
     "task": false
    }
   },
   "source": [
    "### Other rules"
   ]
  },
  {
   "cell_type": "markdown",
   "id": "d80ad755-c266-440c-a5f5-d8f9fcb05c3c",
   "metadata": {
    "deletable": false,
    "editable": false,
    "nbgrader": {
     "cell_type": "markdown",
     "checksum": "c6b4b76261507bbf52a159c7e927af58",
     "grade": false,
     "grade_id": "cell-cdfa2094c3f2626f",
     "locked": true,
     "schema_version": 3,
     "solution": false,
     "task": false
    }
   },
   "source": [
    "For specialized purposes, other integration rules exist. These might use different functions for interpolation, different intermediary points, or make different assumptions about the integrands:\n",
    "* Gauss-Legendre quadrature\n",
    "    - non-equidistant sample points\n",
    "    - optimal precision for polynomials\n",
    "- Romberg integration\n",
    "    - extrapolation from a series of trapezoids with smaller step size\n",
    "- Gauss-Kronrod quadrature\n",
    "    - adaptive to function values\n",
    "    - successive steps choose additional node positions\n",
    "- tanh-sinh-quadrature\n",
    "- used in solid-state physics research: \"Gauß-Fermi quadrature\""
   ]
  },
  {
   "cell_type": "markdown",
   "id": "f9af0599-67f6-4e9f-bcb5-8c67c1246e68",
   "metadata": {
    "deletable": false,
    "editable": false,
    "nbgrader": {
     "cell_type": "markdown",
     "checksum": "f1495197c965e443de706e5caa13aed6",
     "grade": false,
     "grade_id": "cell-74f9ecfaa478ea28",
     "locked": true,
     "schema_version": 3,
     "solution": false,
     "task": false
    }
   },
   "source": [
    "## Exercises"
   ]
  },
  {
   "cell_type": "markdown",
   "id": "ebf2aba5-ac78-48d8-ab94-af07679f925c",
   "metadata": {
    "deletable": false,
    "editable": false,
    "nbgrader": {
     "cell_type": "markdown",
     "checksum": "4bad7050155c078160ce3aafa3178d95",
     "grade": false,
     "grade_id": "cell-4bdef5e4d66d3dad",
     "locked": true,
     "schema_version": 3,
     "solution": false,
     "task": false
    },
    "tags": []
   },
   "source": [
    "We now know of three *composite rules* rules: the *composite rectangle rule*, *trapezoid rule* and *Simpson's rule*. We will now implement these rules in Python, using `numpy` for speed and precision. Functions should conform to this function signature:\n",
    "```python\n",
    "integrate(y: np.ndarray, x: Optional[np.ndarray] = None) -> np.number\n",
    "```\n",
    "\n",
    "Assume you're given an array `y` of function values $f(x_k)$, sampled at an array `x` of sample points $x_k$ (by default a range of consecutive integers). For testing, we use $f(x) = \\sin(x)$ in the intervall $[0,\\pi]$."
   ]
  },
  {
   "cell_type": "markdown",
   "id": "d5fc3fa9-ff47-42a1-9d93-8fc6c0a3ff9f",
   "metadata": {
    "deletable": false,
    "editable": false,
    "nbgrader": {
     "cell_type": "markdown",
     "checksum": "a3a89ec99d4f9e72e07980b6f2c69e0e",
     "grade": false,
     "grade_id": "cell-4bdef5e4d66d3dac",
     "locked": true,
     "schema_version": 3,
     "solution": false,
     "task": false
    },
    "tags": []
   },
   "source": [
    "`(R)` What is the *analytical value* of this integral?"
   ]
  },
  {
   "cell_type": "markdown",
   "id": "adce53c7-d619-4877-bab1-4d55f10671ae",
   "metadata": {
    "deletable": false,
    "nbgrader": {
     "cell_type": "markdown",
     "checksum": "4a7ce25168d134201608bf726430ce1f",
     "grade": true,
     "grade_id": "cell-8b7cdb98754ab75a",
     "locked": false,
     "points": 0,
     "schema_version": 3,
     "solution": true,
     "task": false
    },
    "tags": []
   },
   "source": [
    "..."
   ]
  },
  {
   "cell_type": "markdown",
   "id": "4c158986-ecab-4144-adff-14862fd320e4",
   "metadata": {
    "deletable": false,
    "editable": false,
    "nbgrader": {
     "cell_type": "markdown",
     "checksum": "3d79d9247109dc7ff969a7ffc1b10665",
     "grade": false,
     "grade_id": "cell-4bdef5e4d66d3dae",
     "locked": true,
     "schema_version": 3,
     "solution": false,
     "task": false
    }
   },
   "source": [
    "`(A)` Implement the composite rectangle rule as a function named `rectangle`."
   ]
  },
  {
   "cell_type": "code",
   "execution_count": null,
   "id": "05b3963f-e9dd-4374-99e8-63ea91cfbc6d",
   "metadata": {
    "deletable": false,
    "nbgrader": {
     "cell_type": "code",
     "checksum": "45070d2a584d30fed04e9d6920b01b04",
     "grade": true,
     "grade_id": "cell-4eb3ccaca3be3331",
     "locked": false,
     "points": 0,
     "schema_version": 3,
     "solution": true,
     "task": false
    },
    "tags": []
   },
   "outputs": [],
   "source": [
    "..."
   ]
  },
  {
   "cell_type": "markdown",
   "id": "18d171b1-c3cd-4e53-997c-1dc3efeaa6da",
   "metadata": {
    "deletable": false,
    "editable": false,
    "nbgrader": {
     "cell_type": "markdown",
     "checksum": "574bb03e95323d16cbc746bd195a9769",
     "grade": false,
     "grade_id": "cell-7d9ee98b5ee3dedd",
     "locked": true,
     "schema_version": 3,
     "solution": false,
     "task": false
    },
    "tags": []
   },
   "source": [
    "`(A)` Implement the composite trapezoid rule as a function named `trapezoid`."
   ]
  },
  {
   "cell_type": "code",
   "execution_count": null,
   "id": "1f008a32",
   "metadata": {
    "deletable": false,
    "nbgrader": {
     "cell_type": "code",
     "checksum": "054ee0ccd0859b59cc96e92e2dabbf24",
     "grade": true,
     "grade_id": "cell-2cec2661c9f16a11",
     "locked": false,
     "points": 0,
     "schema_version": 3,
     "solution": true,
     "task": false
    },
    "tags": []
   },
   "outputs": [],
   "source": [
    "..."
   ]
  },
  {
   "cell_type": "markdown",
   "id": "96e48e27-b140-4bf5-afe6-75ef9ffdc13f",
   "metadata": {
    "deletable": false,
    "editable": false,
    "nbgrader": {
     "cell_type": "markdown",
     "checksum": "5bbfd9c29790093785989787de91caa3",
     "grade": false,
     "grade_id": "cell-f18dcd274fed7146",
     "locked": true,
     "schema_version": 3,
     "solution": false,
     "task": false
    },
    "tags": []
   },
   "source": [
    "`(A)` Implement the composite Simpson's rule as a function named `simpson`."
   ]
  },
  {
   "cell_type": "code",
   "execution_count": null,
   "id": "ec57fa2d",
   "metadata": {
    "deletable": false,
    "nbgrader": {
     "cell_type": "code",
     "checksum": "2cf36c6088f3282cacb9773ec3654822",
     "grade": true,
     "grade_id": "cell-fe02d65de0f56b6e",
     "locked": false,
     "points": 0,
     "schema_version": 3,
     "solution": true,
     "task": false
    },
    "tags": []
   },
   "outputs": [],
   "source": [
    "..."
   ]
  },
  {
   "cell_type": "markdown",
   "id": "054d3371",
   "metadata": {
    "deletable": false,
    "editable": false,
    "nbgrader": {
     "cell_type": "markdown",
     "checksum": "31ee547c75d3e8a26d6e28e21577fbfe",
     "grade": false,
     "grade_id": "cell-8016bfcdca685f9a",
     "locked": true,
     "schema_version": 3,
     "solution": false,
     "task": false
    }
   },
   "source": [
    "`(A)` Generate at least 11 sample points and compare the results to the known analytical value."
   ]
  },
  {
   "cell_type": "code",
   "execution_count": null,
   "id": "1069f356-f16e-452c-a037-75bbc7a3a9c4",
   "metadata": {
    "deletable": false,
    "nbgrader": {
     "cell_type": "code",
     "checksum": "16ac5c087b2ba40d65be9b2584090765",
     "grade": true,
     "grade_id": "cell-a2c4275e4ced5f1d",
     "locked": false,
     "points": 0,
     "schema_version": 3,
     "solution": true,
     "task": false
    },
    "tags": []
   },
   "outputs": [],
   "source": [
    "..."
   ]
  },
  {
   "cell_type": "markdown",
   "id": "65006df1-0e06-4c70-93c3-f48fe1c4eeb9",
   "metadata": {
    "deletable": false,
    "editable": false,
    "nbgrader": {
     "cell_type": "markdown",
     "checksum": "7e1381cbfc474a1e3ca48dce26ace26d",
     "grade": false,
     "grade_id": "cell-fd9ac3e0c004ebf2",
     "locked": true,
     "schema_version": 3,
     "solution": false,
     "task": false
    },
    "tags": []
   },
   "source": [
    "`(T)` For different numbers of sample points, calculate the numerical error of your methods as well as the `scipy.integrate` implementations `integrate.trapezoid` and `integrate.simpson` and plot the result."
   ]
  },
  {
   "cell_type": "code",
   "execution_count": null,
   "id": "fd6799fd-65f4-4e83-a9b6-be3d2986916c",
   "metadata": {
    "deletable": false,
    "nbgrader": {
     "cell_type": "code",
     "checksum": "84fd783c8174ccd494e7b7bd2892c529",
     "grade": true,
     "grade_id": "cell-3d12bf4413022121",
     "locked": false,
     "points": 0,
     "schema_version": 3,
     "solution": true,
     "task": false
    },
    "tags": []
   },
   "outputs": [],
   "source": [
    "..."
   ]
  },
  {
   "cell_type": "markdown",
   "id": "e89e6f8f-a3ca-4d4c-bf47-e916453b0cb8",
   "metadata": {
    "deletable": false,
    "editable": false,
    "nbgrader": {
     "cell_type": "markdown",
     "checksum": "82c075692771f6e2a18f511c235e0696",
     "grade": false,
     "grade_id": "cell-19976d3ea63897e7",
     "locked": true,
     "schema_version": 3,
     "solution": false,
     "task": false
    },
    "tags": []
   },
   "source": [
    "`(T)` Discuss sources of error. In which cases would you get appreciable errors due to discretization? In which cases due to numerical extinction?"
   ]
  },
  {
   "cell_type": "markdown",
   "id": "df22f0be-0857-4239-ae08-cd876627691b",
   "metadata": {
    "deletable": false,
    "nbgrader": {
     "cell_type": "markdown",
     "checksum": "792c72eb005faf197ac30273b2c49a25",
     "grade": true,
     "grade_id": "cell-ff98e2fcc60c2917",
     "locked": false,
     "points": 0,
     "schema_version": 3,
     "solution": true,
     "task": false
    },
    "tags": []
   },
   "source": [
    "..."
   ]
  }
 ],
 "metadata": {
  "kernelspec": {
   "display_name": "Python 3 (ipykernel)",
   "language": "python",
   "name": "python3"
  },
  "language_info": {
   "codemirror_mode": {
    "name": "ipython",
    "version": 3
   },
   "file_extension": ".py",
   "mimetype": "text/x-python",
   "name": "python",
   "nbconvert_exporter": "python",
   "pygments_lexer": "ipython3",
   "version": "3.10.11"
  }
 },
 "nbformat": 4,
 "nbformat_minor": 5
}
