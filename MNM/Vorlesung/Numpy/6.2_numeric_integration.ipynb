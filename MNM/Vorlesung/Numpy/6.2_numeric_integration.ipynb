{
 "cells": [
  {
   "attachments": {},
   "cell_type": "markdown",
   "id": "fa43964b-5f25-4132-9cff-1f8dd79d8533",
   "metadata": {
    "deletable": false,
    "editable": false,
    "nbgrader": {
     "cell_type": "markdown",
     "checksum": "8628b77bd2979ac02ce42f44c75eb5e7",
     "grade": false,
     "grade_id": "cell-43441083bfad677b",
     "locked": true,
     "schema_version": 3,
     "solution": false,
     "task": false
    },
    "tags": []
   },
   "source": [
    "# Numerical Integration"
   ]
  },
  {
   "cell_type": "code",
   "execution_count": 8,
   "id": "49c2ec4a-a119-4409-9b53-9c4e136e1d67",
   "metadata": {
    "tags": []
   },
   "outputs": [],
   "source": [
    "import matplotlib.pyplot as plt\n",
    "import numpy as np\n",
    "from numpy import typing\n",
    "import pathlib\n",
    "from IPython import display\n",
    "import typing as tp\n",
    "\n",
    "fig = pathlib.Path('fig')"
   ]
  },
  {
   "attachments": {},
   "cell_type": "markdown",
   "id": "6eccf45c-3612-4a7d-a726-a0f1f251d61b",
   "metadata": {
    "deletable": false,
    "editable": false,
    "nbgrader": {
     "cell_type": "markdown",
     "checksum": "c8ab6deb19478607a0d7fde81ea9ed3a",
     "grade": false,
     "grade_id": "cell-31cdddbf8c17e9ca",
     "locked": true,
     "schema_version": 3,
     "solution": false,
     "task": false
    }
   },
   "source": [
    "Key to exercises:\n",
    "* `(R)`: Reproduction. You can solve these without referring back to the lecture notebooks.\n",
    "* `(A)`: Application. Solving these may require looking up stuff in the lecture notebooks or online.\n",
    "* `(T)`: Transfer. These may require some thinking, or referring to the internet.\n",
    "* `(*)`: Especially difficult tasks. These might take some time even for experienced programmers."
   ]
  },
  {
   "attachments": {},
   "cell_type": "markdown",
   "id": "a165f241-e897-4e01-be0e-384a607a8433",
   "metadata": {
    "deletable": false,
    "editable": false,
    "nbgrader": {
     "cell_type": "markdown",
     "checksum": "4871918791e667d54a41dbb0d7095565",
     "grade": false,
     "grade_id": "cell-41935fecd388efdb",
     "locked": true,
     "schema_version": 3,
     "solution": false,
     "task": false
    },
    "tags": []
   },
   "source": [
    "## Problem Statement"
   ]
  },
  {
   "attachments": {},
   "cell_type": "markdown",
   "id": "74610b06-99c8-40f7-953b-e97240095201",
   "metadata": {
    "deletable": false,
    "editable": false,
    "nbgrader": {
     "cell_type": "markdown",
     "checksum": "42792ad3ff2d730f7baf77fc64024ff3",
     "grade": false,
     "grade_id": "cell-c3fb97085a37fab1",
     "locked": true,
     "schema_version": 3,
     "solution": false,
     "task": false
    },
    "tags": []
   },
   "source": [
    "### Analytic Integration"
   ]
  },
  {
   "attachments": {},
   "cell_type": "markdown",
   "id": "8e853bf1-9e55-40f1-b0ff-5419814d31c5",
   "metadata": {
    "deletable": false,
    "editable": false,
    "nbgrader": {
     "cell_type": "markdown",
     "checksum": "c4e55e77ca5e3700c74c2ba43379307d",
     "grade": false,
     "grade_id": "cell-8bb29b5ebd072b0b",
     "locked": true,
     "schema_version": 3,
     "solution": false,
     "task": false
    },
    "tags": []
   },
   "source": [
    "Recall the different symbols for the definite integral from $a$ to $b$ of a univariate real function $f$:\n",
    "\n",
    "$$\\displaystyle I_a^b f = \\int_a^b \\!\\!\\!\\mathrm{d}x~f(x) = F(b) - F(a)$$\n",
    "\n",
    "which is defined by way of the *antiderivative* $F$, which is a differentiable function on $[a, b]$ such that $F' = f$.\n",
    "\n",
    "If we know $f$, we *might* be able to find an analytical expression for $F$. "
   ]
  },
  {
   "attachments": {},
   "cell_type": "markdown",
   "id": "821fcf73-f9dc-44b1-96c2-cc72edf37f13",
   "metadata": {
    "deletable": false,
    "editable": false,
    "nbgrader": {
     "cell_type": "markdown",
     "checksum": "7747a1e811ea53f9a38f521e81981dcd",
     "grade": false,
     "grade_id": "cell-ac76b665737998ae",
     "locked": true,
     "schema_version": 3,
     "solution": false,
     "task": false
    },
    "tags": []
   },
   "source": [
    "### Numeric integration"
   ]
  },
  {
   "attachments": {},
   "cell_type": "markdown",
   "id": "b7fbfd7c-074f-4a32-a35e-c7bf0467f594",
   "metadata": {
    "deletable": false,
    "editable": false,
    "nbgrader": {
     "cell_type": "markdown",
     "checksum": "08e8b6046c771ece4d9ff0c071a288f5",
     "grade": false,
     "grade_id": "cell-5b35468d40373527",
     "locked": true,
     "schema_version": 3,
     "solution": false,
     "task": false
    },
    "tags": []
   },
   "source": [
    "Sometimes we don't have an analytical expression for $F$:"
   ]
  },
  {
   "attachments": {},
   "cell_type": "markdown",
   "id": "7433d105-3e62-4649-92a2-3cbdb6c90e25",
   "metadata": {
    "deletable": false,
    "nbgrader": {
     "cell_type": "markdown",
     "checksum": "aa06a9138b70f270f14f73ab93b8d3bb",
     "grade": true,
     "grade_id": "cell-020791c69e1b52d9",
     "locked": false,
     "points": 0,
     "schema_version": 3,
     "solution": true,
     "task": false
    },
    "tags": []
   },
   "source": [
    "* $f$ does not have an analytical antiderivative function $F$  \n",
    "* we only have sample points, and don't know the function  \n",
    "* $F$ is hard to find or calculate"
   ]
  },
  {
   "attachments": {},
   "cell_type": "markdown",
   "id": "6e9b6fab-a6fc-4d9c-a9f8-cb91c457b24b",
   "metadata": {
    "deletable": false,
    "editable": false,
    "nbgrader": {
     "cell_type": "markdown",
     "checksum": "4cf88fb48b449c8d11442eef6192ef1a",
     "grade": false,
     "grade_id": "cell-4441aba3a25fe681",
     "locked": true,
     "schema_version": 3,
     "solution": false,
     "task": false
    },
    "tags": []
   },
   "source": [
    "Then, we need to integrate *numerically*!"
   ]
  },
  {
   "attachments": {},
   "cell_type": "markdown",
   "id": "c2a93b3d-fc22-4993-a0d0-f78e7b3a08df",
   "metadata": {
    "deletable": false,
    "editable": false,
    "nbgrader": {
     "cell_type": "markdown",
     "checksum": "06300b118d40fdae6f04fcb928b23bf6",
     "grade": false,
     "grade_id": "cell-e35fbcd58b4c5a33",
     "locked": true,
     "schema_version": 3,
     "solution": false,
     "task": false
    },
    "tags": []
   },
   "source": [
    "## Methods for Integration"
   ]
  },
  {
   "cell_type": "code",
   "execution_count": 9,
   "id": "72299152-e47d-4831-89f2-f56434adeb8b",
   "metadata": {
    "deletable": false,
    "nbgrader": {
     "cell_type": "code",
     "checksum": "be2d3dc596bfcd14fea913a7f7c6535f",
     "grade": false,
     "grade_id": "cell-1f5848ea29345ce2",
     "locked": false,
     "schema_version": 3,
     "solution": true,
     "task": false
    },
    "tags": []
   },
   "outputs": [
    {
     "data": {
      "text/plain": [
       "Ellipsis"
      ]
     },
     "execution_count": 9,
     "metadata": {},
     "output_type": "execute_result"
    }
   ],
   "source": [
    "..."
   ]
  },
  {
   "cell_type": "code",
   "execution_count": 10,
   "id": "98615223-bab2-419d-8e0b-4212ae520078",
   "metadata": {
    "deletable": false,
    "nbgrader": {
     "cell_type": "code",
     "checksum": "05efe6869efd4a5d50ad0f2c07bf2b72",
     "grade": false,
     "grade_id": "cell-ce02d6104be16f72",
     "locked": false,
     "schema_version": 3,
     "solution": true,
     "task": false
    },
    "tags": []
   },
   "outputs": [
    {
     "data": {
      "text/plain": [
       "Ellipsis"
      ]
     },
     "execution_count": 10,
     "metadata": {},
     "output_type": "execute_result"
    }
   ],
   "source": [
    "..."
   ]
  },
  {
   "attachments": {},
   "cell_type": "markdown",
   "id": "f33bc5bd-6d91-4a8a-bcb4-85fca58a7604",
   "metadata": {
    "deletable": false,
    "editable": false,
    "nbgrader": {
     "cell_type": "markdown",
     "checksum": "41d9ba041f1e698eea96c5c6a376d492",
     "grade": false,
     "grade_id": "cell-f75c47b63d04ed72",
     "locked": true,
     "schema_version": 3,
     "solution": false,
     "task": false
    },
    "tags": []
   },
   "source": [
    "### Rectangle"
   ]
  },
  {
   "attachments": {},
   "cell_type": "markdown",
   "id": "19713cee-8daa-478e-b776-74634e01af92",
   "metadata": {
    "deletable": false,
    "editable": false,
    "nbgrader": {
     "cell_type": "markdown",
     "checksum": "17779a56da3ef81a73f923fbc5ba899c",
     "grade": false,
     "grade_id": "cell-cc3839bdffe4c74f",
     "locked": true,
     "schema_version": 3,
     "solution": false,
     "task": false
    },
    "tags": []
   },
   "source": [
    "Suppose we only know *one* function value, $f(a)$."
   ]
  },
  {
   "attachments": {},
   "cell_type": "markdown",
   "id": "9174c2ae-4fb9-4c6f-b452-e7c537b65bf7",
   "metadata": {
    "deletable": false,
    "nbgrader": {
     "cell_type": "markdown",
     "checksum": "76cf286cc5febace8c32888d27b2f2ce",
     "grade": true,
     "grade_id": "cell-cc3839bdffe4c74a",
     "locked": false,
     "points": 0,
     "schema_version": 3,
     "solution": true,
     "task": false
    },
    "tags": []
   },
   "source": [
    "* asssume the function is $constant$ on $[a,b]$\n",
    "* interpretation: the area under the curve becomes a rectangle"
   ]
  },
  {
   "attachments": {},
   "cell_type": "markdown",
   "id": "1130e9bf-9eed-401a-8a9f-fa85f8685129",
   "metadata": {
    "deletable": false,
    "editable": false,
    "nbgrader": {
     "cell_type": "markdown",
     "checksum": "88c76d41625f3c3d7437426074ecfba7",
     "grade": false,
     "grade_id": "cell-5d22bdfdec965aaf",
     "locked": true,
     "schema_version": 3,
     "solution": false,
     "task": false
    },
    "tags": []
   },
   "source": [
    "$$I_a^b f{}_\\text{rectangle} = f(a) \\cdot (b-a)$$"
   ]
  },
  {
   "cell_type": "code",
   "execution_count": 11,
   "id": "29f76c32-7737-4e28-9e13-8708a2c7417d",
   "metadata": {
    "deletable": false,
    "editable": false,
    "nbgrader": {
     "cell_type": "code",
     "checksum": "c2caec19a0da1b04c03595cf203bdb8a",
     "grade": false,
     "grade_id": "cell-11880fed8e366c26",
     "locked": true,
     "schema_version": 3,
     "solution": false,
     "task": false
    },
    "tags": []
   },
   "outputs": [
    {
     "ename": "FileNotFoundError",
     "evalue": "[Errno 2] No such file or directory: 'fig/int_rect_002.png'",
     "output_type": "error",
     "traceback": [
      "\u001b[0;31m---------------------------------------------------------------------------\u001b[0m",
      "\u001b[0;31mFileNotFoundError\u001b[0m                         Traceback (most recent call last)",
      "Cell \u001b[0;32mIn[11], line 1\u001b[0m\n\u001b[0;32m----> 1\u001b[0m display\u001b[39m.\u001b[39;49mImage(filename\u001b[39m=\u001b[39;49mfig \u001b[39m/\u001b[39;49m \u001b[39m'\u001b[39;49m\u001b[39mint_rect_002.png\u001b[39;49m\u001b[39m'\u001b[39;49m)\n",
      "File \u001b[0;32m~/.local/lib/python3.10/site-packages/IPython/core/display.py:970\u001b[0m, in \u001b[0;36mImage.__init__\u001b[0;34m(self, data, url, filename, format, embed, width, height, retina, unconfined, metadata, alt)\u001b[0m\n\u001b[1;32m    968\u001b[0m \u001b[39mself\u001b[39m\u001b[39m.\u001b[39munconfined \u001b[39m=\u001b[39m unconfined\n\u001b[1;32m    969\u001b[0m \u001b[39mself\u001b[39m\u001b[39m.\u001b[39malt \u001b[39m=\u001b[39m alt\n\u001b[0;32m--> 970\u001b[0m \u001b[39msuper\u001b[39;49m(Image, \u001b[39mself\u001b[39;49m)\u001b[39m.\u001b[39;49m\u001b[39m__init__\u001b[39;49m(data\u001b[39m=\u001b[39;49mdata, url\u001b[39m=\u001b[39;49murl, filename\u001b[39m=\u001b[39;49mfilename,\n\u001b[1;32m    971\u001b[0m         metadata\u001b[39m=\u001b[39;49mmetadata)\n\u001b[1;32m    973\u001b[0m \u001b[39mif\u001b[39;00m \u001b[39mself\u001b[39m\u001b[39m.\u001b[39mwidth \u001b[39mis\u001b[39;00m \u001b[39mNone\u001b[39;00m \u001b[39mand\u001b[39;00m \u001b[39mself\u001b[39m\u001b[39m.\u001b[39mmetadata\u001b[39m.\u001b[39mget(\u001b[39m'\u001b[39m\u001b[39mwidth\u001b[39m\u001b[39m'\u001b[39m, {}):\n\u001b[1;32m    974\u001b[0m     \u001b[39mself\u001b[39m\u001b[39m.\u001b[39mwidth \u001b[39m=\u001b[39m metadata[\u001b[39m'\u001b[39m\u001b[39mwidth\u001b[39m\u001b[39m'\u001b[39m]\n",
      "File \u001b[0;32m~/.local/lib/python3.10/site-packages/IPython/core/display.py:327\u001b[0m, in \u001b[0;36mDisplayObject.__init__\u001b[0;34m(self, data, url, filename, metadata)\u001b[0m\n\u001b[1;32m    324\u001b[0m \u001b[39melif\u001b[39;00m \u001b[39mself\u001b[39m\u001b[39m.\u001b[39mmetadata \u001b[39mis\u001b[39;00m \u001b[39mNone\u001b[39;00m:\n\u001b[1;32m    325\u001b[0m     \u001b[39mself\u001b[39m\u001b[39m.\u001b[39mmetadata \u001b[39m=\u001b[39m {}\n\u001b[0;32m--> 327\u001b[0m \u001b[39mself\u001b[39;49m\u001b[39m.\u001b[39;49mreload()\n\u001b[1;32m    328\u001b[0m \u001b[39mself\u001b[39m\u001b[39m.\u001b[39m_check_data()\n",
      "File \u001b[0;32m~/.local/lib/python3.10/site-packages/IPython/core/display.py:1005\u001b[0m, in \u001b[0;36mImage.reload\u001b[0;34m(self)\u001b[0m\n\u001b[1;32m   1003\u001b[0m \u001b[39m\u001b[39m\u001b[39m\"\"\"Reload the raw data from file or URL.\"\"\"\u001b[39;00m\n\u001b[1;32m   1004\u001b[0m \u001b[39mif\u001b[39;00m \u001b[39mself\u001b[39m\u001b[39m.\u001b[39membed:\n\u001b[0;32m-> 1005\u001b[0m     \u001b[39msuper\u001b[39;49m(Image,\u001b[39mself\u001b[39;49m)\u001b[39m.\u001b[39;49mreload()\n\u001b[1;32m   1006\u001b[0m     \u001b[39mif\u001b[39;00m \u001b[39mself\u001b[39m\u001b[39m.\u001b[39mretina:\n\u001b[1;32m   1007\u001b[0m         \u001b[39mself\u001b[39m\u001b[39m.\u001b[39m_retina_shape()\n",
      "File \u001b[0;32m~/.local/lib/python3.10/site-packages/IPython/core/display.py:353\u001b[0m, in \u001b[0;36mDisplayObject.reload\u001b[0;34m(self)\u001b[0m\n\u001b[1;32m    351\u001b[0m \u001b[39mif\u001b[39;00m \u001b[39mself\u001b[39m\u001b[39m.\u001b[39mfilename \u001b[39mis\u001b[39;00m \u001b[39mnot\u001b[39;00m \u001b[39mNone\u001b[39;00m:\n\u001b[1;32m    352\u001b[0m     encoding \u001b[39m=\u001b[39m \u001b[39mNone\u001b[39;00m \u001b[39mif\u001b[39;00m \u001b[39m\"\u001b[39m\u001b[39mb\u001b[39m\u001b[39m\"\u001b[39m \u001b[39min\u001b[39;00m \u001b[39mself\u001b[39m\u001b[39m.\u001b[39m_read_flags \u001b[39melse\u001b[39;00m \u001b[39m\"\u001b[39m\u001b[39mutf-8\u001b[39m\u001b[39m\"\u001b[39m\n\u001b[0;32m--> 353\u001b[0m     \u001b[39mwith\u001b[39;00m \u001b[39mopen\u001b[39;49m(\u001b[39mself\u001b[39;49m\u001b[39m.\u001b[39;49mfilename, \u001b[39mself\u001b[39;49m\u001b[39m.\u001b[39;49m_read_flags, encoding\u001b[39m=\u001b[39;49mencoding) \u001b[39mas\u001b[39;00m f:\n\u001b[1;32m    354\u001b[0m         \u001b[39mself\u001b[39m\u001b[39m.\u001b[39mdata \u001b[39m=\u001b[39m f\u001b[39m.\u001b[39mread()\n\u001b[1;32m    355\u001b[0m \u001b[39melif\u001b[39;00m \u001b[39mself\u001b[39m\u001b[39m.\u001b[39murl \u001b[39mis\u001b[39;00m \u001b[39mnot\u001b[39;00m \u001b[39mNone\u001b[39;00m:\n\u001b[1;32m    356\u001b[0m     \u001b[39m# Deferred import\u001b[39;00m\n",
      "\u001b[0;31mFileNotFoundError\u001b[0m: [Errno 2] No such file or directory: 'fig/int_rect_002.png'"
     ]
    }
   ],
   "source": [
    "display.Image(filename=fig / 'int_rect_002.png')"
   ]
  },
  {
   "attachments": {},
   "cell_type": "markdown",
   "id": "f546cc02-1dc6-4981-9961-acac084af9c3",
   "metadata": {
    "deletable": false,
    "editable": false,
    "nbgrader": {
     "cell_type": "markdown",
     "checksum": "75dbd6d713d9568a691a016257137cb2",
     "grade": false,
     "grade_id": "cell-aa8ca74e1c6ccedc",
     "locked": true,
     "schema_version": 3,
     "solution": false,
     "task": false
    }
   },
   "source": [
    "### Trapezoid"
   ]
  },
  {
   "attachments": {},
   "cell_type": "markdown",
   "id": "b476959b-58e8-4381-8314-14678bcc3245",
   "metadata": {
    "deletable": false,
    "editable": false,
    "nbgrader": {
     "cell_type": "markdown",
     "checksum": "b8ada0e1dc9639a8d13917e7d5b4224f",
     "grade": false,
     "grade_id": "cell-0060504b0d964593",
     "locked": true,
     "schema_version": 3,
     "solution": false,
     "task": false
    },
    "tags": []
   },
   "source": [
    "Suppose we know *two* function values, $f(a)$ and $f(b)$."
   ]
  },
  {
   "attachments": {},
   "cell_type": "markdown",
   "id": "95f106b2-c739-4409-8c76-c01a378d9d7f",
   "metadata": {
    "deletable": false,
    "nbgrader": {
     "cell_type": "markdown",
     "checksum": "f94585175d9f1f7117c1b944f0eaf0ee",
     "grade": true,
     "grade_id": "cell-0060504b0d964592",
     "locked": false,
     "points": 0,
     "schema_version": 3,
     "solution": true,
     "task": false
    },
    "tags": []
   },
   "source": [
    "* assume the function is *linear* on the interval\n",
    "* interpretation: area unter the curve becomes a trapezoid\n",
    "* multiply the lenght of the interval with the average of the two function values"
   ]
  },
  {
   "attachments": {},
   "cell_type": "markdown",
   "id": "fde0e2be-eb1b-44c3-b887-9a2648c48435",
   "metadata": {
    "deletable": false,
    "editable": false,
    "nbgrader": {
     "cell_type": "markdown",
     "checksum": "4af4458c6366787e2294ed4556722169",
     "grade": false,
     "grade_id": "cell-2dbdb6de328cd75b",
     "locked": true,
     "schema_version": 3,
     "solution": false,
     "task": false
    },
    "tags": []
   },
   "source": [
    "$$ I_a^b f{}_\\text{trapezoid} = \\frac{f(a) + f(b)}{2} (b-a)$$"
   ]
  },
  {
   "cell_type": "code",
   "execution_count": null,
   "id": "de2b4fb3-0dbd-4053-a74f-9e1ad6b58e7e",
   "metadata": {
    "deletable": false,
    "editable": false,
    "nbgrader": {
     "cell_type": "code",
     "checksum": "fd987fb485e5c69742f4399e643ea187",
     "grade": false,
     "grade_id": "cell-c7107e392eedc36e",
     "locked": true,
     "schema_version": 3,
     "solution": false,
     "task": false
    },
    "tags": []
   },
   "outputs": [],
   "source": [
    "display.Image(filename=fig / 'int_trapez_002.png')"
   ]
  },
  {
   "attachments": {},
   "cell_type": "markdown",
   "id": "dae5c0b6-e1dd-4964-8329-7d34e1c31ec4",
   "metadata": {
    "deletable": false,
    "editable": false,
    "nbgrader": {
     "cell_type": "markdown",
     "checksum": "84b0fd457366ed2b89243c4e3d837cfd",
     "grade": false,
     "grade_id": "cell-aa8ca74e1c6ccedd",
     "locked": true,
     "schema_version": 3,
     "solution": false,
     "task": false
    },
    "tags": []
   },
   "source": [
    "### Simpson"
   ]
  },
  {
   "attachments": {},
   "cell_type": "markdown",
   "id": "d5ba045e-2258-4fc9-afd8-f3998a0e11bb",
   "metadata": {
    "deletable": false,
    "editable": false,
    "nbgrader": {
     "cell_type": "markdown",
     "checksum": "b7c17b9a7fe6ab1153e2102f6dfc4aae",
     "grade": false,
     "grade_id": "cell-8ed5ad5e016023fa",
     "locked": true,
     "schema_version": 3,
     "solution": false,
     "task": false
    },
    "tags": []
   },
   "source": [
    "Suppose we know *three* function values at the start-, end-, and midpoint of the interval, $f(a)$, $f(b)$ and $f\\left(\\tfrac{a+b}{2}\\right)$."
   ]
  },
  {
   "attachments": {},
   "cell_type": "markdown",
   "id": "76abaa79-3a78-431e-87d2-9da01c4f1081",
   "metadata": {
    "deletable": false,
    "nbgrader": {
     "cell_type": "markdown",
     "checksum": "29e824a0bfd214fc950989201081cf80",
     "grade": true,
     "grade_id": "cell-8ed5ad5e016023fb",
     "locked": false,
     "points": 0,
     "schema_version": 3,
     "solution": true,
     "task": false
    },
    "tags": []
   },
   "source": [
    "* we can aproximate the function with the parable\n",
    "* with three points, the prabola is uniquely defined\n",
    "* we know how to integrate parabola\n",
    "* there is also a closed formula"
   ]
  },
  {
   "attachments": {},
   "cell_type": "markdown",
   "id": "a0331988-46a9-4e5c-9cab-cf268821337d",
   "metadata": {
    "deletable": false,
    "editable": false,
    "nbgrader": {
     "cell_type": "markdown",
     "checksum": "02cc04d8015b4194def54db3a0ab9c65",
     "grade": false,
     "grade_id": "cell-8113b8cf604be878",
     "locked": true,
     "schema_version": 3,
     "solution": false,
     "task": false
    },
    "tags": []
   },
   "source": [
    "Formally, we construct a quadratic polynomial $p(x) = r x^2 + s x + t$ such that $p(a) = f(a)$, $p(b) = f(b)$, and $p\\left(\\tfrac{a+b}{2}\\right) = f\\left(\\tfrac{a+b}{2}\\right)$. Analytical integration and simplification yields the following pleasant form:\n",
    "\n",
    "$$I_a^b f_\\text{Simpson} = I_a^b p = \\frac{b-a}{6} \\left(f(a) + 4 f\\left(\\tfrac{a+b}{2}\\right) + f(b)\\right)$$"
   ]
  },
  {
   "attachments": {},
   "cell_type": "markdown",
   "id": "3d27ff01-8b52-4d32-8ff5-b176fbd05d92",
   "metadata": {
    "deletable": false,
    "nbgrader": {
     "cell_type": "markdown",
     "checksum": "53862629043994a43eefaedfcbbbfe42",
     "grade": true,
     "grade_id": "cell-60bf7c5a94ccde8b",
     "locked": false,
     "points": 0,
     "schema_version": 3,
     "solution": true,
     "task": false
    },
    "tags": []
   },
   "source": [
    "* rule does not explicitly  contain polynomials \n",
    "* results after solving and simplifieing everything\n",
    "* interpretation: approximately weighted average of trapezoid rule (for endpoints) and rectangle rule (for midpoints)"
   ]
  },
  {
   "cell_type": "code",
   "execution_count": null,
   "id": "2b0a3f4f-2a5d-4b57-8985-221e26858e82",
   "metadata": {
    "deletable": false,
    "editable": false,
    "nbgrader": {
     "cell_type": "code",
     "checksum": "e928d2d235e9b4dbc866bb3046de674d",
     "grade": false,
     "grade_id": "cell-5a3f219af8e6c49b",
     "locked": true,
     "schema_version": 3,
     "solution": false,
     "task": false
    },
    "tags": []
   },
   "outputs": [],
   "source": [
    "display.Image(filename=fig / 'int_simpson_003.png')"
   ]
  },
  {
   "attachments": {},
   "cell_type": "markdown",
   "id": "98ee814e-6468-45d7-b2b1-5b77aa7edae6",
   "metadata": {
    "deletable": false,
    "editable": false,
    "nbgrader": {
     "cell_type": "markdown",
     "checksum": "d6929d1dc433f9d01434bee787046bac",
     "grade": false,
     "grade_id": "cell-1fc6fe499c3aa27e",
     "locked": true,
     "schema_version": 3,
     "solution": false,
     "task": false
    },
    "tags": []
   },
   "source": [
    "## Composite Rules"
   ]
  },
  {
   "attachments": {},
   "cell_type": "markdown",
   "id": "7286e5d9-0555-40cf-bf35-3f11b4ff2c54",
   "metadata": {
    "deletable": false,
    "editable": false,
    "nbgrader": {
     "cell_type": "markdown",
     "checksum": "0b6e2df80aa9758d71c10252d3c31c6e",
     "grade": false,
     "grade_id": "cell-f12b2e2e5336c4ed",
     "locked": true,
     "schema_version": 3,
     "solution": false,
     "task": false
    },
    "tags": []
   },
   "source": [
    "In practice, we can get way more than three sample points, say $n$ equidistant sample points. What options do we have?"
   ]
  },
  {
   "attachments": {},
   "cell_type": "markdown",
   "id": "2945d9e2-7e0a-43dd-9069-4447e53edfa0",
   "metadata": {
    "deletable": false,
    "nbgrader": {
     "cell_type": "markdown",
     "checksum": "b38408079a82853cbd2396479f8ec2b4",
     "grade": true,
     "grade_id": "cell-e0963ac9553faf93",
     "locked": false,
     "points": 0,
     "schema_version": 3,
     "solution": true,
     "task": false
    },
    "tags": []
   },
   "source": [
    "* intrpolate a polynomial of degree $n-1$ and integrate\n",
    "    * this is bad\n",
    "    * works only for polynomials\n",
    "    * \"overfitting\"\n",
    "* ignore data points and use only three\n",
    "    * throws away information\n",
    "    * bad idea\n",
    "* chop up into pieces and sum the integrals\n",
    "    * this is good\n",
    "    * assume functions are localy approximated by polynomials \n",
    "    * use rectangle / trapezoid / simpson's rule for each"
   ]
  },
  {
   "cell_type": "code",
   "execution_count": null,
   "id": "7833f376-3da6-4f79-ba0c-e667d1afe673",
   "metadata": {
    "deletable": false,
    "editable": false,
    "nbgrader": {
     "cell_type": "code",
     "checksum": "4ee3cccd0e8b0b812e5a8d78d2b9599c",
     "grade": false,
     "grade_id": "cell-f9a9d6e25a7b0799",
     "locked": true,
     "schema_version": 3,
     "solution": false,
     "task": false
    },
    "tags": []
   },
   "outputs": [
    {
     "data": {
      "text/html": [
       "<video controls  >\n",
       " <source src=\"data:video/mp4;base64,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\" type=\"video/mp4\">\n",
       " Your browser does not support the video tag.\n",
       " </video>"
      ],
      "text/plain": [
       "<IPython.core.display.Video object>"
      ]
     },
     "execution_count": 5,
     "metadata": {},
     "output_type": "execute_result"
    }
   ],
   "source": [
    "display.Video(filename=fig / 'animation.mp4', embed=True)"
   ]
  },
  {
   "attachments": {},
   "cell_type": "markdown",
   "id": "62e0cf00-9361-4ced-abcd-0fc8f62354b8",
   "metadata": {
    "deletable": false,
    "editable": false,
    "nbgrader": {
     "cell_type": "markdown",
     "checksum": "f6432acf787c977b74338c845a06621b",
     "grade": false,
     "grade_id": "cell-20b5461bf7a21f45",
     "locked": true,
     "schema_version": 3,
     "solution": false,
     "task": false
    },
    "tags": []
   },
   "source": [
    "### Composite Rectangle Rule"
   ]
  },
  {
   "attachments": {},
   "cell_type": "markdown",
   "id": "340e0e8c-f69b-4387-8db0-4bd901b4cc60",
   "metadata": {
    "deletable": false,
    "editable": false,
    "nbgrader": {
     "cell_type": "markdown",
     "checksum": "f711715405459caa6241f550b3e5b455",
     "grade": false,
     "grade_id": "cell-5bfce9f4bf7faf8a",
     "locked": true,
     "schema_version": 3,
     "solution": false,
     "task": false
    },
    "tags": []
   },
   "source": [
    "* $N$ sample points $x_i$ (with $0 \\le i \\lt N$) and associated function values $f(x_i)$\n",
    "* also know endpoint $x_N =b$\n",
    "* construct successive rectangles and sum the areas\n",
    "\n",
    "$$\\displaystyle \\operatorname{I}_a^b{}_\\text{rectangle}(x_i) = \\sum_{k=\n",
    "0}^{N-1}~~f(x_k) \\cdot (x_{k+1} - x_k)$$\n"
   ]
  },
  {
   "attachments": {},
   "cell_type": "markdown",
   "id": "8e4b1778-02e6-4937-90dd-90b6c685b34e",
   "metadata": {
    "deletable": false,
    "editable": false,
    "nbgrader": {
     "cell_type": "markdown",
     "checksum": "13b740f7fde8e9015e8bfaef5161ad3c",
     "grade": false,
     "grade_id": "cell-c6fa1cc3c4cf7dc4",
     "locked": true,
     "schema_version": 3,
     "solution": false,
     "task": false
    },
    "tags": []
   },
   "source": [
    "### Composite Trapezoid Rule"
   ]
  },
  {
   "attachments": {},
   "cell_type": "markdown",
   "id": "da45fa66-e59e-42a5-ad32-ad7146dc1efc",
   "metadata": {
    "deletable": false,
    "editable": false,
    "nbgrader": {
     "cell_type": "markdown",
     "checksum": "026899726ef473d6ca3096179d0f6f71",
     "grade": false,
     "grade_id": "cell-1a08c2443d5fd53f",
     "locked": true,
     "schema_version": 3,
     "solution": false,
     "task": false
    },
    "tags": []
   },
   "source": [
    "* $N+1$ sample points $x_i$ (with $0 \\le i \\le N$) and associated function values $f(x_i)$\n",
    "* construct successive trapezoids and sum the areas\n",
    "\n",
    "$$\\displaystyle \\operatorname{I}_a^b{}_\\text{trapezoid}(x_i) = \\sum_{k=0}^{N-1}~~\\dfrac{f(x_{k}) + f(x_{k+1})}{2}~(x_{k+1} - x_{k})$$\n"
   ]
  },
  {
   "attachments": {},
   "cell_type": "markdown",
   "id": "6a52c827-fc2d-4a6a-9631-5ccef9fadaa5",
   "metadata": {
    "deletable": false,
    "editable": false,
    "nbgrader": {
     "cell_type": "markdown",
     "checksum": "9f48ce6e3a083b8da9390c040a878086",
     "grade": false,
     "grade_id": "cell-296ea63c9b8bc856",
     "locked": true,
     "schema_version": 3,
     "solution": false,
     "task": false
    },
    "tags": []
   },
   "source": [
    "### Composite Simpson's Rule\n",
    "* $N = 2M+1 \\ge 3$ sample points $x_i$ (with $0 \\le i \\lt n$) and associated function values $f(x_k)$\n",
    "* $M$ intervals of 3 points each\n",
    "* additional constraint: $x_{2m+1} = \\dfrac{x_{2m} + x_{2m+2}}{2}$ (each interval must have a *midpoint*)\n",
    "* use successive paraboloids and sum the areas:\n",
    "\n",
    "$$\\displaystyle \\operatorname{I}_a^b{}_\\text{simpson}(x_i) = \\sum_{i=0}^{M-1}~~\\frac{f(x_{2i}) + 4 f(x_{2i + 1}) + f(x_{2i+2})}{6} (x_{2i+2} - x_{2i})$$"
   ]
  },
  {
   "attachments": {},
   "cell_type": "markdown",
   "id": "4506f278-74f9-4bf3-9fd0-edc59a9effb5",
   "metadata": {
    "deletable": false,
    "editable": false,
    "nbgrader": {
     "cell_type": "markdown",
     "checksum": "336efb3e4fa0baba2692e33f2e4b6c5b",
     "grade": false,
     "grade_id": "cell-78e6c5c3d5a0aa14",
     "locked": true,
     "schema_version": 3,
     "solution": false,
     "task": false
    }
   },
   "source": [
    "### Other rules"
   ]
  },
  {
   "attachments": {},
   "cell_type": "markdown",
   "id": "d80ad755-c266-440c-a5f5-d8f9fcb05c3c",
   "metadata": {
    "deletable": false,
    "editable": false,
    "nbgrader": {
     "cell_type": "markdown",
     "checksum": "c6b4b76261507bbf52a159c7e927af58",
     "grade": false,
     "grade_id": "cell-cdfa2094c3f2626f",
     "locked": true,
     "schema_version": 3,
     "solution": false,
     "task": false
    }
   },
   "source": [
    "For specialized purposes, other integration rules exist. These might use different functions for interpolation, different intermediary points, or make different assumptions about the integrands:\n",
    "* Gauss-Legendre quadrature\n",
    "    - non-equidistant sample points\n",
    "    - optimal precision for polynomials\n",
    "- Romberg integration\n",
    "    - extrapolation from a series of trapezoids with smaller step size\n",
    "- Gauss-Kronrod quadrature\n",
    "    - adaptive to function values\n",
    "    - successive steps choose additional node positions\n",
    "- tanh-sinh-quadrature\n",
    "- used in solid-state physics research: \"Gauß-Fermi quadrature\""
   ]
  },
  {
   "attachments": {},
   "cell_type": "markdown",
   "id": "f9af0599-67f6-4e9f-bcb5-8c67c1246e68",
   "metadata": {
    "deletable": false,
    "editable": false,
    "nbgrader": {
     "cell_type": "markdown",
     "checksum": "f1495197c965e443de706e5caa13aed6",
     "grade": false,
     "grade_id": "cell-74f9ecfaa478ea28",
     "locked": true,
     "schema_version": 3,
     "solution": false,
     "task": false
    }
   },
   "source": [
    "## Exercises"
   ]
  },
  {
   "attachments": {},
   "cell_type": "markdown",
   "id": "ebf2aba5-ac78-48d8-ab94-af07679f925c",
   "metadata": {
    "deletable": false,
    "editable": false,
    "nbgrader": {
     "cell_type": "markdown",
     "checksum": "4bad7050155c078160ce3aafa3178d95",
     "grade": false,
     "grade_id": "cell-4bdef5e4d66d3dad",
     "locked": true,
     "schema_version": 3,
     "solution": false,
     "task": false
    },
    "tags": []
   },
   "source": [
    "We now know of three *composite rules* rules: the *composite rectangle rule*, *trapezoid rule* and *Simpson's rule*. We will now implement these rules in Python, using `numpy` for speed and precision. Functions should conform to this function signature:\n",
    "```python\n",
    "integrate(y: np.ndarray, x: Optional[np.ndarray] = None) -> np.number\n",
    "```\n",
    "\n",
    "Assume you're given an array `y` of function values $f(x_k)$, sampled at an array `x` of sample points $x_k$ (by default a range of consecutive integers). For testing, we use $f(x) = \\sin(x)$ in the intervall $[0,\\pi]$."
   ]
  },
  {
   "attachments": {},
   "cell_type": "markdown",
   "id": "d5fc3fa9-ff47-42a1-9d93-8fc6c0a3ff9f",
   "metadata": {
    "deletable": false,
    "editable": false,
    "nbgrader": {
     "cell_type": "markdown",
     "checksum": "a3a89ec99d4f9e72e07980b6f2c69e0e",
     "grade": false,
     "grade_id": "cell-4bdef5e4d66d3dac",
     "locked": true,
     "schema_version": 3,
     "solution": false,
     "task": false
    },
    "tags": []
   },
   "source": [
    "`(R)` What is the *analytical value* of this integral?"
   ]
  },
  {
   "attachments": {},
   "cell_type": "markdown",
   "id": "adce53c7-d619-4877-bab1-4d55f10671ae",
   "metadata": {
    "deletable": false,
    "nbgrader": {
     "cell_type": "markdown",
     "checksum": "4a7ce25168d134201608bf726430ce1f",
     "grade": true,
     "grade_id": "cell-8b7cdb98754ab75a",
     "locked": false,
     "points": 0,
     "schema_version": 3,
     "solution": true,
     "task": false
    },
    "tags": []
   },
   "source": [
    "$2$\n"
   ]
  },
  {
   "attachments": {},
   "cell_type": "markdown",
   "id": "4c158986-ecab-4144-adff-14862fd320e4",
   "metadata": {
    "deletable": false,
    "editable": false,
    "nbgrader": {
     "cell_type": "markdown",
     "checksum": "3d79d9247109dc7ff969a7ffc1b10665",
     "grade": false,
     "grade_id": "cell-4bdef5e4d66d3dae",
     "locked": true,
     "schema_version": 3,
     "solution": false,
     "task": false
    }
   },
   "source": [
    "`(A)` Implement the composite rectangle rule as a function named `rectangle`."
   ]
  },
  {
   "cell_type": "code",
   "execution_count": 35,
   "id": "05b3963f-e9dd-4374-99e8-63ea91cfbc6d",
   "metadata": {
    "deletable": false,
    "nbgrader": {
     "cell_type": "code",
     "checksum": "45070d2a584d30fed04e9d6920b01b04",
     "grade": true,
     "grade_id": "cell-4eb3ccaca3be3331",
     "locked": false,
     "points": 0,
     "schema_version": 3,
     "solution": true,
     "task": false
    },
    "tags": []
   },
   "outputs": [
    {
     "data": {
      "text/plain": [
       "1.9796508112164835"
      ]
     },
     "execution_count": 35,
     "metadata": {},
     "output_type": "execute_result"
    }
   ],
   "source": [
    "def rectangle(y: np.ndarray, x: tp.Optional[np.ndarray] = None) -> np.number:\n",
    "    \"\"\"Numerical integration using the rectangle method.\n",
    "\n",
    "    Parameters\n",
    "    ----------\n",
    "    y : np.ndarray\n",
    "        Function values.\n",
    "    x : np.ndarray, optional\n",
    "        x values, by default None\n",
    "\n",
    "    Returns\n",
    "    -------\n",
    "    np.number\n",
    "        Integral value.\n",
    "    \"\"\"\n",
    "    if x is None:\n",
    "        x = np.arange(len(y))\n",
    "    return np.sum(y[:-1] * np.diff(x))\n",
    "\n",
    "rectangle(np.sin(np.linspace(0, np.pi, 10)), np.linspace(0, np.pi, 10))"
   ]
  },
  {
   "attachments": {},
   "cell_type": "markdown",
   "id": "18d171b1-c3cd-4e53-997c-1dc3efeaa6da",
   "metadata": {
    "deletable": false,
    "editable": false,
    "nbgrader": {
     "cell_type": "markdown",
     "checksum": "574bb03e95323d16cbc746bd195a9769",
     "grade": false,
     "grade_id": "cell-7d9ee98b5ee3dedd",
     "locked": true,
     "schema_version": 3,
     "solution": false,
     "task": false
    },
    "tags": []
   },
   "source": [
    "`(A)` Implement the composite trapezoid rule as a function named `trapezoid`."
   ]
  },
  {
   "cell_type": "code",
   "execution_count": 34,
   "id": "1f008a32",
   "metadata": {
    "deletable": false,
    "nbgrader": {
     "cell_type": "code",
     "checksum": "054ee0ccd0859b59cc96e92e2dabbf24",
     "grade": true,
     "grade_id": "cell-2cec2661c9f16a11",
     "locked": false,
     "points": 0,
     "schema_version": 3,
     "solution": true,
     "task": false
    },
    "tags": []
   },
   "outputs": [
    {
     "data": {
      "text/plain": [
       "1.9796508112164835"
      ]
     },
     "execution_count": 34,
     "metadata": {},
     "output_type": "execute_result"
    }
   ],
   "source": [
    "def trapezoid(y: np.ndarray, x: tp.Optional[np.ndarray] = None) -> np.number:\n",
    "    \"\"\"Numerical integration using the trapezoid method.\n",
    "\n",
    "    Parameters\n",
    "    ----------\n",
    "    y : np.ndarray\n",
    "        Function values.\n",
    "    x : np.ndarray, optional\n",
    "        x values, by default None\n",
    "\n",
    "    Returns\n",
    "    -------\n",
    "    np.number\n",
    "        Integral value.\n",
    "    \"\"\"\n",
    "    if x is None:\n",
    "        x = np.arange(len(y))\n",
    "    return np.sum((y[:-1] + y[1:]) / 2 * np.diff(x))\n",
    "\n",
    "rectangle(np.array(np.sin(np.linspace(0, np.pi, 10))), np.linspace(0, np.pi, 10))"
   ]
  },
  {
   "attachments": {},
   "cell_type": "markdown",
   "id": "96e48e27-b140-4bf5-afe6-75ef9ffdc13f",
   "metadata": {
    "deletable": false,
    "editable": false,
    "nbgrader": {
     "cell_type": "markdown",
     "checksum": "5bbfd9c29790093785989787de91caa3",
     "grade": false,
     "grade_id": "cell-f18dcd274fed7146",
     "locked": true,
     "schema_version": 3,
     "solution": false,
     "task": false
    },
    "tags": []
   },
   "source": [
    "`(A)` Implement the composite Simpson's rule as a function named `simpson`."
   ]
  },
  {
   "cell_type": "code",
   "execution_count": 33,
   "id": "ec57fa2d",
   "metadata": {
    "deletable": false,
    "nbgrader": {
     "cell_type": "code",
     "checksum": "2cf36c6088f3282cacb9773ec3654822",
     "grade": true,
     "grade_id": "cell-fe02d65de0f56b6e",
     "locked": false,
     "points": 0,
     "schema_version": 3,
     "solution": true,
     "task": false
    },
    "tags": []
   },
   "outputs": [
    {
     "data": {
      "text/plain": [
       "1.9398549604886446"
      ]
     },
     "execution_count": 33,
     "metadata": {},
     "output_type": "execute_result"
    }
   ],
   "source": [
    "def simpson(y: np.ndarray, x: tp.Optional[np.ndarray] = None) -> np.number:\n",
    "    \"\"\"Numerical integration using the Simpson method.\n",
    "\n",
    "    Parameters\n",
    "    ----------\n",
    "    y : np.ndarray\n",
    "        Function values.\n",
    "    x : np.ndarray, optional\n",
    "        x values, by default None\n",
    "\n",
    "    Returns\n",
    "    -------\n",
    "    np.number\n",
    "        Integral value.\n",
    "    \"\"\"\n",
    "    if x is None:\n",
    "        x = np.arange(len(y))\n",
    "    return np.sum((y[:-2] + 4 * y[1:-1] + y[2:]) / 6 * np.diff(x[:-1]))\n",
    "\n",
    "simpson(np.array(np.sin(np.linspace(0, np.pi, 10))), np.linspace(0, np.pi, 10))"
   ]
  },
  {
   "attachments": {},
   "cell_type": "markdown",
   "id": "054d3371",
   "metadata": {
    "deletable": false,
    "editable": false,
    "nbgrader": {
     "cell_type": "markdown",
     "checksum": "31ee547c75d3e8a26d6e28e21577fbfe",
     "grade": false,
     "grade_id": "cell-8016bfcdca685f9a",
     "locked": true,
     "schema_version": 3,
     "solution": false,
     "task": false
    }
   },
   "source": [
    "`(A)` Generate at least 11 sample points and compare the results to the known analytical value."
   ]
  },
  {
   "cell_type": "code",
   "execution_count": null,
   "id": "1069f356-f16e-452c-a037-75bbc7a3a9c4",
   "metadata": {
    "deletable": false,
    "nbgrader": {
     "cell_type": "code",
     "checksum": "16ac5c087b2ba40d65be9b2584090765",
     "grade": true,
     "grade_id": "cell-a2c4275e4ced5f1d",
     "locked": false,
     "points": 0,
     "schema_version": 3,
     "solution": true,
     "task": false
    },
    "tags": []
   },
   "outputs": [],
   "source": [
    "..."
   ]
  },
  {
   "attachments": {},
   "cell_type": "markdown",
   "id": "65006df1-0e06-4c70-93c3-f48fe1c4eeb9",
   "metadata": {
    "deletable": false,
    "editable": false,
    "nbgrader": {
     "cell_type": "markdown",
     "checksum": "7e1381cbfc474a1e3ca48dce26ace26d",
     "grade": false,
     "grade_id": "cell-fd9ac3e0c004ebf2",
     "locked": true,
     "schema_version": 3,
     "solution": false,
     "task": false
    },
    "tags": []
   },
   "source": [
    "`(T)` For different numbers of sample points, calculate the numerical error of your methods as well as the `scipy.integrate` implementations `integrate.trapezoid` and `integrate.simpson` and plot the result."
   ]
  },
  {
   "cell_type": "code",
   "execution_count": null,
   "id": "fd6799fd-65f4-4e83-a9b6-be3d2986916c",
   "metadata": {
    "deletable": false,
    "nbgrader": {
     "cell_type": "code",
     "checksum": "84fd783c8174ccd494e7b7bd2892c529",
     "grade": true,
     "grade_id": "cell-3d12bf4413022121",
     "locked": false,
     "points": 0,
     "schema_version": 3,
     "solution": true,
     "task": false
    },
    "tags": []
   },
   "outputs": [],
   "source": [
    "..."
   ]
  },
  {
   "attachments": {},
   "cell_type": "markdown",
   "id": "e89e6f8f-a3ca-4d4c-bf47-e916453b0cb8",
   "metadata": {
    "deletable": false,
    "editable": false,
    "nbgrader": {
     "cell_type": "markdown",
     "checksum": "82c075692771f6e2a18f511c235e0696",
     "grade": false,
     "grade_id": "cell-19976d3ea63897e7",
     "locked": true,
     "schema_version": 3,
     "solution": false,
     "task": false
    },
    "tags": []
   },
   "source": [
    "`(T)` Discuss sources of error. In which cases would you get appreciable errors due to discretization? In which cases due to numerical extinction?"
   ]
  },
  {
   "attachments": {},
   "cell_type": "markdown",
   "id": "df22f0be-0857-4239-ae08-cd876627691b",
   "metadata": {
    "deletable": false,
    "nbgrader": {
     "cell_type": "markdown",
     "checksum": "792c72eb005faf197ac30273b2c49a25",
     "grade": true,
     "grade_id": "cell-ff98e2fcc60c2917",
     "locked": false,
     "points": 0,
     "schema_version": 3,
     "solution": true,
     "task": false
    },
    "tags": []
   },
   "source": [
    "..."
   ]
  }
 ],
 "metadata": {
  "kernelspec": {
   "display_name": "Python 3 (ipykernel)",
   "language": "python",
   "name": "python3"
  },
  "language_info": {
   "codemirror_mode": {
    "name": "ipython",
    "version": 3
   },
   "file_extension": ".py",
   "mimetype": "text/x-python",
   "name": "python",
   "nbconvert_exporter": "python",
   "pygments_lexer": "ipython3",
   "version": "3.10.10"
  }
 },
 "nbformat": 4,
 "nbformat_minor": 5
}
