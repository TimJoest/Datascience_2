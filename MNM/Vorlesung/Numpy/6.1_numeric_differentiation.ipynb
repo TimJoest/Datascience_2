{
 "cells": [
  {
   "attachments": {},
   "cell_type": "markdown",
   "id": "3f8f0035-82f7-4bfd-a006-2c785a73757c",
   "metadata": {
    "deletable": false,
    "editable": false,
    "nbgrader": {
     "cell_type": "markdown",
     "checksum": "f0d6cf6610351802cc02e052915816fd",
     "grade": false,
     "grade_id": "cell-93ad59e2ff7c2eb3",
     "locked": true,
     "schema_version": 3,
     "solution": false,
     "task": false
    },
    "tags": []
   },
   "source": [
    "# Numeric Differentiation"
   ]
  },
  {
   "cell_type": "code",
   "execution_count": 187,
   "id": "7c19a104-26ea-4616-a7d2-8c8d063eafd7",
   "metadata": {
    "tags": []
   },
   "outputs": [],
   "source": [
    "import matplotlib.pyplot as plt\n",
    "import numpy as np\n",
    "from numpy import typing\n",
    "import pandas as pd"
   ]
  },
  {
   "attachments": {},
   "cell_type": "markdown",
   "id": "61c3aa4b-2b87-4f9b-b1a6-79ddd5e3f311",
   "metadata": {
    "deletable": false,
    "editable": false,
    "nbgrader": {
     "cell_type": "markdown",
     "checksum": "c8ab6deb19478607a0d7fde81ea9ed3a",
     "grade": false,
     "grade_id": "cell-31cdddbf8c17e9ca",
     "locked": true,
     "schema_version": 3,
     "solution": false,
     "task": false
    }
   },
   "source": [
    "Key to exercises:\n",
    "* `(R)`: Reproduction. You can solve these without referring back to the lecture notebooks.\n",
    "* `(A)`: Application. Solving these may require looking up stuff in the lecture notebooks or online.\n",
    "* `(T)`: Transfer. These may require some thinking, or referring to the internet.\n",
    "* `(*)`: Especially difficult tasks. These might take some time even for experienced programmers."
   ]
  },
  {
   "attachments": {},
   "cell_type": "markdown",
   "id": "37700e95-89ca-4e6c-b060-38d779706285",
   "metadata": {
    "deletable": false,
    "editable": false,
    "nbgrader": {
     "cell_type": "markdown",
     "checksum": "30e715033e87d013636f29f6fb3ddca5",
     "grade": false,
     "grade_id": "cell-513337ca3a67162d",
     "locked": true,
     "schema_version": 3,
     "solution": false,
     "task": false
    },
    "tags": []
   },
   "source": [
    "## Problem Statement"
   ]
  },
  {
   "attachments": {},
   "cell_type": "markdown",
   "id": "69e01658-ebe2-4f78-a195-547c3716414c",
   "metadata": {
    "deletable": false,
    "editable": false,
    "nbgrader": {
     "cell_type": "markdown",
     "checksum": "b428b2c419060403ef159c02381bfd44",
     "grade": false,
     "grade_id": "cell-678cc6cae75db23f",
     "locked": true,
     "schema_version": 3,
     "solution": false,
     "task": false
    },
    "tags": []
   },
   "source": [
    "Suppose you have an unknown function you need to differentiate. Examples include:\n",
    "* measurement data\n",
    "* simulated processes\n",
    "* algorithms\n",
    "* neural networks\n",
    "\n",
    "How do we calculate the derivative *numerically*, that is, simply from data samples?\n",
    "* which step size do we use to sample the data?\n",
    "* which errors can we expect?\n",
    "* how do we minimize errors?"
   ]
  },
  {
   "attachments": {},
   "cell_type": "markdown",
   "id": "f0b4e090-eb3b-4a0d-968c-5c13fec94ccb",
   "metadata": {
    "deletable": false,
    "editable": false,
    "nbgrader": {
     "cell_type": "markdown",
     "checksum": "03066a508b6decdf6b18b76ff2aa1f88",
     "grade": false,
     "grade_id": "cell-d10b59162e010a02",
     "locked": true,
     "schema_version": 3,
     "solution": false,
     "task": false
    },
    "tags": []
   },
   "source": [
    "### Derivatives"
   ]
  },
  {
   "attachments": {},
   "cell_type": "markdown",
   "id": "5ab41818-2e91-411e-b1cc-4a56f63a3fdf",
   "metadata": {
    "deletable": false,
    "editable": false,
    "nbgrader": {
     "cell_type": "markdown",
     "checksum": "f141d50006a6e995dd367e93a0640c69",
     "grade": false,
     "grade_id": "cell-eb74e92d56ef93e8",
     "locked": true,
     "schema_version": 3,
     "solution": false,
     "task": false
    },
    "tags": []
   },
   "source": [
    "Recall the different symbols for the first derivative:\n",
    "$$\\frac{\\mathrm{d}}{\\mathrm{d}x}~f(x)= f'(x) = f^{(1)}(x)$$\n",
    "\n",
    "And for the $n$-th derivative:\n",
    "$$\\frac{\\mathrm{d}^n}{\\mathrm{d}x^n}~f(x)= f^{\\overbrace{'\\,'\\dots'}^{n~\\text{times}}}(x) = f^{(n)}(x)$$\n",
    "\n",
    "As well as the definition of the first derivative:\n",
    "$$\\frac{\\mathrm{d}}{\\mathrm{d}x}~f(x) := \\lim_{h\\rightarrow 0} \\frac{f(x+h) - f(x)}{h}$$"
   ]
  },
  {
   "attachments": {},
   "cell_type": "markdown",
   "id": "cbda1f8c-08c4-4dc7-86da-235969c38894",
   "metadata": {
    "deletable": false,
    "editable": false,
    "nbgrader": {
     "cell_type": "markdown",
     "checksum": "ae4ddf87f262f206200867b8016def79",
     "grade": false,
     "grade_id": "cell-aaa00aab0b52a648",
     "locked": true,
     "schema_version": 3,
     "solution": false,
     "task": false
    },
    "tags": []
   },
   "source": [
    "## One-Directional Finite Differences"
   ]
  },
  {
   "attachments": {},
   "cell_type": "markdown",
   "id": "3febe731-dd09-4a3a-b6fd-772b450e91e9",
   "metadata": {
    "deletable": false,
    "editable": false,
    "nbgrader": {
     "cell_type": "markdown",
     "checksum": "69a07be369df9133458a41773bc6ddbd",
     "grade": false,
     "grade_id": "cell-6b7f20b16e396d65",
     "locked": true,
     "schema_version": 3,
     "solution": false,
     "task": false
    },
    "tags": []
   },
   "source": [
    "We can apply the formula from above to calculate the *forward finite differences* (ffd) or, equivalently, the *backward finite differences* (bfd) of the data points:\n",
    "\n",
    "$$\\operatorname{df}_{h, \\text{ffd}}(x_0) = \\frac{f(x_0 + h) - f(x_0)}{h};~~~~~~~~\\operatorname{df}_{h, \\text{bfd}}(x_0) = \\frac{f(x_0) - f(x_0 - h)}{h};$$"
   ]
  },
  {
   "attachments": {},
   "cell_type": "markdown",
   "id": "9ca491fe-d094-4974-9eab-38feb4235a08",
   "metadata": {
    "deletable": false,
    "editable": false,
    "nbgrader": {
     "cell_type": "markdown",
     "checksum": "d63fb72a435d7609cd14ae264e788010",
     "grade": false,
     "grade_id": "cell-95731799ed684d89",
     "locked": true,
     "schema_version": 3,
     "solution": false,
     "task": false
    },
    "tags": []
   },
   "source": [
    "### Example: The \"erf\" function"
   ]
  },
  {
   "attachments": {},
   "cell_type": "markdown",
   "id": "9c9d03a6-1d90-419d-a760-6d3b4b9e01d5",
   "metadata": {
    "deletable": false,
    "editable": false,
    "nbgrader": {
     "cell_type": "markdown",
     "checksum": "18b0d3ed46cdfda5f9694fd2a7654884",
     "grade": false,
     "grade_id": "cell-4a16e211d08af175",
     "locked": true,
     "schema_version": 3,
     "solution": false,
     "task": false
    },
    "tags": []
   },
   "source": [
    "As a concrete example and \"test bed\", let's choose the \"erf\" function `np.math.erf` (borrowed from `math.erf`):\n",
    "* has no analytical expression\n",
    "* analytical derivative is known\n",
    "* can easily sample and plot"
   ]
  },
  {
   "cell_type": "code",
   "execution_count": 188,
   "id": "eb01fafd-a554-4ada-b509-4e82ed98fa91",
   "metadata": {
    "deletable": false,
    "nbgrader": {
     "cell_type": "code",
     "checksum": "067b7b1b123ef6a47e2f1f9af20885df",
     "grade": true,
     "grade_id": "cell-d06f033b5d4f4daa",
     "locked": false,
     "points": 0,
     "schema_version": 3,
     "solution": true,
     "task": false
    },
    "tags": []
   },
   "outputs": [],
   "source": [
    "erf_sample = pd.DataFrame({'x': np.linspace(-2, 2, 40)})\n",
    "\n",
    "erf_sample['erf'] = erf_sample['x'].apply(np.math.erf)"
   ]
  },
  {
   "cell_type": "code",
   "execution_count": 189,
   "id": "b5b23ec3-7a30-42d4-9015-f40c9a35f98d",
   "metadata": {
    "deletable": false,
    "nbgrader": {
     "cell_type": "code",
     "checksum": "8d0eb335f4062b239ebede321ae5ffb0",
     "grade": true,
     "grade_id": "cell-77317dcd9046c1fc",
     "locked": false,
     "points": 0,
     "schema_version": 3,
     "solution": true,
     "task": false
    },
    "tags": []
   },
   "outputs": [
    {
     "data": {
      "text/plain": [
       "<Axes: xlabel='x', ylabel='erf'>"
      ]
     },
     "execution_count": 189,
     "metadata": {},
     "output_type": "execute_result"
    },
    {
     "data": {
      "image/png": "[encoded data removed]",
      "text/plain": [
       "<Figure size 640x480 with 1 Axes>"
      ]
     },
     "metadata": {},
     "output_type": "display_data"
    }
   ],
   "source": [
    "erf_sample.plot.scatter(x='x', y='erf')"
   ]
  },
  {
   "attachments": {},
   "cell_type": "markdown",
   "id": "9e968b18-350a-4a10-93bb-7969b07dea73",
   "metadata": {
    "deletable": false,
    "editable": false,
    "nbgrader": {
     "cell_type": "markdown",
     "checksum": "417ad86ae6cf35e6e28f3855f32b441c",
     "grade": false,
     "grade_id": "cell-1bf7393c65fb213a",
     "locked": true,
     "schema_version": 3,
     "solution": false,
     "task": false
    },
    "tags": []
   },
   "source": [
    "### Exercises\n",
    "* `(R)` Calculate the finite forward and backward differences of the data points and save them to the columns `ffd` and `fbd` of the DataFrame. Plot the results into a single graphic.\n",
    "* `(A)` What might the *analytical* derivative be? Plot your guess into the same graphic as above.\n",
    "* `(A)` Compare your results. What do you find?\n",
    "* `(T)` What happens if you take a new sample with smaller or larger step size `h`?\n",
    "* `(T)` For different step sizes, compare the mean absolute error vs. the exact value. What do you find?"
   ]
  },
  {
   "cell_type": "code",
   "execution_count": 190,
   "id": "57d4e265-bcb0-4eac-b56d-8cf5cca17f52",
   "metadata": {
    "deletable": false,
    "nbgrader": {
     "cell_type": "code",
     "checksum": "6a33fd54cb84892c08b200aafe2f4026",
     "grade": true,
     "grade_id": "cell-43b4c30f196282c4",
     "locked": false,
     "points": 0,
     "schema_version": 3,
     "solution": true,
     "task": false
    },
    "tags": []
   },
   "outputs": [
    {
     "data": {
      "text/plain": [
       "<matplotlib.legend.Legend at 0x7ff65308bd60>"
      ]
     },
     "execution_count": 190,
     "metadata": {},
     "output_type": "execute_result"
    },
    {
     "data": {
      "image/png": "[encoded data removed]",
      "text/plain": [
       "<Figure size 640x480 with 1 Axes>"
      ]
     },
     "metadata": {},
     "output_type": "display_data"
    }
   ],
   "source": [
    "erf_sample['bdd'] = erf_sample['erf'].diff() / erf_sample['x'].diff()\n",
    "erf_sample['ffd'] = erf_sample['erf'].diff(periods=-1) / erf_sample['x'].diff(periods=-1)\n",
    "\n",
    "erf_sample['gauss'] = np.exp(-erf_sample['x']**2) * 2 / np.sqrt(np.pi)\n",
    "\n",
    "axes = plt.axes()\n",
    "erf_sample.plot(x='x', y='bdd', ax=axes, label='backward difference', color='orange')\n",
    "erf_sample.plot(x='x', y='ffd', ax=axes, label='forward difference', color='lightgreen')\n",
    "erf_sample.plot(x='x', y='erf', ax=axes, label='erf', color='lightblue')\n",
    "erf_sample.plot(x='x', y='gauss', ax=axes, label='gauss', color='red')\n",
    "axes.legend()"
   ]
  },
  {
   "cell_type": "code",
   "execution_count": null,
   "id": "a5a0bcf4-7dc2-4b9c-90c8-d80959eb0061",
   "metadata": {
    "deletable": false,
    "nbgrader": {
     "cell_type": "code",
     "checksum": "365582bb60da0ec4ae66a958920dbc7b",
     "grade": true,
     "grade_id": "cell-db2112e208dff851",
     "locked": false,
     "points": 0,
     "schema_version": 3,
     "solution": true,
     "task": false
    },
    "tags": []
   },
   "outputs": [],
   "source": []
  },
  {
   "cell_type": "code",
   "execution_count": 191,
   "id": "7b0d949e-3448-4574-927f-5b404618898a",
   "metadata": {
    "deletable": false,
    "nbgrader": {
     "cell_type": "code",
     "checksum": "80d516a79f4aa2ab0acf0a9d6f6035c5",
     "grade": true,
     "grade_id": "cell-04b521ad58bf7e7a",
     "locked": false,
     "points": 0,
     "schema_version": 3,
     "solution": true,
     "task": false
    },
    "tags": []
   },
   "outputs": [
    {
     "data": {
      "text/plain": [
       "Ellipsis"
      ]
     },
     "execution_count": 191,
     "metadata": {},
     "output_type": "execute_result"
    }
   ],
   "source": [
    "..."
   ]
  },
  {
   "attachments": {},
   "cell_type": "markdown",
   "id": "bbe45300-2275-4f86-b43c-c89fbdb59bb2",
   "metadata": {
    "deletable": false,
    "nbgrader": {
     "cell_type": "markdown",
     "checksum": "3e2ac9213293011fb1265ac67951649a",
     "grade": true,
     "grade_id": "cell-bab8a941c8ce3764",
     "locked": false,
     "points": 0,
     "schema_version": 3,
     "solution": true,
     "task": false
    },
    "tags": []
   },
   "source": [
    "..."
   ]
  },
  {
   "attachments": {},
   "cell_type": "markdown",
   "id": "c63eecef-91c9-4ae5-96be-ec6c3595f305",
   "metadata": {
    "deletable": false,
    "editable": false,
    "nbgrader": {
     "cell_type": "markdown",
     "checksum": "c5a2c6e42211cf530f74e744fb7b3751",
     "grade": false,
     "grade_id": "cell-b1e74659e07db9d8",
     "locked": true,
     "schema_version": 3,
     "solution": false,
     "task": false
    }
   },
   "source": [
    "## Taylor Series"
   ]
  },
  {
   "attachments": {},
   "cell_type": "markdown",
   "id": "ad9efd65-a8f9-4999-84af-1684a2c95219",
   "metadata": {
    "deletable": false,
    "editable": false,
    "nbgrader": {
     "cell_type": "markdown",
     "checksum": "f9eea208c5f219cc42acfe1568c52e43",
     "grade": false,
     "grade_id": "cell-d9a072d2e7051a61",
     "locked": true,
     "schema_version": 3,
     "solution": false,
     "task": false
    },
    "tags": []
   },
   "source": [
    "The Taylor series expresses the fact that a well-behaved function is *locally* defined by its derivatives and vice versa.\n",
    "\n",
    "For small $\\Delta x$, a function is equal to its Taylor series:\n",
    "$$\n",
    "\\begin{align}f(x_0 + \\Delta x) &= f(x_0) + \\lim_{N \\rightarrow \\infty} \\sum_{n=1}^N f^{(n)}(x_0) \\frac{(\\Delta x)^n}{n!}\\\\\n",
    "f(x_0 + \\Delta x) &= f(x_0) + \\sum_{n=1}^N f^{(n)}(x_0) \\frac{(\\Delta x)^n}{n!} + \\mathcal{O}\\left((\\Delta x)^{N+1}\\right)\\\\\n",
    "&\\approx f(x_0) + \\sum_{n=1}^N f^{(n)}(x_0) \\frac{(\\Delta x)^n}{n!}\n",
    "\\end{align}\n",
    "$$\n",
    "\n",
    "Formally, this holds within the *radius of convergence* of the function $f$ at point $x_0$, which is infinite for so-called \"entire\" functions."
   ]
  },
  {
   "attachments": {},
   "cell_type": "markdown",
   "id": "c68aa49e-53ad-4fb6-9622-f92347a449b2",
   "metadata": {
    "deletable": false,
    "editable": false,
    "nbgrader": {
     "cell_type": "markdown",
     "checksum": "70a1f87bf2d2f921eaf39216b1a95641",
     "grade": false,
     "grade_id": "cell-d9e4213eb2cbde35",
     "locked": true,
     "schema_version": 3,
     "solution": false,
     "task": false
    },
    "tags": []
   },
   "source": [
    "## Central Finite Differences"
   ]
  },
  {
   "attachments": {},
   "cell_type": "markdown",
   "id": "8818d39b-6c8e-4f08-bf03-8d73f90df645",
   "metadata": {
    "deletable": false,
    "editable": false,
    "nbgrader": {
     "cell_type": "markdown",
     "checksum": "d3d72656ddb51c57d5f9c7255e44ef9b",
     "grade": false,
     "grade_id": "cell-0ecfac5e7d53cb9c",
     "locked": true,
     "schema_version": 3,
     "solution": false,
     "task": false
    },
    "tags": []
   },
   "source": [
    "We can use the Taylor Series to get an *improved* method for calculating numerical derivatives:\n",
    "\n",
    "$$f(x + h) = f(x) + f'(x) h + \\frac{f''(x)}{2} h^2 + \\frac{f'''(x)}{6} h^3 + \\mathcal{O}\\left(h^{4}\\right)$$\n",
    "$$f(x - h) = f(x) - f'(x) h + \\frac{f''(x)}{2} h^2 - \\frac{f'''(x)}{6} h^3 + \\mathcal{O}\\left(h^{4}\\right)$$\n",
    "$$f(x + h) - f(x - h) = 2\\,f'(x)\\,h + \\frac{f'''(x)}{3} h^3 + \\mathcal{O}\\left(h^{5}\\right)$$\n",
    "\n",
    "So, we can define the *central finite differences* as\n",
    "\n",
    "$$\\operatorname{df}_{h, \\text{cfd}}(x_0) = \\frac{f(x_0 + h) - f(x_0 - h)}{2 h}$$\n",
    "\n",
    "with error\n",
    "$$\\operatorname{df}_{h, \\text{cfd}}(x_0) - f'(x_0) = \\frac{f'''(x)}{6} h^2 + \\mathcal{O}(h^4)$$"
   ]
  },
  {
   "attachments": {},
   "cell_type": "markdown",
   "id": "46092c58-e078-42dd-8157-bdf80beed20c",
   "metadata": {
    "deletable": false,
    "editable": false,
    "nbgrader": {
     "cell_type": "markdown",
     "checksum": "176dad8eb47d8b6e9d5a6c1c0de07d80",
     "grade": false,
     "grade_id": "cell-5acf625e0d7f47b3",
     "locked": true,
     "schema_version": 3,
     "solution": false,
     "task": false
    },
    "tags": []
   },
   "source": [
    "* The error is *quadratic* in the step size\n",
    "* smaller step sizes will give a much more accurate result\n",
    "* no additional computational effort needed!"
   ]
  },
  {
   "attachments": {},
   "cell_type": "markdown",
   "id": "8c0595de-5b66-4d37-a6f9-5bc5ebf53482",
   "metadata": {
    "deletable": false,
    "editable": false,
    "nbgrader": {
     "cell_type": "markdown",
     "checksum": "fdb5bc9449d4963f542aa57524d38e40",
     "grade": false,
     "grade_id": "cell-38df3b4c26c08325",
     "locked": true,
     "schema_version": 3,
     "solution": false,
     "task": false
    },
    "tags": []
   },
   "source": [
    "### Exercises"
   ]
  },
  {
   "attachments": {},
   "cell_type": "markdown",
   "id": "8c580be6-d68a-4439-9131-c194a80128ee",
   "metadata": {
    "deletable": false,
    "editable": false,
    "nbgrader": {
     "cell_type": "markdown",
     "checksum": "59c6e77c131be333abb87d58c4044ae9",
     "grade": false,
     "grade_id": "cell-7a9fdf7d22298283",
     "locked": true,
     "schema_version": 3,
     "solution": false,
     "task": false
    }
   },
   "source": [
    "`(R)` Write functions `ffd` and `cfd` which compute the forward and central finite difference for a given function `func`, base point `x0`, and step size `h`. Your functions shall have the following signatures:\n",
    "```python\n",
    "ffd(func: callable, x0: float, h: float) -> float\n",
    "cfd(func: callable, x0: float, h: float) -> float\n",
    "```\n",
    "\n",
    "`(T)` Make sure that your functions are *vectorized* with respect to `h` and `x0`:\n",
    "```python\n",
    "ffd(func: np.ufunc, x0: np.typing.ArrayLike, h: np.typing.ArrayLike) -> np.ndarray\n",
    "cfd(func: np.ufunc, x0: np.typing.ArrayLike, h: np.typing.ArrayLike) -> np.ndarray\n",
    "```\n",
    "If `np.ndarray`s are passed for both `x0` and `h`, use `h` as the innermost index. You may assume that `h` is one-dimensional.\n",
    "\n",
    "`(R)` Consider the exponential function `np.exp`. What is its derivative at $x_0 = 1$?\n",
    "\n",
    "`(R)` Create a `pd.DataFrame` with reasonably spaced values for the `'step_size'` $h$ in the range $\\left[10^{-16},10^{-1}\\right]$.\n",
    "\n",
    "`(A)` With these values, numerically determine the derivative of `np.exp` via both forward and central difference methods at $x_0 = 1$. Determine the absolute error $\\left|f'(x_0) - \\operatorname{df}_h(x_0)\\right|$ for the two methods. Plot your results in a suitable form.\n",
    "\n",
    "`(T)` Interpret those graphs."
   ]
  },
  {
   "cell_type": "code",
   "execution_count": 192,
   "id": "0b3e6995-8c62-4a99-b738-c75b45267975",
   "metadata": {
    "deletable": false,
    "nbgrader": {
     "cell_type": "code",
     "checksum": "ecd0a28bb18f7691f338b67d29e31c54",
     "grade": true,
     "grade_id": "cell-202daa5866a6ced7",
     "locked": false,
     "points": 0,
     "schema_version": 3,
     "solution": true,
     "task": false
    },
    "tags": []
   },
   "outputs": [],
   "source": [
    "def ffd(func: np.ufunc, x0: np.typing.ArrayLike, h: np.typing.ArrayLike) -> np.ndarray:\n",
    "    if isinstance(h, (int, float, np.float128)):\n",
    "        h = np.array([h])\n",
    "    if isinstance(x0, (int, float, np.float128)):\n",
    "        x0 = np.array([x0])\n",
    "    return np.array([[(func(x + i) - func(x)) / i for i in h] for x in x0])\n",
    "\n",
    "\n",
    "def cfd(func: np.ufunc, x0: np.typing.ArrayLike, h: np.typing.ArrayLike) -> np.ndarray:\n",
    "    if isinstance(h, (int, float, np.float128)):\n",
    "        h = np.array([h])\n",
    "    if isinstance(x0, (int, float, np.float128)):\n",
    "        x0 = np.array([x0])\n",
    "    return np.array([[(func(x + i) - func(x - i)) / (2 * i) for i in h] for x in x0])\n",
    "\n"
   ]
  },
  {
   "attachments": {},
   "cell_type": "markdown",
   "id": "0c74db7d-8427-4910-b7ba-f1ecd40e2751",
   "metadata": {
    "deletable": false,
    "editable": false,
    "nbgrader": {
     "cell_type": "markdown",
     "checksum": "567b2bcad589dcab9edbbb6e3710839b",
     "grade": false,
     "grade_id": "cell-0ea06da52be934ff",
     "locked": true,
     "schema_version": 3,
     "solution": false,
     "task": false
    },
    "tags": []
   },
   "source": [
    "Automatic test cases for the `np.sin` function are included. The first set of tests needs to pass whether or not you vectorized your function:"
   ]
  },
  {
   "cell_type": "code",
   "execution_count": 193,
   "id": "e4e09e60-f36f-4e2f-8f69-79e0d4aaaf3e",
   "metadata": {
    "deletable": false,
    "editable": false,
    "nbgrader": {
     "cell_type": "code",
     "checksum": "4cd54e7041e155c723bd573b608ab84a",
     "grade": false,
     "grade_id": "cell-bf49b98a9a0b4d73",
     "locked": true,
     "schema_version": 3,
     "solution": false,
     "task": false
    },
    "tags": []
   },
   "outputs": [],
   "source": [
    "test_cases = np.load('tests/derivatives.npz')"
   ]
  },
  {
   "cell_type": "code",
   "execution_count": 194,
   "id": "cecffb61-2cac-4763-bf21-0ee8cbedf84e",
   "metadata": {
    "deletable": false,
    "editable": false,
    "nbgrader": {
     "cell_type": "code",
     "checksum": "139e63c28cdd009f2464eb3acdc7d7df",
     "grade": true,
     "grade_id": "cell-7c28bb951b1a12b0",
     "locked": true,
     "points": 0,
     "schema_version": 3,
     "solution": false,
     "task": false
    },
    "tags": []
   },
   "outputs": [],
   "source": [
    "for x0, row in zip(test_cases['x0'], test_cases['ffd']):\n",
    "    for h, result in zip(test_cases['h'], row):\n",
    "        np.testing.assert_allclose(ffd(np.sin, x0, h), result, rtol=0, atol=1e-7)"
   ]
  },
  {
   "cell_type": "code",
   "execution_count": 195,
   "id": "f59506b8-75d5-458b-9b28-47295eb6f4ed",
   "metadata": {
    "deletable": false,
    "editable": false,
    "nbgrader": {
     "cell_type": "code",
     "checksum": "d46c85d64b492f653683f9874d0b8af0",
     "grade": true,
     "grade_id": "cell-00b07890457974b6",
     "locked": true,
     "points": 0,
     "schema_version": 3,
     "solution": false,
     "task": false
    },
    "tags": []
   },
   "outputs": [],
   "source": [
    "for x0, row in zip(test_cases['x0'], test_cases['cfd']):\n",
    "    for h, result in zip(test_cases['h'], row):\n",
    "        np.testing.assert_allclose(cfd(np.sin, x0, h), result, rtol=0, atol=1e-7)"
   ]
  },
  {
   "attachments": {},
   "cell_type": "markdown",
   "id": "20358ace-6815-4caf-8db8-3165b05422e7",
   "metadata": {
    "deletable": false,
    "editable": false,
    "nbgrader": {
     "cell_type": "markdown",
     "checksum": "7fe09e1fce7153996463f0e29d59d379",
     "grade": false,
     "grade_id": "cell-3f25bcf8e522ccbb",
     "locked": true,
     "schema_version": 3,
     "solution": false,
     "task": false
    },
    "tags": []
   },
   "source": [
    "The following tests need to run only for the vectorized functions:"
   ]
  },
  {
   "cell_type": "code",
   "execution_count": 196,
   "id": "e18d5e67-f4a5-42c9-81e0-815000aedd90",
   "metadata": {
    "deletable": false,
    "editable": false,
    "nbgrader": {
     "cell_type": "code",
     "checksum": "5bf7993b53f1072dab4595ac51e33c6b",
     "grade": true,
     "grade_id": "cell-d81aa6bc32678fa6",
     "locked": true,
     "points": 0,
     "schema_version": 3,
     "solution": false,
     "task": false
    },
    "tags": []
   },
   "outputs": [],
   "source": [
    "np.testing.assert_allclose(ffd(np.sin, test_cases['x0'], test_cases['h']), test_cases['ffd'], rtol=0, atol=1e-7)"
   ]
  },
  {
   "cell_type": "code",
   "execution_count": 197,
   "id": "64553bfa-69fa-4157-8906-153716f06cfa",
   "metadata": {
    "deletable": false,
    "editable": false,
    "nbgrader": {
     "cell_type": "code",
     "checksum": "38f8f4c68e1f03fb3151ef24f5f8bf5c",
     "grade": true,
     "grade_id": "cell-4345cfa676ca46a4",
     "locked": true,
     "points": 0,
     "schema_version": 3,
     "solution": false,
     "task": false
    },
    "tags": []
   },
   "outputs": [],
   "source": [
    "np.testing.assert_allclose(cfd(np.sin, test_cases['x0'], test_cases['h']), test_cases['cfd'], rtol=0, atol=1e-7)"
   ]
  },
  {
   "attachments": {},
   "cell_type": "markdown",
   "id": "c3f28064-6568-4e0a-9cb9-fd51225e1bc3",
   "metadata": {
    "deletable": false,
    "nbgrader": {
     "cell_type": "markdown",
     "checksum": "3d4e2b527dea27ca7f67228372ca29d2",
     "grade": true,
     "grade_id": "cell-1919e7269ae2c8b4",
     "locked": false,
     "points": 0,
     "schema_version": 3,
     "solution": true,
     "task": false
    }
   },
   "source": [
    "..."
   ]
  },
  {
   "cell_type": "code",
   "execution_count": 201,
   "id": "2fbd8f55-746a-4923-a7b4-4cc0501128f6",
   "metadata": {
    "deletable": false,
    "nbgrader": {
     "cell_type": "code",
     "checksum": "da97933b36dde99d09e36fe8c2f10c6a",
     "grade": true,
     "grade_id": "cell-ebaaedfe224c1d1c",
     "locked": false,
     "points": 0,
     "schema_version": 3,
     "solution": true,
     "task": false
    }
   },
   "outputs": [
    {
     "data": {
      "text/plain": [
       "<matplotlib.legend.Legend at 0x7ff65215f040>"
      ]
     },
     "execution_count": 201,
     "metadata": {},
     "output_type": "execute_result"
    },
    {
     "data": {
      "image/png": "[encoded data removed]",
      "text/plain": [
       "<Figure size 640x480 with 1 Axes>"
      ]
     },
     "metadata": {},
     "output_type": "display_data"
    }
   ],
   "source": [
    "errors = pd.DataFrame({'h': np.logspace(-16, -1, 121)})\n",
    "\n",
    "errors['value_cfd'] = cfd(np.exp, 1, errors['h']).flatten()\n",
    "errors['value_ffd'] = ffd(np.exp, 1, errors['h']).flatten()\n",
    "errors['error_cfd'] = np.abs(errors['value_cfd'] - np.exp(1))\n",
    "errors['error_ffd'] = np.abs(errors['value_ffd'] - np.exp(1))\n",
    "\n",
    "axes = plt.axes()\n",
    "errors.plot(x='h', y='value_cfd', ax=axes, label='cfd', color='lightblue')\n",
    "errors.plot(x='h', y='value_ffd', ax=axes, label='ffd', color='lightgreen')\n",
    "errors.plot(x='h', y='error_cfd', ax=axes, label='error cfd', color='blue')\n",
    "errors.plot(x='h', y='error_ffd', ax=axes, label='error ffd', color='green')\n",
    "axes.set_xscale('log')\n",
    "axes.set_yscale('log')\n",
    "axes.set_xlabel('h')\n",
    "axes.set_ylabel('error')\n",
    "axes.legend()\n"
   ]
  },
  {
   "cell_type": "code",
   "execution_count": 199,
   "id": "6b13cf78-e468-43d2-bb4f-e8d3ba7860db",
   "metadata": {
    "deletable": false,
    "nbgrader": {
     "cell_type": "code",
     "checksum": "3e2400629564f26f37ce2c1d6fae79ce",
     "grade": true,
     "grade_id": "cell-c154abac4e345da7",
     "locked": false,
     "points": 0,
     "schema_version": 3,
     "solution": true,
     "task": false
    }
   },
   "outputs": [
    {
     "data": {
      "text/plain": [
       "Ellipsis"
      ]
     },
     "execution_count": 199,
     "metadata": {},
     "output_type": "execute_result"
    }
   ],
   "source": [
    "..."
   ]
  },
  {
   "attachments": {},
   "cell_type": "markdown",
   "id": "98c848f9-537c-4c75-947b-5a8657ed3711",
   "metadata": {
    "deletable": false,
    "nbgrader": {
     "cell_type": "markdown",
     "checksum": "6e372da5df00fdec46568a1e29f888db",
     "grade": true,
     "grade_id": "cell-572643c863f10e2b",
     "locked": false,
     "points": 0,
     "schema_version": 3,
     "solution": true,
     "task": false
    }
   },
   "source": [
    "..."
   ]
  },
  {
   "attachments": {},
   "cell_type": "markdown",
   "id": "7ecc7cc2-4ad2-4f17-b279-d4b95c3b7105",
   "metadata": {
    "deletable": false,
    "editable": false,
    "nbgrader": {
     "cell_type": "markdown",
     "checksum": "10a4c0bd574491b0f974fde0cd8a5a79",
     "grade": false,
     "grade_id": "cell-0e03c012f0c236fc",
     "locked": true,
     "schema_version": 3,
     "solution": false,
     "task": false
    },
    "tags": []
   },
   "source": [
    "## Numerical Error"
   ]
  },
  {
   "attachments": {},
   "cell_type": "markdown",
   "id": "7a5be71a-306e-4809-a937-e3ab600865c9",
   "metadata": {
    "deletable": false,
    "editable": false,
    "nbgrader": {
     "cell_type": "markdown",
     "checksum": "a767c856b1e41b8d441ebe4f8c934968",
     "grade": false,
     "grade_id": "cell-5e78a2df596cd3de",
     "locked": true,
     "schema_version": 3,
     "solution": false,
     "task": false
    },
    "tags": []
   },
   "source": [
    "Numerical methods such as numeric differentiation have to contend with limited *precision* of machine representations of numbers."
   ]
  },
  {
   "attachments": {},
   "cell_type": "markdown",
   "id": "d698ea99-9f78-4a43-8ec5-18f0f0a9de23",
   "metadata": {
    "deletable": false,
    "editable": false,
    "nbgrader": {
     "cell_type": "markdown",
     "checksum": "b084b3b0d62997928f41c6af2b129ef1",
     "grade": false,
     "grade_id": "cell-e8eef662820da34b",
     "locked": true,
     "schema_version": 3,
     "solution": false,
     "task": false
    }
   },
   "source": [
    "### Discretization Error"
   ]
  },
  {
   "attachments": {},
   "cell_type": "markdown",
   "id": "f9c59594-9e73-4bf8-882d-f15352c1fbc4",
   "metadata": {
    "deletable": false,
    "editable": false,
    "nbgrader": {
     "cell_type": "markdown",
     "checksum": "bd719da65d7398fe49a57dc4fb05173e",
     "grade": false,
     "grade_id": "cell-eb27d7f38ab9c3c3",
     "locked": true,
     "schema_version": 3,
     "solution": false,
     "task": false
    },
    "tags": []
   },
   "source": [
    "When the step size of a numerical method is insufficiently small, discretization errors may occur.\n",
    "* error can be given in terms of the step size\n",
    "* e.g. differentiation: tight bounds by step size"
   ]
  },
  {
   "attachments": {},
   "cell_type": "markdown",
   "id": "949e87eb-9250-4179-8880-645f7de4efa1",
   "metadata": {
    "deletable": false,
    "editable": false,
    "nbgrader": {
     "cell_type": "markdown",
     "checksum": "dff4a2cf76fb5f7d1f58ca80c923c881",
     "grade": false,
     "grade_id": "cell-c53815040dd7fd1c",
     "locked": true,
     "schema_version": 3,
     "solution": false,
     "task": false
    },
    "tags": []
   },
   "source": [
    "### Numerical Extinction"
   ]
  },
  {
   "attachments": {},
   "cell_type": "markdown",
   "id": "e84719b7-70cf-473f-819a-14bf28f5e2ca",
   "metadata": {},
   "source": [
    "* floats cannot resolve small differences between huge numbers\n",
    "* when subtracting two huge numbers, the difference may not be represented accurately\n",
    "* leads to huge errors past a certain point\n",
    "* errors become *worse* with smaller step size"
   ]
  },
  {
   "attachments": {},
   "cell_type": "markdown",
   "id": "66f96032-4535-4162-b734-903031887ebe",
   "metadata": {
    "deletable": false,
    "editable": false,
    "nbgrader": {
     "cell_type": "markdown",
     "checksum": "4ae8f15b6dd0cc6249205d12ad28dd12",
     "grade": false,
     "grade_id": "cell-5942f8fc48fa6197",
     "locked": true,
     "schema_version": 3,
     "solution": false,
     "task": false
    },
    "tags": []
   },
   "source": [
    "### Exercises"
   ]
  },
  {
   "attachments": {},
   "cell_type": "markdown",
   "id": "e4342fec-2983-430d-86c6-794586ca1f8a",
   "metadata": {
    "deletable": false,
    "editable": false,
    "nbgrader": {
     "cell_type": "markdown",
     "checksum": "325e9447ad038350c4a002035146dae6",
     "grade": false,
     "grade_id": "cell-50769526a13b9ffd",
     "locked": true,
     "schema_version": 3,
     "solution": false,
     "task": false
    }
   },
   "source": [
    "Consider the exponential function offset by $10^8$, `lambda x: np.exp(x) + 1e8`.\n",
    "\n",
    "`(R)` What is its derivative at `x0 = 1`? How does it relate to the derivative of the \"standard\" exponential function?\n",
    "\n",
    "`(A)` Numerically determine the derivative of this function and the non-offset exponential function with the central difference methods at $x_0 = 1$ for various step sizes. Determine the absolute error $\\left|f'(x_0) - \\operatorname{df}_h(x_0)\\right|$. Plot your results in a suitable form.\n",
    "\n",
    "`(T)` Discuss your results."
   ]
  },
  {
   "attachments": {},
   "cell_type": "markdown",
   "id": "ba73fd7d-b7f7-4afe-bd87-17ae50b55024",
   "metadata": {
    "deletable": false,
    "nbgrader": {
     "cell_type": "markdown",
     "checksum": "3ff50030ae2bbc241d32bfd11e3d2f56",
     "grade": true,
     "grade_id": "cell-ae370792faabb155",
     "locked": false,
     "points": 0,
     "schema_version": 3,
     "solution": true,
     "task": false
    },
    "tags": []
   },
   "source": [
    "..."
   ]
  },
  {
   "cell_type": "code",
   "execution_count": 202,
   "id": "41345714-094a-418a-bfde-8fdd0e25ff40",
   "metadata": {
    "deletable": false,
    "nbgrader": {
     "cell_type": "code",
     "checksum": "26fb1180379280081041fd94298a6bf3",
     "grade": true,
     "grade_id": "cell-b32aee1957f36b1b",
     "locked": false,
     "points": 0,
     "schema_version": 3,
     "solution": true,
     "task": false
    },
    "tags": []
   },
   "outputs": [
    {
     "ename": "TypeError",
     "evalue": "unsupported operand type(s) for +: 'numpy.ufunc' and 'float'",
     "output_type": "error",
     "traceback": [
      "\u001b[0;31m---------------------------------------------------------------------------\u001b[0m",
      "\u001b[0;31mTypeError\u001b[0m                                 Traceback (most recent call last)",
      "Cell \u001b[0;32mIn[202], line 4\u001b[0m\n\u001b[1;32m      1\u001b[0m errors \u001b[39m=\u001b[39m pd\u001b[39m.\u001b[39mDataFrame({\u001b[39m'\u001b[39m\u001b[39mh\u001b[39m\u001b[39m'\u001b[39m: np\u001b[39m.\u001b[39mlogspace(\u001b[39m-\u001b[39m\u001b[39m16\u001b[39m, \u001b[39m-\u001b[39m\u001b[39m1\u001b[39m, \u001b[39m121\u001b[39m)})\n\u001b[1;32m      3\u001b[0m errors[\u001b[39m'\u001b[39m\u001b[39mcfd\u001b[39m\u001b[39m'\u001b[39m] \u001b[39m=\u001b[39m cfd(np\u001b[39m.\u001b[39mexp, \u001b[39m1\u001b[39m, errors[\u001b[39m'\u001b[39m\u001b[39mh\u001b[39m\u001b[39m'\u001b[39m])\u001b[39m.\u001b[39mflatten()\n\u001b[0;32m----> 4\u001b[0m errors[\u001b[39m'\u001b[39m\u001b[39mcfd_offset\u001b[39m\u001b[39m'\u001b[39m] \u001b[39m=\u001b[39m cfd(\u001b[39mlambda\u001b[39;49;00m x:np\u001b[39m.\u001b[39;49mexp \u001b[39m+\u001b[39;49m \u001b[39m1e8\u001b[39;49m, \u001b[39m1\u001b[39;49m, errors[\u001b[39m'\u001b[39;49m\u001b[39mh\u001b[39;49m\u001b[39m'\u001b[39;49m])\u001b[39m.\u001b[39mflatten()\n\u001b[1;32m      5\u001b[0m errors[\u001b[39m'\u001b[39m\u001b[39merror_cfd\u001b[39m\u001b[39m'\u001b[39m] \u001b[39m=\u001b[39m np\u001b[39m.\u001b[39mabs(errors[\u001b[39m'\u001b[39m\u001b[39mcfd\u001b[39m\u001b[39m'\u001b[39m] \u001b[39m-\u001b[39m np\u001b[39m.\u001b[39mexp(\u001b[39m1\u001b[39m))\n\u001b[1;32m      6\u001b[0m errors[\u001b[39m'\u001b[39m\u001b[39merror_offset\u001b[39m\u001b[39m'\u001b[39m] \u001b[39m=\u001b[39m np\u001b[39m.\u001b[39mabs(errors[\u001b[39m'\u001b[39m\u001b[39mcfd_offset\u001b[39m\u001b[39m'\u001b[39m] \u001b[39m-\u001b[39m np\u001b[39m.\u001b[39mexp(\u001b[39m1\u001b[39m))\n",
      "Cell \u001b[0;32mIn[192], line 14\u001b[0m, in \u001b[0;36mcfd\u001b[0;34m(func, x0, h)\u001b[0m\n\u001b[1;32m     12\u001b[0m \u001b[39mif\u001b[39;00m \u001b[39misinstance\u001b[39m(x0, (\u001b[39mint\u001b[39m, \u001b[39mfloat\u001b[39m, np\u001b[39m.\u001b[39mfloat128)):\n\u001b[1;32m     13\u001b[0m     x0 \u001b[39m=\u001b[39m np\u001b[39m.\u001b[39marray([x0])\n\u001b[0;32m---> 14\u001b[0m \u001b[39mreturn\u001b[39;00m np\u001b[39m.\u001b[39marray([[(func(x \u001b[39m+\u001b[39m i) \u001b[39m-\u001b[39m func(x \u001b[39m-\u001b[39m i)) \u001b[39m/\u001b[39m (\u001b[39m2\u001b[39m \u001b[39m*\u001b[39m i) \u001b[39mfor\u001b[39;00m i \u001b[39min\u001b[39;00m h] \u001b[39mfor\u001b[39;00m x \u001b[39min\u001b[39;00m x0])\n",
      "Cell \u001b[0;32mIn[192], line 14\u001b[0m, in \u001b[0;36m<listcomp>\u001b[0;34m(.0)\u001b[0m\n\u001b[1;32m     12\u001b[0m \u001b[39mif\u001b[39;00m \u001b[39misinstance\u001b[39m(x0, (\u001b[39mint\u001b[39m, \u001b[39mfloat\u001b[39m, np\u001b[39m.\u001b[39mfloat128)):\n\u001b[1;32m     13\u001b[0m     x0 \u001b[39m=\u001b[39m np\u001b[39m.\u001b[39marray([x0])\n\u001b[0;32m---> 14\u001b[0m \u001b[39mreturn\u001b[39;00m np\u001b[39m.\u001b[39marray([[(func(x \u001b[39m+\u001b[39m i) \u001b[39m-\u001b[39m func(x \u001b[39m-\u001b[39m i)) \u001b[39m/\u001b[39m (\u001b[39m2\u001b[39m \u001b[39m*\u001b[39m i) \u001b[39mfor\u001b[39;00m i \u001b[39min\u001b[39;00m h] \u001b[39mfor\u001b[39;00m x \u001b[39min\u001b[39;00m x0])\n",
      "Cell \u001b[0;32mIn[192], line 14\u001b[0m, in \u001b[0;36m<listcomp>\u001b[0;34m(.0)\u001b[0m\n\u001b[1;32m     12\u001b[0m \u001b[39mif\u001b[39;00m \u001b[39misinstance\u001b[39m(x0, (\u001b[39mint\u001b[39m, \u001b[39mfloat\u001b[39m, np\u001b[39m.\u001b[39mfloat128)):\n\u001b[1;32m     13\u001b[0m     x0 \u001b[39m=\u001b[39m np\u001b[39m.\u001b[39marray([x0])\n\u001b[0;32m---> 14\u001b[0m \u001b[39mreturn\u001b[39;00m np\u001b[39m.\u001b[39marray([[(func(x \u001b[39m+\u001b[39;49m i) \u001b[39m-\u001b[39m func(x \u001b[39m-\u001b[39m i)) \u001b[39m/\u001b[39m (\u001b[39m2\u001b[39m \u001b[39m*\u001b[39m i) \u001b[39mfor\u001b[39;00m i \u001b[39min\u001b[39;00m h] \u001b[39mfor\u001b[39;00m x \u001b[39min\u001b[39;00m x0])\n",
      "Cell \u001b[0;32mIn[202], line 4\u001b[0m, in \u001b[0;36m<lambda>\u001b[0;34m(x)\u001b[0m\n\u001b[1;32m      1\u001b[0m errors \u001b[39m=\u001b[39m pd\u001b[39m.\u001b[39mDataFrame({\u001b[39m'\u001b[39m\u001b[39mh\u001b[39m\u001b[39m'\u001b[39m: np\u001b[39m.\u001b[39mlogspace(\u001b[39m-\u001b[39m\u001b[39m16\u001b[39m, \u001b[39m-\u001b[39m\u001b[39m1\u001b[39m, \u001b[39m121\u001b[39m)})\n\u001b[1;32m      3\u001b[0m errors[\u001b[39m'\u001b[39m\u001b[39mcfd\u001b[39m\u001b[39m'\u001b[39m] \u001b[39m=\u001b[39m cfd(np\u001b[39m.\u001b[39mexp, \u001b[39m1\u001b[39m, errors[\u001b[39m'\u001b[39m\u001b[39mh\u001b[39m\u001b[39m'\u001b[39m])\u001b[39m.\u001b[39mflatten()\n\u001b[0;32m----> 4\u001b[0m errors[\u001b[39m'\u001b[39m\u001b[39mcfd_offset\u001b[39m\u001b[39m'\u001b[39m] \u001b[39m=\u001b[39m cfd(\u001b[39mlambda\u001b[39;00m x:np\u001b[39m.\u001b[39;49mexp \u001b[39m+\u001b[39;49m \u001b[39m1e8\u001b[39;49m, \u001b[39m1\u001b[39m, errors[\u001b[39m'\u001b[39m\u001b[39mh\u001b[39m\u001b[39m'\u001b[39m])\u001b[39m.\u001b[39mflatten()\n\u001b[1;32m      5\u001b[0m errors[\u001b[39m'\u001b[39m\u001b[39merror_cfd\u001b[39m\u001b[39m'\u001b[39m] \u001b[39m=\u001b[39m np\u001b[39m.\u001b[39mabs(errors[\u001b[39m'\u001b[39m\u001b[39mcfd\u001b[39m\u001b[39m'\u001b[39m] \u001b[39m-\u001b[39m np\u001b[39m.\u001b[39mexp(\u001b[39m1\u001b[39m))\n\u001b[1;32m      6\u001b[0m errors[\u001b[39m'\u001b[39m\u001b[39merror_offset\u001b[39m\u001b[39m'\u001b[39m] \u001b[39m=\u001b[39m np\u001b[39m.\u001b[39mabs(errors[\u001b[39m'\u001b[39m\u001b[39mcfd_offset\u001b[39m\u001b[39m'\u001b[39m] \u001b[39m-\u001b[39m np\u001b[39m.\u001b[39mexp(\u001b[39m1\u001b[39m))\n",
      "\u001b[0;31mTypeError\u001b[0m: unsupported operand type(s) for +: 'numpy.ufunc' and 'float'"
     ]
    }
   ],
   "source": [
    "errors = pd.DataFrame({'h': np.logspace(-16, -1, 121)})\n",
    "\n",
    "errors['cfd'] = cfd(np.exp, 1, errors['h']).flatten()\n",
    "errors['cfd_offset'] = cfd(lambda x:np.exp + 1e8, 1, errors['h']).flatten()\n",
    "errors['error_cfd'] = np.abs(errors['cfd'] - np.exp(1))\n",
    "errors['error_offset'] = np.abs(errors['cfd_offset'] - np.exp(1))\n",
    "\n",
    "axes = plt.axes()\n",
    "errors.plot(x='h', y='value_cfd', ax=axes, label='cfd', color='lightblue')\n",
    "errors.plot(x='h', y='value_ffd', ax=axes, label='ffd', color='lightgreen')\n",
    "errors.plot(x='h', y='error_cfd', ax=axes, label='error cfd', color='blue')\n",
    "errors.plot(x='h', y='error_ffd', ax=axes, label='error ffd', color='green')\n",
    "axes.set_xscale('log')\n",
    "axes.set_yscale('log')\n",
    "axes.set_xlabel('h')\n",
    "axes.set_ylabel('error')\n",
    "axes.legend()"
   ]
  },
  {
   "attachments": {},
   "cell_type": "markdown",
   "id": "6f2f8433-392f-4a0d-9e0c-9103402e0dc3",
   "metadata": {
    "deletable": false,
    "nbgrader": {
     "cell_type": "markdown",
     "checksum": "7c5abb543d495a0c97a871182871d3b9",
     "grade": true,
     "grade_id": "cell-064833d5c42db23f",
     "locked": false,
     "points": 0,
     "schema_version": 3,
     "solution": true,
     "task": false
    },
    "tags": []
   },
   "source": [
    "..."
   ]
  },
  {
   "attachments": {},
   "cell_type": "markdown",
   "id": "05362b99-795b-4c0c-b044-b2f1b223c574",
   "metadata": {
    "deletable": false,
    "editable": false,
    "nbgrader": {
     "cell_type": "markdown",
     "checksum": "a5502620bce2926e7e586a2c70476689",
     "grade": false,
     "grade_id": "cell-acf56b129b2e6275",
     "locked": true,
     "schema_version": 3,
     "solution": false,
     "task": false
    },
    "tags": []
   },
   "source": [
    "## Second and Higher Derivatives"
   ]
  },
  {
   "attachments": {},
   "cell_type": "markdown",
   "id": "28f28e0c-0960-4833-abfb-dcc2cd470f2d",
   "metadata": {
    "deletable": false,
    "editable": false,
    "nbgrader": {
     "cell_type": "markdown",
     "checksum": "2a15e36ee1b1b6de5ad0e867c8d3084a",
     "grade": false,
     "grade_id": "cell-9268ecb38a6688f5",
     "locked": true,
     "schema_version": 3,
     "solution": false,
     "task": false
    },
    "tags": []
   },
   "source": [
    "We may apply the same method to construct formulas for higher derivatives:\n",
    "\n",
    "$$f(x + h) = f(x) + f'(x) h + \\frac{f''(x)}{2} h^2 + \\frac{f'''(x)}{6} h^3 + \\mathcal{O}\\left(h^{4}\\right)$$\n",
    "$$f(x - h) = f(x) - f'(x) h + \\frac{f''(x)}{2} h^2 - \\frac{f'''(x)}{6} h^3 + \\mathcal{O}\\left(h^{4}\\right)$$\n",
    "$$f(x + h) + f(x - h) = 2\\,f(x) + f''(x)~h^2 + \\mathcal{O}\\left(h^{4}\\right)$$\n",
    "\n",
    "$$f''(x) = \\frac{f(x + h) -2 f(x) + f(x - h)}{h^2} + \\mathcal{O}(h^2)$$"
   ]
  },
  {
   "attachments": {},
   "cell_type": "markdown",
   "id": "9f013439-1fc5-496d-9519-58ae9467542e",
   "metadata": {
    "deletable": false,
    "editable": false,
    "nbgrader": {
     "cell_type": "markdown",
     "checksum": "12b49f35f5067d53c81da089ae80e888",
     "grade": false,
     "grade_id": "cell-258cce61c9bd51c2",
     "locked": true,
     "schema_version": 3,
     "solution": false,
     "task": false
    },
    "tags": []
   },
   "source": [
    "Further improvements are possible for increased numeric stability and precision. These may use the derivatives for $\\frac{h}{2}$, $\\frac{h}{4}$ etc and cleverly combine them."
   ]
  }
 ],
 "metadata": {
  "kernelspec": {
   "display_name": "Python 3 (ipykernel)",
   "language": "python",
   "name": "python3"
  },
  "language_info": {
   "codemirror_mode": {
    "name": "ipython",
    "version": 3
   },
   "file_extension": ".py",
   "mimetype": "text/x-python",
   "name": "python",
   "nbconvert_exporter": "python",
   "pygments_lexer": "ipython3",
   "version": "3.10.10"
  }
 },
 "nbformat": 4,
 "nbformat_minor": 5
}
