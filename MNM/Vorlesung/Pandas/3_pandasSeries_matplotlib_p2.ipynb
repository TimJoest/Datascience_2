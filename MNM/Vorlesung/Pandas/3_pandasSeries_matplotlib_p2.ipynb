{
 "cells": [
  {
   "cell_type": "markdown",
   "metadata": {},
   "source": [
    "# Pandas and Matplotlib (Part2)"
   ]
  },
  {
   "cell_type": "code",
   "execution_count": null,
   "metadata": {
    "slideshow": {
     "slide_type": "subslide"
    }
   },
   "outputs": [],
   "source": [
    "# Required packages\n",
    "import numpy as np\n",
    "import pandas as pd\n",
    "import matplotlib as mpl\n",
    "import matplotlib.pyplot as plt\n",
    "# # from matplotlib import pyplot as plt # also possible\n",
    "\n",
    "# only in jupyter notebooks: Embed plots inside Jupyter notebooks\n",
    "%matplotlib inline\n",
    "\n",
    "f'{pd.__version__=}, {np.__version__=}'"
   ]
  },
  {
   "cell_type": "markdown",
   "metadata": {
    "collapsed": true,
    "slideshow": {
     "slide_type": "slide"
    }
   },
   "source": [
    "## 4 Statistics on Series\n",
    "* Series have a number of methods for performing basic statistics\n",
    "* in this lecture:\n",
    "    * `[.size, .count(), .sum()]`\n",
    "    * `[.mean(), .median(), .std()]`\n",
    "    * `[.max(), .min(), .quantile(), .describe()]`\n",
    "    * `[.head(), .tail(), .sample()]`\n",
    "    * `[.value_counts(), .unique(), .duplicated()]`"
   ]
  },
  {
   "cell_type": "markdown",
   "metadata": {
    "slideshow": {
     "slide_type": "slide"
    }
   },
   "source": [
    "### 4.1 `.size`, `.count()`, and `.sum()`\n",
    "* `.size` is an attribute of the series\n",
    "* `.count()` and `.sum()` depend on the *contents*"
   ]
  },
  {
   "cell_type": "code",
   "execution_count": null,
   "metadata": {
    "slideshow": {
     "slide_type": "fragment"
    }
   },
   "outputs": [],
   "source": [
    "integers = pd.Series(np.random.randint(0, 101, 5))\n",
    "integers"
   ]
  },
  {
   "cell_type": "code",
   "execution_count": null,
   "metadata": {
    "slideshow": {
     "slide_type": "fragment"
    }
   },
   "outputs": [],
   "source": [
    "integers.size"
   ]
  },
  {
   "cell_type": "code",
   "execution_count": null,
   "metadata": {
    "slideshow": {
     "slide_type": "fragment"
    }
   },
   "outputs": [],
   "source": [
    "integers.count()"
   ]
  },
  {
   "cell_type": "code",
   "execution_count": null,
   "metadata": {
    "slideshow": {
     "slide_type": "fragment"
    }
   },
   "outputs": [],
   "source": [
    "integers.loc[0] = np.NaN\n",
    "integers"
   ]
  },
  {
   "cell_type": "code",
   "execution_count": null,
   "metadata": {
    "slideshow": {
     "slide_type": "fragment"
    }
   },
   "outputs": [],
   "source": [
    "integers.count(), integers.size"
   ]
  },
  {
   "cell_type": "code",
   "execution_count": null,
   "metadata": {
    "slideshow": {
     "slide_type": "subslide"
    }
   },
   "outputs": [],
   "source": [
    "integers.loc[0] = np.random.randint(0, 101, 1)\n",
    "integers.sum()"
   ]
  },
  {
   "cell_type": "code",
   "execution_count": null,
   "metadata": {
    "slideshow": {
     "slide_type": "fragment"
    }
   },
   "outputs": [],
   "source": [
    "sum(integers)"
   ]
  },
  {
   "cell_type": "code",
   "execution_count": null,
   "metadata": {
    "scrolled": true,
    "slideshow": {
     "slide_type": "fragment"
    }
   },
   "outputs": [],
   "source": [
    "help(pd.Series.sum)"
   ]
  },
  {
   "cell_type": "markdown",
   "metadata": {
    "slideshow": {
     "slide_type": "slide"
    }
   },
   "source": [
    "### 4.2 `.mean()`, `.median()`, `.std()`\n",
    "* Series provide methods for simple statistics\n",
    "    * arithmetic `mean` $\\mu$ (average value of numeric Series)\n",
    "    * `median` value (half of the values are above, half are below)\n",
    "    * standard deviation $\\sigma$ (measure of the \"spread\")\n",
    "        * with *degrees of freedom* $\\Delta_\\text{dof}$: default 1, **differing from [numpy.std](https://numpy.org/doc/stable/reference/generated/numpy.std.html)** (where `ddof=0` by default)\n",
    "        * pass `ddof=0` for the \"uncorrected\" standard deviation\n",
    "    $$\\mu = \\frac{1}{N} \\sum_{i=1}^N s_i~~~~~~~~;~~~~~~~~\\sigma = \\sqrt{\\frac{1}{N-\\Delta_{\\text{dof}}} \\sum_{i=1}^N (s_i - \\mu)^2}$$"
   ]
  },
  {
   "cell_type": "code",
   "execution_count": null,
   "metadata": {
    "slideshow": {
     "slide_type": "fragment"
    }
   },
   "outputs": [],
   "source": [
    "int_range = pd.Series(np.arange(0, 101, 1))\n",
    "int_range"
   ]
  },
  {
   "cell_type": "code",
   "execution_count": null,
   "metadata": {
    "slideshow": {
     "slide_type": "fragment"
    }
   },
   "outputs": [],
   "source": [
    "f'{int_range.mean()=}, {int_range.median()=}, {int_range.std()=}'"
   ]
  },
  {
   "cell_type": "code",
   "execution_count": null,
   "metadata": {
    "slideshow": {
     "slide_type": "subslide"
    }
   },
   "outputs": [],
   "source": [
    "# The mean is the sum divided by the size\n",
    "f'mean = {int_range.sum() / int_range.count()};   {int_range.mean() = }'"
   ]
  },
  {
   "cell_type": "code",
   "execution_count": null,
   "metadata": {
    "slideshow": {
     "slide_type": "fragment"
    }
   },
   "outputs": [],
   "source": [
    "# The median is the \"halfway point\" of the sorted values\n",
    "int_range.loc[100] = 1000000\n",
    "int_range.mean(), int_range.median()"
   ]
  },
  {
   "cell_type": "code",
   "execution_count": null,
   "metadata": {
    "slideshow": {
     "slide_type": "subslide"
    }
   },
   "outputs": [],
   "source": [
    "# The Standard Deviation is tricky!\n",
    "# By default, Pandas uses the \"sample standard deviation\"\n",
    "pd.Series((0)).std(), pd.Series((0, 0)).std(), pd.Series((0, 2)).std()"
   ]
  },
  {
   "cell_type": "code",
   "execution_count": null,
   "metadata": {
    "slideshow": {
     "slide_type": "fragment"
    }
   },
   "outputs": [],
   "source": [
    "# If we want the uncorrected (\"numpy\") standard deviation, we have to pass ddof=0\n",
    "pd.Series((0)).std(ddof=0), pd.Series((0, 0)).std(ddof=0), pd.Series((0, 2)).std(ddof=0)"
   ]
  },
  {
   "cell_type": "code",
   "execution_count": null,
   "metadata": {
    "scrolled": true,
    "slideshow": {
     "slide_type": "fragment"
    }
   },
   "outputs": [],
   "source": [
    "help(pd.Series.std)"
   ]
  },
  {
   "cell_type": "markdown",
   "metadata": {
    "slideshow": {
     "slide_type": "slide"
    }
   },
   "source": [
    "### 4.3 `.max()`, `.min()`, `.quantile()`, `.describe()`\n",
    "* `.max()`, `.min()` retrieve the maximum and minimum numeric elements\n",
    "* `.quantile(q=0.5: float)` returns the value at a given quantile (in $[0, 1]$)\n",
    "    * a proportion of $q$ (and $1-q$, respectively) of series values is below (above) the result\n",
    "    * minimum, maximum values at q = 0, 1\n",
    "* `.describe()` gives summarizing statistics\n",
    "    * count and type of values\n",
    "    * mean and std\n",
    "    * min, max\n",
    "    * median and 1st, 3rd quartiles\n"
   ]
  },
  {
   "cell_type": "code",
   "execution_count": null,
   "metadata": {
    "slideshow": {
     "slide_type": "fragment"
    }
   },
   "outputs": [],
   "source": [
    "int_range"
   ]
  },
  {
   "cell_type": "code",
   "execution_count": null,
   "metadata": {},
   "outputs": [],
   "source": [
    "int_range.min(), int_range.max()"
   ]
  },
  {
   "cell_type": "code",
   "execution_count": null,
   "metadata": {
    "slideshow": {
     "slide_type": "fragment"
    }
   },
   "outputs": [],
   "source": [
    "int_range.describe()"
   ]
  },
  {
   "cell_type": "code",
   "execution_count": null,
   "metadata": {
    "slideshow": {
     "slide_type": "subslide"
    }
   },
   "outputs": [],
   "source": [
    "points = pd.Series((0, 10, 20, 30, 40, 50))\n",
    "points.quantile(0.6)"
   ]
  },
  {
   "cell_type": "code",
   "execution_count": null,
   "metadata": {
    "slideshow": {
     "slide_type": "fragment"
    }
   },
   "outputs": [],
   "source": [
    "points.quantile(0.5)"
   ]
  },
  {
   "cell_type": "code",
   "execution_count": null,
   "metadata": {
    "scrolled": true,
    "slideshow": {
     "slide_type": "fragment"
    }
   },
   "outputs": [],
   "source": [
    "help(pd.Series.quantile)"
   ]
  },
  {
   "cell_type": "markdown",
   "metadata": {
    "slideshow": {
     "slide_type": "slide"
    }
   },
   "source": [
    "### 4.4 `.head()`, `.tail()`, `.sample(n)`\n",
    "* To preview a series, it's often helpful to look at the first and last few values\n",
    "    * do I have the correct data?\n",
    "    * was the series read in or processed correctly?\n",
    "    * have headers and footers been removed?\n",
    "* don't use this to draw a sample from your data!"
   ]
  },
  {
   "cell_type": "code",
   "execution_count": null,
   "metadata": {
    "slideshow": {
     "slide_type": "fragment"
    }
   },
   "outputs": [],
   "source": [
    "int_range.head()"
   ]
  },
  {
   "cell_type": "code",
   "execution_count": null,
   "metadata": {
    "slideshow": {
     "slide_type": "fragment"
    }
   },
   "outputs": [],
   "source": [
    "int_range.tail(2)"
   ]
  },
  {
   "cell_type": "code",
   "execution_count": null,
   "metadata": {
    "slideshow": {
     "slide_type": "fragment"
    }
   },
   "outputs": [],
   "source": [
    "int_range.sample(4)"
   ]
  },
  {
   "cell_type": "markdown",
   "metadata": {
    "slideshow": {
     "slide_type": "slide"
    }
   },
   "source": [
    "### 4.5 `.value_counts()`, `.unique()`, `.duplicated()`\n",
    "* These methods are useful with *non-numeric* data\n",
    "    * e.g. a corpus of words\n",
    "* `.value_counts` returns a series with the frequency of values in a Series"
   ]
  },
  {
   "cell_type": "code",
   "execution_count": null,
   "metadata": {
    "slideshow": {
     "slide_type": "fragment"
    }
   },
   "outputs": [],
   "source": [
    "words = pd.Series('In Ulm und um Ulm und um Ulm herum'.split())\n",
    "words"
   ]
  },
  {
   "cell_type": "code",
   "execution_count": null,
   "metadata": {},
   "outputs": [],
   "source": [
    "words.describe()"
   ]
  },
  {
   "cell_type": "code",
   "execution_count": null,
   "metadata": {
    "slideshow": {
     "slide_type": "fragment"
    }
   },
   "outputs": [],
   "source": [
    "words.value_counts(normalize=True, ascending=True)"
   ]
  },
  {
   "cell_type": "code",
   "execution_count": null,
   "metadata": {
    "slideshow": {
     "slide_type": "fragment"
    }
   },
   "outputs": [],
   "source": [
    "words.value_counts()[words.value_counts() == 2]"
   ]
  },
  {
   "cell_type": "code",
   "execution_count": null,
   "metadata": {
    "slideshow": {
     "slide_type": "subslide"
    }
   },
   "outputs": [],
   "source": [
    "words.value_counts()[words.value_counts() > 1]"
   ]
  },
  {
   "cell_type": "code",
   "execution_count": null,
   "metadata": {
    "slideshow": {
     "slide_type": "fragment"
    }
   },
   "outputs": [],
   "source": [
    "words.duplicated()"
   ]
  },
  {
   "cell_type": "code",
   "execution_count": null,
   "metadata": {
    "slideshow": {
     "slide_type": "fragment"
    }
   },
   "outputs": [],
   "source": [
    "words[~words.duplicated()]"
   ]
  },
  {
   "cell_type": "code",
   "execution_count": null,
   "metadata": {
    "slideshow": {
     "slide_type": "fragment"
    }
   },
   "outputs": [],
   "source": [
    "words[~words.duplicated()].values"
   ]
  },
  {
   "cell_type": "code",
   "execution_count": null,
   "metadata": {
    "slideshow": {
     "slide_type": "fragment"
    }
   },
   "outputs": [],
   "source": [
    "words.unique()  # watch out: numpy array!"
   ]
  },
  {
   "cell_type": "markdown",
   "metadata": {
    "slideshow": {
     "slide_type": "slide"
    }
   },
   "source": [
    "### 4.6 Plots for statistical insight\n",
    "* *histograms* visualize the distribution of points, separated into bins\n",
    "    * displays distribution of one-dimensional data points\n",
    "    * quick diagnostic tool: range of values, most common value\n",
    "* *box plots* display the most important statistical parameters of a series\n",
    "    * median, quartiles, range of values, and outliers\n",
    "    * useful e.g. to compare across measurements\n",
    "\n",
    "* may be applied even in scatterplots: show *marginal* distribution of data"
   ]
  },
  {
   "cell_type": "code",
   "execution_count": null,
   "metadata": {
    "slideshow": {
     "slide_type": "fragment"
    }
   },
   "outputs": [],
   "source": [
    "number_of_samples = 100\n",
    "normal_sample = pd.Series(np.random.randn(number_of_samples))\n",
    "normal_sample.describe()"
   ]
  },
  {
   "cell_type": "code",
   "execution_count": null,
   "metadata": {
    "slideshow": {
     "slide_type": "slide"
    }
   },
   "outputs": [],
   "source": [
    "normal_sample.plot.hist(\n",
    "    title='random sample of the normal distribution',\n",
    "    bins=20,\n",
    "    density=False,\n",
    "    label='y',\n",
    "    legend=True,\n",
    ")"
   ]
  },
  {
   "cell_type": "code",
   "execution_count": null,
   "metadata": {
    "slideshow": {
     "slide_type": "fragment"
    }
   },
   "outputs": [],
   "source": [
    "help(plt.hist)"
   ]
  },
  {
   "cell_type": "code",
   "execution_count": null,
   "metadata": {
    "slideshow": {
     "slide_type": "slide"
    }
   },
   "outputs": [],
   "source": [
    "normal_sample.plot.box(\n",
    "    legend=True,\n",
    "    title='random sample of the normal distribution',\n",
    "    ylabel='(y - μ) / σ',\n",
    "    label=f'{number_of_samples} values',\n",
    ")"
   ]
  },
  {
   "cell_type": "code",
   "execution_count": null,
   "metadata": {
    "slideshow": {
     "slide_type": "fragment"
    }
   },
   "outputs": [],
   "source": [
    "help(plt.boxplot)"
   ]
  },
  {
   "cell_type": "markdown",
   "metadata": {},
   "source": [
    "### 4.7 Tasks"
   ]
  },
  {
   "cell_type": "markdown",
   "metadata": {
    "nbgrader": {
     "grade": false,
     "grade_id": "cell-2bcf0c3076541946",
     "locked": true,
     "schema_version": 3,
     "solution": false,
     "task": false
    }
   },
   "source": [
    "##### 1. Standardabweichung\n",
    "Berechnen Sie die Standardabweichung der `Series((0, 2))` einmal von Hand, einmal mit numpy, und einmal mit Pandas. Was stellen Sie fest? Was müssen Sie tun, um konsistente Ergebnisse zu erhalten?\n",
    "\n",
    "The standard deviation of a set of values $\\{x_i\\}_{i = 1,\\dots, N}$ is computed as follows:\n",
    "$$\n",
    "\\sigma = \\sqrt{\\frac{1}{N - \\Delta_\\mathrm{ddof}}\\sum_{i = 1}^N (x_i - \\mu)^2},\n",
    "$$\n",
    "where $\\mu$ is the mean value:\n",
    "$$\n",
    "\\mu = \\frac{1}{N}\\sum_{i=1}^N x_i\n",
    "$$"
   ]
  },
  {
   "cell_type": "markdown",
   "metadata": {
    "nbgrader": {
     "grade": false,
     "grade_id": "cell-dc29adcc97b5b801",
     "locked": true,
     "schema_version": 3,
     "solution": false,
     "task": false
    }
   },
   "source": [
    "##### 2. Eckpunkte einer Series\n",
    "Erzeugen Sie sich eine Series mit 400 zufälligen Integern zwischen 0 und 100.\n",
    "* Verschaffen Sie sich zunächst einen Überblick mit der `.describe`-Methode.\n",
    "* Welches sind die häufigsten Werte? Welche Werte tauchen am seltensten auf?\n",
    "* Wie oft tauchen die \"vollen 10'er\" auf, also 0, 10, 20,...?\n",
    "* Gibt es Werte zwischen 0 und 100, die gar nicht auftauchen? Wenn ja, welche?"
   ]
  },
  {
   "cell_type": "markdown",
   "metadata": {
    "collapsed": true,
    "slideshow": {
     "slide_type": "slide"
    }
   },
   "source": [
    "## 5 Data types and Missing Values"
   ]
  },
  {
   "cell_type": "markdown",
   "metadata": {
    "collapsed": true,
    "slideshow": {
     "slide_type": "fragment"
    }
   },
   "source": [
    "### 5.1 Series data types\n",
    "* internally, Series (and indices) use numpy datatypes\n",
    "* important implications for \"big data\":\n",
    "    * storage requirement differs widely\n",
    "    * overflow, precision\n",
    "* at creation, pandas determines a \"fitting\" dtype\n",
    "    * only numeric types or \"object\"\n",
    "* Series are \"flexible\"\n",
    "    * assignment can change the Series data type\n",
    "    * easy typecasting with `.astype`"
   ]
  },
  {
   "cell_type": "code",
   "execution_count": null,
   "metadata": {
    "slideshow": {
     "slide_type": "slide"
    }
   },
   "outputs": [],
   "source": [
    "integers = pd.Series([20, 30, 40])\n",
    "integers"
   ]
  },
  {
   "cell_type": "code",
   "execution_count": null,
   "metadata": {
    "slideshow": {
     "slide_type": "fragment"
    }
   },
   "outputs": [],
   "source": [
    "integers.dtype"
   ]
  },
  {
   "cell_type": "code",
   "execution_count": null,
   "metadata": {
    "slideshow": {
     "slide_type": "fragment"
    }
   },
   "outputs": [],
   "source": [
    "integers = pd.Series([20, 30, 40], dtype=np.int32)\n",
    "integers"
   ]
  },
  {
   "cell_type": "code",
   "execution_count": null,
   "metadata": {
    "slideshow": {
     "slide_type": "subslide"
    }
   },
   "outputs": [],
   "source": [
    "integers = integers.astype(np.int8)\n",
    "integers"
   ]
  },
  {
   "cell_type": "code",
   "execution_count": null,
   "metadata": {
    "slideshow": {
     "slide_type": "fragment"
    }
   },
   "outputs": [],
   "source": [
    "integers * 4"
   ]
  },
  {
   "cell_type": "code",
   "execution_count": null,
   "metadata": {
    "slideshow": {
     "slide_type": "fragment"
    }
   },
   "outputs": [],
   "source": [
    "floats = pd.Series([4, 5, 6], dtype=np.float64)\n",
    "floats, floats.values"
   ]
  },
  {
   "cell_type": "code",
   "execution_count": null,
   "metadata": {
    "slideshow": {
     "slide_type": "slide"
    }
   },
   "outputs": [],
   "source": [
    "objects = pd.Series('using a string yields dtype \"object\"'.split())\n",
    "objects"
   ]
  },
  {
   "cell_type": "code",
   "execution_count": null,
   "metadata": {
    "slideshow": {
     "slide_type": "slide"
    }
   },
   "outputs": [],
   "source": [
    "integers"
   ]
  },
  {
   "cell_type": "code",
   "execution_count": null,
   "metadata": {
    "slideshow": {
     "slide_type": "fragment"
    }
   },
   "outputs": [],
   "source": [
    "integers.loc[0] = 1.23  # Careful: Assignment with `.loc` changes Series type!\n",
    "integers"
   ]
  },
  {
   "cell_type": "code",
   "execution_count": null,
   "metadata": {
    "slideshow": {
     "slide_type": "fragment"
    }
   },
   "outputs": [],
   "source": [
    "integers.loc[3] = '56'\n",
    "integers"
   ]
  },
  {
   "cell_type": "code",
   "execution_count": null,
   "metadata": {
    "slideshow": {
     "slide_type": "fragment"
    }
   },
   "outputs": [],
   "source": [
    "integers.sum()  # Python can not add \"str\" and \"float\""
   ]
  },
  {
   "cell_type": "code",
   "execution_count": null,
   "metadata": {
    "slideshow": {
     "slide_type": "slide"
    }
   },
   "outputs": [],
   "source": [
    "integers = integers.astype(np.float32)\n",
    "integers"
   ]
  },
  {
   "cell_type": "code",
   "execution_count": null,
   "metadata": {
    "slideshow": {
     "slide_type": "fragment"
    }
   },
   "outputs": [],
   "source": [
    "integers.sum()"
   ]
  },
  {
   "cell_type": "code",
   "execution_count": null,
   "metadata": {
    "slideshow": {
     "slide_type": "fragment"
    }
   },
   "outputs": [],
   "source": [
    "integers.astype(np.int8)"
   ]
  },
  {
   "cell_type": "code",
   "execution_count": null,
   "metadata": {
    "slideshow": {
     "slide_type": "slide"
    }
   },
   "outputs": [],
   "source": [
    "strings = pd.Series('12 34 56 78'.split())\n",
    "strings.sum()\n",
    "strings"
   ]
  },
  {
   "cell_type": "code",
   "execution_count": null,
   "metadata": {
    "slideshow": {
     "slide_type": "fragment"
    }
   },
   "outputs": [],
   "source": [
    "strings.mean()"
   ]
  },
  {
   "cell_type": "code",
   "execution_count": null,
   "metadata": {
    "slideshow": {
     "slide_type": "fragment"
    }
   },
   "outputs": [],
   "source": [
    "strings = strings.astype(np.int64)  # need to assign back. Not in-place!\n",
    "strings.mean()"
   ]
  },
  {
   "cell_type": "code",
   "execution_count": null,
   "metadata": {
    "slideshow": {
     "slide_type": "slide"
    }
   },
   "outputs": [],
   "source": [
    "boolean_mask = integers < 50\n",
    "boolean_mask"
   ]
  },
  {
   "cell_type": "code",
   "execution_count": null,
   "metadata": {
    "slideshow": {
     "slide_type": "fragment"
    }
   },
   "outputs": [],
   "source": [
    "pd.Series(\n",
    "    ['big', 'small', 'big', 'big', 'big', 'small', 'big', 'small', 'small'],\n",
    "    dtype='category',\n",
    ")"
   ]
  },
  {
   "cell_type": "code",
   "execution_count": null,
   "metadata": {
    "slideshow": {
     "slide_type": "fragment"
    }
   },
   "outputs": [],
   "source": [
    "from datetime import datetime, timedelta\n",
    "\n",
    "dates = pd.Series([datetime.fromisoformat(f'2021-04-{day:02}') for day in range(1, 31)])\n",
    "times = pd.Series([timedelta(hours=day) for day in range(0, 30)])\n",
    "dates.head(), times.head()"
   ]
  },
  {
   "cell_type": "code",
   "execution_count": null,
   "metadata": {
    "slideshow": {
     "slide_type": "fragment"
    }
   },
   "outputs": [],
   "source": [
    "(dates + times).head()"
   ]
  },
  {
   "cell_type": "markdown",
   "metadata": {
    "slideshow": {
     "slide_type": "slide"
    }
   },
   "source": [
    "### 5.2 Missing Values\n",
    "* `np.nan` is a special `np.float`\n",
    "* designates missing or undefined data\n",
    "    * \"no response\" in survey data\n",
    "    * result of certain invalid operations (e.g. `0 / 0`)\n",
    "* pandas provides functions and parameters for skipping `NaN` values\n",
    "\n",
    "\n",
    "* Experimental: pandas provides its own \"missing value\": `pd.NA`\n",
    "    * can be used as integer"
   ]
  },
  {
   "cell_type": "code",
   "execution_count": null,
   "metadata": {
    "slideshow": {
     "slide_type": "fragment"
    }
   },
   "outputs": [],
   "source": [
    "np.nan, pd.NA"
   ]
  },
  {
   "cell_type": "code",
   "execution_count": null,
   "metadata": {
    "slideshow": {
     "slide_type": "slide"
    }
   },
   "outputs": [],
   "source": [
    "miss = pd.Series([1, 2, np.nan, 4, 5])  # , dtype='Int64')\n",
    "miss"
   ]
  },
  {
   "cell_type": "code",
   "execution_count": null,
   "metadata": {
    "slideshow": {
     "slide_type": "fragment"
    }
   },
   "outputs": [],
   "source": [
    "miss.size, miss.count()"
   ]
  },
  {
   "cell_type": "code",
   "execution_count": null,
   "metadata": {
    "slideshow": {
     "slide_type": "fragment"
    }
   },
   "outputs": [],
   "source": [
    "type(np.nan)"
   ]
  },
  {
   "cell_type": "code",
   "execution_count": null,
   "metadata": {
    "slideshow": {
     "slide_type": "fragment"
    }
   },
   "outputs": [],
   "source": [
    "np.nan + 10"
   ]
  },
  {
   "cell_type": "code",
   "execution_count": null,
   "metadata": {
    "slideshow": {
     "slide_type": "fragment"
    }
   },
   "outputs": [],
   "source": [
    "np.nan == np.nan"
   ]
  },
  {
   "cell_type": "code",
   "execution_count": null,
   "metadata": {
    "slideshow": {
     "slide_type": "fragment"
    }
   },
   "outputs": [],
   "source": [
    "np.nan is np.nan"
   ]
  },
  {
   "cell_type": "markdown",
   "metadata": {
    "slideshow": {
     "slide_type": "slide"
    }
   },
   "source": [
    "#### 5.2.1 Dealing with NaN\n",
    "* numpy typically does *not* deal with nan itself\n",
    "* pandas often tried to accommodate missing data as best it can\n",
    "    * treated as 0, and does not add to count\n",
    "* different methods are applicable in different situations:\n",
    "    * `dropna` removes missing values\n",
    "    * `fillna`, `interpolate` fill in missing values\n",
    "    * `fill_value` prevents creation of missing values"
   ]
  },
  {
   "cell_type": "code",
   "execution_count": null,
   "metadata": {
    "slideshow": {
     "slide_type": "slide"
    }
   },
   "outputs": [],
   "source": [
    "miss.values.sum()  # this sums the numpy array"
   ]
  },
  {
   "cell_type": "code",
   "execution_count": null,
   "metadata": {
    "slideshow": {
     "slide_type": "fragment"
    }
   },
   "outputs": [],
   "source": [
    "miss.sum()  # this skips na by default!"
   ]
  },
  {
   "cell_type": "code",
   "execution_count": null,
   "metadata": {
    "slideshow": {
     "slide_type": "fragment"
    }
   },
   "outputs": [],
   "source": [
    "help(pd.Series.sum)"
   ]
  },
  {
   "cell_type": "code",
   "execution_count": null,
   "metadata": {
    "slideshow": {
     "slide_type": "slide"
    }
   },
   "outputs": [],
   "source": [
    "many_missing_values = pd.Series(\n",
    "    [-15, np.nan, 4, 9, np.nan, 1, -10, -12, np.nan, np.nan, 3, 13, 25, np.nan]\n",
    ")\n",
    "many_missing_values"
   ]
  },
  {
   "cell_type": "code",
   "execution_count": null,
   "metadata": {
    "slideshow": {
     "slide_type": "fragment"
    }
   },
   "outputs": [],
   "source": [
    "many_missing_values.dropna()  # This gets rid of `nan` values"
   ]
  },
  {
   "cell_type": "code",
   "execution_count": null,
   "metadata": {
    "slideshow": {
     "slide_type": "fragment"
    }
   },
   "outputs": [],
   "source": [
    "many_missing_values.fillna(many_missing_values.mean())"
   ]
  },
  {
   "cell_type": "markdown",
   "metadata": {
    "slideshow": {
     "slide_type": "slide"
    }
   },
   "source": [
    "####  5.2.2 fill_value\n",
    "* numeric operations have optional parameter `fill_value`\n",
    "* prevents creation of `nan` values when index is not available\n",
    "* which value is appropriate depends on the operation and context"
   ]
  },
  {
   "cell_type": "code",
   "execution_count": null,
   "metadata": {
    "slideshow": {
     "slide_type": "fragment"
    }
   },
   "outputs": [],
   "source": [
    "revenue = pd.Series([1, 2, 3, 4, 5], index=[2017, 2018, 2019, 2020, 2021])\n",
    "expenses = pd.Series([2, 3, 3, 1], index=[2017, 2018, 2019, 2020])\n",
    "revenue - expenses  # value for 2021 is missing!"
   ]
  },
  {
   "cell_type": "code",
   "execution_count": null,
   "metadata": {
    "slideshow": {
     "slide_type": "fragment"
    }
   },
   "outputs": [],
   "source": [
    "revenue.sub(expenses, fill_value=0)"
   ]
  },
  {
   "cell_type": "markdown",
   "metadata": {
    "slideshow": {
     "slide_type": "slide"
    }
   },
   "source": [
    "#### 5.2.3 interpolate\n",
    "* pandas can interpolate missing values\n",
    "* various methods available\n",
    "    * linear, splines, for smooth plotting, time-sensitive\n",
    "* warning: this \"invents\" data"
   ]
  },
  {
   "cell_type": "code",
   "execution_count": null,
   "metadata": {
    "slideshow": {
     "slide_type": "fragment"
    }
   },
   "outputs": [],
   "source": [
    "many_missing_values.interpolate(method='akima').plot.line(label='akima', legend=True)\n",
    "many_missing_values.interpolate(method='linear').plot.line(label='linear', legend=True)\n",
    "many_missing_values.interpolate(method='spline', order=3).plot.line(\n",
    "    label='spline', legend=True\n",
    ")\n",
    "\n",
    "many_missing_values.plot.line(style='o', legend=True, label='measured')"
   ]
  },
  {
   "cell_type": "markdown",
   "metadata": {},
   "source": [
    "### 5.3 Tasks"
   ]
  },
  {
   "cell_type": "markdown",
   "metadata": {
    "nbgrader": {
     "grade": false,
     "grade_id": "cell-bc1d30f0f3d88b02",
     "locked": true,
     "schema_version": 3,
     "solution": false,
     "task": false
    }
   },
   "source": [
    "##### 1. Auftreten bei Operationen\n",
    "Erzeugen Sie drei Series mit normalverteilten Zufallszahlen:\n",
    "* Eine Series mit 4 Werten und den Indizes 'abcd',\n",
    "* eine Series mit 5 Werten und den Indizes 'abcde', und\n",
    "* eine Series mit 6 Werten und den Indizes 'abcabc'.\n",
    "\n",
    "Multiplizieren und addieren Sie die Series jeweils paarweise.\n",
    "* Wie können Sie jeweils sinnvollerweise mit `nan`-Werten umgehen oder diese vermeiden?\n",
    "* Welchen Einfluss haben diese Vorgehensweisen auf Mittelwert und Standardabweichung?"
   ]
  },
  {
   "cell_type": "markdown",
   "metadata": {
    "nbgrader": {
     "grade": false,
     "grade_id": "cell-b626ad39fc15ce69",
     "locked": true,
     "schema_version": 3,
     "solution": false,
     "task": false
    }
   },
   "source": [
    "##### 2. `size` und Imputieren fehlender Werte\n",
    "Erzeugen Sie eine `Series` mit 1000 zufälligen `float`s zwischen 0 und 1000.\n",
    "* Ersetzen Sie alle Werte < 100 und alle Werte > 900 mit `np.nan`.\n",
    "    * Was ist die Summe, die Standardabweichung, und der Mittelwert der Series?\n",
    "    * Was ist ihre `size`, und wie viele Werte verbleiben?\n",
    "* Ersetzen Sie alle nun fehlenden Werte mit dem Mittelwert der verbleibenden Werte.\n",
    "    * Wie ändern sich dadurch Summe, Mittelwert, und Standardabweichung?"
   ]
  },
  {
   "cell_type": "markdown",
   "metadata": {
    "slideshow": {
     "slide_type": "slide"
    }
   },
   "source": [
    "## 6 Transformations\n",
    "* Series values and indices are mutable\n",
    "    * can easily be re-assigned\n",
    "    * typical operations still create new instances\n",
    "    * `inplace=True` is deprecated"
   ]
  },
  {
   "cell_type": "markdown",
   "metadata": {
    "slideshow": {
     "slide_type": "slide"
    }
   },
   "source": [
    "* more comprehensive transformations need dedicated methods\n",
    "    * replace\n",
    "        * `Series.replace` *ignores* values not found\n",
    "        * `Series.map` *drops* values not found\n",
    "        \n",
    "    * condense\n",
    "        * `Series.cumsum` adds progressively\n",
    "        * `Series.aggregate` (or `Series.agg`) returns a scalar value\n",
    "        \n",
    "    * sort\n",
    "        * `Series.sort_values` sorts by series *values*\n",
    "        * `Series.sort_index` sort by series *index*\n",
    "    \n",
    "    * manipulate\n",
    "        * `Series.apply` uses a single function\n",
    "        * `Series.transform` uses one or more functions, \"string functions\", or dicts"
   ]
  },
  {
   "cell_type": "markdown",
   "metadata": {
    "slideshow": {
     "slide_type": "slide"
    }
   },
   "source": [
    "### 6.1 Replace and map\n",
    "* Replace values with different values according to a replacement rule\n",
    "* for the difference, see also https://stackoverflow.com/a/62947436"
   ]
  },
  {
   "cell_type": "markdown",
   "metadata": {
    "slideshow": {
     "slide_type": "slide"
    }
   },
   "source": [
    "#### `Series.replace`\n",
    "- can utilize strings or regular expressions\n",
    "- may give two positional arguments: replace first with second\n",
    "- may also give a mapping (dict or Series)\n",
    "- all values not explicitly given are ignored"
   ]
  },
  {
   "cell_type": "code",
   "execution_count": null,
   "metadata": {
    "slideshow": {
     "slide_type": "fragment"
    }
   },
   "outputs": [],
   "source": [
    "help(pd.Series.replace)"
   ]
  },
  {
   "cell_type": "code",
   "execution_count": null,
   "metadata": {
    "slideshow": {
     "slide_type": "subslide"
    }
   },
   "outputs": [],
   "source": [
    "strings = pd.Series('Er sah das Wasser as'.split())\n",
    "strings"
   ]
  },
  {
   "cell_type": "code",
   "execution_count": null,
   "metadata": {
    "scrolled": true,
    "slideshow": {
     "slide_type": "fragment"
    }
   },
   "outputs": [],
   "source": [
    "strings.replace('as', 'an')"
   ]
  },
  {
   "cell_type": "code",
   "execution_count": null,
   "metadata": {
    "slideshow": {
     "slide_type": "fragment"
    }
   },
   "outputs": [],
   "source": [
    "strings.replace('^.s$', 'an', regex=True)  # with a regular expression"
   ]
  },
  {
   "cell_type": "code",
   "execution_count": null,
   "metadata": {
    "slideshow": {
     "slide_type": "subslide"
    }
   },
   "outputs": [],
   "source": [
    "integers = pd.Series((0, 10, 20, 30))\n",
    "integers.replace(0, 1000)  # with two values"
   ]
  },
  {
   "cell_type": "code",
   "execution_count": null,
   "metadata": {
    "slideshow": {
     "slide_type": "fragment"
    }
   },
   "outputs": [],
   "source": [
    "integers.replace({10: 100, 20: 200, 50: 10})  # with a dict"
   ]
  },
  {
   "cell_type": "code",
   "execution_count": null,
   "metadata": {
    "slideshow": {
     "slide_type": "fragment"
    }
   },
   "outputs": [],
   "source": [
    "replacement = pd.Series(data=(5, 6, 7), index=(0, 10, 20))\n",
    "print(integers,replacement)\n",
    "integers.replace(replacement)  # with a Series"
   ]
  },
  {
   "cell_type": "markdown",
   "metadata": {
    "slideshow": {
     "slide_type": "slide"
    }
   },
   "source": [
    "#### `Series.map`\n",
    "- accepts a Series, dict, or function\n",
    "    - `Series` with old values in the index\n",
    "    - `dict` with old values: new values as key-value pairs\n",
    "    - function with a single argument: similar to `apply` (see below)\n",
    "- if a value is not found, replace with `na`"
   ]
  },
  {
   "cell_type": "code",
   "execution_count": null,
   "metadata": {
    "scrolled": true,
    "slideshow": {
     "slide_type": "fragment"
    }
   },
   "outputs": [],
   "source": [
    "help(pd.Series.map)"
   ]
  },
  {
   "cell_type": "code",
   "execution_count": null,
   "metadata": {
    "slideshow": {
     "slide_type": "subslide"
    }
   },
   "outputs": [],
   "source": [
    "integers"
   ]
  },
  {
   "cell_type": "code",
   "execution_count": null,
   "metadata": {
    "slideshow": {
     "slide_type": "fragment"
    }
   },
   "outputs": [],
   "source": [
    "replacement"
   ]
  },
  {
   "cell_type": "code",
   "execution_count": null,
   "metadata": {
    "slideshow": {
     "slide_type": "fragment"
    }
   },
   "outputs": [],
   "source": [
    "integers.map(replacement)"
   ]
  },
  {
   "cell_type": "code",
   "execution_count": null,
   "metadata": {
    "slideshow": {
     "slide_type": "fragment"
    }
   },
   "outputs": [],
   "source": [
    "integers.map({10: 100, 20: 200, 50: 10})"
   ]
  },
  {
   "cell_type": "markdown",
   "metadata": {
    "slideshow": {
     "slide_type": "slide"
    }
   },
   "source": [
    "### 6.2 Condense\n",
    "- `Series.cumsum` cumulates values\n",
    "- `Series.mean`, `Series.std` for statistics\n",
    "- `Series.all`, `Series.any` for truthiness\n",
    "- `Series.agg` with arbitrary functions"
   ]
  },
  {
   "cell_type": "markdown",
   "metadata": {
    "slideshow": {
     "slide_type": "slide"
    }
   },
   "source": [
    "#### `Series.cumsum`\n",
    "- adds up all values\n",
    "- sometimes useful in statistics\n",
    "- returns a Series of the sum up to each index"
   ]
  },
  {
   "cell_type": "code",
   "execution_count": null,
   "metadata": {
    "scrolled": true,
    "slideshow": {
     "slide_type": "fragment"
    }
   },
   "outputs": [],
   "source": [
    "help(pd.Series.cumsum)"
   ]
  },
  {
   "cell_type": "code",
   "execution_count": null,
   "metadata": {
    "slideshow": {
     "slide_type": "slide"
    }
   },
   "outputs": [],
   "source": [
    "errors = pd.Series(\n",
    "    (1, 1, 0, 0, 2, 2, 1), index=pd.date_range(start='2021-04-01', periods=7)\n",
    ")\n",
    "errors"
   ]
  },
  {
   "cell_type": "code",
   "execution_count": null,
   "metadata": {
    "slideshow": {
     "slide_type": "fragment"
    }
   },
   "outputs": [],
   "source": [
    "errors.cumsum()"
   ]
  },
  {
   "cell_type": "markdown",
   "metadata": {
    "slideshow": {
     "slide_type": "slide"
    }
   },
   "source": [
    "#### `Series.aggregate`\n",
    "* applies a function to a Series\n",
    "    * returns a single value\n",
    "* applies a *list of* functions\n",
    "    * returns a *Series of* values"
   ]
  },
  {
   "cell_type": "code",
   "execution_count": null,
   "metadata": {
    "slideshow": {
     "slide_type": "fragment"
    }
   },
   "outputs": [],
   "source": [
    "integers.agg('max')"
   ]
  },
  {
   "cell_type": "code",
   "execution_count": null,
   "metadata": {
    "slideshow": {
     "slide_type": "fragment"
    }
   },
   "outputs": [],
   "source": [
    "integers.agg('std', ddof=1)"
   ]
  },
  {
   "cell_type": "code",
   "execution_count": null,
   "metadata": {
    "slideshow": {
     "slide_type": "fragment"
    }
   },
   "outputs": [],
   "source": [
    "random_normal = pd.Series(1.87 * np.random.randn(1000))\n",
    "random_normal.agg(['product', 'sum'])"
   ]
  },
  {
   "cell_type": "code",
   "execution_count": null,
   "metadata": {
    "slideshow": {
     "slide_type": "fragment"
    }
   },
   "outputs": [],
   "source": [
    "random_normal.agg(\n",
    "    [\n",
    "        pd.Series.count,\n",
    "        pd.Series.mean,\n",
    "        pd.Series.std,\n",
    "        pd.Series.min,\n",
    "        pd.Series.max,\n",
    "        pd.Series.quantile,\n",
    "        pd.Series.quantile,\n",
    "    ],\n",
    "    q=0.25,\n",
    ")"
   ]
  },
  {
   "cell_type": "markdown",
   "metadata": {
    "slideshow": {
     "slide_type": "subslide"
    }
   },
   "source": [
    "* note: relatively trivial when applied to Series\n",
    "* more interesting with DataFrames\n",
    "    * precise control over axis of aggregation\n",
    "    * different methods for different columns, at once"
   ]
  },
  {
   "cell_type": "code",
   "execution_count": null,
   "metadata": {
    "scrolled": true,
    "slideshow": {
     "slide_type": "fragment"
    }
   },
   "outputs": [],
   "source": [
    "help(pd.Series.agg)"
   ]
  },
  {
   "cell_type": "markdown",
   "metadata": {
    "slideshow": {
     "slide_type": "slide"
    }
   },
   "source": [
    "### 6.3 Sort\n",
    "* a very basic way to manipulate data\n",
    "* small values first, big values later\n",
    "    * may pass custom key to sort data by\n",
    "* may introduce bias and destroy information\n",
    "    * order of items may convey \"hidden\" information\n",
    "    * instead, we suggest a new order which was never there\n",
    "* sorting the underlying numpy arrays is faster"
   ]
  },
  {
   "cell_type": "code",
   "execution_count": null,
   "metadata": {
    "slideshow": {
     "slide_type": "fragment"
    }
   },
   "outputs": [],
   "source": [
    "help(pd.Series.sort_values)"
   ]
  },
  {
   "cell_type": "markdown",
   "metadata": {
    "slideshow": {
     "slide_type": "slide"
    }
   },
   "source": [
    "#### `Series.sort_values`\n",
    "- returns a new Series, sorted by value\n",
    "    - sorting order depends on datatype\n",
    "- may sort in `ascending` order (or not)\n",
    "- may `ignore_index` to create a new numeric index\n",
    "- may sort missing values first or last"
   ]
  },
  {
   "cell_type": "code",
   "execution_count": null,
   "metadata": {
    "slideshow": {
     "slide_type": "fragment"
    }
   },
   "outputs": [],
   "source": [
    "pd.Series((100, 11, 1)).sort_values()"
   ]
  },
  {
   "cell_type": "code",
   "execution_count": null,
   "metadata": {
    "slideshow": {
     "slide_type": "fragment"
    }
   },
   "outputs": [],
   "source": [
    "pd.Series(('100', '11', '1')).sort_values()"
   ]
  },
  {
   "cell_type": "code",
   "execution_count": null,
   "metadata": {
    "scrolled": true,
    "slideshow": {
     "slide_type": "fragment"
    }
   },
   "outputs": [],
   "source": [
    "pd.Series(('100', '11', '1')).sort_values(ignore_index=True)"
   ]
  },
  {
   "cell_type": "code",
   "execution_count": null,
   "metadata": {
    "slideshow": {
     "slide_type": "subslide"
    }
   },
   "outputs": [],
   "source": [
    "random_normal.sort_values(na_position='first')"
   ]
  },
  {
   "cell_type": "code",
   "execution_count": null,
   "metadata": {
    "slideshow": {
     "slide_type": "fragment"
    }
   },
   "outputs": [],
   "source": [
    "random_normal.sort_values(ascending=False)"
   ]
  },
  {
   "cell_type": "code",
   "execution_count": null,
   "metadata": {
    "slideshow": {
     "slide_type": "fragment"
    }
   },
   "outputs": [],
   "source": [
    "%%timeit\n",
    "np.random.seed(1)\n",
    "values = pd.Series(np.random.randn(10_000_000)).sort_values()"
   ]
  },
  {
   "cell_type": "code",
   "execution_count": null,
   "metadata": {
    "slideshow": {
     "slide_type": "fragment"
    }
   },
   "outputs": [],
   "source": [
    "%%timeit\n",
    "np.random.seed(1)\n",
    "values = np.random.randn(10_000_000)\n",
    "values.sort()"
   ]
  },
  {
   "cell_type": "markdown",
   "metadata": {
    "slideshow": {
     "slide_type": "slide"
    }
   },
   "source": [
    "#### `Series.sort_index`\n",
    "- we may also sort by index\n",
    "- when Series have more than one index, sort sequentially\n",
    "    - may give indices to sort first by\n",
    "    - may ignore other indices"
   ]
  },
  {
   "cell_type": "code",
   "execution_count": null,
   "metadata": {
    "slideshow": {
     "slide_type": "fragment"
    }
   },
   "outputs": [],
   "source": [
    "random_normal.sort_index()"
   ]
  },
  {
   "cell_type": "code",
   "execution_count": null,
   "metadata": {
    "slideshow": {
     "slide_type": "fragment"
    }
   },
   "outputs": [],
   "source": [
    "help(pd.Series.sort_index)"
   ]
  },
  {
   "cell_type": "markdown",
   "metadata": {
    "slideshow": {
     "slide_type": "slide"
    }
   },
   "source": [
    "#### sort functions\n",
    "- so far only sorted \"from small to big\" and \"from big to small\"\n",
    "- arbitrary functions can be given as \"key\" to sort by\n",
    "- series are then sorted by function output"
   ]
  },
  {
   "cell_type": "code",
   "execution_count": null,
   "metadata": {
    "slideshow": {
     "slide_type": "fragment"
    }
   },
   "outputs": [],
   "source": [
    "def sort_function(s: int) -> int:\n",
    "    return np.sin(abs(s))"
   ]
  },
  {
   "cell_type": "code",
   "execution_count": null,
   "metadata": {
    "slideshow": {
     "slide_type": "fragment"
    }
   },
   "outputs": [],
   "source": [
    "random_normal.sort_values(key=sort_function)"
   ]
  },
  {
   "cell_type": "markdown",
   "metadata": {
    "slideshow": {
     "slide_type": "slide"
    }
   },
   "source": [
    "### 6.4 Apply and Transform\n",
    "- invoke a function on the values\n",
    "    - operates on *one row at a time*\n",
    "    - may provide additional keyword args\n",
    "- for the difference, see https://towardsdatascience.com/difference-between-apply-and-transform-in-pandas-242e5cf32705"
   ]
  },
  {
   "cell_type": "code",
   "execution_count": null,
   "metadata": {
    "scrolled": true,
    "slideshow": {
     "slide_type": "fragment"
    }
   },
   "outputs": [],
   "source": [
    "help(pd.Series.apply)"
   ]
  },
  {
   "cell_type": "code",
   "execution_count": null,
   "metadata": {
    "scrolled": true,
    "slideshow": {
     "slide_type": "fragment"
    }
   },
   "outputs": [],
   "source": [
    "help(pd.Series.transform)"
   ]
  },
  {
   "cell_type": "markdown",
   "metadata": {
    "slideshow": {
     "slide_type": "slide"
    }
   },
   "source": [
    "#### `Series.transform`\n",
    "(single Series $\\rightarrow$ multiple results)\n",
    "- may use a (numpy or python) function, a 'string function', a list of functions, or a dict\n",
    "- cannot use to aggregate Series (result has same length as input)\n",
    "- may only use a single Series at a time"
   ]
  },
  {
   "cell_type": "code",
   "execution_count": null,
   "metadata": {
    "slideshow": {
     "slide_type": "fragment"
    }
   },
   "outputs": [],
   "source": [
    "integers = pd.Series((10, 20, 30))"
   ]
  },
  {
   "cell_type": "code",
   "execution_count": null,
   "metadata": {
    "slideshow": {
     "slide_type": "fragment"
    }
   },
   "outputs": [],
   "source": [
    "integers.transform(np.exp)  # numpy ufunc"
   ]
  },
  {
   "cell_type": "code",
   "execution_count": null,
   "metadata": {
    "slideshow": {
     "slide_type": "subslide"
    }
   },
   "outputs": [],
   "source": [
    "def loglin(x, base=np.e):\n",
    "    return x * np.log(x) / np.log(base)\n",
    "\n",
    "\n",
    "integers.transform(loglin, base=10)  # Python function"
   ]
  },
  {
   "cell_type": "code",
   "execution_count": null,
   "metadata": {
    "scrolled": true,
    "slideshow": {
     "slide_type": "fragment"
    }
   },
   "outputs": [],
   "source": [
    "integers.transform('sqrt')  # \"string function\": Pandas looks these up"
   ]
  },
  {
   "cell_type": "code",
   "execution_count": null,
   "metadata": {
    "slideshow": {
     "slide_type": "subslide"
    }
   },
   "outputs": [],
   "source": [
    "integers.transform(['sqrt', np.square, loglin])  # output is a `pd.DataFrame`!"
   ]
  },
  {
   "cell_type": "markdown",
   "metadata": {
    "slideshow": {
     "slide_type": "slide"
    }
   },
   "source": [
    "#### `Series.apply`\n",
    "(multiple Series $\\rightarrow$ single result)\n",
    "- may *only* use a numpy ufunc, string function, or a Python function (no list or dict!)\n",
    "- may use multiple Series (of a DataFrame) at a time\n",
    "- may produce aggregated results\n",
    "- may automatically convert the data type"
   ]
  },
  {
   "cell_type": "code",
   "execution_count": null,
   "metadata": {
    "slideshow": {
     "slide_type": "fragment"
    }
   },
   "outputs": [],
   "source": [
    "integers.apply(np.sqrt)  # `Series` result"
   ]
  },
  {
   "cell_type": "code",
   "execution_count": null,
   "metadata": {
    "slideshow": {
     "slide_type": "fragment"
    }
   },
   "outputs": [],
   "source": [
    "integers.apply('prod')  # scalar result, does not work with Series.transform"
   ]
  },
  {
   "cell_type": "code",
   "execution_count": null,
   "metadata": {
    "slideshow": {
     "slide_type": "fragment"
    }
   },
   "outputs": [],
   "source": [
    "integers.apply(loglin, base=10, convert_dtype=False)"
   ]
  },
  {
   "cell_type": "code",
   "execution_count": null,
   "metadata": {
    "slideshow": {
     "slide_type": "fragment"
    }
   },
   "outputs": [],
   "source": [
    "transformed_ints = integers.transform(['sqrt', np.square, loglin])\n",
    "transformed_ints"
   ]
  },
  {
   "cell_type": "code",
   "execution_count": null,
   "metadata": {
    "slideshow": {
     "slide_type": "fragment"
    }
   },
   "outputs": [],
   "source": [
    "transformed_ints.apply('sum')  # returns a Series"
   ]
  },
  {
   "cell_type": "code",
   "execution_count": null,
   "metadata": {
    "slideshow": {
     "slide_type": "fragment"
    }
   },
   "outputs": [],
   "source": [
    "transformed_ints.apply('sum', axis=1)"
   ]
  },
  {
   "cell_type": "code",
   "execution_count": null,
   "metadata": {
    "slideshow": {
     "slide_type": "subslide"
    }
   },
   "outputs": [],
   "source": [
    "transformed_ints"
   ]
  },
  {
   "cell_type": "code",
   "execution_count": null,
   "metadata": {
    "slideshow": {
     "slide_type": "fragment"
    }
   },
   "outputs": [],
   "source": [
    "def weigh_by_index(x: pd.DataFrame) -> pd.Series:\n",
    "    return x.values * x.index\n",
    "\n",
    "\n",
    "transformed_ints.apply(weigh_by_index, axis=0)"
   ]
  },
  {
   "cell_type": "code",
   "execution_count": null,
   "metadata": {
    "slideshow": {
     "slide_type": "fragment"
    }
   },
   "outputs": [],
   "source": [
    "def my_condensation(x: pd.DataFrame) -> pd.Series:\n",
    "    return x['sqrt'] + (x['square'] * x['loglin'])\n",
    "\n",
    "\n",
    "transformed_ints.apply(my_condensation, axis=1)"
   ]
  },
  {
   "cell_type": "code",
   "execution_count": null,
   "metadata": {
    "slideshow": {
     "slide_type": "fragment"
    }
   },
   "outputs": [],
   "source": [
    "transformed_ints.transform(my_condensation, axis=1)"
   ]
  },
  {
   "cell_type": "markdown",
   "metadata": {},
   "source": [
    "### 6.5 Tasks"
   ]
  },
  {
   "cell_type": "markdown",
   "metadata": {
    "nbgrader": {
     "grade": false,
     "grade_id": "cell-3af84e907f2a9fcd",
     "locked": true,
     "schema_version": 3,
     "solution": false,
     "task": false
    }
   },
   "source": [
    "Betrachten Sie die `Series` namens `ints` mit einem manuell gesetzten Index und zufällig gewählten Werten."
   ]
  },
  {
   "cell_type": "code",
   "execution_count": null,
   "metadata": {
    "nbgrader": {
     "grade": false,
     "grade_id": "cell-0fb4e2a974d8642d",
     "locked": true,
     "schema_version": 3,
     "solution": false,
     "task": false
    }
   },
   "outputs": [],
   "source": [
    "np.random.seed(1)\n",
    "ints = pd.Series(np.random.randint(0, 10, 10), index=range(0, 20, 2))\n",
    "ints"
   ]
  },
  {
   "cell_type": "markdown",
   "metadata": {
    "nbgrader": {
     "grade": false,
     "grade_id": "cell-e917bd9014fb11ef",
     "locked": true,
     "schema_version": 3,
     "solution": false,
     "task": false
    }
   },
   "source": [
    "##### 1. `replace`, `map`, und `aggregate`\n",
    "- `replace`, `map`\n",
    "    - Was erhalten Sie mit `ints.replace(ints)`? Warum erhalten Sie viele ungerade Werte?\n",
    "    - Was erhalten Sie mit `ints.map(ints)`? Warum hat das Ergebnis fehlende Werte?\n",
    "- aggregate\n",
    "    - Schreiben Sie Funktionen `sum_odd` und `sum_even`, welche die ungeraden bzw. geraden Werte einer Series addiert. Nutzen Sie `Series.aggregate`, um sich eine neue Series mit der Summe der ungeraden Werte, der geraden Werte, und aller Werte zu erstellen."
   ]
  },
  {
   "cell_type": "markdown",
   "metadata": {
    "nbgrader": {
     "grade": false,
     "grade_id": "cell-11a50bf80ec789ae",
     "locked": true,
     "schema_version": 3,
     "solution": false,
     "task": false
    }
   },
   "source": [
    "##### 2. `sort`, `apply`, und `transform`\n",
    "- `sort`\n",
    "    - Sortieren Sie die Werte. Wie unterscheiden sich `kind='heapsort'` und `kind='quicksort'`?\n",
    "- `apply`, `transform`\n",
    "  - Wenden Sie (mit `Series.apply`) die Funktionen `np.log`, `np.exp`, `'sqrt'`, und `'square'` auf die Werte an, sodass Sie einen `DataFrame` erhalten.\n",
    "  - Wenden Sie auf diesen `DataFrame` die Funktion `'sum'` so an, dass Sie eine Series mit dem gleichen Index, aber als Werte die Summe aller Spalten erhalten.\n",
    "  - wie können Sie mit `Series.transform` das gleiche Endergebnis erhalten?"
   ]
  },
  {
   "cell_type": "markdown",
   "metadata": {
    "slideshow": {
     "slide_type": "slide"
    }
   },
   "source": [
    "## 7 Conclusion: Pandas Series\n",
    "- `Series` are a powerful class for one-dimensional data\n",
    "    - numpy arrays with generalized indexing capabilities\n",
    "    - a plenitude of methods are available\n",
    "        * easily construct, plot, and transform data\n",
    "        * do simple statistics and deal with missing values\n",
    "        * much more than shown here — read the [docs](https://pandas.pydata.org/pandas-docs/stable/reference/series.html)\n",
    "\n",
    "\n",
    "- `Series` cannot deal well with multi-dimensional data\n",
    "    - scatterplots are a pain\n",
    "    - we need to (ab-)use the index\n",
    "    - we cannot hold all our data (e.g. measurements) in one object\n",
    "\n",
    "\n",
    "- up one level: `DataFrame`s!"
   ]
  }
 ],
 "metadata": {
  "celltoolbar": "Slideshow",
  "file_extension": ".py",
  "kernelspec": {
   "display_name": "Python 3 (ipykernel)",
   "language": "python",
   "name": "python3"
  },
  "language_info": {
   "codemirror_mode": {
    "name": "ipython",
    "version": 3
   },
   "file_extension": ".py",
   "mimetype": "text/x-python",
   "name": "python",
   "nbconvert_exporter": "python",
   "pygments_lexer": "ipython3",
   "version": "3.9.7"
  },
  "mimetype": "text/x-python",
  "name": "python",
  "npconvert_exporter": "python",
  "pygments_lexer": "ipython3",
  "version": 3
 },
 "nbformat": 4,
 "nbformat_minor": 2
}
