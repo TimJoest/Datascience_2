{
 "cells": [
  {
   "attachments": {},
   "cell_type": "markdown",
   "metadata": {},
   "source": [
    "# Pandas and Matplotlib (Part2)"
   ]
  },
  {
   "cell_type": "code",
   "execution_count": 2,
   "metadata": {
    "slideshow": {
     "slide_type": "subslide"
    }
   },
   "outputs": [
    {
     "data": {
      "text/plain": [
       "\"pd.__version__='2.0.0', np.__version__='1.24.2'\""
      ]
     },
     "execution_count": 2,
     "metadata": {},
     "output_type": "execute_result"
    }
   ],
   "source": [
    "# Required packages\n",
    "import numpy as np\n",
    "import pandas as pd\n",
    "import matplotlib as mpl\n",
    "import matplotlib.pyplot as plt\n",
    "# # from matplotlib import pyplot as plt # also possible\n",
    "\n",
    "# only in jupyter notebooks: Embed plots inside Jupyter notebooks\n",
    "%matplotlib inline\n",
    "\n",
    "f'{pd.__version__=}, {np.__version__=}'"
   ]
  },
  {
   "attachments": {},
   "cell_type": "markdown",
   "metadata": {
    "collapsed": true,
    "slideshow": {
     "slide_type": "slide"
    }
   },
   "source": [
    "## 4 Statistics on Series\n",
    "* Series have a number of methods for performing basic statistics\n",
    "* in this lecture:\n",
    "    * `[.size, .count(), .sum()]`\n",
    "    * `[.mean(), .median(), .std()]`\n",
    "    * `[.max(), .min(), .quantile(), .describe()]`\n",
    "    * `[.head(), .tail(), .sample()]`\n",
    "    * `[.value_counts(), .unique(), .duplicated()]`"
   ]
  },
  {
   "attachments": {},
   "cell_type": "markdown",
   "metadata": {
    "slideshow": {
     "slide_type": "slide"
    }
   },
   "source": [
    "### 4.1 `.size`, `.count()`, and `.sum()`\n",
    "* `.size` is an attribute of the series\n",
    "* `.count()` and `.sum()` depend on the *contents*"
   ]
  },
  {
   "cell_type": "code",
   "execution_count": 2,
   "metadata": {
    "slideshow": {
     "slide_type": "fragment"
    }
   },
   "outputs": [
    {
     "data": {
      "text/plain": [
       "0    27\n",
       "1    55\n",
       "2    13\n",
       "3     2\n",
       "4    64\n",
       "dtype: int64"
      ]
     },
     "execution_count": 2,
     "metadata": {},
     "output_type": "execute_result"
    }
   ],
   "source": [
    "integers = pd.Series(np.random.randint(0, 101, 5))\n",
    "integers"
   ]
  },
  {
   "cell_type": "code",
   "execution_count": 3,
   "metadata": {
    "slideshow": {
     "slide_type": "fragment"
    }
   },
   "outputs": [
    {
     "data": {
      "text/plain": [
       "5"
      ]
     },
     "execution_count": 3,
     "metadata": {},
     "output_type": "execute_result"
    }
   ],
   "source": [
    "integers.size"
   ]
  },
  {
   "cell_type": "code",
   "execution_count": 4,
   "metadata": {
    "slideshow": {
     "slide_type": "fragment"
    }
   },
   "outputs": [
    {
     "data": {
      "text/plain": [
       "5"
      ]
     },
     "execution_count": 4,
     "metadata": {},
     "output_type": "execute_result"
    }
   ],
   "source": [
    "integers.count()"
   ]
  },
  {
   "cell_type": "code",
   "execution_count": 5,
   "metadata": {
    "slideshow": {
     "slide_type": "fragment"
    }
   },
   "outputs": [
    {
     "data": {
      "text/plain": [
       "0     NaN\n",
       "1    55.0\n",
       "2    13.0\n",
       "3     2.0\n",
       "4    64.0\n",
       "dtype: float64"
      ]
     },
     "execution_count": 5,
     "metadata": {},
     "output_type": "execute_result"
    }
   ],
   "source": [
    "integers.loc[0] = np.NaN\n",
    "integers"
   ]
  },
  {
   "cell_type": "code",
   "execution_count": 6,
   "metadata": {
    "slideshow": {
     "slide_type": "fragment"
    }
   },
   "outputs": [
    {
     "data": {
      "text/plain": [
       "(4, 5)"
      ]
     },
     "execution_count": 6,
     "metadata": {},
     "output_type": "execute_result"
    }
   ],
   "source": [
    "integers.count(), integers.size"
   ]
  },
  {
   "cell_type": "code",
   "execution_count": 7,
   "metadata": {
    "slideshow": {
     "slide_type": "subslide"
    }
   },
   "outputs": [
    {
     "data": {
      "text/plain": [
       "171.0"
      ]
     },
     "execution_count": 7,
     "metadata": {},
     "output_type": "execute_result"
    }
   ],
   "source": [
    "integers.loc[0] = np.random.randint(0, 101, 1)\n",
    "integers.sum()"
   ]
  },
  {
   "cell_type": "code",
   "execution_count": 8,
   "metadata": {
    "slideshow": {
     "slide_type": "fragment"
    }
   },
   "outputs": [
    {
     "data": {
      "text/plain": [
       "171.0"
      ]
     },
     "execution_count": 8,
     "metadata": {},
     "output_type": "execute_result"
    }
   ],
   "source": [
    "sum(integers)"
   ]
  },
  {
   "cell_type": "code",
   "execution_count": 9,
   "metadata": {
    "scrolled": true,
    "slideshow": {
     "slide_type": "fragment"
    }
   },
   "outputs": [
    {
     "name": "stdout",
     "output_type": "stream",
     "text": [
      "Help on function sum in module pandas.core.generic:\n",
      "\n",
      "sum(self, axis: 'Axis | None' = None, skipna: 'bool_t' = True, numeric_only: 'bool_t' = False, min_count: 'int' = 0, **kwargs)\n",
      "    Return the sum of the values over the requested axis.\n",
      "    \n",
      "    This is equivalent to the method ``numpy.sum``.\n",
      "    \n",
      "    Parameters\n",
      "    ----------\n",
      "    axis : {index (0)}\n",
      "        Axis for the function to be applied on.\n",
      "        For `Series` this parameter is unused and defaults to 0.\n",
      "    \n",
      "        For DataFrames, specifying ``axis=None`` will apply the aggregation\n",
      "        across both axes.\n",
      "    \n",
      "        .. versionadded:: 2.0.0\n",
      "    \n",
      "    skipna : bool, default True\n",
      "        Exclude NA/null values when computing the result.\n",
      "    numeric_only : bool, default False\n",
      "        Include only float, int, boolean columns. Not implemented for Series.\n",
      "    \n",
      "    min_count : int, default 0\n",
      "        The required number of valid values to perform the operation. If fewer than\n",
      "        ``min_count`` non-NA values are present the result will be NA.\n",
      "    **kwargs\n",
      "        Additional keyword arguments to be passed to the function.\n",
      "    \n",
      "    Returns\n",
      "    -------\n",
      "    scalar or scalar\n",
      "    \n",
      "    See Also\n",
      "    --------\n",
      "    Series.sum : Return the sum.\n",
      "    Series.min : Return the minimum.\n",
      "    Series.max : Return the maximum.\n",
      "    Series.idxmin : Return the index of the minimum.\n",
      "    Series.idxmax : Return the index of the maximum.\n",
      "    DataFrame.sum : Return the sum over the requested axis.\n",
      "    DataFrame.min : Return the minimum over the requested axis.\n",
      "    DataFrame.max : Return the maximum over the requested axis.\n",
      "    DataFrame.idxmin : Return the index of the minimum over the requested axis.\n",
      "    DataFrame.idxmax : Return the index of the maximum over the requested axis.\n",
      "    \n",
      "    Examples\n",
      "    --------\n",
      "    >>> idx = pd.MultiIndex.from_arrays([\n",
      "    ...     ['warm', 'warm', 'cold', 'cold'],\n",
      "    ...     ['dog', 'falcon', 'fish', 'spider']],\n",
      "    ...     names=['blooded', 'animal'])\n",
      "    >>> s = pd.Series([4, 2, 0, 8], name='legs', index=idx)\n",
      "    >>> s\n",
      "    blooded  animal\n",
      "    warm     dog       4\n",
      "             falcon    2\n",
      "    cold     fish      0\n",
      "             spider    8\n",
      "    Name: legs, dtype: int64\n",
      "    \n",
      "    >>> s.sum()\n",
      "    14\n",
      "    \n",
      "    By default, the sum of an empty or all-NA Series is ``0``.\n",
      "    \n",
      "    >>> pd.Series([], dtype=\"float64\").sum()  # min_count=0 is the default\n",
      "    0.0\n",
      "    \n",
      "    This can be controlled with the ``min_count`` parameter. For example, if\n",
      "    you'd like the sum of an empty series to be NaN, pass ``min_count=1``.\n",
      "    \n",
      "    >>> pd.Series([], dtype=\"float64\").sum(min_count=1)\n",
      "    nan\n",
      "    \n",
      "    Thanks to the ``skipna`` parameter, ``min_count`` handles all-NA and\n",
      "    empty series identically.\n",
      "    \n",
      "    >>> pd.Series([np.nan]).sum()\n",
      "    0.0\n",
      "    \n",
      "    >>> pd.Series([np.nan]).sum(min_count=1)\n",
      "    nan\n",
      "\n"
     ]
    }
   ],
   "source": [
    "help(pd.Series.sum)"
   ]
  },
  {
   "attachments": {},
   "cell_type": "markdown",
   "metadata": {
    "slideshow": {
     "slide_type": "slide"
    }
   },
   "source": [
    "### 4.2 `.mean()`, `.median()`, `.std()`\n",
    "* Series provide methods for simple statistics\n",
    "    * arithmetic `mean` $\\mu$ (average value of numeric Series)\n",
    "    * `median` value (half of the values are above, half are below)\n",
    "    * standard deviation $\\sigma$ (measure of the \"spread\")\n",
    "        * with *degrees of freedom* $\\Delta_\\text{dof}$: default 1, **differing from [numpy.std](https://numpy.org/doc/stable/reference/generated/numpy.std.html)** (where `ddof=0` by default)\n",
    "        * pass `ddof=0` for the \"uncorrected\" standard deviation\n",
    "    $$\\mu = \\frac{1}{N} \\sum_{i=1}^N s_i~~~~~~~~;~~~~~~~~\\sigma = \\sqrt{\\frac{1}{N-\\Delta_{\\text{dof}}} \\sum_{i=1}^N (s_i - \\mu)^2}$$"
   ]
  },
  {
   "cell_type": "code",
   "execution_count": 10,
   "metadata": {
    "slideshow": {
     "slide_type": "fragment"
    }
   },
   "outputs": [
    {
     "data": {
      "text/plain": [
       "0        0\n",
       "1        1\n",
       "2        2\n",
       "3        3\n",
       "4        4\n",
       "      ... \n",
       "96      96\n",
       "97      97\n",
       "98      98\n",
       "99      99\n",
       "100    100\n",
       "Length: 101, dtype: int64"
      ]
     },
     "execution_count": 10,
     "metadata": {},
     "output_type": "execute_result"
    }
   ],
   "source": [
    "int_range = pd.Series(np.arange(0, 101, 1))\n",
    "int_range"
   ]
  },
  {
   "cell_type": "code",
   "execution_count": 11,
   "metadata": {
    "slideshow": {
     "slide_type": "fragment"
    }
   },
   "outputs": [
    {
     "data": {
      "text/plain": [
       "'int_range.mean()=50.0, int_range.median()=50.0, int_range.std()=29.300170647967224'"
      ]
     },
     "execution_count": 11,
     "metadata": {},
     "output_type": "execute_result"
    }
   ],
   "source": [
    "f'{int_range.mean()=}, {int_range.median()=}, {int_range.std()=}'"
   ]
  },
  {
   "cell_type": "code",
   "execution_count": 12,
   "metadata": {
    "slideshow": {
     "slide_type": "subslide"
    }
   },
   "outputs": [
    {
     "data": {
      "text/plain": [
       "'mean = 50.0;   int_range.mean() = 50.0'"
      ]
     },
     "execution_count": 12,
     "metadata": {},
     "output_type": "execute_result"
    }
   ],
   "source": [
    "# The mean is the sum divided by the size\n",
    "f'mean = {int_range.sum() / int_range.count()};   {int_range.mean() = }'"
   ]
  },
  {
   "cell_type": "code",
   "execution_count": 13,
   "metadata": {
    "slideshow": {
     "slide_type": "fragment"
    }
   },
   "outputs": [
    {
     "data": {
      "text/plain": [
       "(9950.0, 50.0)"
      ]
     },
     "execution_count": 13,
     "metadata": {},
     "output_type": "execute_result"
    }
   ],
   "source": [
    "# The median is the \"halfway point\" of the sorted values\n",
    "int_range.loc[100] = 1000000\n",
    "int_range.mean(), int_range.median()"
   ]
  },
  {
   "cell_type": "code",
   "execution_count": 14,
   "metadata": {
    "slideshow": {
     "slide_type": "subslide"
    }
   },
   "outputs": [
    {
     "data": {
      "text/plain": [
       "(nan, 0.0, 1.4142135623730951)"
      ]
     },
     "execution_count": 14,
     "metadata": {},
     "output_type": "execute_result"
    }
   ],
   "source": [
    "# The Standard Deviation is tricky!\n",
    "# By default, Pandas uses the \"sample standard deviation\"\n",
    "pd.Series((0)).std(), pd.Series((0, 0)).std(), pd.Series((0, 2)).std()"
   ]
  },
  {
   "cell_type": "code",
   "execution_count": 15,
   "metadata": {
    "slideshow": {
     "slide_type": "fragment"
    }
   },
   "outputs": [
    {
     "data": {
      "text/plain": [
       "(0.0, 0.0, 1.0)"
      ]
     },
     "execution_count": 15,
     "metadata": {},
     "output_type": "execute_result"
    }
   ],
   "source": [
    "# If we want the uncorrected (\"numpy\") standard deviation, we have to pass ddof=0\n",
    "pd.Series((0)).std(ddof=0), pd.Series((0, 0)).std(ddof=0), pd.Series((0, 2)).std(ddof=0)"
   ]
  },
  {
   "cell_type": "code",
   "execution_count": 16,
   "metadata": {
    "scrolled": true,
    "slideshow": {
     "slide_type": "fragment"
    }
   },
   "outputs": [
    {
     "name": "stdout",
     "output_type": "stream",
     "text": [
      "Help on function std in module pandas.core.generic:\n",
      "\n",
      "std(self, axis: 'Axis | None' = None, skipna: 'bool_t' = True, ddof: 'int' = 1, numeric_only: 'bool_t' = False, **kwargs)\n",
      "    Return sample standard deviation over requested axis.\n",
      "    \n",
      "    Normalized by N-1 by default. This can be changed using the ddof argument.\n",
      "    \n",
      "    Parameters\n",
      "    ----------\n",
      "    axis : {index (0)}\n",
      "        For `Series` this parameter is unused and defaults to 0.\n",
      "    skipna : bool, default True\n",
      "        Exclude NA/null values. If an entire row/column is NA, the result\n",
      "        will be NA.\n",
      "    ddof : int, default 1\n",
      "        Delta Degrees of Freedom. The divisor used in calculations is N - ddof,\n",
      "        where N represents the number of elements.\n",
      "    numeric_only : bool, default False\n",
      "        Include only float, int, boolean columns. Not implemented for Series.\n",
      "    \n",
      "    Returns\n",
      "    -------\n",
      "    scalar or Series (if level specified) \n",
      "    \n",
      "    Notes\n",
      "    -----\n",
      "    To have the same behaviour as `numpy.std`, use `ddof=0` (instead of the\n",
      "    default `ddof=1`)\n",
      "    \n",
      "    Examples\n",
      "    --------\n",
      "    >>> df = pd.DataFrame({'person_id': [0, 1, 2, 3],\n",
      "    ...                    'age': [21, 25, 62, 43],\n",
      "    ...                    'height': [1.61, 1.87, 1.49, 2.01]}\n",
      "    ...                   ).set_index('person_id')\n",
      "    >>> df\n",
      "               age  height\n",
      "    person_id\n",
      "    0           21    1.61\n",
      "    1           25    1.87\n",
      "    2           62    1.49\n",
      "    3           43    2.01\n",
      "    \n",
      "    The standard deviation of the columns can be found as follows:\n",
      "    \n",
      "    >>> df.std()\n",
      "    age       18.786076\n",
      "    height     0.237417\n",
      "    dtype: float64\n",
      "    \n",
      "    Alternatively, `ddof=0` can be set to normalize by N instead of N-1:\n",
      "    \n",
      "    >>> df.std(ddof=0)\n",
      "    age       16.269219\n",
      "    height     0.205609\n",
      "    dtype: float64\n",
      "\n"
     ]
    }
   ],
   "source": [
    "help(pd.Series.std)"
   ]
  },
  {
   "attachments": {},
   "cell_type": "markdown",
   "metadata": {
    "slideshow": {
     "slide_type": "slide"
    }
   },
   "source": [
    "### 4.3 `.max()`, `.min()`, `.quantile()`, `.describe()`\n",
    "* `.max()`, `.min()` retrieve the maximum and minimum numeric elements\n",
    "* `.quantile(q=0.5: float)` returns the value at a given quantile (in $[0, 1]$)\n",
    "    * a proportion of $q$ (and $1-q$, respectively) of series values is below (above) the result\n",
    "    * minimum, maximum values at q = 0, 1\n",
    "* `.describe()` gives summarizing statistics\n",
    "    * count and type of values\n",
    "    * mean and std\n",
    "    * min, max\n",
    "    * median and 1st, 3rd quartiles\n"
   ]
  },
  {
   "cell_type": "code",
   "execution_count": 17,
   "metadata": {
    "slideshow": {
     "slide_type": "fragment"
    }
   },
   "outputs": [
    {
     "data": {
      "text/plain": [
       "0            0\n",
       "1            1\n",
       "2            2\n",
       "3            3\n",
       "4            4\n",
       "        ...   \n",
       "96          96\n",
       "97          97\n",
       "98          98\n",
       "99          99\n",
       "100    1000000\n",
       "Length: 101, dtype: int64"
      ]
     },
     "execution_count": 17,
     "metadata": {},
     "output_type": "execute_result"
    }
   ],
   "source": [
    "int_range"
   ]
  },
  {
   "cell_type": "code",
   "execution_count": 18,
   "metadata": {},
   "outputs": [
    {
     "data": {
      "text/plain": [
       "(0, 1000000)"
      ]
     },
     "execution_count": 18,
     "metadata": {},
     "output_type": "execute_result"
    }
   ],
   "source": [
    "int_range.min(), int_range.max()"
   ]
  },
  {
   "cell_type": "code",
   "execution_count": 19,
   "metadata": {
    "slideshow": {
     "slide_type": "fragment"
    }
   },
   "outputs": [
    {
     "data": {
      "text/plain": [
       "count        101.000000\n",
       "mean        9950.000000\n",
       "std        99498.797774\n",
       "min            0.000000\n",
       "25%           25.000000\n",
       "50%           50.000000\n",
       "75%           75.000000\n",
       "max      1000000.000000\n",
       "dtype: float64"
      ]
     },
     "execution_count": 19,
     "metadata": {},
     "output_type": "execute_result"
    }
   ],
   "source": [
    "int_range.describe()"
   ]
  },
  {
   "cell_type": "code",
   "execution_count": 20,
   "metadata": {
    "slideshow": {
     "slide_type": "subslide"
    }
   },
   "outputs": [
    {
     "data": {
      "text/plain": [
       "30.0"
      ]
     },
     "execution_count": 20,
     "metadata": {},
     "output_type": "execute_result"
    }
   ],
   "source": [
    "points = pd.Series((0, 10, 20, 30, 40, 50))\n",
    "points.quantile(0.6)"
   ]
  },
  {
   "cell_type": "code",
   "execution_count": 21,
   "metadata": {
    "slideshow": {
     "slide_type": "fragment"
    }
   },
   "outputs": [
    {
     "data": {
      "text/plain": [
       "25.0"
      ]
     },
     "execution_count": 21,
     "metadata": {},
     "output_type": "execute_result"
    }
   ],
   "source": [
    "points.quantile(0.5)"
   ]
  },
  {
   "cell_type": "code",
   "execution_count": 22,
   "metadata": {
    "scrolled": true,
    "slideshow": {
     "slide_type": "fragment"
    }
   },
   "outputs": [
    {
     "name": "stdout",
     "output_type": "stream",
     "text": [
      "Help on function quantile in module pandas.core.series:\n",
      "\n",
      "quantile(self, q: 'float | Sequence[float] | AnyArrayLike' = 0.5, interpolation: 'QuantileInterpolation' = 'linear') -> 'float | Series'\n",
      "    Return value at the given quantile.\n",
      "    \n",
      "    Parameters\n",
      "    ----------\n",
      "    q : float or array-like, default 0.5 (50% quantile)\n",
      "        The quantile(s) to compute, which can lie in range: 0 <= q <= 1.\n",
      "    interpolation : {'linear', 'lower', 'higher', 'midpoint', 'nearest'}\n",
      "        This optional parameter specifies the interpolation method to use,\n",
      "        when the desired quantile lies between two data points `i` and `j`:\n",
      "    \n",
      "            * linear: `i + (j - i) * fraction`, where `fraction` is the\n",
      "              fractional part of the index surrounded by `i` and `j`.\n",
      "            * lower: `i`.\n",
      "            * higher: `j`.\n",
      "            * nearest: `i` or `j` whichever is nearest.\n",
      "            * midpoint: (`i` + `j`) / 2.\n",
      "    \n",
      "    Returns\n",
      "    -------\n",
      "    float or Series\n",
      "        If ``q`` is an array, a Series will be returned where the\n",
      "        index is ``q`` and the values are the quantiles, otherwise\n",
      "        a float will be returned.\n",
      "    \n",
      "    See Also\n",
      "    --------\n",
      "    core.window.Rolling.quantile : Calculate the rolling quantile.\n",
      "    numpy.percentile : Returns the q-th percentile(s) of the array elements.\n",
      "    \n",
      "    Examples\n",
      "    --------\n",
      "    >>> s = pd.Series([1, 2, 3, 4])\n",
      "    >>> s.quantile(.5)\n",
      "    2.5\n",
      "    >>> s.quantile([.25, .5, .75])\n",
      "    0.25    1.75\n",
      "    0.50    2.50\n",
      "    0.75    3.25\n",
      "    dtype: float64\n",
      "\n"
     ]
    }
   ],
   "source": [
    "help(pd.Series.quantile)"
   ]
  },
  {
   "attachments": {},
   "cell_type": "markdown",
   "metadata": {
    "slideshow": {
     "slide_type": "slide"
    }
   },
   "source": [
    "### 4.4 `.head()`, `.tail()`, `.sample(n)`\n",
    "* To preview a series, it's often helpful to look at the first and last few values\n",
    "    * do I have the correct data?\n",
    "    * was the series read in or processed correctly?\n",
    "    * have headers and footers been removed?\n",
    "* don't use this to draw a sample from your data!"
   ]
  },
  {
   "cell_type": "code",
   "execution_count": 23,
   "metadata": {
    "slideshow": {
     "slide_type": "fragment"
    }
   },
   "outputs": [
    {
     "data": {
      "text/plain": [
       "0    0\n",
       "1    1\n",
       "2    2\n",
       "3    3\n",
       "4    4\n",
       "dtype: int64"
      ]
     },
     "execution_count": 23,
     "metadata": {},
     "output_type": "execute_result"
    }
   ],
   "source": [
    "int_range.head()"
   ]
  },
  {
   "cell_type": "code",
   "execution_count": 24,
   "metadata": {
    "slideshow": {
     "slide_type": "fragment"
    }
   },
   "outputs": [
    {
     "data": {
      "text/plain": [
       "99          99\n",
       "100    1000000\n",
       "dtype: int64"
      ]
     },
     "execution_count": 24,
     "metadata": {},
     "output_type": "execute_result"
    }
   ],
   "source": [
    "int_range.tail(2)"
   ]
  },
  {
   "cell_type": "code",
   "execution_count": 25,
   "metadata": {
    "slideshow": {
     "slide_type": "fragment"
    }
   },
   "outputs": [
    {
     "data": {
      "text/plain": [
       "6      6\n",
       "9      9\n",
       "47    47\n",
       "43    43\n",
       "dtype: int64"
      ]
     },
     "execution_count": 25,
     "metadata": {},
     "output_type": "execute_result"
    }
   ],
   "source": [
    "int_range.sample(4)"
   ]
  },
  {
   "attachments": {},
   "cell_type": "markdown",
   "metadata": {
    "slideshow": {
     "slide_type": "slide"
    }
   },
   "source": [
    "### 4.5 `.value_counts()`, `.unique()`, `.duplicated()`\n",
    "* These methods are useful with *non-numeric* data\n",
    "    * e.g. a corpus of words\n",
    "* `.value_counts` returns a series with the frequency of values in a Series"
   ]
  },
  {
   "cell_type": "code",
   "execution_count": 26,
   "metadata": {
    "slideshow": {
     "slide_type": "fragment"
    }
   },
   "outputs": [
    {
     "data": {
      "text/plain": [
       "0       In\n",
       "1      Ulm\n",
       "2      und\n",
       "3       um\n",
       "4      Ulm\n",
       "5      und\n",
       "6       um\n",
       "7      Ulm\n",
       "8    herum\n",
       "dtype: object"
      ]
     },
     "execution_count": 26,
     "metadata": {},
     "output_type": "execute_result"
    }
   ],
   "source": [
    "words = pd.Series('In Ulm und um Ulm und um Ulm herum'.split())\n",
    "words"
   ]
  },
  {
   "cell_type": "code",
   "execution_count": 27,
   "metadata": {},
   "outputs": [
    {
     "data": {
      "text/plain": [
       "count       9\n",
       "unique      5\n",
       "top       Ulm\n",
       "freq        3\n",
       "dtype: object"
      ]
     },
     "execution_count": 27,
     "metadata": {},
     "output_type": "execute_result"
    }
   ],
   "source": [
    "words.describe()"
   ]
  },
  {
   "cell_type": "code",
   "execution_count": 28,
   "metadata": {
    "slideshow": {
     "slide_type": "fragment"
    }
   },
   "outputs": [
    {
     "data": {
      "text/plain": [
       "In       0.111111\n",
       "herum    0.111111\n",
       "und      0.222222\n",
       "um       0.222222\n",
       "Ulm      0.333333\n",
       "Name: proportion, dtype: float64"
      ]
     },
     "execution_count": 28,
     "metadata": {},
     "output_type": "execute_result"
    }
   ],
   "source": [
    "words.value_counts(normalize=True, ascending=True)"
   ]
  },
  {
   "cell_type": "code",
   "execution_count": 29,
   "metadata": {
    "slideshow": {
     "slide_type": "fragment"
    }
   },
   "outputs": [
    {
     "data": {
      "text/plain": [
       "und    2\n",
       "um     2\n",
       "Name: count, dtype: int64"
      ]
     },
     "execution_count": 29,
     "metadata": {},
     "output_type": "execute_result"
    }
   ],
   "source": [
    "words.value_counts()[words.value_counts() == 2]"
   ]
  },
  {
   "cell_type": "code",
   "execution_count": 30,
   "metadata": {
    "slideshow": {
     "slide_type": "subslide"
    }
   },
   "outputs": [
    {
     "data": {
      "text/plain": [
       "Ulm    3\n",
       "und    2\n",
       "um     2\n",
       "Name: count, dtype: int64"
      ]
     },
     "execution_count": 30,
     "metadata": {},
     "output_type": "execute_result"
    }
   ],
   "source": [
    "words.value_counts()[words.value_counts() > 1]"
   ]
  },
  {
   "cell_type": "code",
   "execution_count": 31,
   "metadata": {
    "slideshow": {
     "slide_type": "fragment"
    }
   },
   "outputs": [
    {
     "data": {
      "text/plain": [
       "0    False\n",
       "1    False\n",
       "2    False\n",
       "3    False\n",
       "4     True\n",
       "5     True\n",
       "6     True\n",
       "7     True\n",
       "8    False\n",
       "dtype: bool"
      ]
     },
     "execution_count": 31,
     "metadata": {},
     "output_type": "execute_result"
    }
   ],
   "source": [
    "words.duplicated()"
   ]
  },
  {
   "cell_type": "code",
   "execution_count": 32,
   "metadata": {
    "slideshow": {
     "slide_type": "fragment"
    }
   },
   "outputs": [
    {
     "data": {
      "text/plain": [
       "0       In\n",
       "1      Ulm\n",
       "2      und\n",
       "3       um\n",
       "8    herum\n",
       "dtype: object"
      ]
     },
     "execution_count": 32,
     "metadata": {},
     "output_type": "execute_result"
    }
   ],
   "source": [
    "words[~words.duplicated()]"
   ]
  },
  {
   "cell_type": "code",
   "execution_count": 33,
   "metadata": {
    "slideshow": {
     "slide_type": "fragment"
    }
   },
   "outputs": [
    {
     "data": {
      "text/plain": [
       "array(['In', 'Ulm', 'und', 'um', 'herum'], dtype=object)"
      ]
     },
     "execution_count": 33,
     "metadata": {},
     "output_type": "execute_result"
    }
   ],
   "source": [
    "words[~words.duplicated()].values"
   ]
  },
  {
   "cell_type": "code",
   "execution_count": 34,
   "metadata": {
    "slideshow": {
     "slide_type": "fragment"
    }
   },
   "outputs": [
    {
     "data": {
      "text/plain": [
       "array(['In', 'Ulm', 'und', 'um', 'herum'], dtype=object)"
      ]
     },
     "execution_count": 34,
     "metadata": {},
     "output_type": "execute_result"
    }
   ],
   "source": [
    "words.unique()  # watch out: numpy array!"
   ]
  },
  {
   "attachments": {},
   "cell_type": "markdown",
   "metadata": {
    "slideshow": {
     "slide_type": "slide"
    }
   },
   "source": [
    "### 4.6 Plots for statistical insight\n",
    "* *histograms* visualize the distribution of points, separated into bins\n",
    "    * displays distribution of one-dimensional data points\n",
    "    * quick diagnostic tool: range of values, most common value\n",
    "* *box plots* display the most important statistical parameters of a series\n",
    "    * median, quartiles, range of values, and outliers\n",
    "    * useful e.g. to compare across measurements\n",
    "\n",
    "* may be applied even in scatterplots: show *marginal* distribution of data"
   ]
  },
  {
   "cell_type": "code",
   "execution_count": 66,
   "metadata": {
    "slideshow": {
     "slide_type": "fragment"
    }
   },
   "outputs": [
    {
     "data": {
      "text/plain": [
       "count    100.000000\n",
       "mean      -0.075056\n",
       "std        0.926752\n",
       "min       -2.274930\n",
       "25%       -0.585153\n",
       "50%       -0.089670\n",
       "75%        0.529691\n",
       "max        2.252027\n",
       "dtype: float64"
      ]
     },
     "execution_count": 66,
     "metadata": {},
     "output_type": "execute_result"
    }
   ],
   "source": [
    "number_of_samples = 100\n",
    "normal_sample = pd.Series(np.random.randn(number_of_samples))\n",
    "normal_sample.describe()"
   ]
  },
  {
   "cell_type": "code",
   "execution_count": 68,
   "metadata": {
    "slideshow": {
     "slide_type": "slide"
    }
   },
   "outputs": [
    {
     "data": {
      "text/plain": [
       "<Axes: title={'center': 'random sample of the normal distribution'}, ylabel='Frequency'>"
      ]
     },
     "execution_count": 68,
     "metadata": {},
     "output_type": "execute_result"
    },
    {
     "data": {
      "image/png": "[encoded data removed]",
      "text/plain": [
       "<Figure size 640x480 with 1 Axes>"
      ]
     },
     "metadata": {},
     "output_type": "display_data"
    }
   ],
   "source": [
    "normal_sample.plot.hist(\n",
    "    title='random sample of the normal distribution',\n",
    "    bins=20,\n",
    "    density=False,\n",
    "    label='y',\n",
    "    legend=True,\n",
    ")"
   ]
  },
  {
   "cell_type": "code",
   "execution_count": null,
   "metadata": {
    "slideshow": {
     "slide_type": "fragment"
    }
   },
   "outputs": [],
   "source": [
    "help(plt.hist)"
   ]
  },
  {
   "cell_type": "code",
   "execution_count": 38,
   "metadata": {
    "slideshow": {
     "slide_type": "slide"
    }
   },
   "outputs": [
    {
     "data": {
      "text/plain": [
       "<Axes: title={'center': 'random sample of the normal distribution'}, ylabel='(y - μ) / σ'>"
      ]
     },
     "execution_count": 38,
     "metadata": {},
     "output_type": "execute_result"
    },
    {
     "data": {
      "image/png": "[encoded data removed]",
      "text/plain": [
       "<Figure size 640x480 with 1 Axes>"
      ]
     },
     "metadata": {},
     "output_type": "display_data"
    }
   ],
   "source": [
    "normal_sample.plot.box(\n",
    "    legend=True,\n",
    "    title='random sample of the normal distribution',\n",
    "    ylabel='(y - μ) / σ',\n",
    "    label=f'{number_of_samples} values',\n",
    ")"
   ]
  },
  {
   "cell_type": "code",
   "execution_count": null,
   "metadata": {
    "slideshow": {
     "slide_type": "fragment"
    }
   },
   "outputs": [],
   "source": [
    "help(plt.boxplot)"
   ]
  },
  {
   "attachments": {},
   "cell_type": "markdown",
   "metadata": {},
   "source": [
    "### 4.7 Tasks"
   ]
  },
  {
   "attachments": {},
   "cell_type": "markdown",
   "metadata": {
    "nbgrader": {
     "grade": false,
     "grade_id": "cell-2bcf0c3076541946",
     "locked": true,
     "schema_version": 3,
     "solution": false,
     "task": false
    }
   },
   "source": [
    "##### 1. Standardabweichung\n",
    "Berechnen Sie die Standardabweichung der `Series((0, 2))` einmal von Hand, einmal mit numpy, und einmal mit Pandas. Was stellen Sie fest? Was müssen Sie tun, um konsistente Ergebnisse zu erhalten?\n",
    "\n",
    "The standard deviation of a set of values $\\{x_i\\}_{i = 1,\\dots, N}$ is computed as follows:\n",
    "$$\n",
    "\\sigma = \\sqrt{\\frac{1}{N - \\Delta_\\mathrm{ddof}}\\sum_{i = 1}^N (x_i - \\mu)^2},\n",
    "$$\n",
    "where $\\mu$ is the mean value:\n",
    "$$\n",
    "\\mu = \\frac{1}{N}\\sum_{i=1}^N x_i\n",
    "$$"
   ]
  },
  {
   "cell_type": "code",
   "execution_count": 40,
   "metadata": {},
   "outputs": [
    {
     "name": "stdout",
     "output_type": "stream",
     "text": [
      "serie.std()=1.4142135623730951\n",
      "serie.std(ddof=0)=1.0\n",
      "np.std(serie)=1.0\n"
     ]
    }
   ],
   "source": [
    "serie = pd.Series((0,2))\n",
    "print(f\"{serie.std()=}\")\n",
    "print(f\"{serie.std(ddof=0)=}\")\n",
    "print(f\"{np.std(serie)=}\")"
   ]
  },
  {
   "cell_type": "code",
   "execution_count": 138,
   "metadata": {},
   "outputs": [
    {
     "name": "stdout",
     "output_type": "stream",
     "text": [
      "Mean manuell: 1.0\n",
      "Standard deviation manuell: 1.0\n",
      "Mean Numpy: 1.0\n",
      "Standard deviation Numpy: 1.0\n",
      "Mean Pandas: 1.0\n",
      "Standard deviation Pandas: 1.4142135623730951\n",
      "Standard deviation Pandas (uncorrected): 1.0\n"
     ]
    }
   ],
   "source": [
    "serie = pd.Series((0,2))\n",
    "\n",
    "print(f\"Mean manuell: {serie.sum() / serie.count()}\")\n",
    "print(f\"Standard deviation manuell: {np.sqrt(((serie - serie.mean())**2).sum() / serie.count())}\")\n",
    "print(f\"Mean Numpy: {np.mean(serie)}\")\n",
    "print(f\"Standard deviation Numpy: {np.std(serie)}\")\n",
    "print(f\"Mean Pandas: {serie.mean()}\")\n",
    "print(f\"Standard deviation Pandas: {serie.std()}\")\n",
    "print(f\"Standard deviation Pandas (uncorrected): {serie.std(ddof=0)}\")"
   ]
  },
  {
   "attachments": {},
   "cell_type": "markdown",
   "metadata": {
    "nbgrader": {
     "grade": false,
     "grade_id": "cell-dc29adcc97b5b801",
     "locked": true,
     "schema_version": 3,
     "solution": false,
     "task": false
    }
   },
   "source": [
    "##### 2. Eckpunkte einer Series\n",
    "Erzeugen Sie sich eine Series mit 400 zufälligen Integern zwischen 0 und 100.\n",
    "* Verschaffen Sie sich zunächst einen Überblick mit der `.describe`-Methode.\n",
    "* Welches sind die häufigsten Werte? Welche Werte tauchen am seltensten auf?\n",
    "* Wie oft tauchen die \"vollen 10'er\" auf, also 0, 10, 20,...?\n",
    "* Gibt es Werte zwischen 0 und 100, die gar nicht auftauchen? Wenn ja, welche?"
   ]
  },
  {
   "cell_type": "code",
   "execution_count": 178,
   "metadata": {},
   "outputs": [],
   "source": [
    "random = pd.Series(np.random.randint(0, 101, 400))\n",
    "value_counts = random.value_counts(ascending=True)"
   ]
  },
  {
   "cell_type": "code",
   "execution_count": 180,
   "metadata": {},
   "outputs": [
    {
     "name": "stdout",
     "output_type": "stream",
     "text": [
      "count    400.000000\n",
      "mean      51.117500\n",
      "std       28.436161\n",
      "min        0.000000\n",
      "25%       26.000000\n",
      "50%       53.000000\n",
      "75%       75.250000\n",
      "max      100.000000\n",
      "dtype: float64\n"
     ]
    }
   ],
   "source": [
    "print(random.describe())"
   ]
  },
  {
   "cell_type": "code",
   "execution_count": 181,
   "metadata": {},
   "outputs": [
    {
     "name": "stdout",
     "output_type": "stream",
     "text": [
      "Häufigste Werte:\n",
      "58    10\n",
      "64    10\n",
      "Name: count, dtype: int64\n",
      "Seltenste Werte:\n",
      "2     1\n",
      "61    1\n",
      "93    1\n",
      "91    1\n",
      "18    1\n",
      "12    1\n",
      "25    1\n",
      "Name: count, dtype: int64\n"
     ]
    }
   ],
   "source": [
    "print('Häufigste Werte:') \n",
    "print(value_counts[value_counts == value_counts.max()])\n",
    "print('Seltenste Werte:')\n",
    "print(value_counts[value_counts == value_counts.min()])"
   ]
  },
  {
   "cell_type": "code",
   "execution_count": 182,
   "metadata": {},
   "outputs": [
    {
     "name": "stdout",
     "output_type": "stream",
     "text": [
      "Volle 10er:\n",
      "60     2\n",
      "50     3\n",
      "30     3\n",
      "70     3\n",
      "90     3\n",
      "100    4\n",
      "80     4\n",
      "0      5\n",
      "40     6\n",
      "10     7\n",
      "20     8\n",
      "Name: count, dtype: int64\n",
      "10er:\n"
     ]
    }
   ],
   "source": [
    "print('Volle 10er:')\n",
    "print(value_counts[value_counts.index % 10 == 0])\n",
    "print('10er:')\n",
    "print(random.value_counts(bins=10, sort=False))"
   ]
  },
  {
   "cell_type": "code",
   "execution_count": 187,
   "metadata": {},
   "outputs": [
    {
     "name": "stdout",
     "output_type": "stream",
     "text": [
      "Werte die nicht vorkommen:\n",
      "{34, 66, 63, 47}\n"
     ]
    }
   ],
   "source": [
    "print('Werte die nicht vorkommen:')\n",
    "print(set(range(0, 101)) - set(value_counts.index))"
   ]
  },
  {
   "attachments": {},
   "cell_type": "markdown",
   "metadata": {
    "collapsed": true,
    "slideshow": {
     "slide_type": "slide"
    }
   },
   "source": [
    "## 5 Data types and Missing Values"
   ]
  },
  {
   "attachments": {},
   "cell_type": "markdown",
   "metadata": {
    "collapsed": true,
    "slideshow": {
     "slide_type": "fragment"
    }
   },
   "source": [
    "### 5.1 Series data types\n",
    "* internally, Series (and indices) use numpy datatypes\n",
    "* important implications for \"big data\":\n",
    "    * storage requirement differs widely\n",
    "    * overflow, precision\n",
    "* at creation, pandas determines a \"fitting\" dtype\n",
    "    * only numeric types or \"object\"\n",
    "* Series are \"flexible\"\n",
    "    * assignment can change the Series data type\n",
    "    * easy typecasting with `.astype`"
   ]
  },
  {
   "cell_type": "code",
   "execution_count": 42,
   "metadata": {
    "slideshow": {
     "slide_type": "slide"
    }
   },
   "outputs": [
    {
     "data": {
      "text/plain": [
       "0    20\n",
       "1    30\n",
       "2    40\n",
       "dtype: int64"
      ]
     },
     "execution_count": 42,
     "metadata": {},
     "output_type": "execute_result"
    }
   ],
   "source": [
    "integers = pd.Series([20, 30, 40])\n",
    "integers"
   ]
  },
  {
   "cell_type": "code",
   "execution_count": 43,
   "metadata": {
    "slideshow": {
     "slide_type": "fragment"
    }
   },
   "outputs": [
    {
     "data": {
      "text/plain": [
       "dtype('int64')"
      ]
     },
     "execution_count": 43,
     "metadata": {},
     "output_type": "execute_result"
    }
   ],
   "source": [
    "integers.dtype"
   ]
  },
  {
   "cell_type": "code",
   "execution_count": 44,
   "metadata": {
    "slideshow": {
     "slide_type": "fragment"
    }
   },
   "outputs": [
    {
     "data": {
      "text/plain": [
       "0    20\n",
       "1    30\n",
       "2    40\n",
       "dtype: int32"
      ]
     },
     "execution_count": 44,
     "metadata": {},
     "output_type": "execute_result"
    }
   ],
   "source": [
    "integers = pd.Series([20, 30, 40], dtype=np.int32)\n",
    "integers"
   ]
  },
  {
   "cell_type": "code",
   "execution_count": 45,
   "metadata": {
    "slideshow": {
     "slide_type": "subslide"
    }
   },
   "outputs": [
    {
     "data": {
      "text/plain": [
       "0    20\n",
       "1    30\n",
       "2    40\n",
       "dtype: int8"
      ]
     },
     "execution_count": 45,
     "metadata": {},
     "output_type": "execute_result"
    }
   ],
   "source": [
    "integers = integers.astype(np.int8)\n",
    "integers"
   ]
  },
  {
   "cell_type": "code",
   "execution_count": 46,
   "metadata": {
    "slideshow": {
     "slide_type": "fragment"
    }
   },
   "outputs": [
    {
     "data": {
      "text/plain": [
       "0     80\n",
       "1    120\n",
       "2    -96\n",
       "dtype: int8"
      ]
     },
     "execution_count": 46,
     "metadata": {},
     "output_type": "execute_result"
    }
   ],
   "source": [
    "integers * 4"
   ]
  },
  {
   "cell_type": "code",
   "execution_count": 47,
   "metadata": {
    "slideshow": {
     "slide_type": "fragment"
    }
   },
   "outputs": [
    {
     "data": {
      "text/plain": [
       "(0    4.0\n",
       " 1    5.0\n",
       " 2    6.0\n",
       " dtype: float64,\n",
       " array([4., 5., 6.]))"
      ]
     },
     "execution_count": 47,
     "metadata": {},
     "output_type": "execute_result"
    }
   ],
   "source": [
    "floats = pd.Series([4, 5, 6], dtype=np.float64)\n",
    "floats, floats.values"
   ]
  },
  {
   "cell_type": "code",
   "execution_count": 48,
   "metadata": {
    "slideshow": {
     "slide_type": "slide"
    }
   },
   "outputs": [
    {
     "data": {
      "text/plain": [
       "0       using\n",
       "1           a\n",
       "2      string\n",
       "3      yields\n",
       "4       dtype\n",
       "5    \"object\"\n",
       "dtype: object"
      ]
     },
     "execution_count": 48,
     "metadata": {},
     "output_type": "execute_result"
    }
   ],
   "source": [
    "objects = pd.Series('using a string yields dtype \"object\"'.split())\n",
    "objects"
   ]
  },
  {
   "cell_type": "code",
   "execution_count": 49,
   "metadata": {
    "slideshow": {
     "slide_type": "slide"
    }
   },
   "outputs": [
    {
     "data": {
      "text/plain": [
       "0    20\n",
       "1    30\n",
       "2    40\n",
       "dtype: int8"
      ]
     },
     "execution_count": 49,
     "metadata": {},
     "output_type": "execute_result"
    }
   ],
   "source": [
    "integers"
   ]
  },
  {
   "cell_type": "code",
   "execution_count": 50,
   "metadata": {
    "slideshow": {
     "slide_type": "fragment"
    }
   },
   "outputs": [
    {
     "data": {
      "text/plain": [
       "0     1.23\n",
       "1    30.00\n",
       "2    40.00\n",
       "dtype: float64"
      ]
     },
     "execution_count": 50,
     "metadata": {},
     "output_type": "execute_result"
    }
   ],
   "source": [
    "integers.loc[0] = 1.23  # Careful: Assignment with `.loc` changes Series type!\n",
    "integers"
   ]
  },
  {
   "cell_type": "code",
   "execution_count": 51,
   "metadata": {
    "slideshow": {
     "slide_type": "fragment"
    }
   },
   "outputs": [
    {
     "data": {
      "text/plain": [
       "0    1.23\n",
       "1    30.0\n",
       "2    40.0\n",
       "3      56\n",
       "dtype: object"
      ]
     },
     "execution_count": 51,
     "metadata": {},
     "output_type": "execute_result"
    }
   ],
   "source": [
    "integers.loc[3] = '56'\n",
    "integers"
   ]
  },
  {
   "cell_type": "code",
   "execution_count": 52,
   "metadata": {
    "slideshow": {
     "slide_type": "fragment"
    }
   },
   "outputs": [
    {
     "ename": "TypeError",
     "evalue": "unsupported operand type(s) for +: 'float' and 'str'",
     "output_type": "error",
     "traceback": [
      "\u001b[0;31m---------------------------------------------------------------------------\u001b[0m",
      "\u001b[0;31mTypeError\u001b[0m                                 Traceback (most recent call last)",
      "Cell \u001b[0;32mIn[52], line 1\u001b[0m\n\u001b[0;32m----> 1\u001b[0m integers\u001b[39m.\u001b[39;49msum()  \u001b[39m# Python can not add \"str\" and \"float\"\u001b[39;00m\n",
      "File \u001b[0;32m~/.local/lib/python3.10/site-packages/pandas/core/generic.py:11519\u001b[0m, in \u001b[0;36mNDFrame._add_numeric_operations.<locals>.sum\u001b[0;34m(self, axis, skipna, numeric_only, min_count, **kwargs)\u001b[0m\n\u001b[1;32m  11500\u001b[0m \u001b[39m@doc\u001b[39m(  \u001b[39m# type: ignore[misc]\u001b[39;00m\n\u001b[1;32m  11501\u001b[0m     _num_doc,\n\u001b[1;32m  11502\u001b[0m     desc\u001b[39m=\u001b[39m\u001b[39m\"\u001b[39m\u001b[39mReturn the sum of the values over the requested axis.\u001b[39m\u001b[39m\\n\u001b[39;00m\u001b[39m\\n\u001b[39;00m\u001b[39m\"\u001b[39m\n\u001b[0;32m   (...)\u001b[0m\n\u001b[1;32m  11517\u001b[0m     \u001b[39m*\u001b[39m\u001b[39m*\u001b[39mkwargs,\n\u001b[1;32m  11518\u001b[0m ):\n\u001b[0;32m> 11519\u001b[0m     \u001b[39mreturn\u001b[39;00m NDFrame\u001b[39m.\u001b[39;49msum(\u001b[39mself\u001b[39;49m, axis, skipna, numeric_only, min_count, \u001b[39m*\u001b[39;49m\u001b[39m*\u001b[39;49mkwargs)\n",
      "File \u001b[0;32m~/.local/lib/python3.10/site-packages/pandas/core/generic.py:11287\u001b[0m, in \u001b[0;36mNDFrame.sum\u001b[0;34m(self, axis, skipna, numeric_only, min_count, **kwargs)\u001b[0m\n\u001b[1;32m  11279\u001b[0m \u001b[39mdef\u001b[39;00m \u001b[39msum\u001b[39m(\n\u001b[1;32m  11280\u001b[0m     \u001b[39mself\u001b[39m,\n\u001b[1;32m  11281\u001b[0m     axis: Axis \u001b[39m|\u001b[39m \u001b[39mNone\u001b[39;00m \u001b[39m=\u001b[39m \u001b[39mNone\u001b[39;00m,\n\u001b[0;32m   (...)\u001b[0m\n\u001b[1;32m  11285\u001b[0m     \u001b[39m*\u001b[39m\u001b[39m*\u001b[39mkwargs,\n\u001b[1;32m  11286\u001b[0m ):\n\u001b[0;32m> 11287\u001b[0m     \u001b[39mreturn\u001b[39;00m \u001b[39mself\u001b[39;49m\u001b[39m.\u001b[39;49m_min_count_stat_function(\n\u001b[1;32m  11288\u001b[0m         \u001b[39m\"\u001b[39;49m\u001b[39msum\u001b[39;49m\u001b[39m\"\u001b[39;49m, nanops\u001b[39m.\u001b[39;49mnansum, axis, skipna, numeric_only, min_count, \u001b[39m*\u001b[39;49m\u001b[39m*\u001b[39;49mkwargs\n\u001b[1;32m  11289\u001b[0m     )\n",
      "File \u001b[0;32m~/.local/lib/python3.10/site-packages/pandas/core/generic.py:11270\u001b[0m, in \u001b[0;36mNDFrame._min_count_stat_function\u001b[0;34m(self, name, func, axis, skipna, numeric_only, min_count, **kwargs)\u001b[0m\n\u001b[1;32m  11267\u001b[0m \u001b[39mif\u001b[39;00m axis \u001b[39mis\u001b[39;00m \u001b[39mNone\u001b[39;00m:\n\u001b[1;32m  11268\u001b[0m     axis \u001b[39m=\u001b[39m \u001b[39mself\u001b[39m\u001b[39m.\u001b[39m_stat_axis_number\n\u001b[0;32m> 11270\u001b[0m \u001b[39mreturn\u001b[39;00m \u001b[39mself\u001b[39;49m\u001b[39m.\u001b[39;49m_reduce(\n\u001b[1;32m  11271\u001b[0m     func,\n\u001b[1;32m  11272\u001b[0m     name\u001b[39m=\u001b[39;49mname,\n\u001b[1;32m  11273\u001b[0m     axis\u001b[39m=\u001b[39;49maxis,\n\u001b[1;32m  11274\u001b[0m     skipna\u001b[39m=\u001b[39;49mskipna,\n\u001b[1;32m  11275\u001b[0m     numeric_only\u001b[39m=\u001b[39;49mnumeric_only,\n\u001b[1;32m  11276\u001b[0m     min_count\u001b[39m=\u001b[39;49mmin_count,\n\u001b[1;32m  11277\u001b[0m )\n",
      "File \u001b[0;32m~/.local/lib/python3.10/site-packages/pandas/core/series.py:4671\u001b[0m, in \u001b[0;36mSeries._reduce\u001b[0;34m(self, op, name, axis, skipna, numeric_only, filter_type, **kwds)\u001b[0m\n\u001b[1;32m   4666\u001b[0m     \u001b[39mraise\u001b[39;00m \u001b[39mTypeError\u001b[39;00m(\n\u001b[1;32m   4667\u001b[0m         \u001b[39mf\u001b[39m\u001b[39m\"\u001b[39m\u001b[39mSeries.\u001b[39m\u001b[39m{\u001b[39;00mname\u001b[39m}\u001b[39;00m\u001b[39m does not allow \u001b[39m\u001b[39m{\u001b[39;00mkwd_name\u001b[39m}\u001b[39;00m\u001b[39m=\u001b[39m\u001b[39m{\u001b[39;00mnumeric_only\u001b[39m}\u001b[39;00m\u001b[39m \u001b[39m\u001b[39m\"\u001b[39m\n\u001b[1;32m   4668\u001b[0m         \u001b[39m\"\u001b[39m\u001b[39mwith non-numeric dtypes.\u001b[39m\u001b[39m\"\u001b[39m\n\u001b[1;32m   4669\u001b[0m     )\n\u001b[1;32m   4670\u001b[0m \u001b[39mwith\u001b[39;00m np\u001b[39m.\u001b[39merrstate(\u001b[39mall\u001b[39m\u001b[39m=\u001b[39m\u001b[39m\"\u001b[39m\u001b[39mignore\u001b[39m\u001b[39m\"\u001b[39m):\n\u001b[0;32m-> 4671\u001b[0m     \u001b[39mreturn\u001b[39;00m op(delegate, skipna\u001b[39m=\u001b[39;49mskipna, \u001b[39m*\u001b[39;49m\u001b[39m*\u001b[39;49mkwds)\n",
      "File \u001b[0;32m~/.local/lib/python3.10/site-packages/pandas/core/nanops.py:96\u001b[0m, in \u001b[0;36mdisallow.__call__.<locals>._f\u001b[0;34m(*args, **kwargs)\u001b[0m\n\u001b[1;32m     94\u001b[0m \u001b[39mtry\u001b[39;00m:\n\u001b[1;32m     95\u001b[0m     \u001b[39mwith\u001b[39;00m np\u001b[39m.\u001b[39merrstate(invalid\u001b[39m=\u001b[39m\u001b[39m\"\u001b[39m\u001b[39mignore\u001b[39m\u001b[39m\"\u001b[39m):\n\u001b[0;32m---> 96\u001b[0m         \u001b[39mreturn\u001b[39;00m f(\u001b[39m*\u001b[39;49margs, \u001b[39m*\u001b[39;49m\u001b[39m*\u001b[39;49mkwargs)\n\u001b[1;32m     97\u001b[0m \u001b[39mexcept\u001b[39;00m \u001b[39mValueError\u001b[39;00m \u001b[39mas\u001b[39;00m e:\n\u001b[1;32m     98\u001b[0m     \u001b[39m# we want to transform an object array\u001b[39;00m\n\u001b[1;32m     99\u001b[0m     \u001b[39m# ValueError message to the more typical TypeError\u001b[39;00m\n\u001b[1;32m    100\u001b[0m     \u001b[39m# e.g. this is normally a disallowed function on\u001b[39;00m\n\u001b[1;32m    101\u001b[0m     \u001b[39m# object arrays that contain strings\u001b[39;00m\n\u001b[1;32m    102\u001b[0m     \u001b[39mif\u001b[39;00m is_object_dtype(args[\u001b[39m0\u001b[39m]):\n",
      "File \u001b[0;32m~/.local/lib/python3.10/site-packages/pandas/core/nanops.py:421\u001b[0m, in \u001b[0;36m_datetimelike_compat.<locals>.new_func\u001b[0;34m(values, axis, skipna, mask, **kwargs)\u001b[0m\n\u001b[1;32m    418\u001b[0m \u001b[39mif\u001b[39;00m datetimelike \u001b[39mand\u001b[39;00m mask \u001b[39mis\u001b[39;00m \u001b[39mNone\u001b[39;00m:\n\u001b[1;32m    419\u001b[0m     mask \u001b[39m=\u001b[39m isna(values)\n\u001b[0;32m--> 421\u001b[0m result \u001b[39m=\u001b[39m func(values, axis\u001b[39m=\u001b[39;49maxis, skipna\u001b[39m=\u001b[39;49mskipna, mask\u001b[39m=\u001b[39;49mmask, \u001b[39m*\u001b[39;49m\u001b[39m*\u001b[39;49mkwargs)\n\u001b[1;32m    423\u001b[0m \u001b[39mif\u001b[39;00m datetimelike:\n\u001b[1;32m    424\u001b[0m     result \u001b[39m=\u001b[39m _wrap_results(result, orig_values\u001b[39m.\u001b[39mdtype, fill_value\u001b[39m=\u001b[39miNaT)\n",
      "File \u001b[0;32m~/.local/lib/python3.10/site-packages/pandas/core/nanops.py:494\u001b[0m, in \u001b[0;36mmaybe_operate_rowwise.<locals>.newfunc\u001b[0;34m(values, axis, **kwargs)\u001b[0m\n\u001b[1;32m    491\u001b[0m         results \u001b[39m=\u001b[39m [func(x, \u001b[39m*\u001b[39m\u001b[39m*\u001b[39mkwargs) \u001b[39mfor\u001b[39;00m x \u001b[39min\u001b[39;00m arrs]\n\u001b[1;32m    492\u001b[0m     \u001b[39mreturn\u001b[39;00m np\u001b[39m.\u001b[39marray(results)\n\u001b[0;32m--> 494\u001b[0m \u001b[39mreturn\u001b[39;00m func(values, axis\u001b[39m=\u001b[39;49maxis, \u001b[39m*\u001b[39;49m\u001b[39m*\u001b[39;49mkwargs)\n",
      "File \u001b[0;32m~/.local/lib/python3.10/site-packages/pandas/core/nanops.py:652\u001b[0m, in \u001b[0;36mnansum\u001b[0;34m(values, axis, skipna, min_count, mask)\u001b[0m\n\u001b[1;32m    649\u001b[0m \u001b[39melif\u001b[39;00m is_timedelta64_dtype(dtype):\n\u001b[1;32m    650\u001b[0m     dtype_sum \u001b[39m=\u001b[39m np\u001b[39m.\u001b[39mdtype(np\u001b[39m.\u001b[39mfloat64)\n\u001b[0;32m--> 652\u001b[0m the_sum \u001b[39m=\u001b[39m values\u001b[39m.\u001b[39;49msum(axis, dtype\u001b[39m=\u001b[39;49mdtype_sum)\n\u001b[1;32m    653\u001b[0m the_sum \u001b[39m=\u001b[39m _maybe_null_out(the_sum, axis, mask, values\u001b[39m.\u001b[39mshape, min_count\u001b[39m=\u001b[39mmin_count)\n\u001b[1;32m    655\u001b[0m \u001b[39mreturn\u001b[39;00m the_sum\n",
      "File \u001b[0;32m~/.local/lib/python3.10/site-packages/numpy/core/_methods.py:49\u001b[0m, in \u001b[0;36m_sum\u001b[0;34m(a, axis, dtype, out, keepdims, initial, where)\u001b[0m\n\u001b[1;32m     47\u001b[0m \u001b[39mdef\u001b[39;00m \u001b[39m_sum\u001b[39m(a, axis\u001b[39m=\u001b[39m\u001b[39mNone\u001b[39;00m, dtype\u001b[39m=\u001b[39m\u001b[39mNone\u001b[39;00m, out\u001b[39m=\u001b[39m\u001b[39mNone\u001b[39;00m, keepdims\u001b[39m=\u001b[39m\u001b[39mFalse\u001b[39;00m,\n\u001b[1;32m     48\u001b[0m          initial\u001b[39m=\u001b[39m_NoValue, where\u001b[39m=\u001b[39m\u001b[39mTrue\u001b[39;00m):\n\u001b[0;32m---> 49\u001b[0m     \u001b[39mreturn\u001b[39;00m umr_sum(a, axis, dtype, out, keepdims, initial, where)\n",
      "\u001b[0;31mTypeError\u001b[0m: unsupported operand type(s) for +: 'float' and 'str'"
     ]
    }
   ],
   "source": [
    "integers.sum()  # Python can not add \"str\" and \"float\""
   ]
  },
  {
   "cell_type": "code",
   "execution_count": 188,
   "metadata": {
    "slideshow": {
     "slide_type": "slide"
    }
   },
   "outputs": [
    {
     "data": {
      "text/plain": [
       "0     1.23\n",
       "1    30.00\n",
       "2    40.00\n",
       "3    56.00\n",
       "dtype: float32"
      ]
     },
     "execution_count": 188,
     "metadata": {},
     "output_type": "execute_result"
    }
   ],
   "source": [
    "integers = integers.astype(np.float32)\n",
    "integers"
   ]
  },
  {
   "cell_type": "code",
   "execution_count": 189,
   "metadata": {
    "slideshow": {
     "slide_type": "fragment"
    }
   },
   "outputs": [
    {
     "data": {
      "text/plain": [
       "127.229996"
      ]
     },
     "execution_count": 189,
     "metadata": {},
     "output_type": "execute_result"
    }
   ],
   "source": [
    "integers.sum()"
   ]
  },
  {
   "cell_type": "code",
   "execution_count": 190,
   "metadata": {
    "slideshow": {
     "slide_type": "fragment"
    }
   },
   "outputs": [
    {
     "data": {
      "text/plain": [
       "0     1\n",
       "1    30\n",
       "2    40\n",
       "3    56\n",
       "dtype: int8"
      ]
     },
     "execution_count": 190,
     "metadata": {},
     "output_type": "execute_result"
    }
   ],
   "source": [
    "integers.astype(np.int8)"
   ]
  },
  {
   "cell_type": "code",
   "execution_count": 234,
   "metadata": {
    "slideshow": {
     "slide_type": "slide"
    }
   },
   "outputs": [
    {
     "data": {
      "text/plain": [
       "0    12\n",
       "1    34\n",
       "2    56\n",
       "3    78\n",
       "dtype: object"
      ]
     },
     "execution_count": 234,
     "metadata": {},
     "output_type": "execute_result"
    }
   ],
   "source": [
    "strings = pd.Series('12 34 56 78'.split())\n",
    "strings.sum()\n",
    "strings"
   ]
  },
  {
   "cell_type": "code",
   "execution_count": 192,
   "metadata": {
    "slideshow": {
     "slide_type": "fragment"
    }
   },
   "outputs": [
    {
     "data": {
      "text/plain": [
       "3086419.5"
      ]
     },
     "execution_count": 192,
     "metadata": {},
     "output_type": "execute_result"
    }
   ],
   "source": [
    "strings.mean()"
   ]
  },
  {
   "cell_type": "code",
   "execution_count": 193,
   "metadata": {
    "slideshow": {
     "slide_type": "fragment"
    }
   },
   "outputs": [
    {
     "data": {
      "text/plain": [
       "45.0"
      ]
     },
     "execution_count": 193,
     "metadata": {},
     "output_type": "execute_result"
    }
   ],
   "source": [
    "strings = strings.astype(np.int64)  # need to assign back. Not in-place!\n",
    "strings.mean()"
   ]
  },
  {
   "cell_type": "code",
   "execution_count": 194,
   "metadata": {
    "slideshow": {
     "slide_type": "slide"
    }
   },
   "outputs": [
    {
     "data": {
      "text/plain": [
       "0     True\n",
       "1     True\n",
       "2     True\n",
       "3    False\n",
       "dtype: bool"
      ]
     },
     "execution_count": 194,
     "metadata": {},
     "output_type": "execute_result"
    }
   ],
   "source": [
    "boolean_mask = integers < 50\n",
    "boolean_mask"
   ]
  },
  {
   "cell_type": "code",
   "execution_count": 195,
   "metadata": {
    "slideshow": {
     "slide_type": "fragment"
    }
   },
   "outputs": [
    {
     "data": {
      "text/plain": [
       "0      big\n",
       "1    small\n",
       "2      big\n",
       "3      big\n",
       "4      big\n",
       "5    small\n",
       "6      big\n",
       "7    small\n",
       "8    small\n",
       "dtype: category\n",
       "Categories (2, object): ['big', 'small']"
      ]
     },
     "execution_count": 195,
     "metadata": {},
     "output_type": "execute_result"
    }
   ],
   "source": [
    "pd.Series(\n",
    "    ['big', 'small', 'big', 'big', 'big', 'small', 'big', 'small', 'small'],\n",
    "    dtype='category',\n",
    ")"
   ]
  },
  {
   "cell_type": "code",
   "execution_count": 196,
   "metadata": {
    "slideshow": {
     "slide_type": "fragment"
    }
   },
   "outputs": [
    {
     "data": {
      "text/plain": [
       "(0   2021-04-01\n",
       " 1   2021-04-02\n",
       " 2   2021-04-03\n",
       " 3   2021-04-04\n",
       " 4   2021-04-05\n",
       " dtype: datetime64[ns],\n",
       " 0   0 days 00:00:00\n",
       " 1   0 days 01:00:00\n",
       " 2   0 days 02:00:00\n",
       " 3   0 days 03:00:00\n",
       " 4   0 days 04:00:00\n",
       " dtype: timedelta64[ns])"
      ]
     },
     "execution_count": 196,
     "metadata": {},
     "output_type": "execute_result"
    }
   ],
   "source": [
    "from datetime import datetime, timedelta\n",
    "\n",
    "dates = pd.Series([datetime.fromisoformat(f'2021-04-{day:02}') for day in range(1, 31)])\n",
    "times = pd.Series([timedelta(hours=day) for day in range(0, 30)])\n",
    "dates.head(), times.head()"
   ]
  },
  {
   "cell_type": "code",
   "execution_count": 197,
   "metadata": {
    "slideshow": {
     "slide_type": "fragment"
    }
   },
   "outputs": [
    {
     "data": {
      "text/plain": [
       "0   2021-04-01 00:00:00\n",
       "1   2021-04-02 01:00:00\n",
       "2   2021-04-03 02:00:00\n",
       "3   2021-04-04 03:00:00\n",
       "4   2021-04-05 04:00:00\n",
       "dtype: datetime64[ns]"
      ]
     },
     "execution_count": 197,
     "metadata": {},
     "output_type": "execute_result"
    }
   ],
   "source": [
    "(dates + times).head()"
   ]
  },
  {
   "attachments": {},
   "cell_type": "markdown",
   "metadata": {
    "slideshow": {
     "slide_type": "slide"
    }
   },
   "source": [
    "### 5.2 Missing Values\n",
    "* `np.nan` is a special `np.float`\n",
    "* designates missing or undefined data\n",
    "    * \"no response\" in survey data\n",
    "    * result of certain invalid operations (e.g. `0 / 0`)\n",
    "* pandas provides functions and parameters for skipping `NaN` values\n",
    "\n",
    "\n",
    "* Experimental: pandas provides its own \"missing value\": `pd.NA`\n",
    "    * can be used as integer"
   ]
  },
  {
   "cell_type": "code",
   "execution_count": 198,
   "metadata": {
    "slideshow": {
     "slide_type": "fragment"
    }
   },
   "outputs": [
    {
     "data": {
      "text/plain": [
       "(nan, <NA>)"
      ]
     },
     "execution_count": 198,
     "metadata": {},
     "output_type": "execute_result"
    }
   ],
   "source": [
    "np.nan, pd.NA"
   ]
  },
  {
   "cell_type": "code",
   "execution_count": 236,
   "metadata": {
    "slideshow": {
     "slide_type": "slide"
    }
   },
   "outputs": [
    {
     "data": {
      "text/plain": [
       "0    1.0\n",
       "1    2.0\n",
       "2    NaN\n",
       "3    4.0\n",
       "4    5.0\n",
       "dtype: float64"
      ]
     },
     "execution_count": 236,
     "metadata": {},
     "output_type": "execute_result"
    }
   ],
   "source": [
    "miss = pd.Series([1, 2, np.nan, 4, 5])#  , dtype='Int64')\n",
    "miss"
   ]
  },
  {
   "cell_type": "code",
   "execution_count": 200,
   "metadata": {
    "slideshow": {
     "slide_type": "fragment"
    }
   },
   "outputs": [
    {
     "data": {
      "text/plain": [
       "(5, 4)"
      ]
     },
     "execution_count": 200,
     "metadata": {},
     "output_type": "execute_result"
    }
   ],
   "source": [
    "miss.size, miss.count()"
   ]
  },
  {
   "cell_type": "code",
   "execution_count": 201,
   "metadata": {
    "slideshow": {
     "slide_type": "fragment"
    }
   },
   "outputs": [
    {
     "data": {
      "text/plain": [
       "float"
      ]
     },
     "execution_count": 201,
     "metadata": {},
     "output_type": "execute_result"
    }
   ],
   "source": [
    "type(np.nan)"
   ]
  },
  {
   "cell_type": "code",
   "execution_count": 202,
   "metadata": {
    "slideshow": {
     "slide_type": "fragment"
    }
   },
   "outputs": [
    {
     "data": {
      "text/plain": [
       "nan"
      ]
     },
     "execution_count": 202,
     "metadata": {},
     "output_type": "execute_result"
    }
   ],
   "source": [
    "np.nan + 10"
   ]
  },
  {
   "cell_type": "code",
   "execution_count": 203,
   "metadata": {
    "slideshow": {
     "slide_type": "fragment"
    }
   },
   "outputs": [
    {
     "data": {
      "text/plain": [
       "False"
      ]
     },
     "execution_count": 203,
     "metadata": {},
     "output_type": "execute_result"
    }
   ],
   "source": [
    "np.nan == np.nan"
   ]
  },
  {
   "cell_type": "code",
   "execution_count": 204,
   "metadata": {
    "slideshow": {
     "slide_type": "fragment"
    }
   },
   "outputs": [
    {
     "data": {
      "text/plain": [
       "True"
      ]
     },
     "execution_count": 204,
     "metadata": {},
     "output_type": "execute_result"
    }
   ],
   "source": [
    "np.nan is np.nan"
   ]
  },
  {
   "attachments": {},
   "cell_type": "markdown",
   "metadata": {
    "slideshow": {
     "slide_type": "slide"
    }
   },
   "source": [
    "#### 5.2.1 Dealing with NaN\n",
    "* numpy typically does *not* deal with nan itself\n",
    "* pandas often tried to accommodate missing data as best it can\n",
    "    * treated as 0, and does not add to count\n",
    "* different methods are applicable in different situations:\n",
    "    * `dropna` removes missing values\n",
    "    * `fillna`, `interpolate` fill in missing values\n",
    "    * `fill_value` prevents creation of missing values"
   ]
  },
  {
   "cell_type": "code",
   "execution_count": 205,
   "metadata": {
    "slideshow": {
     "slide_type": "slide"
    }
   },
   "outputs": [
    {
     "data": {
      "text/plain": [
       "nan"
      ]
     },
     "execution_count": 205,
     "metadata": {},
     "output_type": "execute_result"
    }
   ],
   "source": [
    "miss.values.sum()  # this sums the numpy array"
   ]
  },
  {
   "cell_type": "code",
   "execution_count": 206,
   "metadata": {
    "slideshow": {
     "slide_type": "fragment"
    }
   },
   "outputs": [
    {
     "data": {
      "text/plain": [
       "12.0"
      ]
     },
     "execution_count": 206,
     "metadata": {},
     "output_type": "execute_result"
    }
   ],
   "source": [
    "miss.sum()  # this skips na by default!"
   ]
  },
  {
   "cell_type": "code",
   "execution_count": null,
   "metadata": {
    "slideshow": {
     "slide_type": "fragment"
    }
   },
   "outputs": [],
   "source": [
    "help(pd.Series.sum)"
   ]
  },
  {
   "cell_type": "code",
   "execution_count": 208,
   "metadata": {
    "slideshow": {
     "slide_type": "slide"
    }
   },
   "outputs": [
    {
     "data": {
      "text/plain": [
       "0    -15.0\n",
       "1      NaN\n",
       "2      4.0\n",
       "3      9.0\n",
       "4      NaN\n",
       "5      1.0\n",
       "6    -10.0\n",
       "7    -12.0\n",
       "8      NaN\n",
       "9      NaN\n",
       "10     3.0\n",
       "11    13.0\n",
       "12    25.0\n",
       "13     NaN\n",
       "dtype: float64"
      ]
     },
     "execution_count": 208,
     "metadata": {},
     "output_type": "execute_result"
    }
   ],
   "source": [
    "many_missing_values = pd.Series(\n",
    "    [-15, np.nan, 4, 9, np.nan, 1, -10, -12, np.nan, np.nan, 3, 13, 25, np.nan]\n",
    ")\n",
    "many_missing_values"
   ]
  },
  {
   "cell_type": "code",
   "execution_count": 209,
   "metadata": {
    "slideshow": {
     "slide_type": "fragment"
    }
   },
   "outputs": [
    {
     "data": {
      "text/plain": [
       "0    -15.0\n",
       "2      4.0\n",
       "3      9.0\n",
       "5      1.0\n",
       "6    -10.0\n",
       "7    -12.0\n",
       "10     3.0\n",
       "11    13.0\n",
       "12    25.0\n",
       "dtype: float64"
      ]
     },
     "execution_count": 209,
     "metadata": {},
     "output_type": "execute_result"
    }
   ],
   "source": [
    "many_missing_values.dropna()  # This gets rid of `nan` values"
   ]
  },
  {
   "cell_type": "code",
   "execution_count": 210,
   "metadata": {
    "slideshow": {
     "slide_type": "fragment"
    }
   },
   "outputs": [
    {
     "data": {
      "text/plain": [
       "0    -15.0\n",
       "1      2.0\n",
       "2      4.0\n",
       "3      9.0\n",
       "4      2.0\n",
       "5      1.0\n",
       "6    -10.0\n",
       "7    -12.0\n",
       "8      2.0\n",
       "9      2.0\n",
       "10     3.0\n",
       "11    13.0\n",
       "12    25.0\n",
       "13     2.0\n",
       "dtype: float64"
      ]
     },
     "execution_count": 210,
     "metadata": {},
     "output_type": "execute_result"
    }
   ],
   "source": [
    "many_missing_values.fillna(many_missing_values.mean())"
   ]
  },
  {
   "attachments": {},
   "cell_type": "markdown",
   "metadata": {
    "slideshow": {
     "slide_type": "slide"
    }
   },
   "source": [
    "####  5.2.2 fill_value\n",
    "* numeric operations have optional parameter `fill_value`\n",
    "* prevents creation of `nan` values when index is not available\n",
    "* which value is appropriate depends on the operation and context"
   ]
  },
  {
   "cell_type": "code",
   "execution_count": 211,
   "metadata": {
    "slideshow": {
     "slide_type": "fragment"
    }
   },
   "outputs": [
    {
     "data": {
      "text/plain": [
       "2017   -1.0\n",
       "2018   -1.0\n",
       "2019    0.0\n",
       "2020    3.0\n",
       "2021    NaN\n",
       "dtype: float64"
      ]
     },
     "execution_count": 211,
     "metadata": {},
     "output_type": "execute_result"
    }
   ],
   "source": [
    "revenue = pd.Series([1, 2, 3, 4, 5], index=[2017, 2018, 2019, 2020, 2021])\n",
    "expenses = pd.Series([2, 3, 3, 1], index=[2017, 2018, 2019, 2020])\n",
    "revenue - expenses  # value for 2021 is missing!"
   ]
  },
  {
   "cell_type": "code",
   "execution_count": 212,
   "metadata": {
    "slideshow": {
     "slide_type": "fragment"
    }
   },
   "outputs": [
    {
     "data": {
      "text/plain": [
       "2017   -1.0\n",
       "2018   -1.0\n",
       "2019    0.0\n",
       "2020    3.0\n",
       "2021    5.0\n",
       "dtype: float64"
      ]
     },
     "execution_count": 212,
     "metadata": {},
     "output_type": "execute_result"
    }
   ],
   "source": [
    "revenue.sub(expenses, fill_value=0)"
   ]
  },
  {
   "attachments": {},
   "cell_type": "markdown",
   "metadata": {
    "slideshow": {
     "slide_type": "slide"
    }
   },
   "source": [
    "#### 5.2.3 interpolate\n",
    "* pandas can interpolate missing values\n",
    "* various methods available\n",
    "    * linear, splines, for smooth plotting, time-sensitive\n",
    "* warning: this \"invents\" data"
   ]
  },
  {
   "cell_type": "code",
   "execution_count": 213,
   "metadata": {
    "slideshow": {
     "slide_type": "fragment"
    }
   },
   "outputs": [
    {
     "data": {
      "text/plain": [
       "<Axes: >"
      ]
     },
     "execution_count": 213,
     "metadata": {},
     "output_type": "execute_result"
    },
    {
     "data": {
      "image/png": "[encoded data removed]",
      "text/plain": [
       "<Figure size 640x480 with 1 Axes>"
      ]
     },
     "metadata": {},
     "output_type": "display_data"
    }
   ],
   "source": [
    "many_missing_values.interpolate(method='akima').plot.line(label='akima', legend=True)\n",
    "many_missing_values.interpolate(method='linear').plot.line(label='linear', legend=True)\n",
    "many_missing_values.interpolate(method='spline', order=3).plot.line(\n",
    "    label='spline', legend=True\n",
    ")\n",
    "\n",
    "many_missing_values.plot.line(style='o', legend=True, label='measured')"
   ]
  },
  {
   "attachments": {},
   "cell_type": "markdown",
   "metadata": {},
   "source": [
    "### 5.3 Tasks"
   ]
  },
  {
   "attachments": {},
   "cell_type": "markdown",
   "metadata": {
    "nbgrader": {
     "grade": false,
     "grade_id": "cell-bc1d30f0f3d88b02",
     "locked": true,
     "schema_version": 3,
     "solution": false,
     "task": false
    }
   },
   "source": [
    "##### 1. Auftreten bei Operationen\n",
    "Erzeugen Sie drei Series mit normalverteilten Zufallszahlen:\n",
    "* Eine Series mit 4 Werten und den Indizes 'abcd',\n",
    "* eine Series mit 5 Werten und den Indizes 'abcde', und\n",
    "* eine Series mit 6 Werten und den Indizes 'abcabc'.\n",
    "\n",
    "Multiplizieren und addieren Sie die Series jeweils paarweise.\n",
    "* Wie können Sie jeweils sinnvollerweise mit `nan`-Werten umgehen oder diese vermeiden?\n",
    "* Welchen Einfluss haben diese Vorgehensweisen auf Mittelwert und Standardabweichung?"
   ]
  },
  {
   "cell_type": "code",
   "execution_count": 251,
   "metadata": {},
   "outputs": [],
   "source": [
    "series_4 = pd.Series(index = ['a', 'b', 'c', 'd'], data = np.random.randn(4))\n",
    "series_5 = pd.Series(index = ['a', 'b', 'c', 'd', 'e'], data = np.random.randn(5))\n",
    "series_6 = pd.Series(index = ['a', 'b', 'c', 'a', 'b', 'c'], data = np.random.randn(6))"
   ]
  },
  {
   "cell_type": "code",
   "execution_count": 253,
   "metadata": {},
   "outputs": [
    {
     "name": "stdout",
     "output_type": "stream",
     "text": [
      "Addition: \n",
      "sa_45=a    0.652369\n",
      "b    0.352015\n",
      "c    2.160493\n",
      "d   -1.112411\n",
      "e         NaN\n",
      "dtype: float64, \n",
      "sa_56=a   -0.011802\n",
      "a   -1.741122\n",
      "b   -1.006328\n",
      "b   -1.706721\n",
      "c    1.242845\n",
      "c    0.701628\n",
      "d         NaN\n",
      "e         NaN\n",
      "dtype: float64, \n",
      "sa_46=a   -0.360869\n",
      "a   -2.090189\n",
      "b    0.114980\n",
      "b   -0.585413\n",
      "c    1.123396\n",
      "c    0.582179\n",
      "d         NaN\n",
      "dtype: float64\n",
      "Multiplikation: \n",
      "sm_45=a    0.075934\n",
      "b   -0.283354\n",
      "c    1.163365\n",
      "d    0.300921\n",
      "e         NaN\n",
      "dtype: float64, \n",
      "sm_56=a   -0.256628\n",
      "a   -1.122529\n",
      "b    0.239128\n",
      "b    0.508531\n",
      "c    0.117274\n",
      "c   -0.499698\n",
      "d         NaN\n",
      "e         NaN\n",
      "dtype: float64, \n",
      "sm_46=a   -0.077724\n",
      "a   -0.339976\n",
      "b   -0.457969\n",
      "b   -0.973922\n",
      "c    0.104985\n",
      "c   -0.447339\n",
      "d         NaN\n",
      "dtype: float64\n"
     ]
    }
   ],
   "source": [
    "sa_45 = series_4 + series_5\n",
    "sa_56 = series_5 + series_6\n",
    "sa_46 = series_4 + series_6\n",
    "\n",
    "sm_45 = series_4 * series_5\n",
    "sm_56 = series_5 * series_6\n",
    "sm_46 = series_4 * series_6\n",
    "\n",
    "print(f\"Addition: \\n{sa_45=}, \\n{sa_56=}, \\n{sa_46=}\")\n",
    "print(f\"Multiplikation: \\n{sm_45=}, \\n{sm_56=}, \\n{sm_46=}\")"
   ]
  },
  {
   "cell_type": "code",
   "execution_count": 263,
   "metadata": {},
   "outputs": [
    {
     "data": {
      "text/plain": [
       "a    0.652369\n",
       "b    0.352015\n",
       "c    2.160493\n",
       "d   -1.112411\n",
       "e   -0.885362\n",
       "dtype: float64"
      ]
     },
     "execution_count": 263,
     "metadata": {},
     "output_type": "execute_result"
    }
   ],
   "source": [
    "pd.Series.add(series_4, series_5, fill_value=0)\n"
   ]
  },
  {
   "cell_type": "code",
   "execution_count": 264,
   "metadata": {},
   "outputs": [
    {
     "data": {
      "text/plain": [
       "a    0.075934\n",
       "b   -0.283354\n",
       "c    1.163365\n",
       "d    0.300921\n",
       "e   -0.885362\n",
       "dtype: float64"
      ]
     },
     "execution_count": 264,
     "metadata": {},
     "output_type": "execute_result"
    }
   ],
   "source": [
    "pd.Series.mul(series_4, series_5, fill_value=1)"
   ]
  },
  {
   "cell_type": "code",
   "execution_count": 254,
   "metadata": {},
   "outputs": [
    {
     "name": "stdout",
     "output_type": "stream",
     "text": [
      "Standardabweichung: \n",
      "1.3418312027234045, \n",
      "1.2597238194658056, \n",
      "1.114413589745435\n",
      "Standardabweichung: \n",
      "0.6151149563404966, \n",
      "0.5888679398301135, \n",
      "0.37155020099158337\n"
     ]
    }
   ],
   "source": [
    "print(f\"Standardabweichung: \\n{sa_45.std()}, \\n{sa_56.std()}, \\n{sa_46.std()}\")\n",
    "print(f\"Standardabweichung: \\n{sm_45.std()}, \\n{sm_56.std()}, \\n{sm_46.std()}\")"
   ]
  },
  {
   "attachments": {},
   "cell_type": "markdown",
   "metadata": {
    "nbgrader": {
     "grade": false,
     "grade_id": "cell-b626ad39fc15ce69",
     "locked": true,
     "schema_version": 3,
     "solution": false,
     "task": false
    }
   },
   "source": [
    "##### 2. `size` und Imputieren fehlender Werte\n",
    "Erzeugen Sie eine `Series` mit 1000 zufälligen `float`s zwischen 0 und 1000.\n",
    "* Ersetzen Sie alle Werte < 100 und alle Werte > 900 mit `np.nan`.\n",
    "    * Was ist die Summe, die Standardabweichung, und der Mittelwert der Series?\n",
    "    * Was ist ihre `size`, und wie viele Werte verbleiben?\n",
    "* Ersetzen Sie alle nun fehlenden Werte mit dem Mittelwert der verbleibenden Werte.\n",
    "    * Wie ändern sich dadurch Summe, Mittelwert, und Standardabweichung?"
   ]
  },
  {
   "cell_type": "code",
   "execution_count": 10,
   "metadata": {},
   "outputs": [
    {
     "name": "stdout",
     "output_type": "stream",
     "text": [
      "Summe: 398089.49941753875\n",
      "Standardabweichung: 230.2927516171378\n",
      "Mittelwert: 495.1361933053965\n",
      "Anzahl: 1000, davon nicht nan: 804\n",
      "Summe: 495136.1933053965\n",
      "Standardabweichung: 206.46921065186345\n",
      "Mittelwert: 495.1361933053965\n",
      "Anzahl: 1000, davon nicht nan: 1000\n"
     ]
    }
   ],
   "source": [
    "S = pd.Series(np.random.random(1000) * 1000)\n",
    "S.loc[(S < 100) | (S > 900)] = np.nan\n",
    "\n",
    "print(f\"Summe: {S.sum()}\")\n",
    "print(f\"Standardabweichung: {S.std()}\")\n",
    "print(f\"Mittelwert: {S.mean()}\")\n",
    "print(f\"Anzahl: {S.size}, davon nicht nan: {S.count()}\")\n",
    "\n",
    "S = S.fillna(S.mean())\n",
    "\n",
    "print(f\"Summe: {S.sum()}\")\n",
    "print(f\"Standardabweichung: {S.std()}\")\n",
    "print(f\"Mittelwert: {S.mean()}\")\n",
    "print(f\"Anzahl: {S.size}, davon nicht nan: {S.count()}\")"
   ]
  },
  {
   "attachments": {},
   "cell_type": "markdown",
   "metadata": {
    "slideshow": {
     "slide_type": "slide"
    }
   },
   "source": [
    "## 6 Transformations\n",
    "* Series values and indices are mutable\n",
    "    * can easily be re-assigned\n",
    "    * typical operations still create new instances\n",
    "    * `inplace=True` is deprecated"
   ]
  },
  {
   "attachments": {},
   "cell_type": "markdown",
   "metadata": {
    "slideshow": {
     "slide_type": "slide"
    }
   },
   "source": [
    "* more comprehensive transformations need dedicated methods\n",
    "    * replace\n",
    "        * `Series.replace` *ignores* values not found\n",
    "        * `Series.map` *drops* values not found\n",
    "        \n",
    "    * condense\n",
    "        * `Series.cumsum` adds progressively\n",
    "        * `Series.aggregate` (or `Series.agg`) returns a scalar value\n",
    "        \n",
    "    * sort\n",
    "        * `Series.sort_values` sorts by series *values*\n",
    "        * `Series.sort_index` sort by series *index*\n",
    "    \n",
    "    * manipulate\n",
    "        * `Series.apply` uses a single function\n",
    "        * `Series.transform` uses one or more functions, \"string functions\", or dicts"
   ]
  },
  {
   "attachments": {},
   "cell_type": "markdown",
   "metadata": {
    "slideshow": {
     "slide_type": "slide"
    }
   },
   "source": [
    "### 6.1 Replace and map\n",
    "* Replace values with different values according to a replacement rule\n",
    "* for the difference, see also https://stackoverflow.com/a/62947436"
   ]
  },
  {
   "attachments": {},
   "cell_type": "markdown",
   "metadata": {
    "slideshow": {
     "slide_type": "slide"
    }
   },
   "source": [
    "#### `Series.replace`\n",
    "- can utilize strings or regular expressions\n",
    "- may give two positional arguments: replace first with second\n",
    "- may also give a mapping (dict or Series)\n",
    "- all values not explicitly given are ignored"
   ]
  },
  {
   "cell_type": "code",
   "execution_count": null,
   "metadata": {
    "slideshow": {
     "slide_type": "fragment"
    }
   },
   "outputs": [],
   "source": [
    "help(pd.Series.replace)"
   ]
  },
  {
   "cell_type": "code",
   "execution_count": 215,
   "metadata": {
    "slideshow": {
     "slide_type": "subslide"
    }
   },
   "outputs": [
    {
     "data": {
      "text/plain": [
       "0        Er\n",
       "1       sah\n",
       "2       das\n",
       "3    Wasser\n",
       "4        as\n",
       "dtype: object"
      ]
     },
     "execution_count": 215,
     "metadata": {},
     "output_type": "execute_result"
    }
   ],
   "source": [
    "strings = pd.Series('Er sah das Wasser as'.split())\n",
    "strings"
   ]
  },
  {
   "cell_type": "code",
   "execution_count": 216,
   "metadata": {
    "scrolled": true,
    "slideshow": {
     "slide_type": "fragment"
    }
   },
   "outputs": [
    {
     "data": {
      "text/plain": [
       "0        Er\n",
       "1       sah\n",
       "2       das\n",
       "3    Wasser\n",
       "4        an\n",
       "dtype: object"
      ]
     },
     "execution_count": 216,
     "metadata": {},
     "output_type": "execute_result"
    }
   ],
   "source": [
    "strings.replace('as', 'an')"
   ]
  },
  {
   "cell_type": "code",
   "execution_count": 217,
   "metadata": {
    "slideshow": {
     "slide_type": "fragment"
    }
   },
   "outputs": [
    {
     "data": {
      "text/plain": [
       "0        Er\n",
       "1       sah\n",
       "2       das\n",
       "3    Wasser\n",
       "4        an\n",
       "dtype: object"
      ]
     },
     "execution_count": 217,
     "metadata": {},
     "output_type": "execute_result"
    }
   ],
   "source": [
    "strings.replace('^.s$', 'an', regex=True)  # with a regular expression"
   ]
  },
  {
   "cell_type": "code",
   "execution_count": 218,
   "metadata": {
    "slideshow": {
     "slide_type": "subslide"
    }
   },
   "outputs": [
    {
     "data": {
      "text/plain": [
       "0    1000\n",
       "1      10\n",
       "2      20\n",
       "3      30\n",
       "dtype: int64"
      ]
     },
     "execution_count": 218,
     "metadata": {},
     "output_type": "execute_result"
    }
   ],
   "source": [
    "integers = pd.Series((0, 10, 20, 30))\n",
    "integers.replace(0, 1000)  # with two values"
   ]
  },
  {
   "cell_type": "code",
   "execution_count": 219,
   "metadata": {
    "slideshow": {
     "slide_type": "fragment"
    }
   },
   "outputs": [
    {
     "data": {
      "text/plain": [
       "0      0\n",
       "1    100\n",
       "2    200\n",
       "3     30\n",
       "dtype: int64"
      ]
     },
     "execution_count": 219,
     "metadata": {},
     "output_type": "execute_result"
    }
   ],
   "source": [
    "integers.replace({10: 100, 20: 200, 50: 10})  # with a dict"
   ]
  },
  {
   "cell_type": "code",
   "execution_count": 220,
   "metadata": {
    "slideshow": {
     "slide_type": "fragment"
    }
   },
   "outputs": [
    {
     "name": "stdout",
     "output_type": "stream",
     "text": [
      "0     0\n",
      "1    10\n",
      "2    20\n",
      "3    30\n",
      "dtype: int64 0     5\n",
      "10    6\n",
      "20    7\n",
      "dtype: int64\n"
     ]
    },
    {
     "data": {
      "text/plain": [
       "0     5\n",
       "1     6\n",
       "2     7\n",
       "3    30\n",
       "dtype: int64"
      ]
     },
     "execution_count": 220,
     "metadata": {},
     "output_type": "execute_result"
    }
   ],
   "source": [
    "replacement = pd.Series(data=(5, 6, 7), index=(0, 10, 20))\n",
    "print(integers,replacement)\n",
    "integers.replace(replacement)  # with a Series"
   ]
  },
  {
   "attachments": {},
   "cell_type": "markdown",
   "metadata": {
    "slideshow": {
     "slide_type": "slide"
    }
   },
   "source": [
    "#### `Series.map`\n",
    "- accepts a Series, dict, or function\n",
    "    - `Series` with old values in the index\n",
    "    - `dict` with old values: new values as key-value pairs\n",
    "    - function with a single argument: similar to `apply` (see below)\n",
    "- if a value is not found, replace with `na`"
   ]
  },
  {
   "cell_type": "code",
   "execution_count": null,
   "metadata": {
    "scrolled": true,
    "slideshow": {
     "slide_type": "fragment"
    }
   },
   "outputs": [],
   "source": [
    "help(pd.Series.map)"
   ]
  },
  {
   "cell_type": "code",
   "execution_count": 222,
   "metadata": {
    "slideshow": {
     "slide_type": "subslide"
    }
   },
   "outputs": [
    {
     "data": {
      "text/plain": [
       "0     0\n",
       "1    10\n",
       "2    20\n",
       "3    30\n",
       "dtype: int64"
      ]
     },
     "execution_count": 222,
     "metadata": {},
     "output_type": "execute_result"
    }
   ],
   "source": [
    "integers"
   ]
  },
  {
   "cell_type": "code",
   "execution_count": 223,
   "metadata": {
    "slideshow": {
     "slide_type": "fragment"
    }
   },
   "outputs": [
    {
     "data": {
      "text/plain": [
       "0     5\n",
       "10    6\n",
       "20    7\n",
       "dtype: int64"
      ]
     },
     "execution_count": 223,
     "metadata": {},
     "output_type": "execute_result"
    }
   ],
   "source": [
    "replacement"
   ]
  },
  {
   "cell_type": "code",
   "execution_count": 224,
   "metadata": {
    "slideshow": {
     "slide_type": "fragment"
    }
   },
   "outputs": [
    {
     "data": {
      "text/plain": [
       "0    5.0\n",
       "1    6.0\n",
       "2    7.0\n",
       "3    NaN\n",
       "dtype: float64"
      ]
     },
     "execution_count": 224,
     "metadata": {},
     "output_type": "execute_result"
    }
   ],
   "source": [
    "integers.map(replacement)"
   ]
  },
  {
   "cell_type": "code",
   "execution_count": 225,
   "metadata": {
    "slideshow": {
     "slide_type": "fragment"
    }
   },
   "outputs": [
    {
     "data": {
      "text/plain": [
       "0      NaN\n",
       "1    100.0\n",
       "2    200.0\n",
       "3      NaN\n",
       "dtype: float64"
      ]
     },
     "execution_count": 225,
     "metadata": {},
     "output_type": "execute_result"
    }
   ],
   "source": [
    "integers.map({10: 100, 20: 200, 50: 10})"
   ]
  },
  {
   "attachments": {},
   "cell_type": "markdown",
   "metadata": {
    "slideshow": {
     "slide_type": "slide"
    }
   },
   "source": [
    "### 6.2 Condense\n",
    "- `Series.cumsum` cumulates values\n",
    "- `Series.mean`, `Series.std` for statistics\n",
    "- `Series.all`, `Series.any` for truthiness\n",
    "- `Series.agg` with arbitrary functions"
   ]
  },
  {
   "attachments": {},
   "cell_type": "markdown",
   "metadata": {
    "slideshow": {
     "slide_type": "slide"
    }
   },
   "source": [
    "#### `Series.cumsum`\n",
    "- adds up all values\n",
    "- sometimes useful in statistics\n",
    "- returns a Series of the sum up to each index"
   ]
  },
  {
   "cell_type": "code",
   "execution_count": null,
   "metadata": {
    "scrolled": true,
    "slideshow": {
     "slide_type": "fragment"
    }
   },
   "outputs": [],
   "source": [
    "help(pd.Series.cumsum)"
   ]
  },
  {
   "cell_type": "code",
   "execution_count": 227,
   "metadata": {
    "slideshow": {
     "slide_type": "slide"
    }
   },
   "outputs": [
    {
     "data": {
      "text/plain": [
       "2021-04-01    1\n",
       "2021-04-02    1\n",
       "2021-04-03    0\n",
       "2021-04-04    0\n",
       "2021-04-05    2\n",
       "2021-04-06    2\n",
       "2021-04-07    1\n",
       "Freq: D, dtype: int64"
      ]
     },
     "execution_count": 227,
     "metadata": {},
     "output_type": "execute_result"
    }
   ],
   "source": [
    "errors = pd.Series(\n",
    "    (1, 1, 0, 0, 2, 2, 1), index=pd.date_range(start='2021-04-01', periods=7)\n",
    ")\n",
    "errors"
   ]
  },
  {
   "cell_type": "code",
   "execution_count": 228,
   "metadata": {
    "slideshow": {
     "slide_type": "fragment"
    }
   },
   "outputs": [
    {
     "data": {
      "text/plain": [
       "2021-04-01    1\n",
       "2021-04-02    2\n",
       "2021-04-03    2\n",
       "2021-04-04    2\n",
       "2021-04-05    4\n",
       "2021-04-06    6\n",
       "2021-04-07    7\n",
       "Freq: D, dtype: int64"
      ]
     },
     "execution_count": 228,
     "metadata": {},
     "output_type": "execute_result"
    }
   ],
   "source": [
    "errors.cumsum()"
   ]
  },
  {
   "attachments": {},
   "cell_type": "markdown",
   "metadata": {
    "slideshow": {
     "slide_type": "slide"
    }
   },
   "source": [
    "#### `Series.aggregate`\n",
    "* applies a function to a Series\n",
    "    * returns a single value\n",
    "* applies a *list of* functions\n",
    "    * returns a *Series of* values"
   ]
  },
  {
   "cell_type": "code",
   "execution_count": 229,
   "metadata": {
    "slideshow": {
     "slide_type": "fragment"
    }
   },
   "outputs": [
    {
     "data": {
      "text/plain": [
       "30"
      ]
     },
     "execution_count": 229,
     "metadata": {},
     "output_type": "execute_result"
    }
   ],
   "source": [
    "integers.agg('max')"
   ]
  },
  {
   "cell_type": "code",
   "execution_count": 230,
   "metadata": {
    "slideshow": {
     "slide_type": "fragment"
    }
   },
   "outputs": [
    {
     "data": {
      "text/plain": [
       "12.909944487358056"
      ]
     },
     "execution_count": 230,
     "metadata": {},
     "output_type": "execute_result"
    }
   ],
   "source": [
    "integers.agg('std', ddof=1)"
   ]
  },
  {
   "cell_type": "code",
   "execution_count": 12,
   "metadata": {
    "slideshow": {
     "slide_type": "fragment"
    }
   },
   "outputs": [
    {
     "data": {
      "text/plain": [
       "product   -7.380589e+21\n",
       "sum       -9.793213e+01\n",
       "dtype: float64"
      ]
     },
     "execution_count": 12,
     "metadata": {},
     "output_type": "execute_result"
    }
   ],
   "source": [
    "random_normal = pd.Series(1.87 * np.random.randn(1000))\n",
    "random_normal.agg(['product', 'sum'])"
   ]
  },
  {
   "cell_type": "code",
   "execution_count": 17,
   "metadata": {
    "slideshow": {
     "slide_type": "fragment"
    }
   },
   "outputs": [
    {
     "data": {
      "text/plain": [
       "count       1000.000000\n",
       "mean          -0.097932\n",
       "std            1.909121\n",
       "min           -6.256740\n",
       "max            5.649563\n",
       "quantile      -0.107404\n",
       "quantile      -0.107404\n",
       "dtype: float64"
      ]
     },
     "execution_count": 17,
     "metadata": {},
     "output_type": "execute_result"
    }
   ],
   "source": [
    "random_normal.agg(\n",
    "    [\n",
    "        pd.Series.count,\n",
    "        pd.Series.mean,\n",
    "        pd.Series.std,\n",
    "        pd.Series.min,\n",
    "        pd.Series.max,\n",
    "        pd.Series.quantile,\n",
    "        pd.Series.quantile,\n",
    "    ],\n",
    ")"
   ]
  },
  {
   "attachments": {},
   "cell_type": "markdown",
   "metadata": {
    "slideshow": {
     "slide_type": "subslide"
    }
   },
   "source": [
    "* note: relatively trivial when applied to Series\n",
    "* more interesting with DataFrames\n",
    "    * precise control over axis of aggregation\n",
    "    * different methods for different columns, at once"
   ]
  },
  {
   "cell_type": "code",
   "execution_count": null,
   "metadata": {
    "scrolled": true,
    "slideshow": {
     "slide_type": "fragment"
    }
   },
   "outputs": [],
   "source": [
    "help(pd.Series.agg)"
   ]
  },
  {
   "attachments": {},
   "cell_type": "markdown",
   "metadata": {
    "slideshow": {
     "slide_type": "slide"
    }
   },
   "source": [
    "### 6.3 Sort\n",
    "* a very basic way to manipulate data\n",
    "* small values first, big values later\n",
    "    * may pass custom key to sort data by\n",
    "* may introduce bias and destroy information\n",
    "    * order of items may convey \"hidden\" information\n",
    "    * instead, we suggest a new order which was never there\n",
    "* sorting the underlying numpy arrays is faster"
   ]
  },
  {
   "cell_type": "code",
   "execution_count": null,
   "metadata": {
    "slideshow": {
     "slide_type": "fragment"
    }
   },
   "outputs": [],
   "source": [
    "help(pd.Series.sort_values)"
   ]
  },
  {
   "attachments": {},
   "cell_type": "markdown",
   "metadata": {
    "slideshow": {
     "slide_type": "slide"
    }
   },
   "source": [
    "#### `Series.sort_values`\n",
    "- returns a new Series, sorted by value\n",
    "    - sorting order depends on datatype\n",
    "- may sort in `ascending` order (or not)\n",
    "- may `ignore_index` to create a new numeric index\n",
    "- may sort missing values first or last"
   ]
  },
  {
   "cell_type": "code",
   "execution_count": 18,
   "metadata": {
    "slideshow": {
     "slide_type": "fragment"
    }
   },
   "outputs": [
    {
     "data": {
      "text/plain": [
       "2      1\n",
       "1     11\n",
       "0    100\n",
       "dtype: int64"
      ]
     },
     "execution_count": 18,
     "metadata": {},
     "output_type": "execute_result"
    }
   ],
   "source": [
    "pd.Series((100, 11, 1)).sort_values()"
   ]
  },
  {
   "cell_type": "code",
   "execution_count": 19,
   "metadata": {
    "slideshow": {
     "slide_type": "fragment"
    }
   },
   "outputs": [
    {
     "data": {
      "text/plain": [
       "2      1\n",
       "0    100\n",
       "1     11\n",
       "dtype: object"
      ]
     },
     "execution_count": 19,
     "metadata": {},
     "output_type": "execute_result"
    }
   ],
   "source": [
    "pd.Series(('100', '11', '1')).sort_values()"
   ]
  },
  {
   "cell_type": "code",
   "execution_count": 20,
   "metadata": {
    "scrolled": true,
    "slideshow": {
     "slide_type": "fragment"
    }
   },
   "outputs": [
    {
     "data": {
      "text/plain": [
       "0      1\n",
       "1    100\n",
       "2     11\n",
       "dtype: object"
      ]
     },
     "execution_count": 20,
     "metadata": {},
     "output_type": "execute_result"
    }
   ],
   "source": [
    "pd.Series(('100', '11', '1')).sort_values(ignore_index=True)"
   ]
  },
  {
   "cell_type": "code",
   "execution_count": 21,
   "metadata": {
    "slideshow": {
     "slide_type": "subslide"
    }
   },
   "outputs": [
    {
     "data": {
      "text/plain": [
       "746   -6.256740\n",
       "221   -5.400823\n",
       "956   -5.318949\n",
       "911   -5.291591\n",
       "193   -5.089431\n",
       "         ...   \n",
       "232    4.924791\n",
       "180    4.967086\n",
       "77     4.971026\n",
       "257    5.302279\n",
       "523    5.649563\n",
       "Length: 1000, dtype: float64"
      ]
     },
     "execution_count": 21,
     "metadata": {},
     "output_type": "execute_result"
    }
   ],
   "source": [
    "random_normal.sort_values(na_position='first')"
   ]
  },
  {
   "cell_type": "code",
   "execution_count": 22,
   "metadata": {
    "slideshow": {
     "slide_type": "fragment"
    }
   },
   "outputs": [
    {
     "data": {
      "text/plain": [
       "523    5.649563\n",
       "257    5.302279\n",
       "77     4.971026\n",
       "180    4.967086\n",
       "232    4.924791\n",
       "         ...   \n",
       "193   -5.089431\n",
       "911   -5.291591\n",
       "956   -5.318949\n",
       "221   -5.400823\n",
       "746   -6.256740\n",
       "Length: 1000, dtype: float64"
      ]
     },
     "execution_count": 22,
     "metadata": {},
     "output_type": "execute_result"
    }
   ],
   "source": [
    "random_normal.sort_values(ascending=False)"
   ]
  },
  {
   "cell_type": "code",
   "execution_count": 46,
   "metadata": {},
   "outputs": [],
   "source": [
    "np.random.seed(1)\n",
    "values_pd = pd.Series(np.random.randn(10_000_000))\n",
    "values_np = np.random.randn(10_000_000)"
   ]
  },
  {
   "cell_type": "code",
   "execution_count": 47,
   "metadata": {
    "slideshow": {
     "slide_type": "fragment"
    }
   },
   "outputs": [
    {
     "name": "stdout",
     "output_type": "stream",
     "text": [
      "2.09 s ± 37.1 ms per loop (mean ± std. dev. of 7 runs, 1 loop each)\n"
     ]
    }
   ],
   "source": [
    "%%timeit\n",
    "values = values_pd.sort_values()"
   ]
  },
  {
   "cell_type": "code",
   "execution_count": 49,
   "metadata": {
    "slideshow": {
     "slide_type": "fragment"
    }
   },
   "outputs": [
    {
     "name": "stdout",
     "output_type": "stream",
     "text": [
      "113 ms ± 5.35 ms per loop (mean ± std. dev. of 7 runs, 1 loop each)\n"
     ]
    }
   ],
   "source": [
    "%%timeit\n",
    "values_np.sort()"
   ]
  },
  {
   "attachments": {},
   "cell_type": "markdown",
   "metadata": {
    "slideshow": {
     "slide_type": "slide"
    }
   },
   "source": [
    "#### `Series.sort_index`\n",
    "- we may also sort by index\n",
    "- when Series have more than one index, sort sequentially\n",
    "    - may give indices to sort first by\n",
    "    - may ignore other indices"
   ]
  },
  {
   "cell_type": "code",
   "execution_count": 25,
   "metadata": {
    "slideshow": {
     "slide_type": "fragment"
    }
   },
   "outputs": [
    {
     "data": {
      "text/plain": [
       "0     -0.929442\n",
       "1      0.236041\n",
       "2      0.894137\n",
       "3     -0.352307\n",
       "4     -0.489370\n",
       "         ...   \n",
       "995    1.486422\n",
       "996   -2.129280\n",
       "997   -2.167154\n",
       "998    0.104962\n",
       "999    1.027931\n",
       "Length: 1000, dtype: float64"
      ]
     },
     "execution_count": 25,
     "metadata": {},
     "output_type": "execute_result"
    }
   ],
   "source": [
    "random_normal.sort_index()"
   ]
  },
  {
   "cell_type": "code",
   "execution_count": null,
   "metadata": {
    "slideshow": {
     "slide_type": "fragment"
    }
   },
   "outputs": [],
   "source": [
    "help(pd.Series.sort_index)"
   ]
  },
  {
   "attachments": {},
   "cell_type": "markdown",
   "metadata": {
    "slideshow": {
     "slide_type": "slide"
    }
   },
   "source": [
    "#### sort functions\n",
    "- so far only sorted \"from small to big\" and \"from big to small\"\n",
    "- arbitrary functions can be given as \"key\" to sort by\n",
    "- series are then sorted by function output"
   ]
  },
  {
   "cell_type": "code",
   "execution_count": 27,
   "metadata": {
    "slideshow": {
     "slide_type": "fragment"
    }
   },
   "outputs": [],
   "source": [
    "def sort_function(s: int) -> int:\n",
    "    return np.sin(abs(s))"
   ]
  },
  {
   "cell_type": "code",
   "execution_count": 28,
   "metadata": {
    "slideshow": {
     "slide_type": "fragment"
    }
   },
   "outputs": [
    {
     "data": {
      "text/plain": [
       "376    4.697142\n",
       "422   -4.687259\n",
       "228   -4.777086\n",
       "991   -4.593603\n",
       "730   -4.585645\n",
       "         ...   \n",
       "265    1.557893\n",
       "820    1.561635\n",
       "707    1.578432\n",
       "473   -1.574889\n",
       "881   -1.567959\n",
       "Length: 1000, dtype: float64"
      ]
     },
     "execution_count": 28,
     "metadata": {},
     "output_type": "execute_result"
    }
   ],
   "source": [
    "random_normal.sort_values(key=sort_function)"
   ]
  },
  {
   "attachments": {},
   "cell_type": "markdown",
   "metadata": {
    "slideshow": {
     "slide_type": "slide"
    }
   },
   "source": [
    "### 6.4 Apply and Transform\n",
    "- invoke a function on the values\n",
    "    - operates on *one row at a time*\n",
    "    - may provide additional keyword args\n",
    "- for the difference, see https://towardsdatascience.com/difference-between-apply-and-transform-in-pandas-242e5cf32705"
   ]
  },
  {
   "cell_type": "code",
   "execution_count": null,
   "metadata": {
    "scrolled": true,
    "slideshow": {
     "slide_type": "fragment"
    }
   },
   "outputs": [],
   "source": [
    "help(pd.Series.apply)"
   ]
  },
  {
   "cell_type": "code",
   "execution_count": null,
   "metadata": {
    "scrolled": true,
    "slideshow": {
     "slide_type": "fragment"
    }
   },
   "outputs": [],
   "source": [
    "help(pd.Series.transform)"
   ]
  },
  {
   "attachments": {},
   "cell_type": "markdown",
   "metadata": {
    "slideshow": {
     "slide_type": "slide"
    }
   },
   "source": [
    "#### `Series.transform`\n",
    "(single Series $\\rightarrow$ multiple results)\n",
    "- may use a (numpy or python) function, a 'string function', a list of functions, or a dict\n",
    "- cannot use to aggregate Series (result has same length as input)\n",
    "- may only use a single Series at a time"
   ]
  },
  {
   "cell_type": "code",
   "execution_count": 31,
   "metadata": {
    "slideshow": {
     "slide_type": "fragment"
    }
   },
   "outputs": [],
   "source": [
    "integers = pd.Series((10, 20, 30))"
   ]
  },
  {
   "cell_type": "code",
   "execution_count": 32,
   "metadata": {
    "slideshow": {
     "slide_type": "fragment"
    }
   },
   "outputs": [
    {
     "data": {
      "text/plain": [
       "0    2.202647e+04\n",
       "1    4.851652e+08\n",
       "2    1.068647e+13\n",
       "dtype: float64"
      ]
     },
     "execution_count": 32,
     "metadata": {},
     "output_type": "execute_result"
    }
   ],
   "source": [
    "integers.transform(np.exp)  # numpy ufunc"
   ]
  },
  {
   "cell_type": "code",
   "execution_count": 33,
   "metadata": {
    "slideshow": {
     "slide_type": "subslide"
    }
   },
   "outputs": [
    {
     "data": {
      "text/plain": [
       "0    10.000000\n",
       "1    26.020600\n",
       "2    44.313638\n",
       "dtype: float64"
      ]
     },
     "execution_count": 33,
     "metadata": {},
     "output_type": "execute_result"
    }
   ],
   "source": [
    "def loglin(x, base=np.e):\n",
    "    return x * np.log(x) / np.log(base)\n",
    "\n",
    "\n",
    "integers.transform(loglin, base=10)  # Python function"
   ]
  },
  {
   "cell_type": "code",
   "execution_count": 34,
   "metadata": {
    "scrolled": true,
    "slideshow": {
     "slide_type": "fragment"
    }
   },
   "outputs": [
    {
     "data": {
      "text/plain": [
       "0    3.162278\n",
       "1    4.472136\n",
       "2    5.477226\n",
       "dtype: float64"
      ]
     },
     "execution_count": 34,
     "metadata": {},
     "output_type": "execute_result"
    }
   ],
   "source": [
    "integers.transform('sqrt')  # \"string function\": Pandas looks these up"
   ]
  },
  {
   "cell_type": "code",
   "execution_count": 35,
   "metadata": {
    "slideshow": {
     "slide_type": "subslide"
    }
   },
   "outputs": [
    {
     "data": {
      "text/html": [
       "<div>\n",
       "<style scoped>\n",
       "    .dataframe tbody tr th:only-of-type {\n",
       "        vertical-align: middle;\n",
       "    }\n",
       "\n",
       "    .dataframe tbody tr th {\n",
       "        vertical-align: top;\n",
       "    }\n",
       "\n",
       "    .dataframe thead th {\n",
       "        text-align: right;\n",
       "    }\n",
       "</style>\n",
       "<table border=\"1\" class=\"dataframe\">\n",
       "  <thead>\n",
       "    <tr style=\"text-align: right;\">\n",
       "      <th></th>\n",
       "      <th>sqrt</th>\n",
       "      <th>square</th>\n",
       "      <th>loglin</th>\n",
       "    </tr>\n",
       "  </thead>\n",
       "  <tbody>\n",
       "    <tr>\n",
       "      <th>0</th>\n",
       "      <td>3.162278</td>\n",
       "      <td>100</td>\n",
       "      <td>23.025851</td>\n",
       "    </tr>\n",
       "    <tr>\n",
       "      <th>1</th>\n",
       "      <td>4.472136</td>\n",
       "      <td>400</td>\n",
       "      <td>59.914645</td>\n",
       "    </tr>\n",
       "    <tr>\n",
       "      <th>2</th>\n",
       "      <td>5.477226</td>\n",
       "      <td>900</td>\n",
       "      <td>102.035921</td>\n",
       "    </tr>\n",
       "  </tbody>\n",
       "</table>\n",
       "</div>"
      ],
      "text/plain": [
       "       sqrt  square      loglin\n",
       "0  3.162278     100   23.025851\n",
       "1  4.472136     400   59.914645\n",
       "2  5.477226     900  102.035921"
      ]
     },
     "execution_count": 35,
     "metadata": {},
     "output_type": "execute_result"
    }
   ],
   "source": [
    "integers.transform(['sqrt', np.square, loglin])  # output is a `pd.DataFrame`!"
   ]
  },
  {
   "attachments": {},
   "cell_type": "markdown",
   "metadata": {
    "slideshow": {
     "slide_type": "slide"
    }
   },
   "source": [
    "#### `Series.apply`\n",
    "(multiple Series $\\rightarrow$ single result)\n",
    "- may *only* use a numpy ufunc, string function, or a Python function (no list or dict!)\n",
    "- may use multiple Series (of a DataFrame) at a time\n",
    "- may produce aggregated results\n",
    "- may automatically convert the data type"
   ]
  },
  {
   "cell_type": "code",
   "execution_count": 36,
   "metadata": {
    "slideshow": {
     "slide_type": "fragment"
    }
   },
   "outputs": [
    {
     "data": {
      "text/plain": [
       "0    3.162278\n",
       "1    4.472136\n",
       "2    5.477226\n",
       "dtype: float64"
      ]
     },
     "execution_count": 36,
     "metadata": {},
     "output_type": "execute_result"
    }
   ],
   "source": [
    "integers.apply(np.sqrt)  # `Series` result"
   ]
  },
  {
   "cell_type": "code",
   "execution_count": 37,
   "metadata": {
    "slideshow": {
     "slide_type": "fragment"
    }
   },
   "outputs": [
    {
     "data": {
      "text/plain": [
       "6000"
      ]
     },
     "execution_count": 37,
     "metadata": {},
     "output_type": "execute_result"
    }
   ],
   "source": [
    "integers.apply('prod')  # scalar result, does not work with Series.transform"
   ]
  },
  {
   "cell_type": "code",
   "execution_count": 38,
   "metadata": {
    "slideshow": {
     "slide_type": "fragment"
    }
   },
   "outputs": [
    {
     "data": {
      "text/plain": [
       "0         10.0\n",
       "1      26.0206\n",
       "2    44.313638\n",
       "dtype: object"
      ]
     },
     "execution_count": 38,
     "metadata": {},
     "output_type": "execute_result"
    }
   ],
   "source": [
    "integers.apply(loglin, base=10, convert_dtype=False)"
   ]
  },
  {
   "cell_type": "code",
   "execution_count": 39,
   "metadata": {
    "slideshow": {
     "slide_type": "fragment"
    }
   },
   "outputs": [
    {
     "data": {
      "text/html": [
       "<div>\n",
       "<style scoped>\n",
       "    .dataframe tbody tr th:only-of-type {\n",
       "        vertical-align: middle;\n",
       "    }\n",
       "\n",
       "    .dataframe tbody tr th {\n",
       "        vertical-align: top;\n",
       "    }\n",
       "\n",
       "    .dataframe thead th {\n",
       "        text-align: right;\n",
       "    }\n",
       "</style>\n",
       "<table border=\"1\" class=\"dataframe\">\n",
       "  <thead>\n",
       "    <tr style=\"text-align: right;\">\n",
       "      <th></th>\n",
       "      <th>sqrt</th>\n",
       "      <th>square</th>\n",
       "      <th>loglin</th>\n",
       "    </tr>\n",
       "  </thead>\n",
       "  <tbody>\n",
       "    <tr>\n",
       "      <th>0</th>\n",
       "      <td>3.162278</td>\n",
       "      <td>100</td>\n",
       "      <td>23.025851</td>\n",
       "    </tr>\n",
       "    <tr>\n",
       "      <th>1</th>\n",
       "      <td>4.472136</td>\n",
       "      <td>400</td>\n",
       "      <td>59.914645</td>\n",
       "    </tr>\n",
       "    <tr>\n",
       "      <th>2</th>\n",
       "      <td>5.477226</td>\n",
       "      <td>900</td>\n",
       "      <td>102.035921</td>\n",
       "    </tr>\n",
       "  </tbody>\n",
       "</table>\n",
       "</div>"
      ],
      "text/plain": [
       "       sqrt  square      loglin\n",
       "0  3.162278     100   23.025851\n",
       "1  4.472136     400   59.914645\n",
       "2  5.477226     900  102.035921"
      ]
     },
     "execution_count": 39,
     "metadata": {},
     "output_type": "execute_result"
    }
   ],
   "source": [
    "transformed_ints = integers.transform(['sqrt', np.square, loglin])\n",
    "transformed_ints"
   ]
  },
  {
   "cell_type": "code",
   "execution_count": 40,
   "metadata": {
    "slideshow": {
     "slide_type": "fragment"
    }
   },
   "outputs": [
    {
     "data": {
      "text/plain": [
       "sqrt        13.111639\n",
       "square    1400.000000\n",
       "loglin     184.976418\n",
       "dtype: float64"
      ]
     },
     "execution_count": 40,
     "metadata": {},
     "output_type": "execute_result"
    }
   ],
   "source": [
    "transformed_ints.apply('sum')  # returns a Series"
   ]
  },
  {
   "cell_type": "code",
   "execution_count": 41,
   "metadata": {
    "slideshow": {
     "slide_type": "fragment"
    }
   },
   "outputs": [
    {
     "data": {
      "text/plain": [
       "0     126.188129\n",
       "1     464.386781\n",
       "2    1007.513147\n",
       "dtype: float64"
      ]
     },
     "execution_count": 41,
     "metadata": {},
     "output_type": "execute_result"
    }
   ],
   "source": [
    "transformed_ints.apply('sum', axis=1)"
   ]
  },
  {
   "cell_type": "code",
   "execution_count": 42,
   "metadata": {
    "slideshow": {
     "slide_type": "subslide"
    }
   },
   "outputs": [
    {
     "data": {
      "text/html": [
       "<div>\n",
       "<style scoped>\n",
       "    .dataframe tbody tr th:only-of-type {\n",
       "        vertical-align: middle;\n",
       "    }\n",
       "\n",
       "    .dataframe tbody tr th {\n",
       "        vertical-align: top;\n",
       "    }\n",
       "\n",
       "    .dataframe thead th {\n",
       "        text-align: right;\n",
       "    }\n",
       "</style>\n",
       "<table border=\"1\" class=\"dataframe\">\n",
       "  <thead>\n",
       "    <tr style=\"text-align: right;\">\n",
       "      <th></th>\n",
       "      <th>sqrt</th>\n",
       "      <th>square</th>\n",
       "      <th>loglin</th>\n",
       "    </tr>\n",
       "  </thead>\n",
       "  <tbody>\n",
       "    <tr>\n",
       "      <th>0</th>\n",
       "      <td>3.162278</td>\n",
       "      <td>100</td>\n",
       "      <td>23.025851</td>\n",
       "    </tr>\n",
       "    <tr>\n",
       "      <th>1</th>\n",
       "      <td>4.472136</td>\n",
       "      <td>400</td>\n",
       "      <td>59.914645</td>\n",
       "    </tr>\n",
       "    <tr>\n",
       "      <th>2</th>\n",
       "      <td>5.477226</td>\n",
       "      <td>900</td>\n",
       "      <td>102.035921</td>\n",
       "    </tr>\n",
       "  </tbody>\n",
       "</table>\n",
       "</div>"
      ],
      "text/plain": [
       "       sqrt  square      loglin\n",
       "0  3.162278     100   23.025851\n",
       "1  4.472136     400   59.914645\n",
       "2  5.477226     900  102.035921"
      ]
     },
     "execution_count": 42,
     "metadata": {},
     "output_type": "execute_result"
    }
   ],
   "source": [
    "transformed_ints"
   ]
  },
  {
   "cell_type": "code",
   "execution_count": 43,
   "metadata": {
    "slideshow": {
     "slide_type": "fragment"
    }
   },
   "outputs": [
    {
     "data": {
      "text/html": [
       "<div>\n",
       "<style scoped>\n",
       "    .dataframe tbody tr th:only-of-type {\n",
       "        vertical-align: middle;\n",
       "    }\n",
       "\n",
       "    .dataframe tbody tr th {\n",
       "        vertical-align: top;\n",
       "    }\n",
       "\n",
       "    .dataframe thead th {\n",
       "        text-align: right;\n",
       "    }\n",
       "</style>\n",
       "<table border=\"1\" class=\"dataframe\">\n",
       "  <thead>\n",
       "    <tr style=\"text-align: right;\">\n",
       "      <th></th>\n",
       "      <th>sqrt</th>\n",
       "      <th>square</th>\n",
       "      <th>loglin</th>\n",
       "    </tr>\n",
       "  </thead>\n",
       "  <tbody>\n",
       "    <tr>\n",
       "      <th>0</th>\n",
       "      <td>0.000000</td>\n",
       "      <td>0</td>\n",
       "      <td>0.000000</td>\n",
       "    </tr>\n",
       "    <tr>\n",
       "      <th>1</th>\n",
       "      <td>4.472136</td>\n",
       "      <td>400</td>\n",
       "      <td>59.914645</td>\n",
       "    </tr>\n",
       "    <tr>\n",
       "      <th>2</th>\n",
       "      <td>10.954451</td>\n",
       "      <td>1800</td>\n",
       "      <td>204.071843</td>\n",
       "    </tr>\n",
       "  </tbody>\n",
       "</table>\n",
       "</div>"
      ],
      "text/plain": [
       "        sqrt  square      loglin\n",
       "0   0.000000       0    0.000000\n",
       "1   4.472136     400   59.914645\n",
       "2  10.954451    1800  204.071843"
      ]
     },
     "execution_count": 43,
     "metadata": {},
     "output_type": "execute_result"
    }
   ],
   "source": [
    "def weigh_by_index(x: pd.DataFrame) -> pd.Series:\n",
    "    return x.values * x.index\n",
    "\n",
    "\n",
    "transformed_ints.apply(weigh_by_index, axis=0)"
   ]
  },
  {
   "cell_type": "code",
   "execution_count": 44,
   "metadata": {
    "slideshow": {
     "slide_type": "fragment"
    }
   },
   "outputs": [
    {
     "data": {
      "text/plain": [
       "0     2305.747371\n",
       "1    23970.330324\n",
       "2    91837.806530\n",
       "dtype: float64"
      ]
     },
     "execution_count": 44,
     "metadata": {},
     "output_type": "execute_result"
    }
   ],
   "source": [
    "def my_condensation(x: pd.DataFrame) -> pd.Series:\n",
    "    return x['sqrt'] + (x['square'] * x['loglin'])\n",
    "\n",
    "\n",
    "transformed_ints.apply(my_condensation, axis=1)"
   ]
  },
  {
   "cell_type": "code",
   "execution_count": 45,
   "metadata": {
    "slideshow": {
     "slide_type": "fragment"
    }
   },
   "outputs": [
    {
     "ename": "ValueError",
     "evalue": "Function did not transform",
     "output_type": "error",
     "traceback": [
      "\u001b[0;31m---------------------------------------------------------------------------\u001b[0m",
      "\u001b[0;31mValueError\u001b[0m                                Traceback (most recent call last)",
      "Cell \u001b[0;32mIn[45], line 1\u001b[0m\n\u001b[0;32m----> 1\u001b[0m transformed_ints\u001b[39m.\u001b[39;49mtransform(my_condensation, axis\u001b[39m=\u001b[39;49m\u001b[39m1\u001b[39;49m)\n",
      "File \u001b[0;32m~/.local/lib/python3.10/site-packages/pandas/core/frame.py:9267\u001b[0m, in \u001b[0;36mDataFrame.transform\u001b[0;34m(self, func, axis, *args, **kwargs)\u001b[0m\n\u001b[1;32m   9264\u001b[0m \u001b[39mfrom\u001b[39;00m \u001b[39mpandas\u001b[39;00m\u001b[39m.\u001b[39;00m\u001b[39mcore\u001b[39;00m\u001b[39m.\u001b[39;00m\u001b[39mapply\u001b[39;00m \u001b[39mimport\u001b[39;00m frame_apply\n\u001b[1;32m   9266\u001b[0m op \u001b[39m=\u001b[39m frame_apply(\u001b[39mself\u001b[39m, func\u001b[39m=\u001b[39mfunc, axis\u001b[39m=\u001b[39maxis, args\u001b[39m=\u001b[39margs, kwargs\u001b[39m=\u001b[39mkwargs)\n\u001b[0;32m-> 9267\u001b[0m result \u001b[39m=\u001b[39m op\u001b[39m.\u001b[39;49mtransform()\n\u001b[1;32m   9268\u001b[0m \u001b[39massert\u001b[39;00m \u001b[39misinstance\u001b[39m(result, DataFrame)\n\u001b[1;32m   9269\u001b[0m \u001b[39mreturn\u001b[39;00m result\n",
      "File \u001b[0;32m~/.local/lib/python3.10/site-packages/pandas/core/apply.py:201\u001b[0m, in \u001b[0;36mApply.transform\u001b[0;34m(self)\u001b[0m\n\u001b[1;32m    199\u001b[0m \u001b[39mif\u001b[39;00m obj\u001b[39m.\u001b[39m_get_axis_number(axis) \u001b[39m==\u001b[39m \u001b[39m1\u001b[39m:\n\u001b[1;32m    200\u001b[0m     \u001b[39massert\u001b[39;00m \u001b[39mnot\u001b[39;00m is_series\n\u001b[0;32m--> 201\u001b[0m     \u001b[39mreturn\u001b[39;00m obj\u001b[39m.\u001b[39;49mT\u001b[39m.\u001b[39;49mtransform(func, \u001b[39m0\u001b[39;49m, \u001b[39m*\u001b[39;49margs, \u001b[39m*\u001b[39;49m\u001b[39m*\u001b[39;49mkwargs)\u001b[39m.\u001b[39mT\n\u001b[1;32m    203\u001b[0m \u001b[39mif\u001b[39;00m is_list_like(func) \u001b[39mand\u001b[39;00m \u001b[39mnot\u001b[39;00m is_dict_like(func):\n\u001b[1;32m    204\u001b[0m     func \u001b[39m=\u001b[39m cast(List[AggFuncTypeBase], func)\n",
      "File \u001b[0;32m~/.local/lib/python3.10/site-packages/pandas/core/frame.py:9267\u001b[0m, in \u001b[0;36mDataFrame.transform\u001b[0;34m(self, func, axis, *args, **kwargs)\u001b[0m\n\u001b[1;32m   9264\u001b[0m \u001b[39mfrom\u001b[39;00m \u001b[39mpandas\u001b[39;00m\u001b[39m.\u001b[39;00m\u001b[39mcore\u001b[39;00m\u001b[39m.\u001b[39;00m\u001b[39mapply\u001b[39;00m \u001b[39mimport\u001b[39;00m frame_apply\n\u001b[1;32m   9266\u001b[0m op \u001b[39m=\u001b[39m frame_apply(\u001b[39mself\u001b[39m, func\u001b[39m=\u001b[39mfunc, axis\u001b[39m=\u001b[39maxis, args\u001b[39m=\u001b[39margs, kwargs\u001b[39m=\u001b[39mkwargs)\n\u001b[0;32m-> 9267\u001b[0m result \u001b[39m=\u001b[39m op\u001b[39m.\u001b[39;49mtransform()\n\u001b[1;32m   9268\u001b[0m \u001b[39massert\u001b[39;00m \u001b[39misinstance\u001b[39m(result, DataFrame)\n\u001b[1;32m   9269\u001b[0m \u001b[39mreturn\u001b[39;00m result\n",
      "File \u001b[0;32m~/.local/lib/python3.10/site-packages/pandas/core/apply.py:239\u001b[0m, in \u001b[0;36mApply.transform\u001b[0;34m(self)\u001b[0m\n\u001b[1;32m    232\u001b[0m \u001b[39m# error: Argument 1 to \"__get__\" of \"AxisProperty\" has incompatible type\u001b[39;00m\n\u001b[1;32m    233\u001b[0m \u001b[39m# \"Union[Series, DataFrame, GroupBy[Any], SeriesGroupBy,\u001b[39;00m\n\u001b[1;32m    234\u001b[0m \u001b[39m# DataFrameGroupBy, BaseWindow, Resampler]\"; expected \"Union[DataFrame,\u001b[39;00m\n\u001b[1;32m    235\u001b[0m \u001b[39m# Series]\"\u001b[39;00m\n\u001b[1;32m    236\u001b[0m \u001b[39mif\u001b[39;00m \u001b[39mnot\u001b[39;00m \u001b[39misinstance\u001b[39m(result, (ABCSeries, ABCDataFrame)) \u001b[39mor\u001b[39;00m \u001b[39mnot\u001b[39;00m result\u001b[39m.\u001b[39mindex\u001b[39m.\u001b[39mequals(\n\u001b[1;32m    237\u001b[0m     obj\u001b[39m.\u001b[39mindex  \u001b[39m# type:ignore[arg-type]\u001b[39;00m\n\u001b[1;32m    238\u001b[0m ):\n\u001b[0;32m--> 239\u001b[0m     \u001b[39mraise\u001b[39;00m \u001b[39mValueError\u001b[39;00m(\u001b[39m\"\u001b[39m\u001b[39mFunction did not transform\u001b[39m\u001b[39m\"\u001b[39m)\n\u001b[1;32m    241\u001b[0m \u001b[39mreturn\u001b[39;00m result\n",
      "\u001b[0;31mValueError\u001b[0m: Function did not transform"
     ]
    }
   ],
   "source": [
    "transformed_ints.transform(my_condensation, axis=1)"
   ]
  },
  {
   "attachments": {},
   "cell_type": "markdown",
   "metadata": {},
   "source": [
    "### 6.5 Tasks"
   ]
  },
  {
   "attachments": {},
   "cell_type": "markdown",
   "metadata": {
    "nbgrader": {
     "grade": false,
     "grade_id": "cell-3af84e907f2a9fcd",
     "locked": true,
     "schema_version": 3,
     "solution": false,
     "task": false
    }
   },
   "source": [
    "Betrachten Sie die `Series` namens `ints` mit einem manuell gesetzten Index und zufällig gewählten Werten."
   ]
  },
  {
   "cell_type": "code",
   "execution_count": 87,
   "metadata": {
    "nbgrader": {
     "grade": false,
     "grade_id": "cell-0fb4e2a974d8642d",
     "locked": true,
     "schema_version": 3,
     "solution": false,
     "task": false
    }
   },
   "outputs": [
    {
     "data": {
      "text/plain": [
       "0     5\n",
       "2     8\n",
       "4     9\n",
       "6     5\n",
       "8     0\n",
       "10    0\n",
       "12    1\n",
       "14    7\n",
       "16    6\n",
       "18    9\n",
       "dtype: int64"
      ]
     },
     "execution_count": 87,
     "metadata": {},
     "output_type": "execute_result"
    }
   ],
   "source": [
    "np.random.seed(1)\n",
    "ints = pd.Series(np.random.randint(0, 10, 10), index=range(0, 20, 2))\n",
    "ints"
   ]
  },
  {
   "attachments": {},
   "cell_type": "markdown",
   "metadata": {
    "nbgrader": {
     "grade": false,
     "grade_id": "cell-e917bd9014fb11ef",
     "locked": true,
     "schema_version": 3,
     "solution": false,
     "task": false
    }
   },
   "source": [
    "##### 1. `replace`, `map`, und `aggregate`\n",
    "- `replace`, `map`\n",
    "    - Was erhalten Sie mit `ints.replace(ints)`? Warum erhalten Sie viele ungerade Werte?\n",
    "    - Was erhalten Sie mit `ints.map(ints)`? Warum hat das Ergebnis fehlende Werte?\n",
    "- aggregate\n",
    "    - Schreiben Sie Funktionen `sum_odd` und `sum_even`, welche die ungeraden bzw. geraden Werte einer Series addiert. Nutzen Sie `Series.aggregate`, um sich eine neue Series mit der Summe der ungeraden Werte, der geraden Werte, und aller Werte zu erstellen."
   ]
  },
  {
   "cell_type": "code",
   "execution_count": 73,
   "metadata": {},
   "outputs": [
    {
     "data": {
      "text/plain": [
       "0     5\n",
       "2     0\n",
       "4     9\n",
       "6     5\n",
       "8     5\n",
       "10    5\n",
       "12    1\n",
       "14    7\n",
       "16    5\n",
       "18    9\n",
       "dtype: int64"
      ]
     },
     "execution_count": 73,
     "metadata": {},
     "output_type": "execute_result"
    }
   ],
   "source": [
    "ints.replace(ints)"
   ]
  },
  {
   "cell_type": "code",
   "execution_count": 74,
   "metadata": {},
   "outputs": [
    {
     "data": {
      "text/plain": [
       "0     NaN\n",
       "2     0.0\n",
       "4     NaN\n",
       "6     NaN\n",
       "8     5.0\n",
       "10    5.0\n",
       "12    NaN\n",
       "14    NaN\n",
       "16    5.0\n",
       "18    NaN\n",
       "dtype: float64"
      ]
     },
     "execution_count": 74,
     "metadata": {},
     "output_type": "execute_result"
    }
   ],
   "source": [
    "ints.map(ints)"
   ]
  },
  {
   "cell_type": "code",
   "execution_count": 89,
   "metadata": {},
   "outputs": [],
   "source": [
    "def sum_odd(x: pd.Series) -> int:\n",
    "    return x.loc[x % 2 == 1].sum()\n",
    "\n",
    "def sum_even(x: pd.Series) -> int:\n",
    "    return x.loc[x % 2 == 0].sum()"
   ]
  },
  {
   "cell_type": "code",
   "execution_count": 92,
   "metadata": {},
   "outputs": [
    {
     "data": {
      "text/plain": [
       "sum_odd     36\n",
       "sum_even    14\n",
       "sum         50\n",
       "dtype: int64"
      ]
     },
     "execution_count": 92,
     "metadata": {},
     "output_type": "execute_result"
    }
   ],
   "source": [
    "ints.agg([sum_odd, sum_even, 'sum'])"
   ]
  },
  {
   "attachments": {},
   "cell_type": "markdown",
   "metadata": {
    "nbgrader": {
     "grade": false,
     "grade_id": "cell-11a50bf80ec789ae",
     "locked": true,
     "schema_version": 3,
     "solution": false,
     "task": false
    }
   },
   "source": [
    "##### 2. `sort`, `apply`, und `transform`\n",
    "- `sort`\n",
    "    - Sortieren Sie die Werte. Wie unterscheiden sich `kind='heapsort'` und `kind='quicksort'`?\n",
    "- `apply`, `transform`\n",
    "  - Wenden Sie (mit `Series.apply`) die Funktionen `np.log`, `np.exp`, `'sqrt'`, und `'square'` auf die Werte an, sodass Sie einen `DataFrame` erhalten.\n",
    "  - Wenden Sie auf diesen `DataFrame` die Funktion `'sum'` so an, dass Sie eine Series mit dem gleichen Index, aber als Werte die Summe aller Spalten erhalten.\n",
    "  - wie können Sie mit `Series.transform` das gleiche Endergebnis erhalten?"
   ]
  },
  {
   "cell_type": "code",
   "execution_count": 77,
   "metadata": {},
   "outputs": [
    {
     "data": {
      "text/plain": [
       "10    0\n",
       "8     0\n",
       "12    1\n",
       "0     5\n",
       "6     5\n",
       "16    6\n",
       "14    7\n",
       "2     8\n",
       "4     9\n",
       "18    9\n",
       "dtype: int64"
      ]
     },
     "execution_count": 77,
     "metadata": {},
     "output_type": "execute_result"
    }
   ],
   "source": [
    "ints.sort_values(kind='heapsort')"
   ]
  },
  {
   "cell_type": "code",
   "execution_count": 78,
   "metadata": {},
   "outputs": [
    {
     "data": {
      "text/plain": [
       "8     0\n",
       "10    0\n",
       "12    1\n",
       "0     5\n",
       "6     5\n",
       "16    6\n",
       "14    7\n",
       "2     8\n",
       "4     9\n",
       "18    9\n",
       "dtype: int64"
      ]
     },
     "execution_count": 78,
     "metadata": {},
     "output_type": "execute_result"
    }
   ],
   "source": [
    "ints.sort_values(kind='quicksort')"
   ]
  },
  {
   "cell_type": "code",
   "execution_count": 79,
   "metadata": {},
   "outputs": [
    {
     "data": {
      "text/html": [
       "<div>\n",
       "<style scoped>\n",
       "    .dataframe tbody tr th:only-of-type {\n",
       "        vertical-align: middle;\n",
       "    }\n",
       "\n",
       "    .dataframe tbody tr th {\n",
       "        vertical-align: top;\n",
       "    }\n",
       "\n",
       "    .dataframe thead th {\n",
       "        text-align: right;\n",
       "    }\n",
       "</style>\n",
       "<table border=\"1\" class=\"dataframe\">\n",
       "  <thead>\n",
       "    <tr style=\"text-align: right;\">\n",
       "      <th></th>\n",
       "      <th>log</th>\n",
       "      <th>exp</th>\n",
       "      <th>sqrt</th>\n",
       "      <th>square</th>\n",
       "    </tr>\n",
       "  </thead>\n",
       "  <tbody>\n",
       "    <tr>\n",
       "      <th>0</th>\n",
       "      <td>1.609438</td>\n",
       "      <td>148.413159</td>\n",
       "      <td>2.236068</td>\n",
       "      <td>25</td>\n",
       "    </tr>\n",
       "    <tr>\n",
       "      <th>2</th>\n",
       "      <td>2.079442</td>\n",
       "      <td>2980.957987</td>\n",
       "      <td>2.828427</td>\n",
       "      <td>64</td>\n",
       "    </tr>\n",
       "    <tr>\n",
       "      <th>4</th>\n",
       "      <td>2.197225</td>\n",
       "      <td>8103.083928</td>\n",
       "      <td>3.000000</td>\n",
       "      <td>81</td>\n",
       "    </tr>\n",
       "    <tr>\n",
       "      <th>6</th>\n",
       "      <td>1.609438</td>\n",
       "      <td>148.413159</td>\n",
       "      <td>2.236068</td>\n",
       "      <td>25</td>\n",
       "    </tr>\n",
       "    <tr>\n",
       "      <th>8</th>\n",
       "      <td>-inf</td>\n",
       "      <td>1.000000</td>\n",
       "      <td>0.000000</td>\n",
       "      <td>0</td>\n",
       "    </tr>\n",
       "    <tr>\n",
       "      <th>10</th>\n",
       "      <td>-inf</td>\n",
       "      <td>1.000000</td>\n",
       "      <td>0.000000</td>\n",
       "      <td>0</td>\n",
       "    </tr>\n",
       "    <tr>\n",
       "      <th>12</th>\n",
       "      <td>0.000000</td>\n",
       "      <td>2.718282</td>\n",
       "      <td>1.000000</td>\n",
       "      <td>1</td>\n",
       "    </tr>\n",
       "    <tr>\n",
       "      <th>14</th>\n",
       "      <td>1.945910</td>\n",
       "      <td>1096.633158</td>\n",
       "      <td>2.645751</td>\n",
       "      <td>49</td>\n",
       "    </tr>\n",
       "    <tr>\n",
       "      <th>16</th>\n",
       "      <td>1.791759</td>\n",
       "      <td>403.428793</td>\n",
       "      <td>2.449490</td>\n",
       "      <td>36</td>\n",
       "    </tr>\n",
       "    <tr>\n",
       "      <th>18</th>\n",
       "      <td>2.197225</td>\n",
       "      <td>8103.083928</td>\n",
       "      <td>3.000000</td>\n",
       "      <td>81</td>\n",
       "    </tr>\n",
       "  </tbody>\n",
       "</table>\n",
       "</div>"
      ],
      "text/plain": [
       "         log          exp      sqrt  square\n",
       "0   1.609438   148.413159  2.236068      25\n",
       "2   2.079442  2980.957987  2.828427      64\n",
       "4   2.197225  8103.083928  3.000000      81\n",
       "6   1.609438   148.413159  2.236068      25\n",
       "8       -inf     1.000000  0.000000       0\n",
       "10      -inf     1.000000  0.000000       0\n",
       "12  0.000000     2.718282  1.000000       1\n",
       "14  1.945910  1096.633158  2.645751      49\n",
       "16  1.791759   403.428793  2.449490      36\n",
       "18  2.197225  8103.083928  3.000000      81"
      ]
     },
     "execution_count": 79,
     "metadata": {},
     "output_type": "execute_result"
    }
   ],
   "source": [
    "ints.apply([np.log, np.exp, 'sqrt', 'square'])"
   ]
  },
  {
   "cell_type": "code",
   "execution_count": 94,
   "metadata": {},
   "outputs": [
    {
     "data": {
      "text/plain": [
       "0      177.258665\n",
       "2     3049.865856\n",
       "4     8189.281152\n",
       "6      177.258665\n",
       "8            -inf\n",
       "10           -inf\n",
       "12       4.718282\n",
       "14    1150.224820\n",
       "16     443.670043\n",
       "18    8189.281152\n",
       "dtype: float64"
      ]
     },
     "execution_count": 94,
     "metadata": {},
     "output_type": "execute_result"
    }
   ],
   "source": [
    "ints.apply([np.log, np.exp, 'sqrt', 'square']).apply('sum', axis=1)"
   ]
  },
  {
   "cell_type": "code",
   "execution_count": 96,
   "metadata": {},
   "outputs": [
    {
     "data": {
      "text/plain": [
       "0      177.258665\n",
       "2     3049.865856\n",
       "4     8189.281152\n",
       "6      177.258665\n",
       "8            -inf\n",
       "10           -inf\n",
       "12       4.718282\n",
       "14    1150.224820\n",
       "16     443.670043\n",
       "18    8189.281152\n",
       "dtype: float64"
      ]
     },
     "execution_count": 96,
     "metadata": {},
     "output_type": "execute_result"
    }
   ],
   "source": [
    "ints.transform([np.log, np.exp, 'sqrt', 'square']).sum(axis=1)"
   ]
  },
  {
   "attachments": {},
   "cell_type": "markdown",
   "metadata": {
    "slideshow": {
     "slide_type": "slide"
    }
   },
   "source": [
    "## 7 Conclusion: Pandas Series\n",
    "- `Series` are a powerful class for one-dimensional data\n",
    "    - numpy arrays with generalized indexing capabilities\n",
    "    - a plenitude of methods are available\n",
    "        * easily construct, plot, and transform data\n",
    "        * do simple statistics and deal with missing values\n",
    "        * much more than shown here — read the [docs](https://pandas.pydata.org/pandas-docs/stable/reference/series.html)\n",
    "\n",
    "\n",
    "- `Series` cannot deal well with multi-dimensional data\n",
    "    - scatterplots are a pain\n",
    "    - we need to (ab-)use the index\n",
    "    - we cannot hold all our data (e.g. measurements) in one object\n",
    "\n",
    "\n",
    "- up one level: `DataFrame`s!"
   ]
  }
 ],
 "metadata": {
  "celltoolbar": "Slideshow",
  "file_extension": ".py",
  "kernelspec": {
   "display_name": "Python 3 (ipykernel)",
   "language": "python",
   "name": "python3"
  },
  "language_info": {
   "codemirror_mode": {
    "name": "ipython",
    "version": 3
   },
   "file_extension": ".py",
   "mimetype": "text/x-python",
   "name": "python",
   "nbconvert_exporter": "python",
   "pygments_lexer": "ipython3",
   "version": "3.10.10"
  },
  "mimetype": "text/x-python",
  "name": "python",
  "npconvert_exporter": "python",
  "pygments_lexer": "ipython3",
  "version": 3
 },
 "nbformat": 4,
 "nbformat_minor": 2
}
