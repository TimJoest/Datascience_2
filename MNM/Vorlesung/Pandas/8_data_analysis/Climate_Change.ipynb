{
 "cells": [
  {
   "cell_type": "code",
   "execution_count": 3,
   "id": "a0772190-c2d9-4667-bf93-5a48804f0e6d",
   "metadata": {
    "deletable": false,
    "editable": false,
    "nbgrader": {
     "cell_type": "code",
     "checksum": "83c46e981ea065da52e26cb4a2355070",
     "grade": false,
     "grade_id": "cell-72fb182750dfaf09",
     "locked": true,
     "schema_version": 3,
     "solution": false,
     "task": false
    },
    "tags": []
   },
   "outputs": [],
   "source": [
    "import numpy as np\n",
    "import pandas as pd\n",
    "import scipy\n",
    "\n",
    "import matplotlib as mpl\n",
    "import matplotlib.pyplot as plt\n",
    "\n",
    "import io\n",
    "import requests\n",
    "from zipfile import ZipFile\n",
    "from pathlib import Path\n",
    "import calendar"
   ]
  },
  {
   "attachments": {},
   "cell_type": "markdown",
   "id": "0d0cdc87",
   "metadata": {
    "deletable": false,
    "editable": false,
    "nbgrader": {
     "cell_type": "markdown",
     "checksum": "e41aed41415a571a94d5d4712146b374",
     "grade": false,
     "grade_id": "cell-59293ef4567b20b7",
     "locked": true,
     "schema_version": 3,
     "solution": false,
     "task": false
    },
    "tags": []
   },
   "source": [
    "# Local Effects of Climate Change"
   ]
  },
  {
   "attachments": {},
   "cell_type": "markdown",
   "id": "3735deac-e147-4131-af03-6a36388cba1e",
   "metadata": {
    "deletable": false,
    "editable": false,
    "nbgrader": {
     "cell_type": "markdown",
     "checksum": "f55f77e0c41694dc1bc5beefed14294e",
     "grade": false,
     "grade_id": "cell-48cdf341e7002226",
     "locked": true,
     "schema_version": 3,
     "solution": false,
     "task": false
    },
    "tags": []
   },
   "source": [
    "## Question"
   ]
  },
  {
   "attachments": {},
   "cell_type": "markdown",
   "id": "767b8093-d149-4a18-b5a4-3be9a9c863cf",
   "metadata": {
    "deletable": false,
    "editable": false,
    "nbgrader": {
     "cell_type": "markdown",
     "checksum": "05a7c1b9968799890a09c7df9e37f15a",
     "grade": false,
     "grade_id": "cell-790d7aa559a61d4f",
     "locked": true,
     "schema_version": 3,
     "solution": false,
     "task": false
    },
    "tags": []
   },
   "source": [
    "> How did the local climate in Gießen change over the past 70 years?"
   ]
  },
  {
   "attachments": {},
   "cell_type": "markdown",
   "id": "3d54455d-da79-4ca3-991e-9fe948923960",
   "metadata": {
    "deletable": false,
    "editable": false,
    "nbgrader": {
     "cell_type": "markdown",
     "checksum": "2460b11231035c87825c298cb931e09a",
     "grade": false,
     "grade_id": "cell-9f56b0405c3c0d38",
     "locked": true,
     "schema_version": 3,
     "solution": false,
     "task": false
    },
    "tags": []
   },
   "source": [
    "## Data sources"
   ]
  },
  {
   "attachments": {},
   "cell_type": "markdown",
   "id": "9699ce5b-d57c-4232-857e-b32ead099d52",
   "metadata": {
    "deletable": false,
    "editable": false,
    "nbgrader": {
     "cell_type": "markdown",
     "checksum": "5d1c40d75434cfc6c44447ec6710c2b1",
     "grade": false,
     "grade_id": "cell-3849f65f4ab8dca5",
     "locked": true,
     "schema_version": 3,
     "solution": false,
     "task": false
    },
    "tags": []
   },
   "source": [
    "We need data for temperature, (relative) humidity, and precipitation collected near Gießen. Such data has been collected by Deutscher Wetterdienst (DWD) and is publically available via their open-data portal at https://opendata.dwd.de."
   ]
  },
  {
   "attachments": {},
   "cell_type": "markdown",
   "id": "90270da3-3c72-480b-aab1-89bef6ae1bce",
   "metadata": {
    "deletable": false,
    "editable": false,
    "nbgrader": {
     "cell_type": "markdown",
     "checksum": "cc02ab749fbbbe6c894df06d48579aef",
     "grade": false,
     "grade_id": "cell-f333616336182d92",
     "locked": true,
     "schema_version": 3,
     "solution": false,
     "task": false
    },
    "tags": []
   },
   "source": [
    "### Downloading the data"
   ]
  },
  {
   "attachments": {},
   "cell_type": "markdown",
   "id": "dd66ca39-c4ca-48f6-bc8b-bf32048194b6",
   "metadata": {
    "deletable": false,
    "editable": false,
    "nbgrader": {
     "cell_type": "markdown",
     "checksum": "89efadd7ea3dcd994365679915bc5bdd",
     "grade": false,
     "grade_id": "cell-f333616336182d91",
     "locked": true,
     "schema_version": 3,
     "solution": false,
     "task": false
    },
    "tags": []
   },
   "source": [
    "The function below will download are tarball containing the measurements as well as some metadata from a given URL. The tarball is extracted and placed in a specified directory."
   ]
  },
  {
   "cell_type": "code",
   "execution_count": 17,
   "id": "7a899204-e1bb-40bc-9bc9-14f001695416",
   "metadata": {
    "deletable": false,
    "editable": false,
    "nbgrader": {
     "cell_type": "code",
     "checksum": "52286aaaf9d2158b119546d99587a1b5",
     "grade": false,
     "grade_id": "cell-e44adb8e3e494c2e",
     "locked": true,
     "schema_version": 3,
     "solution": false,
     "task": false
    },
    "tags": []
   },
   "outputs": [],
   "source": [
    "def download_and_extract(\n",
    "    url: str, \n",
    "    output_path: Path = Path('tmp/dwd')\n",
    ") -> None:\n",
    "    \"\"\"download DWD climate data from url and extract.\"\"\"\n",
    "    output_path.mkdir(exist_ok=True, parents=True)\n",
    "\n",
    "    (ZipFile(io.BytesIO(requests.get(url).content))\n",
    "     .extractall(path=output_path)\n",
    "    )"
   ]
  },
  {
   "cell_type": "code",
   "execution_count": 18,
   "id": "60f83aa0-070a-4bab-8a54-0e619f5d952a",
   "metadata": {
    "deletable": false,
    "editable": false,
    "nbgrader": {
     "cell_type": "code",
     "checksum": "f046e1d54e8cf1b48071b2e5c76471b1",
     "grade": false,
     "grade_id": "cell-4644193098d62b8f",
     "locked": true,
     "schema_version": 3,
     "solution": false,
     "task": false
    },
    "tags": []
   },
   "outputs": [],
   "source": [
    "TMP_DIRECTORY = Path(\"_dwd\")\n",
    "DWD_data = 'https://opendata.dwd.de/climate_environment/CDC/observations_germany/climate/hourly/'\n",
    "temperature_humidity = 'air_temperature/historical/stundenwerte_TU_01639_19500101_20221231_hist.zip'\n",
    "precipitation = 'precipitation/historical/stundenwerte_RR_01639_19970320_20221231_hist.zip'\n",
    "\n",
    "download_and_extract(url=DWD_data + temperature_humidity, output_path=TMP_DIRECTORY / \"temperature_and_humidity\")\n",
    "download_and_extract(url=DWD_data + precipitation, output_path=TMP_DIRECTORY / \"precipitation\")"
   ]
  },
  {
   "attachments": {},
   "cell_type": "markdown",
   "id": "5155ef00-1497-4924-8681-c1b2ad8e90b9",
   "metadata": {
    "deletable": false,
    "editable": false,
    "nbgrader": {
     "cell_type": "markdown",
     "checksum": "c8ad29d955ccc29b18fbcb9c44f5952d",
     "grade": false,
     "grade_id": "cell-09df117837e5c1e8",
     "locked": true,
     "schema_version": 3,
     "solution": false,
     "task": false
    },
    "tags": []
   },
   "source": [
    "## Metadata"
   ]
  },
  {
   "attachments": {},
   "cell_type": "markdown",
   "id": "ba2b619f-9efb-4b25-80f7-4a929a787845",
   "metadata": {
    "deletable": false,
    "editable": false,
    "nbgrader": {
     "cell_type": "markdown",
     "checksum": "7df1631668f875bf8efde94ab852f0c3",
     "grade": false,
     "grade_id": "cell-f6e7dd3e61572f6d",
     "locked": true,
     "schema_version": 3,
     "solution": false,
     "task": false
    },
    "tags": []
   },
   "source": [
    "The downloaded datasets include specific *metadata files*. These contain the units, encodings, and meaning of the columns."
   ]
  },
  {
   "attachments": {},
   "cell_type": "markdown",
   "id": "d1588b3d-19a2-4d21-afcd-33903b4a9e4f",
   "metadata": {
    "deletable": false,
    "editable": false,
    "nbgrader": {
     "cell_type": "markdown",
     "checksum": "c36d082e0433d534d188084df3f329e5",
     "grade": false,
     "grade_id": "cell-a031719d82d356b3",
     "locked": true,
     "schema_version": 3,
     "solution": false,
     "task": false
    },
    "tags": []
   },
   "source": [
    "`(A)` For dates and measurement values, find out in which format they are available, and consider how you might convert them to usable and correct values for analysis with `pandas`."
   ]
  },
  {
   "attachments": {},
   "cell_type": "markdown",
   "id": "60f65869-00ae-44c4-9db7-b4b41c732223",
   "metadata": {
    "deletable": false,
    "nbgrader": {
     "cell_type": "markdown",
     "checksum": "5b42d5658499488ca4de1989758f99ce",
     "grade": true,
     "grade_id": "cell-09f8ef1fa8f50fc7",
     "locked": false,
     "points": 0,
     "schema_version": 3,
     "solution": true,
     "task": false
    },
    "tags": []
   },
   "source": [
    "* `txt`-Datei `produt_stunde_...`\n",
    "    * Daten in einem csv.artigen Format\n",
    "    * Trennzeichen \";\"\n",
    "* Zeitangeben ändert sich in 1996\n",
    "    * ab 1996-10-01: UTC\n",
    "    * davor: in MEZ = UTC+1\n",
    "* Zeiten \"encodet\" als JahrMonatTagStunde\n",
    "    * pandas wird das als `int64` importieren\n",
    "    * wir müssen das konvertieren \n",
    "* Größen in physikalischen Einheiten:\n",
    "    * Niederschlagsmenge als mm\n",
    "    * Temperatur in ${}^\\circ\\textrm{C}$\n",
    "    * Luftfeuchtigkeit in %\n",
    "    * andere als Codes"
   ]
  },
  {
   "attachments": {},
   "cell_type": "markdown",
   "id": "75e05f24-ab7a-4412-8638-6bb343a0fa60",
   "metadata": {
    "deletable": false,
    "editable": false,
    "nbgrader": {
     "cell_type": "markdown",
     "checksum": "9d4336a4e9cc99a0d2b5cf262c2c23dd",
     "grade": false,
     "grade_id": "cell-b07593ab06b9b320",
     "locked": true,
     "schema_version": 3,
     "solution": false,
     "task": false
    },
    "tags": []
   },
   "source": [
    "## Data Import and Cleaning"
   ]
  },
  {
   "attachments": {},
   "cell_type": "markdown",
   "id": "d9a03106-9b5f-450b-998e-7bbf34584477",
   "metadata": {
    "deletable": false,
    "editable": false,
    "nbgrader": {
     "cell_type": "markdown",
     "checksum": "15307d286bc0f65fa772ee410efd480a",
     "grade": false,
     "grade_id": "cell-ddd40ad2f7166ff4",
     "locked": true,
     "schema_version": 3,
     "solution": false,
     "task": false
    },
    "tags": []
   },
   "source": [
    "### `(R)` Importing"
   ]
  },
  {
   "attachments": {},
   "cell_type": "markdown",
   "id": "17099007-2ce7-4793-b535-72e7f7217756",
   "metadata": {
    "deletable": false,
    "editable": false,
    "nbgrader": {
     "cell_type": "markdown",
     "checksum": "36968b55403d8b560a5630d96774c292",
     "grade": false,
     "grade_id": "cell-ddd40ad2f7166ff9",
     "locked": true,
     "schema_version": 3,
     "solution": false,
     "task": false
    },
    "tags": []
   },
   "source": [
    "Import the temperature and humidity data into a DataFrame `df_th`, and the precipitation data into a DataFrame `df_p`. Consider which columns you want to keep."
   ]
  },
  {
   "cell_type": "code",
   "execution_count": 21,
   "id": "af2a708e-bd32-4daa-ad34-43a79d7a088a",
   "metadata": {
    "deletable": false,
    "nbgrader": {
     "cell_type": "code",
     "checksum": "8078797e20bf7d23a4e39b0f4de602b3",
     "grade": true,
     "grade_id": "cell-83d5c575feb8426c",
     "locked": false,
     "points": 0,
     "schema_version": 3,
     "solution": true,
     "task": false
    },
    "tags": []
   },
   "outputs": [
    {
     "ename": "FileNotFoundError",
     "evalue": "[Errno 2] No such file or directory: '_dwd/temperature_and_humidity/produkt_tu_stunde_19500101_20201231_01639.txt'",
     "output_type": "error",
     "traceback": [
      "\u001b[0;31m---------------------------------------------------------------------------\u001b[0m",
      "\u001b[0;31mFileNotFoundError\u001b[0m                         Traceback (most recent call last)",
      "Cell \u001b[0;32mIn[21], line 1\u001b[0m\n\u001b[0;32m----> 1\u001b[0m df_th \u001b[39m=\u001b[39m pd\u001b[39m.\u001b[39;49mread_csv(TMP_DIRECTORY \u001b[39m/\u001b[39;49m \u001b[39m\"\u001b[39;49m\u001b[39mtemperature_and_humidity\u001b[39;49m\u001b[39m\"\u001b[39;49m \u001b[39m/\u001b[39;49m \u001b[39m\"\u001b[39;49m\u001b[39mprodukt_tu_stunde_19500101_20201231_01639.txt\u001b[39;49m\u001b[39m\"\u001b[39;49m, sep\u001b[39m=\u001b[39;49m\u001b[39m\"\u001b[39;49m\u001b[39m;\u001b[39;49m\u001b[39m\"\u001b[39;49m, encoding\u001b[39m=\u001b[39;49m\u001b[39m\"\u001b[39;49m\u001b[39mlatin1\u001b[39;49m\u001b[39m\"\u001b[39;49m, na_values\u001b[39m=\u001b[39;49m\u001b[39m-\u001b[39;49m\u001b[39m999\u001b[39;49m, usecols\u001b[39m=\u001b[39;49m[\u001b[39m\"\u001b[39;49m\u001b[39mMESS_DATUM\u001b[39;49m\u001b[39m\"\u001b[39;49m, \u001b[39m\"\u001b[39;49m\u001b[39mTT_TU\u001b[39;49m\u001b[39m\"\u001b[39;49m, \u001b[39m\"\u001b[39;49m\u001b[39mRF_TU\u001b[39;49m\u001b[39m\"\u001b[39;49m])\n\u001b[1;32m      2\u001b[0m df_th\n",
      "File \u001b[0;32m~/.local/lib/python3.10/site-packages/pandas/io/parsers/readers.py:912\u001b[0m, in \u001b[0;36mread_csv\u001b[0;34m(filepath_or_buffer, sep, delimiter, header, names, index_col, usecols, dtype, engine, converters, true_values, false_values, skipinitialspace, skiprows, skipfooter, nrows, na_values, keep_default_na, na_filter, verbose, skip_blank_lines, parse_dates, infer_datetime_format, keep_date_col, date_parser, date_format, dayfirst, cache_dates, iterator, chunksize, compression, thousands, decimal, lineterminator, quotechar, quoting, doublequote, escapechar, comment, encoding, encoding_errors, dialect, on_bad_lines, delim_whitespace, low_memory, memory_map, float_precision, storage_options, dtype_backend)\u001b[0m\n\u001b[1;32m    899\u001b[0m kwds_defaults \u001b[39m=\u001b[39m _refine_defaults_read(\n\u001b[1;32m    900\u001b[0m     dialect,\n\u001b[1;32m    901\u001b[0m     delimiter,\n\u001b[0;32m   (...)\u001b[0m\n\u001b[1;32m    908\u001b[0m     dtype_backend\u001b[39m=\u001b[39mdtype_backend,\n\u001b[1;32m    909\u001b[0m )\n\u001b[1;32m    910\u001b[0m kwds\u001b[39m.\u001b[39mupdate(kwds_defaults)\n\u001b[0;32m--> 912\u001b[0m \u001b[39mreturn\u001b[39;00m _read(filepath_or_buffer, kwds)\n",
      "File \u001b[0;32m~/.local/lib/python3.10/site-packages/pandas/io/parsers/readers.py:577\u001b[0m, in \u001b[0;36m_read\u001b[0;34m(filepath_or_buffer, kwds)\u001b[0m\n\u001b[1;32m    574\u001b[0m _validate_names(kwds\u001b[39m.\u001b[39mget(\u001b[39m\"\u001b[39m\u001b[39mnames\u001b[39m\u001b[39m\"\u001b[39m, \u001b[39mNone\u001b[39;00m))\n\u001b[1;32m    576\u001b[0m \u001b[39m# Create the parser.\u001b[39;00m\n\u001b[0;32m--> 577\u001b[0m parser \u001b[39m=\u001b[39m TextFileReader(filepath_or_buffer, \u001b[39m*\u001b[39;49m\u001b[39m*\u001b[39;49mkwds)\n\u001b[1;32m    579\u001b[0m \u001b[39mif\u001b[39;00m chunksize \u001b[39mor\u001b[39;00m iterator:\n\u001b[1;32m    580\u001b[0m     \u001b[39mreturn\u001b[39;00m parser\n",
      "File \u001b[0;32m~/.local/lib/python3.10/site-packages/pandas/io/parsers/readers.py:1407\u001b[0m, in \u001b[0;36mTextFileReader.__init__\u001b[0;34m(self, f, engine, **kwds)\u001b[0m\n\u001b[1;32m   1404\u001b[0m     \u001b[39mself\u001b[39m\u001b[39m.\u001b[39moptions[\u001b[39m\"\u001b[39m\u001b[39mhas_index_names\u001b[39m\u001b[39m\"\u001b[39m] \u001b[39m=\u001b[39m kwds[\u001b[39m\"\u001b[39m\u001b[39mhas_index_names\u001b[39m\u001b[39m\"\u001b[39m]\n\u001b[1;32m   1406\u001b[0m \u001b[39mself\u001b[39m\u001b[39m.\u001b[39mhandles: IOHandles \u001b[39m|\u001b[39m \u001b[39mNone\u001b[39;00m \u001b[39m=\u001b[39m \u001b[39mNone\u001b[39;00m\n\u001b[0;32m-> 1407\u001b[0m \u001b[39mself\u001b[39m\u001b[39m.\u001b[39m_engine \u001b[39m=\u001b[39m \u001b[39mself\u001b[39;49m\u001b[39m.\u001b[39;49m_make_engine(f, \u001b[39mself\u001b[39;49m\u001b[39m.\u001b[39;49mengine)\n",
      "File \u001b[0;32m~/.local/lib/python3.10/site-packages/pandas/io/parsers/readers.py:1661\u001b[0m, in \u001b[0;36mTextFileReader._make_engine\u001b[0;34m(self, f, engine)\u001b[0m\n\u001b[1;32m   1659\u001b[0m     \u001b[39mif\u001b[39;00m \u001b[39m\"\u001b[39m\u001b[39mb\u001b[39m\u001b[39m\"\u001b[39m \u001b[39mnot\u001b[39;00m \u001b[39min\u001b[39;00m mode:\n\u001b[1;32m   1660\u001b[0m         mode \u001b[39m+\u001b[39m\u001b[39m=\u001b[39m \u001b[39m\"\u001b[39m\u001b[39mb\u001b[39m\u001b[39m\"\u001b[39m\n\u001b[0;32m-> 1661\u001b[0m \u001b[39mself\u001b[39m\u001b[39m.\u001b[39mhandles \u001b[39m=\u001b[39m get_handle(\n\u001b[1;32m   1662\u001b[0m     f,\n\u001b[1;32m   1663\u001b[0m     mode,\n\u001b[1;32m   1664\u001b[0m     encoding\u001b[39m=\u001b[39;49m\u001b[39mself\u001b[39;49m\u001b[39m.\u001b[39;49moptions\u001b[39m.\u001b[39;49mget(\u001b[39m\"\u001b[39;49m\u001b[39mencoding\u001b[39;49m\u001b[39m\"\u001b[39;49m, \u001b[39mNone\u001b[39;49;00m),\n\u001b[1;32m   1665\u001b[0m     compression\u001b[39m=\u001b[39;49m\u001b[39mself\u001b[39;49m\u001b[39m.\u001b[39;49moptions\u001b[39m.\u001b[39;49mget(\u001b[39m\"\u001b[39;49m\u001b[39mcompression\u001b[39;49m\u001b[39m\"\u001b[39;49m, \u001b[39mNone\u001b[39;49;00m),\n\u001b[1;32m   1666\u001b[0m     memory_map\u001b[39m=\u001b[39;49m\u001b[39mself\u001b[39;49m\u001b[39m.\u001b[39;49moptions\u001b[39m.\u001b[39;49mget(\u001b[39m\"\u001b[39;49m\u001b[39mmemory_map\u001b[39;49m\u001b[39m\"\u001b[39;49m, \u001b[39mFalse\u001b[39;49;00m),\n\u001b[1;32m   1667\u001b[0m     is_text\u001b[39m=\u001b[39;49mis_text,\n\u001b[1;32m   1668\u001b[0m     errors\u001b[39m=\u001b[39;49m\u001b[39mself\u001b[39;49m\u001b[39m.\u001b[39;49moptions\u001b[39m.\u001b[39;49mget(\u001b[39m\"\u001b[39;49m\u001b[39mencoding_errors\u001b[39;49m\u001b[39m\"\u001b[39;49m, \u001b[39m\"\u001b[39;49m\u001b[39mstrict\u001b[39;49m\u001b[39m\"\u001b[39;49m),\n\u001b[1;32m   1669\u001b[0m     storage_options\u001b[39m=\u001b[39;49m\u001b[39mself\u001b[39;49m\u001b[39m.\u001b[39;49moptions\u001b[39m.\u001b[39;49mget(\u001b[39m\"\u001b[39;49m\u001b[39mstorage_options\u001b[39;49m\u001b[39m\"\u001b[39;49m, \u001b[39mNone\u001b[39;49;00m),\n\u001b[1;32m   1670\u001b[0m )\n\u001b[1;32m   1671\u001b[0m \u001b[39massert\u001b[39;00m \u001b[39mself\u001b[39m\u001b[39m.\u001b[39mhandles \u001b[39mis\u001b[39;00m \u001b[39mnot\u001b[39;00m \u001b[39mNone\u001b[39;00m\n\u001b[1;32m   1672\u001b[0m f \u001b[39m=\u001b[39m \u001b[39mself\u001b[39m\u001b[39m.\u001b[39mhandles\u001b[39m.\u001b[39mhandle\n",
      "File \u001b[0;32m~/.local/lib/python3.10/site-packages/pandas/io/common.py:859\u001b[0m, in \u001b[0;36mget_handle\u001b[0;34m(path_or_buf, mode, encoding, compression, memory_map, is_text, errors, storage_options)\u001b[0m\n\u001b[1;32m    854\u001b[0m \u001b[39melif\u001b[39;00m \u001b[39misinstance\u001b[39m(handle, \u001b[39mstr\u001b[39m):\n\u001b[1;32m    855\u001b[0m     \u001b[39m# Check whether the filename is to be opened in binary mode.\u001b[39;00m\n\u001b[1;32m    856\u001b[0m     \u001b[39m# Binary mode does not support 'encoding' and 'newline'.\u001b[39;00m\n\u001b[1;32m    857\u001b[0m     \u001b[39mif\u001b[39;00m ioargs\u001b[39m.\u001b[39mencoding \u001b[39mand\u001b[39;00m \u001b[39m\"\u001b[39m\u001b[39mb\u001b[39m\u001b[39m\"\u001b[39m \u001b[39mnot\u001b[39;00m \u001b[39min\u001b[39;00m ioargs\u001b[39m.\u001b[39mmode:\n\u001b[1;32m    858\u001b[0m         \u001b[39m# Encoding\u001b[39;00m\n\u001b[0;32m--> 859\u001b[0m         handle \u001b[39m=\u001b[39m \u001b[39mopen\u001b[39;49m(\n\u001b[1;32m    860\u001b[0m             handle,\n\u001b[1;32m    861\u001b[0m             ioargs\u001b[39m.\u001b[39;49mmode,\n\u001b[1;32m    862\u001b[0m             encoding\u001b[39m=\u001b[39;49mioargs\u001b[39m.\u001b[39;49mencoding,\n\u001b[1;32m    863\u001b[0m             errors\u001b[39m=\u001b[39;49merrors,\n\u001b[1;32m    864\u001b[0m             newline\u001b[39m=\u001b[39;49m\u001b[39m\"\u001b[39;49m\u001b[39m\"\u001b[39;49m,\n\u001b[1;32m    865\u001b[0m         )\n\u001b[1;32m    866\u001b[0m     \u001b[39melse\u001b[39;00m:\n\u001b[1;32m    867\u001b[0m         \u001b[39m# Binary mode\u001b[39;00m\n\u001b[1;32m    868\u001b[0m         handle \u001b[39m=\u001b[39m \u001b[39mopen\u001b[39m(handle, ioargs\u001b[39m.\u001b[39mmode)\n",
      "\u001b[0;31mFileNotFoundError\u001b[0m: [Errno 2] No such file or directory: '_dwd/temperature_and_humidity/produkt_tu_stunde_19500101_20201231_01639.txt'"
     ]
    }
   ],
   "source": [
    "df_th = pd.read_csv(TMP_DIRECTORY / \"temperature_and_humidity\" / \"produkt_tu_stunde_19500101_20201231_01639.txt\", sep=\";\", encoding=\"latin1\", na_values=-999, usecols=[\"MESS_DATUM\", \"TT_TU\", \"RF_TU\"])\n",
    "df_th"
   ]
  },
  {
   "cell_type": "code",
   "execution_count": 7,
   "id": "ffdd105b-0aaf-4e76-8ca9-92a0ed8cf5da",
   "metadata": {
    "deletable": false,
    "nbgrader": {
     "cell_type": "code",
     "checksum": "afa75351ac07d718d68755a1e44d4afb",
     "grade": true,
     "grade_id": "cell-83d5c575feb8426d",
     "locked": false,
     "points": 0,
     "schema_version": 3,
     "solution": true,
     "task": false
    },
    "tags": []
   },
   "outputs": [
    {
     "data": {
      "text/plain": [
       "Ellipsis"
      ]
     },
     "execution_count": 7,
     "metadata": {},
     "output_type": "execute_result"
    }
   ],
   "source": [
    "..."
   ]
  },
  {
   "attachments": {},
   "cell_type": "markdown",
   "id": "5a0390a4-ce9c-411c-966d-8d4fad49a6f8",
   "metadata": {
    "deletable": false,
    "editable": false,
    "nbgrader": {
     "cell_type": "markdown",
     "checksum": "ac3fd9fb853a94ff4125ea518150738d",
     "grade": false,
     "grade_id": "cell-887b57504c77c6ed",
     "locked": true,
     "schema_version": 3,
     "solution": false,
     "task": false
    },
    "tags": []
   },
   "source": [
    "### `(A)` Tweaking"
   ]
  },
  {
   "attachments": {},
   "cell_type": "markdown",
   "id": "eef57a40",
   "metadata": {
    "deletable": false,
    "editable": false,
    "nbgrader": {
     "cell_type": "markdown",
     "checksum": "6e72b7cee984b90defe29f20355c76dc",
     "grade": false,
     "grade_id": "cell-108952526bc248c0",
     "locked": true,
     "schema_version": 3,
     "solution": false,
     "task": false
    },
    "tags": []
   },
   "source": [
    "Modify the dataframes in the following manner:\n",
    "\n",
    "* Rename the column labels in a reasonable manner.\n",
    "* Convert the datetimes at which the measurements were conducted to a proper Pandas `datetime` format (make them refer to UTC) and make this column the index of the DataFrame.\n",
    "* Remove all lines with missing values (due to, e.g., failed measurements)\n",
    "* Apply type conversions where appropriate.\n",
    "\n",
    "\n",
    "#### Notes\n",
    "* Be careful when removing \"missing values\" (as they are called in [the documentation of the dataset](https://opendata.dwd.de/climate_environment/CDC/observations_germany/climate/hourly/precipitation/historical/DESCRIPTION_obsgermany_climate_hourly_precipitation_historical_en.pdf)). There might by many \"missing values\" in some colums but you will still want to keep the line in the DataFrame in order to notlose too many measurements. Counting the number of missing values in each column might help get an overview.\n",
    "* we suggest placing all required code in a dedicated tweaking function, e.g.\n",
    "\n",
    "```python\n",
    "def tweak_temperature_and_humidity(df: pd.DataFrame) -> pd.DataFrame:\n",
    "    # your code goes here\n",
    "\n",
    "df_th = tweak_temperature_and_humidity(df_th)\n",
    "```"
   ]
  },
  {
   "cell_type": "code",
   "execution_count": 8,
   "id": "4467a58d-1010-4168-a8b9-eca9e672b5d7",
   "metadata": {
    "deletable": false,
    "nbgrader": {
     "cell_type": "code",
     "checksum": "4383e357a9fc6d4a0b2f8f83f24ff31a",
     "grade": true,
     "grade_id": "cell-2d1151b66417c66b",
     "locked": false,
     "points": 0,
     "schema_version": 3,
     "solution": true,
     "task": false
    },
    "tags": []
   },
   "outputs": [
    {
     "data": {
      "text/plain": [
       "Ellipsis"
      ]
     },
     "execution_count": 8,
     "metadata": {},
     "output_type": "execute_result"
    }
   ],
   "source": [
    "..."
   ]
  },
  {
   "cell_type": "code",
   "execution_count": 9,
   "id": "f1d2bb20-b3b5-40c3-908a-2f8b91577674",
   "metadata": {
    "deletable": false,
    "nbgrader": {
     "cell_type": "code",
     "checksum": "9ce184973ce4265f2b732b0c4fa7e2f9",
     "grade": true,
     "grade_id": "cell-3f94185d30684fe4",
     "locked": false,
     "points": 10,
     "schema_version": 3,
     "solution": true,
     "task": false
    },
    "tags": []
   },
   "outputs": [
    {
     "data": {
      "text/plain": [
       "Ellipsis"
      ]
     },
     "execution_count": 9,
     "metadata": {},
     "output_type": "execute_result"
    }
   ],
   "source": [
    "..."
   ]
  },
  {
   "attachments": {},
   "cell_type": "markdown",
   "id": "5ae6cfd2-4c66-4d0b-9b7d-1c5c7f8e381b",
   "metadata": {
    "deletable": false,
    "editable": false,
    "nbgrader": {
     "cell_type": "markdown",
     "checksum": "855a7f6bf3bfcc4ccf8e2af75afaea60",
     "grade": false,
     "grade_id": "cell-fd4a5c32d76e718e",
     "locked": true,
     "schema_version": 3,
     "solution": false,
     "task": false
    },
    "tags": []
   },
   "source": [
    "### `(T)` Merge DataFrames"
   ]
  },
  {
   "attachments": {},
   "cell_type": "markdown",
   "id": "05a6bc23-ce48-482c-846a-e842f6de340f",
   "metadata": {
    "deletable": false,
    "editable": false,
    "nbgrader": {
     "cell_type": "markdown",
     "checksum": "b7619050e47f2b67c187ea97a0dea170",
     "grade": false,
     "grade_id": "cell-280b526a17290392",
     "locked": true,
     "schema_version": 3,
     "solution": false,
     "task": false
    },
    "tags": []
   },
   "source": [
    "[Merge](https://pandas.pydata.org/pandas-docs/stable/reference/api/pandas.DataFrame.merge.html) the DataFrame containing the data for the temperature and the humidity with that containing the values for the amount of precipitation.\n",
    "\n",
    "The new DataFrame (you might call it `df_weather`) shall also have the datetimes of the measurements in the index.\n",
    "\n",
    "#### Notes \n",
    "\n",
    "* The time interval of available measurements in the *merged* DataFrame is determined by the DataFrame with the smaller interval.\n",
    "* Try to use the new DataFrame in the following tasks. If you do not succeed in merging the two DataFrames it is also fine to use the individual DataFrames to solve the tasks."
   ]
  },
  {
   "cell_type": "code",
   "execution_count": 10,
   "id": "0a551d4c-e82d-40d1-9ec4-a785062fd927",
   "metadata": {
    "deletable": false,
    "nbgrader": {
     "cell_type": "code",
     "checksum": "e78018438dae9292458f5c7f16dec132",
     "grade": true,
     "grade_id": "cell-1ae9ca6aac50fae7",
     "locked": false,
     "points": 5,
     "schema_version": 3,
     "solution": true,
     "task": false
    },
    "tags": []
   },
   "outputs": [],
   "source": [
    "df_weather = (\n",
    "...\n",
    ")"
   ]
  },
  {
   "attachments": {},
   "cell_type": "markdown",
   "id": "8188ee42-4ec6-4039-917c-d65a06ef21a5",
   "metadata": {
    "deletable": false,
    "editable": false,
    "nbgrader": {
     "cell_type": "markdown",
     "checksum": "e383242ef759dc89eda0dadf5c8cefea",
     "grade": false,
     "grade_id": "cell-50a79ddb4aa8e31a",
     "locked": true,
     "schema_version": 3,
     "solution": false,
     "task": false
    },
    "tags": []
   },
   "source": [
    "## Data Visualization"
   ]
  },
  {
   "attachments": {},
   "cell_type": "markdown",
   "id": "fe2337fc-b950-4758-ba78-9fa58480903c",
   "metadata": {
    "deletable": false,
    "editable": false,
    "nbgrader": {
     "cell_type": "markdown",
     "checksum": "9e0cf69176e395c0ddb710a18aacc745",
     "grade": false,
     "grade_id": "cell-8086e57efe19dc19",
     "locked": true,
     "schema_version": 3,
     "solution": false,
     "task": false
    },
    "tags": []
   },
   "source": [
    "In the following tasks you will asked to visualise certain aspects of the data.\n",
    "\n",
    "Try to make the visualisations as \"compelling\", understandable, and expressive as possible by adding e.g. axes labels (with units if required), plot titles and reasonable scales"
   ]
  },
  {
   "attachments": {},
   "cell_type": "markdown",
   "id": "2abc52d8-9a5e-435a-b2de-d7134df85b2a",
   "metadata": {
    "deletable": false,
    "editable": false,
    "nbgrader": {
     "cell_type": "markdown",
     "checksum": "6b1075253540224d22b203c1bfd8f5ee",
     "grade": false,
     "grade_id": "cell-b6b8bfb5e767bd3d",
     "locked": true,
     "schema_version": 3,
     "solution": false,
     "task": false
    }
   },
   "source": [
    "### `(A)` Seasonal contributions to precipitation"
   ]
  },
  {
   "attachments": {},
   "cell_type": "markdown",
   "id": "d56fa0cc-0647-492d-ad11-58c5c4fead3d",
   "metadata": {
    "deletable": false,
    "editable": false,
    "nbgrader": {
     "cell_type": "markdown",
     "checksum": "be70a6536ee77367cd874b963e578817",
     "grade": false,
     "grade_id": "cell-b6b8bfb5e767bd3a",
     "locked": true,
     "schema_version": 3,
     "solution": false,
     "task": false
    },
    "tags": []
   },
   "source": [
    "Determine the contribution to the total yearly amount of precipitation of each [**meteorological season**](https://www.dwd.de/DE/service/lexikon/Functions/glossar.html?lv3=101324&lv2=101304). Visualise the results in a single plot and make sure that the contributions of the single seasons can be distinguished."
   ]
  },
  {
   "cell_type": "code",
   "execution_count": 11,
   "id": "987bca8b-7d69-49fa-9d63-06579c47725a",
   "metadata": {
    "deletable": false,
    "nbgrader": {
     "cell_type": "code",
     "checksum": "e39c2244c947ec094807ddca1044ef35",
     "grade": true,
     "grade_id": "cell-58b6d5bf37f5eed5",
     "locked": false,
     "points": 5,
     "schema_version": 3,
     "solution": true,
     "task": false
    },
    "tags": []
   },
   "outputs": [
    {
     "data": {
      "text/plain": [
       "Ellipsis"
      ]
     },
     "execution_count": 11,
     "metadata": {},
     "output_type": "execute_result"
    }
   ],
   "source": [
    "..."
   ]
  },
  {
   "attachments": {},
   "cell_type": "markdown",
   "id": "97442b57-19c1-457d-b125-50a5479797f7",
   "metadata": {
    "deletable": false,
    "editable": false,
    "nbgrader": {
     "cell_type": "markdown",
     "checksum": "3dd42dc9875cfe443ccd0f4d5f493b72",
     "grade": false,
     "grade_id": "cell-253233647ef2f34b",
     "locked": true,
     "schema_version": 3,
     "solution": false,
     "task": false
    }
   },
   "source": [
    "### `(A)` The Summer of 2003"
   ]
  },
  {
   "attachments": {},
   "cell_type": "markdown",
   "id": "b2435d5e-03ad-4673-9c86-7c6bada120e0",
   "metadata": {
    "deletable": false,
    "editable": false,
    "nbgrader": {
     "cell_type": "markdown",
     "checksum": "b538286523d72f8d72d6402ed9cf5ecc",
     "grade": false,
     "grade_id": "cell-253233647ef2f341",
     "locked": true,
     "schema_version": 3,
     "solution": false,
     "task": false
    },
    "tags": []
   },
   "source": [
    "By looking at the plot from the previous task it becomes obvious that the amount of precipitation in 2003 was much lower than in other years.\n",
    "\n",
    "Search for hints in the data that support this observation. Generate two plots that further explain the observation (e.g. distributions, seasonal effects).\n",
    "\n",
    "*Note*: In fact, the [summer of 2003](https://en.wikipedia.org/wiki/2003_European_heat_wave) has been quite special from a metereological point of view."
   ]
  },
  {
   "cell_type": "code",
   "execution_count": 12,
   "id": "ec23a5b8",
   "metadata": {
    "deletable": false,
    "nbgrader": {
     "cell_type": "code",
     "checksum": "967d4474a7f1ed220a488599311c28a7",
     "grade": true,
     "grade_id": "cell-9e7e9075b088ebf2",
     "locked": false,
     "points": 5,
     "schema_version": 3,
     "solution": true,
     "task": false
    },
    "tags": []
   },
   "outputs": [
    {
     "data": {
      "text/plain": [
       "Ellipsis"
      ]
     },
     "execution_count": 12,
     "metadata": {},
     "output_type": "execute_result"
    }
   ],
   "source": [
    "..."
   ]
  },
  {
   "cell_type": "code",
   "execution_count": 13,
   "id": "f5e08127",
   "metadata": {
    "deletable": false,
    "nbgrader": {
     "cell_type": "code",
     "checksum": "cd8f707b06109bd67da79c13d2064693",
     "grade": true,
     "grade_id": "cell-2cc8d74e3b69bea9",
     "locked": false,
     "points": 5,
     "schema_version": 3,
     "solution": true,
     "task": false
    },
    "tags": []
   },
   "outputs": [
    {
     "data": {
      "text/plain": [
       "Ellipsis"
      ]
     },
     "execution_count": 13,
     "metadata": {},
     "output_type": "execute_result"
    }
   ],
   "source": [
    "..."
   ]
  },
  {
   "attachments": {},
   "cell_type": "markdown",
   "id": "876d8e3f-0809-434b-b680-82da8931a09f",
   "metadata": {
    "deletable": false,
    "editable": false,
    "nbgrader": {
     "cell_type": "markdown",
     "checksum": "3f02aa32800df1408a267061b70ab05f",
     "grade": false,
     "grade_id": "cell-d685a9b0c264f12f",
     "locked": true,
     "schema_version": 3,
     "solution": false,
     "task": false
    },
    "tags": []
   },
   "source": [
    "## Data Analysis"
   ]
  },
  {
   "attachments": {},
   "cell_type": "markdown",
   "id": "10ee1b97-8767-4096-9f89-3c8581c4d0a8",
   "metadata": {
    "deletable": false,
    "editable": false,
    "nbgrader": {
     "cell_type": "markdown",
     "checksum": "31b6488a48846705982ceb3366f2e182",
     "grade": false,
     "grade_id": "cell-9795dd9e4c37cff6",
     "locked": true,
     "schema_version": 3,
     "solution": false,
     "task": false
    }
   },
   "source": [
    "### `(A)` Correlation between precipitation and humidity"
   ]
  },
  {
   "attachments": {},
   "cell_type": "markdown",
   "id": "158646e6-ed9f-4d59-8981-182c11dbe12b",
   "metadata": {
    "deletable": false,
    "editable": false,
    "nbgrader": {
     "cell_type": "markdown",
     "checksum": "c5870536bedb12cc653d5abf517ceb1a",
     "grade": false,
     "grade_id": "cell-9795dd9e4c37cff1",
     "locked": true,
     "schema_version": 3,
     "solution": false,
     "task": false
    },
    "tags": []
   },
   "source": [
    "Make a plot that correlates the amount of *actually fallen liquid precipitation* with the relative humidity. Also add temperature information in the *same* plot."
   ]
  },
  {
   "cell_type": "code",
   "execution_count": 14,
   "id": "2ed3e8a8",
   "metadata": {
    "deletable": false,
    "nbgrader": {
     "cell_type": "code",
     "checksum": "c9ac8a03206ddbc50a257a80f5e90c73",
     "grade": true,
     "grade_id": "cell-edeccd57f92a0fc1",
     "locked": false,
     "points": 5,
     "schema_version": 3,
     "solution": true,
     "task": false
    },
    "tags": []
   },
   "outputs": [
    {
     "data": {
      "text/plain": [
       "Ellipsis"
      ]
     },
     "execution_count": 14,
     "metadata": {},
     "output_type": "execute_result"
    }
   ],
   "source": [
    "..."
   ]
  },
  {
   "attachments": {},
   "cell_type": "markdown",
   "id": "a0e8cde1",
   "metadata": {
    "deletable": false,
    "editable": false,
    "nbgrader": {
     "cell_type": "markdown",
     "checksum": "44392e953d3f6e2ce978072bcfc001cb",
     "grade": false,
     "grade_id": "cell-7be5945e79cb6fa3",
     "locked": true,
     "schema_version": 3,
     "solution": false,
     "task": false
    }
   },
   "source": [
    "### `(A)` Correlation between humidity and temperature"
   ]
  },
  {
   "attachments": {},
   "cell_type": "markdown",
   "id": "84abc313",
   "metadata": {
    "deletable": false,
    "editable": false,
    "nbgrader": {
     "cell_type": "markdown",
     "checksum": "ff1d9cff4c808fd76d5f7e0d5aadd1d2",
     "grade": false,
     "grade_id": "cell-c5385e94c8064334",
     "locked": true,
     "schema_version": 3,
     "solution": false,
     "task": false
    }
   },
   "source": [
    "* Make a plot that correlates the relative humidity with the temperature. Can you see a trend? "
   ]
  },
  {
   "cell_type": "code",
   "execution_count": 15,
   "id": "94089d06-6778-47fb-911b-6e37eb3a114a",
   "metadata": {
    "deletable": false,
    "nbgrader": {
     "cell_type": "code",
     "checksum": "d203dfba39eb9a228ed99fbd14e8c1b4",
     "grade": true,
     "grade_id": "cell-10f50f6ef949d1b1",
     "locked": false,
     "points": 3,
     "schema_version": 3,
     "solution": true,
     "task": false
    },
    "tags": []
   },
   "outputs": [
    {
     "data": {
      "text/plain": [
       "Ellipsis"
      ]
     },
     "execution_count": 15,
     "metadata": {},
     "output_type": "execute_result"
    }
   ],
   "source": [
    "..."
   ]
  },
  {
   "attachments": {},
   "cell_type": "markdown",
   "id": "5f683127",
   "metadata": {
    "deletable": false,
    "editable": false,
    "nbgrader": {
     "cell_type": "markdown",
     "checksum": "7288e48b61e840485a805d1f837fb166",
     "grade": false,
     "grade_id": "cell-5ba851e2567752b8",
     "locked": true,
     "schema_version": 3,
     "solution": false,
     "task": false
    }
   },
   "source": [
    "* Make another plot that shows the (mean) temperature and the (mean) relative humidity over the course of the day."
   ]
  },
  {
   "cell_type": "code",
   "execution_count": 16,
   "id": "34d1cd19-dba1-446f-9702-39b0fd62e591",
   "metadata": {
    "deletable": false,
    "nbgrader": {
     "cell_type": "code",
     "checksum": "27e34c9046a2d13636e6af6d92238a6a",
     "grade": true,
     "grade_id": "cell-d432d39ff2a075e6",
     "locked": false,
     "points": 5,
     "schema_version": 3,
     "solution": true,
     "task": false
    }
   },
   "outputs": [
    {
     "data": {
      "text/plain": [
       "Ellipsis"
      ]
     },
     "execution_count": 16,
     "metadata": {},
     "output_type": "execute_result"
    }
   ],
   "source": [
    "..."
   ]
  }
 ],
 "metadata": {
  "kernelspec": {
   "display_name": "Python 3 (ipykernel)",
   "language": "python",
   "name": "python3"
  },
  "language_info": {
   "codemirror_mode": {
    "name": "ipython",
    "version": 3
   },
   "file_extension": ".py",
   "mimetype": "text/x-python",
   "name": "python",
   "nbconvert_exporter": "python",
   "pygments_lexer": "ipython3",
   "version": "3.10.10"
  },
  "toc-autonumbering": false
 },
 "nbformat": 4,
 "nbformat_minor": 5
}
