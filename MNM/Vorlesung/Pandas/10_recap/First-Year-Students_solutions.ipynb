{
 "cells": [
  {
   "cell_type": "code",
   "execution_count": null,
   "id": "edeef676-50b9-418f-a789-dc30eeccb89f",
   "metadata": {
    "deletable": false,
    "editable": false,
    "nbgrader": {
     "cell_type": "code",
     "checksum": "69de79bd7440947e7224288d9e1032dd",
     "grade": false,
     "grade_id": "cell-03bfdb2318a0ee36",
     "locked": true,
     "schema_version": 3,
     "solution": false,
     "task": false
    },
    "tags": []
   },
   "outputs": [],
   "source": [
    "%matplotlib inline\n",
    "\n",
    "import numpy as np\n",
    "import pandas as pd"
   ]
  },
  {
   "cell_type": "markdown",
   "id": "72febb01-1436-413e-a68f-7deccc3c5343",
   "metadata": {
    "deletable": false,
    "editable": false,
    "nbgrader": {
     "cell_type": "markdown",
     "checksum": "f4fe4c5e983e3d6abeb671f5c2bb4e54",
     "grade": false,
     "grade_id": "cell-cbed3d8745592a78",
     "locked": true,
     "schema_version": 3,
     "solution": false,
     "task": false
    },
    "tags": []
   },
   "source": [
    "# Dataset: Studienanfänger: Bundesländer, Semester, Nationalität,Geschlecht\n",
    "\n",
    "Source: Statistisches Bundesamt \n",
    "\n",
    "License: [Data licence Germany – attribution – Version 2.0](http://www.govdata.de/dl-de/by-2-0)\n",
    "\n",
    "URL: https://www-genesis.destatis.de/genesis/downloads/00/tables/21311-0014_00.csv\n",
    "\n",
    "URI: https://www.govdata.de/web/guest/suchen/-/details/studienanfanger-bundeslander-semester-nationalitatgeschlecht"
   ]
  },
  {
   "cell_type": "markdown",
   "id": "e2e5c316-4631-4ba2-87eb-58ec21227445",
   "metadata": {
    "deletable": false,
    "editable": false,
    "nbgrader": {
     "cell_type": "markdown",
     "checksum": "14a9c7d48222a7b36c93d2dd2e237174",
     "grade": false,
     "grade_id": "cell-18f4696b815dee73",
     "locked": true,
     "schema_version": 3,
     "solution": false,
     "task": false
    },
    "tags": []
   },
   "source": [
    "## Information"
   ]
  },
  {
   "cell_type": "markdown",
   "id": "62df8d3a-83cf-4559-b2ea-f92b3616e230",
   "metadata": {
    "deletable": false,
    "editable": false,
    "nbgrader": {
     "cell_type": "markdown",
     "checksum": "8244917ffa06f82e11e9b993e0d13708",
     "grade": false,
     "grade_id": "cell-7f82349eefac507c",
     "locked": true,
     "schema_version": 3,
     "solution": false,
     "task": false
    },
    "tags": []
   },
   "source": [
    "### What is contained in the dataset?\n",
    "\n",
    "The dataset contains the number of first-year students per winter semester in all 16 federal states from 1998 to 2021. Data is splitted in male and female students as well as german students and students of other nationality."
   ]
  },
  {
   "cell_type": "markdown",
   "id": "cf138eea-5ce1-4193-b908-b51e23a57e38",
   "metadata": {
    "deletable": false,
    "editable": false,
    "nbgrader": {
     "cell_type": "markdown",
     "checksum": "b2c5441f9eeacc7e8c88882f8e748768",
     "grade": false,
     "grade_id": "cell-7f767a2d8b5e5e51",
     "locked": true,
     "schema_version": 3,
     "solution": false,
     "task": false
    },
    "tags": []
   },
   "source": [
    "### Encoding\n",
    "\n",
    "The file is encoded in *ISO-8859-1* (sometimes referred to as *Latin 1*). Refer to this [list of Python standard encoding](https://docs.python.org/3/library/codecs.html#standard-encodings)."
   ]
  },
  {
   "cell_type": "markdown",
   "id": "6cfeb47f-4ddc-4fd3-b432-8d8bfc9545f7",
   "metadata": {
    "deletable": false,
    "editable": false,
    "jp-MarkdownHeadingCollapsed": true,
    "nbgrader": {
     "cell_type": "markdown",
     "checksum": "aa752e74ca2c561d2aac7efb377b01fb",
     "grade": false,
     "grade_id": "cell-1fd59fdaedba7903",
     "locked": true,
     "schema_version": 3,
     "solution": false,
     "task": false
    },
    "tags": []
   },
   "source": [
    "### Format\n",
    "\n",
    "From the URL we infer that the dataset is provided as a CSV file."
   ]
  },
  {
   "cell_type": "markdown",
   "id": "1a8d7bc9-4528-48eb-a362-8558ade119ae",
   "metadata": {
    "deletable": false,
    "editable": false,
    "nbgrader": {
     "cell_type": "markdown",
     "checksum": "603d50db08d9546302c96215eb9073fe",
     "grade": false,
     "grade_id": "cell-3e722d1f1c7ba363",
     "locked": true,
     "schema_version": 3,
     "solution": false,
     "task": false
    },
    "tags": []
   },
   "source": [
    "### File header\n",
    "\n",
    "This is the header of the CSV file:\n",
    "\n",
    "```\n",
    "GENESIS-Tabelle: 21311-0014\n",
    "Studienanfänger: Bundesländer, Semester, Nationalität,;;;;;;;;;;\n",
    "Geschlecht;;;;;;;;;;\n",
    "Statistik der Studenten;;;;;;;;;;\n",
    "Studienanfänger (Anzahl);;;;;;;;;;\n",
    ";;Deutsche;Deutsche;Deutsche;Ausländer;Ausländer;Ausländer;Insgesamt;Insgesamt;Insgesamt\n",
    ";;männlich;weiblich;Insgesamt;männlich;weiblich;Insgesamt;männlich;weiblich;Insgesamt\n",
    "```"
   ]
  },
  {
   "cell_type": "markdown",
   "id": "0756b56a-4fd7-4b8d-ba65-e58c80291135",
   "metadata": {
    "deletable": false,
    "editable": false,
    "nbgrader": {
     "cell_type": "markdown",
     "checksum": "fb95bdc1a040e5ab3fae461a4ad95e26",
     "grade": false,
     "grade_id": "cell-1fd59fdaedba7906",
     "locked": true,
     "schema_version": 3,
     "solution": false,
     "task": false
    },
    "tags": []
   },
   "source": [
    "## Tasks"
   ]
  },
  {
   "cell_type": "markdown",
   "id": "874566d5-365e-4708-82d2-65b863406eec",
   "metadata": {},
   "source": [
    "### `(A)` Read in the dataframe"
   ]
  },
  {
   "cell_type": "markdown",
   "id": "cfcb59cb-0fa5-4d17-bac9-698f728c4e37",
   "metadata": {
    "deletable": false,
    "editable": false,
    "nbgrader": {
     "cell_type": "markdown",
     "checksum": "09152f5bbcbc9bc558f0fde32b0642b1",
     "grade": false,
     "grade_id": "cell-581b509bbd72d9fb",
     "locked": true,
     "schema_version": 3,
     "solution": false,
     "task": false
    },
    "tags": []
   },
   "source": [
    "The column names are not provided in the csv file, we suggest to use the following ones:\n",
    "|                  Content of column(s)                  |          Column title in DataFrame         |\n",
    "|:---------------------------------------------------:|:------------------------------------------:|\n",
    "| Federal state                                       | `\"federal_state\"`                              |\n",
    "| Winter semester                                     | `\"winter_semester\"`                            |\n",
    "| Count for females and males with german nationality | `\"count_german_female\"` and `\"count_other_female\"` |\n",
    "| Count for females and males with other nationality  | `\"count_other_female\"` and `\"count_other_male\"`    |"
   ]
  },
  {
   "cell_type": "markdown",
   "id": "b3ec1cdb-5f74-417e-ba13-f3186785f250",
   "metadata": {},
   "source": [
    "*Hint*: Have a look at the *end* of the dataframe. There might be some rows that have to be removed before you can work with the data."
   ]
  },
  {
   "cell_type": "code",
   "execution_count": null,
   "id": "f9b25ad9-a6da-4b8a-a029-acea340d3e3b",
   "metadata": {
    "deletable": false,
    "nbgrader": {
     "cell_type": "code",
     "checksum": "caee6a332be39e4f3fb2aac88bfaca36",
     "grade": true,
     "grade_id": "cell-b6c346f74bb9c86a",
     "locked": false,
     "points": 15,
     "schema_version": 3,
     "solution": true,
     "task": false
    },
    "tags": []
   },
   "outputs": [],
   "source": [
    "..."
   ]
  },
  {
   "cell_type": "markdown",
   "id": "26bd61c0-24de-4a44-b111-12fa66667e5f",
   "metadata": {
    "deletable": false,
    "editable": false,
    "nbgrader": {
     "cell_type": "markdown",
     "checksum": "563cd104e49f7dabfcf5ced1682fc553",
     "grade": false,
     "grade_id": "cell-999cc139aa298668",
     "locked": true,
     "schema_version": 3,
     "solution": false,
     "task": false
    },
    "tags": []
   },
   "source": [
    "The following cells will help you check if the file has been imported as intended."
   ]
  },
  {
   "cell_type": "code",
   "execution_count": null,
   "id": "880b1e25-0544-4783-8b28-a5a2e3cfa096",
   "metadata": {
    "deletable": false,
    "editable": false,
    "nbgrader": {
     "cell_type": "code",
     "checksum": "240c296956fc125b6cd8c412962b9572",
     "grade": false,
     "grade_id": "cell-b5dffb26be272c97",
     "locked": true,
     "schema_version": 3,
     "solution": false,
     "task": false
    },
    "tags": []
   },
   "outputs": [],
   "source": [
    "df.tail(10)"
   ]
  },
  {
   "cell_type": "code",
   "execution_count": null,
   "id": "ddda5e5e-16d9-483c-b17a-fbea2894e1eb",
   "metadata": {
    "deletable": false,
    "editable": false,
    "nbgrader": {
     "cell_type": "code",
     "checksum": "813ffc014695e1d42b7c6699d8e8e9a4",
     "grade": false,
     "grade_id": "cell-ca72ef8b4aad9627",
     "locked": true,
     "schema_version": 3,
     "solution": false,
     "task": false
    },
    "tags": []
   },
   "outputs": [],
   "source": [
    "df.head(10)"
   ]
  },
  {
   "cell_type": "markdown",
   "id": "48a82974-3c9f-4e1a-8f0f-84966e8aefc4",
   "metadata": {
    "deletable": false,
    "editable": false,
    "nbgrader": {
     "cell_type": "markdown",
     "checksum": "1a735207f64a5e2f85c2f8add50c04fc",
     "grade": false,
     "grade_id": "cell-a103e13bd0d85c96",
     "locked": true,
     "schema_version": 3,
     "solution": false,
     "task": false
    },
    "tags": []
   },
   "source": [
    "### `(T)` Convert to long format\n",
    "\n",
    "Convert the `DataFrame` to a long format with the following column labels (*Hint*: Have a look at the documentation of the [`pd.melt`](https://pandas.pydata.org/pandas-docs/stable/reference/api/pandas.melt.html) function.): \n",
    "* `\"federal_state\"` and `\"winter_semester\"`. These are the same columns as in the original `DataFrame`.\n",
    "* `\"count\"`: Number of first-year students of a certain nationality (other or german) and gender (female or male).\n",
    "* `\"nationality_and_gender\"`: Column with values being one of `\"count_[female|male]_[other|german]\"`."
   ]
  },
  {
   "cell_type": "code",
   "execution_count": null,
   "id": "c2f520f1-0f3a-4ed3-8406-d089581b3385",
   "metadata": {
    "deletable": false,
    "nbgrader": {
     "cell_type": "code",
     "checksum": "c1c5059b394103bc01820c1070b28ec0",
     "grade": true,
     "grade_id": "cell-f8ae3c6827e8de22",
     "locked": false,
     "points": 8,
     "schema_version": 3,
     "solution": true,
     "task": false
    },
    "tags": []
   },
   "outputs": [],
   "source": [
    "..."
   ]
  },
  {
   "cell_type": "code",
   "execution_count": null,
   "id": "83c98450-8fb2-4605-bcae-26b22b3d05b4",
   "metadata": {
    "deletable": false,
    "editable": false,
    "nbgrader": {
     "cell_type": "code",
     "checksum": "f230825c8774208d99467d8df6c6fe86",
     "grade": false,
     "grade_id": "cell-f70626e72b360699",
     "locked": true,
     "schema_version": 3,
     "solution": false,
     "task": false
    },
    "tags": []
   },
   "outputs": [],
   "source": [
    "df.head()"
   ]
  },
  {
   "cell_type": "markdown",
   "id": "396ea458-3fdf-4181-9282-3fd5ec34e290",
   "metadata": {
    "deletable": false,
    "editable": false,
    "nbgrader": {
     "cell_type": "markdown",
     "checksum": "386ed095612597081b8929af84b863ec",
     "grade": false,
     "grade_id": "cell-550ea6ad5290b30d",
     "locked": true,
     "schema_version": 3,
     "solution": false,
     "task": false
    },
    "tags": []
   },
   "source": [
    "### `(A)` Add new columns \n",
    "\n",
    "Use the content of the `\"nationality_and_gender\"` column to generate columns: \n",
    "* `\"nationality\"`: Column with values either being \"german\" or \"other\".\n",
    "* `\"gender\"`: Column with values either being \"female\" or \"male\".\n",
    "   \n",
    "Finally, the column `\"nationality_and_gender\"` should be removed from the `DataFrame`. "
   ]
  },
  {
   "cell_type": "code",
   "execution_count": null,
   "id": "d68dde3c-7a61-429d-bc9d-32e9250e5047",
   "metadata": {
    "deletable": false,
    "nbgrader": {
     "cell_type": "code",
     "checksum": "3c065cefbc5cae3452fd9dd295e07800",
     "grade": true,
     "grade_id": "cell-4b31acfdcc8be7ae",
     "locked": false,
     "points": 6,
     "schema_version": 3,
     "solution": true,
     "task": false
    },
    "tags": []
   },
   "outputs": [],
   "source": [
    "..."
   ]
  },
  {
   "cell_type": "code",
   "execution_count": null,
   "id": "a3ae41bf-4a79-4a21-bda0-77fbfaa4510e",
   "metadata": {
    "tags": []
   },
   "outputs": [],
   "source": [
    "df.head()"
   ]
  },
  {
   "cell_type": "markdown",
   "id": "f974fc5b-c325-4436-81db-41aa11088a09",
   "metadata": {
    "deletable": false,
    "editable": false,
    "nbgrader": {
     "cell_type": "markdown",
     "checksum": "5c065fc766d102a668029b26b83b1ee5",
     "grade": false,
     "grade_id": "cell-bf3bb1d908595d5e",
     "locked": true,
     "schema_version": 3,
     "solution": false,
     "task": false
    },
    "tags": []
   },
   "source": [
    "### `(R)`  Datatypes\n",
    "\n",
    "Change the type of the columns in the following manner: \n",
    "* `\"federal_state\"`: category\n",
    "* `\"winter_semester\"`: category\n",
    "* `\"count\"`: unsigned 16 bit integer\n",
    "* `\"nationality\"`: category\n",
    "* `\"gender\"`: category"
   ]
  },
  {
   "cell_type": "code",
   "execution_count": null,
   "id": "55b8e57c-46b7-4fdf-90cf-3ea3db0a173d",
   "metadata": {
    "deletable": false,
    "nbgrader": {
     "cell_type": "code",
     "checksum": "985c7b36f90ded224e2cff8b68cc9372",
     "grade": true,
     "grade_id": "cell-adc27f7fe7d9a337",
     "locked": false,
     "points": 4,
     "schema_version": 3,
     "solution": true,
     "task": false
    },
    "tags": []
   },
   "outputs": [],
   "source": [
    "..."
   ]
  },
  {
   "cell_type": "code",
   "execution_count": null,
   "id": "ba8a179b-40b7-4d93-9a1d-210be1a651fc",
   "metadata": {
    "deletable": false,
    "editable": false,
    "nbgrader": {
     "cell_type": "code",
     "checksum": "476e5e50f907ef36f3efb7e60c846ff3",
     "grade": false,
     "grade_id": "cell-e71c61b0c8486e4d",
     "locked": true,
     "schema_version": 3,
     "solution": false,
     "task": false
    },
    "tags": []
   },
   "outputs": [],
   "source": [
    "df.info()"
   ]
  },
  {
   "cell_type": "markdown",
   "id": "072ce610-fbb9-4591-9f52-74f4cb5824c2",
   "metadata": {
    "deletable": false,
    "editable": false,
    "nbgrader": {
     "cell_type": "markdown",
     "checksum": "83ce449fb14bef906c7a2a6f2b314e65",
     "grade": false,
     "grade_id": "cell-bf3bb1d908595d5d",
     "locked": true,
     "schema_version": 3,
     "solution": false,
     "task": false
    },
    "tags": []
   },
   "source": [
    "### `(A)`  Visualization\n",
    "\n",
    "Plot the count of female and male students with german nationality as well as the count of female and male students with other nationality for each winter semester (aggregated over all federal states). Choose a type of plot that allows to easily compare the count of female and male students.\n",
    "\n",
    "Things to consider when making the plot:\n",
    "* Use Pandas' plotting capabilities.\n",
    "* Use axis labels, a legend, and a title.\n",
    "\n",
    "\n",
    "*Hint*: You can either use the [`pivot_table`](https://pandas.pydata.org/pandas-docs/stable/reference/api/pandas.DataFrame.pivot_table.html) or the [`groupby`](https://pandas.pydata.org/pandas-docs/stable/reference/api/pandas.DataFrame.groupby.html) method and perform the necessary aggregations.\n"
   ]
  },
  {
   "cell_type": "code",
   "execution_count": null,
   "id": "4127afb8-bcdc-4513-a26c-1ff23ff3ffeb",
   "metadata": {
    "deletable": false,
    "nbgrader": {
     "cell_type": "code",
     "checksum": "5af968fc51a59b01a19946092cb0163f",
     "grade": true,
     "grade_id": "cell-667c9e2b5f69e053",
     "locked": false,
     "points": 0,
     "schema_version": 3,
     "solution": true,
     "task": false
    },
    "tags": []
   },
   "outputs": [],
   "source": [
    "..."
   ]
  },
  {
   "cell_type": "markdown",
   "id": "d7adb421-ebb0-4088-980e-b792da093bf5",
   "metadata": {},
   "source": [
    "### `(A)` Aggregation"
   ]
  },
  {
   "cell_type": "markdown",
   "id": "53008bb8-e4bc-4aec-bd01-42dd93392909",
   "metadata": {},
   "source": [
    "What is total the percentage of female students in each  year?"
   ]
  },
  {
   "cell_type": "code",
   "execution_count": null,
   "id": "01607e0f-f0cd-4726-b38a-dc1cb5717fb3",
   "metadata": {
    "deletable": false,
    "nbgrader": {
     "cell_type": "code",
     "checksum": "e68eacb65851bc3aac07e4c2c724ba37",
     "grade": true,
     "grade_id": "cell-e571262ecaa30a59",
     "locked": false,
     "points": 0,
     "schema_version": 3,
     "solution": true,
     "task": false
    },
    "tags": []
   },
   "outputs": [],
   "source": [
    "..."
   ]
  },
  {
   "cell_type": "code",
   "execution_count": null,
   "id": "2f5776be-28ff-4797-be88-502e39904e9b",
   "metadata": {
    "deletable": false,
    "nbgrader": {
     "cell_type": "code",
     "checksum": "156f0a941633d1d391fb7b753e47211d",
     "grade": true,
     "grade_id": "cell-a7c8ab4c6f5e86e2",
     "locked": false,
     "points": 0,
     "schema_version": 3,
     "solution": true,
     "task": false
    },
    "tags": []
   },
   "outputs": [],
   "source": [
    "..."
   ]
  },
  {
   "cell_type": "markdown",
   "id": "763330ba-88d6-429b-9cbf-a22e80c5d8ef",
   "metadata": {},
   "source": [
    "Which german state has the largest / least count of female students?"
   ]
  },
  {
   "cell_type": "code",
   "execution_count": null,
   "id": "cb2de3fc-5d58-47aa-9f30-c80965c3e054",
   "metadata": {
    "deletable": false,
    "nbgrader": {
     "cell_type": "code",
     "checksum": "34bbadb4e9f10d34ecd6a26740e54ea5",
     "grade": true,
     "grade_id": "cell-9935d2775ad70ae6",
     "locked": false,
     "points": 0,
     "schema_version": 3,
     "solution": true,
     "task": false
    }
   },
   "outputs": [],
   "source": [
    "..."
   ]
  },
  {
   "cell_type": "code",
   "execution_count": null,
   "id": "1fc49654-6397-4c22-9939-fd23d44fd3fc",
   "metadata": {
    "deletable": false,
    "nbgrader": {
     "cell_type": "code",
     "checksum": "e986e90ce645b4281ac521fcac502541",
     "grade": true,
     "grade_id": "cell-25ab452f2e1e8b53",
     "locked": false,
     "points": 0,
     "schema_version": 3,
     "solution": true,
     "task": false
    }
   },
   "outputs": [],
   "source": [
    "..."
   ]
  }
 ],
 "metadata": {
  "kernelspec": {
   "display_name": "Python 3 (ipykernel)",
   "language": "python",
   "name": "python3"
  },
  "language_info": {
   "codemirror_mode": {
    "name": "ipython",
    "version": 3
   },
   "file_extension": ".py",
   "mimetype": "text/x-python",
   "name": "python",
   "nbconvert_exporter": "python",
   "pygments_lexer": "ipython3",
   "version": "3.10.11"
  }
 },
 "nbformat": 4,
 "nbformat_minor": 5
}
