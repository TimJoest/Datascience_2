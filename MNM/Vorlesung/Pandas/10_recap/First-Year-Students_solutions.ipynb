{
 "cells": [
  {
   "cell_type": "code",
   "execution_count": 75,
   "id": "edeef676-50b9-418f-a789-dc30eeccb89f",
   "metadata": {
    "deletable": false,
    "editable": false,
    "nbgrader": {
     "cell_type": "code",
     "checksum": "69de79bd7440947e7224288d9e1032dd",
     "grade": false,
     "grade_id": "cell-03bfdb2318a0ee36",
     "locked": true,
     "schema_version": 3,
     "solution": false,
     "task": false
    },
    "tags": []
   },
   "outputs": [],
   "source": [
    "%matplotlib inline\n",
    "\n",
    "import numpy as np\n",
    "import pandas as pd\n",
    "import matplotlib.pyplot as plt"
   ]
  },
  {
   "attachments": {},
   "cell_type": "markdown",
   "id": "72febb01-1436-413e-a68f-7deccc3c5343",
   "metadata": {
    "deletable": false,
    "editable": false,
    "nbgrader": {
     "cell_type": "markdown",
     "checksum": "f4fe4c5e983e3d6abeb671f5c2bb4e54",
     "grade": false,
     "grade_id": "cell-cbed3d8745592a78",
     "locked": true,
     "schema_version": 3,
     "solution": false,
     "task": false
    },
    "tags": []
   },
   "source": [
    "# Dataset: Studienanfänger: Bundesländer, Semester, Nationalität,Geschlecht\n",
    "\n",
    "Source: Statistisches Bundesamt \n",
    "\n",
    "License: [Data licence Germany – attribution – Version 2.0](http://www.govdata.de/dl-de/by-2-0)\n",
    "\n",
    "URL: https://www-genesis.destatis.de/genesis/downloads/00/tables/21311-0014_00.csv\n",
    "\n",
    "URI: https://www.govdata.de/web/guest/suchen/-/details/studienanfanger-bundeslander-semester-nationalitatgeschlecht"
   ]
  },
  {
   "attachments": {},
   "cell_type": "markdown",
   "id": "e2e5c316-4631-4ba2-87eb-58ec21227445",
   "metadata": {
    "deletable": false,
    "editable": false,
    "nbgrader": {
     "cell_type": "markdown",
     "checksum": "14a9c7d48222a7b36c93d2dd2e237174",
     "grade": false,
     "grade_id": "cell-18f4696b815dee73",
     "locked": true,
     "schema_version": 3,
     "solution": false,
     "task": false
    },
    "tags": []
   },
   "source": [
    "## Information"
   ]
  },
  {
   "attachments": {},
   "cell_type": "markdown",
   "id": "62df8d3a-83cf-4559-b2ea-f92b3616e230",
   "metadata": {
    "deletable": false,
    "editable": false,
    "nbgrader": {
     "cell_type": "markdown",
     "checksum": "8244917ffa06f82e11e9b993e0d13708",
     "grade": false,
     "grade_id": "cell-7f82349eefac507c",
     "locked": true,
     "schema_version": 3,
     "solution": false,
     "task": false
    },
    "tags": []
   },
   "source": [
    "### What is contained in the dataset?\n",
    "\n",
    "The dataset contains the number of first-year students per winter semester in all 16 federal states from 1998 to 2021. Data is splitted in male and female students as well as german students and students of other nationality."
   ]
  },
  {
   "attachments": {},
   "cell_type": "markdown",
   "id": "cf138eea-5ce1-4193-b908-b51e23a57e38",
   "metadata": {
    "deletable": false,
    "editable": false,
    "nbgrader": {
     "cell_type": "markdown",
     "checksum": "b2c5441f9eeacc7e8c88882f8e748768",
     "grade": false,
     "grade_id": "cell-7f767a2d8b5e5e51",
     "locked": true,
     "schema_version": 3,
     "solution": false,
     "task": false
    },
    "tags": []
   },
   "source": [
    "### Encoding\n",
    "\n",
    "The file is encoded in *ISO-8859-1* (sometimes referred to as *Latin 1*). Refer to this [list of Python standard encoding](https://docs.python.org/3/library/codecs.html#standard-encodings)."
   ]
  },
  {
   "attachments": {},
   "cell_type": "markdown",
   "id": "6cfeb47f-4ddc-4fd3-b432-8d8bfc9545f7",
   "metadata": {
    "deletable": false,
    "editable": false,
    "jp-MarkdownHeadingCollapsed": true,
    "nbgrader": {
     "cell_type": "markdown",
     "checksum": "aa752e74ca2c561d2aac7efb377b01fb",
     "grade": false,
     "grade_id": "cell-1fd59fdaedba7903",
     "locked": true,
     "schema_version": 3,
     "solution": false,
     "task": false
    },
    "tags": []
   },
   "source": [
    "### Format\n",
    "\n",
    "From the URL we infer that the dataset is provided as a CSV file."
   ]
  },
  {
   "attachments": {},
   "cell_type": "markdown",
   "id": "1a8d7bc9-4528-48eb-a362-8558ade119ae",
   "metadata": {
    "deletable": false,
    "editable": false,
    "nbgrader": {
     "cell_type": "markdown",
     "checksum": "603d50db08d9546302c96215eb9073fe",
     "grade": false,
     "grade_id": "cell-3e722d1f1c7ba363",
     "locked": true,
     "schema_version": 3,
     "solution": false,
     "task": false
    },
    "tags": []
   },
   "source": [
    "### File header\n",
    "\n",
    "This is the header of the CSV file:\n",
    "\n",
    "```\n",
    "GENESIS-Tabelle: 21311-0014\n",
    "Studienanfänger: Bundesländer, Semester, Nationalität,;;;;;;;;;;\n",
    "Geschlecht;;;;;;;;;;\n",
    "Statistik der Studenten;;;;;;;;;;\n",
    "Studienanfänger (Anzahl);;;;;;;;;;\n",
    ";;Deutsche;Deutsche;Deutsche;Ausländer;Ausländer;Ausländer;Insgesamt;Insgesamt;Insgesamt\n",
    ";;männlich;weiblich;Insgesamt;männlich;weiblich;Insgesamt;männlich;weiblich;Insgesamt\n",
    "```"
   ]
  },
  {
   "attachments": {},
   "cell_type": "markdown",
   "id": "0756b56a-4fd7-4b8d-ba65-e58c80291135",
   "metadata": {
    "deletable": false,
    "editable": false,
    "nbgrader": {
     "cell_type": "markdown",
     "checksum": "fb95bdc1a040e5ab3fae461a4ad95e26",
     "grade": false,
     "grade_id": "cell-1fd59fdaedba7906",
     "locked": true,
     "schema_version": 3,
     "solution": false,
     "task": false
    },
    "tags": []
   },
   "source": [
    "## Tasks"
   ]
  },
  {
   "attachments": {},
   "cell_type": "markdown",
   "id": "874566d5-365e-4708-82d2-65b863406eec",
   "metadata": {},
   "source": [
    "### `(A)` Read in the dataframe"
   ]
  },
  {
   "attachments": {},
   "cell_type": "markdown",
   "id": "cfcb59cb-0fa5-4d17-bac9-698f728c4e37",
   "metadata": {
    "deletable": false,
    "editable": false,
    "nbgrader": {
     "cell_type": "markdown",
     "checksum": "09152f5bbcbc9bc558f0fde32b0642b1",
     "grade": false,
     "grade_id": "cell-581b509bbd72d9fb",
     "locked": true,
     "schema_version": 3,
     "solution": false,
     "task": false
    },
    "tags": []
   },
   "source": [
    "The column names are not provided in the csv file, we suggest to use the following ones:\n",
    "|                  Content of column(s)                  |          Column title in DataFrame         |\n",
    "|:---------------------------------------------------:|:------------------------------------------:|\n",
    "| Federal state                                       | `\"federal_state\"`                              |\n",
    "| Winter semester                                     | `\"winter_semester\"`                            |\n",
    "| Count for females and males with german nationality | `\"count_german_female\"` and `\"count_other_female\"` |\n",
    "| Count for females and males with other nationality  | `\"count_other_female\"` and `\"count_other_male\"`    |"
   ]
  },
  {
   "attachments": {},
   "cell_type": "markdown",
   "id": "b3ec1cdb-5f74-417e-ba13-f3186785f250",
   "metadata": {},
   "source": [
    "*Hint*: Have a look at the *end* of the dataframe. There might be some rows that have to be removed before you can work with the data."
   ]
  },
  {
   "cell_type": "code",
   "execution_count": 76,
   "id": "f9b25ad9-a6da-4b8a-a029-acea340d3e3b",
   "metadata": {
    "deletable": false,
    "nbgrader": {
     "cell_type": "code",
     "checksum": "caee6a332be39e4f3fb2aac88bfaca36",
     "grade": true,
     "grade_id": "cell-b6c346f74bb9c86a",
     "locked": false,
     "points": 15,
     "schema_version": 3,
     "solution": true,
     "task": false
    },
    "tags": []
   },
   "outputs": [
    {
     "name": "stderr",
     "output_type": "stream",
     "text": [
      "/tmp/ipykernel_29871/2541078011.py:1: ParserWarning: Falling back to the 'python' engine because the 'c' engine does not support skipfooter; you can avoid this warning by specifying engine='python'.\n",
      "  df = pd.read_csv('https://www-genesis.destatis.de/genesis/downloads/00/tables/21311-0014_00.csv',\n"
     ]
    }
   ],
   "source": [
    "df = pd.read_csv('https://www-genesis.destatis.de/genesis/downloads/00/tables/21311-0014_00.csv', \n",
    "                 sep=';', \n",
    "                 encoding='latin1',\n",
    "                 skiprows=7,\n",
    "                 skipfooter=3,\n",
    "                 usecols=[0,1,2,3,5,6],\n",
    "                 names = [\"Bundesland\", \"Wintersemester\", \"german_male\", \"german_female\", \"other_male\", \"other_female\"],)\n"
   ]
  },
  {
   "attachments": {},
   "cell_type": "markdown",
   "id": "26bd61c0-24de-4a44-b111-12fa66667e5f",
   "metadata": {
    "deletable": false,
    "editable": false,
    "nbgrader": {
     "cell_type": "markdown",
     "checksum": "563cd104e49f7dabfcf5ced1682fc553",
     "grade": false,
     "grade_id": "cell-999cc139aa298668",
     "locked": true,
     "schema_version": 3,
     "solution": false,
     "task": false
    },
    "tags": []
   },
   "source": [
    "The following cells will help you check if the file has been imported as intended."
   ]
  },
  {
   "cell_type": "code",
   "execution_count": 77,
   "id": "880b1e25-0544-4783-8b28-a5a2e3cfa096",
   "metadata": {
    "deletable": false,
    "editable": false,
    "nbgrader": {
     "cell_type": "code",
     "checksum": "240c296956fc125b6cd8c412962b9572",
     "grade": false,
     "grade_id": "cell-b5dffb26be272c97",
     "locked": true,
     "schema_version": 3,
     "solution": false,
     "task": false
    },
    "tags": []
   },
   "outputs": [
    {
     "data": {
      "text/html": [
       "<div>\n",
       "<style scoped>\n",
       "    .dataframe tbody tr th:only-of-type {\n",
       "        vertical-align: middle;\n",
       "    }\n",
       "\n",
       "    .dataframe tbody tr th {\n",
       "        vertical-align: top;\n",
       "    }\n",
       "\n",
       "    .dataframe thead th {\n",
       "        text-align: right;\n",
       "    }\n",
       "</style>\n",
       "<table border=\"1\" class=\"dataframe\">\n",
       "  <thead>\n",
       "    <tr style=\"text-align: right;\">\n",
       "      <th></th>\n",
       "      <th>Bundesland</th>\n",
       "      <th>Wintersemester</th>\n",
       "      <th>german_male</th>\n",
       "      <th>german_female</th>\n",
       "      <th>other_male</th>\n",
       "      <th>other_female</th>\n",
       "    </tr>\n",
       "  </thead>\n",
       "  <tbody>\n",
       "    <tr>\n",
       "      <th>374</th>\n",
       "      <td>Thüringen</td>\n",
       "      <td>WS 2012/13</td>\n",
       "      <td>3967</td>\n",
       "      <td>3985</td>\n",
       "      <td>798</td>\n",
       "      <td>808</td>\n",
       "    </tr>\n",
       "    <tr>\n",
       "      <th>375</th>\n",
       "      <td>Thüringen</td>\n",
       "      <td>WS 2013/14</td>\n",
       "      <td>3559</td>\n",
       "      <td>3746</td>\n",
       "      <td>903</td>\n",
       "      <td>928</td>\n",
       "    </tr>\n",
       "    <tr>\n",
       "      <th>376</th>\n",
       "      <td>Thüringen</td>\n",
       "      <td>WS 2014/15</td>\n",
       "      <td>3227</td>\n",
       "      <td>3524</td>\n",
       "      <td>968</td>\n",
       "      <td>1006</td>\n",
       "    </tr>\n",
       "    <tr>\n",
       "      <th>377</th>\n",
       "      <td>Thüringen</td>\n",
       "      <td>WS 2015/16</td>\n",
       "      <td>3264</td>\n",
       "      <td>3548</td>\n",
       "      <td>993</td>\n",
       "      <td>918</td>\n",
       "    </tr>\n",
       "    <tr>\n",
       "      <th>378</th>\n",
       "      <td>Thüringen</td>\n",
       "      <td>WS 2016/17</td>\n",
       "      <td>3927</td>\n",
       "      <td>4070</td>\n",
       "      <td>949</td>\n",
       "      <td>1044</td>\n",
       "    </tr>\n",
       "    <tr>\n",
       "      <th>379</th>\n",
       "      <td>Thüringen</td>\n",
       "      <td>WS 2017/18</td>\n",
       "      <td>3287</td>\n",
       "      <td>3682</td>\n",
       "      <td>1157</td>\n",
       "      <td>1005</td>\n",
       "    </tr>\n",
       "    <tr>\n",
       "      <th>380</th>\n",
       "      <td>Thüringen</td>\n",
       "      <td>WS 2018/19</td>\n",
       "      <td>3077</td>\n",
       "      <td>3709</td>\n",
       "      <td>1120</td>\n",
       "      <td>1001</td>\n",
       "    </tr>\n",
       "    <tr>\n",
       "      <th>381</th>\n",
       "      <td>Thüringen</td>\n",
       "      <td>WS 2019/20</td>\n",
       "      <td>4180</td>\n",
       "      <td>6150</td>\n",
       "      <td>1622</td>\n",
       "      <td>1577</td>\n",
       "    </tr>\n",
       "    <tr>\n",
       "      <th>382</th>\n",
       "      <td>Thüringen</td>\n",
       "      <td>WS 2020/21</td>\n",
       "      <td>5117</td>\n",
       "      <td>9450</td>\n",
       "      <td>1467</td>\n",
       "      <td>1747</td>\n",
       "    </tr>\n",
       "    <tr>\n",
       "      <th>383</th>\n",
       "      <td>Thüringen</td>\n",
       "      <td>WS 2021/22</td>\n",
       "      <td>5556</td>\n",
       "      <td>10167</td>\n",
       "      <td>1907</td>\n",
       "      <td>2205</td>\n",
       "    </tr>\n",
       "  </tbody>\n",
       "</table>\n",
       "</div>"
      ],
      "text/plain": [
       "    Bundesland Wintersemester  german_male  german_female  other_male   \n",
       "374  Thüringen     WS 2012/13         3967           3985         798  \\\n",
       "375  Thüringen     WS 2013/14         3559           3746         903   \n",
       "376  Thüringen     WS 2014/15         3227           3524         968   \n",
       "377  Thüringen     WS 2015/16         3264           3548         993   \n",
       "378  Thüringen     WS 2016/17         3927           4070         949   \n",
       "379  Thüringen     WS 2017/18         3287           3682        1157   \n",
       "380  Thüringen     WS 2018/19         3077           3709        1120   \n",
       "381  Thüringen     WS 2019/20         4180           6150        1622   \n",
       "382  Thüringen     WS 2020/21         5117           9450        1467   \n",
       "383  Thüringen     WS 2021/22         5556          10167        1907   \n",
       "\n",
       "     other_female  \n",
       "374           808  \n",
       "375           928  \n",
       "376          1006  \n",
       "377           918  \n",
       "378          1044  \n",
       "379          1005  \n",
       "380          1001  \n",
       "381          1577  \n",
       "382          1747  \n",
       "383          2205  "
      ]
     },
     "execution_count": 77,
     "metadata": {},
     "output_type": "execute_result"
    }
   ],
   "source": [
    "df.tail(10)"
   ]
  },
  {
   "cell_type": "code",
   "execution_count": 78,
   "id": "ddda5e5e-16d9-483c-b17a-fbea2894e1eb",
   "metadata": {
    "deletable": false,
    "editable": false,
    "nbgrader": {
     "cell_type": "code",
     "checksum": "813ffc014695e1d42b7c6699d8e8e9a4",
     "grade": false,
     "grade_id": "cell-ca72ef8b4aad9627",
     "locked": true,
     "schema_version": 3,
     "solution": false,
     "task": false
    },
    "tags": []
   },
   "outputs": [
    {
     "data": {
      "text/html": [
       "<div>\n",
       "<style scoped>\n",
       "    .dataframe tbody tr th:only-of-type {\n",
       "        vertical-align: middle;\n",
       "    }\n",
       "\n",
       "    .dataframe tbody tr th {\n",
       "        vertical-align: top;\n",
       "    }\n",
       "\n",
       "    .dataframe thead th {\n",
       "        text-align: right;\n",
       "    }\n",
       "</style>\n",
       "<table border=\"1\" class=\"dataframe\">\n",
       "  <thead>\n",
       "    <tr style=\"text-align: right;\">\n",
       "      <th></th>\n",
       "      <th>Bundesland</th>\n",
       "      <th>Wintersemester</th>\n",
       "      <th>german_male</th>\n",
       "      <th>german_female</th>\n",
       "      <th>other_male</th>\n",
       "      <th>other_female</th>\n",
       "    </tr>\n",
       "  </thead>\n",
       "  <tbody>\n",
       "    <tr>\n",
       "      <th>0</th>\n",
       "      <td>Baden-Württemberg</td>\n",
       "      <td>WS 1998/99</td>\n",
       "      <td>12966</td>\n",
       "      <td>10170</td>\n",
       "      <td>2580</td>\n",
       "      <td>2878</td>\n",
       "    </tr>\n",
       "    <tr>\n",
       "      <th>1</th>\n",
       "      <td>Baden-Württemberg</td>\n",
       "      <td>WS 1999/00</td>\n",
       "      <td>13775</td>\n",
       "      <td>11988</td>\n",
       "      <td>3337</td>\n",
       "      <td>3409</td>\n",
       "    </tr>\n",
       "    <tr>\n",
       "      <th>2</th>\n",
       "      <td>Baden-Württemberg</td>\n",
       "      <td>WS 2000/01</td>\n",
       "      <td>15696</td>\n",
       "      <td>13391</td>\n",
       "      <td>3580</td>\n",
       "      <td>3702</td>\n",
       "    </tr>\n",
       "    <tr>\n",
       "      <th>3</th>\n",
       "      <td>Baden-Württemberg</td>\n",
       "      <td>WS 2001/02</td>\n",
       "      <td>17040</td>\n",
       "      <td>14816</td>\n",
       "      <td>3894</td>\n",
       "      <td>4146</td>\n",
       "    </tr>\n",
       "    <tr>\n",
       "      <th>4</th>\n",
       "      <td>Baden-Württemberg</td>\n",
       "      <td>WS 2002/03</td>\n",
       "      <td>16670</td>\n",
       "      <td>15542</td>\n",
       "      <td>4252</td>\n",
       "      <td>4478</td>\n",
       "    </tr>\n",
       "    <tr>\n",
       "      <th>5</th>\n",
       "      <td>Baden-Württemberg</td>\n",
       "      <td>WS 2003/04</td>\n",
       "      <td>18772</td>\n",
       "      <td>15599</td>\n",
       "      <td>4346</td>\n",
       "      <td>4736</td>\n",
       "    </tr>\n",
       "    <tr>\n",
       "      <th>6</th>\n",
       "      <td>Baden-Württemberg</td>\n",
       "      <td>WS 2004/05</td>\n",
       "      <td>17264</td>\n",
       "      <td>14928</td>\n",
       "      <td>3929</td>\n",
       "      <td>4467</td>\n",
       "    </tr>\n",
       "    <tr>\n",
       "      <th>7</th>\n",
       "      <td>Baden-Württemberg</td>\n",
       "      <td>WS 2005/06</td>\n",
       "      <td>17086</td>\n",
       "      <td>14870</td>\n",
       "      <td>3925</td>\n",
       "      <td>4098</td>\n",
       "    </tr>\n",
       "    <tr>\n",
       "      <th>8</th>\n",
       "      <td>Baden-Württemberg</td>\n",
       "      <td>WS 2006/07</td>\n",
       "      <td>16484</td>\n",
       "      <td>15019</td>\n",
       "      <td>3687</td>\n",
       "      <td>4064</td>\n",
       "    </tr>\n",
       "    <tr>\n",
       "      <th>9</th>\n",
       "      <td>Baden-Württemberg</td>\n",
       "      <td>WS 2007/08</td>\n",
       "      <td>16705</td>\n",
       "      <td>15318</td>\n",
       "      <td>3438</td>\n",
       "      <td>3883</td>\n",
       "    </tr>\n",
       "  </tbody>\n",
       "</table>\n",
       "</div>"
      ],
      "text/plain": [
       "          Bundesland Wintersemester  german_male  german_female  other_male   \n",
       "0  Baden-Württemberg     WS 1998/99        12966          10170        2580  \\\n",
       "1  Baden-Württemberg     WS 1999/00        13775          11988        3337   \n",
       "2  Baden-Württemberg     WS 2000/01        15696          13391        3580   \n",
       "3  Baden-Württemberg     WS 2001/02        17040          14816        3894   \n",
       "4  Baden-Württemberg     WS 2002/03        16670          15542        4252   \n",
       "5  Baden-Württemberg     WS 2003/04        18772          15599        4346   \n",
       "6  Baden-Württemberg     WS 2004/05        17264          14928        3929   \n",
       "7  Baden-Württemberg     WS 2005/06        17086          14870        3925   \n",
       "8  Baden-Württemberg     WS 2006/07        16484          15019        3687   \n",
       "9  Baden-Württemberg     WS 2007/08        16705          15318        3438   \n",
       "\n",
       "   other_female  \n",
       "0          2878  \n",
       "1          3409  \n",
       "2          3702  \n",
       "3          4146  \n",
       "4          4478  \n",
       "5          4736  \n",
       "6          4467  \n",
       "7          4098  \n",
       "8          4064  \n",
       "9          3883  "
      ]
     },
     "execution_count": 78,
     "metadata": {},
     "output_type": "execute_result"
    }
   ],
   "source": [
    "df.head(10)"
   ]
  },
  {
   "cell_type": "code",
   "execution_count": 79,
   "id": "710a9678",
   "metadata": {},
   "outputs": [
    {
     "data": {
      "text/html": [
       "<div>\n",
       "<style scoped>\n",
       "    .dataframe tbody tr th:only-of-type {\n",
       "        vertical-align: middle;\n",
       "    }\n",
       "\n",
       "    .dataframe tbody tr th {\n",
       "        vertical-align: top;\n",
       "    }\n",
       "\n",
       "    .dataframe thead th {\n",
       "        text-align: right;\n",
       "    }\n",
       "</style>\n",
       "<table border=\"1\" class=\"dataframe\">\n",
       "  <thead>\n",
       "    <tr style=\"text-align: right;\">\n",
       "      <th></th>\n",
       "      <th>Bundesland</th>\n",
       "      <th>Wintersemester</th>\n",
       "      <th>german_male</th>\n",
       "      <th>german_female</th>\n",
       "      <th>other_male</th>\n",
       "      <th>other_female</th>\n",
       "    </tr>\n",
       "  </thead>\n",
       "  <tbody>\n",
       "    <tr>\n",
       "      <th>101</th>\n",
       "      <td>Bremen</td>\n",
       "      <td>WS 2003/04</td>\n",
       "      <td>2390</td>\n",
       "      <td>2029</td>\n",
       "      <td>532</td>\n",
       "      <td>552</td>\n",
       "    </tr>\n",
       "    <tr>\n",
       "      <th>141</th>\n",
       "      <td>Hamburg</td>\n",
       "      <td>WS 2019/20</td>\n",
       "      <td>5423</td>\n",
       "      <td>6128</td>\n",
       "      <td>1443</td>\n",
       "      <td>1482</td>\n",
       "    </tr>\n",
       "    <tr>\n",
       "      <th>302</th>\n",
       "      <td>Sachsen</td>\n",
       "      <td>WS 2012/13</td>\n",
       "      <td>8089</td>\n",
       "      <td>6973</td>\n",
       "      <td>2091</td>\n",
       "      <td>1855</td>\n",
       "    </tr>\n",
       "    <tr>\n",
       "      <th>29</th>\n",
       "      <td>Bayern</td>\n",
       "      <td>WS 2003/04</td>\n",
       "      <td>21548</td>\n",
       "      <td>18170</td>\n",
       "      <td>2806</td>\n",
       "      <td>3922</td>\n",
       "    </tr>\n",
       "    <tr>\n",
       "      <th>194</th>\n",
       "      <td>Niedersachsen</td>\n",
       "      <td>WS 2000/01</td>\n",
       "      <td>9170</td>\n",
       "      <td>9407</td>\n",
       "      <td>1540</td>\n",
       "      <td>1603</td>\n",
       "    </tr>\n",
       "    <tr>\n",
       "      <th>5</th>\n",
       "      <td>Baden-Württemberg</td>\n",
       "      <td>WS 2003/04</td>\n",
       "      <td>18772</td>\n",
       "      <td>15599</td>\n",
       "      <td>4346</td>\n",
       "      <td>4736</td>\n",
       "    </tr>\n",
       "    <tr>\n",
       "      <th>34</th>\n",
       "      <td>Bayern</td>\n",
       "      <td>WS 2008/09</td>\n",
       "      <td>22433</td>\n",
       "      <td>21396</td>\n",
       "      <td>3183</td>\n",
       "      <td>3730</td>\n",
       "    </tr>\n",
       "    <tr>\n",
       "      <th>361</th>\n",
       "      <td>Thüringen</td>\n",
       "      <td>WS 1999/00</td>\n",
       "      <td>3221</td>\n",
       "      <td>3312</td>\n",
       "      <td>296</td>\n",
       "      <td>284</td>\n",
       "    </tr>\n",
       "    <tr>\n",
       "      <th>363</th>\n",
       "      <td>Thüringen</td>\n",
       "      <td>WS 2001/02</td>\n",
       "      <td>3988</td>\n",
       "      <td>3750</td>\n",
       "      <td>296</td>\n",
       "      <td>358</td>\n",
       "    </tr>\n",
       "    <tr>\n",
       "      <th>290</th>\n",
       "      <td>Sachsen</td>\n",
       "      <td>WS 2000/01</td>\n",
       "      <td>8101</td>\n",
       "      <td>7060</td>\n",
       "      <td>770</td>\n",
       "      <td>914</td>\n",
       "    </tr>\n",
       "  </tbody>\n",
       "</table>\n",
       "</div>"
      ],
      "text/plain": [
       "            Bundesland Wintersemester  german_male  german_female  other_male   \n",
       "101             Bremen     WS 2003/04         2390           2029         532  \\\n",
       "141            Hamburg     WS 2019/20         5423           6128        1443   \n",
       "302            Sachsen     WS 2012/13         8089           6973        2091   \n",
       "29              Bayern     WS 2003/04        21548          18170        2806   \n",
       "194      Niedersachsen     WS 2000/01         9170           9407        1540   \n",
       "5    Baden-Württemberg     WS 2003/04        18772          15599        4346   \n",
       "34              Bayern     WS 2008/09        22433          21396        3183   \n",
       "361          Thüringen     WS 1999/00         3221           3312         296   \n",
       "363          Thüringen     WS 2001/02         3988           3750         296   \n",
       "290            Sachsen     WS 2000/01         8101           7060         770   \n",
       "\n",
       "     other_female  \n",
       "101           552  \n",
       "141          1482  \n",
       "302          1855  \n",
       "29           3922  \n",
       "194          1603  \n",
       "5            4736  \n",
       "34           3730  \n",
       "361           284  \n",
       "363           358  \n",
       "290           914  "
      ]
     },
     "execution_count": 79,
     "metadata": {},
     "output_type": "execute_result"
    }
   ],
   "source": [
    "df.sample(10)"
   ]
  },
  {
   "attachments": {},
   "cell_type": "markdown",
   "id": "48a82974-3c9f-4e1a-8f0f-84966e8aefc4",
   "metadata": {
    "deletable": false,
    "editable": false,
    "nbgrader": {
     "cell_type": "markdown",
     "checksum": "1a735207f64a5e2f85c2f8add50c04fc",
     "grade": false,
     "grade_id": "cell-a103e13bd0d85c96",
     "locked": true,
     "schema_version": 3,
     "solution": false,
     "task": false
    },
    "tags": []
   },
   "source": [
    "### `(T)` Convert to long format\n",
    "\n",
    "Convert the `DataFrame` to a long format with the following column labels (*Hint*: Have a look at the documentation of the [`pd.melt`](https://pandas.pydata.org/pandas-docs/stable/reference/api/pandas.melt.html) function.): \n",
    "* `\"federal_state\"` and `\"winter_semester\"`. These are the same columns as in the original `DataFrame`.\n",
    "* `\"count\"`: Number of first-year students of a certain nationality (other or german) and gender (female or male).\n",
    "* `\"nationality_and_gender\"`: Column with values being one of `\"count_[female|male]_[other|german]\"`."
   ]
  },
  {
   "cell_type": "code",
   "execution_count": 80,
   "id": "c2f520f1-0f3a-4ed3-8406-d089581b3385",
   "metadata": {
    "deletable": false,
    "nbgrader": {
     "cell_type": "code",
     "checksum": "c1c5059b394103bc01820c1070b28ec0",
     "grade": true,
     "grade_id": "cell-f8ae3c6827e8de22",
     "locked": false,
     "points": 8,
     "schema_version": 3,
     "solution": true,
     "task": false
    },
    "tags": []
   },
   "outputs": [],
   "source": [
    "df_m = pd.melt(df, \n",
    "               id_vars=[\"Bundesland\", \"Wintersemester\"], \n",
    "               var_name=\"nationality_and_gender\", \n",
    "               value_name=\"count\")"
   ]
  },
  {
   "cell_type": "code",
   "execution_count": 81,
   "id": "83c98450-8fb2-4605-bcae-26b22b3d05b4",
   "metadata": {
    "deletable": false,
    "editable": false,
    "nbgrader": {
     "cell_type": "code",
     "checksum": "f230825c8774208d99467d8df6c6fe86",
     "grade": false,
     "grade_id": "cell-f70626e72b360699",
     "locked": true,
     "schema_version": 3,
     "solution": false,
     "task": false
    },
    "tags": []
   },
   "outputs": [
    {
     "data": {
      "text/html": [
       "<div>\n",
       "<style scoped>\n",
       "    .dataframe tbody tr th:only-of-type {\n",
       "        vertical-align: middle;\n",
       "    }\n",
       "\n",
       "    .dataframe tbody tr th {\n",
       "        vertical-align: top;\n",
       "    }\n",
       "\n",
       "    .dataframe thead th {\n",
       "        text-align: right;\n",
       "    }\n",
       "</style>\n",
       "<table border=\"1\" class=\"dataframe\">\n",
       "  <thead>\n",
       "    <tr style=\"text-align: right;\">\n",
       "      <th></th>\n",
       "      <th>Bundesland</th>\n",
       "      <th>Wintersemester</th>\n",
       "      <th>nationality_and_gender</th>\n",
       "      <th>count</th>\n",
       "    </tr>\n",
       "  </thead>\n",
       "  <tbody>\n",
       "    <tr>\n",
       "      <th>0</th>\n",
       "      <td>Baden-Württemberg</td>\n",
       "      <td>WS 1998/99</td>\n",
       "      <td>german_male</td>\n",
       "      <td>12966</td>\n",
       "    </tr>\n",
       "    <tr>\n",
       "      <th>1</th>\n",
       "      <td>Baden-Württemberg</td>\n",
       "      <td>WS 1999/00</td>\n",
       "      <td>german_male</td>\n",
       "      <td>13775</td>\n",
       "    </tr>\n",
       "    <tr>\n",
       "      <th>2</th>\n",
       "      <td>Baden-Württemberg</td>\n",
       "      <td>WS 2000/01</td>\n",
       "      <td>german_male</td>\n",
       "      <td>15696</td>\n",
       "    </tr>\n",
       "    <tr>\n",
       "      <th>3</th>\n",
       "      <td>Baden-Württemberg</td>\n",
       "      <td>WS 2001/02</td>\n",
       "      <td>german_male</td>\n",
       "      <td>17040</td>\n",
       "    </tr>\n",
       "    <tr>\n",
       "      <th>4</th>\n",
       "      <td>Baden-Württemberg</td>\n",
       "      <td>WS 2002/03</td>\n",
       "      <td>german_male</td>\n",
       "      <td>16670</td>\n",
       "    </tr>\n",
       "  </tbody>\n",
       "</table>\n",
       "</div>"
      ],
      "text/plain": [
       "          Bundesland Wintersemester nationality_and_gender  count\n",
       "0  Baden-Württemberg     WS 1998/99            german_male  12966\n",
       "1  Baden-Württemberg     WS 1999/00            german_male  13775\n",
       "2  Baden-Württemberg     WS 2000/01            german_male  15696\n",
       "3  Baden-Württemberg     WS 2001/02            german_male  17040\n",
       "4  Baden-Württemberg     WS 2002/03            german_male  16670"
      ]
     },
     "execution_count": 81,
     "metadata": {},
     "output_type": "execute_result"
    }
   ],
   "source": [
    "df_m.head()"
   ]
  },
  {
   "attachments": {},
   "cell_type": "markdown",
   "id": "396ea458-3fdf-4181-9282-3fd5ec34e290",
   "metadata": {
    "deletable": false,
    "editable": false,
    "nbgrader": {
     "cell_type": "markdown",
     "checksum": "386ed095612597081b8929af84b863ec",
     "grade": false,
     "grade_id": "cell-550ea6ad5290b30d",
     "locked": true,
     "schema_version": 3,
     "solution": false,
     "task": false
    },
    "tags": []
   },
   "source": [
    "### `(A)` Add new columns \n",
    "\n",
    "Use the content of the `\"nationality_and_gender\"` column to generate columns: \n",
    "* `\"nationality\"`: Column with values either being \"german\" or \"other\".\n",
    "* `\"gender\"`: Column with values either being \"female\" or \"male\".\n",
    "   \n",
    "Finally, the column `\"nationality_and_gender\"` should be removed from the `DataFrame`. "
   ]
  },
  {
   "cell_type": "code",
   "execution_count": 82,
   "id": "d68dde3c-7a61-429d-bc9d-32e9250e5047",
   "metadata": {
    "deletable": false,
    "nbgrader": {
     "cell_type": "code",
     "checksum": "3c065cefbc5cae3452fd9dd295e07800",
     "grade": true,
     "grade_id": "cell-4b31acfdcc8be7ae",
     "locked": false,
     "points": 6,
     "schema_version": 3,
     "solution": true,
     "task": false
    },
    "tags": []
   },
   "outputs": [],
   "source": [
    "\n",
    "df_s = df_m\n",
    "df_s = (df_s\n",
    "            .assign(nationality = df_s.nationality_and_gender.str.split('_').apply(lambda x: x[0]),\n",
    "                    gender = df_s.nationality_and_gender.str.split('_').apply(lambda x: x[1]))\n",
    "            \n",
    "            .drop('nationality_and_gender', axis=1)\n",
    "        )"
   ]
  },
  {
   "cell_type": "code",
   "execution_count": 83,
   "id": "a3ae41bf-4a79-4a21-bda0-77fbfaa4510e",
   "metadata": {
    "tags": []
   },
   "outputs": [
    {
     "data": {
      "text/html": [
       "<div>\n",
       "<style scoped>\n",
       "    .dataframe tbody tr th:only-of-type {\n",
       "        vertical-align: middle;\n",
       "    }\n",
       "\n",
       "    .dataframe tbody tr th {\n",
       "        vertical-align: top;\n",
       "    }\n",
       "\n",
       "    .dataframe thead th {\n",
       "        text-align: right;\n",
       "    }\n",
       "</style>\n",
       "<table border=\"1\" class=\"dataframe\">\n",
       "  <thead>\n",
       "    <tr style=\"text-align: right;\">\n",
       "      <th></th>\n",
       "      <th>Bundesland</th>\n",
       "      <th>Wintersemester</th>\n",
       "      <th>count</th>\n",
       "      <th>nationality</th>\n",
       "      <th>gender</th>\n",
       "    </tr>\n",
       "  </thead>\n",
       "  <tbody>\n",
       "    <tr>\n",
       "      <th>0</th>\n",
       "      <td>Baden-Württemberg</td>\n",
       "      <td>WS 1998/99</td>\n",
       "      <td>12966</td>\n",
       "      <td>german</td>\n",
       "      <td>male</td>\n",
       "    </tr>\n",
       "    <tr>\n",
       "      <th>1</th>\n",
       "      <td>Baden-Württemberg</td>\n",
       "      <td>WS 1999/00</td>\n",
       "      <td>13775</td>\n",
       "      <td>german</td>\n",
       "      <td>male</td>\n",
       "    </tr>\n",
       "    <tr>\n",
       "      <th>2</th>\n",
       "      <td>Baden-Württemberg</td>\n",
       "      <td>WS 2000/01</td>\n",
       "      <td>15696</td>\n",
       "      <td>german</td>\n",
       "      <td>male</td>\n",
       "    </tr>\n",
       "    <tr>\n",
       "      <th>3</th>\n",
       "      <td>Baden-Württemberg</td>\n",
       "      <td>WS 2001/02</td>\n",
       "      <td>17040</td>\n",
       "      <td>german</td>\n",
       "      <td>male</td>\n",
       "    </tr>\n",
       "    <tr>\n",
       "      <th>4</th>\n",
       "      <td>Baden-Württemberg</td>\n",
       "      <td>WS 2002/03</td>\n",
       "      <td>16670</td>\n",
       "      <td>german</td>\n",
       "      <td>male</td>\n",
       "    </tr>\n",
       "  </tbody>\n",
       "</table>\n",
       "</div>"
      ],
      "text/plain": [
       "          Bundesland Wintersemester  count nationality gender\n",
       "0  Baden-Württemberg     WS 1998/99  12966      german   male\n",
       "1  Baden-Württemberg     WS 1999/00  13775      german   male\n",
       "2  Baden-Württemberg     WS 2000/01  15696      german   male\n",
       "3  Baden-Württemberg     WS 2001/02  17040      german   male\n",
       "4  Baden-Württemberg     WS 2002/03  16670      german   male"
      ]
     },
     "execution_count": 83,
     "metadata": {},
     "output_type": "execute_result"
    }
   ],
   "source": [
    "df_s.head()"
   ]
  },
  {
   "attachments": {},
   "cell_type": "markdown",
   "id": "f974fc5b-c325-4436-81db-41aa11088a09",
   "metadata": {
    "deletable": false,
    "editable": false,
    "nbgrader": {
     "cell_type": "markdown",
     "checksum": "5c065fc766d102a668029b26b83b1ee5",
     "grade": false,
     "grade_id": "cell-bf3bb1d908595d5e",
     "locked": true,
     "schema_version": 3,
     "solution": false,
     "task": false
    },
    "tags": []
   },
   "source": [
    "### `(R)`  Datatypes\n",
    "\n",
    "Change the type of the columns in the following manner: \n",
    "* `\"federal_state\"`: category\n",
    "* `\"winter_semester\"`: category\n",
    "* `\"count\"`: unsigned 16 bit integer\n",
    "* `\"nationality\"`: category\n",
    "* `\"gender\"`: category"
   ]
  },
  {
   "cell_type": "code",
   "execution_count": 88,
   "id": "55b8e57c-46b7-4fdf-90cf-3ea3db0a173d",
   "metadata": {
    "deletable": false,
    "nbgrader": {
     "cell_type": "code",
     "checksum": "985c7b36f90ded224e2cff8b68cc9372",
     "grade": true,
     "grade_id": "cell-adc27f7fe7d9a337",
     "locked": false,
     "points": 4,
     "schema_version": 3,
     "solution": true,
     "task": false
    },
    "tags": []
   },
   "outputs": [],
   "source": [
    "df_s  = (df_s\n",
    "            .astype({'Bundesland': 'category',\n",
    "                     'Wintersemester': 'category',\n",
    "                     'count': np.uint16,\n",
    "                     'nationality': 'category',\n",
    "                     'gender': 'category'})\n",
    "        )"
   ]
  },
  {
   "cell_type": "code",
   "execution_count": 89,
   "id": "ba8a179b-40b7-4d93-9a1d-210be1a651fc",
   "metadata": {
    "deletable": false,
    "editable": false,
    "nbgrader": {
     "cell_type": "code",
     "checksum": "476e5e50f907ef36f3efb7e60c846ff3",
     "grade": false,
     "grade_id": "cell-e71c61b0c8486e4d",
     "locked": true,
     "schema_version": 3,
     "solution": false,
     "task": false
    },
    "tags": []
   },
   "outputs": [
    {
     "name": "stdout",
     "output_type": "stream",
     "text": [
      "<class 'pandas.core.frame.DataFrame'>\n",
      "RangeIndex: 1536 entries, 0 to 1535\n",
      "Data columns (total 5 columns):\n",
      " #   Column          Non-Null Count  Dtype   \n",
      "---  ------          --------------  -----   \n",
      " 0   Bundesland      1536 non-null   category\n",
      " 1   Wintersemester  1536 non-null   category\n",
      " 2   count           1536 non-null   uint16  \n",
      " 3   nationality     1536 non-null   category\n",
      " 4   gender          1536 non-null   category\n",
      "dtypes: category(4), uint16(1)\n",
      "memory usage: 10.8 KB\n"
     ]
    }
   ],
   "source": [
    "df_s.info()"
   ]
  },
  {
   "attachments": {},
   "cell_type": "markdown",
   "id": "072ce610-fbb9-4591-9f52-74f4cb5824c2",
   "metadata": {
    "deletable": false,
    "editable": false,
    "nbgrader": {
     "cell_type": "markdown",
     "checksum": "83ce449fb14bef906c7a2a6f2b314e65",
     "grade": false,
     "grade_id": "cell-bf3bb1d908595d5d",
     "locked": true,
     "schema_version": 3,
     "solution": false,
     "task": false
    },
    "tags": []
   },
   "source": [
    "### `(A)`  Visualization\n",
    "\n",
    "Plot the count of female and male students with german nationality as well as the count of female and male students with other nationality for each winter semester (aggregated over all federal states). Choose a type of plot that allows to easily compare the count of female and male students.\n",
    "\n",
    "Things to consider when making the plot:\n",
    "* Use Pandas' plotting capabilities.\n",
    "* Use axis labels, a legend, and a title.\n",
    "\n",
    "\n",
    "*Hint*: You can either use the [`pivot_table`](https://pandas.pydata.org/pandas-docs/stable/reference/api/pandas.DataFrame.pivot_table.html) or the [`groupby`](https://pandas.pydata.org/pandas-docs/stable/reference/api/pandas.DataFrame.groupby.html) method and perform the necessary aggregations.\n"
   ]
  },
  {
   "cell_type": "code",
   "execution_count": 90,
   "id": "4127afb8-bcdc-4513-a26c-1ff23ff3ffeb",
   "metadata": {
    "deletable": false,
    "nbgrader": {
     "cell_type": "code",
     "checksum": "5af968fc51a59b01a19946092cb0163f",
     "grade": true,
     "grade_id": "cell-667c9e2b5f69e053",
     "locked": false,
     "points": 0,
     "schema_version": 3,
     "solution": true,
     "task": false
    },
    "tags": []
   },
   "outputs": [
    {
     "data": {
      "text/plain": [
       "<Axes: xlabel='Wintersemester'>"
      ]
     },
     "execution_count": 90,
     "metadata": {},
     "output_type": "execute_result"
    },
    {
     "data": {
      "image/png": "[encoded data removed]",
      "text/plain": [
       "<Figure size 640x480 with 1 Axes>"
      ]
     },
     "metadata": {},
     "output_type": "display_data"
    }
   ],
   "source": [
    "fig, axis = plt.subplots()\n",
    "\n",
    "(\n",
    "    df_s\n",
    "    .pivot_table(index='Wintersemester',\n",
    "                     columns=['nationality', 'gender'],\n",
    "                     values='count',\n",
    "                     aggfunc=np.sum)\n",
    "    \n",
    "    .plot.bar(\n",
    "          stacked=True,\n",
    "          ax=axis\n",
    "          )\n",
    "                     \n",
    ")"
   ]
  },
  {
   "attachments": {},
   "cell_type": "markdown",
   "id": "d7adb421-ebb0-4088-980e-b792da093bf5",
   "metadata": {},
   "source": [
    "### `(A)` Aggregation"
   ]
  },
  {
   "attachments": {},
   "cell_type": "markdown",
   "id": "53008bb8-e4bc-4aec-bd01-42dd93392909",
   "metadata": {},
   "source": [
    "What is total the percentage of female students in each  year?"
   ]
  },
  {
   "cell_type": "code",
   "execution_count": 91,
   "id": "01607e0f-f0cd-4726-b38a-dc1cb5717fb3",
   "metadata": {
    "deletable": false,
    "nbgrader": {
     "cell_type": "code",
     "checksum": "e68eacb65851bc3aac07e4c2c724ba37",
     "grade": true,
     "grade_id": "cell-e571262ecaa30a59",
     "locked": false,
     "points": 0,
     "schema_version": 3,
     "solution": true,
     "task": false
    },
    "tags": []
   },
   "outputs": [
    {
     "data": {
      "text/plain": [
       "0.4978854301849176"
      ]
     },
     "execution_count": 91,
     "metadata": {},
     "output_type": "execute_result"
    }
   ],
   "source": [
    "(\n",
    "    df_s.query(\"gender == 'female'\")\n",
    "    ['count']\n",
    "    .sum()\n",
    ") / (\n",
    "    df_s['count'].sum()\n",
    ")"
   ]
  },
  {
   "cell_type": "code",
   "execution_count": 92,
   "id": "2f5776be-28ff-4797-be88-502e39904e9b",
   "metadata": {
    "deletable": false,
    "nbgrader": {
     "cell_type": "code",
     "checksum": "156f0a941633d1d391fb7b753e47211d",
     "grade": true,
     "grade_id": "cell-a7c8ab4c6f5e86e2",
     "locked": false,
     "points": 0,
     "schema_version": 3,
     "solution": true,
     "task": false
    },
    "tags": []
   },
   "outputs": [
    {
     "data": {
      "text/html": [
       "<div>\n",
       "<style scoped>\n",
       "    .dataframe tbody tr th:only-of-type {\n",
       "        vertical-align: middle;\n",
       "    }\n",
       "\n",
       "    .dataframe tbody tr th {\n",
       "        vertical-align: top;\n",
       "    }\n",
       "\n",
       "    .dataframe thead tr th {\n",
       "        text-align: left;\n",
       "    }\n",
       "\n",
       "    .dataframe thead tr:last-of-type th {\n",
       "        text-align: right;\n",
       "    }\n",
       "</style>\n",
       "<table border=\"1\" class=\"dataframe\">\n",
       "  <thead>\n",
       "    <tr>\n",
       "      <th></th>\n",
       "      <th colspan=\"2\" halign=\"left\">count</th>\n",
       "      <th>percent_female</th>\n",
       "    </tr>\n",
       "    <tr>\n",
       "      <th>gender</th>\n",
       "      <th>female</th>\n",
       "      <th>male</th>\n",
       "      <th></th>\n",
       "    </tr>\n",
       "    <tr>\n",
       "      <th>Wintersemester</th>\n",
       "      <th></th>\n",
       "      <th></th>\n",
       "      <th></th>\n",
       "    </tr>\n",
       "  </thead>\n",
       "  <tbody>\n",
       "    <tr>\n",
       "      <th>WS 1998/99</th>\n",
       "      <td>112050</td>\n",
       "      <td>118620</td>\n",
       "      <td>48.575888</td>\n",
       "    </tr>\n",
       "    <tr>\n",
       "      <th>WS 1999/00</th>\n",
       "      <td>121444</td>\n",
       "      <td>124874</td>\n",
       "      <td>49.303746</td>\n",
       "    </tr>\n",
       "    <tr>\n",
       "      <th>WS 2000/01</th>\n",
       "      <td>130852</td>\n",
       "      <td>136443</td>\n",
       "      <td>48.954152</td>\n",
       "    </tr>\n",
       "    <tr>\n",
       "      <th>WS 2001/02</th>\n",
       "      <td>143085</td>\n",
       "      <td>149471</td>\n",
       "      <td>48.908585</td>\n",
       "    </tr>\n",
       "    <tr>\n",
       "      <th>WS 2002/03</th>\n",
       "      <td>151569</td>\n",
       "      <td>148080</td>\n",
       "      <td>50.582181</td>\n",
       "    </tr>\n",
       "    <tr>\n",
       "      <th>WS 2003/04</th>\n",
       "      <td>151516</td>\n",
       "      <td>165140</td>\n",
       "      <td>47.848770</td>\n",
       "    </tr>\n",
       "    <tr>\n",
       "      <th>WS 2004/05</th>\n",
       "      <td>146132</td>\n",
       "      <td>154661</td>\n",
       "      <td>48.582248</td>\n",
       "    </tr>\n",
       "    <tr>\n",
       "      <th>WS 2005/06</th>\n",
       "      <td>146201</td>\n",
       "      <td>153638</td>\n",
       "      <td>48.759834</td>\n",
       "    </tr>\n",
       "    <tr>\n",
       "      <th>WS 2006/07</th>\n",
       "      <td>145874</td>\n",
       "      <td>149072</td>\n",
       "      <td>49.457867</td>\n",
       "    </tr>\n",
       "    <tr>\n",
       "      <th>WS 2007/08</th>\n",
       "      <td>156282</td>\n",
       "      <td>157258</td>\n",
       "      <td>49.844358</td>\n",
       "    </tr>\n",
       "    <tr>\n",
       "      <th>WS 2008/09</th>\n",
       "      <td>171325</td>\n",
       "      <td>174300</td>\n",
       "      <td>49.569620</td>\n",
       "    </tr>\n",
       "    <tr>\n",
       "      <th>WS 2009/10</th>\n",
       "      <td>184076</td>\n",
       "      <td>185197</td>\n",
       "      <td>49.848215</td>\n",
       "    </tr>\n",
       "    <tr>\n",
       "      <th>WS 2010/11</th>\n",
       "      <td>191330</td>\n",
       "      <td>195591</td>\n",
       "      <td>49.449371</td>\n",
       "    </tr>\n",
       "    <tr>\n",
       "      <th>WS 2011/12</th>\n",
       "      <td>207614</td>\n",
       "      <td>237706</td>\n",
       "      <td>46.621306</td>\n",
       "    </tr>\n",
       "    <tr>\n",
       "      <th>WS 2012/13</th>\n",
       "      <td>210736</td>\n",
       "      <td>217089</td>\n",
       "      <td>49.257524</td>\n",
       "    </tr>\n",
       "    <tr>\n",
       "      <th>WS 2013/14</th>\n",
       "      <td>217143</td>\n",
       "      <td>221770</td>\n",
       "      <td>49.472902</td>\n",
       "    </tr>\n",
       "    <tr>\n",
       "      <th>WS 2014/15</th>\n",
       "      <td>215191</td>\n",
       "      <td>217089</td>\n",
       "      <td>49.780466</td>\n",
       "    </tr>\n",
       "    <tr>\n",
       "      <th>WS 2015/16</th>\n",
       "      <td>216082</td>\n",
       "      <td>216507</td>\n",
       "      <td>49.950877</td>\n",
       "    </tr>\n",
       "    <tr>\n",
       "      <th>WS 2016/17</th>\n",
       "      <td>218959</td>\n",
       "      <td>216468</td>\n",
       "      <td>50.286041</td>\n",
       "    </tr>\n",
       "    <tr>\n",
       "      <th>WS 2017/18</th>\n",
       "      <td>221737</td>\n",
       "      <td>216000</td>\n",
       "      <td>50.655302</td>\n",
       "    </tr>\n",
       "    <tr>\n",
       "      <th>WS 2018/19</th>\n",
       "      <td>223049</td>\n",
       "      <td>212682</td>\n",
       "      <td>51.189610</td>\n",
       "    </tr>\n",
       "    <tr>\n",
       "      <th>WS 2019/20</th>\n",
       "      <td>221416</td>\n",
       "      <td>207633</td>\n",
       "      <td>51.606227</td>\n",
       "    </tr>\n",
       "    <tr>\n",
       "      <th>WS 2020/21</th>\n",
       "      <td>218783</td>\n",
       "      <td>199914</td>\n",
       "      <td>52.253300</td>\n",
       "    </tr>\n",
       "    <tr>\n",
       "      <th>WS 2021/22</th>\n",
       "      <td>205918</td>\n",
       "      <td>189927</td>\n",
       "      <td>52.019856</td>\n",
       "    </tr>\n",
       "  </tbody>\n",
       "</table>\n",
       "</div>"
      ],
      "text/plain": [
       "                 count         percent_female\n",
       "gender          female    male               \n",
       "Wintersemester                               \n",
       "WS 1998/99      112050  118620      48.575888\n",
       "WS 1999/00      121444  124874      49.303746\n",
       "WS 2000/01      130852  136443      48.954152\n",
       "WS 2001/02      143085  149471      48.908585\n",
       "WS 2002/03      151569  148080      50.582181\n",
       "WS 2003/04      151516  165140      47.848770\n",
       "WS 2004/05      146132  154661      48.582248\n",
       "WS 2005/06      146201  153638      48.759834\n",
       "WS 2006/07      145874  149072      49.457867\n",
       "WS 2007/08      156282  157258      49.844358\n",
       "WS 2008/09      171325  174300      49.569620\n",
       "WS 2009/10      184076  185197      49.848215\n",
       "WS 2010/11      191330  195591      49.449371\n",
       "WS 2011/12      207614  237706      46.621306\n",
       "WS 2012/13      210736  217089      49.257524\n",
       "WS 2013/14      217143  221770      49.472902\n",
       "WS 2014/15      215191  217089      49.780466\n",
       "WS 2015/16      216082  216507      49.950877\n",
       "WS 2016/17      218959  216468      50.286041\n",
       "WS 2017/18      221737  216000      50.655302\n",
       "WS 2018/19      223049  212682      51.189610\n",
       "WS 2019/20      221416  207633      51.606227\n",
       "WS 2020/21      218783  199914      52.253300\n",
       "WS 2021/22      205918  189927      52.019856"
      ]
     },
     "execution_count": 92,
     "metadata": {},
     "output_type": "execute_result"
    }
   ],
   "source": [
    "(\n",
    "    df_s.groupby(['Wintersemester', 'gender'])\n",
    "    .sum(numeric_only=True)\n",
    "    .unstack()\n",
    "    .assign(percent_female=lambda df_: df_[('count', 'female')] * 100 / df_.sum(axis=1))\n",
    ")"
   ]
  },
  {
   "attachments": {},
   "cell_type": "markdown",
   "id": "763330ba-88d6-429b-9cbf-a22e80c5d8ef",
   "metadata": {},
   "source": [
    "Which german state has the largest / least count of female students?"
   ]
  },
  {
   "cell_type": "code",
   "execution_count": 97,
   "id": "cb2de3fc-5d58-47aa-9f30-c80965c3e054",
   "metadata": {
    "deletable": false,
    "nbgrader": {
     "cell_type": "code",
     "checksum": "34bbadb4e9f10d34ecd6a26740e54ea5",
     "grade": true,
     "grade_id": "cell-9935d2775ad70ae6",
     "locked": false,
     "points": 0,
     "schema_version": 3,
     "solution": true,
     "task": false
    }
   },
   "outputs": [
    {
     "data": {
      "text/plain": [
       "('Saarland', 'Nordrhein-Westfalen')"
      ]
     },
     "execution_count": 97,
     "metadata": {},
     "output_type": "execute_result"
    }
   ],
   "source": [
    "df_agg_female = (\n",
    "    df_s\n",
    "    .pivot_table(\n",
    "        index='Bundesland',\n",
    "        columns=['gender'],\n",
    "        values=['count'],\n",
    "        aggfunc=np.sum\n",
    "    )\n",
    "    [('count', 'female')]\n",
    ")\n",
    "\n",
    "df_agg_female\n",
    "\n",
    "df_agg_female.idxmin(), df_agg_female.idxmax()"
   ]
  },
  {
   "cell_type": "code",
   "execution_count": null,
   "id": "1fc49654-6397-4c22-9939-fd23d44fd3fc",
   "metadata": {
    "deletable": false,
    "nbgrader": {
     "cell_type": "code",
     "checksum": "e986e90ce645b4281ac521fcac502541",
     "grade": true,
     "grade_id": "cell-25ab452f2e1e8b53",
     "locked": false,
     "points": 0,
     "schema_version": 3,
     "solution": true,
     "task": false
    }
   },
   "outputs": [
    {
     "data": {
      "text/plain": [
       "Ellipsis"
      ]
     },
     "execution_count": 47,
     "metadata": {},
     "output_type": "execute_result"
    }
   ],
   "source": [
    "..."
   ]
  }
 ],
 "metadata": {
  "kernelspec": {
   "display_name": "Python 3 (ipykernel)",
   "language": "python",
   "name": "python3"
  },
  "language_info": {
   "codemirror_mode": {
    "name": "ipython",
    "version": 3
   },
   "file_extension": ".py",
   "mimetype": "text/x-python",
   "name": "python",
   "nbconvert_exporter": "python",
   "pygments_lexer": "ipython3",
   "version": "3.10.10"
  }
 },
 "nbformat": 4,
 "nbformat_minor": 5
}
