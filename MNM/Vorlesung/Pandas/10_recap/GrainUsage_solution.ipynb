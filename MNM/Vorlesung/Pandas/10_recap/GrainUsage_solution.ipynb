{
 "cells": [
  {
   "cell_type": "code",
   "execution_count": 1,
   "id": "edeef676-50b9-418f-a789-dc30eeccb89f",
   "metadata": {
    "deletable": false,
    "editable": false,
    "nbgrader": {
     "cell_type": "code",
     "checksum": "99a935f83359ead3a480055703946ad3",
     "grade": false,
     "grade_id": "cell-03bfdb2318a0ee36",
     "locked": true,
     "schema_version": 3,
     "solution": false,
     "task": false
    },
    "tags": []
   },
   "outputs": [],
   "source": [
    "%matplotlib inline\n",
    "\n",
    "from matplotlib import pyplot as plt\n",
    "\n",
    "import numpy as np\n",
    "import pandas as pd"
   ]
  },
  {
   "attachments": {},
   "cell_type": "markdown",
   "id": "72febb01-1436-413e-a68f-7deccc3c5343",
   "metadata": {
    "deletable": false,
    "editable": false,
    "nbgrader": {
     "cell_type": "markdown",
     "checksum": "eb7d217e7a40db858d4e2c050847a7e5",
     "grade": false,
     "grade_id": "cell-cbed3d8745592a78",
     "locked": true,
     "schema_version": 3,
     "solution": false,
     "task": false
    },
    "tags": []
   },
   "source": [
    "# Dataset: Produktion und Versorgung mit Getreide in Deutschland\n",
    "\n",
    "Source: Statistisches Bundesamt \n",
    "\n",
    "License: [Data licence Germany – zero – Version 2.0](https://www.govdata.de/dl-de/zero-2-0)\n",
    "\n",
    "URL: https://open-data.ble.de/dataset/250a37d1-3ee1-4092-9f28-c54693fa4284/resource/4ccaf3b1-6eae-44eb-9455-de8679e7770c/download/versorgungsbilanz_getreide.csv\n",
    "\n",
    "URI: https://www.govdata.de/web/guest/daten/-/details/produktion-und-versorgung-mit-getreide-in-deutschland"
   ]
  },
  {
   "attachments": {},
   "cell_type": "markdown",
   "id": "e2e5c316-4631-4ba2-87eb-58ec21227445",
   "metadata": {
    "deletable": false,
    "editable": false,
    "nbgrader": {
     "cell_type": "markdown",
     "checksum": "14a9c7d48222a7b36c93d2dd2e237174",
     "grade": false,
     "grade_id": "cell-18f4696b815dee73",
     "locked": true,
     "schema_version": 3,
     "solution": false,
     "task": false
    },
    "tags": []
   },
   "source": [
    "## Information"
   ]
  },
  {
   "attachments": {},
   "cell_type": "markdown",
   "id": "62df8d3a-83cf-4559-b2ea-f92b3616e230",
   "metadata": {
    "deletable": false,
    "editable": false,
    "nbgrader": {
     "cell_type": "markdown",
     "checksum": "f9818676ca69e608044c84eff81c9f9a",
     "grade": false,
     "grade_id": "cell-7f82349eefac507c",
     "locked": true,
     "schema_version": 3,
     "solution": false,
     "task": false
    },
    "tags": []
   },
   "source": [
    "### What is contained in the dataset?\n",
    "\n",
    "The data contains information on supply balances of cereals and cereal products."
   ]
  },
  {
   "attachments": {},
   "cell_type": "markdown",
   "id": "cf138eea-5ce1-4193-b908-b51e23a57e38",
   "metadata": {
    "deletable": false,
    "editable": false,
    "nbgrader": {
     "cell_type": "markdown",
     "checksum": "b2c5441f9eeacc7e8c88882f8e748768",
     "grade": false,
     "grade_id": "cell-7f767a2d8b5e5e51",
     "locked": true,
     "schema_version": 3,
     "solution": false,
     "task": false
    },
    "tags": []
   },
   "source": [
    "### Encoding\n",
    "\n",
    "The file is encoded in *ISO-8859-1* (sometimes referred to as *Latin 1*). Refer to this [list of Python standard encoding](https://docs.python.org/3/library/codecs.html#standard-encodings)."
   ]
  },
  {
   "attachments": {},
   "cell_type": "markdown",
   "id": "0756b56a-4fd7-4b8d-ba65-e58c80291135",
   "metadata": {
    "deletable": false,
    "editable": false,
    "jp-MarkdownHeadingCollapsed": true,
    "nbgrader": {
     "cell_type": "markdown",
     "checksum": "789995bce3d0afbd62a0388a16d20bed",
     "grade": false,
     "grade_id": "cell-1fd59fdaedba7901",
     "locked": true,
     "schema_version": 3,
     "solution": false,
     "task": false
    },
    "tags": []
   },
   "source": [
    "### Format\n",
    "\n",
    "From the URL we infer that the dataset is provided as a CSV file."
   ]
  },
  {
   "attachments": {},
   "cell_type": "markdown",
   "id": "08aececb-ab57-44fc-831b-c343f91377bc",
   "metadata": {
    "deletable": false,
    "editable": false,
    "jp-MarkdownHeadingCollapsed": true,
    "nbgrader": {
     "cell_type": "markdown",
     "checksum": "cae54413d3a07789017b21b28439bb5e",
     "grade": false,
     "grade_id": "cell-1fd59fdaedba7904",
     "locked": true,
     "schema_version": 3,
     "solution": false,
     "task": false
    },
    "tags": []
   },
   "source": [
    "### File header\n",
    "\n",
    "This is the header of the CSV file:\n",
    "\n",
    "```\n",
    "Sektor;Sektorsumme;Produktgruppe;Produkt;Gehört zu;Bilanz;Jahr;Wirtschaftsjahr;Fußnote Jahr;Fußnote Vorläufig;Bilanzoberbegriff;Fußnote Bilanzoberbegriff;Erzeugung/Herstellung;Bilanzposition;Reihenfolge Bilanzposition;Wert;Zahlenwert;Fußnote Bilanzposition;Fußnote Produkt;Einheit;Ergänzung Einheit;;\n",
    "\n",
    "```"
   ]
  },
  {
   "attachments": {},
   "cell_type": "markdown",
   "id": "1ce874e4-7ade-40cd-a584-8fc37c77c2cb",
   "metadata": {
    "deletable": false,
    "editable": false,
    "nbgrader": {
     "cell_type": "markdown",
     "checksum": "9422fb23c303e6f8fc4e36434eefa39c",
     "grade": false,
     "grade_id": "cell-1fd59fdaedba7906",
     "locked": true,
     "schema_version": 3,
     "solution": false,
     "task": false
    },
    "tags": []
   },
   "source": [
    "### Columns and their meaning\n",
    "\n",
    "we only present the meaning for an excerpt of the columns\n",
    "\n",
    "|                  column name                  |          Meaning         |\n",
    "|:-----:|:------------------------:|\n",
    "| Produkt | type of grain                      |\n",
    "| Jahr  | year  |\n",
    "| Bilanzoberbegriff | general category of use |\n",
    "| Bilanzposition | exact type of usage |\n",
    "| Wert | value |\n",
    "| Einheit | unit of measurement |"
   ]
  },
  {
   "cell_type": "code",
   "execution_count": 2,
   "id": "6a987609-13b5-4046-8ae8-75442b6736dd",
   "metadata": {
    "tags": []
   },
   "outputs": [],
   "source": [
    "FILE_URL = (\n",
    "    \"https://open-data.ble.de/dataset/250a37d1-3ee1-4092-9f28-c54693fa4284/resource/\"\n",
    "    \"4ccaf3b1-6eae-44eb-9455-de8679e7770c/download/versorgungsbilanz_getreide.csv\"\n",
    ")"
   ]
  },
  {
   "attachments": {},
   "cell_type": "markdown",
   "id": "aa3cc4f8-29e7-4fbd-a62c-afe710b5281f",
   "metadata": {},
   "source": [
    "### `(A)` Import the file\n",
    "\n",
    "Download the data from the given URL and import it in a `DataFrame`. Make sure to only import columns you consider meaningful. \n",
    "\n",
    "There will be *missing values* (NaN values) in some rows. For the moment, leave them in the `DataFrame` as we will need them in the next task."
   ]
  },
  {
   "cell_type": "code",
   "execution_count": 4,
   "id": "5d57a5c6-353d-4664-b66d-71314187564a",
   "metadata": {
    "deletable": false,
    "nbgrader": {
     "cell_type": "code",
     "checksum": "caee6a332be39e4f3fb2aac88bfaca36",
     "grade": true,
     "grade_id": "cell-b6c346f74bb9c86a",
     "locked": false,
     "points": 15,
     "schema_version": 3,
     "solution": true,
     "task": false
    },
    "tags": []
   },
   "outputs": [
    {
     "data": {
      "text/html": [
       "<div>\n",
       "<style scoped>\n",
       "    .dataframe tbody tr th:only-of-type {\n",
       "        vertical-align: middle;\n",
       "    }\n",
       "\n",
       "    .dataframe tbody tr th {\n",
       "        vertical-align: top;\n",
       "    }\n",
       "\n",
       "    .dataframe thead th {\n",
       "        text-align: right;\n",
       "    }\n",
       "</style>\n",
       "<table border=\"1\" class=\"dataframe\">\n",
       "  <thead>\n",
       "    <tr style=\"text-align: right;\">\n",
       "      <th></th>\n",
       "      <th>Produkt</th>\n",
       "      <th>Jahr</th>\n",
       "      <th>Bilanzoberbegriff</th>\n",
       "      <th>Bilanzposition</th>\n",
       "      <th>Wert</th>\n",
       "      <th>Einheit</th>\n",
       "    </tr>\n",
       "  </thead>\n",
       "  <tbody>\n",
       "    <tr>\n",
       "      <th>0</th>\n",
       "      <td>Weichweizen</td>\n",
       "      <td>1991</td>\n",
       "      <td>Produktion</td>\n",
       "      <td>Verwendbare Erzeugung</td>\n",
       "      <td>16531</td>\n",
       "      <td>1 000 t</td>\n",
       "    </tr>\n",
       "    <tr>\n",
       "      <th>1</th>\n",
       "      <td>Hartweizen</td>\n",
       "      <td>1991</td>\n",
       "      <td>Produktion</td>\n",
       "      <td>Verwendbare Erzeugung</td>\n",
       "      <td>80</td>\n",
       "      <td>1 000 t</td>\n",
       "    </tr>\n",
       "    <tr>\n",
       "      <th>2</th>\n",
       "      <td>Roggen</td>\n",
       "      <td>1991</td>\n",
       "      <td>Produktion</td>\n",
       "      <td>Verwendbare Erzeugung</td>\n",
       "      <td>3370</td>\n",
       "      <td>1 000 t</td>\n",
       "    </tr>\n",
       "    <tr>\n",
       "      <th>3</th>\n",
       "      <td>Gerste</td>\n",
       "      <td>1991</td>\n",
       "      <td>Produktion</td>\n",
       "      <td>Verwendbare Erzeugung</td>\n",
       "      <td>14494</td>\n",
       "      <td>1 000 t</td>\n",
       "    </tr>\n",
       "    <tr>\n",
       "      <th>4</th>\n",
       "      <td>Hafer</td>\n",
       "      <td>1991</td>\n",
       "      <td>Produktion</td>\n",
       "      <td>Verwendbare Erzeugung</td>\n",
       "      <td>2139</td>\n",
       "      <td>1 000 t</td>\n",
       "    </tr>\n",
       "    <tr>\n",
       "      <th>...</th>\n",
       "      <td>...</td>\n",
       "      <td>...</td>\n",
       "      <td>...</td>\n",
       "      <td>...</td>\n",
       "      <td>...</td>\n",
       "      <td>...</td>\n",
       "    </tr>\n",
       "    <tr>\n",
       "      <th>4945</th>\n",
       "      <td>Gerste</td>\n",
       "      <td>2020</td>\n",
       "      <td>Detailposition</td>\n",
       "      <td>Industrielle Verwertung für Braumalz</td>\n",
       "      <td>NaN</td>\n",
       "      <td>1 000 t</td>\n",
       "    </tr>\n",
       "    <tr>\n",
       "      <th>4946</th>\n",
       "      <td>Hafer</td>\n",
       "      <td>2020</td>\n",
       "      <td>Detailposition</td>\n",
       "      <td>Industrielle Verwertung für Braumalz</td>\n",
       "      <td>NaN</td>\n",
       "      <td>1 000 t</td>\n",
       "    </tr>\n",
       "    <tr>\n",
       "      <th>4947</th>\n",
       "      <td>Triticale</td>\n",
       "      <td>2020</td>\n",
       "      <td>Detailposition</td>\n",
       "      <td>Industrielle Verwertung für Braumalz</td>\n",
       "      <td>NaN</td>\n",
       "      <td>1 000 t</td>\n",
       "    </tr>\n",
       "    <tr>\n",
       "      <th>4948</th>\n",
       "      <td>Mais</td>\n",
       "      <td>2020</td>\n",
       "      <td>Detailposition</td>\n",
       "      <td>Industrielle Verwertung für Braumalz</td>\n",
       "      <td>NaN</td>\n",
       "      <td>1 000 t</td>\n",
       "    </tr>\n",
       "    <tr>\n",
       "      <th>4949</th>\n",
       "      <td>Getreide insgesamt</td>\n",
       "      <td>2020</td>\n",
       "      <td>Detailposition</td>\n",
       "      <td>Industrielle Verwertung für Braumalz</td>\n",
       "      <td>NaN</td>\n",
       "      <td>1 000 t</td>\n",
       "    </tr>\n",
       "  </tbody>\n",
       "</table>\n",
       "<p>4950 rows × 6 columns</p>\n",
       "</div>"
      ],
      "text/plain": [
       "                 Produkt  Jahr Bilanzoberbegriff   \n",
       "0            Weichweizen  1991        Produktion  \\\n",
       "1             Hartweizen  1991        Produktion   \n",
       "2                 Roggen  1991        Produktion   \n",
       "3                 Gerste  1991        Produktion   \n",
       "4                  Hafer  1991        Produktion   \n",
       "...                  ...   ...               ...   \n",
       "4945              Gerste  2020    Detailposition   \n",
       "4946               Hafer  2020    Detailposition   \n",
       "4947           Triticale  2020    Detailposition   \n",
       "4948                Mais  2020    Detailposition   \n",
       "4949  Getreide insgesamt  2020    Detailposition   \n",
       "\n",
       "                            Bilanzposition   Wert  Einheit  \n",
       "0                    Verwendbare Erzeugung  16531  1 000 t  \n",
       "1                   Verwendbare Erzeugung      80  1 000 t  \n",
       "2                   Verwendbare Erzeugung    3370  1 000 t  \n",
       "3                   Verwendbare Erzeugung   14494  1 000 t  \n",
       "4                   Verwendbare Erzeugung    2139  1 000 t  \n",
       "...                                    ...    ...      ...  \n",
       "4945  Industrielle Verwertung für Braumalz    NaN  1 000 t  \n",
       "4946  Industrielle Verwertung für Braumalz    NaN  1 000 t  \n",
       "4947  Industrielle Verwertung für Braumalz    NaN  1 000 t  \n",
       "4948  Industrielle Verwertung für Braumalz    NaN  1 000 t  \n",
       "4949  Industrielle Verwertung für Braumalz    NaN  1 000 t  \n",
       "\n",
       "[4950 rows x 6 columns]"
      ]
     },
     "execution_count": 4,
     "metadata": {},
     "output_type": "execute_result"
    }
   ],
   "source": [
    "df = pd.read_csv(FILE_URL, sep=\";\", \n",
    "                 decimal=\",\", thousands=\".\", \n",
    "                 usecols= [\"Produkt\", \"Jahr\", \"Bilanzoberbegriff\", \"Bilanzposition\", \"Wert\", \"Einheit\"],\n",
    "                 encoding=\"latin-1\") \n",
    "\n",
    "df "
   ]
  },
  {
   "cell_type": "code",
   "execution_count": 5,
   "id": "bb3e64bf-0920-4250-b897-59467c169899",
   "metadata": {
    "tags": []
   },
   "outputs": [
    {
     "name": "stdout",
     "output_type": "stream",
     "text": [
      "<class 'pandas.core.frame.DataFrame'>\n",
      "RangeIndex: 4950 entries, 0 to 4949\n",
      "Data columns (total 6 columns):\n",
      " #   Column             Non-Null Count  Dtype \n",
      "---  ------             --------------  ----- \n",
      " 0   Produkt            4950 non-null   object\n",
      " 1   Jahr               4950 non-null   int64 \n",
      " 2   Bilanzoberbegriff  4950 non-null   object\n",
      " 3   Bilanzposition     4950 non-null   object\n",
      " 4   Wert               4055 non-null   object\n",
      " 5   Einheit            4944 non-null   object\n",
      "dtypes: int64(1), object(5)\n",
      "memory usage: 232.2+ KB\n"
     ]
    },
    {
     "data": {
      "text/html": [
       "<div>\n",
       "<style scoped>\n",
       "    .dataframe tbody tr th:only-of-type {\n",
       "        vertical-align: middle;\n",
       "    }\n",
       "\n",
       "    .dataframe tbody tr th {\n",
       "        vertical-align: top;\n",
       "    }\n",
       "\n",
       "    .dataframe thead th {\n",
       "        text-align: right;\n",
       "    }\n",
       "</style>\n",
       "<table border=\"1\" class=\"dataframe\">\n",
       "  <thead>\n",
       "    <tr style=\"text-align: right;\">\n",
       "      <th></th>\n",
       "      <th>Produkt</th>\n",
       "      <th>Jahr</th>\n",
       "      <th>Bilanzoberbegriff</th>\n",
       "      <th>Bilanzposition</th>\n",
       "      <th>Wert</th>\n",
       "      <th>Einheit</th>\n",
       "    </tr>\n",
       "  </thead>\n",
       "  <tbody>\n",
       "    <tr>\n",
       "      <th>4537</th>\n",
       "      <td>Gerste</td>\n",
       "      <td>2018</td>\n",
       "      <td>Verbrauch</td>\n",
       "      <td>Nahrungsverbrauch in Produktgewicht</td>\n",
       "      <td>13,493655</td>\n",
       "      <td>1 000 t</td>\n",
       "    </tr>\n",
       "    <tr>\n",
       "      <th>3067</th>\n",
       "      <td>Triticale</td>\n",
       "      <td>2007</td>\n",
       "      <td>Detailposition</td>\n",
       "      <td>Saatgut</td>\n",
       "      <td>55,8325866</td>\n",
       "      <td>1 000 t</td>\n",
       "    </tr>\n",
       "    <tr>\n",
       "      <th>1574</th>\n",
       "      <td>Mais</td>\n",
       "      <td>2001</td>\n",
       "      <td>Ausfuhr</td>\n",
       "      <td>Ausfuhr</td>\n",
       "      <td>1441</td>\n",
       "      <td>1 000 t</td>\n",
       "    </tr>\n",
       "    <tr>\n",
       "      <th>239</th>\n",
       "      <td>Hartweizen</td>\n",
       "      <td>1992</td>\n",
       "      <td>Detailposition</td>\n",
       "      <td>Nahrungsverbrauch Nahrungsverbrauch Ausbeute in %</td>\n",
       "      <td>71,62162162</td>\n",
       "      <td>%</td>\n",
       "    </tr>\n",
       "    <tr>\n",
       "      <th>2119</th>\n",
       "      <td>Triticale</td>\n",
       "      <td>2004</td>\n",
       "      <td>Detailposition</td>\n",
       "      <td>Futter aus Inlandserzeugung</td>\n",
       "      <td>NaN</td>\n",
       "      <td>1 000 t</td>\n",
       "    </tr>\n",
       "    <tr>\n",
       "      <th>2990</th>\n",
       "      <td>Weichweizen</td>\n",
       "      <td>2008</td>\n",
       "      <td>Detailposition</td>\n",
       "      <td>Industrielle Verwertung für Alkohol</td>\n",
       "      <td>564,782</td>\n",
       "      <td>1 000 t</td>\n",
       "    </tr>\n",
       "    <tr>\n",
       "      <th>126</th>\n",
       "      <td>Weichweizen</td>\n",
       "      <td>1991</td>\n",
       "      <td>Detailposition</td>\n",
       "      <td>Industrielle Verwertung</td>\n",
       "      <td>476</td>\n",
       "      <td>1 000 t</td>\n",
       "    </tr>\n",
       "    <tr>\n",
       "      <th>2606</th>\n",
       "      <td>Weichweizen</td>\n",
       "      <td>2010</td>\n",
       "      <td>Selbstversorgungsgrad</td>\n",
       "      <td>Selbstversorgungsgrad in %</td>\n",
       "      <td>126,9995214</td>\n",
       "      <td>%</td>\n",
       "    </tr>\n",
       "    <tr>\n",
       "      <th>1232</th>\n",
       "      <td>Weichweizen</td>\n",
       "      <td>1999</td>\n",
       "      <td>Produktion</td>\n",
       "      <td>Verwendbare Erzeugung</td>\n",
       "      <td>19258</td>\n",
       "      <td>1 000 t</td>\n",
       "    </tr>\n",
       "    <tr>\n",
       "      <th>501</th>\n",
       "      <td>Hafer</td>\n",
       "      <td>1994</td>\n",
       "      <td>Detailposition</td>\n",
       "      <td>Inlandsverwendung insgesamt</td>\n",
       "      <td>1826</td>\n",
       "      <td>1 000 t</td>\n",
       "    </tr>\n",
       "  </tbody>\n",
       "</table>\n",
       "</div>"
      ],
      "text/plain": [
       "          Produkt  Jahr      Bilanzoberbegriff   \n",
       "4537       Gerste  2018              Verbrauch  \\\n",
       "3067    Triticale  2007         Detailposition   \n",
       "1574         Mais  2001                Ausfuhr   \n",
       "239    Hartweizen  1992         Detailposition   \n",
       "2119    Triticale  2004         Detailposition   \n",
       "2990  Weichweizen  2008         Detailposition   \n",
       "126   Weichweizen  1991         Detailposition   \n",
       "2606  Weichweizen  2010  Selbstversorgungsgrad   \n",
       "1232  Weichweizen  1999             Produktion   \n",
       "501         Hafer  1994         Detailposition   \n",
       "\n",
       "                                         Bilanzposition         Wert  Einheit  \n",
       "4537                Nahrungsverbrauch in Produktgewicht    13,493655  1 000 t  \n",
       "3067                                            Saatgut   55,8325866  1 000 t  \n",
       "1574                                            Ausfuhr         1441  1 000 t  \n",
       "239   Nahrungsverbrauch Nahrungsverbrauch Ausbeute in %  71,62162162        %  \n",
       "2119                        Futter aus Inlandserzeugung          NaN  1 000 t  \n",
       "2990                Industrielle Verwertung für Alkohol      564,782  1 000 t  \n",
       "126                             Industrielle Verwertung          476  1 000 t  \n",
       "2606                         Selbstversorgungsgrad in %  126,9995214        %  \n",
       "1232                              Verwendbare Erzeugung        19258  1 000 t  \n",
       "501                         Inlandsverwendung insgesamt         1826  1 000 t  "
      ]
     },
     "execution_count": 5,
     "metadata": {},
     "output_type": "execute_result"
    }
   ],
   "source": [
    "df.head()\n",
    "df.tail()\n",
    "df.info()\n",
    "df.sample(10)"
   ]
  },
  {
   "attachments": {},
   "cell_type": "markdown",
   "id": "c8b200df-4489-4c17-badd-4ade3db36dac",
   "metadata": {
    "tags": []
   },
   "source": [
    "### `(A)` Missing values"
   ]
  },
  {
   "attachments": {},
   "cell_type": "markdown",
   "id": "65f7a5f9-c4a7-4894-8dd0-89f010da7c9e",
   "metadata": {},
   "source": [
    "* Determine the number of missing values (`NaN`s) for each column."
   ]
  },
  {
   "cell_type": "code",
   "execution_count": null,
   "id": "3c31119f-e9a3-4ef4-b32e-365b1e4ff294",
   "metadata": {
    "deletable": false,
    "nbgrader": {
     "cell_type": "code",
     "checksum": "00f851775c589a79bf454c9d5d61005e",
     "grade": true,
     "grade_id": "cell-edf520a53dac6229",
     "locked": false,
     "points": 0,
     "schema_version": 3,
     "solution": true,
     "task": false
    },
    "tags": []
   },
   "outputs": [],
   "source": [
    "..."
   ]
  },
  {
   "attachments": {},
   "cell_type": "markdown",
   "id": "d33d682b-ee46-4ffc-8fe3-7de77cbb468a",
   "metadata": {},
   "source": [
    "* How many missing values are there in each year? Make a suitable visualisation."
   ]
  },
  {
   "cell_type": "code",
   "execution_count": null,
   "id": "634b3d4b-d4b6-4c13-86a3-4459a5f30cf2",
   "metadata": {
    "deletable": false,
    "nbgrader": {
     "cell_type": "code",
     "checksum": "1a52ed1ec26d015671d4f6cfdcd48a48",
     "grade": true,
     "grade_id": "cell-216b037839560eb3",
     "locked": false,
     "points": 0,
     "schema_version": 3,
     "solution": true,
     "task": false
    },
    "tags": []
   },
   "outputs": [],
   "source": [
    "..."
   ]
  },
  {
   "attachments": {},
   "cell_type": "markdown",
   "id": "d98c8928-c8b7-4b90-9d77-5a8b05521587",
   "metadata": {},
   "source": [
    "### `(A)` Grain exports\n",
    "\n",
    "What is the amount of *exported* grain per year? Obtain this information for all types of grains. Make a suitable visualisation of the data."
   ]
  },
  {
   "cell_type": "code",
   "execution_count": null,
   "id": "83f16aa9-b6d7-470f-b42f-aaa9ab4ad82f",
   "metadata": {
    "deletable": false,
    "nbgrader": {
     "cell_type": "code",
     "checksum": "fd58599dc4448d06e8cf4c5d9168d065",
     "grade": true,
     "grade_id": "cell-cd120a771f295c74",
     "locked": false,
     "points": 0,
     "schema_version": 3,
     "solution": true,
     "task": false
    },
    "tags": []
   },
   "outputs": [],
   "source": [
    "..."
   ]
  },
  {
   "attachments": {},
   "cell_type": "markdown",
   "id": "983dc853-94df-4369-b1bf-5adc4e6cf965",
   "metadata": {},
   "source": [
    "### `(A)` Grain Usage\n",
    "\n",
    "Consider the following different categories for grain usage (these are all entries of the `Bilanzposition` column in the dataframe):\n",
    "\n",
    "* `'Nahrungsverbrauch in Produktgewicht'`\n",
    "* `'Futter'`\n",
    "* `'Industrielle Verwertung'`\n",
    "* `'Saatgut'`\n",
    "* `'Ausfuhr'`\n",
    "\n",
    "What is the amount (in tons) for each usage type per year? Make a suitable visualisation."
   ]
  },
  {
   "cell_type": "code",
   "execution_count": null,
   "id": "ef95888e-7339-488b-bf12-bb599dece642",
   "metadata": {},
   "outputs": [],
   "source": [
    "categories = [\n",
    "    'Nahrungsverbrauch in Produktgewicht',\n",
    "    'Futter',\n",
    "    'Industrielle Verwertung',\n",
    "    'Saatgut',\n",
    "    'Ausfuhr',\n",
    "]"
   ]
  },
  {
   "cell_type": "code",
   "execution_count": null,
   "id": "2b390ae9-bd2a-479d-b416-90e15755ae51",
   "metadata": {
    "deletable": false,
    "nbgrader": {
     "cell_type": "code",
     "checksum": "340a99c4618fb1021ffc18ae44920b24",
     "grade": true,
     "grade_id": "cell-aaacff6f023cdc90",
     "locked": false,
     "points": 0,
     "schema_version": 3,
     "solution": true,
     "task": false
    },
    "tags": []
   },
   "outputs": [],
   "source": [
    "..."
   ]
  }
 ],
 "metadata": {
  "kernelspec": {
   "display_name": "Python 3 (ipykernel)",
   "language": "python",
   "name": "python3"
  },
  "language_info": {
   "codemirror_mode": {
    "name": "ipython",
    "version": 3
   },
   "file_extension": ".py",
   "mimetype": "text/x-python",
   "name": "python",
   "nbconvert_exporter": "python",
   "pygments_lexer": "ipython3",
   "version": "3.10.10"
  }
 },
 "nbformat": 4,
 "nbformat_minor": 5
}
