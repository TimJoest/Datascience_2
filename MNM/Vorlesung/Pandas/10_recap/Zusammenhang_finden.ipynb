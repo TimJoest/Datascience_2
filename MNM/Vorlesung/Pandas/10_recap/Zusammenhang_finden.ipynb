{
 "cells": [
  {
   "cell_type": "markdown",
   "id": "d9ffb8d5",
   "metadata": {
    "deletable": false,
    "editable": false,
    "nbgrader": {
     "cell_type": "markdown",
     "checksum": "66a31b608e710ebd249c88374ba4c222",
     "grade": false,
     "grade_id": "cell-93ae656d6c48036b",
     "locked": true,
     "schema_version": 3,
     "solution": false,
     "task": false
    }
   },
   "source": [
    "## Funktionalen Zusammenhang finden\n",
    "\n",
    "Eine Probe eines neuartigen Materials \"Unobtainiumoxid\" wird in einer Vakuumkammer erhitzt. Dabei werden ihre thermischen Eigenschaften über einen weiten Temperaturbereich gemessen. Für verschiedene Temperaturen $T$ wird die thermische Leistung $P$ (Energieabgabe pro Zeit) des Materials aufgezeichnet.\n",
    "\n",
    "Die Messpunkte finden Sie in der `pandas.Series` namens `thermal`. Der Index bezeichnet die Temperatur $T$ der Probe in Kelvin ($\\text{K}$), die Werte die thermische Leistung $P$ in Watt ($\\text{W}$). Beide Messgrößen sind mit einem (unbekannten) Fehler behaftet."
   ]
  },
  {
   "cell_type": "code",
   "execution_count": null,
   "id": "642a9f3a",
   "metadata": {
    "deletable": false,
    "editable": false,
    "nbgrader": {
     "cell_type": "code",
     "checksum": "32359de1059aa9acc56b40487e9f9bac",
     "grade": false,
     "grade_id": "cell-f8390493668f0575",
     "locked": true,
     "schema_version": 3,
     "solution": false,
     "task": false
    },
    "tags": []
   },
   "outputs": [],
   "source": [
    "import numpy as np\n",
    "import pandas as pd\n",
    "from matplotlib import pyplot as plt\n",
    "\n",
    "%matplotlib inline"
   ]
  },
  {
   "cell_type": "code",
   "execution_count": null,
   "id": "bfbc405b",
   "metadata": {
    "deletable": false,
    "editable": false,
    "nbgrader": {
     "cell_type": "code",
     "checksum": "1fc074f029071c41472069538726648d",
     "grade": false,
     "grade_id": "cell-e603322e8765e835",
     "locked": true,
     "schema_version": 3,
     "solution": false,
     "task": false
    },
    "tags": []
   },
   "outputs": [],
   "source": [
    "thermal = pd.read_csv('data/thermal.csv', index_col=0).squeeze()"
   ]
  },
  {
   "cell_type": "markdown",
   "id": "d54dcd52",
   "metadata": {
    "deletable": false,
    "editable": false,
    "nbgrader": {
     "cell_type": "markdown",
     "checksum": "8679540db25216d75b18eb9d1c7479f5",
     "grade": false,
     "grade_id": "cell-01773e2d4777811b",
     "locked": true,
     "schema_version": 3,
     "solution": false,
     "task": false
    }
   },
   "source": [
    "### Grafische Darstellung\n",
    "Stellen Sie die Messwerte grafisch dar. Nutzen Sie eine sinnvolle Darstellung mit Titel, Achsenbeschriftungen, Achsenskalierung und ggf. Legende."
   ]
  },
  {
   "cell_type": "code",
   "execution_count": null,
   "id": "1e1383ea",
   "metadata": {
    "deletable": false,
    "nbgrader": {
     "cell_type": "code",
     "checksum": "ec15d61a72b3c8f8c5e274159291f165",
     "grade": true,
     "grade_id": "cell-8d7958ecda80b64a",
     "locked": false,
     "points": 4,
     "schema_version": 3,
     "solution": true,
     "task": false
    },
    "tags": []
   },
   "outputs": [],
   "source": [
    "..."
   ]
  },
  {
   "cell_type": "markdown",
   "id": "b8195c9c",
   "metadata": {
    "deletable": false,
    "editable": false,
    "nbgrader": {
     "cell_type": "markdown",
     "checksum": "dd84178bd74864290d3994955e2edf10",
     "grade": false,
     "grade_id": "cell-6cf33fa0faf1c20e",
     "locked": true,
     "schema_version": 3,
     "solution": false,
     "task": false
    }
   },
   "source": [
    "### Funktionaler Zusammenhang\n",
    "Bestimmen Sie aus Ihrem Graphen: Welcher *funktionale Zusammenhang* besteht zwischen Temperatur der Probe und Leistungsabgabe\n",
    "  * bei \"geringer\" Temperatur?\n",
    "  * bei \"hoher\" Temperatur?\n",
    "  \n",
    "Sie müssen keine Vorfaktoren bestimmen. Es reicht, wenn Sie feststellen, ob die Leistungsabgabe mit steigender Temperatur linear, quadratisch, logarithmisch, exponentiell, oder auf sonstige Weise zunimmt."
   ]
  },
  {
   "cell_type": "code",
   "execution_count": null,
   "id": "26c6ffc2",
   "metadata": {
    "deletable": false,
    "nbgrader": {
     "cell_type": "code",
     "checksum": "9807d25d746f04dac5e8f764657fd710",
     "grade": true,
     "grade_id": "cell-35c3cf7ca02cda34",
     "locked": false,
     "points": 6,
     "schema_version": 3,
     "solution": true,
     "task": false
    },
    "tags": []
   },
   "outputs": [],
   "source": [
    "..."
   ]
  }
 ],
 "metadata": {
  "kernelspec": {
   "display_name": "Python 3 (ipykernel)",
   "language": "python",
   "name": "python3"
  },
  "language_info": {
   "codemirror_mode": {
    "name": "ipython",
    "version": 3
   },
   "file_extension": ".py",
   "mimetype": "text/x-python",
   "name": "python",
   "nbconvert_exporter": "python",
   "pygments_lexer": "ipython3",
   "version": "3.10.11"
  }
 },
 "nbformat": 4,
 "nbformat_minor": 5
}
