{
 "cells": [
  {
   "cell_type": "markdown",
   "metadata": {},
   "source": [
    "# Pandas and Matplotlib"
   ]
  },
  {
   "cell_type": "markdown",
   "metadata": {
    "slideshow": {
     "slide_type": "slide"
    }
   },
   "source": [
    "## 1 Pandas \n",
    "\n",
    "## A Python data analysis library and data manipulation tool\n",
    "- essential Python library for data analysis\n",
    "\n",
    "- a \"wrapper\" around numpy\n",
    "    - basic knowledge of numpy is required for this course\n",
    "    - numpy provides efficiency \"under the hood\"\n",
    "    - pandas provides lots of ready-made functions for analyzing and plotting data\n",
    "\n",
    "- \"Excel inside of Python\"\n",
    "\n",
    "- provides its own data structures\n",
    "    - `Series` and `DataFrame`s have numerous methods to work on data\n",
    "    - no need for imperative programming!"
   ]
  },
  {
   "cell_type": "code",
   "execution_count": 1,
   "metadata": {
    "slideshow": {
     "slide_type": "subslide"
    }
   },
   "outputs": [
    {
     "data": {
      "text/plain": [
       "\"pd.__version__='2.0.0', np.__version__='1.24.2'\""
      ]
     },
     "execution_count": 1,
     "metadata": {},
     "output_type": "execute_result"
    }
   ],
   "source": [
    "# Required packages\n",
    "import numpy as np\n",
    "import pandas as pd\n",
    "import matplotlib as mpl\n",
    "import matplotlib.pyplot as plt\n",
    "# # from matplotlib import pyplot as plt # also possible\n",
    "\n",
    "# only in jupyter notebooks: Embed plots inside Jupyter notebooks\n",
    "%matplotlib inline\n",
    "\n",
    "f'{pd.__version__=}, {np.__version__=}'"
   ]
  },
  {
   "cell_type": "markdown",
   "metadata": {
    "slideshow": {
     "slide_type": "-"
    }
   },
   "source": [
    "### 1.1 Pandas `Series` Objects"
   ]
  },
  {
   "cell_type": "markdown",
   "metadata": {
    "slideshow": {
     "slide_type": "slide"
    }
   },
   "source": [
    "- essentially `np.ndarray`s with generalized indexing capabilities\n",
    "- have an `index`, `values`, a `size`, and a `dtype`\n",
    "\n",
    "- this notebook deals with the absolute basics\n",
    "    - series construction\n",
    "    - indexing series\n",
    "    - setting values, setting the index\n",
    "    - operations on series\n",
    "    - boolean masks"
   ]
  },
  {
   "cell_type": "code",
   "execution_count": 2,
   "metadata": {
    "slideshow": {
     "slide_type": "fragment"
    }
   },
   "outputs": [
    {
     "data": {
      "text/plain": [
       "pandas.core.series.Series"
      ]
     },
     "execution_count": 2,
     "metadata": {},
     "output_type": "execute_result"
    }
   ],
   "source": [
    "pd.Series"
   ]
  },
  {
   "cell_type": "markdown",
   "metadata": {
    "slideshow": {
     "slide_type": "slide"
    }
   },
   "source": [
    "#### 1.1.1 Constructing `Series` from Python objects\n",
    "- may use `list`s, `tuple`s, or `dicts`\n",
    "- can contain different datatypes"
   ]
  },
  {
   "cell_type": "code",
   "execution_count": 3,
   "metadata": {
    "slideshow": {
     "slide_type": "fragment"
    }
   },
   "outputs": [
    {
     "data": {
      "text/plain": [
       "pandas.core.series.Series"
      ]
     },
     "execution_count": 3,
     "metadata": {},
     "output_type": "execute_result"
    }
   ],
   "source": [
    "integers = pd.Series([10, 30, 195, 2021])\n",
    "type(integers)"
   ]
  },
  {
   "cell_type": "code",
   "execution_count": 4,
   "metadata": {
    "slideshow": {
     "slide_type": "subslide"
    }
   },
   "outputs": [
    {
     "data": {
      "text/plain": [
       "0      10\n",
       "1      30\n",
       "2     195\n",
       "3    2021\n",
       "dtype: int64"
      ]
     },
     "execution_count": 4,
     "metadata": {},
     "output_type": "execute_result"
    }
   ],
   "source": [
    "integers"
   ]
  },
  {
   "cell_type": "code",
   "execution_count": 5,
   "metadata": {
    "slideshow": {
     "slide_type": "fragment"
    }
   },
   "outputs": [
    {
     "data": {
      "text/plain": [
       "(array([  10,   30,  195, 2021]),\n",
       " RangeIndex(start=0, stop=4, step=1),\n",
       " dtype('int64'),\n",
       " 4)"
      ]
     },
     "execution_count": 5,
     "metadata": {},
     "output_type": "execute_result"
    }
   ],
   "source": [
    "integers.values, integers.index, integers.dtype, integers.size"
   ]
  },
  {
   "cell_type": "code",
   "execution_count": 6,
   "metadata": {
    "slideshow": {
     "slide_type": "fragment"
    }
   },
   "outputs": [
    {
     "data": {
      "text/plain": [
       "0    0.1\n",
       "1    0.2\n",
       "2    0.3\n",
       "dtype: float64"
      ]
     },
     "execution_count": 6,
     "metadata": {},
     "output_type": "execute_result"
    }
   ],
   "source": [
    "floats = pd.Series((0.1, 0.2, 0.3))\n",
    "floats"
   ]
  },
  {
   "cell_type": "code",
   "execution_count": 7,
   "metadata": {
    "slideshow": {
     "slide_type": "fragment"
    }
   },
   "outputs": [
    {
     "data": {
      "text/plain": [
       "a    97\n",
       "b    98\n",
       "c    99\n",
       "dtype: int64"
      ]
     },
     "execution_count": 7,
     "metadata": {},
     "output_type": "execute_result"
    }
   ],
   "source": [
    "ordinal_values = pd.Series({'a': 97, 'b': 98, 'c': 99})\n",
    "ordinal_values"
   ]
  },
  {
   "cell_type": "code",
   "execution_count": 8,
   "metadata": {},
   "outputs": [
    {
     "data": {
      "text/plain": [
       "(array([97, 98, 99]), Index(['a', 'b', 'c'], dtype='object'))"
      ]
     },
     "execution_count": 8,
     "metadata": {},
     "output_type": "execute_result"
    }
   ],
   "source": [
    "ordinal_values.values, ordinal_values.index"
   ]
  },
  {
   "cell_type": "markdown",
   "metadata": {},
   "source": [
    "`set` don't work:"
   ]
  },
  {
   "cell_type": "code",
   "execution_count": 9,
   "metadata": {
    "slideshow": {
     "slide_type": "subslide"
    }
   },
   "outputs": [
    {
     "ename": "TypeError",
     "evalue": "'set' type is unordered",
     "output_type": "error",
     "traceback": [
      "\u001b[0;31m---------------------------------------------------------------------------\u001b[0m",
      "\u001b[0;31mTypeError\u001b[0m                                 Traceback (most recent call last)",
      "Cell \u001b[0;32mIn[9], line 1\u001b[0m\n\u001b[0;32m----> 1\u001b[0m unordered_series \u001b[39m=\u001b[39m pd\u001b[39m.\u001b[39;49mSeries({\u001b[39m1\u001b[39;49m, \u001b[39m2\u001b[39;49m, \u001b[39m3\u001b[39;49m})\n",
      "File \u001b[0;32m~/.local/lib/python3.10/site-packages/pandas/core/series.py:509\u001b[0m, in \u001b[0;36mSeries.__init__\u001b[0;34m(self, data, index, dtype, name, copy, fastpath)\u001b[0m\n\u001b[1;32m    507\u001b[0m         data \u001b[39m=\u001b[39m data\u001b[39m.\u001b[39mcopy()\n\u001b[1;32m    508\u001b[0m \u001b[39melse\u001b[39;00m:\n\u001b[0;32m--> 509\u001b[0m     data \u001b[39m=\u001b[39m sanitize_array(data, index, dtype, copy)\n\u001b[1;32m    511\u001b[0m     manager \u001b[39m=\u001b[39m get_option(\u001b[39m\"\u001b[39m\u001b[39mmode.data_manager\u001b[39m\u001b[39m\"\u001b[39m)\n\u001b[1;32m    512\u001b[0m     \u001b[39mif\u001b[39;00m manager \u001b[39m==\u001b[39m \u001b[39m\"\u001b[39m\u001b[39mblock\u001b[39m\u001b[39m\"\u001b[39m:\n",
      "File \u001b[0;32m~/.local/lib/python3.10/site-packages/pandas/core/construction.py:590\u001b[0m, in \u001b[0;36msanitize_array\u001b[0;34m(data, index, dtype, copy, allow_2d)\u001b[0m\n\u001b[1;32m    581\u001b[0m     \u001b[39mreturn\u001b[39;00m sanitize_array(\n\u001b[1;32m    582\u001b[0m         data,\n\u001b[1;32m    583\u001b[0m         index\u001b[39m=\u001b[39mindex,\n\u001b[0;32m   (...)\u001b[0m\n\u001b[1;32m    586\u001b[0m         allow_2d\u001b[39m=\u001b[39mallow_2d,\n\u001b[1;32m    587\u001b[0m     )\n\u001b[1;32m    589\u001b[0m \u001b[39melse\u001b[39;00m:\n\u001b[0;32m--> 590\u001b[0m     _sanitize_non_ordered(data)\n\u001b[1;32m    591\u001b[0m     \u001b[39m# materialize e.g. generators, convert e.g. tuples, abc.ValueView\u001b[39;00m\n\u001b[1;32m    592\u001b[0m     data \u001b[39m=\u001b[39m \u001b[39mlist\u001b[39m(data)\n",
      "File \u001b[0;32m~/.local/lib/python3.10/site-packages/pandas/core/construction.py:641\u001b[0m, in \u001b[0;36m_sanitize_non_ordered\u001b[0;34m(data)\u001b[0m\n\u001b[1;32m    637\u001b[0m \u001b[39m\u001b[39m\u001b[39m\"\"\"\u001b[39;00m\n\u001b[1;32m    638\u001b[0m \u001b[39mRaise only for unordered sets, e.g., not for dict_keys\u001b[39;00m\n\u001b[1;32m    639\u001b[0m \u001b[39m\"\"\"\u001b[39;00m\n\u001b[1;32m    640\u001b[0m \u001b[39mif\u001b[39;00m \u001b[39misinstance\u001b[39m(data, (\u001b[39mset\u001b[39m, \u001b[39mfrozenset\u001b[39m)):\n\u001b[0;32m--> 641\u001b[0m     \u001b[39mraise\u001b[39;00m \u001b[39mTypeError\u001b[39;00m(\u001b[39mf\u001b[39m\u001b[39m\"\u001b[39m\u001b[39m'\u001b[39m\u001b[39m{\u001b[39;00m\u001b[39mtype\u001b[39m(data)\u001b[39m.\u001b[39m\u001b[39m__name__\u001b[39m\u001b[39m}\u001b[39;00m\u001b[39m'\u001b[39m\u001b[39m type is unordered\u001b[39m\u001b[39m\"\u001b[39m)\n",
      "\u001b[0;31mTypeError\u001b[0m: 'set' type is unordered"
     ]
    }
   ],
   "source": [
    "unordered_series = pd.Series({1, 2, 3})"
   ]
  },
  {
   "cell_type": "code",
   "execution_count": 10,
   "metadata": {
    "slideshow": {
     "slide_type": "fragment"
    }
   },
   "outputs": [
    {
     "data": {
      "text/plain": [
       "0     [1, 2, 3]\n",
       "1    (1, tuple)\n",
       "2      {set, a}\n",
       "3      a string\n",
       "dtype: object"
      ]
     },
     "execution_count": 10,
     "metadata": {},
     "output_type": "execute_result"
    }
   ],
   "source": [
    "objects = pd.Series([[1, 2, 3], (1, 'tuple'), {'a', 'set'}, \"a string\"])\n",
    "objects"
   ]
  },
  {
   "cell_type": "markdown",
   "metadata": {
    "slideshow": {
     "slide_type": "slide"
    }
   },
   "source": [
    "#### 1.1.2 Generating `Series` from numpy arrays\n",
    "- fastest to \"stay in the numpy world\"\n",
    "- Series neatly wrap themselves around numpy arrays"
   ]
  },
  {
   "cell_type": "code",
   "execution_count": 11,
   "metadata": {
    "scrolled": true,
    "slideshow": {
     "slide_type": "fragment"
    }
   },
   "outputs": [
    {
     "data": {
      "text/plain": [
       "0    10\n",
       "1    11\n",
       "2    12\n",
       "3    13\n",
       "dtype: int64"
      ]
     },
     "execution_count": 11,
     "metadata": {},
     "output_type": "execute_result"
    }
   ],
   "source": [
    "array = np.arange(10, 14)\n",
    "integers = pd.Series(data=array)\n",
    "integers"
   ]
  },
  {
   "cell_type": "code",
   "execution_count": 12,
   "metadata": {
    "slideshow": {
     "slide_type": "fragment"
    }
   },
   "outputs": [
    {
     "data": {
      "text/plain": [
       "0    4.320849\n",
       "1    0.031916\n",
       "2    9.446108\n",
       "dtype: float64"
      ]
     },
     "execution_count": 12,
     "metadata": {},
     "output_type": "execute_result"
    }
   ],
   "source": [
    "random_floats_array = np.random.rand(3) * 10\n",
    "random_floats = pd.Series(random_floats_array)\n",
    "random_floats"
   ]
  },
  {
   "cell_type": "code",
   "execution_count": 13,
   "metadata": {
    "slideshow": {
     "slide_type": "fragment"
    }
   },
   "outputs": [
    {
     "data": {
      "text/plain": [
       "0    0.386429\n",
       "1   -0.605366\n",
       "2   -0.063404\n",
       "3    0.355684\n",
       "dtype: float64"
      ]
     },
     "execution_count": 13,
     "metadata": {},
     "output_type": "execute_result"
    }
   ],
   "source": [
    "random_bell = pd.Series(np.random.randn(4))\n",
    "random_bell"
   ]
  },
  {
   "cell_type": "markdown",
   "metadata": {
    "slideshow": {
     "slide_type": "slide"
    }
   },
   "source": [
    "### 1.2 Indexing Series\n",
    "- not recommended: Python indices\n",
    "    - unintuitive behavior\n",
    "    - slicing refers to *numeric* indices\n",
    "- use Series methods `.loc`, `.iloc` instead"
   ]
  },
  {
   "cell_type": "code",
   "execution_count": 14,
   "metadata": {
    "pycharm": {
     "name": "#%%\n"
    },
    "slideshow": {
     "slide_type": "fragment"
    }
   },
   "outputs": [
    {
     "data": {
      "text/plain": [
       "0    10\n",
       "1    11\n",
       "2    12\n",
       "3    13\n",
       "dtype: int64"
      ]
     },
     "execution_count": 14,
     "metadata": {},
     "output_type": "execute_result"
    }
   ],
   "source": [
    "integers"
   ]
  },
  {
   "cell_type": "code",
   "execution_count": 15,
   "metadata": {
    "slideshow": {
     "slide_type": "fragment"
    }
   },
   "outputs": [
    {
     "data": {
      "text/plain": [
       "10"
      ]
     },
     "execution_count": 15,
     "metadata": {},
     "output_type": "execute_result"
    }
   ],
   "source": [
    "integers[0]"
   ]
  },
  {
   "cell_type": "code",
   "execution_count": 16,
   "metadata": {
    "slideshow": {
     "slide_type": "fragment"
    }
   },
   "outputs": [
    {
     "data": {
      "text/plain": [
       "(False, True)"
      ]
     },
     "execution_count": 16,
     "metadata": {},
     "output_type": "execute_result"
    }
   ],
   "source": [
    "11 in integers, 2 in integers"
   ]
  },
  {
   "cell_type": "code",
   "execution_count": 17,
   "metadata": {
    "scrolled": true,
    "slideshow": {
     "slide_type": "fragment"
    }
   },
   "outputs": [
    {
     "ename": "KeyError",
     "evalue": "-1",
     "output_type": "error",
     "traceback": [
      "\u001b[0;31m---------------------------------------------------------------------------\u001b[0m",
      "\u001b[0;31mValueError\u001b[0m                                Traceback (most recent call last)",
      "File \u001b[0;32m~/.local/lib/python3.10/site-packages/pandas/core/indexes/range.py:345\u001b[0m, in \u001b[0;36mRangeIndex.get_loc\u001b[0;34m(self, key)\u001b[0m\n\u001b[1;32m    344\u001b[0m \u001b[39mtry\u001b[39;00m:\n\u001b[0;32m--> 345\u001b[0m     \u001b[39mreturn\u001b[39;00m \u001b[39mself\u001b[39;49m\u001b[39m.\u001b[39;49m_range\u001b[39m.\u001b[39;49mindex(new_key)\n\u001b[1;32m    346\u001b[0m \u001b[39mexcept\u001b[39;00m \u001b[39mValueError\u001b[39;00m \u001b[39mas\u001b[39;00m err:\n",
      "\u001b[0;31mValueError\u001b[0m: -1 is not in range",
      "\nThe above exception was the direct cause of the following exception:\n",
      "\u001b[0;31mKeyError\u001b[0m                                  Traceback (most recent call last)",
      "Cell \u001b[0;32mIn[17], line 1\u001b[0m\n\u001b[0;32m----> 1\u001b[0m integers[\u001b[39m-\u001b[39;49m\u001b[39m1\u001b[39;49m]\n",
      "File \u001b[0;32m~/.local/lib/python3.10/site-packages/pandas/core/series.py:1012\u001b[0m, in \u001b[0;36mSeries.__getitem__\u001b[0;34m(self, key)\u001b[0m\n\u001b[1;32m   1009\u001b[0m     \u001b[39mreturn\u001b[39;00m \u001b[39mself\u001b[39m\u001b[39m.\u001b[39m_values[key]\n\u001b[1;32m   1011\u001b[0m \u001b[39melif\u001b[39;00m key_is_scalar:\n\u001b[0;32m-> 1012\u001b[0m     \u001b[39mreturn\u001b[39;00m \u001b[39mself\u001b[39;49m\u001b[39m.\u001b[39;49m_get_value(key)\n\u001b[1;32m   1014\u001b[0m \u001b[39mif\u001b[39;00m is_hashable(key):\n\u001b[1;32m   1015\u001b[0m     \u001b[39m# Otherwise index.get_value will raise InvalidIndexError\u001b[39;00m\n\u001b[1;32m   1016\u001b[0m     \u001b[39mtry\u001b[39;00m:\n\u001b[1;32m   1017\u001b[0m         \u001b[39m# For labels that don't resolve as scalars like tuples and frozensets\u001b[39;00m\n",
      "File \u001b[0;32m~/.local/lib/python3.10/site-packages/pandas/core/series.py:1121\u001b[0m, in \u001b[0;36mSeries._get_value\u001b[0;34m(self, label, takeable)\u001b[0m\n\u001b[1;32m   1118\u001b[0m     \u001b[39mreturn\u001b[39;00m \u001b[39mself\u001b[39m\u001b[39m.\u001b[39m_values[label]\n\u001b[1;32m   1120\u001b[0m \u001b[39m# Similar to Index.get_value, but we do not fall back to positional\u001b[39;00m\n\u001b[0;32m-> 1121\u001b[0m loc \u001b[39m=\u001b[39m \u001b[39mself\u001b[39;49m\u001b[39m.\u001b[39;49mindex\u001b[39m.\u001b[39;49mget_loc(label)\n\u001b[1;32m   1123\u001b[0m \u001b[39mif\u001b[39;00m is_integer(loc):\n\u001b[1;32m   1124\u001b[0m     \u001b[39mreturn\u001b[39;00m \u001b[39mself\u001b[39m\u001b[39m.\u001b[39m_values[loc]\n",
      "File \u001b[0;32m~/.local/lib/python3.10/site-packages/pandas/core/indexes/range.py:347\u001b[0m, in \u001b[0;36mRangeIndex.get_loc\u001b[0;34m(self, key)\u001b[0m\n\u001b[1;32m    345\u001b[0m         \u001b[39mreturn\u001b[39;00m \u001b[39mself\u001b[39m\u001b[39m.\u001b[39m_range\u001b[39m.\u001b[39mindex(new_key)\n\u001b[1;32m    346\u001b[0m     \u001b[39mexcept\u001b[39;00m \u001b[39mValueError\u001b[39;00m \u001b[39mas\u001b[39;00m err:\n\u001b[0;32m--> 347\u001b[0m         \u001b[39mraise\u001b[39;00m \u001b[39mKeyError\u001b[39;00m(key) \u001b[39mfrom\u001b[39;00m \u001b[39merr\u001b[39;00m\n\u001b[1;32m    348\u001b[0m \u001b[39mself\u001b[39m\u001b[39m.\u001b[39m_check_indexing_error(key)\n\u001b[1;32m    349\u001b[0m \u001b[39mraise\u001b[39;00m \u001b[39mKeyError\u001b[39;00m(key)\n",
      "\u001b[0;31mKeyError\u001b[0m: -1"
     ]
    }
   ],
   "source": [
    "integers[-1]"
   ]
  },
  {
   "cell_type": "code",
   "execution_count": 18,
   "metadata": {
    "scrolled": true,
    "slideshow": {
     "slide_type": "subslide"
    }
   },
   "outputs": [
    {
     "data": {
      "text/plain": [
       "a    97\n",
       "b    98\n",
       "c    99\n",
       "dtype: int64"
      ]
     },
     "execution_count": 18,
     "metadata": {},
     "output_type": "execute_result"
    }
   ],
   "source": [
    "ordinal_values"
   ]
  },
  {
   "cell_type": "code",
   "execution_count": 19,
   "metadata": {
    "slideshow": {
     "slide_type": "fragment"
    }
   },
   "outputs": [
    {
     "data": {
      "text/plain": [
       "(97, 98)"
      ]
     },
     "execution_count": 19,
     "metadata": {},
     "output_type": "execute_result"
    }
   ],
   "source": [
    "ordinal_values['a'], ordinal_values[1]"
   ]
  },
  {
   "cell_type": "code",
   "execution_count": 20,
   "metadata": {
    "slideshow": {
     "slide_type": "fragment"
    }
   },
   "outputs": [
    {
     "data": {
      "text/plain": [
       "a    97\n",
       "b    98\n",
       "dtype: int64"
      ]
     },
     "execution_count": 20,
     "metadata": {},
     "output_type": "execute_result"
    }
   ],
   "source": [
    "ordinal_values[0:2]"
   ]
  },
  {
   "cell_type": "markdown",
   "metadata": {
    "slideshow": {
     "slide_type": "slide"
    }
   },
   "source": [
    "#### 1.2.1 Indexing with `.loc`, `.iloc` methods\n",
    "- [`loc[<index value>]`](https://pandas.pydata.org/pandas-docs/stable/reference/api/pandas.Series.loc.html)\n",
    "    - access by (index) label\n",
    "    - slices include both end points\n",
    "\n",
    "- [`iloc[<index value>]`](https://pandas.pydata.org/pandas-docs/stable/reference/api/pandas.DataFrame.iloc.html)\n",
    "    - numeric indexing with integers, from 0\n",
    "    - slices exclude the end point (as with e.g. ranges)\n",
    "- can be used with boolean arrays"
   ]
  },
  {
   "cell_type": "code",
   "execution_count": 21,
   "metadata": {
    "pycharm": {
     "name": "#%%\n"
    },
    "scrolled": false,
    "slideshow": {
     "slide_type": "fragment"
    }
   },
   "outputs": [
    {
     "data": {
      "text/plain": [
       "a    97\n",
       "b    98\n",
       "c    99\n",
       "dtype: int64"
      ]
     },
     "execution_count": 21,
     "metadata": {},
     "output_type": "execute_result"
    }
   ],
   "source": [
    "ordinal_values"
   ]
  },
  {
   "cell_type": "code",
   "execution_count": 22,
   "metadata": {
    "slideshow": {
     "slide_type": "fragment"
    }
   },
   "outputs": [
    {
     "data": {
      "text/plain": [
       "(97, 98)"
      ]
     },
     "execution_count": 22,
     "metadata": {},
     "output_type": "execute_result"
    }
   ],
   "source": [
    "ordinal_values.loc['a'], ordinal_values.iloc[1]"
   ]
  },
  {
   "cell_type": "code",
   "execution_count": 23,
   "metadata": {
    "slideshow": {
     "slide_type": "fragment"
    }
   },
   "outputs": [
    {
     "data": {
      "text/plain": [
       "a    97\n",
       "b    98\n",
       "c    99\n",
       "dtype: int64"
      ]
     },
     "execution_count": 23,
     "metadata": {},
     "output_type": "execute_result"
    }
   ],
   "source": [
    "ordinal_values.loc['a':'c']"
   ]
  },
  {
   "cell_type": "code",
   "execution_count": 24,
   "metadata": {
    "slideshow": {
     "slide_type": "slide"
    }
   },
   "outputs": [
    {
     "data": {
      "text/plain": [
       "2014    137\n",
       "2016    214\n",
       "2018    195\n",
       "2020    271\n",
       "dtype: int64"
      ]
     },
     "execution_count": 24,
     "metadata": {},
     "output_type": "execute_result"
    }
   ],
   "source": [
    "yearly_numbers = pd.Series(data=[137, 214, 195, 271], index=[2014, 2016, 2018, 2020])\n",
    "yearly_numbers"
   ]
  },
  {
   "cell_type": "code",
   "execution_count": 25,
   "metadata": {
    "pycharm": {
     "name": "#%%\n"
    },
    "slideshow": {
     "slide_type": "fragment"
    }
   },
   "outputs": [
    {
     "data": {
      "text/plain": [
       "(271, 271)"
      ]
     },
     "execution_count": 25,
     "metadata": {},
     "output_type": "execute_result"
    }
   ],
   "source": [
    "yearly_numbers.loc[2020], yearly_numbers.iloc[-1]"
   ]
  },
  {
   "cell_type": "code",
   "execution_count": 26,
   "metadata": {
    "scrolled": true,
    "slideshow": {
     "slide_type": "fragment"
    }
   },
   "outputs": [
    {
     "data": {
      "text/plain": [
       "2014    137\n",
       "2016    214\n",
       "dtype: int64"
      ]
     },
     "execution_count": 26,
     "metadata": {},
     "output_type": "execute_result"
    }
   ],
   "source": [
    "yearly_numbers.iloc[0:2]"
   ]
  },
  {
   "cell_type": "code",
   "execution_count": 27,
   "metadata": {
    "slideshow": {
     "slide_type": "fragment"
    }
   },
   "outputs": [
    {
     "data": {
      "text/plain": [
       "2014    137\n",
       "2016    214\n",
       "2018    195\n",
       "dtype: int64"
      ]
     },
     "execution_count": 27,
     "metadata": {},
     "output_type": "execute_result"
    }
   ],
   "source": [
    "yearly_numbers.loc[2014:2018]"
   ]
  },
  {
   "cell_type": "markdown",
   "metadata": {
    "slideshow": {
     "slide_type": "slide"
    }
   },
   "source": [
    "#### 1.2.2 Setting values\n",
    "- values of a `Series` can be modified\n",
    "- use `.loc`, `.iloc` for indexing!\n",
    "    - unintuitive results with \"standard Python\" indices"
   ]
  },
  {
   "cell_type": "code",
   "execution_count": 28,
   "metadata": {
    "slideshow": {
     "slide_type": "fragment"
    }
   },
   "outputs": [
    {
     "data": {
      "text/plain": [
       "2014    137\n",
       "2016    214\n",
       "2018    195\n",
       "2020    271\n",
       "dtype: int64"
      ]
     },
     "execution_count": 28,
     "metadata": {},
     "output_type": "execute_result"
    }
   ],
   "source": [
    "yearly_numbers"
   ]
  },
  {
   "cell_type": "code",
   "execution_count": 29,
   "metadata": {
    "slideshow": {
     "slide_type": "fragment"
    }
   },
   "outputs": [
    {
     "data": {
      "text/plain": [
       "2014    138\n",
       "2016    214\n",
       "2018    195\n",
       "2020    271\n",
       "dtype: int64"
      ]
     },
     "execution_count": 29,
     "metadata": {},
     "output_type": "execute_result"
    }
   ],
   "source": [
    "yearly_numbers[2014] = 138\n",
    "yearly_numbers"
   ]
  },
  {
   "cell_type": "code",
   "execution_count": 30,
   "metadata": {
    "slideshow": {
     "slide_type": "fragment"
    }
   },
   "outputs": [
    {
     "data": {
      "text/plain": [
       "2014    138.00\n",
       "2016    300.78\n",
       "2018    195.00\n",
       "2020    271.00\n",
       "dtype: float64"
      ]
     },
     "execution_count": 30,
     "metadata": {},
     "output_type": "execute_result"
    }
   ],
   "source": [
    "yearly_numbers[2016] = 300.78  # Warning: This is typecast to `int` (old version) or change *Series* to 'float' (newer version)\n",
    "yearly_numbers"
   ]
  },
  {
   "cell_type": "code",
   "execution_count": 31,
   "metadata": {
    "slideshow": {
     "slide_type": "fragment"
    }
   },
   "outputs": [
    {
     "data": {
      "text/plain": [
       "2014     138.0\n",
       "2016    300.78\n",
       "2018       300\n",
       "2020     271.0\n",
       "dtype: object"
      ]
     },
     "execution_count": 31,
     "metadata": {},
     "output_type": "execute_result"
    }
   ],
   "source": [
    "yearly_numbers[2018] = \"300\"  # Warning: This is typecast to `int` (old version) or change *Series* to 'object' (newer version)\n",
    "yearly_numbers"
   ]
  },
  {
   "cell_type": "code",
   "execution_count": 32,
   "metadata": {
    "slideshow": {
     "slide_type": "fragment"
    }
   },
   "outputs": [
    {
     "data": {
      "text/plain": [
       "2014         1.5\n",
       "2016         2.2\n",
       "2018         300\n",
       "2020    300.7889\n",
       "dtype: object"
      ]
     },
     "execution_count": 32,
     "metadata": {},
     "output_type": "execute_result"
    }
   ],
   "source": [
    "yearly_numbers[2020] = \"300.7889\"  # Warning: Now the *Series* changes!\n",
    "yearly_numbers[0:2] = [1.5, 2.2]  # This also changes the series!\n",
    "yearly_numbers"
   ]
  },
  {
   "cell_type": "code",
   "execution_count": 33,
   "metadata": {
    "slideshow": {
     "slide_type": "subslide"
    }
   },
   "outputs": [
    {
     "data": {
      "text/plain": [
       "2014    137\n",
       "2016    214\n",
       "2018    195\n",
       "2020    271\n",
       "dtype: int64"
      ]
     },
     "execution_count": 33,
     "metadata": {},
     "output_type": "execute_result"
    }
   ],
   "source": [
    "# Do it this way instead\n",
    "yearly_numbers = pd.Series(data=[137, 214, 195, 271], index=[2014, 2016, 2018, 2020])\n",
    "yearly_numbers"
   ]
  },
  {
   "cell_type": "code",
   "execution_count": 34,
   "metadata": {
    "slideshow": {
     "slide_type": "fragment"
    }
   },
   "outputs": [
    {
     "data": {
      "text/plain": [
       "2014    300.78\n",
       "2016    214.00\n",
       "2018    195.00\n",
       "2020    271.00\n",
       "dtype: float64"
      ]
     },
     "execution_count": 34,
     "metadata": {},
     "output_type": "execute_result"
    }
   ],
   "source": [
    "yearly_numbers.loc[2014] = 300.78\n",
    "yearly_numbers  # Setting with `.loc` *always* changes the Series datatype"
   ]
  },
  {
   "cell_type": "code",
   "execution_count": 35,
   "metadata": {
    "slideshow": {
     "slide_type": "fragment"
    }
   },
   "outputs": [
    {
     "data": {
      "text/plain": [
       "2014                      300.78\n",
       "2016                       214.0\n",
       "2018    Can also set to a string\n",
       "2020                       271.0\n",
       "dtype: object"
      ]
     },
     "execution_count": 35,
     "metadata": {},
     "output_type": "execute_result"
    }
   ],
   "source": [
    "yearly_numbers.iloc[2] = \"Can also set to a string\"\n",
    "yearly_numbers"
   ]
  },
  {
   "cell_type": "code",
   "execution_count": 36,
   "metadata": {
    "slideshow": {
     "slide_type": "fragment"
    }
   },
   "outputs": [
    {
     "data": {
      "text/plain": [
       "2014     this\n",
       "2016     also\n",
       "2018    works\n",
       "2020    271.0\n",
       "dtype: object"
      ]
     },
     "execution_count": 36,
     "metadata": {},
     "output_type": "execute_result"
    }
   ],
   "source": [
    "yearly_numbers.loc[2014:2018] = ['this', 'also', 'works']\n",
    "yearly_numbers"
   ]
  },
  {
   "cell_type": "markdown",
   "metadata": {
    "slideshow": {
     "slide_type": "slide"
    }
   },
   "source": [
    "#### 1.2.3 Setting the Index\n",
    "- `Series` have an `index` as a separate attribute\n",
    "    - index itself is a numpy array\n",
    "- can be inspected and set\n",
    "    - various data types possible\n",
    "   "
   ]
  },
  {
   "cell_type": "code",
   "execution_count": 37,
   "metadata": {
    "slideshow": {
     "slide_type": "fragment"
    }
   },
   "outputs": [
    {
     "data": {
      "text/plain": [
       "Index([2014, 2016, 2018, 2020], dtype='int64')"
      ]
     },
     "execution_count": 37,
     "metadata": {},
     "output_type": "execute_result"
    }
   ],
   "source": [
    "yearly_numbers.index"
   ]
  },
  {
   "cell_type": "code",
   "execution_count": 38,
   "metadata": {
    "slideshow": {
     "slide_type": "fragment"
    }
   },
   "outputs": [
    {
     "data": {
      "text/plain": [
       "0     this\n",
       "2     also\n",
       "4    works\n",
       "6    271.0\n",
       "dtype: object"
      ]
     },
     "execution_count": 38,
     "metadata": {},
     "output_type": "execute_result"
    }
   ],
   "source": [
    "yearly_numbers.index = [0, 2, 4, 6]\n",
    "yearly_numbers"
   ]
  },
  {
   "cell_type": "code",
   "execution_count": 39,
   "metadata": {
    "slideshow": {
     "slide_type": "fragment"
    }
   },
   "outputs": [
    {
     "data": {
      "text/plain": [
       "(array([0.1, 0.2, 0.3]), RangeIndex(start=0, stop=3, step=1))"
      ]
     },
     "execution_count": 39,
     "metadata": {},
     "output_type": "execute_result"
    }
   ],
   "source": [
    "floats.values, floats.index"
   ]
  },
  {
   "cell_type": "code",
   "execution_count": 40,
   "metadata": {
    "slideshow": {
     "slide_type": "fragment"
    }
   },
   "outputs": [
    {
     "data": {
      "text/plain": [
       "c    0.1\n",
       "b    0.2\n",
       "d    0.3\n",
       "dtype: float64"
      ]
     },
     "execution_count": 40,
     "metadata": {},
     "output_type": "execute_result"
    }
   ],
   "source": [
    "floats.index = ['c', 'b', 'd']\n",
    "floats"
   ]
  },
  {
   "cell_type": "code",
   "execution_count": 41,
   "metadata": {},
   "outputs": [
    {
     "data": {
      "text/plain": [
       "0.2"
      ]
     },
     "execution_count": 41,
     "metadata": {},
     "output_type": "execute_result"
    }
   ],
   "source": [
    "floats.loc['b']"
   ]
  },
  {
   "cell_type": "code",
   "execution_count": 42,
   "metadata": {
    "slideshow": {
     "slide_type": "fragment"
    }
   },
   "outputs": [
    {
     "data": {
      "text/plain": [
       "c    0.1\n",
       "b    0.2\n",
       "d    0.3\n",
       "dtype: float64"
      ]
     },
     "execution_count": 42,
     "metadata": {},
     "output_type": "execute_result"
    }
   ],
   "source": [
    "floats.loc['c':'d']"
   ]
  },
  {
   "cell_type": "code",
   "execution_count": 43,
   "metadata": {
    "slideshow": {
     "slide_type": "subslide"
    }
   },
   "outputs": [
    {
     "data": {
      "text/plain": [
       "Jan     5\n",
       "Feb     2\n",
       "Mar     3\n",
       "Apr    91\n",
       "dtype: int64"
      ]
     },
     "execution_count": 43,
     "metadata": {},
     "output_type": "execute_result"
    }
   ],
   "source": [
    "monthly_numbers = pd.Series([5, 2, 3, 91], index='Jan Feb Mar Apr'.split())\n",
    "monthly_numbers"
   ]
  },
  {
   "cell_type": "markdown",
   "metadata": {
    "slideshow": {
     "slide_type": "slide"
    }
   },
   "source": [
    "#### 1.2.4 Non-unique indices\n",
    "- indices of a series do not have to be distinct\n",
    "- non-unique indices let us extract more than one data point"
   ]
  },
  {
   "cell_type": "code",
   "execution_count": 44,
   "metadata": {
    "slideshow": {
     "slide_type": "fragment"
    }
   },
   "outputs": [
    {
     "data": {
      "text/plain": [
       "root       10\n",
       "giar       23\n",
       "czerner    51\n",
       "root        2\n",
       "dtype: int64"
      ]
     },
     "execution_count": 44,
     "metadata": {},
     "output_type": "execute_result"
    }
   ],
   "source": [
    "logon_times = pd.Series([10, 23, 51, 2], index=['root', 'giar', 'czerner', 'root'])\n",
    "logon_times"
   ]
  },
  {
   "cell_type": "code",
   "execution_count": 45,
   "metadata": {
    "slideshow": {
     "slide_type": "fragment"
    }
   },
   "outputs": [
    {
     "data": {
      "text/plain": [
       "root    10\n",
       "root     2\n",
       "dtype: int64"
      ]
     },
     "execution_count": 45,
     "metadata": {},
     "output_type": "execute_result"
    }
   ],
   "source": [
    "logon_times.loc['root']"
   ]
  },
  {
   "cell_type": "code",
   "execution_count": 46,
   "metadata": {
    "slideshow": {
     "slide_type": "fragment"
    }
   },
   "outputs": [
    {
     "ename": "KeyError",
     "evalue": "\"Cannot get left slice bound for non-unique label: 'root'\"",
     "output_type": "error",
     "traceback": [
      "\u001b[0;31m---------------------------------------------------------------------------\u001b[0m",
      "\u001b[0;31mKeyError\u001b[0m                                  Traceback (most recent call last)",
      "Cell \u001b[0;32mIn[46], line 1\u001b[0m\n\u001b[0;32m----> 1\u001b[0m logon_times\u001b[39m.\u001b[39;49mloc[\u001b[39m'\u001b[39;49m\u001b[39mroot\u001b[39;49m\u001b[39m'\u001b[39;49m:\u001b[39m'\u001b[39;49m\u001b[39mczerner\u001b[39;49m\u001b[39m'\u001b[39;49m]  \u001b[39m# Slices don't work anymore\u001b[39;00m\n",
      "File \u001b[0;32m~/.local/lib/python3.10/site-packages/pandas/core/indexing.py:1103\u001b[0m, in \u001b[0;36m_LocationIndexer.__getitem__\u001b[0;34m(self, key)\u001b[0m\n\u001b[1;32m   1100\u001b[0m axis \u001b[39m=\u001b[39m \u001b[39mself\u001b[39m\u001b[39m.\u001b[39maxis \u001b[39mor\u001b[39;00m \u001b[39m0\u001b[39m\n\u001b[1;32m   1102\u001b[0m maybe_callable \u001b[39m=\u001b[39m com\u001b[39m.\u001b[39mapply_if_callable(key, \u001b[39mself\u001b[39m\u001b[39m.\u001b[39mobj)\n\u001b[0;32m-> 1103\u001b[0m \u001b[39mreturn\u001b[39;00m \u001b[39mself\u001b[39;49m\u001b[39m.\u001b[39;49m_getitem_axis(maybe_callable, axis\u001b[39m=\u001b[39;49maxis)\n",
      "File \u001b[0;32m~/.local/lib/python3.10/site-packages/pandas/core/indexing.py:1323\u001b[0m, in \u001b[0;36m_LocIndexer._getitem_axis\u001b[0;34m(self, key, axis)\u001b[0m\n\u001b[1;32m   1321\u001b[0m \u001b[39mif\u001b[39;00m \u001b[39misinstance\u001b[39m(key, \u001b[39mslice\u001b[39m):\n\u001b[1;32m   1322\u001b[0m     \u001b[39mself\u001b[39m\u001b[39m.\u001b[39m_validate_key(key, axis)\n\u001b[0;32m-> 1323\u001b[0m     \u001b[39mreturn\u001b[39;00m \u001b[39mself\u001b[39;49m\u001b[39m.\u001b[39;49m_get_slice_axis(key, axis\u001b[39m=\u001b[39;49maxis)\n\u001b[1;32m   1324\u001b[0m \u001b[39melif\u001b[39;00m com\u001b[39m.\u001b[39mis_bool_indexer(key):\n\u001b[1;32m   1325\u001b[0m     \u001b[39mreturn\u001b[39;00m \u001b[39mself\u001b[39m\u001b[39m.\u001b[39m_getbool_axis(key, axis\u001b[39m=\u001b[39maxis)\n",
      "File \u001b[0;32m~/.local/lib/python3.10/site-packages/pandas/core/indexing.py:1355\u001b[0m, in \u001b[0;36m_LocIndexer._get_slice_axis\u001b[0;34m(self, slice_obj, axis)\u001b[0m\n\u001b[1;32m   1352\u001b[0m     \u001b[39mreturn\u001b[39;00m obj\u001b[39m.\u001b[39mcopy(deep\u001b[39m=\u001b[39m\u001b[39mFalse\u001b[39;00m)\n\u001b[1;32m   1354\u001b[0m labels \u001b[39m=\u001b[39m obj\u001b[39m.\u001b[39m_get_axis(axis)\n\u001b[0;32m-> 1355\u001b[0m indexer \u001b[39m=\u001b[39m labels\u001b[39m.\u001b[39;49mslice_indexer(slice_obj\u001b[39m.\u001b[39;49mstart, slice_obj\u001b[39m.\u001b[39;49mstop, slice_obj\u001b[39m.\u001b[39;49mstep)\n\u001b[1;32m   1357\u001b[0m \u001b[39mif\u001b[39;00m \u001b[39misinstance\u001b[39m(indexer, \u001b[39mslice\u001b[39m):\n\u001b[1;32m   1358\u001b[0m     \u001b[39mreturn\u001b[39;00m \u001b[39mself\u001b[39m\u001b[39m.\u001b[39mobj\u001b[39m.\u001b[39m_slice(indexer, axis\u001b[39m=\u001b[39maxis)\n",
      "File \u001b[0;32m~/.local/lib/python3.10/site-packages/pandas/core/indexes/base.py:6341\u001b[0m, in \u001b[0;36mIndex.slice_indexer\u001b[0;34m(self, start, end, step)\u001b[0m\n\u001b[1;32m   6297\u001b[0m \u001b[39mdef\u001b[39;00m \u001b[39mslice_indexer\u001b[39m(\n\u001b[1;32m   6298\u001b[0m     \u001b[39mself\u001b[39m,\n\u001b[1;32m   6299\u001b[0m     start: Hashable \u001b[39m|\u001b[39m \u001b[39mNone\u001b[39;00m \u001b[39m=\u001b[39m \u001b[39mNone\u001b[39;00m,\n\u001b[1;32m   6300\u001b[0m     end: Hashable \u001b[39m|\u001b[39m \u001b[39mNone\u001b[39;00m \u001b[39m=\u001b[39m \u001b[39mNone\u001b[39;00m,\n\u001b[1;32m   6301\u001b[0m     step: \u001b[39mint\u001b[39m \u001b[39m|\u001b[39m \u001b[39mNone\u001b[39;00m \u001b[39m=\u001b[39m \u001b[39mNone\u001b[39;00m,\n\u001b[1;32m   6302\u001b[0m ) \u001b[39m-\u001b[39m\u001b[39m>\u001b[39m \u001b[39mslice\u001b[39m:\n\u001b[1;32m   6303\u001b[0m \u001b[39m    \u001b[39m\u001b[39m\"\"\"\u001b[39;00m\n\u001b[1;32m   6304\u001b[0m \u001b[39m    Compute the slice indexer for input labels and step.\u001b[39;00m\n\u001b[1;32m   6305\u001b[0m \n\u001b[0;32m   (...)\u001b[0m\n\u001b[1;32m   6339\u001b[0m \u001b[39m    slice(1, 3, None)\u001b[39;00m\n\u001b[1;32m   6340\u001b[0m \u001b[39m    \"\"\"\u001b[39;00m\n\u001b[0;32m-> 6341\u001b[0m     start_slice, end_slice \u001b[39m=\u001b[39m \u001b[39mself\u001b[39;49m\u001b[39m.\u001b[39;49mslice_locs(start, end, step\u001b[39m=\u001b[39;49mstep)\n\u001b[1;32m   6343\u001b[0m     \u001b[39m# return a slice\u001b[39;00m\n\u001b[1;32m   6344\u001b[0m     \u001b[39mif\u001b[39;00m \u001b[39mnot\u001b[39;00m is_scalar(start_slice):\n",
      "File \u001b[0;32m~/.local/lib/python3.10/site-packages/pandas/core/indexes/base.py:6534\u001b[0m, in \u001b[0;36mIndex.slice_locs\u001b[0;34m(self, start, end, step)\u001b[0m\n\u001b[1;32m   6532\u001b[0m start_slice \u001b[39m=\u001b[39m \u001b[39mNone\u001b[39;00m\n\u001b[1;32m   6533\u001b[0m \u001b[39mif\u001b[39;00m start \u001b[39mis\u001b[39;00m \u001b[39mnot\u001b[39;00m \u001b[39mNone\u001b[39;00m:\n\u001b[0;32m-> 6534\u001b[0m     start_slice \u001b[39m=\u001b[39m \u001b[39mself\u001b[39;49m\u001b[39m.\u001b[39;49mget_slice_bound(start, \u001b[39m\"\u001b[39;49m\u001b[39mleft\u001b[39;49m\u001b[39m\"\u001b[39;49m)\n\u001b[1;32m   6535\u001b[0m \u001b[39mif\u001b[39;00m start_slice \u001b[39mis\u001b[39;00m \u001b[39mNone\u001b[39;00m:\n\u001b[1;32m   6536\u001b[0m     start_slice \u001b[39m=\u001b[39m \u001b[39m0\u001b[39m\n",
      "File \u001b[0;32m~/.local/lib/python3.10/site-packages/pandas/core/indexes/base.py:6467\u001b[0m, in \u001b[0;36mIndex.get_slice_bound\u001b[0;34m(self, label, side)\u001b[0m\n\u001b[1;32m   6465\u001b[0m     slc \u001b[39m=\u001b[39m lib\u001b[39m.\u001b[39mmaybe_booleans_to_slice(slc\u001b[39m.\u001b[39mview(\u001b[39m\"\u001b[39m\u001b[39mu1\u001b[39m\u001b[39m\"\u001b[39m))\n\u001b[1;32m   6466\u001b[0m     \u001b[39mif\u001b[39;00m \u001b[39misinstance\u001b[39m(slc, np\u001b[39m.\u001b[39mndarray):\n\u001b[0;32m-> 6467\u001b[0m         \u001b[39mraise\u001b[39;00m \u001b[39mKeyError\u001b[39;00m(\n\u001b[1;32m   6468\u001b[0m             \u001b[39mf\u001b[39m\u001b[39m\"\u001b[39m\u001b[39mCannot get \u001b[39m\u001b[39m{\u001b[39;00mside\u001b[39m}\u001b[39;00m\u001b[39m slice bound for non-unique \u001b[39m\u001b[39m\"\u001b[39m\n\u001b[1;32m   6469\u001b[0m             \u001b[39mf\u001b[39m\u001b[39m\"\u001b[39m\u001b[39mlabel: \u001b[39m\u001b[39m{\u001b[39;00m\u001b[39mrepr\u001b[39m(original_label)\u001b[39m}\u001b[39;00m\u001b[39m\"\u001b[39m\n\u001b[1;32m   6470\u001b[0m         )\n\u001b[1;32m   6472\u001b[0m \u001b[39mif\u001b[39;00m \u001b[39misinstance\u001b[39m(slc, \u001b[39mslice\u001b[39m):\n\u001b[1;32m   6473\u001b[0m     \u001b[39mif\u001b[39;00m side \u001b[39m==\u001b[39m \u001b[39m\"\u001b[39m\u001b[39mleft\u001b[39m\u001b[39m\"\u001b[39m:\n",
      "\u001b[0;31mKeyError\u001b[0m: \"Cannot get left slice bound for non-unique label: 'root'\""
     ]
    }
   ],
   "source": [
    "logon_times.loc['root':'czerner']  # Slices don't work anymore"
   ]
  },
  {
   "cell_type": "markdown",
   "metadata": {
    "slideshow": {
     "slide_type": "slide"
    }
   },
   "source": [
    "#### 1.2.5 Fancy indexing\n",
    "- we can address series by more than one index at once\n",
    "    - give a sequence of indices we want to pull out for `.loc`, `.iloc`\n",
    "    - values may repeat"
   ]
  },
  {
   "cell_type": "code",
   "execution_count": 47,
   "metadata": {},
   "outputs": [
    {
     "data": {
      "text/plain": [
       "Jan     5\n",
       "Feb     2\n",
       "Mar     3\n",
       "Apr    91\n",
       "dtype: int64"
      ]
     },
     "execution_count": 47,
     "metadata": {},
     "output_type": "execute_result"
    }
   ],
   "source": [
    "monthly_numbers"
   ]
  },
  {
   "cell_type": "code",
   "execution_count": 48,
   "metadata": {
    "slideshow": {
     "slide_type": "fragment"
    }
   },
   "outputs": [
    {
     "data": {
      "text/plain": [
       "Jan    5\n",
       "Mar    3\n",
       "dtype: int64"
      ]
     },
     "execution_count": 48,
     "metadata": {},
     "output_type": "execute_result"
    }
   ],
   "source": [
    "monthly_numbers.loc[['Jan', 'Mar']]"
   ]
  },
  {
   "cell_type": "code",
   "execution_count": 49,
   "metadata": {
    "scrolled": true,
    "slideshow": {
     "slide_type": "fragment"
    }
   },
   "outputs": [
    {
     "data": {
      "text/plain": [
       "Feb     2\n",
       "Mar     3\n",
       "Apr    91\n",
       "Mar     3\n",
       "Apr    91\n",
       "Mar     3\n",
       "Feb     2\n",
       "dtype: int64"
      ]
     },
     "execution_count": 49,
     "metadata": {},
     "output_type": "execute_result"
    }
   ],
   "source": [
    "monthly_numbers.iloc[[1, 2, 3, 2, 3, 2, 1]]"
   ]
  },
  {
   "cell_type": "code",
   "execution_count": 50,
   "metadata": {},
   "outputs": [
    {
     "data": {
      "text/plain": [
       "0    10\n",
       "1    11\n",
       "2    12\n",
       "3    13\n",
       "dtype: int64"
      ]
     },
     "execution_count": 50,
     "metadata": {},
     "output_type": "execute_result"
    }
   ],
   "source": [
    "integers"
   ]
  },
  {
   "cell_type": "code",
   "execution_count": 51,
   "metadata": {
    "slideshow": {
     "slide_type": "subslide"
    }
   },
   "outputs": [
    {
     "data": {
      "text/plain": [
       "0    10\n",
       "2    12\n",
       "3    13\n",
       "dtype: int64"
      ]
     },
     "execution_count": 51,
     "metadata": {},
     "output_type": "execute_result"
    }
   ],
   "source": [
    "integers.loc[[True, False, True, True]]"
   ]
  },
  {
   "cell_type": "markdown",
   "metadata": {
    "slideshow": {
     "slide_type": "slide"
    }
   },
   "source": [
    "### 1.3 Operations on Series\n",
    "- Series can be added, multiplied, divided, ...\n",
    "    - operations are performed element-wise\n",
    "    - with other series: performed by index\n",
    "    - with scalar values: broadcast to all values"
   ]
  },
  {
   "cell_type": "code",
   "execution_count": 52,
   "metadata": {
    "slideshow": {
     "slide_type": "fragment"
    }
   },
   "outputs": [
    {
     "data": {
      "text/plain": [
       "0      3\n",
       "1    -13\n",
       "2     62\n",
       "3    363\n",
       "dtype: int64"
      ]
     },
     "execution_count": 52,
     "metadata": {},
     "output_type": "execute_result"
    }
   ],
   "source": [
    "yearly_revenue = pd.Series([4, 20, 69, 420])\n",
    "yearly_expenses = pd.Series([1, 33, 7, 57])\n",
    "\n",
    "yearly_revenue - yearly_expenses"
   ]
  },
  {
   "cell_type": "code",
   "execution_count": 53,
   "metadata": {
    "slideshow": {
     "slide_type": "fragment"
    }
   },
   "outputs": [
    {
     "data": {
      "text/plain": [
       "0      5\n",
       "1     53\n",
       "2     76\n",
       "3    477\n",
       "dtype: int64"
      ]
     },
     "execution_count": 53,
     "metadata": {},
     "output_type": "execute_result"
    }
   ],
   "source": [
    "yearly_revenue + yearly_expenses"
   ]
  },
  {
   "cell_type": "code",
   "execution_count": 54,
   "metadata": {
    "slideshow": {
     "slide_type": "subslide"
    }
   },
   "outputs": [
    {
     "data": {
      "text/plain": [
       "0     0\n",
       "1    20\n",
       "2     6\n",
       "3    21\n",
       "dtype: int64"
      ]
     },
     "execution_count": 54,
     "metadata": {},
     "output_type": "execute_result"
    }
   ],
   "source": [
    "yearly_revenue % yearly_expenses"
   ]
  },
  {
   "cell_type": "code",
   "execution_count": 55,
   "metadata": {
    "slideshow": {
     "slide_type": "fragment"
    }
   },
   "outputs": [
    {
     "data": {
      "text/plain": [
       "0     True\n",
       "1    False\n",
       "2     True\n",
       "3     True\n",
       "dtype: bool"
      ]
     },
     "execution_count": 55,
     "metadata": {},
     "output_type": "execute_result"
    }
   ],
   "source": [
    "yearly_revenue > yearly_expenses"
   ]
  },
  {
   "cell_type": "code",
   "execution_count": 56,
   "metadata": {
    "slideshow": {
     "slide_type": "subslide"
    }
   },
   "outputs": [
    {
     "data": {
      "text/plain": [
       "2017     -3\n",
       "2018    -13\n",
       "2019     12\n",
       "2020    419\n",
       "dtype: int64"
      ]
     },
     "execution_count": 56,
     "metadata": {},
     "output_type": "execute_result"
    }
   ],
   "source": [
    "yearly_revenue = pd.Series([4, 20, 69, 420], index=[2017, 2018, 2019, 2020])\n",
    "yearly_expenses = pd.Series([1, 33, 7, 57], index=[2020, 2018, 2017, 2019])\n",
    "\n",
    "yearly_revenue - yearly_expenses"
   ]
  },
  {
   "cell_type": "code",
   "execution_count": 57,
   "metadata": {
    "slideshow": {
     "slide_type": "fragment"
    }
   },
   "outputs": [
    {
     "data": {
      "text/plain": [
       "2017        -3\n",
       "2018       -13\n",
       "2019        12\n",
       "2020       419\n",
       "2020   -119580\n",
       "dtype: int64"
      ]
     },
     "execution_count": 57,
     "metadata": {},
     "output_type": "execute_result"
    }
   ],
   "source": [
    "yearly_expenses = pd.Series(\n",
    "    [1, 33, 7, 57, 120000], index=[2020, 2018, 2017, 2019, 2020]\n",
    ")\n",
    "yearly_revenue - yearly_expenses"
   ]
  },
  {
   "cell_type": "code",
   "execution_count": 58,
   "metadata": {
    "slideshow": {
     "slide_type": "subslide"
    }
   },
   "outputs": [
    {
     "data": {
      "text/plain": [
       "0    10\n",
       "1    11\n",
       "2    12\n",
       "3    13\n",
       "dtype: int64"
      ]
     },
     "execution_count": 58,
     "metadata": {},
     "output_type": "execute_result"
    }
   ],
   "source": [
    "integers"
   ]
  },
  {
   "cell_type": "code",
   "execution_count": 59,
   "metadata": {
    "slideshow": {
     "slide_type": "fragment"
    }
   },
   "outputs": [
    {
     "data": {
      "text/plain": [
       "0    12\n",
       "1    13\n",
       "2    14\n",
       "3    15\n",
       "dtype: int64"
      ]
     },
     "execution_count": 59,
     "metadata": {},
     "output_type": "execute_result"
    }
   ],
   "source": [
    "integers + 2"
   ]
  },
  {
   "cell_type": "code",
   "execution_count": 60,
   "metadata": {
    "slideshow": {
     "slide_type": "fragment"
    }
   },
   "outputs": [
    {
     "data": {
      "text/plain": [
       "0    100\n",
       "1    121\n",
       "2    144\n",
       "3    169\n",
       "dtype: int64"
      ]
     },
     "execution_count": 60,
     "metadata": {},
     "output_type": "execute_result"
    }
   ],
   "source": [
    "integers**2"
   ]
  },
  {
   "cell_type": "code",
   "execution_count": 61,
   "metadata": {
    "slideshow": {
     "slide_type": "fragment"
    }
   },
   "outputs": [
    {
     "data": {
      "text/plain": [
       "0    10.2\n",
       "1    11.2\n",
       "2    12.2\n",
       "3    13.2\n",
       "dtype: float64"
      ]
     },
     "execution_count": 61,
     "metadata": {},
     "output_type": "execute_result"
    }
   ],
   "source": [
    "integers + 0.2"
   ]
  },
  {
   "cell_type": "code",
   "execution_count": 62,
   "metadata": {
    "slideshow": {
     "slide_type": "fragment"
    }
   },
   "outputs": [
    {
     "data": {
      "text/plain": [
       "0     True\n",
       "1     True\n",
       "2    False\n",
       "3    False\n",
       "dtype: bool"
      ]
     },
     "execution_count": 62,
     "metadata": {},
     "output_type": "execute_result"
    }
   ],
   "source": [
    "integers < 12"
   ]
  },
  {
   "cell_type": "markdown",
   "metadata": {
    "slideshow": {
     "slide_type": "slide"
    }
   },
   "source": [
    "### 1.4 Boolean Masks\n",
    "- an easy way to extract data by condition\n",
    "    1. create a boolean mask (same length, entries `True` / `False`)\n",
    "    2. use with `.loc`\n",
    "- careful: Cannot use \"Truthiness\" in place of booleans\n",
    "    - may need to explicitly compare"
   ]
  },
  {
   "cell_type": "code",
   "execution_count": 63,
   "metadata": {},
   "outputs": [
    {
     "data": {
      "text/plain": [
       "0    10\n",
       "1    11\n",
       "2    12\n",
       "3    13\n",
       "dtype: int64"
      ]
     },
     "execution_count": 63,
     "metadata": {},
     "output_type": "execute_result"
    }
   ],
   "source": [
    "integers"
   ]
  },
  {
   "cell_type": "code",
   "execution_count": 64,
   "metadata": {
    "slideshow": {
     "slide_type": "fragment"
    }
   },
   "outputs": [
    {
     "data": {
      "text/plain": [
       "0     True\n",
       "1     True\n",
       "2    False\n",
       "3    False\n",
       "dtype: bool"
      ]
     },
     "execution_count": 64,
     "metadata": {},
     "output_type": "execute_result"
    }
   ],
   "source": [
    "integers < 12"
   ]
  },
  {
   "cell_type": "code",
   "execution_count": 65,
   "metadata": {
    "slideshow": {
     "slide_type": "fragment"
    }
   },
   "outputs": [
    {
     "data": {
      "text/plain": [
       "0    10\n",
       "1    11\n",
       "dtype: int64"
      ]
     },
     "execution_count": 65,
     "metadata": {},
     "output_type": "execute_result"
    }
   ],
   "source": [
    "integers.loc[integers < 12]"
   ]
  },
  {
   "cell_type": "code",
   "execution_count": 66,
   "metadata": {
    "slideshow": {
     "slide_type": "subslide"
    }
   },
   "outputs": [
    {
     "data": {
      "text/plain": [
       "0    0\n",
       "1    1\n",
       "2    0\n",
       "3    1\n",
       "dtype: int64"
      ]
     },
     "execution_count": 66,
     "metadata": {},
     "output_type": "execute_result"
    }
   ],
   "source": [
    "integers % 2"
   ]
  },
  {
   "cell_type": "code",
   "execution_count": 67,
   "metadata": {
    "slideshow": {
     "slide_type": "fragment"
    }
   },
   "outputs": [
    {
     "data": {
      "text/plain": [
       "0    10\n",
       "1    11\n",
       "0    10\n",
       "1    11\n",
       "dtype: int64"
      ]
     },
     "execution_count": 67,
     "metadata": {},
     "output_type": "execute_result"
    }
   ],
   "source": [
    "integers[integers % 2]"
   ]
  },
  {
   "cell_type": "code",
   "execution_count": 68,
   "metadata": {
    "slideshow": {
     "slide_type": "fragment"
    }
   },
   "outputs": [
    {
     "data": {
      "text/plain": [
       "1    11\n",
       "3    13\n",
       "dtype: int64"
      ]
     },
     "execution_count": 68,
     "metadata": {},
     "output_type": "execute_result"
    }
   ],
   "source": [
    "integers[integers % 2 == 1]"
   ]
  },
  {
   "cell_type": "code",
   "execution_count": 69,
   "metadata": {
    "scrolled": true,
    "slideshow": {
     "slide_type": "fragment"
    }
   },
   "outputs": [
    {
     "data": {
      "text/plain": [
       "0    10\n",
       "3    13\n",
       "dtype: int64"
      ]
     },
     "execution_count": 69,
     "metadata": {},
     "output_type": "execute_result"
    }
   ],
   "source": [
    "integers[(integers < 11) | (integers > 12)]"
   ]
  },
  {
   "cell_type": "markdown",
   "metadata": {},
   "source": [
    "### 1.5 Tasks"
   ]
  },
  {
   "cell_type": "markdown",
   "metadata": {},
   "source": [
    "##### 1. Erstellen Sie eine `Series` mit 8 zufälligen Integern zwischen einschließlich 0 und 7. Nutzen Sie als Indizes die Buchstaben \"a\" bis \"h\". (Note: Benutzen Sie np.random.randint() )"
   ]
  },
  {
   "cell_type": "code",
   "execution_count": 85,
   "metadata": {},
   "outputs": [
    {
     "data": {
      "text/plain": [
       "a    4\n",
       "b    1\n",
       "c    1\n",
       "d    7\n",
       "e    6\n",
       "f    4\n",
       "g    7\n",
       "h    0\n",
       "dtype: int64"
      ]
     },
     "execution_count": 85,
     "metadata": {},
     "output_type": "execute_result"
    }
   ],
   "source": [
    "random = pd.Series(np.random.randint(0, 8, 8), index=list('abcdefgh'))\n",
    "random"
   ]
  },
  {
   "cell_type": "markdown",
   "metadata": {},
   "source": [
    "##### 2. Welchen Eintrag finden Sie unter dem Index \"d\"? Geben Sie ihn aus."
   ]
  },
  {
   "cell_type": "code",
   "execution_count": 86,
   "metadata": {},
   "outputs": [
    {
     "data": {
      "text/plain": [
       "7"
      ]
     },
     "execution_count": 86,
     "metadata": {},
     "output_type": "execute_result"
    }
   ],
   "source": [
    "random.loc['d']"
   ]
  },
  {
   "cell_type": "markdown",
   "metadata": {},
   "source": [
    "##### 3. Geben Sie den ersten, den fünften, und den letzten Eintrag der Series aus."
   ]
  },
  {
   "cell_type": "code",
   "execution_count": 89,
   "metadata": {},
   "outputs": [
    {
     "data": {
      "text/plain": [
       "e    6\n",
       "h    0\n",
       "dtype: int64"
      ]
     },
     "execution_count": 89,
     "metadata": {},
     "output_type": "execute_result"
    }
   ],
   "source": [
    "random.iloc[[4, -1]]"
   ]
  },
  {
   "cell_type": "markdown",
   "metadata": {},
   "source": [
    "##### 4. Geben Sie alle Einträge aus, die einen ungeraden Wert haben."
   ]
  },
  {
   "cell_type": "code",
   "execution_count": 93,
   "metadata": {},
   "outputs": [
    {
     "data": {
      "text/plain": [
       "b    1\n",
       "c    1\n",
       "d    7\n",
       "g    7\n",
       "dtype: int64"
      ]
     },
     "execution_count": 93,
     "metadata": {},
     "output_type": "execute_result"
    }
   ],
   "source": [
    "random.loc[random % 2 == 1]\n"
   ]
  },
  {
   "cell_type": "markdown",
   "metadata": {},
   "source": [
    "##### 5. Ist die Summe dieser Einträge gerade oder ungerade?"
   ]
  },
  {
   "cell_type": "code",
   "execution_count": 100,
   "metadata": {},
   "outputs": [
    {
     "data": {
      "text/plain": [
       "16"
      ]
     },
     "execution_count": 100,
     "metadata": {},
     "output_type": "execute_result"
    }
   ],
   "source": [
    "random.loc[random % 2 == 1].sum()\n",
    "\n"
   ]
  },
  {
   "cell_type": "markdown",
   "metadata": {},
   "source": [
    "##### 6. Kopieren Sie die Werte in eine neue Series. Nutzen Sie dabei die Indizes 'fegdachb' in dieser Reihenfolge."
   ]
  },
  {
   "cell_type": "code",
   "execution_count": 105,
   "metadata": {},
   "outputs": [
    {
     "data": {
      "text/plain": [
       "a    4\n",
       "b    6\n",
       "c    7\n",
       "d    7\n",
       "e    4\n",
       "f    1\n",
       "g    0\n",
       "h    1\n",
       "dtype: int64"
      ]
     },
     "execution_count": 105,
     "metadata": {},
     "output_type": "execute_result"
    }
   ],
   "source": [
    "#Kopieren Sie die Werte in eine neue Series. Nutzen Sie dabei die Indizes 'fegdachb' in dieser Reihenfolge.\n",
    "random_2 = random.loc[list('fegdachb')]\n",
    "random_2.index = list('abcdefgh')\n",
    "random_2\n"
   ]
  },
  {
   "cell_type": "markdown",
   "metadata": {},
   "source": [
    "##### 7. Was erhalten Sie, wenn Sie die beiden Series addieren?"
   ]
  },
  {
   "cell_type": "code",
   "execution_count": 106,
   "metadata": {},
   "outputs": [
    {
     "data": {
      "text/plain": [
       "a     8\n",
       "b     7\n",
       "c     8\n",
       "d    14\n",
       "e    10\n",
       "f     5\n",
       "g     7\n",
       "h     1\n",
       "dtype: int64"
      ]
     },
     "execution_count": 106,
     "metadata": {},
     "output_type": "execute_result"
    }
   ],
   "source": [
    "random + random_2"
   ]
  },
  {
   "cell_type": "markdown",
   "metadata": {
    "slideshow": {
     "slide_type": "slide"
    }
   },
   "source": [
    "## 2 Matplotlib\n",
    "\n",
    "Matplotlib is a plotting library for Python. It is the main plotting module for the scientific Python stack. The library provides an object-oriented API to plotting toolkits like Tkinter, Qt and other."
   ]
  },
  {
   "cell_type": "markdown",
   "metadata": {
    "slideshow": {
     "slide_type": "slide"
    }
   },
   "source": [
    "### 2.1 [`pyplot`](https://matplotlib.org/stable/api/_as_gen/matplotlib.pyplot.html#module-matplotlib.pyplot)\n",
    "\n",
    "- [`pyplot` module](https://github.com/matplotlib/matplotlib/blob/master/lib/matplotlib/pyplot.py) offers a set of functions to create and work with figures\n",
    "- `pyplot` is *stateful*, i.e. state (e.g. certain settings) is preserved across function calls\n",
    "- first thing to do when intending to work with `matplotlib`:\n",
    "```python\n",
    "import matplotlib.pyplot as plt # commonly accepted alias for `pyplot`\n",
    "```"
   ]
  },
  {
   "cell_type": "markdown",
   "metadata": {
    "slideshow": {
     "slide_type": "slide"
    }
   },
   "source": [
    "### 2.1.1 `Figure`s\n",
    "\n",
    "- Contains the full 'canvas' for graphics output and is connected to a drawing backend (e.g. inline display, PyQT5, ...)\n",
    "- [`matplotlib.Figure`](https://matplotlib.org/stable/api/figure_api.html#matplotlib.figure.Figure) class is the top-level container for everything related to the figure.\n",
    "```python\n",
    "# factory function from `pyplot` module that returns an empty instance\n",
    "fig = plt.figure()\n",
    "```\n",
    "We can also use the `Figure` methods to manage the figure.\n",
    "- Can contain one or more `Axes` objects."
   ]
  },
  {
   "cell_type": "markdown",
   "metadata": {
    "slideshow": {
     "slide_type": "slide"
    }
   },
   "source": [
    "#### 2.1.2 `Axes`\n",
    "- Region of the figure containing drawn data. A `Figure` can contain one or more `Axes` instances.\n",
    "- [`Axes`](https://matplotlib.org/stable/api/axes_api.html#matplotlib.axes.Axes) contain *two* [`Axis`](https://matplotlib.org/stable/api/axis_api.html#matplotlib.axis.Axis) (\"$x$-axis\" and \"$y$-axis\") objects that are used to manage the range of shown values (like a number-line).\n",
    "- Obtaining a `Axes` instance:\n",
    "```python\n",
    "# Get instance of `Figure` and `Axes` class from `subplots()` factory function.\n",
    "fig, ax = plt.subplots() # `Figure` instance with single `Axes`\n",
    "```\n",
    "- `matplotlib.axis.Axes` class implements methods to manage drawings. These member functions are the most common way of using the object-oriented API. For example:\n",
    "    - `ax.set_title()`: The title of current `Axes`.\n",
    "    - `ax.set_xlim()`, `ax.set_ylim()`: Set limits for value ranges along $x$- and $y$-axis."
   ]
  },
  {
   "cell_type": "markdown",
   "metadata": {
    "slideshow": {
     "slide_type": "slide"
    }
   },
   "source": [
    "The \"anatomy of a Matplotlib figure\" is detailed [here](https://matplotlib.org/stable/_images/sphx_glr_anatomy_001.png)."
   ]
  },
  {
   "cell_type": "code",
   "execution_count": null,
   "metadata": {
    "slideshow": {
     "slide_type": "slide"
    }
   },
   "outputs": [],
   "source": [
    "# Global setting for better readabiliy of text\n",
    "font = {\"size\": 15}\n",
    "mpl.rc('font', **font)"
   ]
  },
  {
   "cell_type": "markdown",
   "metadata": {
    "slideshow": {
     "slide_type": "slide"
    }
   },
   "source": [
    "### 2.2 `pyplot` functional API"
   ]
  },
  {
   "cell_type": "markdown",
   "metadata": {
    "slideshow": {
     "slide_type": "slide"
    }
   },
   "source": [
    "#### 2.2.1 The [`plot()`](https://matplotlib.org/stable/api/_as_gen/matplotlib.pyplot.plot.html) function\n",
    "```python\n",
    "plt.plot(*args, scalex=True, scaley=True, data=None, **kwargs)\n",
    "```\n",
    "\n",
    "Typical call signatures:\n",
    "\n",
    "```python\n",
    "plot([x], y, [fmt], **kwargs) # [<param>]: optional parameters\n",
    "plot([x0], y0, [fmt0], [x1], y1, [fmt1], **kwargs)\n",
    "```\n",
    "\n",
    "- `x`: *ordinate* values ($x$ values)\n",
    "- `y`: *abscissa* values ($y$ values)\n",
    "- `**kwargs`: Can be used for further customisation of the plots."
   ]
  },
  {
   "cell_type": "markdown",
   "metadata": {
    "slideshow": {
     "slide_type": "slide"
    }
   },
   "source": [
    "Plotting a parabola: $y = f(x) = x^2$"
   ]
  },
  {
   "cell_type": "code",
   "execution_count": null,
   "metadata": {
    "slideshow": {
     "slide_type": "fragment"
    }
   },
   "outputs": [],
   "source": [
    "# Instanciate a figure object with `figure()` factory function. Here we only need it to set the size of the figure.\n",
    "fig = plt.figure(figsize=(6, 4))"
   ]
  },
  {
   "cell_type": "code",
   "execution_count": null,
   "metadata": {
    "slideshow": {
     "slide_type": "fragment"
    }
   },
   "outputs": [],
   "source": [
    "x_min, x_max, num_points = -1, 1, 101\n",
    "x_values = pd.Series(np.linspace(x_min, x_max, num=num_points))\n",
    "x_values"
   ]
  },
  {
   "cell_type": "code",
   "execution_count": null,
   "metadata": {
    "slideshow": {
     "slide_type": "fragment"
    }
   },
   "outputs": [],
   "source": [
    "# Axis labels are paricularily important when dealing data with units (e.g. cm or kg).?\n",
    "plt.xlabel(\"$x$ label\")\n",
    "plt.ylabel(\"$y$ label\")\n",
    "# In the most basic calls to `plot()` be only pass the x and the y values. `plt` \"knows\" about the global settings.\n",
    "plt.plot(x_values, x_values**2)"
   ]
  },
  {
   "cell_type": "markdown",
   "metadata": {
    "slideshow": {
     "slide_type": "slide"
    }
   },
   "source": [
    "We can also draw multiple graphs:"
   ]
  },
  {
   "cell_type": "code",
   "execution_count": null,
   "metadata": {
    "slideshow": {
     "slide_type": "fragment"
    }
   },
   "outputs": [],
   "source": [
    "plt.xlabel(\"$x$ label\")\n",
    "plt.ylabel(\"$y$ label\")\n",
    "\n",
    "# We cann call `plot()` several times with x and y values. `plt` is *stateful* and hence memorises the result of\n",
    "# previous calls to `plot()`.\n",
    "plt.plot(x_values, x_values, label=\"linear\")\n",
    "plt.plot(x_values, x_values**2, label=\"quadratic\")\n",
    "plt.plot(x_values, x_values**3, label=\"cubic\")\n",
    "\n",
    "# Using a legend is advisable with multiple graphs in a single figure.\n",
    "# Matplotlib will try to intelligently place the figure on the canvas.\n",
    "plt.legend()"
   ]
  },
  {
   "cell_type": "markdown",
   "metadata": {
    "slideshow": {
     "slide_type": "slide"
    }
   },
   "source": [
    "### 2.3 Object-oriented  API"
   ]
  },
  {
   "cell_type": "markdown",
   "metadata": {
    "slideshow": {
     "slide_type": "slide"
    }
   },
   "source": [
    "The object-oriented (OO) API is generally more versatile."
   ]
  },
  {
   "cell_type": "code",
   "execution_count": null,
   "metadata": {
    "slideshow": {
     "slide_type": "fragment"
    }
   },
   "outputs": [],
   "source": [
    "fig, ax = plt.subplots(figsize=(6, 4))\n",
    "\n",
    "# We can make drawings by calling the suitable methods of the `Axes` instance.\n",
    "ax.set_xlabel(\"$x$ label\")  # Name of the method slightly different from functional API.\n",
    "ax.set_ylabel(\"$y$ label\")\n",
    "\n",
    "# `Axes` object also have a `plot()` method. It can be called in in the same manner (same args etc)\n",
    "# as when working with functional API. Linestyle and colours are selected from the available default values.\n",
    "ax.plot(x_values, x_values, label=\"linear\")\n",
    "ax.plot(x_values, x_values**2, label=\"quadratic\")\n",
    "ax.plot(x_values, x_values**3, label=\"cubic\")\n",
    "ax.legend()"
   ]
  },
  {
   "cell_type": "markdown",
   "metadata": {
    "slideshow": {
     "slide_type": "slide"
    }
   },
   "source": [
    "With the OO API we can easily create several `Axes` objects with the same `Figure`."
   ]
  },
  {
   "cell_type": "code",
   "execution_count": null,
   "metadata": {
    "slideshow": {
     "slide_type": "fragment"
    }
   },
   "outputs": [],
   "source": [
    "fig, (ax1, ax2, ax3) = plt.subplots(nrows=1, ncols=3, figsize=(16, 4))\n",
    "\n",
    "for title, ax in zip((\"linear\", \"quadratic\", \"cubic\"), (ax1, ax2, ax3)):\n",
    "    ax.minorticks_on()  # Sometimes minorticks can be helpful in plots.\n",
    "    ax.set_title(\n",
    "        title\n",
    "    )  # A title should be meaningful helping understand what is shown in the figure.\n",
    "    ax.set_xlabel(\"$x$ label\")\n",
    "ax1.set_ylabel(\"$y$ label\")\n",
    "\n",
    "ax1.plot(x_values, x_values)\n",
    "ax2.plot(x_values, x_values**2)\n",
    "ax3.plot(x_values, x_values**3)"
   ]
  },
  {
   "cell_type": "markdown",
   "metadata": {
    "slideshow": {
     "slide_type": "slide"
    }
   },
   "source": [
    "### 2.4 Customising plots"
   ]
  },
  {
   "cell_type": "markdown",
   "metadata": {
    "slideshow": {
     "slide_type": "slide"
    }
   },
   "source": [
    "Visualising data is a key aspect of scientific work. While giving a condensed view on data (in the sense that raw numbers are not shown) plots can unravel important properties of data. We therefore must make sure to choose decent graphical representations."
   ]
  },
  {
   "cell_type": "markdown",
   "metadata": {
    "slideshow": {
     "slide_type": "slide"
    }
   },
   "source": [
    "#### 2.4.1 Lines and markers\n",
    "\n",
    "During measurements samples usually cannot be continuously obtained. Data is obtained at a finite set of discrete values.\n",
    "\n",
    "#### Example\n",
    "Measuring a car's velocity at constant acceleration.\n",
    "\n",
    "| time / s | velocity / m$\\cdot$s$^{-1}$ |\n",
    "|:----------:|:----------------:|\n",
    "| 0.4     | 2.5            |\n",
    "| 2.2      | 22.0           |\n",
    "| 4.2      | 41.5           |\n",
    "| 6.1      | 61.0           |"
   ]
  },
  {
   "cell_type": "code",
   "execution_count": null,
   "metadata": {
    "slideshow": {
     "slide_type": "subslide"
    }
   },
   "outputs": [],
   "source": [
    "num_points = 11\n",
    "\n",
    "time = np.linspace(0.25, 10, num=num_points)\n",
    "velocity = 10 * time + np.random.normal(loc=0, scale=2, size=(num_points,))\n",
    "\n",
    "data = pd.Series(index=time, data=velocity)\n",
    "data"
   ]
  },
  {
   "cell_type": "code",
   "execution_count": null,
   "metadata": {
    "slideshow": {
     "slide_type": "subslide"
    }
   },
   "outputs": [],
   "source": [
    "fig, (ax1, ax2, ax3) = plt.subplots(1, 3, sharey=True, figsize=(12, 4))\n",
    "\n",
    "# axis labels with correct units are important\n",
    "for title, ax in zip((\"line\", \"line + markers\", \"markers\"), (ax1, ax2, ax3)):\n",
    "    ax.set_xlabel(\"time / s\")\n",
    "    ax.set_title(title)\n",
    "ax1.set_ylabel(\"velocity / m$\\cdot$s$^{-1}$\")\n",
    "\n",
    "ax1.plot(data.index, data.values)\n",
    "ax2.plot(data.index, data.values, marker=\"o\", linestyle=\"-\")\n",
    "ax3.plot(data.index, data.values, marker=\"o\", linestyle=\"\")"
   ]
  },
  {
   "cell_type": "markdown",
   "metadata": {
    "slideshow": {
     "slide_type": "subslide"
    }
   },
   "source": [
    "#### 2.4.2 Comments"
   ]
  },
  {
   "cell_type": "markdown",
   "metadata": {
    "slideshow": {
     "slide_type": "subslide"
    }
   },
   "source": [
    "- Line-only plot\n",
    "    - Looks like we have more data points that actually measured (measured data cannot be easily identified)\n",
    "    - Artificially connects data points \n",
    "    - $\\Rightarrow$ Misleading representation of data"
   ]
  },
  {
   "cell_type": "markdown",
   "metadata": {
    "slideshow": {
     "slide_type": "subslide"
    }
   },
   "source": [
    "- Line + markers plot\n",
    "    - Decently shows data obtained from measurement\n",
    "    - Connection between data points still artificial but we may use it as \"guide to the eye\" (this should be clarified in e.g. in a figure caption)"
   ]
  },
  {
   "cell_type": "markdown",
   "metadata": {
    "slideshow": {
     "slide_type": "subslide"
    }
   },
   "source": [
    "- Marker-only plot\n",
    "    - Decently shows data obtained from measurement\n",
    "    - Often accompanied with fit"
   ]
  },
  {
   "cell_type": "code",
   "execution_count": null,
   "metadata": {
    "slideshow": {
     "slide_type": "subslide"
    }
   },
   "outputs": [],
   "source": [
    "styles = {\"marker\": \"o\", \"markersize\": 8.5, \"linestyle\": \"\", \"linewidth\": 2.5}"
   ]
  },
  {
   "cell_type": "code",
   "execution_count": null,
   "metadata": {
    "slideshow": {
     "slide_type": "subslide"
    }
   },
   "outputs": [],
   "source": [
    "from scipy.stats import linregress\n",
    "\n",
    "\n",
    "def fit_func_data(x, y, num_points=101):\n",
    "    res = linregress(x, y)\n",
    "    span = x.max() - x.min()\n",
    "    x_values = np.linspace(x.min() - 0.1 * span, x.max() + 0.1 * span, num=num_points)\n",
    "    y_values = np.vectorize(lambda x: res.intercept + res.slope * x)(x_values)\n",
    "    return pd.Series(index=x_values, data=y_values)\n",
    "\n",
    "\n",
    "fit_data = fit_func_data(data.index, data.values)\n",
    "\n",
    "plt.xlabel(\"time / s\")\n",
    "plt.ylabel(\"velocity / m$\\cdot$s$^{-1}$\")\n",
    "plt.plot(data.index, data.values, label=\"measurement\", **styles)\n",
    "plt.plot(\n",
    "    fit_data.index, fit_data.values, label=\"linear fit\", linewidth=styles[\"linewidth\"]\n",
    ")\n",
    "plt.legend()"
   ]
  },
  {
   "cell_type": "markdown",
   "metadata": {
    "slideshow": {
     "slide_type": "subslide"
    }
   },
   "source": [
    "Different types (shapes) of [markers](https://matplotlib.org/stable/api/markers_api.html) are available from Matplotlib."
   ]
  },
  {
   "cell_type": "code",
   "execution_count": null,
   "metadata": {
    "scrolled": true,
    "slideshow": {
     "slide_type": "subslide"
    }
   },
   "outputs": [],
   "source": [
    "fig, axes = plt.subplots(3, 3, sharex='col', sharey='row', figsize=(15, 10))\n",
    "for idx, (ax, marker) in enumerate(\n",
    "    zip(axes.ravel(), (\"o\", \"v\", \"8\", \"s\", \"P\", \"D\", \"d\", \">\", \"<\"))\n",
    "):\n",
    "    if (idx + 1) % 3 == 1:\n",
    "        ax.set_ylabel(\"velocity / m$\\cdot$s$^{-1}$\")\n",
    "    if idx > 5:\n",
    "        ax.set_xlabel(\"time / s\")\n",
    "    ax.plot(data.index, data.values, marker=marker, markersize=10, linestyle=\"\")"
   ]
  },
  {
   "cell_type": "markdown",
   "metadata": {
    "slideshow": {
     "slide_type": "subslide"
    }
   },
   "source": [
    "Different linestyles are also possible.\n",
    "\n",
    "Allowed values for `linestyle` argument of the `plot()` function are:\n",
    "```python\n",
    "'-', '--', '-.', ':', 'None', ' ', '', 'solid', 'dashed', 'dashdot', 'dotted'\n",
    "```"
   ]
  },
  {
   "cell_type": "code",
   "execution_count": null,
   "metadata": {
    "slideshow": {
     "slide_type": "subslide"
    }
   },
   "outputs": [],
   "source": [
    "x_values = np.linspace(-2 * np.pi, 2 * np.pi, num=1001)\n",
    "\n",
    "plot_config = (\n",
    "    dict(shift=-np.pi / 3, ls=\"-\", lw=2.5, label=r\"$\\theta=\\pi/3$\"),\n",
    "    dict(shift=0, ls=\"--\", lw=2.5, label=r\"$\\theta=0$\"),\n",
    "    dict(shift=np.pi / 2, ls=\":\", lw=2.5, label=r\"$\\theta=\\pi/2$\"),\n",
    "    dict(shift=np.pi, ls=\"-.\", lw=2.5, label=r\"$\\theta=\\pi$\"),\n",
    ")"
   ]
  },
  {
   "cell_type": "code",
   "execution_count": null,
   "metadata": {
    "slideshow": {
     "slide_type": "subslide"
    }
   },
   "outputs": [],
   "source": [
    "plt.xlabel(r\"$x$\")\n",
    "plt.ylabel(r\"$\\sin(x-\\theta)$\")\n",
    "for conf in plot_config:\n",
    "    plt.plot(\n",
    "        x_values,\n",
    "        np.sin(x_values - conf[\"shift\"]),\n",
    "        linestyle=conf[\"ls\"],\n",
    "        linewidth=conf[\"lw\"],\n",
    "        label=conf[\"label\"],\n",
    "    )\n",
    "plt.legend()"
   ]
  },
  {
   "cell_type": "markdown",
   "metadata": {
    "slideshow": {
     "slide_type": "subslide"
    }
   },
   "source": [
    "Colors for lines in plots can also be chosen manually.\n",
    "\n",
    "For more information on how to use colors with Matplotlib refer to the followin links:\n",
    "\n",
    "- https://matplotlib.org/stable/api/colors_api.html#module-matplotlib.colors \n",
    "- https://matplotlib.org/stable/gallery/color/color_demo.html#sphx-glr-gallery-color-color-demo-py\n",
    "- https://matplotlib.org/stable/tutorials/colors/colors.html#sphx-glr-tutorials-colors-colors-py"
   ]
  },
  {
   "cell_type": "markdown",
   "metadata": {
    "slideshow": {
     "slide_type": "subslide"
    }
   },
   "source": [
    "We can specify colors in multiple ways:\n",
    "- RGB tuple: `(r_value, g_value, b_value)`, or RGBA tuple: `(r_value, g_value, b_value, alpha)`. The value inside  the tuple are float values from the closed interval `[0, 1]`.\n",
    "- HEX strings\n",
    "- Named colors from e.g. https://matplotlib.org/stable/gallery/color/named_colors.html or https://xkcd.com/color/rgb/"
   ]
  },
  {
   "cell_type": "code",
   "execution_count": null,
   "metadata": {
    "slideshow": {
     "slide_type": "subslide"
    }
   },
   "outputs": [],
   "source": [
    "# Matplotlib can deal with named colors as well as HEX strings\n",
    "\n",
    "named_colors = (\"black\", \"red\", \"blue\", \"cyan\")\n",
    "\n",
    "hex_colors = (\n",
    "    \"#000000\",  # \"xkcd:blacks\"\n",
    "    \"#e50000\",  # \"xkcd:red\"\n",
    "    \"#0343df\",  # \"xkcd:blue\"\n",
    "    \"#00ffff\",\n",
    ")  # \"xkcd:cyan\""
   ]
  },
  {
   "cell_type": "code",
   "execution_count": null,
   "metadata": {
    "slideshow": {
     "slide_type": "subslide"
    }
   },
   "outputs": [],
   "source": [
    "fig, (ax1, ax2) = plt.subplots(nrows=1, ncols=2, figsize=(10, 4))\n",
    "\n",
    "for ax in (ax1, ax2):\n",
    "    ax.set_xlabel(r'$x$')\n",
    "ax1.set_ylabel(r'$\\sin(x - \\theta)$')\n",
    "\n",
    "for color, conf in zip(named_colors, plot_config):\n",
    "    ax1.plot(\n",
    "        x_values,\n",
    "        np.sin(x_values - conf[\"shift\"]),\n",
    "        color=color,\n",
    "        linestyle=conf[\"ls\"],\n",
    "        linewidth=conf[\"lw\"],\n",
    "        label=color,\n",
    "    )\n",
    "ax1.legend()\n",
    "\n",
    "for color, conf in zip(hex_colors, plot_config):\n",
    "    ax2.plot(\n",
    "        x_values,\n",
    "        np.sin(x_values - conf[\"shift\"]),\n",
    "        color=color,\n",
    "        linestyle=conf[\"ls\"],\n",
    "        linewidth=conf[\"lw\"],\n",
    "        label=color,\n",
    "    )\n",
    "ax2.legend()"
   ]
  },
  {
   "cell_type": "markdown",
   "metadata": {
    "slideshow": {
     "slide_type": "subslide"
    }
   },
   "source": [
    "It is often preferrable to separate data in multiple `Axes` objects. This will greatly enhance clarity."
   ]
  },
  {
   "cell_type": "code",
   "execution_count": null,
   "metadata": {
    "slideshow": {
     "slide_type": "subslide"
    }
   },
   "outputs": [],
   "source": [
    "fig, axes = plt.subplots(\n",
    "    nrows=len(plot_config), ncols=1, sharex=\"col\", sharey=True, figsize=(10, 8)\n",
    ")\n",
    "\n",
    "for idx, (ax, conf) in enumerate(zip(axes, plot_config)):\n",
    "    ax.set_ylabel(r\"$\\sin(x-\\theta)$\")\n",
    "    ax.grid(linestyle=\"--\", linewidth=0.5)\n",
    "    ax.plot(\n",
    "        x_values,\n",
    "        np.sin(x_values - conf[\"shift\"]),\n",
    "        linewidth=conf[\"lw\"],\n",
    "        label=conf[\"label\"],\n",
    "    )\n",
    "    ax.legend(loc=\"upper right\")\n",
    "axes[-1].set_xlabel(\"$x$\")"
   ]
  },
  {
   "cell_type": "markdown",
   "metadata": {
    "slideshow": {
     "slide_type": "subslide"
    }
   },
   "source": [
    "A common use case of gathering multiple datasets in *one* `Axes` object is if we want to trace trends. "
   ]
  },
  {
   "cell_type": "code",
   "execution_count": null,
   "metadata": {
    "slideshow": {
     "slide_type": "subslide"
    }
   },
   "outputs": [],
   "source": [
    "def gaussians(x_values, sigma, offsets, weights):\n",
    "    def gauss(x, sigma, offset):\n",
    "        pre_factor = 1 / (sigma * np.sqrt(2 * np.pi))\n",
    "        exp_factor = 1 / (2 * sigma**2)\n",
    "        return pre_factor * np.exp(-((x - offset) ** 2) * exp_factor)\n",
    "\n",
    "    return np.dot(\n",
    "        weights,\n",
    "        gauss(x_values, sigma, offsets[..., np.newaxis]),\n",
    "    )\n",
    "\n",
    "\n",
    "annealing_temperature = np.arange(100, 1001, 100)"
   ]
  },
  {
   "cell_type": "markdown",
   "metadata": {
    "slideshow": {
     "slide_type": "subslide"
    }
   },
   "source": [
    "#### Note\n",
    "\n",
    "The data used for the following figure has *not* been obtained from real measurements."
   ]
  },
  {
   "cell_type": "code",
   "execution_count": null,
   "metadata": {
    "scrolled": false,
    "slideshow": {
     "slide_type": "subslide"
    }
   },
   "outputs": [],
   "source": [
    "x_values = np.linspace(20, 65, num=10001)\n",
    "\n",
    "_, ax = plt.subplots(figsize=(10, 5))\n",
    "ax.set_title(\"XRD intensity vs. annealing temperature\")\n",
    "ax.set_xlabel(r\"angle / degrees\")\n",
    "ax.set_ylabel(r\"intensity / arb. units\")\n",
    "ax.grid()  # Grids can be helpful for orientation inside the figure.\n",
    "ax.minorticks_on()  # Helpful for details.\n",
    "\n",
    "for temp, damp in zip(annealing_temperature[::-1], np.arange(0.1, 1.1, 0.1)[::-1]):\n",
    "    ax.plot(\n",
    "        x_values,\n",
    "        damp * gaussians(x_values, 1.5, np.array((30, 50)), (1, 0.4)),\n",
    "        label=r\"%d${}^{\\circ}$C\" % (temp,),\n",
    "    )\n",
    "\n",
    "ax.legend(loc=\"upper right\", fontsize=16)"
   ]
  },
  {
   "cell_type": "markdown",
   "metadata": {
    "slideshow": {
     "slide_type": "subslide"
    }
   },
   "source": [
    "Another possible data encoding scheme is to use colors to encode additional degrees of freedom. \n",
    "\n",
    "Matplotlib offers many colormaps for different purposes. Colormaps must be chosen with care; for an in-depth discussion of things to consider (e.g. colorblind-friendly colormaps) please refer to [this website](https://matplotlib.org/stable/tutorials/colors/colormaps.html).\n",
    "\n",
    "Refer to the [colormap reference](https://matplotlib.org/stable/gallery/color/colormap_reference.html). "
   ]
  },
  {
   "cell_type": "code",
   "execution_count": null,
   "metadata": {
    "slideshow": {
     "slide_type": "subslide"
    }
   },
   "outputs": [],
   "source": [
    "import matplotlib.cm as cmap\n",
    "import matplotlib.colors as colors\n",
    "\n",
    "# We will encode the annealing temperature in colors. Lines representing data related to higher temperatures will be\n",
    "# shown as lighter colors while lines related to data from lower-temperatures will be shown in darker colors.\n",
    "\n",
    "color_map = plt.get_cmap(\"plasma\")\n",
    "# Normalise colormap to current range of values.\n",
    "color_norm = colors.Normalize(\n",
    "    vmin=-250 + np.min(annealing_temperature), vmax=+200 + np.max(annealing_temperature)\n",
    ")\n",
    "temp_to_color = cmap.ScalarMappable(norm=color_norm, cmap=color_map)"
   ]
  },
  {
   "cell_type": "code",
   "execution_count": null,
   "metadata": {
    "slideshow": {
     "slide_type": "subslide"
    }
   },
   "outputs": [],
   "source": [
    "x_values = np.linspace(20, 65, num=10001)\n",
    "\n",
    "_, ax = plt.subplots(figsize=(10, 5))\n",
    "ax.set_title(\"XRD intensity vs. annealing temperature\")\n",
    "ax.set_xlabel(r\"angle / degrees\")\n",
    "ax.set_ylabel(r\"intensity / arb. units\")\n",
    "ax.grid()  # Grids can be helpful for orientation inside the figure.\n",
    "ax.minorticks_on()  # Helpful for details.\n",
    "\n",
    "for temp, damp in zip(annealing_temperature[::-2], np.arange(0.1, 1.1, 0.1)[::-2]):\n",
    "    ax.plot(\n",
    "        x_values,\n",
    "        damp * gaussians(x_values, 1.5, np.array((30, 50)), (1, 0.4)),\n",
    "        label=r\"%d${}^{\\circ}$C\" % (temp,),\n",
    "        color=temp_to_color.to_rgba(temp),\n",
    "    )\n",
    "\n",
    "ax.legend(loc=\"upper right\", fontsize=16)"
   ]
  },
  {
   "cell_type": "markdown",
   "metadata": {
    "slideshow": {
     "slide_type": "slide"
    }
   },
   "source": [
    "### 2.5 Axes styles"
   ]
  },
  {
   "cell_type": "markdown",
   "metadata": {
    "slideshow": {
     "slide_type": "subslide"
    }
   },
   "source": [
    "In case the units as well as the precise values at a particular axis are not important we leave them out."
   ]
  },
  {
   "cell_type": "code",
   "execution_count": null,
   "metadata": {
    "slideshow": {
     "slide_type": "subslide"
    }
   },
   "outputs": [],
   "source": [
    "x_values = np.linspace(20, 65, num=10001)\n",
    "\n",
    "_, ax = plt.subplots(figsize=(10, 5))\n",
    "ax.set_title(\"XRD intensity vs. annealing temperature\")\n",
    "ax.set_xlabel(r\"angle / degrees\")\n",
    "ax.set_ylabel(r\"intensity / arb. units\")\n",
    "ax.set_yticklabels([])\n",
    "ax.grid()  # Grids can be helpful for orientation inside the figure.\n",
    "ax.minorticks_on()  # Helpful for details.\n",
    "\n",
    "for temp, damp in zip(annealing_temperature[::-2], np.arange(0.1, 1.1, 0.1)[::-2]):\n",
    "    ax.plot(\n",
    "        x_values,\n",
    "        damp * gaussians(x_values, 1.5, np.array((30, 50)), (1, 0.4)),\n",
    "        label=r\"%d${}^{\\circ}$C\" % (temp,),\n",
    "        color=temp_to_color.to_rgba(temp),\n",
    "    )\n",
    "\n",
    "ax.legend(loc=\"upper right\", fontsize=16)"
   ]
  },
  {
   "cell_type": "markdown",
   "metadata": {
    "slideshow": {
     "slide_type": "subslide"
    }
   },
   "source": [
    "We can set the ticks as well as the tick labels for the axes ourselves."
   ]
  },
  {
   "cell_type": "code",
   "execution_count": null,
   "metadata": {
    "slideshow": {
     "slide_type": "subslide"
    }
   },
   "outputs": [],
   "source": [
    "x_values = np.linspace(-2 * np.pi, 2 * np.pi, num=501)\n",
    "\n",
    "fig, ax = plt.subplots(nrows=1, ncols=1)\n",
    "ax.set_xticks(np.linspace(-2 * np.pi, 2 * np.pi, 5))\n",
    "ax.set_xticklabels((r\"$-2\\pi$\", r\"$-\\pi$\", \"0\", r\"$\\pi$\", r\"$2\\pi$\"))\n",
    "# A zeroline can be a useful guide to the eye.\n",
    "ax.axhline(y=0, color='black', linewidth=1.0, linestyle='--')\n",
    "# ax.grid()\n",
    "\n",
    "ax.set_xlabel(r\"$x$\")\n",
    "ax.set_ylabel(r\"$\\sin(x)$\")\n",
    "ax.plot(x_values, np.sin(x_values), linewidth=2.5)"
   ]
  },
  {
   "cell_type": "markdown",
   "metadata": {
    "slideshow": {
     "slide_type": "subslide"
    }
   },
   "source": [
    "The range of values along an axis can be set manually."
   ]
  },
  {
   "cell_type": "code",
   "execution_count": null,
   "metadata": {
    "slideshow": {
     "slide_type": "subslide"
    }
   },
   "outputs": [],
   "source": [
    "fig, (ax1, ax2) = plt.subplots(1, 2, figsize=(12, 4), sharex=False, sharey=False)\n",
    "for ax in (ax1, ax2):\n",
    "    ax.set_xlabel(r\"$x$\")\n",
    "    ax.set_ylabel(r\"$y$\")\n",
    "\n",
    "x_values = np.linspace(0, 2 * np.pi, num=1001)\n",
    "sine_values = np.sin(x_values)\n",
    "\n",
    "# Plot showing the full data. Matplotlib chooses the value ranges automatically to make the figure look \"good\".\n",
    "ax1.plot(x_values, sine_values, label=r\"$\\sin(x)$\")\n",
    "ax1.legend()\n",
    "# Plot with truncated value ranges along x- and x-axis.\n",
    "ax2.set_xlim((0, np.max(x_values) / 12))\n",
    "ax2.set_ylim((0, 0.5))\n",
    "ax2.plot(x_values, sine_values, label=r\"$f(x) =\\sin(x)$\")\n",
    "ax2.plot(x_values, x_values, label=r\"$f(x) = x$\")\n",
    "ax2.legend()"
   ]
  },
  {
   "cell_type": "markdown",
   "metadata": {
    "slideshow": {
     "slide_type": "subslide"
    }
   },
   "source": [
    "#### log-linear and log-log plots"
   ]
  },
  {
   "cell_type": "code",
   "execution_count": null,
   "metadata": {
    "slideshow": {
     "slide_type": "subslide"
    }
   },
   "outputs": [],
   "source": [
    "x_values = np.linspace(0.1, 10)\n",
    "\n",
    "\n",
    "def fpower1(x, a, b):\n",
    "    return a * x_values**b\n",
    "\n",
    "\n",
    "def fpower2(x, a, l, g):\n",
    "    return l * a ** (g * x_values)"
   ]
  },
  {
   "cell_type": "markdown",
   "metadata": {
    "slideshow": {
     "slide_type": "subslide"
    }
   },
   "source": [
    "#### log-log plot\n",
    "\n",
    "If we have a functional relationship of the form $f(x) = y = a x^m$ we can take the logarithm to base $B$ (any base) on both sides to obtain:\n",
    "\n",
    "$$\n",
    "\\log_B y = \\log_B\\left(a x^m\\right) = \\log_B a + \\log_B \\left(x^m\\right) = \\log_B a + m \\log_B x \n",
    "$$\n",
    "\n",
    "Setting $Y = \\log_B y$, $X = \\log_B x$ and $b = \\log_B a$ we arrive at a linear equation \n",
    "\n",
    "$$\n",
    "Y = m X + b\n",
    "$$\n",
    "\n",
    "with slope $m$ and (log $y$)-axis intercept $b$."
   ]
  },
  {
   "cell_type": "code",
   "execution_count": null,
   "metadata": {
    "slideshow": {
     "slide_type": "subslide"
    }
   },
   "outputs": [],
   "source": [
    "fig, (ax1, ax2, ax3) = plt.subplots(1, 3, figsize=(20, 4))\n",
    "\n",
    "a, b = 2, 3\n",
    "\n",
    "ax1.set_title(r\"linear-linear plot\")\n",
    "ax1.set_xlabel(r\"$x$\")\n",
    "ax1.set_ylabel(r\"$y$\")\n",
    "ax1.plot(x_values, fpower1(x_values, a, b))\n",
    "\n",
    "ax2.set_title(r\"$\\log_{10}$-$\\log_{10}$ plot of \" + r\"$y = a x^b$\")\n",
    "ax2.set_xlabel(r\"$x$\")\n",
    "ax2.set_ylabel(r\"$y$\")\n",
    "ax2.set_xscale(\"log\")\n",
    "ax2.set_yscale(\"log\")\n",
    "ax2.plot(x_values, fpower1(x_values, a, b))\n",
    "\n",
    "ax3.set_title(r\"plot of \" + r\"$\\log_{10}y = \\log_{10}(a x^b)$\")\n",
    "ax3.set_xlabel(r\"$\\log_{10}x$\")\n",
    "ax3.set_ylabel(r\"$\\log_{10}y$\")\n",
    "ax3.set_xscale(\"linear\")\n",
    "ax3.set_yscale(\"linear\")\n",
    "ax3.plot(np.log10(x_values), np.log10(fpower1(x_values, a, b)))"
   ]
  },
  {
   "cell_type": "markdown",
   "metadata": {
    "slideshow": {
     "slide_type": "subslide"
    }
   },
   "source": [
    "#### log-linear plot\n",
    "\n",
    "If we have a functional relationship of the form $f(x) = y = \\lambda a^{\\gamma x}$ we can take the logarithm to base $B$ (any base) on both sides to obtain:\n",
    "\n",
    "$$\n",
    "\\log_B y = \\log_B\\left(\\lambda a^{\\gamma x}\\right) = \\log_B \\lambda + x \\gamma \\log_B a\n",
    "$$\n",
    "\n",
    "Setting $Y = \\log_B y$, $m = \\gamma \\log_Ba$ and $b = \\log_B\\lambda$ we obtain a linear equation \n",
    "\n",
    "$$\n",
    "Y = m x + b\n",
    "$$\n",
    "\n",
    "with slope $m$ and (log $y$)-axis intercept $b$."
   ]
  },
  {
   "cell_type": "code",
   "execution_count": null,
   "metadata": {
    "slideshow": {
     "slide_type": "subslide"
    }
   },
   "outputs": [],
   "source": [
    "fig, (ax1, ax2, ax3) = plt.subplots(1, 3, figsize=(18, 4))\n",
    "\n",
    "a, l, g = 10, 2, 0.5\n",
    "\n",
    "ax1.set_title(r\"linear-linear plot\")\n",
    "ax1.set_xlabel(r\"$x$\")\n",
    "ax1.set_ylabel(r\"$y$\")\n",
    "ax1.plot(x_values, fpower2(x_values, a, l, g))\n",
    "\n",
    "ax2.set_title(r\"$\\log_{10}$-linear plot of \" + r\"$y = \\lambda a^{\\gamma x}$\")\n",
    "ax2.set_xlabel(r\"$x$\")\n",
    "ax2.set_ylabel(r\"$y$\")\n",
    "ax2.set_xscale(\"linear\")\n",
    "ax2.set_yscale(\"log\")\n",
    "ax2.plot(x_values, fpower2(x_values, a, l, g))\n",
    "\n",
    "ax3.set_title(\n",
    "    \"plot of \" + r\"$\\log_{10} y = \\log_{10}\\left(\\lambda a^{\\gamma x}\\right)$\"\n",
    ")\n",
    "ax3.set_xlabel(r\"$x$\")\n",
    "ax3.set_ylabel(r\"$\\log_{10} y$\")\n",
    "ax3.set_xscale(\"linear\")\n",
    "ax3.set_yscale(\"linear\")\n",
    "ax3.plot(x_values, np.log10(fpower2(x_values, a, l, g)))"
   ]
  },
  {
   "cell_type": "markdown",
   "metadata": {},
   "source": [
    "### 2.6 Tasks"
   ]
  },
  {
   "cell_type": "markdown",
   "metadata": {},
   "source": [
    "##### 1. Dampened harmonic oscillator\n",
    "Plot the dampened harmonic oscillation $f(t) = \\mathrm{e}^{-t}\\cdot\\sin(2\\pi\\cdot 3 \\cdot t)$ in the time interval $[0s, 5s]$, as well as the upper and lower exponential envelope. Add a legend and axis labels. Limit the x range to $[0, 5]$. How many points on the x-axis do you need to use in order for the graphs to appear smooth?"
   ]
  },
  {
   "cell_type": "markdown",
   "metadata": {},
   "source": [
    "##### 2. Points in a circle\n",
    "\n",
    "Gather a random array `P` of shape `(N, 2)` with `N=1000` uniformly from the range `[-1, 1]`. Interpret this as N 2D points and draw a scatterplot. Draw an unfilled circle on top, with radius 1 and origin (0, 0). Now, sort P into two arrays, `P_inside` and `P_outside`, depending on the points being inside or outside of the circle, using numpy. Plot the points inside in a different color. What is `P_inside.shape[0]/(P.shape[0]/4) ?`"
   ]
  },
  {
   "cell_type": "markdown",
   "metadata": {
    "slideshow": {
     "slide_type": "slide"
    }
   },
   "source": [
    "## 3 Plotting with Pandas `Series`"
   ]
  },
  {
   "cell_type": "markdown",
   "metadata": {
    "slideshow": {
     "slide_type": "subslide"
    }
   },
   "source": [
    "Pandas `Series` objects have an interface to Matplotlib that can be conventiently used to generate plots of datasets. The advantage of having a dedicated method for visualising (parts of) the data will become even more aparent when we deal with Pandas `DataFrame` objects."
   ]
  },
  {
   "cell_type": "markdown",
   "metadata": {
    "slideshow": {
     "slide_type": "subslide"
    }
   },
   "source": [
    "`Series` instances have a [`plot()`](https://pandas.pydata.org/docs/reference/api/pandas.Series.plot.html) method that returns a Matplotlib `Axes` object.\n",
    "\n",
    "The `kind` parameter of this method allows tho choose between different *types* of plots (default value is `'line'`). "
   ]
  },
  {
   "cell_type": "markdown",
   "metadata": {
    "slideshow": {
     "slide_type": "subslide"
    }
   },
   "source": [
    "Possilbe value for `kind`:\n",
    "\n",
    "- `'line'` : line plot (default)\n",
    "- `'bar'` : vertical bar plot\n",
    "- `'barh''` : horizontal bar plot\n",
    "- `'hist'` : histogram\n",
    "- `'box'` : boxplot\n",
    "- `'kde'` : Kernel Density Estimation plot\n",
    "- `'density'` : same as ‘kde’\n",
    "- `'area'` : area plot\n",
    "- `'pie'` : pie plot\n",
    "- `'scatter'` : scatter plot\n",
    "- `'hexbin'` : hexbin plot."
   ]
  },
  {
   "cell_type": "code",
   "execution_count": null,
   "metadata": {
    "slideshow": {
     "slide_type": "subslide"
    }
   },
   "outputs": [],
   "source": [
    "x_values = np.linspace(0, 2 * np.pi, num=101)\n",
    "dataset = pd.Series(index=x_values, data=np.sin(x_values))\n",
    "\n",
    "# The `plot()` method returns an `Axes` object. We save lots of boilerplate code since we do not have to pre-configure\n",
    "# a `Figure` or `Axes` instances.\n",
    "ax = dataset.plot(\n",
    "    kind='line',\n",
    "    figsize=(6, 4),\n",
    "    xlim=(x_values.min() * 0.95, x_values.max() * 1.05),\n",
    "    ylim=(-1, 1),\n",
    "    xlabel=r\"$x$ axis label\",\n",
    "    ylabel=r\"$y$ axis label\",\n",
    ")\n",
    "# After haveing added the data to the `Axes` object we can continue configuring the plot.\n",
    "ax.grid(linestyle=\"--\", linewidth=0.5)"
   ]
  },
  {
   "cell_type": "markdown",
   "metadata": {
    "slideshow": {
     "slide_type": "subslide"
    }
   },
   "source": [
    "We can also pass `Axes` object to the `plot()` method."
   ]
  },
  {
   "cell_type": "code",
   "execution_count": null,
   "metadata": {
    "slideshow": {
     "slide_type": "subslide"
    }
   },
   "outputs": [],
   "source": [
    "dataset_sine = pd.Series(index=x_values, data=np.sin(x_values))\n",
    "dataset_cosine = pd.Series(index=x_values, data=np.cos(x_values))\n",
    "\n",
    "# We prepare some general settings outside the `plot()` method. We can set up the layout of the plot according to our needs.\n",
    "# In case we want to plot multiple datasets that are similar we can wrap this inside a function.\n",
    "def setup(grid_shape, figsize=(4, 4)):\n",
    "    fig, (ax1, ax2) = plt.subplots(\n",
    "        nrows=grid_shape[0],\n",
    "        ncols=grid_shape[1],\n",
    "        figsize=figsize,\n",
    "        sharex='row',\n",
    "        sharey=True,\n",
    "    )\n",
    "    for ax in (ax1, ax2):\n",
    "        # Depending on the dataset axis labels can either be set here ot passed to the `plot()` function.\n",
    "        ax.set_xlabel(r\"$x$ axis label\")\n",
    "    ax1.set_ylabel(r\"$y$ axis label\")\n",
    "    return ax1, ax2"
   ]
  },
  {
   "cell_type": "code",
   "execution_count": null,
   "metadata": {
    "slideshow": {
     "slide_type": "subslide"
    }
   },
   "outputs": [],
   "source": [
    "(ax1, ax2) = setup((1, 2), figsize=(12, 4))\n",
    "\n",
    "dataset_sine.plot(\n",
    "    kind='line', ax=ax1, title=r\"$\\sin(x)$\", xlim=(0, 2 * np.pi), ylim=(-1, 1)\n",
    ")\n",
    "dataset_cosine.plot(\n",
    "    kind='line', ax=ax2, title=r\"$\\cos(x)$\", xlim=(0, 2 * np.pi), ylim=(-1, 1)\n",
    ")"
   ]
  },
  {
   "cell_type": "markdown",
   "metadata": {
    "slideshow": {
     "slide_type": "subslide"
    }
   },
   "source": [
    "The various methods provided by `Series` object to operate on data can used in conjuction with the plotting functionality."
   ]
  },
  {
   "cell_type": "code",
   "execution_count": null,
   "metadata": {
    "slideshow": {
     "slide_type": "subslide"
    }
   },
   "outputs": [],
   "source": [
    "fig, (ax1, ax2) = plt.subplots(1, 2, sharex=\"all\", sharey=\"all\", figsize=(10, 4))\n",
    "for ax in (ax1, ax2):\n",
    "    ax.set_xlabel(r\"$x$ axis label\")\n",
    "ax1.set_ylabel(r\"$y$ axis label\")\n",
    "\n",
    "\n",
    "def plot(ax, data, title):\n",
    "    data.plot(kind='line', ax=ax, title=title)\n",
    "    ax.axhline(y=data.min(), color=\"black\", linestyle=\"--\", linewidth=1)\n",
    "    ax.axhline(y=data.max(), color=\"black\", linestyle=\"--\", linewidth=1)\n",
    "\n",
    "\n",
    "plot(ax1, dataset_sine, r\"$\\sin(x)$\")\n",
    "plot(ax2, dataset_cosine, r\"$\\cos(x)$\")"
   ]
  },
  {
   "cell_type": "markdown",
   "metadata": {
    "slideshow": {
     "slide_type": "subslide"
    }
   },
   "source": [
    "The plotting capabilities of `Series` are particularly useful when dealing with categorical data."
   ]
  },
  {
   "cell_type": "markdown",
   "metadata": {
    "slideshow": {
     "slide_type": "subslide"
    }
   },
   "source": [
    "As an example we will have at the look of at a comparision of run-times of several matrix-matrix implementations. These routines of usually carry the substring `*GEMM*` for *general matrix-matrix* multiplication. \n",
    "\n",
    "For the performance test we consider the following libraries:\n",
    "\n",
    "- [Netlib BLAS](https://www.netlib.org/blas/)\n",
    "- [BLIS](https://github.com/flame/blis)\n",
    "- [OpenBLAS](https://www.openblas.net/)\n",
    "- [Intel MKL](https://software.intel.com/content/www/us/en/develop/articles/intel-math-kernel-library-documentation.html)"
   ]
  },
  {
   "cell_type": "code",
   "execution_count": null,
   "metadata": {},
   "outputs": [],
   "source": [
    "import csv"
   ]
  },
  {
   "cell_type": "code",
   "execution_count": null,
   "metadata": {
    "slideshow": {
     "slide_type": "subslide"
    }
   },
   "outputs": [],
   "source": [
    "# Sample dataset: DGEMM performance of various BLAS implementations. The run-times are measure for different matrix sizes.\n",
    "def read_data(fp):\n",
    "    with open(fp, newline='', encoding='utf-8') as f:\n",
    "        reader = csv.reader(f, delimiter=\";\")\n",
    "        column_names = next(reader)\n",
    "        perftable = np.array([line for line in reader], dtype=float)\n",
    "    return column_names[1:], perftable.T[0].astype(int), perftable.T[1:]\n",
    "\n",
    "\n",
    "linalg_libs, matrix_sizes, dgemm_runtime = read_data(fp=\"dgemm_perfdata.csv\")\n",
    "\n",
    "dgemm_perf = {\n",
    "    ms: pd.Series(index=linalg_libs, data=dgemm_runtime[:, idx])\n",
    "    for idx, ms in enumerate(matrix_sizes)\n",
    "}"
   ]
  },
  {
   "cell_type": "code",
   "execution_count": null,
   "metadata": {
    "slideshow": {
     "slide_type": "subslide"
    }
   },
   "outputs": [],
   "source": [
    "# Inspect a sample dataset for matrix size 256\n",
    "dgemm_perf[256]"
   ]
  },
  {
   "cell_type": "code",
   "execution_count": null,
   "metadata": {
    "slideshow": {
     "slide_type": "subslide"
    }
   },
   "outputs": [],
   "source": [
    "fig, axes = plt.subplots(\n",
    "    1,\n",
    "    len(dgemm_perf),\n",
    "    sharex=True,\n",
    "    sharey=True,\n",
    "    constrained_layout=True,\n",
    "    figsize=(24, 6),\n",
    ")\n",
    "fig.suptitle(\n",
    "    \"DGEMM speed-up compared to Netlib for various implementations\", fontsize=20\n",
    ")\n",
    "\n",
    "# Note that Pandas adds the label for the x-axis automatically\n",
    "axes[0].set_ylabel(\"Speed-up factor\")\n",
    "for ax, ms in zip(axes.flat, matrix_sizes):\n",
    "    series = dgemm_perf.get(ms)\n",
    "    series.transform(lambda x: series.loc[\"netlib\"] / x).plot(\n",
    "        kind=\"bar\", ax=ax, title=r\"$N=%d$\" % (ms,)\n",
    "    )\n",
    "    # For this kind of plot it can be helpful to include a grid along one axis only.\n",
    "    ax.grid(which=\"major\", axis=\"y\")"
   ]
  },
  {
   "cell_type": "markdown",
   "metadata": {
    "slideshow": {
     "slide_type": "subslide"
    }
   },
   "source": [
    "It is also possible to use the [`pd.Series.plot.[h]bar()`](https://pandas.pydata.org/pandas-docs/stable/reference/api/pandas.Series.plot.bar.html) function. Several other functions (e.g. `line()`, `hist()`) are available from the `pd.Series.plot` module."
   ]
  },
  {
   "cell_type": "code",
   "execution_count": null,
   "metadata": {
    "slideshow": {
     "slide_type": "subslide"
    }
   },
   "outputs": [],
   "source": [
    "fig, axes = plt.subplots(\n",
    "    1,\n",
    "    len(dgemm_perf),\n",
    "    sharex=True,\n",
    "    sharey=True,\n",
    "    constrained_layout=True,\n",
    "    figsize=(24, 6),\n",
    ")\n",
    "fig.suptitle(\n",
    "    \"DGEMM speed-up compared to Netlib for various implementations\", fontsize=20\n",
    ")\n",
    "\n",
    "for ax, ms in zip(axes.flat, matrix_sizes):\n",
    "    ax.set_xlabel(\"Speed-up factor\")\n",
    "    series = dgemm_perf.get(ms)\n",
    "    series.transform(lambda x: series.loc[\"netlib\"] / x).plot.barh(\n",
    "        ax=ax, title=r\"$N=%d$\" % (ms,), rot=45\n",
    "    )\n",
    "    # For this kind of plot it can be helpful to include a grid along one axis only.\n",
    "    ax.grid(which=\"major\", axis=\"x\")"
   ]
  },
  {
   "cell_type": "markdown",
   "metadata": {},
   "source": [
    "### 3.1 Tasks"
   ]
  },
  {
   "cell_type": "markdown",
   "metadata": {
    "nbgrader": {
     "grade": false,
     "grade_id": "cell-814591f47fb3b69d",
     "locked": true,
     "schema_version": 3,
     "solution": false,
     "task": false
    }
   },
   "source": [
    "#### 1. Konzentration von reaktiven Gasen\n",
    "Sie erhalten Daten für die Konzentration zweier gasförmiger Chemikalien (Einheit: $\\text{mol m}^{-3}$) in Abhängigkeit von der Zeit (Einheit: $\\text{s}$). Es handelt sich um die Gase Ozon ($\\text{O}_3$) und Stickstoffmonoxid ($\\text{NO}$). Diese Gase werden in der Atmosphäre abgebaut. Stellen Sie die Zeitabhängigkeit der Konzentration sinnvoll dar, sodass der funktionale Zusammenhang sichtbar wird."
   ]
  },
  {
   "cell_type": "markdown",
   "metadata": {
    "nbgrader": {
     "grade": false,
     "grade_id": "cell-7ab92e06f93e4eb8",
     "locked": true,
     "schema_version": 3,
     "solution": false,
     "task": false
    }
   },
   "source": [
    "##### 1.1. Ozon"
   ]
  },
  {
   "cell_type": "code",
   "execution_count": null,
   "metadata": {
    "nbgrader": {
     "grade": false,
     "grade_id": "cell-bf80fb7809046ded",
     "locked": true,
     "schema_version": 3,
     "solution": false,
     "task": false
    }
   },
   "outputs": [],
   "source": [
    "c_ozone = pd.Series(data=(1, 0.786, 0.649, 0.482, 0.381), index=(0, 50, 100, 200, 300))"
   ]
  },
  {
   "cell_type": "markdown",
   "metadata": {
    "nbgrader": {
     "grade": false,
     "grade_id": "cell-d8de88c131d374a8",
     "locked": true,
     "schema_version": 3,
     "solution": false,
     "task": false
    }
   },
   "source": [
    "##### 1.2. Stickstoffmonoxid"
   ]
  },
  {
   "cell_type": "code",
   "execution_count": null,
   "metadata": {
    "nbgrader": {
     "grade": false,
     "grade_id": "cell-fef2f75cf4dc1770",
     "locked": true,
     "schema_version": 3,
     "solution": false,
     "task": false
    }
   },
   "outputs": [],
   "source": [
    "c_no = pd.Series(data=(8.13, 5.07, 2.41, 0.78, 0.36), index=(0, 50, 100, 200, 300))"
   ]
  },
  {
   "cell_type": "markdown",
   "metadata": {
    "nbgrader": {
     "grade": false,
     "grade_id": "cell-68ed34cfece9ed33",
     "locked": true,
     "schema_version": 3,
     "solution": false,
     "task": false
    }
   },
   "source": [
    "#### 2. Reaktionskinetik\n",
    "Reaktionsraten $k$ (Einheit: $\\text{s}^{-1}$) bei verschiedenen Temperaturen $T$ (Einheit: $\\color{red}{\\text{K}}$) gehorchen erwartbar folgendem Gesetz (mit einer Naturkonstante $R$ und freien Parametern $k_0$, $E_A$):\n",
    "$$k = k_0 \\cdot \\exp\\left(\\frac{-E_A}{R T}\\right)$$\n",
    "\n",
    "Sie erhalten Daten für $k$ (in $\\text{s}^{-1}$) und $T$ (in $\\color{red}{^\\circ\\text{C}}$).\n",
    "Finden Sie eine geeignete Auftragung, die Ihnen die Bestimmung von $k_0$ und $E_A$ ermöglicht!"
   ]
  },
  {
   "cell_type": "code",
   "execution_count": null,
   "metadata": {
    "nbgrader": {
     "grade": false,
     "grade_id": "cell-da049560ebdf755d",
     "locked": true,
     "schema_version": 3,
     "solution": false,
     "task": false
    }
   },
   "outputs": [],
   "source": [
    "reaction_rates = pd.Series(data=(2.52, 5.25, 63, 316), index=(190, 199, 230, 251))"
   ]
  }
 ],
 "metadata": {
  "celltoolbar": "Slideshow",
  "file_extension": ".py",
  "kernelspec": {
   "display_name": "Python 3 (ipykernel)",
   "language": "python",
   "name": "python3"
  },
  "language_info": {
   "codemirror_mode": {
    "name": "ipython",
    "version": 3
   },
   "file_extension": ".py",
   "mimetype": "text/x-python",
   "name": "python",
   "nbconvert_exporter": "python",
   "pygments_lexer": "ipython3",
   "version": "3.10.10"
  },
  "mimetype": "text/x-python",
  "name": "python",
  "npconvert_exporter": "python",
  "pygments_lexer": "ipython3",
  "version": 3
 },
 "nbformat": 4,
 "nbformat_minor": 2
}
