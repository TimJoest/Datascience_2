{
 "cells": [
  {
   "cell_type": "markdown",
   "id": "205e6986",
   "metadata": {
    "deletable": false,
    "editable": false,
    "nbgrader": {
     "cell_type": "markdown",
     "checksum": "639ee42ad80cd46eaf5268fa2704603f",
     "grade": false,
     "grade_id": "cell-3b426eb4d8933c32",
     "locked": true,
     "schema_version": 3,
     "solution": false,
     "task": false
    }
   },
   "source": [
    "# Logistisches Modell"
   ]
  },
  {
   "cell_type": "code",
   "execution_count": null,
   "id": "96cf6ed7",
   "metadata": {
    "deletable": false,
    "editable": false,
    "nbgrader": {
     "cell_type": "code",
     "checksum": "7eab43598f03771de16c9f236dfbc397",
     "grade": false,
     "grade_id": "cell-4092ac8a52c37a3b",
     "locked": true,
     "schema_version": 3,
     "solution": false,
     "task": false
    }
   },
   "outputs": [],
   "source": [
    "import pathlib\n",
    "import urllib\n",
    "\n",
    "import numpy as np\n",
    "import matplotlib.pyplot as plt\n",
    "import pandas as pd"
   ]
  },
  {
   "cell_type": "markdown",
   "id": "d4f0ee3f",
   "metadata": {
    "deletable": false,
    "editable": false,
    "nbgrader": {
     "cell_type": "markdown",
     "checksum": "e2e1e748b6f1fbaed0990eea08a5dcf8",
     "grade": false,
     "grade_id": "cell-f811a638207cc7b0",
     "locked": true,
     "schema_version": 3,
     "solution": false,
     "task": false
    }
   },
   "source": [
    "In dieser Übung sollen Sie die Kostenfunktion einer logistischen Regression visualisieren. Dazu benötigen Sie Daten, die Sie zunächst aufbereiten, kodieren, und visualisieren sollen."
   ]
  },
  {
   "cell_type": "markdown",
   "id": "a5ae4947",
   "metadata": {
    "deletable": false,
    "editable": false,
    "nbgrader": {
     "cell_type": "markdown",
     "checksum": "ff95d0c0ccd6dcde5b61f595e065112b",
     "grade": false,
     "grade_id": "cell-cb3daf5ff094b52b",
     "locked": true,
     "schema_version": 3,
     "solution": false,
     "task": false
    }
   },
   "source": [
    "## Daten einlesen und verarbeiten"
   ]
  },
  {
   "cell_type": "markdown",
   "id": "olympic-grounds",
   "metadata": {
    "deletable": false,
    "editable": false,
    "nbgrader": {
     "cell_type": "markdown",
     "checksum": "18297834e4fc63344ab4bb27a93d4860",
     "grade": false,
     "grade_id": "cell-d1710d91f3acc56d",
     "locked": true,
     "schema_version": 3,
     "solution": false,
     "task": false
    }
   },
   "source": [
    "Als Datengrundlage bietet sich der Iris-Datensatz an. Laden Sie ihn zunächst herunter, falls erforderlich, und lesen ihn ein:"
   ]
  },
  {
   "cell_type": "code",
   "execution_count": null,
   "id": "3a5d1325",
   "metadata": {
    "deletable": false,
    "editable": false,
    "nbgrader": {
     "cell_type": "code",
     "checksum": "4f2ed3cf78b7d8ca988b9f73e60c3d23",
     "grade": false,
     "grade_id": "cell-ed11fa4ece16651e",
     "locked": true,
     "schema_version": 3,
     "solution": false,
     "task": false
    }
   },
   "outputs": [],
   "source": [
    "url = 'https://archive.ics.uci.edu/ml/machine-learning-databases/iris/iris.data'\n",
    "data_file = pathlib.Path(url.rsplit('/', 1)[-1])\n",
    "\n",
    "if not data_file.is_file():\n",
    "    # We could also use `df_iris = pd.read_csv(url)`\n",
    "    # but here we save to disk to avoid unnecessary repeated downloads.\n",
    "    urllib.request.urlretrieve(url, data_file)\n",
    "\n",
    "df_iris = pd.read_csv(data_file.resolve(), header=None)"
   ]
  },
  {
   "cell_type": "markdown",
   "id": "cb338e09",
   "metadata": {
    "deletable": false,
    "editable": false,
    "nbgrader": {
     "cell_type": "markdown",
     "checksum": "5747acdf2107ab040d9d5b8357b5a50e",
     "grade": false,
     "grade_id": "cell-8ba4d2f0f2b4eba7",
     "locked": true,
     "schema_version": 3,
     "solution": false,
     "task": false
    }
   },
   "source": [
    "Für diese Aufgabe benötigen Sie einen eindimensionalen Datensatz, dem genau ein binäres Label zugeordnet ist. In den Spalten sind die folgenden Größen in dieser Reihenfolge enthalten:"
   ]
  },
  {
   "cell_type": "code",
   "execution_count": null,
   "id": "c598b4d8",
   "metadata": {
    "deletable": false,
    "editable": false,
    "nbgrader": {
     "cell_type": "code",
     "checksum": "b66605b0f1cc37d2194f49a84e96927d",
     "grade": false,
     "grade_id": "cell-7524fa4e4bef87ba",
     "locked": true,
     "schema_version": 3,
     "solution": false,
     "task": false
    }
   },
   "outputs": [],
   "source": [
    "column_names = [\"sepal length\", \"sepal width\", 'petal length', 'petal width', 'species']"
   ]
  },
  {
   "cell_type": "markdown",
   "id": "634a60ae",
   "metadata": {
    "deletable": false,
    "editable": false,
    "nbgrader": {
     "cell_type": "markdown",
     "checksum": "e2487d7236fed15a607bcbfbfa99b1ad",
     "grade": false,
     "grade_id": "cell-2ad40a19543766ed",
     "locked": true,
     "schema_version": 3,
     "solution": false,
     "task": false
    }
   },
   "source": [
    "`(A)` Ordnen zunächst dem DataFrame die Spaltennamen zu. Prüfen Sie die Datentypen und passen Sie sie ggf. an. Beachten Sie insbesondere die Spalte `'species'` und setzen Sie dafür einen kategorischen Datentyp (`pd.CategoricalDtype`)."
   ]
  },
  {
   "cell_type": "code",
   "execution_count": null,
   "id": "32801881",
   "metadata": {
    "deletable": false,
    "nbgrader": {
     "cell_type": "code",
     "checksum": "7aa99ef7485ccf60297eeb589ed13e34",
     "grade": true,
     "grade_id": "cell-f6dbc14a815fc340",
     "locked": false,
     "points": 1,
     "schema_version": 3,
     "solution": true,
     "task": false
    }
   },
   "outputs": [],
   "source": [
    "..."
   ]
  },
  {
   "cell_type": "markdown",
   "id": "b930f38d",
   "metadata": {
    "deletable": false,
    "editable": false,
    "nbgrader": {
     "cell_type": "markdown",
     "checksum": "d296861d0816f46308abf95feca154a2",
     "grade": false,
     "grade_id": "cell-34f3532c281750a5",
     "locked": true,
     "schema_version": 3,
     "solution": false,
     "task": false
    }
   },
   "source": [
    "Für unser Modell beschränken wir uns auf die Kelchblattlänge (`'sepal length'`) der Spezies `Iris-virginica` und `Iris-setosa`."
   ]
  },
  {
   "cell_type": "markdown",
   "id": "d31c70d3-d4b9-4709-b108-3b8e09a64172",
   "metadata": {},
   "source": [
    "`(A)`  Stellen Sie für diese beiden Spezies die Verteilung der Kelchblattlängen grafisch in einem Diagramm dar."
   ]
  },
  {
   "cell_type": "code",
   "execution_count": null,
   "id": "db3c1adb",
   "metadata": {
    "deletable": false,
    "nbgrader": {
     "cell_type": "code",
     "checksum": "271c68d98b225f61f2aac6fa5a5a9a92",
     "grade": true,
     "grade_id": "cell-ea40c703e5e37ee4",
     "locked": false,
     "points": 4,
     "schema_version": 3,
     "solution": true,
     "task": false
    }
   },
   "outputs": [],
   "source": [
    "..."
   ]
  },
  {
   "cell_type": "markdown",
   "id": "f451f088",
   "metadata": {
    "deletable": false,
    "editable": false,
    "nbgrader": {
     "cell_type": "markdown",
     "checksum": "341496d5b499fdda4b9634a7232aa9c9",
     "grade": false,
     "grade_id": "cell-87efed6bb3cb9a88",
     "locked": true,
     "schema_version": 3,
     "solution": false,
     "task": false
    }
   },
   "source": [
    "## Daten auswählen und Variablen kodieren"
   ]
  },
  {
   "cell_type": "markdown",
   "id": "ef29f1bc",
   "metadata": {
    "deletable": false,
    "editable": false,
    "nbgrader": {
     "cell_type": "markdown",
     "checksum": "b9ad4eb8a6638b8c1c89c94295e2023a",
     "grade": false,
     "grade_id": "cell-18136e632a868ff7",
     "locked": true,
     "schema_version": 3,
     "solution": false,
     "task": false
    }
   },
   "source": [
    "`(A)` Als nächstes sollen Sie den Datensatz filtern und die Variablen kodieren. Beschränken Sie sich auf alle Datenpunkte ausschließlich der *Kelchblattlänge*, die zu einer der beiden obigen Spezies gehören. Setzen Sie den Index zurück. Ersetzen Sie die Spalte `species` durch eine Series mit Einträgen vom Typ Integer, und zwar `0`, falls es sich um `Iris-setosa` handelt, und `1`, falls es sich um `Iris-virginica` handelt.\n",
    "\n",
    "Denken Sie daran, idiomatischen, verständlichen, und performanten Code zu schreiben — auch wenn dieser Datensatz noch klein ist."
   ]
  },
  {
   "cell_type": "code",
   "execution_count": null,
   "id": "8b8fce40",
   "metadata": {
    "deletable": false,
    "nbgrader": {
     "cell_type": "code",
     "checksum": "15ba68f34cafcb500d81635fc925ea28",
     "grade": true,
     "grade_id": "cell-6192b61978f4d087",
     "locked": false,
     "points": 5,
     "schema_version": 3,
     "solution": true,
     "task": false
    }
   },
   "outputs": [],
   "source": [
    "..."
   ]
  },
  {
   "cell_type": "markdown",
   "id": "ac164b0c-89d2-4b56-86f0-e022ae8de6c4",
   "metadata": {
    "deletable": false,
    "editable": false,
    "nbgrader": {
     "cell_type": "markdown",
     "checksum": "a810f73d92694e258a4c222f154d4401",
     "grade": false,
     "grade_id": "cell-79820c669361a1c6",
     "locked": true,
     "schema_version": 3,
     "solution": false,
     "task": false
    }
   },
   "source": [
    "## Modell aufstellen"
   ]
  },
  {
   "cell_type": "markdown",
   "id": "77ae3903-7e7d-43f6-9c4f-07f4daa2e395",
   "metadata": {
    "deletable": false,
    "editable": false,
    "nbgrader": {
     "cell_type": "markdown",
     "checksum": "0dd10833acacd9d1c93e5adc44ddc362",
     "grade": false,
     "grade_id": "cell-01f34ff31dee27b6",
     "locked": true,
     "schema_version": 3,
     "solution": false,
     "task": false
    }
   },
   "source": [
    "Um für eine kontinuierliche Variable $x$ ein binäres Label $y$ vorherzusagen, bietet sich ein logistisches Modell an. Hier ist $x$ die Kelchblattlänge und $y$ die Spezies der zugehörigen Pflanze, so kodiert, dass $y=0$ bzw. $y=1$ der Spezies \"Iris setosa\" bzw. \"Iris virginica\" entspricht.\n",
    "\n",
    "Die Vorhersage eines logistischen Modells $\\hat{y}(x)$ ist dann die *Wahrscheinlichkeit*, mit der es sich bei einer Pflanze dieser Kelchblattlänge um die Spezies \"Iris virginica\" handelt. Für eine Variable hat es zwei freie Parameter $a_0$ und $a_1$ und lautet:\n",
    "\n",
    "$$\\hat{y}(x) = \\frac{1}{1 + \\mathrm{e}^{- (a_0 + a_1 x)}}$$"
   ]
  },
  {
   "cell_type": "markdown",
   "id": "9ea37238-bd0f-468f-a28f-6dcbcc6b9921",
   "metadata": {
    "deletable": false,
    "editable": false,
    "nbgrader": {
     "cell_type": "markdown",
     "checksum": "d175039aa018727b83fb0ed2a4ec4eb0",
     "grade": false,
     "grade_id": "cell-01f34ff31dee27b4",
     "locked": true,
     "schema_version": 3,
     "solution": false,
     "task": false
    },
    "tags": []
   },
   "source": [
    "`(R)` Schreiben Sie eine entsprechende Funktion mit der folgenden Signatur:\n",
    "```python\n",
    "logistic_model(x, a_0, a_1) -> float\n",
    "```"
   ]
  },
  {
   "cell_type": "code",
   "execution_count": null,
   "id": "08cec57d-c70a-4ee9-a0c7-7c6e01bb3b42",
   "metadata": {
    "deletable": false,
    "nbgrader": {
     "cell_type": "code",
     "checksum": "ec885a1306ef51f1fcd7194ce5bcc7c6",
     "grade": true,
     "grade_id": "cell-0ff111f65bd686b6",
     "locked": false,
     "points": 0,
     "schema_version": 3,
     "solution": true,
     "task": false
    },
    "tags": []
   },
   "outputs": [],
   "source": [
    "..."
   ]
  },
  {
   "cell_type": "markdown",
   "id": "86d32592-fce3-40cb-a594-3498f3f5e9c2",
   "metadata": {
    "deletable": false,
    "editable": false,
    "nbgrader": {
     "cell_type": "markdown",
     "checksum": "16f6af755a9de3035a9dd85dd44f33e0",
     "grade": false,
     "grade_id": "cell-71af62a7436c6edc",
     "locked": true,
     "schema_version": 3,
     "solution": false,
     "task": false
    }
   },
   "source": [
    "`(A)` Stellen Sie in einer gemeinsamen Abbildung die Datenpunkte sowie das logistische Modell mit $a_0 = -80;~~a_1 = 15$ sinnvoll im gesamten Datenbereich dar."
   ]
  },
  {
   "cell_type": "code",
   "execution_count": null,
   "id": "989e89d7-3a25-461b-bd71-f11e8db68974",
   "metadata": {
    "deletable": false,
    "nbgrader": {
     "cell_type": "code",
     "checksum": "ef4314b80bc6d2f7a764a2f1e4038894",
     "grade": true,
     "grade_id": "cell-0d845428e044f734",
     "locked": false,
     "points": 3,
     "schema_version": 3,
     "solution": true,
     "task": false
    }
   },
   "outputs": [],
   "source": [
    "..."
   ]
  },
  {
   "cell_type": "markdown",
   "id": "eb2257f8-a48c-4694-9d77-73c269fb0d7d",
   "metadata": {
    "deletable": false,
    "editable": false,
    "nbgrader": {
     "cell_type": "markdown",
     "checksum": "25387bb2d4c0eff20de2b68f1c692391",
     "grade": false,
     "grade_id": "cell-b090bf0b1e8a7f96",
     "locked": true,
     "schema_version": 3,
     "solution": false,
     "task": false
    }
   },
   "source": [
    "## Wert der Kostenfunktion für ausgewählte Modelle"
   ]
  },
  {
   "cell_type": "markdown",
   "id": "1c98e4cb-06f8-4967-a54a-89966b1fcc9f",
   "metadata": {
    "deletable": false,
    "editable": false,
    "nbgrader": {
     "cell_type": "markdown",
     "checksum": "9853491cb2dc8805da9c7a455139277b",
     "grade": false,
     "grade_id": "cell-945553820d5ff652",
     "locked": true,
     "schema_version": 3,
     "solution": false,
     "task": false
    }
   },
   "source": [
    "Als Kostenfunktion für logistische Regression dient die \"mittlere Kreuzentropie\":"
   ]
  },
  {
   "cell_type": "markdown",
   "id": "939f7ecd-6b35-4e33-b9e0-727d505109b7",
   "metadata": {
    "deletable": false,
    "editable": false,
    "nbgrader": {
     "cell_type": "markdown",
     "checksum": "737661529b4fe61794a838bd270ed14f",
     "grade": false,
     "grade_id": "cell-70fc8c4f66252f1d",
     "locked": true,
     "schema_version": 3,
     "solution": false,
     "task": false
    },
    "tags": []
   },
   "source": [
    "`(R)` Schreiben Sie eine Funktion zu deren Berechnung, mit der folgenden Signatur:\n",
    "```python\n",
    "average_cross_entropy(predictions: pd.Series, truth: pd.Series) -> float\n",
    "```"
   ]
  },
  {
   "cell_type": "code",
   "execution_count": null,
   "id": "d8692784-3395-4402-b65d-1f8ca67ba65a",
   "metadata": {
    "deletable": false,
    "nbgrader": {
     "cell_type": "code",
     "checksum": "062d4fc93e7c2e86345b51bb5ebe4d8c",
     "grade": true,
     "grade_id": "cell-af7a4d4eaf5b93af",
     "locked": false,
     "points": 0,
     "schema_version": 3,
     "solution": true,
     "task": false
    },
    "tags": []
   },
   "outputs": [],
   "source": [
    "..."
   ]
  },
  {
   "cell_type": "markdown",
   "id": "e79e6bd7-418e-4562-a427-1bfcafad27bf",
   "metadata": {
    "deletable": false,
    "editable": false,
    "nbgrader": {
     "cell_type": "markdown",
     "checksum": "a681969e25a3330e964567748905fcb1",
     "grade": false,
     "grade_id": "cell-116b9d02afd940cb",
     "locked": true,
     "schema_version": 3,
     "solution": false,
     "task": false
    }
   },
   "source": [
    "`(A)` Berechnen Sie die mittlere Kreuzentropie zwischen den Daten und dem logistischen Modell mit $a_0 = -80; ~~ a_1 = 15$ sowie vier weiteren logistischen Modellen mit von Ihnen gewählten Werten für $a_0$ und $a_1$.\n",
    "\n",
    "`(A)` Stellen Sie diese Modelle gemeinsam mit den Daten und den mittleren Kreuzentropien sinnvoll gemeinsam dar."
   ]
  },
  {
   "cell_type": "code",
   "execution_count": null,
   "id": "8e593023-b606-4318-b73b-0edc113a4905",
   "metadata": {
    "deletable": false,
    "nbgrader": {
     "cell_type": "code",
     "checksum": "985ca47f0f00cef3ce3498dca198e49e",
     "grade": true,
     "grade_id": "cell-76af4828d366d0a9",
     "locked": false,
     "points": 3,
     "schema_version": 3,
     "solution": true,
     "task": false
    }
   },
   "outputs": [],
   "source": [
    "..."
   ]
  },
  {
   "cell_type": "markdown",
   "id": "9662a2c4-81a6-4364-b70f-2d05efc27f09",
   "metadata": {
    "deletable": false,
    "editable": false,
    "nbgrader": {
     "cell_type": "markdown",
     "checksum": "5cfefcd3a858d9e86b2b11aaccd942d4",
     "grade": false,
     "grade_id": "cell-53927a8a112488ee",
     "locked": true,
     "schema_version": 3,
     "solution": false,
     "task": false
    }
   },
   "source": [
    "## Konturplot der Kostenfunktion"
   ]
  },
  {
   "cell_type": "markdown",
   "id": "1e50c11b-e7ca-492f-8843-f9f25557440c",
   "metadata": {
    "deletable": false,
    "editable": false,
    "nbgrader": {
     "cell_type": "markdown",
     "checksum": "513edbc6ff8a6d86e2b95f2ecf2f24d5",
     "grade": false,
     "grade_id": "cell-ee118cbeec90174c",
     "locked": true,
     "schema_version": 3,
     "solution": false,
     "task": false
    }
   },
   "source": [
    "`(T)` Erstellen Sie einen Konturplot der Kostenfunktion. Tragen Sie dazu die mittlere Kreuzentropie eines logistischen Modells mit den Parametern $a_0$ und $a_1$ als Konturplot gegen die Parameter $a_0$ und $a_1$ auf. Wählen Sie einen sinnvollen Wertebereich für die Parameter. Welche Form hat der Bereich mit \"kleinen\" Werten der Kostenfunktion? Wann und warum treten sehr große Werte auf?\n",
    "\n",
    "Hilfe zur Erstellung eines Konturplots mit matplotlib finden Sie z.B. unter https://alex.miller.im/posts/contour-plots-in-python-matplotlib-x-y-z/. Es bietet sich an, zunächst die `np.meshgrid`s für `a_0` und `a_1` zu erstellen, die Daten dann in das auf dieser Seite beschriebene \"long\"-Format umzuwandeln, dort die Kostenfunktion auszuwerten, und dann wie dort beschrieben mit der `pivot_table`-Methode die Werte der Kostenfunktion in das zum Plotten benötigte Format umzuwandeln."
   ]
  },
  {
   "cell_type": "code",
   "execution_count": null,
   "id": "5a2b0998-7fe7-4b55-96de-0eed70517bf1",
   "metadata": {
    "deletable": false,
    "nbgrader": {
     "cell_type": "code",
     "checksum": "804e91204d1447d8f93df05cc55a4782",
     "grade": true,
     "grade_id": "cell-72767eb10fb0d4a0",
     "locked": false,
     "points": 3,
     "schema_version": 3,
     "solution": true,
     "task": false
    }
   },
   "outputs": [],
   "source": [
    "..."
   ]
  },
  {
   "cell_type": "markdown",
   "id": "34554b2c-929a-4f74-8834-c2efbb4cac99",
   "metadata": {
    "deletable": false,
    "editable": false,
    "nbgrader": {
     "cell_type": "markdown",
     "checksum": "3cd5372dd2b0a5f8dc15fa3d230759d8",
     "grade": false,
     "grade_id": "cell-cb8ca9cd83d8334a",
     "locked": true,
     "schema_version": 3,
     "solution": false,
     "task": false
    }
   },
   "source": [
    "## Mit den Daten herumspielen"
   ]
  },
  {
   "cell_type": "markdown",
   "id": "a7414c1b-da2b-46ba-86c8-dac8f492556a",
   "metadata": {
    "deletable": false,
    "editable": false,
    "nbgrader": {
     "cell_type": "markdown",
     "checksum": "41ff923dd824fe6abe735497950c1ff9",
     "grade": false,
     "grade_id": "cell-8b7e825474d9b87d",
     "locked": true,
     "schema_version": 3,
     "solution": false,
     "task": false
    }
   },
   "source": [
    "Sobald Sie für einen Datensatz die Kostenfunktion mit einem Konturplot visualisiert haben, sollte es relativ leicht sein, dies für andere Datensätze zu wiederholen. In der csv-Datei sind auch andere Größen und alle Spezies kodiert.\n",
    "\n",
    "Wählen Sie z.B. eine andere Messgröße, eine andere Kombination von Spezies (achten Sie dann auf deren Kodierung!), oder transformieren Sie Ihre Daten vor Darstellung der Kostenfunktion. In der Vorlesung wurde beispielsweise Skalierung von Mittelwert und Standardabweichung als sinnvolle Transformation oder die Kostenfunktion \"Mean Squared Error\" als nicht für logistische Regression geeignet angesprochen. Sie könnten auch dies implementieren und diskutieren."
   ]
  },
  {
   "cell_type": "markdown",
   "id": "b4667dba-2532-4842-b0d3-487e43695949",
   "metadata": {
    "deletable": false,
    "editable": false,
    "nbgrader": {
     "cell_type": "markdown",
     "checksum": "319bbceacdbf65618c403f2c5ee1ae75",
     "grade": false,
     "grade_id": "cell-66c1f68c2302239b",
     "locked": true,
     "schema_version": 3,
     "solution": false,
     "task": false
    },
    "tags": []
   },
   "source": [
    "`(T)` Probieren Sie mehrere Ansätze aus und setzen Sie diese um. Es ist nicht so wichtig, *was* Sie genau tun, wie *dass* Sie mehrere Dinge versuchen und zumindest ein interessantes Ergebnis erhalten und sinnvoll visualisieren. Dokumentieren Sie Ihr Vorgehen sinnvoll."
   ]
  },
  {
   "cell_type": "code",
   "execution_count": null,
   "id": "becc4bfa-9376-49fc-9fe7-433b54f48091",
   "metadata": {
    "deletable": false,
    "nbgrader": {
     "cell_type": "code",
     "checksum": "bfc8f2b0a23de241e4b8c330057716a1",
     "grade": true,
     "grade_id": "cell-0bb8f4ff1fd9e991",
     "locked": false,
     "points": 1,
     "schema_version": 3,
     "solution": true,
     "task": false
    }
   },
   "outputs": [],
   "source": [
    "..."
   ]
  }
 ],
 "metadata": {
  "kernelspec": {
   "display_name": "Python 3 (ipykernel)",
   "language": "python",
   "name": "python3"
  },
  "language_info": {
   "codemirror_mode": {
    "name": "ipython",
    "version": 3
   },
   "file_extension": ".py",
   "mimetype": "text/x-python",
   "name": "python",
   "nbconvert_exporter": "python",
   "pygments_lexer": "ipython3",
   "version": "3.10.11"
  }
 },
 "nbformat": 4,
 "nbformat_minor": 5
}
