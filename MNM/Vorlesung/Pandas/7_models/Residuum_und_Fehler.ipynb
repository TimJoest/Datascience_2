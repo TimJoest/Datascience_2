{
 "cells": [
  {
   "cell_type": "markdown",
   "id": "dietary-spending",
   "metadata": {
    "deletable": false,
    "editable": false,
    "nbgrader": {
     "cell_type": "markdown",
     "checksum": "49242c43d18e180bc26eaaa0287ffbd6",
     "grade": false,
     "grade_id": "cell-a8203f9504ba7cf8",
     "locked": true,
     "schema_version": 3,
     "solution": false,
     "task": false
    }
   },
   "source": [
    "# Residuum und Fehler"
   ]
  },
  {
   "cell_type": "code",
   "execution_count": null,
   "id": "aquatic-collect",
   "metadata": {
    "deletable": false,
    "editable": false,
    "nbgrader": {
     "cell_type": "code",
     "checksum": "2a731c343e5960f1965d5c3ed0c2583c",
     "grade": false,
     "grade_id": "cell-f42d9c94cba47966",
     "locked": true,
     "schema_version": 3,
     "solution": false,
     "task": false
    },
    "tags": []
   },
   "outputs": [],
   "source": [
    "import numpy as np\n",
    "import matplotlib.pyplot as plt\n",
    "import pandas as pd"
   ]
  },
  {
   "cell_type": "markdown",
   "id": "pacific-workstation",
   "metadata": {
    "deletable": false,
    "editable": false,
    "nbgrader": {
     "cell_type": "markdown",
     "checksum": "9ad6f939e2a5180c819b788ede90851c",
     "grade": false,
     "grade_id": "cell-23b9bcf123722a34",
     "locked": true,
     "schema_version": 3,
     "solution": false,
     "task": false
    }
   },
   "source": [
    "Sie erhalten eindimensionale Daten in einem pandas DataFrame mit den Spalten `'x'` und `'y'` und ein Modell, welches aus den Einträgen $x_i$ der Spalte `'x'` Vorhersagen $\\hat{y}_i$ generiert.\n",
    "\n",
    "`(A)` Schreiben Sie eine Funktion, die für dieses Modell und diese Daten das Residuum, die absoluten, und die quadratischen Fehler der einzelnen Datenpunkte berechnet. Die Funktion soll den übergebenen DataFrame mit den zusätzlichen Spalten `prediction`, `residual`, `absolute_error` und `squared_error` zurückgeben."
   ]
  },
  {
   "cell_type": "code",
   "execution_count": null,
   "id": "b0b1b3eb",
   "metadata": {
    "deletable": false,
    "nbgrader": {
     "cell_type": "code",
     "checksum": "6a2e1146a82845d3ddf4453c06b3d2f4",
     "grade": true,
     "grade_id": "cell-5e0993874cbc4b76",
     "locked": false,
     "points": 0,
     "schema_version": 3,
     "solution": true,
     "task": false
    },
    "tags": []
   },
   "outputs": [],
   "source": [
    "..."
   ]
  },
  {
   "cell_type": "markdown",
   "id": "01a822e5",
   "metadata": {
    "deletable": false,
    "editable": false,
    "nbgrader": {
     "cell_type": "markdown",
     "checksum": "bfc0a0bf997eddecacaf96ef7ebac536",
     "grade": false,
     "grade_id": "cell-a0ec5e4ecbb514ae",
     "locked": true,
     "schema_version": 3,
     "solution": false,
     "task": false
    }
   },
   "source": [
    "Nun erhalten Sie Messdaten (`data`) und ein Modell (`model`):"
   ]
  },
  {
   "cell_type": "code",
   "execution_count": null,
   "id": "f2f65a5a",
   "metadata": {
    "deletable": false,
    "editable": false,
    "nbgrader": {
     "cell_type": "code",
     "checksum": "1aff9652e85426e17076a08fbdb4b802",
     "grade": false,
     "grade_id": "cell-d886b44bf072db74",
     "locked": true,
     "schema_version": 3,
     "solution": false,
     "task": false
    },
    "tags": []
   },
   "outputs": [],
   "source": [
    "data = pd.DataFrame({'x': np.random.rand(50), 'y': np.random.rand(50)})\n",
    "\n",
    "def model(a_0: float, a_1: float) -> callable:\n",
    "    return lambda x: a_0 + a_1 * x"
   ]
  },
  {
   "cell_type": "markdown",
   "id": "ee7cecf5",
   "metadata": {
    "deletable": false,
    "editable": false,
    "nbgrader": {
     "cell_type": "markdown",
     "checksum": "53f55cf969fa891b91c14cd36fab09a7",
     "grade": false,
     "grade_id": "cell-70470f1a4ea225f7",
     "locked": true,
     "schema_version": 3,
     "solution": false,
     "task": false
    }
   },
   "source": [
    "`(R)` Um was für eine Art von Modell handelt es sich (Typ und Bezeichnung)? Berechnen Sie mithilfe Ihrer Funktion das Residuum sowie den mittleren absoluten und mittleren quadratischen Fehler des Modells für verschiedene Werte der freien Parameter."
   ]
  },
  {
   "cell_type": "code",
   "execution_count": null,
   "id": "36c58769",
   "metadata": {
    "deletable": false,
    "nbgrader": {
     "cell_type": "code",
     "checksum": "58b1c87a4c9e0ce72f8ad9949f67d206",
     "grade": true,
     "grade_id": "cell-f75f6e1a75483b08",
     "locked": false,
     "points": 0,
     "schema_version": 3,
     "solution": true,
     "task": false
    },
    "tags": []
   },
   "outputs": [],
   "source": [
    "..."
   ]
  },
  {
   "cell_type": "markdown",
   "id": "f14a34ac",
   "metadata": {
    "deletable": false,
    "editable": false,
    "nbgrader": {
     "cell_type": "markdown",
     "checksum": "6334156d471688b87bf6c455f9f09a67",
     "grade": false,
     "grade_id": "cell-002a288c4dbe5b00",
     "locked": true,
     "schema_version": 3,
     "solution": false,
     "task": false
    }
   },
   "source": [
    "`(A)` Stellen Sie die Daten, das Modell, sowie das Residuum grafisch dar."
   ]
  },
  {
   "cell_type": "code",
   "execution_count": null,
   "id": "b9468fc4",
   "metadata": {
    "deletable": false,
    "nbgrader": {
     "cell_type": "code",
     "checksum": "c86b6e352bfc05b14ee467eb48144b00",
     "grade": true,
     "grade_id": "cell-ebe41bf148a347ae",
     "locked": false,
     "points": 0,
     "schema_version": 3,
     "solution": true,
     "task": false
    }
   },
   "outputs": [],
   "source": [
    "..."
   ]
  }
 ],
 "metadata": {
  "kernelspec": {
   "display_name": "Python 3 (ipykernel)",
   "language": "python",
   "name": "python3"
  },
  "language_info": {
   "codemirror_mode": {
    "name": "ipython",
    "version": 3
   },
   "file_extension": ".py",
   "mimetype": "text/x-python",
   "name": "python",
   "nbconvert_exporter": "python",
   "pygments_lexer": "ipython3",
   "version": "3.10.11"
  }
 },
 "nbformat": 4,
 "nbformat_minor": 5
}
