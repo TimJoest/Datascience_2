{
 "cells": [
  {
   "cell_type": "markdown",
   "id": "e4262cca",
   "metadata": {
    "id": "1b535c74",
    "slideshow": {
     "slide_type": "slide"
    }
   },
   "source": [
    "# **Modelle**"
   ]
  },
  {
   "cell_type": "code",
   "execution_count": null,
   "id": "2ef15e04",
   "metadata": {
    "slideshow": {
     "slide_type": "subslide"
    },
    "tags": []
   },
   "outputs": [],
   "source": [
    "import matplotlib.pyplot as plt\n",
    "import numpy as np\n",
    "import pandas as pd"
   ]
  },
  {
   "cell_type": "markdown",
   "id": "5aeab1a8-7786-4de4-8511-ea9b15e53616",
   "metadata": {
    "toc-hr-collapsed": true
   },
   "source": [
    "# Übersicht der Lerneinheit"
   ]
  },
  {
   "cell_type": "markdown",
   "id": "fa07d07c-2506-4619-a8be-b2b8797e1266",
   "metadata": {},
   "source": [
    "## Lernziele"
   ]
  },
  {
   "cell_type": "markdown",
   "id": "0c0608df-beb4-413e-b4fb-52c0abfe3c24",
   "metadata": {},
   "source": [
    "In dieser Einheit können Sie folgende Kompetenzen erwerben:\n",
    "* unterscheiden zwischen Beobachtung, Hypothese, Theorie, und Modell\n",
    "* die Bildung von Modellen auf Grundlage einfacher Theorien nachvollziehen\n",
    "* einfache Modelle anhand von Beobachtungen qualitativ und quantitativ beurteilen\n",
    "* Residuen berechnen, darstellen, und interpretieren\n",
    "* Modellfehler mit verschiedenen Methoden berechnen und interpretieren"
   ]
  },
  {
   "cell_type": "markdown",
   "id": "d01dd788-76c7-4ffd-8214-e89ace965f0d",
   "metadata": {},
   "source": [
    "## Lerninhalte"
   ]
  },
  {
   "cell_type": "markdown",
   "id": "8020b941-e0e5-4b65-b9af-e0bdc4cb9f22",
   "metadata": {},
   "source": [
    "Folgende Themen sind Inhalt dieser Lerneinheit:\n",
    "* Beschreibung von naturwissenschaftlichen Phänomenen\n",
    "* physikalische Gesetzmäßigkeiten und Vereinfachung\n",
    "* Klassifizierung von naturwissenschaftlichen Modellen\n",
    "* Anforderungen an \"gute\", naturwissenschaftlich fundierte Modelle\n",
    "* Quantifizierung von Modellfehlern"
   ]
  },
  {
   "cell_type": "markdown",
   "id": "609f8efc-7d2e-4c67-9b8d-8aabaefd458f",
   "metadata": {},
   "source": [
    "# Naturwissenschaft"
   ]
  },
  {
   "cell_type": "markdown",
   "id": "2a683e03-6b40-4df2-9f51-d68028194446",
   "metadata": {},
   "source": [
    "In diesem Abschnitt behandeln wir:\n",
    "* die Naturwissenschaftliche Methode\n",
    "    - Eigenschaften und Prozess des Erkenntnisgewinns\n",
    "    - Definition der Begriffe Beobachtung, Hypothese, Experiment, Theorie, und Modell\n",
    "* beispielhafter Erkenntnisgewinn über den freien Fall\n",
    "    - Demonstration des iterativen Prozesses\n",
    "    - Entwicklung eines Modells aus der Gravitationstheorie"
   ]
  },
  {
   "cell_type": "markdown",
   "id": "f5c368b7-11ab-49d0-af23-6b04b241518a",
   "metadata": {},
   "source": [
    "## Die (Natur-)wissenschaftliche Methode"
   ]
  },
  {
   "cell_type": "markdown",
   "id": "f43924e9-0a09-4798-af09-097571f005f7",
   "metadata": {},
   "source": [
    "* die Natur ist komplex\n",
    "    * Phänomene können nicht \"wie sie sind\" in ihrer Gänze erfasst werden\n",
    "    * wir müssen uns in der Welt zurechtfinden\n",
    "    * rein intuitive Vorstellungen sind von begrenztem Nutzen"
   ]
  },
  {
   "cell_type": "markdown",
   "id": "eb2a7c0a-30d9-4e71-987a-3371353d112b",
   "metadata": {},
   "source": [
    "* Wissenschaft organisiert Wissen über die Natur\n",
    "    * versucht, die Natur in ihrer Komplexität zu beschreiben und vorherzusagen\n",
    "    * *neutral*: Beschreibung *unabhängig* von Anwendung oder politischen Werten\n",
    "    * *rigoros*: Akkurate Beschreibung ohne Widersprüche unter Nutzung aller verfügbaren Daten\n",
    "    * *systematisch*: wohldefiniertes Vorgehen in allen Bereichen und Schritten"
   ]
  },
  {
   "cell_type": "markdown",
   "id": "962de6e6-d44a-49df-8835-cf47268fb9a2",
   "metadata": {},
   "source": [
    "* die *Wissenschaftliche Methode* ist ein definierter Prozess, um Wissen zu generieren\n",
    "    * nicht selbst Gegenstand der Wissenschaft\n",
    "    * Gegenstand der (Wissenschafts-)Philosophie\n",
    "    * *iteratives* Vorgehen: Beobachtung — Hypothese — Experiment"
   ]
  },
  {
   "cell_type": "markdown",
   "id": "8c7ca228-1b4b-4973-a19b-2896a49dbcf1",
   "metadata": {},
   "source": [
    "* *Wissen* entsteht aus diesem Prozess\n",
    "    * Bildung von möglichst verständlichen und mächtigen Theorien\n",
    "    * Grundlage für effektive Manipulation der Natur zum eigenen Vorteil (\"Engineering\")\n",
    "    * beinhaltet Wissen um Anwendbarkeit, Vereinfachungen, Grenzen"
   ]
  },
  {
   "cell_type": "markdown",
   "id": "b5299679-9566-49d7-8f9a-2f6bc3b35b4b",
   "metadata": {},
   "source": [
    "### Beobachtung\n",
    "Nimm einzelner Aspekte der Umwelt wahr und denke darüber nach.\n",
    "* kann zufällig auftreten oder gezielt gesucht werden\n",
    "* erzwingt Verbindung zwischen Realität und Theorie"
   ]
  },
  {
   "cell_type": "markdown",
   "id": "f319b4be-1f6e-48cd-9572-7dbee9d9ae49",
   "metadata": {},
   "source": [
    "### Hypothese\n",
    "Formalisiere Ideen über mögliche Regelmäßigkeiten.\n",
    "* unbewiesene, kleinteilige Aussagen über Beobachtungen\n",
    "* unter welchen Bedingungen könnte welche Beobachtung die Regel sein?"
   ]
  },
  {
   "cell_type": "markdown",
   "id": "96932447-23bf-4976-9778-7d92228d9157",
   "metadata": {},
   "source": [
    "### Experiment\n",
    "Prüfe Hypothesen unter kontrollierten Bedingungen.\n",
    "* Einschränkung der Umgebung auf durch Hypothesen vorgegebene Bedingungen\n",
    "* Beobachtung der Umgebung unter diesen Bedingungen\n",
    "* Falsifikation oder Verifikation der Hypothese"
   ]
  },
  {
   "cell_type": "markdown",
   "id": "946a1db2-7f24-46e7-b05e-b534a747b689",
   "metadata": {},
   "source": [
    "### Theorie\n",
    "Bündle und vereinheitliche experimentell verifizierte Hypothesen.\n",
    "* kohärentes, experimentell verifiziertes Gedankengebäude\n",
    "* Beschreibung in eleganter, allgemeingültiger Form\n",
    "* abzugrenzen von alltagssprachlicher Verwendung des Wortes\n",
    "    * wissenschaftlich gesicherte Erkenntnis vs. \"nur (m)eine Theorie\""
   ]
  },
  {
   "cell_type": "markdown",
   "id": "85c61477-f702-4910-8b2b-1f7fe728556b",
   "metadata": {
    "slideshow": {
     "slide_type": "subslide"
    }
   },
   "source": [
    "In den Naturwissenschaften werden Theorien meistens in Form von Gleichungen formuliert.\n",
    "- Gleichungen enthalten *Parameter* und *Konstanten*\n",
    "   - macht Vorhersagen auf Grundlage der eingesetzten Werte\n",
    "   - muss *berechenbar* sein\n",
    "- ermöglicht *quantitativen* Vergleich mit Experiment"
   ]
  },
  {
   "cell_type": "markdown",
   "id": "b4468878-1423-409f-aeb4-80aa35e631e6",
   "metadata": {},
   "source": [
    "Beispiele für aktuelle naturwissenschaftliche Theorien sind:\n",
    "\n",
    "* Thermodynamik\n",
    "* Allgemeine Relativitätstheorie\n",
    "* Quantenfeldtheorie\n",
    "* Kristallfeldtheorie\n",
    "* Theorie des Treibhauseffekts\n",
    "* Evolutionstheorie"
   ]
  },
  {
   "cell_type": "markdown",
   "id": "3be4a1f1-6853-4437-92fe-6e6b53b54759",
   "metadata": {
    "tags": []
   },
   "source": [
    "### Modell\n",
    "Leite aus einer Theorie eine vereinfachte Beschreibung ab.\n",
    "\n",
    "* Abbildung der *wesentlichen Aspekte* eines Phänomens\n",
    "* Beschränkung auf wohldefinierte Bedingungen\n",
    "* Vernachlässigung irrelevanter Aspekte\n",
    "* quantitative Vorhersage von Beobachtungen unter Umgebungsbedingungen\n",
    "* häufig bereits im Zuge der Hypothesenbildung und von Experimenten verwendet"
   ]
  },
  {
   "cell_type": "markdown",
   "id": "4fea1f14-bd8c-4fd3-ad5c-828195b2015f",
   "metadata": {},
   "source": [
    "## Beispiel: die \"Wissenschaft\" des freien Falls"
   ]
  },
  {
   "cell_type": "markdown",
   "id": "24e5b177",
   "metadata": {
    "id": "oMPSzGgQ5uTY",
    "slideshow": {
     "slide_type": "subslide"
    }
   },
   "source": [
    "### Beobachtung"
   ]
  },
  {
   "cell_type": "markdown",
   "id": "20f4f7e2",
   "metadata": {
    "deletable": false,
    "nbgrader": {
     "cell_type": "markdown",
     "checksum": "eb536c879b15c49ee4d5e62dfa326c5e",
     "grade": true,
     "grade_id": "cell-2b3faa26bd37a1cf",
     "locked": false,
     "points": 0,
     "schema_version": 3,
     "solution": true,
     "task": false
    },
    "slideshow": {
     "slide_type": "fragment"
    },
    "tags": []
   },
   "source": [
    "..."
   ]
  },
  {
   "cell_type": "markdown",
   "id": "4ca3cdbf-9656-44a1-a528-964c19e02a10",
   "metadata": {},
   "source": [
    "### Hypothese"
   ]
  },
  {
   "cell_type": "markdown",
   "id": "376817b1-dda4-4322-b2da-75be3106b636",
   "metadata": {
    "deletable": false,
    "nbgrader": {
     "cell_type": "markdown",
     "checksum": "e7277452c1f2d369ad776cb6ac18354e",
     "grade": true,
     "grade_id": "cell-b3e0d2dfe2771cf0",
     "locked": false,
     "points": 0,
     "schema_version": 3,
     "solution": true,
     "task": false
    },
    "slideshow": {
     "slide_type": "fragment"
    },
    "tags": []
   },
   "source": [
    "..."
   ]
  },
  {
   "cell_type": "markdown",
   "id": "935d6e7b-bdcb-49ba-bea2-31009b276b33",
   "metadata": {
    "slideshow": {
     "slide_type": "subslide"
    }
   },
   "source": [
    "### Experiment"
   ]
  },
  {
   "cell_type": "markdown",
   "id": "584ac260-79c0-46b2-b614-6236bd04f349",
   "metadata": {
    "deletable": false,
    "nbgrader": {
     "cell_type": "markdown",
     "checksum": "8ad153ae9ffcd392dab995cac673ad43",
     "grade": true,
     "grade_id": "cell-9e4a5843ce3eb5ee",
     "locked": false,
     "points": 0,
     "schema_version": 3,
     "solution": true,
     "task": false
    },
    "slideshow": {
     "slide_type": "subslide"
    },
    "tags": []
   },
   "source": [
    "..."
   ]
  },
  {
   "cell_type": "markdown",
   "id": "3e9a3e67-614a-4b37-a770-47fbf448520f",
   "metadata": {},
   "source": [
    "### Beobachtung"
   ]
  },
  {
   "cell_type": "code",
   "execution_count": null,
   "id": "9bad1a02",
   "metadata": {
    "deletable": false,
    "nbgrader": {
     "cell_type": "code",
     "checksum": "cedb3c7d9239692d123a222bdcd3ee15",
     "grade": false,
     "grade_id": "cell-7cd2bd529e6bc45a",
     "locked": false,
     "schema_version": 3,
     "solution": true,
     "task": false
    },
    "slideshow": {
     "slide_type": "subslide"
    },
    "tags": []
   },
   "outputs": [],
   "source": [
    "..."
   ]
  },
  {
   "cell_type": "code",
   "execution_count": null,
   "id": "f1d0328e-4e5a-43b5-a4f7-a44d51df5064",
   "metadata": {
    "deletable": false,
    "nbgrader": {
     "cell_type": "code",
     "checksum": "d2880ff93d4f66d8f4c24aca59588eab",
     "grade": true,
     "grade_id": "cell-264d134766abfd9b",
     "locked": false,
     "points": 0,
     "schema_version": 3,
     "solution": true,
     "task": false
    },
    "tags": []
   },
   "outputs": [],
   "source": [
    "..."
   ]
  },
  {
   "cell_type": "markdown",
   "id": "54d90f82-883d-4c34-b07a-a158f6ba2776",
   "metadata": {},
   "source": [
    "### Hypothese"
   ]
  },
  {
   "cell_type": "markdown",
   "id": "2df1a7cf-eee2-4786-a478-8c54ba2eb0a4",
   "metadata": {},
   "source": [
    "Wir könnten auf Grundlage dieser Beobachtung folgende Hypothese formulieren:"
   ]
  },
  {
   "cell_type": "markdown",
   "id": "85b39101-3be7-4c81-a1e0-5104439b3143",
   "metadata": {
    "deletable": false,
    "nbgrader": {
     "cell_type": "markdown",
     "checksum": "16edb537ce1b287944917b8fdf81b7a3",
     "grade": true,
     "grade_id": "cell-b771976ee7dde3f5",
     "locked": false,
     "points": 0,
     "schema_version": 3,
     "solution": true,
     "task": false
    },
    "tags": []
   },
   "source": [
    "..."
   ]
  },
  {
   "cell_type": "markdown",
   "id": "b446d20f-dd30-4c6c-a370-968569620d37",
   "metadata": {},
   "source": [
    "### Experiment"
   ]
  },
  {
   "cell_type": "markdown",
   "id": "bc0cc258-e001-46b1-a472-38b433a1a6f2",
   "metadata": {},
   "source": [
    "Zur Prüfung dieser Hypothese könnten wir folgendes Experiment durchführen:"
   ]
  },
  {
   "cell_type": "markdown",
   "id": "0cebc576-3693-4093-a5ad-9f58c2ab3ad5",
   "metadata": {
    "deletable": false,
    "nbgrader": {
     "cell_type": "markdown",
     "checksum": "503d5706434d471284b021da265695a8",
     "grade": true,
     "grade_id": "cell-289d85c058b4a61b",
     "locked": false,
     "points": 0,
     "schema_version": 3,
     "solution": true,
     "task": false
    },
    "tags": []
   },
   "source": [
    "..."
   ]
  },
  {
   "cell_type": "markdown",
   "id": "360972d9",
   "metadata": {
    "slideshow": {
     "slide_type": "subslide"
    }
   },
   "source": [
    "### Theorie"
   ]
  },
  {
   "cell_type": "markdown",
   "id": "f91338eb-6877-4f9f-a15e-d4970c1fa0b2",
   "metadata": {
    "slideshow": {
     "slide_type": "fragment"
    }
   },
   "source": [
    "Durch wiederholte Beobachtungen, Experimente, und angepasste Hypothesen lässt sich eine *Theorie der Gravitation* entwickeln. Hier ist es eine *physikalische* Theorie, mit Formelzeichen:\n",
    "\n",
    "$$ F = G \\frac{m_A m_B}{r^2}$$"
   ]
  },
  {
   "cell_type": "markdown",
   "id": "eb77ba9b-19da-436f-9435-dcbca915e37f",
   "metadata": {},
   "source": [
    "* $F$: Kraft, die zwischen zwei Objekten wirkt\n",
    "* $m_A$, $m_B$: Massen der Objekte\n",
    "* $G$: [Gravitationskonstante](https://physics.nist.gov/cgi-bin/cuu/Value?bg) $= 6.67430 \\times 10^{-11}\\mathrm{m^3 \\cdot kg^{-1} \\cdot s^{-1}}$\n",
    "* $r$: Abstand der Objekte zueinander"
   ]
  },
  {
   "cell_type": "markdown",
   "id": "289f665a-f53f-4df0-9111-ebb9d91198a3",
   "metadata": {},
   "source": [
    "Zusätzlich benötigen wir noch eine Theorie der *klassischen Mechanik*, die beschreibt, wie ein Gegenstand durch eine wirkende Kraft beschleunigt wird. Diese Theorie können wir schon vorher oder gleichzeitig entwickelt haben:\n",
    "\n",
    "$$F = m \\cdot \\frac{\\mathrm{d}^2}{\\mathrm{d} t^2} r(t)$$"
   ]
  },
  {
   "cell_type": "markdown",
   "id": "a902295b",
   "metadata": {
    "slideshow": {
     "slide_type": "fragment"
    }
   },
   "source": [
    "Bei dieser Gleichung handelt es sich um den eine *Differentialgleichung 2. Ordnung*. Mit ihr kann die Beschleunigung bei Wirkung einer Kraft $F$ auf eine Masse $m$ berechnet werden."
   ]
  },
  {
   "cell_type": "markdown",
   "id": "0e07ce67-ea04-444d-98ed-1b9a21417346",
   "metadata": {
    "slideshow": {
     "slide_type": "subslide"
    }
   },
   "source": [
    "#### Bemerkungen"
   ]
  },
  {
   "cell_type": "markdown",
   "id": "1bbb93a6-c27d-4362-8e80-76eeb692fe62",
   "metadata": {
    "slideshow": {
     "slide_type": "subslide"
    }
   },
   "source": [
    "- Für die Entwicklung des Gravitationsgesetzes waren deutlich umfangreichere Beobachtungen notwendig als die über den (freien) Fall eines Apfels. Eine guten und recht unterhaltsamen Überblick darüber gibt Ihnen die [Vorlesung von Richard Feynman an der Cornell Universität](https://www.youtube.com/watch?v=j3mhkYbznBk&list=PLez3PPtnpncQLg_H7f6T9yJmJ2aCIBUHS) aus dem Jahre 1964."
   ]
  },
  {
   "cell_type": "markdown",
   "id": "33b302e7",
   "metadata": {
    "slideshow": {
     "slide_type": "slide"
    },
    "tags": []
   },
   "source": [
    "# Klassifizierung von Modellen"
   ]
  },
  {
   "cell_type": "markdown",
   "id": "4c165c2b-80d6-4a6d-a109-4612c702bac6",
   "metadata": {},
   "source": [
    "In diesem Abschnitt behandeln wir:\n",
    "* drei Dimensionen der Klassifizierung von Modellen\n",
    "* Anwendung an zwei beispielhaften Modellen"
   ]
  },
  {
   "cell_type": "markdown",
   "id": "37907011",
   "metadata": {
    "slideshow": {
     "slide_type": "subslide"
    }
   },
   "source": [
    "## Deterministisch vs. Stochastisch"
   ]
  },
  {
   "cell_type": "markdown",
   "id": "24b43d5c",
   "metadata": {
    "slideshow": {
     "slide_type": "subslide"
    }
   },
   "source": [
    "In *deterministischen* Modellen ist das Ergebnis des Modells vollständig durch die Parameters des Modells und die Angangsbedingungen bestimmt.\n",
    "\n",
    "*Stochastische* Modelle sind inhärent vom Zufall anhängig. Derselbe Satz an Parameterwerten und Anfangsbedingungen liefert jeweils unterschiedliche Ergebnisse."
   ]
  },
  {
   "cell_type": "markdown",
   "id": "30f615d5-ed1e-407d-98e1-bf38dfd37cac",
   "metadata": {
    "slideshow": {
     "slide_type": "subslide"
    }
   },
   "source": [
    "## Kontinuierlich vs. Diskret"
   ]
  },
  {
   "cell_type": "markdown",
   "id": "3d4e1229-ad53-47a6-bb96-cc348f7bcef9",
   "metadata": {},
   "source": [
    "* Physiker und Philosophen auch untereinander uneins, ob die Natur grundlegend *diskret* oder *kontinuierlich* ist\n",
    "    - Modelle können frei wählen\n",
    "    - Beispiel Quantenmechanik: *sowohl* diskret *als auch* kontinuierlich\n",
    "* im Alltag beides beobachtet:\n",
    "    - viele Prozesse scheinen kontinuierlich\n",
    "    - *Anzahl* von Dingen (und Menschen) eher diskret\n",
    "* *Diskretisierung*: Näherung von kontinuierlichen Prozessen als Abfolge diskreter Schritte\n",
    "    - meist feste, manchmal variable Schrittweite\n",
    "    - Beispiel: Einteilung von Zeit in Jahre, Tage, Sekunden"
   ]
  },
  {
   "cell_type": "markdown",
   "id": "610acaea-67ab-4aa3-84a4-49f2f8b9fcbe",
   "metadata": {
    "toc-hr-collapsed": true
   },
   "source": [
    "## Klassifikation vs. Regression"
   ]
  },
  {
   "cell_type": "markdown",
   "id": "769750bf-577d-4076-b97a-eabe837f8e07",
   "metadata": {
    "slideshow": {
     "slide_type": "subslide"
    }
   },
   "source": [
    "### Klassifikation"
   ]
  },
  {
   "cell_type": "markdown",
   "id": "d43e2514-2455-4a7b-91b3-68f18662c2f5",
   "metadata": {
    "slideshow": {
     "slide_type": "subslide"
    }
   },
   "source": [
    "Ein Klassifikationsmodell ordnet Eingabedaten verschiedenen Kategorien zu. Dazu werden für i.d.R. Eigenschaften der Messpunkte aus dem Datensatz verwendet (z.B. Alter, Gewicht oder Koerpergroesse) um diese einzelnen Kategorien zuzuweisen.\n",
    "\n",
    "Beipiele für Klassifikationsaufgaben sind:"
   ]
  },
  {
   "cell_type": "markdown",
   "id": "102e9e21-1001-47fe-945f-c1593c7eae90",
   "metadata": {
    "slideshow": {
     "slide_type": "subslide"
    }
   },
   "source": [
    "- Handelt es sich bei deiner E-Mail um Spam?\n",
    "- Zuordnung handschriftlicher Symbole zu bekannten Symbolen aus einer Liste.\n",
    "- Bestimmung der Art ein Tumors: bösartig oder gutartig?"
   ]
  },
  {
   "cell_type": "markdown",
   "id": "898d4a1a-4cf0-422d-aee1-8079ed7e95ab",
   "metadata": {
    "slideshow": {
     "slide_type": "subslide"
    }
   },
   "source": [
    "### Regression\n",
    "\n",
    "Regressionsmodelle werden verwendet um den Zusammenhang zwischen einer abhängigen Variable (z.B. einer Messgröße) und einer (oder mehreren) unabhängigen Variablen zu beschreiben. Letztere sind die Größen, die bei einer Messung variiert werden und in deren Abhängigkeit die Messgröße aufgenommen wird."
   ]
  },
  {
   "cell_type": "markdown",
   "id": "17b3c6b0-afbb-4328-93c7-bbeb168a9777",
   "metadata": {
    "slideshow": {
     "slide_type": "subslide"
    }
   },
   "source": [
    "Regressionsmodelle haben folgende Bestandteile:\n",
    "- Freie Parameter $\\beta_j$ mit $j = 1, \\dots, M$\n",
    "    - häufig in einem Vektor $\\vec{\\beta}$ zusammengefasst\n",
    "    - häufig *reelle Zahlen*, können aber beliebigen Typs sein\n",
    "- unabhängige Variablen $X_i$\n",
    "    - z.B. Zeit oder unterschiedliche Bedingungen\n",
    "- abhängige Variablen $Y_i$\n",
    "    - die eigentliche Messgröße\n",
    "- Fehlerterme $\\varepsilon_i$. Diese sind zumeist nicht direkt aus den Daten ersichtlich und sind in der Messgröße enthalten.\n",
    "\n",
    "$$\n",
    "Y_i = f(X_i, \\vec{\\beta}) + \\varepsilon_i, \\qquad i = 1,\\dots, N\n",
    "$$\n",
    "Dabei ist $N$ die Anzahl an Messwerten."
   ]
  },
  {
   "cell_type": "markdown",
   "id": "87ed4082-9e10-4bc0-af43-e20b6b214c3c",
   "metadata": {
    "slideshow": {
     "slide_type": "subslide"
    }
   },
   "source": [
    "Ziel der Regressionsanalyse ist die Bestimmung der freien Parameter $\\vec{\\beta}~$. Sind diese Parameter bestimmt, können mit dem Regressionsmodell Aussagen über Daten getroffen werden, die *nicht* in dem Datensatz enthalten sind, der zur Bestimmung der freien Parameter verwendet wurde."
   ]
  },
  {
   "cell_type": "markdown",
   "id": "9cbbc97c-3909-4021-bde3-1871632925d0",
   "metadata": {
    "slideshow": {
     "slide_type": "fragment"
    }
   },
   "source": [
    "Das einfachste Regressionsmodell ist die *lineare Regression*. In diesem Fall hat $f$ die Form\n",
    "$$\n",
    "f(X_i, \\vec{\\beta}) = \\beta_0 + \\beta_1 X_i \n",
    "$$\n",
    "Hier sind $\\beta_0$ der Ordinaten-Abschnitt und $\\beta_1$ die Steigung."
   ]
  },
  {
   "cell_type": "markdown",
   "id": "a40b09d4-1fff-4fdb-b154-395f25e58903",
   "metadata": {
    "slideshow": {
     "slide_type": "subslide"
    }
   },
   "source": [
    "## Beispiele"
   ]
  },
  {
   "cell_type": "markdown",
   "id": "b1ba404a-2728-4009-8ee8-e613bf31da6f",
   "metadata": {},
   "source": [
    "### Freier Fall"
   ]
  },
  {
   "cell_type": "markdown",
   "id": "3e8a46bb-f452-4a02-8705-d03e673c3a20",
   "metadata": {},
   "source": [
    "Wenn wir ein Modell des freien Falls entwickeln wollen, könnten wir folgende Ansätze verfolgen:"
   ]
  },
  {
   "cell_type": "markdown",
   "id": "dff7cdda-60e3-43d0-a56a-c3873fb6cc3d",
   "metadata": {
    "deletable": false,
    "nbgrader": {
     "cell_type": "markdown",
     "checksum": "ae5d8bf55414db7bed4b80f3bbe7afc1",
     "grade": true,
     "grade_id": "cell-46cbd8a77adc31a5",
     "locked": false,
     "points": 0,
     "schema_version": 3,
     "solution": true,
     "task": false
    },
    "tags": []
   },
   "source": [
    "..."
   ]
  },
  {
   "cell_type": "markdown",
   "id": "5a0ba8be-7bb8-4eda-a0c0-382e31b743c3",
   "metadata": {
    "slideshow": {
     "slide_type": "subslide"
    }
   },
   "source": [
    "### Bevölkerungswachstum"
   ]
  },
  {
   "cell_type": "markdown",
   "id": "51f3f0e7",
   "metadata": {
    "slideshow": {
     "slide_type": "fragment"
    }
   },
   "source": [
    "Wir betrachten die Größe einer Population als Funktion der Zeit:\n",
    "\n",
    "$N_t, N_{t+1}, N_{t + 2}, \\dots$\n",
    "\n",
    "Die Änderung $\\Delta N$ der Populationsgröße zwischen zwei Zeitpunkten ergibt sich aus folgenden Einflüssen:\n",
    "\n",
    "$$\n",
    "\\Delta N = N_{t + 1} - N_t = B - D + I - E\n",
    "$$\n",
    "\n",
    "- $B$, $D$: Geburten und Todesfälle\n",
    "- $I$, $E$: Immigration und Emigration"
   ]
  },
  {
   "cell_type": "markdown",
   "id": "a57ca569",
   "metadata": {
    "slideshow": {
     "slide_type": "subslide"
    }
   },
   "source": [
    "In einer abgeschlossenen Population gilt $I = E = 0$ und somit:\n",
    "\n",
    "$N_{t+1} = N_t + B - D$\n",
    "\n",
    "Nimmt man an, dass die Anzahl der Geburten und Todesfälle konstanten Raten folgen, $B = b N$ und $D = d N$ ($b, d \\in  [0, 1)$), so kann man diese Gleichung wie folgt umformen:\n",
    "\n",
    "$$\n",
    "N_{t + 1} = N_t + N_t\\left(\\frac{B_t}{N_t} + \\frac{D_t}{N_t}\\right) = N_t + N_t(b_t - d_t) = N_t(1 + (b_t - d_t)) = \\lambda_t N_t,\n",
    "$$\n",
    "\n",
    "wobei $\\lambda_t = 1 + (b_t - d_t)$ ist."
   ]
  },
  {
   "cell_type": "markdown",
   "id": "89cca46e",
   "metadata": {
    "slideshow": {
     "slide_type": "subslide"
    }
   },
   "source": [
    "Wir stellen folgendes fest:\n",
    "\n",
    "- $\\lambda_t > 1$: Wachstum der Population\n",
    "- $\\lambda_t = 1$: Population stabil\n",
    "- $\\lambda_t < 1$: Abnahme der Population"
   ]
  },
  {
   "cell_type": "code",
   "execution_count": null,
   "id": "8b85644c",
   "metadata": {
    "slideshow": {
     "slide_type": "fragment"
    }
   },
   "outputs": [],
   "source": [
    "def population_model(growth: callable, n_0: float = 1.0, ) -> float:\n",
    "    n = n_0\n",
    "    while True:\n",
    "        n *= growth(n)\n",
    "        yield n"
   ]
  },
  {
   "cell_type": "markdown",
   "id": "b0218bd0-af6a-4d6c-bbdd-3bb9a5c90280",
   "metadata": {},
   "source": [
    "#### Bemerkungen"
   ]
  },
  {
   "cell_type": "markdown",
   "id": "e486cca1-a75b-44a2-a534-fb3026189a8e",
   "metadata": {},
   "source": [
    "Dieses Modell kann wie folgt klassifiziert werden:"
   ]
  },
  {
   "cell_type": "markdown",
   "id": "23d89a88",
   "metadata": {
    "deletable": false,
    "nbgrader": {
     "cell_type": "markdown",
     "checksum": "9f3ef9cdc1fe566ad3da8e09401f7680",
     "grade": true,
     "grade_id": "cell-48428e1d87d50b07",
     "locked": false,
     "points": 0,
     "schema_version": 3,
     "solution": true,
     "task": false
    },
    "slideshow": {
     "slide_type": "fragment"
    },
    "tags": []
   },
   "source": [
    "..."
   ]
  },
  {
   "cell_type": "markdown",
   "id": "f18b9532-b5c1-4669-ac89-26f9ff0f5c66",
   "metadata": {
    "slideshow": {
     "slide_type": "subslide"
    }
   },
   "source": [
    "Um ein paar Messdaten zu simulieren, nehmen wir eine Startpopulation $N_0 = 1000$ sowie für die Wachstumsrate $\\lambda_t$ einen *diskreten stochastischen Prozess* an:\n",
    "    \n",
    "$$\n",
    "\\lambda_t \\equiv \\lambda = \n",
    "\\begin{cases}\n",
    "0.9~\\text{mit}~p = 1 / 2\\\\\n",
    "1.1~\\text{mit}~p = 1 / 2\n",
    "\\end{cases}\n",
    "$$"
   ]
  },
  {
   "cell_type": "code",
   "execution_count": null,
   "id": "5707bbad-52d2-4e2b-88a6-d2f77f17587c",
   "metadata": {
    "deletable": false,
    "nbgrader": {
     "cell_type": "code",
     "checksum": "0f4ea71ffd265bc1c493db832e46d6a6",
     "grade": true,
     "grade_id": "cell-cfdcda9e1be92c3e",
     "locked": false,
     "points": 0,
     "schema_version": 3,
     "solution": true,
     "task": false
    },
    "tags": []
   },
   "outputs": [],
   "source": [
    "..."
   ]
  },
  {
   "cell_type": "markdown",
   "id": "812e537a-44a5-496b-9066-4ea9d321f22f",
   "metadata": {
    "tags": []
   },
   "source": [
    "Die Vorhersagen mit dieser Wahl lassen sich simulieren:"
   ]
  },
  {
   "cell_type": "code",
   "execution_count": null,
   "id": "3f509d34-aeb4-473b-9f4c-a1064108a01f",
   "metadata": {
    "deletable": false,
    "nbgrader": {
     "cell_type": "code",
     "checksum": "65fbacbf78c76db985f42353283b26bc",
     "grade": true,
     "grade_id": "cell-2d068f63662cff9e",
     "locked": false,
     "points": 0,
     "schema_version": 3,
     "solution": true,
     "task": false
    },
    "tags": []
   },
   "outputs": [],
   "source": [
    "..."
   ]
  },
  {
   "cell_type": "code",
   "execution_count": null,
   "id": "076dfcdd",
   "metadata": {
    "slideshow": {
     "slide_type": "subslide"
    }
   },
   "outputs": [],
   "source": [
    "fig, axes = plt.subplots(1, 4, sharex=\"row\", sharey=\"row\", figsize=(20, 4))\n",
    "axes[0].set_ylabel(\"population size\")\n",
    "\n",
    "for axis, column in zip(axes, population.columns):\n",
    "    population[column].plot.line(ax = axis)\n",
    "    axis.set_xlabel(\"time / arb. units\")\n",
    "    axis.axhline(y=n_0, color=\"black\", linestyle=\"--\", linewidth=0.5)"
   ]
  },
  {
   "cell_type": "markdown",
   "id": "603a294f-3263-476c-9014-e712cc91f5b2",
   "metadata": {
    "tags": []
   },
   "source": [
    "#### Bemerkungen"
   ]
  },
  {
   "cell_type": "markdown",
   "id": "7cd94bc2-754c-4ba9-93c5-e7de6b13926d",
   "metadata": {
    "deletable": false,
    "jp-MarkdownHeadingCollapsed": true,
    "nbgrader": {
     "cell_type": "markdown",
     "checksum": "afc21e5f18dcbbd78fd06881785887ba",
     "grade": true,
     "grade_id": "cell-1335e084ee3d35a0",
     "locked": false,
     "points": 0,
     "schema_version": 3,
     "solution": true,
     "task": false
    },
    "tags": []
   },
   "source": [
    "..."
   ]
  },
  {
   "cell_type": "markdown",
   "id": "bb801c0f-61be-4b5a-b586-dc51ce434ec9",
   "metadata": {
    "id": "1b535c74",
    "slideshow": {
     "slide_type": "slide"
    }
   },
   "source": [
    "# Annahmen und Grenzen"
   ]
  },
  {
   "cell_type": "markdown",
   "id": "86bce9d4-3d46-49b2-8562-c96e76c94299",
   "metadata": {},
   "source": [
    "In diesem Anschnitt behandeln wir:\n",
    "* den Prozess der Modellbildung\n",
    "    * am Beispiel des freien Falls\n",
    "    * grundlegende Hypothesen und/oder Theorien\n",
    "    * Ziele des Modells\n",
    "    * Annahmen, Näherungen, und Vernachlässigung\n",
    "* Grenzen von Modellen"
   ]
  },
  {
   "cell_type": "markdown",
   "id": "1de301d6-9520-484b-b623-02084a7150b0",
   "metadata": {
    "slideshow": {
     "slide_type": "subslide"
    }
   },
   "source": [
    "## Modellbildung"
   ]
  },
  {
   "cell_type": "markdown",
   "id": "90888689-9f53-45a0-9372-c01ae946ed85",
   "metadata": {},
   "source": [
    "### Grundlage und Ziel"
   ]
  },
  {
   "cell_type": "markdown",
   "id": "34292f89-a66b-4226-ac8f-fb6192376885",
   "metadata": {},
   "source": [
    "*Grundlage* ist unsere Theorie der Gravitation und der Mechanik. Zwischen zwei beliebigen Körpern $A$ und $B$ gilt:\n",
    "\n",
    "$$ F = G \\frac{m_A m_B}{r^2} = m_A \\cdot \\frac{\\mathrm{d}^2}{\\mathrm{d} t^2} h_A(t) = m_B \\cdot \\frac{\\mathrm{d}^2}{\\mathrm{d} t^2} h_B(t)$$"
   ]
  },
  {
   "cell_type": "markdown",
   "id": "24f34eaa-018b-4f15-9f7b-2d758660e716",
   "metadata": {},
   "source": [
    "*Ziel* ist die Vorhersage der Bewegung des Balles."
   ]
  },
  {
   "cell_type": "markdown",
   "id": "7436e3d2-00c1-4051-8394-3edc8d270d06",
   "metadata": {},
   "source": [
    "* Bestimmung der Bewegungsgleichung $h_A(t)$\n",
    "* es gibt viele Massen, die sich alle bewegen\n",
    "    - räumliche Ausdehnung\n",
    "    - mit zahlreichen internen Bestandteilen"
   ]
  },
  {
   "cell_type": "markdown",
   "id": "52afd036-a5d7-468e-b892-2899892fd69b",
   "metadata": {},
   "source": [
    "### Vereinfachung"
   ]
  },
  {
   "cell_type": "markdown",
   "id": "f040307a-c78a-45ba-babe-f1ad9167c022",
   "metadata": {},
   "source": [
    "* je eine Differenzialgleichung für alle Paare von Massen\n",
    "* unbekannte Anfangsbedingungen\n",
    "* Lösung ist praktisch unmöglich\n",
    "* zur Vereinfachung: Annahmen treffen, Näherungen vornehmen, Aspekte vernachlässigen"
   ]
  },
  {
   "cell_type": "markdown",
   "id": "d0896cf3-1602-4774-a77a-9c90f33308cb",
   "metadata": {},
   "source": [
    "Wir treffen folgende *Annahmen*:"
   ]
  },
  {
   "cell_type": "markdown",
   "id": "8a190339-46ac-42d9-9efb-becaff3c0771",
   "metadata": {
    "deletable": false,
    "nbgrader": {
     "cell_type": "markdown",
     "checksum": "59b055c303b7075adb29d58ab103d8a8",
     "grade": true,
     "grade_id": "cell-4b54d04fdf94c40d",
     "locked": false,
     "points": 0,
     "schema_version": 3,
     "solution": true,
     "task": false
    },
    "tags": []
   },
   "source": [
    "..."
   ]
  },
  {
   "cell_type": "markdown",
   "id": "bd75e2f1-31a7-4940-bf28-bfd43b88197a",
   "metadata": {},
   "source": [
    "Wir machen folgende *Näherungen*:"
   ]
  },
  {
   "cell_type": "markdown",
   "id": "f8a786f4-f4cc-45aa-bd95-ed1b6117bb38",
   "metadata": {
    "deletable": false,
    "nbgrader": {
     "cell_type": "markdown",
     "checksum": "73d4cb4dad69e66ce4b2fca10814390b",
     "grade": true,
     "grade_id": "cell-4b54d04fdf94c40c",
     "locked": false,
     "points": 0,
     "schema_version": 3,
     "solution": true,
     "task": false
    },
    "tags": []
   },
   "source": [
    "..."
   ]
  },
  {
   "cell_type": "markdown",
   "id": "1a7ec5c8-7f99-4721-a519-6925ce0ecb28",
   "metadata": {},
   "source": [
    "Wir *vernachlässigen* folgende Aspekte:"
   ]
  },
  {
   "cell_type": "markdown",
   "id": "adb53e56-61ee-4257-964d-3de0943fa7f6",
   "metadata": {
    "deletable": false,
    "nbgrader": {
     "cell_type": "markdown",
     "checksum": "d3417ba4aee7e2b42b74e0115bc90c10",
     "grade": true,
     "grade_id": "cell-4b54d04fdf94c40b",
     "locked": false,
     "points": 0,
     "schema_version": 3,
     "solution": true,
     "task": false
    },
    "tags": []
   },
   "source": [
    "..."
   ]
  },
  {
   "cell_type": "markdown",
   "id": "c698c5e7-14c0-45e0-9f28-7ad5087c8c0c",
   "metadata": {},
   "source": [
    "Damit erhalten wir folgende Gleichung aus unserer Theorie:"
   ]
  },
  {
   "cell_type": "markdown",
   "id": "bc840404-3612-4f15-86ac-0ce41b702e4b",
   "metadata": {
    "slideshow": {
     "slide_type": "fragment"
    }
   },
   "source": [
    "\n",
    "$$ - m \\frac{G M_\\mathrm{E}}{R_\\mathrm{E}^2} = m\\frac{\\mathrm{d}^2}{\\mathrm{d}t^2}(R_\\mathrm{E} + h)$$\n",
    "\n",
    "Wir führen noch folgende Abkürzung ein: $g = \\frac{G M_\\mathrm{E}}{R_\\mathrm{E}^2} \\approx 9.81 ~\\mathrm{m}\\cdot\\mathrm{s}^{-2}$. Das ist die allseits bekannte (und auch beliebte?) *Erdbeschleunigung*."
   ]
  },
  {
   "cell_type": "markdown",
   "id": "fa37cae6-024c-4c38-a408-c8f13919ee25",
   "metadata": {
    "slideshow": {
     "slide_type": "fragment"
    }
   },
   "source": [
    "Die vereinfachte Bewegungsgleichung hat dann die finale Form:\n",
    "\n",
    "$$ - m g = m\\frac{\\mathrm{d}^2h}{\\mathrm{d}t^2} = m \\frac{\\mathrm{d}v}{\\mathrm{d}t}$$"
   ]
  },
  {
   "cell_type": "markdown",
   "id": "bf32b752-3830-4b07-9308-164afffe432e",
   "metadata": {},
   "source": [
    "### Lösung der Bewegungsgleichungen"
   ]
  },
  {
   "cell_type": "markdown",
   "id": "4c77bc94-e985-4d2f-9121-8991dbf984e1",
   "metadata": {
    "slideshow": {
     "slide_type": "subslide"
    }
   },
   "source": [
    "Die resultierende DGL können wir nun in zwei Schritten mit den Anfangsbedingungen $v(t=0) = v_0 = 0 ~ \\mathrm{m}\\cdot \\mathrm{s}^{-1}$ und $h(t=0) = h_0$ integieren:\n",
    "\n",
    "**Geschwindigkeits-Zeit Gesetz**\n",
    "$$\n",
    "m \\int\\limits_{0}^{t} \\frac{\\mathrm{d}v}{\\mathrm{d}t'} \\mathrm{d}t' = - m g \\int\\limits_{0}^t \\mathrm{d}t'\n",
    "\\Longleftrightarrow\n",
    "m\\left(v(t) - v(t=0)\\right) = - m g t\n",
    "\\Longleftrightarrow\n",
    "v(t) = - g t\n",
    "$$\n",
    "\n",
    "**Weg-Zeit Gesetz**\n",
    "$$\n",
    "\\int\\limits_{0}^{t} \\frac{\\mathrm{d}h}{\\mathrm{d}t'} \\mathrm{d}t' = - g \\int\\limits_{0}^{t} t' \\mathrm{d} t'\n",
    "\\Longleftrightarrow\n",
    "h(t) - h(t=0) = - \\frac{1}{2}g t^2\n",
    "\\Longleftrightarrow\n",
    "h(t) = h_0 - \\frac{1}{2} g t^2\n",
    "$$\n"
   ]
  },
  {
   "cell_type": "markdown",
   "id": "29d48679-b3b4-41c9-a3f5-1eb6586e9b9b",
   "metadata": {},
   "source": [
    "### Grenzen des Modells"
   ]
  },
  {
   "cell_type": "markdown",
   "id": "5346db3e-c27a-4cc3-8197-8c3745891a70",
   "metadata": {},
   "source": [
    "Die Grenzen des Modells ergeben sich aus der Theorie und den Vereinfachungen:"
   ]
  },
  {
   "cell_type": "markdown",
   "id": "bca1b8c1-3d80-478c-90bd-31393c1af7e6",
   "metadata": {
    "deletable": false,
    "nbgrader": {
     "cell_type": "markdown",
     "checksum": "c4e778a6a3ed7f8df8b66862194936b4",
     "grade": true,
     "grade_id": "cell-9b79e2610dd76cae",
     "locked": false,
     "points": 0,
     "schema_version": 3,
     "solution": true,
     "task": false
    },
    "tags": []
   },
   "source": [
    "..."
   ]
  },
  {
   "cell_type": "markdown",
   "id": "b9d954a3-723b-48e2-8786-2e01a379647e",
   "metadata": {},
   "source": [
    "### Bemerkungen"
   ]
  },
  {
   "cell_type": "markdown",
   "id": "a3a8c44a-4f66-4555-83c3-a11840981225",
   "metadata": {
    "deletable": false,
    "nbgrader": {
     "cell_type": "markdown",
     "checksum": "8110d43c88b9bf83143e81860d7beaa8",
     "grade": true,
     "grade_id": "cell-7a1ec40fbb7bd060",
     "locked": false,
     "points": 0,
     "schema_version": 3,
     "solution": true,
     "task": false
    },
    "slideshow": {
     "slide_type": "subslide"
    },
    "tags": []
   },
   "source": [
    "..."
   ]
  },
  {
   "cell_type": "markdown",
   "id": "7d052515-692d-4986-b6eb-12d73290a108",
   "metadata": {
    "slideshow": {
     "slide_type": "slide"
    }
   },
   "source": [
    "## Free Parameters"
   ]
  },
  {
   "cell_type": "markdown",
   "id": "199eb09b-7404-488b-a4b6-77676a26de50",
   "metadata": {
    "slideshow": {
     "slide_type": "slide"
    }
   },
   "source": [
    "- undetermined variables in a model\n",
    "  - value is not predicted or constrained by underlying theory\n",
    "  - must be estimated from the data\n",
    "- free parameters need a *reason*\n",
    "  - existence follows from underlying theory or constraints\n",
    "- *kind* of relationship is known (ex. linear, quadratic), but *size* of effect is unknown"
   ]
  },
  {
   "cell_type": "markdown",
   "id": "fb78ad8b-7c4b-46c9-b603-d0a3b5f0d78c",
   "metadata": {
    "slideshow": {
     "slide_type": "subslide"
    }
   },
   "source": [
    "### Example model: motion of a car"
   ]
  },
  {
   "cell_type": "markdown",
   "id": "a942bd59-ee3c-498c-bb07-8d0b423728a2",
   "metadata": {
    "slideshow": {
     "slide_type": "subslide"
    }
   },
   "source": [
    "$$x(t) = x_0 + v t$$\n",
    "\n",
    "- $x_0$ might be a fixed parameter\n",
    "  - initial position relative to measurement apparatus\n",
    "  - measured or derived independently\n",
    "- $v$ might be a free parameter\n",
    "  - reasoning: objects in motion will stay in motion (Newton's first law)\n",
    "  - must be determined from data\n",
    "  - gives otherwise inaccessible information"
   ]
  },
  {
   "cell_type": "markdown",
   "id": "f2b271a6-a71c-4bcd-9504-979b58b65148",
   "metadata": {},
   "source": [
    "### Parameter-free models"
   ]
  },
  {
   "cell_type": "markdown",
   "id": "5d6216ba-cb80-48e0-9b08-19a4bfc80419",
   "metadata": {
    "slideshow": {
     "slide_type": "subslide"
    }
   },
   "source": [
    "gold standard in physics: models *without* free parameters\n",
    "- only physical constants enter\n",
    "- examples:\n",
    "    - ab initio quantum chemistry methods\n",
    "    - density functional theory"
   ]
  },
  {
   "cell_type": "markdown",
   "id": "ba619a5b-e724-46e5-ba31-245bf42a2aa3",
   "metadata": {
    "slideshow": {
     "slide_type": "fragment"
    }
   },
   "source": [
    "> In desperation I asked Fermi whether he was not impressed by the agreement between our calculated numbers and his measured numbers. He replied, “How many arbitrary parameters did you use for your calculations?” I thought for a moment about our cut-off procedures and said, “Four.” He said, “I remember my friend Johnny von Neumann used to say, with four parameters I can fit an elephant, and with five I can make him wiggle his trunk.” With that, the conversation was over.\n",
    "\n",
    "Dyson, F.: A meeting with Enrico Fermi. *Nature* **427**, 297 (2004). https://doi.org/10.1038/427297a"
   ]
  },
  {
   "cell_type": "markdown",
   "id": "4bf063a7-508d-408f-9933-d4cf969ab079",
   "metadata": {
    "slideshow": {
     "slide_type": "slide"
    }
   },
   "source": [
    "# Model Error and Cost Functions"
   ]
  },
  {
   "cell_type": "markdown",
   "id": "74783232-e064-49e5-9e6f-5c2cbf1c8514",
   "metadata": {
    "slideshow": {
     "slide_type": "slide"
    }
   },
   "source": [
    "Next, we will...\n",
    "\n",
    "1. think about indicators for the quality of models\n",
    "    - qualitative vs. quantitative indicators\n",
    "    - the residual\n",
    "    - the cost function\n",
    "2. define models with free parameters\n",
    "    - why and when they're (not) useful\n",
    "    - optimization\n",
    "3. learn about and motivate typical cost functions\n",
    "    - for regression tasks\n",
    "    - for classification tasks"
   ]
  },
  {
   "cell_type": "markdown",
   "id": "726f66cc-70de-49dd-81fd-e3b2862496c6",
   "metadata": {
    "slideshow": {
     "slide_type": "slide"
    },
    "tags": []
   },
   "source": [
    "## *Qualitative* Indicators"
   ]
  },
  {
   "cell_type": "markdown",
   "id": "b11a9dba-bfc0-48f7-bbd8-4db1f22054f2",
   "metadata": {
    "slideshow": {
     "slide_type": "slide"
    },
    "tags": []
   },
   "source": [
    "A sound scientific model...\n",
    "- provides explanation/understanding\n",
    "- makes *predictions*\n",
    "- is consistent with underlying scientific theory\n",
    "- is consistent over its domain of application\n",
    "- is simple"
   ]
  },
  {
   "cell_type": "markdown",
   "id": "9261431d-e117-41e1-84eb-1972aa585338",
   "metadata": {
    "slideshow": {
     "slide_type": "subslide"
    }
   },
   "source": [
    "These indicators can differentiate between *kinds* of models:\n",
    "- example: $h(t) = -1 - 0.15 t^2~~~~$ vs. $~~~~h(t) = 0.1 - t$\n",
    "- what kind of situation are we modeling?\n",
    "- how does our model derive from scientific laws?\n",
    "- does the model respect all constraints?"
   ]
  },
  {
   "cell_type": "code",
   "execution_count": null,
   "id": "1e312b48-a3b4-4ecd-bfb8-60bc0ca27b54",
   "metadata": {
    "slideshow": {
     "slide_type": "fragment"
    }
   },
   "outputs": [],
   "source": [
    "def quadratic_model(t):\n",
    "    return -1 - 0.15 * t**2"
   ]
  },
  {
   "cell_type": "code",
   "execution_count": null,
   "id": "1a85a204-62bb-4e4e-96d9-a95b250e56cb",
   "metadata": {
    "slideshow": {
     "slide_type": "fragment"
    }
   },
   "outputs": [],
   "source": [
    "def linear_model(t):\n",
    "    return 0.1 - t"
   ]
  },
  {
   "cell_type": "code",
   "execution_count": null,
   "id": "f230e1e5-ddb2-4400-9a1c-e245de357bf6",
   "metadata": {
    "slideshow": {
     "slide_type": "fragment"
    }
   },
   "outputs": [],
   "source": [
    "from utils.utils import h, t, visualize_model"
   ]
  },
  {
   "cell_type": "code",
   "execution_count": null,
   "id": "044b3c2b-847b-4240-95b1-0050618590fc",
   "metadata": {
    "slideshow": {
     "slide_type": "subslide"
    },
    "tags": []
   },
   "outputs": [],
   "source": [
    "f, m = visualize_model(t, h, model=quadratic_model)"
   ]
  },
  {
   "cell_type": "code",
   "execution_count": null,
   "id": "be34e792-e7cc-4a1b-85c3-6fae60c9deac",
   "metadata": {
    "slideshow": {
     "slide_type": "fragment"
    }
   },
   "outputs": [],
   "source": [
    "f, m = visualize_model(t, h, model=linear_model)"
   ]
  },
  {
   "cell_type": "markdown",
   "id": "7e5e0efb-404d-4886-afda-0fcbcd93feaf",
   "metadata": {
    "slideshow": {
     "slide_type": "slide"
    }
   },
   "source": [
    "## *Quantitative* indicators\n",
    "\n",
    "From here on, we will...\n",
    "- assume we have $N$ observations of pairs $(x \\in X, y \\in Y)$\n",
    "\n",
    "- denote the $i$th observation as $(x_i, y_i)$\n",
    "  - independent (input) variable(s) $x_i$\n",
    "  - dependent (output) variable(s) $y_i$\n",
    "\n",
    "- denote the model as $m: X \\to Y$\n",
    "  - models are taken from a (potentially vast) space $M$ of possible models\n",
    "\n",
    "- denote the model predictions as $\\hat{y}_i = m(x_i)$"
   ]
  },
  {
   "cell_type": "markdown",
   "id": "2d52a7b6-3fe8-4fcf-8390-0f0d3a086753",
   "metadata": {
    "slideshow": {
     "slide_type": "subslide"
    }
   },
   "source": [
    "### The Residual"
   ]
  },
  {
   "cell_type": "markdown",
   "id": "44fa5804-fc92-4332-b6b0-512e3f31dce5",
   "metadata": {
    "slideshow": {
     "slide_type": "subslide"
    }
   },
   "source": [
    "- difference between observed values and model prediction\n",
    "  - $y_i - \\hat{y}_i$\n",
    "- parts of the data which the model does not explain:\n",
    "  - neglected or approximated terms\n",
    "  - random measurement error\n",
    "  - data points outside the model domain or constraints\n",
    "  - poorly fitted model"
   ]
  },
  {
   "cell_type": "code",
   "execution_count": null,
   "id": "42615855-5a64-4111-b537-5b435555fb7f",
   "metadata": {
    "slideshow": {
     "slide_type": "subslide"
    }
   },
   "outputs": [],
   "source": [
    "np.random.seed(1)\n",
    "x = pd.Series(10 * np.random.rand(1000))\n",
    "y = x.transform(lambda z: -z + np.random.randn())"
   ]
  },
  {
   "cell_type": "code",
   "execution_count": null,
   "id": "67519b04-a13f-4e1a-ab89-c0ded79c9ec6",
   "metadata": {
    "slideshow": {
     "slide_type": "fragment"
    }
   },
   "outputs": [],
   "source": [
    "figure = visualize_model(\n",
    "    x, y, linear_model, plot_residual=True, residual_histogram=True\n",
    ")\n",
    "plt.show()"
   ]
  },
  {
   "cell_type": "markdown",
   "id": "8529a2e9-b2b3-4229-ac13-fb874d33f390",
   "metadata": {
    "slideshow": {
     "slide_type": "slide"
    }
   },
   "source": [
    "### The *Cost Function* (\"Loss Function\")"
   ]
  },
  {
   "cell_type": "markdown",
   "id": "8e6731e7-c6d2-4ef7-8d91-08c2cd132298",
   "metadata": {
    "slideshow": {
     "slide_type": "slide"
    }
   },
   "source": [
    "- quantify the error as a single scalar value\n",
    "    - does the model describe the data well?\n",
    "    - what is the perfect value of its parameters?\n",
    "    - how can the model be *improved*?    "
   ]
  },
  {
   "cell_type": "markdown",
   "id": "221382ff-b1f1-45d1-8421-9bb1424090ce",
   "metadata": {
    "slideshow": {
     "slide_type": "fragment"
    }
   },
   "source": [
    "- denote the cost function as $J$\n",
    "  - maps model (with parameters) and observations to a real number\n",
    "  - $J: M \\times X \\times Y \\to \\mathbb{R}$\n",
    "  - many cost functions only need $\\hat{Y}$ and $Y$"
   ]
  },
  {
   "cell_type": "markdown",
   "id": "40db813b-0569-448e-95cb-a5f9e5ae18e9",
   "metadata": {
    "slideshow": {
     "slide_type": "slide"
    }
   },
   "source": [
    "### Training a model"
   ]
  },
  {
   "cell_type": "markdown",
   "id": "727836ce-69c0-4e43-b8fa-6a929cf604c7",
   "metadata": {
    "slideshow": {
     "slide_type": "slide"
    }
   },
   "source": [
    "- models can be *optimized*\n",
    "  - choose parameters to minimize the cost function\n",
    "  - depends on cost function\n",
    "  - depends on observations\n",
    "  - process is called *fitting* or *training* the model"
   ]
  },
  {
   "cell_type": "markdown",
   "id": "c17fa7ca-dfb0-4957-80ac-5fe1a9ed5a2f",
   "metadata": {
    "slideshow": {
     "slide_type": "fragment"
    }
   },
   "source": [
    "By optimization we obtain a model *without* free parameters which makes good predictions on unknown data.\n",
    "\n",
    "- prerequisites:\n",
    "    - a model $m$ with free parameters\n",
    "    - observations $(x\\in X, y \\in Y)$\n",
    "    - a cost function $J: M\\times X \\times Y \\to \\mathbb{R}$"
   ]
  },
  {
   "cell_type": "markdown",
   "id": "e529a5db-c08d-4fc1-8daf-46171aa47002",
   "metadata": {
    "slideshow": {
     "slide_type": "slide"
    }
   },
   "source": [
    "## Typical cost functions"
   ]
  },
  {
   "cell_type": "markdown",
   "id": "a05a612a-eaff-4220-81c2-575ee4e806af",
   "metadata": {
    "slideshow": {
     "slide_type": "slide"
    }
   },
   "source": [
    "Training a model makes heavy use of the cost function supplied.\n",
    "\n",
    "We will examine the process in-depth, but first we will take a look at common cost functions and their properties."
   ]
  },
  {
   "cell_type": "markdown",
   "id": "6e0e2133-3a05-4feb-b61f-55a243a53a76",
   "metadata": {
    "slideshow": {
     "slide_type": "subslide"
    }
   },
   "source": [
    "### Linear Regression: Mean Squared Error"
   ]
  },
  {
   "cell_type": "markdown",
   "id": "a7fd01dc-95f8-426e-ac40-e7d536c102e6",
   "metadata": {
    "slideshow": {
     "slide_type": "subslide"
    }
   },
   "source": [
    "Suppose we have $N$ data points $(x_i, y_i)$, and a model $m: X \\to Y$ with predictions $\\hat{y}_i$.\n",
    "\n",
    "We denote the *prediction* of the model at point $x_i$, which is $m(x_i)$, as $\\hat{y}_i$. Then the mean squared error of that model is given by:\n",
    "$$J(\\hat{y}, y) = \\frac{1}{N} \\sum_{i=1}^N \\left(y_i - \\hat{y}_i\\right)^2$$"
   ]
  },
  {
   "cell_type": "code",
   "execution_count": null,
   "id": "1863f424-8d5f-46be-a16a-e3d153dfef98",
   "metadata": {
    "slideshow": {
     "slide_type": "fragment"
    }
   },
   "outputs": [],
   "source": [
    "figure, metrics = visualize_model(t, h, model=lambda x: -x - 0.1, errorbars=True)\n",
    "print(';  '.join(f'{key}: {value}' for key, value in metrics.items()))"
   ]
  },
  {
   "cell_type": "markdown",
   "id": "d9a9bde5-bac6-4a40-829b-45640e516285",
   "metadata": {},
   "source": [
    "#### Notes"
   ]
  },
  {
   "cell_type": "markdown",
   "id": "4cf31356-c311-4b7b-be25-2ef3cc947da5",
   "metadata": {
    "deletable": false,
    "nbgrader": {
     "cell_type": "markdown",
     "checksum": "60e39df2c0f397449889acab06ce042c",
     "grade": true,
     "grade_id": "cell-a0794b5b49d5928d",
     "locked": false,
     "points": 0,
     "schema_version": 3,
     "solution": true,
     "task": false
    },
    "slideshow": {
     "slide_type": "subslide"
    },
    "tags": []
   },
   "source": [
    "..."
   ]
  },
  {
   "cell_type": "markdown",
   "id": "55525bd3-ce2e-415c-b3e3-fa7c37384a65",
   "metadata": {
    "slideshow": {
     "slide_type": "subslide"
    }
   },
   "source": [
    "### Classification: Logistic regression"
   ]
  },
  {
   "cell_type": "markdown",
   "id": "897613ab-03f8-4fae-ba1e-d3ba1e7f7c76",
   "metadata": {
    "slideshow": {
     "slide_type": "subslide"
    }
   },
   "source": [
    "- dependent variable is *discrete* True/False (e.g. pass/fail, alive/dead, win/lose, ...)\n",
    "- independent (input) variable(s) may be continuous\n",
    "    - e.g. number of hours studied, blood loss, game score\n",
    "- model needs to output a *probability* $p$ of getting True\n",
    "  - strictly $p \\in (0, 1)$: probabilities cannot be negative or greater than one"
   ]
  },
  {
   "cell_type": "code",
   "execution_count": null,
   "id": "aac38444-6244-4059-94f6-efd289477ed1",
   "metadata": {
    "slideshow": {
     "slide_type": "fragment"
    }
   },
   "outputs": [],
   "source": [
    "from utils.utils import x, y\n",
    "\n",
    "visualize_model(x, y)\n",
    "plt.show()"
   ]
  },
  {
   "cell_type": "markdown",
   "id": "a2ddf0da-afd4-4b7c-a973-31aedf2284b8",
   "metadata": {
    "slideshow": {
     "slide_type": "subslide"
    }
   },
   "source": [
    "- a linear model would map inputs to a scalar $\\in \\mathbb{R}$:\n",
    "  - $q = a_0 + a_1 x$, as in linear regression\n",
    "\n",
    "- The *logistic function* can map these to $(0, 1)$:\n",
    "$$\\hat{y} = \\frac{1}{1 + \\mathrm{e}^{-q}} = \\frac{1}{1 + \\mathrm{e}^{-(a_0 + a_1 x)}}$$"
   ]
  },
  {
   "cell_type": "code",
   "execution_count": null,
   "id": "e90dd046-b645-4645-87ac-a191bf3fb085",
   "metadata": {
    "slideshow": {
     "slide_type": "fragment"
    }
   },
   "outputs": [],
   "source": [
    "def logistic_function(q: float) -> float:\n",
    "    \"\"\"The logistic function maps real numbers to (0, 1)\"\"\"\n",
    "    return 1 / (1 + np.exp(-q))\n",
    "\n",
    "\n",
    "from utils.utils import plot_model\n",
    "\n",
    "figure, axis = plt.subplots(figsize=(12, 6))\n",
    "plot_model(axis, logistic_function, x_min=-6, x_max=6, label='logistic function')\n",
    "plt.legend()\n",
    "plt.show()"
   ]
  },
  {
   "cell_type": "markdown",
   "id": "7c840b26-1e21-42e0-83cf-7be450141629",
   "metadata": {
    "slideshow": {
     "slide_type": "subslide"
    }
   },
   "source": [
    "#### Cost function for logistic regression: Average cross-entropy\n",
    "  \n",
    "relates (predicted) probability and (binary) observation\n",
    "- \"How much uncertainty remains?\", colloquially: \"$- \\log (\\Delta y)$\"\n",
    "- equivalently: $\\begin{cases}\n",
    "-\\log(\\hat{y}) & \\text{if } y = 1\\\\\n",
    "-\\log(1-\\hat{y}) & \\text{if } y = 0\\\\\n",
    "\\end{cases}\n",
    "$\n",
    "- equivalently: $-(y \\log(\\hat{y}) + (1-y) \\log(1-\\hat{y}))$"
   ]
  },
  {
   "cell_type": "code",
   "execution_count": null,
   "id": "5fe0bc98-9990-46b6-9f8b-fe715ff15854",
   "metadata": {
    "slideshow": {
     "slide_type": "fragment"
    }
   },
   "outputs": [],
   "source": [
    "figure, axis = plt.subplots(figsize=(10, 6))\n",
    "plot_model(\n",
    "    axis,\n",
    "    model=lambda y: -np.log(y),\n",
    "    x_min=0,\n",
    "    x_max=1,\n",
    "    label='loss when True',\n",
    "    color='orange',\n",
    ")\n",
    "plot_model(\n",
    "    axis,\n",
    "    model=lambda y: -np.log(1 - y),\n",
    "    x_min=0,\n",
    "    x_max=1,\n",
    "    label='loss when False',\n",
    "    color='blue',\n",
    ")\n",
    "axis.set_xlabel('predicted value')\n",
    "axis.set_ylabel('loss')\n",
    "plt.legend()\n",
    "plt.show()"
   ]
  },
  {
   "cell_type": "markdown",
   "id": "7f11d24c-6de0-49db-b14f-4fab09d170b0",
   "metadata": {
    "slideshow": {
     "slide_type": "subslide"
    }
   },
   "source": [
    "- average cross entropy then averages over all data points:\n",
    "$$J(\\hat{y}, y) = \\frac{-1}{N} \\sum_{i=1}^{N} y_i \\log(\\hat{y}_i) + (1 - y_i) \\log(1 - \\hat{y}_i)$$\n",
    "\n",
    "- desirable properties:\n",
    "  - 0 loss for correct classification\n",
    "  - increases monotonically\n",
    "  - without bounds"
   ]
  },
  {
   "cell_type": "code",
   "execution_count": null,
   "id": "82768b77-af53-4661-ac9f-6673a0672689",
   "metadata": {
    "slideshow": {
     "slide_type": "fragment"
    }
   },
   "outputs": [],
   "source": [
    "visualize_model(\n",
    "    x=x, y=y, model=lambda x: 1 / (1 + np.exp(-0.65 * (x - 20))), errorbars=True\n",
    ")"
   ]
  },
  {
   "cell_type": "markdown",
   "id": "bb72978f-228c-4536-b297-79c15341c77c",
   "metadata": {
    "slideshow": {
     "slide_type": "subslide"
    }
   },
   "source": [
    "\"Why not mean squared error?\"\n",
    "- underpenalizes even strong misclassifications: Error is capped at 1\n",
    "- not \"convex\" for logistic models\n",
    "\n",
    "https://towardsdatascience.com/why-not-mse-as-a-loss-function-for-logistic-regression-589816b5e03c"
   ]
  },
  {
   "cell_type": "markdown",
   "id": "fa66bf7c-c820-4f2a-8026-1bdc063dfdda",
   "metadata": {
    "slideshow": {
     "slide_type": "fragment"
    }
   },
   "source": [
    "### Other examples\n",
    "- hinge loss (for classification)\n",
    "- Kullback-Leibler divergence (for probability distributions)\n",
    "- regularization (to punish large or non-zero parameters)"
   ]
  },
  {
   "cell_type": "markdown",
   "id": "db296e9d-7a37-4acb-8899-97db5f5ce9ec",
   "metadata": {
    "jp-MarkdownHeadingCollapsed": true,
    "slideshow": {
     "slide_type": "slide"
    },
    "tags": []
   },
   "source": [
    "## Summary\n",
    "- some models have free parameters\n",
    "- quantitative indicators can then compare different values\n",
    "- for linear regression: Mean Squared Error\n",
    "- for classification: cross-entropy\n",
    "\n",
    "### Up next: Fitting\n",
    "- how do we optimize a model, given data and a cost function?"
   ]
  }
 ],
 "metadata": {
  "colab": {
   "collapsed_sections": [],
   "name": "4.1_Models.ipynb",
   "provenance": [],
   "toc_visible": true
  },
  "kernelspec": {
   "display_name": "Python 3 (ipykernel)",
   "language": "python",
   "name": "python3"
  },
  "language_info": {
   "codemirror_mode": {
    "name": "ipython",
    "version": 3
   },
   "file_extension": ".py",
   "mimetype": "text/x-python",
   "name": "python",
   "nbconvert_exporter": "python",
   "pygments_lexer": "ipython3",
   "version": "3.10.11"
  },
  "toc": {
   "base_numbering": 1,
   "nav_menu": {},
   "number_sections": true,
   "sideBar": true,
   "skip_h1_title": true,
   "title_cell": "Table of Contents",
   "title_sidebar": "Contents",
   "toc_cell": true,
   "toc_position": {
    "height": "calc(100% - 180px)",
    "left": "10px",
    "top": "150px",
    "width": "381.594px"
   },
   "toc_section_display": true,
   "toc_window_display": false
  }
 },
 "nbformat": 4,
 "nbformat_minor": 5
}
