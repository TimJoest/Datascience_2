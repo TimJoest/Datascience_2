{
 "cells": [
  {
   "attachments": {},
   "cell_type": "markdown",
   "metadata": {},
   "source": [
    "* Achsenbeschriftung\n",
    "* Achsenskalierung\n",
    "* nicht nur Datenpuznkte, sondern auch dazwischen auswerten (interpolation)\n",
    "* Funktioneller Zusammenhang\n",
    "\n",
    "* neue Spalten erzeugen\n",
    "* Datentype zuordnen\n",
    "* auswählen mit Lambda und Boolschen Masken\n",
    "* index setzen\n",
    "* DataFrames zusammenführen\n",
    "\n",
    "* fehlende werte finden\n",
    "* falsche Werte finden\n",
    "* explorative Datenanalyse \n",
    "\n",
    "* lineare Algebra mit Numpy\n",
    "* Arrayoperationen mit Numpy\n",
    "* Gleichungssysteme mit Numpy\n",
    "\n",
    "* numerisches Ableiten\n",
    "* Taylor reihen\n",
    "* Numerische Fehler\n",
    "* numerische Integration\n",
    "* Integrationsregeln\n",
    "* möglicherweise scipy.integrate\n",
    "\n",
    "* naturwissenschftliche Erkenntnis(grundsätzliches Verständnis Model - Realität)\n",
    "\n",
    "* Wichtig Datenanalyse"
   ]
  }
 ],
 "metadata": {
  "language_info": {
   "name": "python"
  },
  "orig_nbformat": 4
 },
 "nbformat": 4,
 "nbformat_minor": 2
}
