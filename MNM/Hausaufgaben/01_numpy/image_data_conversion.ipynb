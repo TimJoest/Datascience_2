{
 "cells": [
  {
   "cell_type": "markdown",
   "id": "b7ae1be8",
   "metadata": {
    "deletable": false,
    "editable": false,
    "nbgrader": {
     "cell_type": "markdown",
     "checksum": "9537f37be4ed062d6e132eeb6f20de84",
     "grade": false,
     "grade_id": "cell-91f7f5f2b57afd89",
     "locked": true,
     "schema_version": 3,
     "solution": false,
     "task": false
    }
   },
   "source": [
    "# Bilddaten konvertieren"
   ]
  },
  {
   "cell_type": "code",
   "execution_count": null,
   "id": "7b91d047",
   "metadata": {
    "deletable": false,
    "editable": false,
    "nbgrader": {
     "cell_type": "code",
     "checksum": "a8d845b6e5b08b7305d18532914649f3",
     "grade": false,
     "grade_id": "cell-7fbf0594afe396b0",
     "locked": true,
     "schema_version": 3,
     "solution": false,
     "task": false
    }
   },
   "outputs": [],
   "source": [
    "import matplotlib.pyplot as plt\n",
    "import numpy as np"
   ]
  },
  {
   "cell_type": "markdown",
   "id": "a04b2bad",
   "metadata": {
    "deletable": false,
    "editable": false,
    "nbgrader": {
     "cell_type": "markdown",
     "checksum": "099715d4b8b8e7c3ea17c65a4625e2d7",
     "grade": false,
     "grade_id": "cell-d2f39a518abe7cde",
     "locked": true,
     "schema_version": 3,
     "solution": false,
     "task": false
    }
   },
   "source": [
    "Sie erhalten ein NumPy-Array, das ein Bild darstellt. Dieses Bild hat $N\\times M$ Pixel und ist mit drei Farbkanälen in Form eines `(3, N, M)`-Arrays von Integern zwischen 0 and 255 abgespeichert.\n",
    "\n",
    "Sie wollen dieses Bild mit `matplotlib.plt.imshow` darstellen. Leider kann diese Funktion nur mit Arrays der Form `(N, M, 3)` umgehen. Konvertieren Sie das Bild für die Darstellung mit `matplotlib.plt.imshow`. Schreiben Sie die konvertierten Bilddaten auf ein Array `converted_image` so, dass es unten richtig dargestellt wird. Dann ist in der linken unteren Ecke ein grüner Haken zu sehen.\n",
    "\n",
    "Ansonsten sollte Ihr Code folgenden Anforderungen genügen:"
   ]
  },
  {
   "cell_type": "markdown",
   "id": "e6b5dde2",
   "metadata": {
    "deletable": false,
    "editable": false,
    "nbgrader": {
     "cell_type": "markdown",
     "checksum": "e4a54f794a70055d5891544e95a78061",
     "grade": false,
     "grade_id": "cell-90badebdd4fa82d1",
     "locked": true,
     "points": 1,
     "schema_version": 3,
     "solution": false,
     "task": true
    }
   },
   "source": [
    "* verwendet idiomatische Numpy-Methoden sinnvoll"
   ]
  },
  {
   "cell_type": "markdown",
   "id": "9a867f82",
   "metadata": {
    "deletable": false,
    "editable": false,
    "nbgrader": {
     "cell_type": "markdown",
     "checksum": "d6722cd63db19cefaf5fc315ab9dac35",
     "grade": false,
     "grade_id": "cell-556f250b538438df",
     "locked": true,
     "points": 1,
     "schema_version": 3,
     "solution": false,
     "task": true
    }
   },
   "source": [
    "* ist gut lesbar und sinnvoll dokumentiert"
   ]
  },
  {
   "cell_type": "markdown",
   "id": "b69a0b62",
   "metadata": {
    "deletable": false,
    "editable": false,
    "nbgrader": {
     "cell_type": "markdown",
     "checksum": "dadc3f33696a664b6e42cbe1e7ad9c0d",
     "grade": false,
     "grade_id": "cell-3f3f0a7d75c8b7ad",
     "locked": true,
     "points": 1,
     "schema_version": 3,
     "solution": false,
     "task": true
    }
   },
   "source": [
    "* ist performant und skaliert auch mit \"großen\" Eingabedaten gut"
   ]
  },
  {
   "cell_type": "code",
   "execution_count": null,
   "id": "5664681f",
   "metadata": {
    "deletable": false,
    "editable": false,
    "nbgrader": {
     "cell_type": "code",
     "checksum": "ea13d4b8442c2fe2f43aec8f54b719df",
     "grade": false,
     "grade_id": "cell-e78c262958fa1cd1",
     "locked": true,
     "schema_version": 3,
     "solution": false,
     "task": false
    }
   },
   "outputs": [],
   "source": [
    "image = np.load('image.npy')"
   ]
  },
  {
   "cell_type": "code",
   "execution_count": null,
   "id": "f6f8b8ec",
   "metadata": {
    "deletable": false,
    "nbgrader": {
     "cell_type": "code",
     "checksum": "a386e8f7763d6489bb04ef8c45855ad9",
     "grade": true,
     "grade_id": "cell-6877c476c5c5b481",
     "locked": false,
     "points": 3,
     "schema_version": 3,
     "solution": true,
     "task": false
    }
   },
   "outputs": [],
   "source": [
    "# Bitte geben Sie Ihren Code hier ein."
   ]
  },
  {
   "cell_type": "code",
   "execution_count": null,
   "id": "9812fc26",
   "metadata": {
    "deletable": false,
    "editable": false,
    "nbgrader": {
     "cell_type": "code",
     "checksum": "d2b477da58f29c670be5fcc1ad350efa",
     "grade": false,
     "grade_id": "cell-a189b6f40f10f2bf",
     "locked": true,
     "schema_version": 3,
     "solution": false,
     "task": false
    }
   },
   "outputs": [],
   "source": [
    "plt.imshow(converted_image)"
   ]
  }
 ],
 "metadata": {
  "kernelspec": {
   "display_name": "Python 3 (ipykernel)",
   "language": "python",
   "name": "python3"
  },
  "language_info": {
   "codemirror_mode": {
    "name": "ipython",
    "version": 3
   },
   "file_extension": ".py",
   "mimetype": "text/x-python",
   "name": "python",
   "nbconvert_exporter": "python",
   "pygments_lexer": "ipython3",
   "version": "3.10.10"
  }
 },
 "nbformat": 4,
 "nbformat_minor": 5
}
