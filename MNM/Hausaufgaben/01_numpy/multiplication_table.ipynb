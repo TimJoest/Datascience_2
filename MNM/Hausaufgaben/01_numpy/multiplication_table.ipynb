{
 "cells": [
  {
   "cell_type": "markdown",
   "id": "78155042",
   "metadata": {
    "deletable": false,
    "editable": false,
    "nbgrader": {
     "cell_type": "markdown",
     "checksum": "9a9e9ff7e398fe4501b86a3fa6a4324b",
     "grade": false,
     "grade_id": "cell-72ebe4f3c029624c",
     "locked": true,
     "schema_version": 3,
     "solution": false,
     "task": false
    }
   },
   "source": [
    "# Multiplikationstabelle"
   ]
  },
  {
   "cell_type": "code",
   "execution_count": null,
   "id": "d739e79c",
   "metadata": {
    "deletable": false,
    "editable": false,
    "nbgrader": {
     "cell_type": "code",
     "checksum": "29010785758ccc452605382fc046c6b7",
     "grade": false,
     "grade_id": "cell-541edd6769adb6cf",
     "locked": true,
     "schema_version": 3,
     "solution": false,
     "task": false
    }
   },
   "outputs": [],
   "source": [
    "import numpy as np"
   ]
  },
  {
   "cell_type": "markdown",
   "id": "b391fc7a",
   "metadata": {
    "deletable": false,
    "editable": false,
    "nbgrader": {
     "cell_type": "markdown",
     "checksum": "7d6a2a21d3bf1b4c74df3890996856e1",
     "grade": false,
     "grade_id": "cell-83c85db21bac2084",
     "locked": true,
     "schema_version": 3,
     "solution": false,
     "task": false
    }
   },
   "source": [
    "Mit einer Verknüpfungstafel (auf Englisch auch \"Cayley-Table\" genannt) lassen sich allgemeine binäre Verknüpfungen und ihre Wirkungen auf Elemente einer Menge darstellen. Ein einfaches Beispiel sind Multiplikationstabellen z.B. für das kleine Einmaleins.\n",
    "\n",
    "Schreiben Sie eine Funktion, die die Verknüpfungstafel für eine binäre Python-Funktion `operation` und ein 1D-Array mit $n$ damit zu verarbeitender `elements` berechnet. Die Funktion soll die folgende Signatur haben:\n",
    "```python\n",
    "cayley_table(operation: callable, elements: np.ndarray) -> np.ndarray\n",
    "```\n",
    "\n",
    "Neben der Ausgabe des korrekten Ergebnisses als $n\\times n$-Array soll Ihre Abgabe folgenden Anforderungen genügen:"
   ]
  },
  {
   "cell_type": "markdown",
   "id": "b5aadadc",
   "metadata": {
    "deletable": false,
    "editable": false,
    "nbgrader": {
     "cell_type": "markdown",
     "checksum": "9b07ff2a033f2fca160f404cf8ac0236",
     "grade": false,
     "grade_id": "cell-b3127c98140f5fc7",
     "locked": true,
     "points": 1,
     "schema_version": 3,
     "solution": false,
     "task": true
    }
   },
   "source": [
    "* verwendet idiomatische Numpy-Methoden sinnvoll"
   ]
  },
  {
   "cell_type": "markdown",
   "id": "d6853281",
   "metadata": {
    "deletable": false,
    "editable": false,
    "nbgrader": {
     "cell_type": "markdown",
     "checksum": "dcab6a091f3b030a4b1120b6cddae3f1",
     "grade": false,
     "grade_id": "cell-ffc01a17f4ff842e",
     "locked": true,
     "points": 1,
     "schema_version": 3,
     "solution": false,
     "task": true
    }
   },
   "source": [
    "* ist gut lesbar und sinnvoll dokumentiert"
   ]
  },
  {
   "cell_type": "markdown",
   "id": "3f09e683",
   "metadata": {
    "deletable": false,
    "editable": false,
    "nbgrader": {
     "cell_type": "markdown",
     "checksum": "35c886ab1fe563f2194bb4a720aa6dc6",
     "grade": false,
     "grade_id": "cell-57c354c7870546ea",
     "locked": true,
     "points": 1,
     "schema_version": 3,
     "solution": false,
     "task": true
    }
   },
   "source": [
    "* ist performant und skaliert auch mit \"großen\" Eingabedaten gut"
   ]
  },
  {
   "cell_type": "code",
   "execution_count": null,
   "id": "4750de03",
   "metadata": {
    "deletable": false,
    "nbgrader": {
     "cell_type": "code",
     "checksum": "3fc8123754b2031198a6a2e543e5aa11",
     "grade": true,
     "grade_id": "cell-e6d8cffa177c09b9",
     "locked": false,
     "points": 4,
     "schema_version": 3,
     "solution": true,
     "task": false
    },
    "tags": []
   },
   "outputs": [],
   "source": [
    "# Bitte geben Sie Ihren Code hier ein."
   ]
  },
  {
   "cell_type": "code",
   "execution_count": null,
   "id": "ac7494ab",
   "metadata": {
    "deletable": false,
    "editable": false,
    "nbgrader": {
     "cell_type": "code",
     "checksum": "d2d06ff255fa1a3ebd09008ab767cda8",
     "grade": false,
     "grade_id": "cell-ef8f53ce8e2e7121",
     "locked": true,
     "schema_version": 3,
     "solution": false,
     "task": false
    },
    "tags": []
   },
   "outputs": [],
   "source": [
    "# Usage example: Calculate the multiplication table\n",
    "cayley_table(lambda x, y: x * y, np.arange(7))"
   ]
  },
  {
   "cell_type": "code",
   "execution_count": null,
   "id": "00f925f7-f947-4399-a3eb-92988262360d",
   "metadata": {
    "deletable": false,
    "editable": false,
    "nbgrader": {
     "cell_type": "code",
     "checksum": "9ae0656b543375246af4204d4108b121",
     "grade": false,
     "grade_id": "cell-829b3eb909401a19",
     "locked": true,
     "schema_version": 3,
     "solution": false,
     "task": false
    },
    "tags": []
   },
   "outputs": [],
   "source": [
    "# Usage example: Calculate the multiplication table of modulo 7\n",
    "cayley_table(lambda x, y: x * y % 7, np.arange(7))"
   ]
  }
 ],
 "metadata": {
  "kernelspec": {
   "display_name": "Python 3 (ipykernel)",
   "language": "python",
   "name": "python3"
  },
  "language_info": {
   "codemirror_mode": {
    "name": "ipython",
    "version": 3
   },
   "file_extension": ".py",
   "mimetype": "text/x-python",
   "name": "python",
   "nbconvert_exporter": "python",
   "pygments_lexer": "ipython3",
   "version": "3.10.10"
  }
 },
 "nbformat": 4,
 "nbformat_minor": 5
}
