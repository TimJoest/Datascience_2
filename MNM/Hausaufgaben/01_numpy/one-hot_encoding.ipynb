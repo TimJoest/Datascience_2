{
 "cells": [
  {
   "cell_type": "markdown",
   "id": "175c6ede",
   "metadata": {
    "deletable": false,
    "editable": false,
    "nbgrader": {
     "cell_type": "markdown",
     "checksum": "529bdc3fc15f7273fd0c545f5f7e1570",
     "grade": false,
     "grade_id": "cell-a7a6519e2c9d3681",
     "locked": true,
     "schema_version": 3,
     "solution": false,
     "task": false
    }
   },
   "source": [
    "# One-hot encoding"
   ]
  },
  {
   "cell_type": "code",
   "execution_count": 1,
   "id": "676ad861",
   "metadata": {
    "deletable": false,
    "editable": false,
    "nbgrader": {
     "cell_type": "code",
     "checksum": "72b95f316e0cb652ecb20ab08755a069",
     "grade": false,
     "grade_id": "cell-12f376d830912df0",
     "locked": true,
     "schema_version": 3,
     "solution": false,
     "task": false
    },
    "tags": []
   },
   "outputs": [],
   "source": [
    "import numpy as np"
   ]
  },
  {
   "cell_type": "markdown",
   "id": "89b9b3d5",
   "metadata": {
    "deletable": false,
    "editable": false,
    "nbgrader": {
     "cell_type": "markdown",
     "checksum": "313176c0fc4b61013af584fb13c6ecfd",
     "grade": false,
     "grade_id": "cell-d3e3b30f6df33415",
     "locked": true,
     "schema_version": 3,
     "solution": false,
     "task": false
    }
   },
   "source": [
    "\"One-Hot Encoding\" wird unter anderem im Machine Learning verwendet, um kategorische Daten zu repräsentieren. Dabei wird ein Array mit $n$ Einträgen, die jeweils einer aus $m$ verschiedenen Kategorien zugeordnet sind, als $n\\times m$-Array repräsentiert. Dabei enthält jede Zeile des Arrays genau eine 1 und ansonsten 0. Zusätzlich wird noch ein 1D-Array der vorhandenen Kategorien erzeugt.\n",
    "\n",
    "Beispielsweise wird das Array `[1, 5, 1, 2]` in folgender Weise kodiert:\n",
    "\n",
    "|     ||| 1 | 5 | 2 |\n",
    "|-----|||---|---|---|\n",
    "|  1  ||| 1 | 0 | 0 |\n",
    "|  5  ||| 0 | 1 | 0 |\n",
    "|  1  ||| 1 | 0 | 0 |\n",
    "|  2  ||| 0 | 0 | 1 |\n",
    "\n",
    "Schreiben Sie eine Funktion `one_hot_encoder`, die aus einem 1D-Array mit beliebigen (aber numerischen) Daten eine \"One-Hot-Kodierung\" dieser Daten erstellt. Die Funktion soll ein 1D-Array der Kategorien (hier `[1, 5, 2]`) und ein 2D-Array für das Encoding (hier das $4\\times3$-Array mit den Werten 0 und 1) zurückgeben. (Die Sortierung der Kategorien soll dabei nicht vorgegeben sein, also auch `[1, 2, 5]` möglich).\n",
    "\n",
    "Ansonsten soll Ihr Code folgenden Anforderungen genügen:"
   ]
  },
  {
   "cell_type": "markdown",
   "id": "ca2d8f79",
   "metadata": {
    "deletable": false,
    "editable": false,
    "nbgrader": {
     "cell_type": "markdown",
     "checksum": "991142c8740e63948a96888e79ec8e67",
     "grade": false,
     "grade_id": "cell-09eb4815f0082167",
     "locked": true,
     "points": 1,
     "schema_version": 3,
     "solution": false,
     "task": true
    }
   },
   "source": [
    "* verwendet idiomatische Numpy-Methoden sinnvoll"
   ]
  },
  {
   "cell_type": "markdown",
   "id": "43704c8b",
   "metadata": {
    "deletable": false,
    "editable": false,
    "nbgrader": {
     "cell_type": "markdown",
     "checksum": "87643dd242754d1bce633774fb616864",
     "grade": false,
     "grade_id": "cell-8fc8abd7f7340c03",
     "locked": true,
     "points": 1,
     "schema_version": 3,
     "solution": false,
     "task": true
    }
   },
   "source": [
    "* ist gut lesbar und sinnvoll dokumentiert"
   ]
  },
  {
   "cell_type": "markdown",
   "id": "058fbb2a",
   "metadata": {
    "deletable": false,
    "editable": false,
    "nbgrader": {
     "cell_type": "markdown",
     "checksum": "2f21fca1f8c5c43d89c0f5ea9eba6db9",
     "grade": false,
     "grade_id": "cell-7d7a7b45e8bdda7a",
     "locked": true,
     "points": 1,
     "schema_version": 3,
     "solution": false,
     "task": true
    }
   },
   "source": [
    "* ist performant und skaliert auch mit \"großen\" Eingabedaten gut"
   ]
  },
  {
   "cell_type": "code",
   "execution_count": 10,
   "id": "21a1f72c",
   "metadata": {
    "deletable": false,
    "nbgrader": {
     "cell_type": "code",
     "checksum": "e155f52b5775547f5a343e91d17ea557",
     "grade": true,
     "grade_id": "cell-0f968e38f7e8f87e",
     "locked": false,
     "points": 4,
     "schema_version": 3,
     "solution": true,
     "task": false
    },
    "tags": []
   },
   "outputs": [],
   "source": [
    "def one_hot_encoder(array):\n",
    "    \"\"\"\n",
    "    One-hot-encoding of an array with integers.\n",
    "    \n",
    "    Args:\n",
    "        array (numpy.ndarray): Datenarray, das kategorische Werte enthält.\n",
    "            \n",
    "        \n",
    "    Returns:\n",
    "        kat_array (np.ndarray): Array mit den Kategorien.\n",
    "        one_hot (np.ndarray): Array mit den One-Hot-Encodings.    \n",
    "    \"\"\"\n",
    "    kat_array = np.unique(array)\n",
    "    #one_hot = np.zeros((len(array), len(kat_array))).astype(int)\n",
    "    #one_hot[np.arange(len(array)), np.searchsorted(kat_array, array)] = 1\n",
    "    #return kat_array, one_hot\n",
    "    \n",
    "    return kat_array, np.equal.outer(array, kat_array).astype(int)"
   ]
  },
  {
   "cell_type": "code",
   "execution_count": 11,
   "id": "7687f63f-af4f-4d9e-8417-b89520612bac",
   "metadata": {
    "deletable": false,
    "editable": false,
    "nbgrader": {
     "cell_type": "code",
     "checksum": "d9043c0898adef46cad4ccb6ebf10588",
     "grade": false,
     "grade_id": "cell-085ec235557953af",
     "locked": true,
     "schema_version": 3,
     "solution": false,
     "task": false
    },
    "tags": []
   },
   "outputs": [
    {
     "data": {
      "text/plain": [
       "(array([1, 2, 5]),\n",
       " array([[1, 0, 0],\n",
       "        [0, 0, 1],\n",
       "        [1, 0, 0],\n",
       "        [0, 1, 0]]))"
      ]
     },
     "execution_count": 11,
     "metadata": {},
     "output_type": "execute_result"
    }
   ],
   "source": [
    "# Usage example: Code a feature vector (example above [1, 5, 1, 2] )\n",
    "one_hot_encoder(np.array([1,5,1,2]))"
   ]
  },
  {
   "cell_type": "code",
   "execution_count": 12,
   "id": "ed2e0eb4-9e12-45a1-82ec-448d4ddbc33f",
   "metadata": {
    "deletable": false,
    "editable": false,
    "nbgrader": {
     "cell_type": "code",
     "checksum": "bd373cd02d5eae0a1a928743b3d52eb6",
     "grade": false,
     "grade_id": "cell-45d2efc5b606e97a",
     "locked": true,
     "schema_version": 3,
     "solution": false,
     "task": false
    },
    "tags": []
   },
   "outputs": [
    {
     "name": "stdout",
     "output_type": "stream",
     "text": [
      "[4 0 8 4 2 9 9 2 5 1]\n"
     ]
    },
    {
     "data": {
      "text/plain": [
       "(array([0, 1, 2, 4, 5, 8, 9]),\n",
       " array([[0, 0, 0, 1, 0, 0, 0],\n",
       "        [1, 0, 0, 0, 0, 0, 0],\n",
       "        [0, 0, 0, 0, 0, 1, 0],\n",
       "        [0, 0, 0, 1, 0, 0, 0],\n",
       "        [0, 0, 1, 0, 0, 0, 0],\n",
       "        [0, 0, 0, 0, 0, 0, 1],\n",
       "        [0, 0, 0, 0, 0, 0, 1],\n",
       "        [0, 0, 1, 0, 0, 0, 0],\n",
       "        [0, 0, 0, 0, 1, 0, 0],\n",
       "        [0, 1, 0, 0, 0, 0, 0]]))"
      ]
     },
     "execution_count": 12,
     "metadata": {},
     "output_type": "execute_result"
    }
   ],
   "source": [
    "# Usage example: Code a feature vector (random)\n",
    "a = np.random.randint(10, size=10)\n",
    "print(a)\n",
    "one_hot_encoder(a)"
   ]
  }
 ],
 "metadata": {
  "kernelspec": {
   "display_name": "Python 3 (ipykernel)",
   "language": "python",
   "name": "python3"
  },
  "language_info": {
   "codemirror_mode": {
    "name": "ipython",
    "version": 3
   },
   "file_extension": ".py",
   "mimetype": "text/x-python",
   "name": "python",
   "nbconvert_exporter": "python",
   "pygments_lexer": "ipython3",
   "version": "3.10.10"
  }
 },
 "nbformat": 4,
 "nbformat_minor": 5
}
