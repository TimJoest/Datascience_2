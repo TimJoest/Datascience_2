{
 "cells": [
  {
   "cell_type": "markdown",
   "id": "205e6986",
   "metadata": {
    "deletable": false,
    "editable": false,
    "nbgrader": {
     "cell_type": "markdown",
     "checksum": "639ee42ad80cd46eaf5268fa2704603f",
     "grade": false,
     "grade_id": "cell-3b426eb4d8933c32",
     "locked": true,
     "schema_version": 3,
     "solution": false,
     "task": false
    }
   },
   "source": [
    "# Logistisches Modell"
   ]
  },
  {
   "cell_type": "code",
   "execution_count": null,
   "id": "96cf6ed7",
   "metadata": {
    "deletable": false,
    "editable": false,
    "nbgrader": {
     "cell_type": "code",
     "checksum": "3ec3f2b7cdda035137cff57e05f60b02",
     "grade": false,
     "grade_id": "cell-4092ac8a52c37a3b",
     "locked": true,
     "schema_version": 3,
     "solution": false,
     "task": false
    }
   },
   "outputs": [],
   "source": [
    "import pathlib\n",
    "import urllib\n",
    "\n",
    "import matplotlib.pyplot as plt\n",
    "import pandas as pd"
   ]
  },
  {
   "cell_type": "markdown",
   "id": "d4f0ee3f",
   "metadata": {
    "deletable": false,
    "editable": false,
    "nbgrader": {
     "cell_type": "markdown",
     "checksum": "5af6d2ac538a1cebb41900bfe4d3d473",
     "grade": false,
     "grade_id": "cell-f811a638207cc7b0",
     "locked": true,
     "schema_version": 3,
     "solution": false,
     "task": false
    }
   },
   "source": [
    "In dieser Hausaufgabe sollen Sie die Kostenfunktion einer logistischen Regression visualisieren. Das passiert im anderen Notebook der Hausaufgabe. Dort benötigen Sie aber Daten, die Sie zunächst aufbereiten, kodieren, und visualisieren sollen. Dieser Teil geschieht in diesem Notebook."
   ]
  },
  {
   "cell_type": "markdown",
   "id": "a5ae4947",
   "metadata": {
    "deletable": false,
    "editable": false,
    "nbgrader": {
     "cell_type": "markdown",
     "checksum": "fd8a97941a627c96bcc1da4d8ba787f2",
     "grade": false,
     "grade_id": "cell-cb3daf5ff094b52b",
     "locked": true,
     "schema_version": 3,
     "solution": false,
     "task": false
    }
   },
   "source": [
    "## [5P] Daten einlesen und verarbeiten"
   ]
  },
  {
   "cell_type": "markdown",
   "id": "olympic-grounds",
   "metadata": {
    "deletable": false,
    "editable": false,
    "nbgrader": {
     "cell_type": "markdown",
     "checksum": "18297834e4fc63344ab4bb27a93d4860",
     "grade": false,
     "grade_id": "cell-d1710d91f3acc56d",
     "locked": true,
     "schema_version": 3,
     "solution": false,
     "task": false
    }
   },
   "source": [
    "Als Datengrundlage bietet sich der Iris-Datensatz an. Laden Sie ihn zunächst herunter, falls erforderlich, und lesen ihn ein:"
   ]
  },
  {
   "cell_type": "code",
   "execution_count": null,
   "id": "3a5d1325",
   "metadata": {
    "deletable": false,
    "editable": false,
    "nbgrader": {
     "cell_type": "code",
     "checksum": "4f2ed3cf78b7d8ca988b9f73e60c3d23",
     "grade": false,
     "grade_id": "cell-ed11fa4ece16651e",
     "locked": true,
     "schema_version": 3,
     "solution": false,
     "task": false
    }
   },
   "outputs": [],
   "source": [
    "url = 'https://archive.ics.uci.edu/ml/machine-learning-databases/iris/iris.data'\n",
    "data_file = pathlib.Path(url.rsplit('/', 1)[-1])\n",
    "\n",
    "if not data_file.is_file():\n",
    "    # We could also use `df_iris = pd.read_csv(url)`\n",
    "    # but here we save to disk to avoid unnecessary repeated downloads.\n",
    "    urllib.request.urlretrieve(url, data_file)\n",
    "\n",
    "df_iris = pd.read_csv(data_file.resolve(), header=None)"
   ]
  },
  {
   "cell_type": "markdown",
   "id": "cb338e09",
   "metadata": {
    "deletable": false,
    "editable": false,
    "nbgrader": {
     "cell_type": "markdown",
     "checksum": "eaf11a22fc550298e181560a642c9ecb",
     "grade": false,
     "grade_id": "cell-8ba4d2f0f2b4eba7",
     "locked": true,
     "schema_version": 3,
     "solution": false,
     "task": false
    }
   },
   "source": [
    "Für diese Aufgabe benötigen Sie einen eindimensionalen Datensatz, dem genau ein Label zugeordnet ist. In den Spalten sind die folgenden Größen in dieser Reihenfolge enthalten:"
   ]
  },
  {
   "cell_type": "code",
   "execution_count": null,
   "id": "c598b4d8",
   "metadata": {
    "deletable": false,
    "editable": false,
    "nbgrader": {
     "cell_type": "code",
     "checksum": "b66605b0f1cc37d2194f49a84e96927d",
     "grade": false,
     "grade_id": "cell-7524fa4e4bef87ba",
     "locked": true,
     "schema_version": 3,
     "solution": false,
     "task": false
    }
   },
   "outputs": [],
   "source": [
    "column_names = [\"sepal length\", \"sepal width\", 'petal length', 'petal width', 'species']"
   ]
  },
  {
   "cell_type": "markdown",
   "id": "634a60ae",
   "metadata": {
    "deletable": false,
    "editable": false,
    "nbgrader": {
     "cell_type": "markdown",
     "checksum": "d95e3526e00782b553920d529147133a",
     "grade": false,
     "grade_id": "cell-2ad40a19543766ed",
     "locked": true,
     "schema_version": 3,
     "solution": false,
     "task": false
    }
   },
   "source": [
    "**[1P]** Ordnen zunächst dem DataFrame die Spaltennamen und Datentypen zu."
   ]
  },
  {
   "cell_type": "code",
   "execution_count": null,
   "id": "32801881",
   "metadata": {
    "deletable": false,
    "nbgrader": {
     "cell_type": "code",
     "checksum": "7aa99ef7485ccf60297eeb589ed13e34",
     "grade": true,
     "grade_id": "cell-f6dbc14a815fc340",
     "locked": false,
     "points": 1,
     "schema_version": 3,
     "solution": true,
     "task": false
    }
   },
   "outputs": [],
   "source": [
    "..."
   ]
  },
  {
   "cell_type": "markdown",
   "id": "b930f38d",
   "metadata": {
    "deletable": false,
    "editable": false,
    "nbgrader": {
     "cell_type": "markdown",
     "checksum": "8835ed91b8cc7ec0d955c454013d01f4",
     "grade": false,
     "grade_id": "cell-34f3532c281750a5",
     "locked": true,
     "schema_version": 3,
     "solution": false,
     "task": false
    }
   },
   "source": [
    "**[4P]** Für unser Modell beschränken wir uns auf die Kelchblattlänge (`'sepal length'`) der Spezies `Iris-virginica` und `Iris-setosa`. Stellen Sie für diese beiden Spezies die Verteilung der Kelchblattlängen grafisch in einem Diagramm dar."
   ]
  },
  {
   "cell_type": "code",
   "execution_count": null,
   "id": "db3c1adb",
   "metadata": {
    "deletable": false,
    "nbgrader": {
     "cell_type": "code",
     "checksum": "271c68d98b225f61f2aac6fa5a5a9a92",
     "grade": true,
     "grade_id": "cell-ea40c703e5e37ee4",
     "locked": false,
     "points": 4,
     "schema_version": 3,
     "solution": true,
     "task": false
    }
   },
   "outputs": [],
   "source": [
    "..."
   ]
  },
  {
   "cell_type": "markdown",
   "id": "f451f088",
   "metadata": {
    "deletable": false,
    "editable": false,
    "nbgrader": {
     "cell_type": "markdown",
     "checksum": "a06350b517ac4a93bd5f6280b50defd8",
     "grade": false,
     "grade_id": "cell-87efed6bb3cb9a88",
     "locked": true,
     "schema_version": 3,
     "solution": false,
     "task": false
    }
   },
   "source": [
    "## [5P] Daten auswählen und Variablen kodieren"
   ]
  },
  {
   "cell_type": "markdown",
   "id": "ef29f1bc",
   "metadata": {
    "deletable": false,
    "editable": false,
    "nbgrader": {
     "cell_type": "markdown",
     "checksum": "56a45a1a4432639c72bc0a0e5c41c3ec",
     "grade": false,
     "grade_id": "cell-18136e632a868ff7",
     "locked": true,
     "schema_version": 3,
     "solution": false,
     "task": false
    }
   },
   "source": [
    "Als nächstes sollen Sie den Datensatz filtern und die Variablen kodieren. Beschränken Sie sich auf alle Datenpunkte der Kelchblattlänge, die zu einer der beiden obigen Spezies gehören. Setzen Sie den Index zurück. Ersetzen Sie die Spalte `species` durch eine Series mit Einträgen vom Typ Integer, und zwar `0`, falls es sich um `Iris-setosa` handelt, und `1`, falls es sich um `Iris-virginica` handelt.\n",
    "\n",
    "Denken Sie daran, idiomatischen, verständlichen, und performanten Code zu schreiben — auch wenn dieser Datensatz noch klein ist."
   ]
  },
  {
   "cell_type": "code",
   "execution_count": null,
   "id": "8b8fce40",
   "metadata": {
    "deletable": false,
    "nbgrader": {
     "cell_type": "code",
     "checksum": "15ba68f34cafcb500d81635fc925ea28",
     "grade": true,
     "grade_id": "cell-6192b61978f4d087",
     "locked": false,
     "points": 5,
     "schema_version": 3,
     "solution": true,
     "task": false
    }
   },
   "outputs": [],
   "source": [
    "..."
   ]
  },
  {
   "cell_type": "markdown",
   "id": "d741f751-746f-4393-9e0c-4edb9c40b303",
   "metadata": {
    "deletable": false,
    "editable": false,
    "nbgrader": {
     "cell_type": "markdown",
     "checksum": "f2b6a8eacd9f41b9504298a5cdbea585",
     "grade": false,
     "grade_id": "cell-79820c669361a1c6",
     "locked": true,
     "schema_version": 3,
     "solution": false,
     "task": false
    }
   },
   "source": [
    "## Logistisches Modell"
   ]
  },
  {
   "cell_type": "markdown",
   "id": "92d60637-41a5-4508-8161-32acdfd4b41e",
   "metadata": {
    "deletable": false,
    "editable": false,
    "nbgrader": {
     "cell_type": "markdown",
     "checksum": "b6c06c2eddee957f743889218949e85e",
     "grade": false,
     "grade_id": "cell-01f34ff31dee27b6",
     "locked": true,
     "schema_version": 3,
     "solution": false,
     "task": false
    }
   },
   "source": [
    "Um für eine kontinuierliche Variable $x$ ein binäres Label $y$ vorherzusagen, bietet sich ein logistisches Modell an. Hier ist $x$ die Kelchblattlänge und $y$ die Spezies der zugehörigen Pflanze. Die Daten wurden so kodiert, dass $y=0$ bzw. $y=1$ der Spezies \"Iris setosa\" bzw. \"Iris virginica\" entspricht. Das haben Sie in der vorherigen Teilaufgabe getan — dieser Zwischenstand ist allerdings auch mitgeliefert.\n",
    "\n",
    "Die Vorhersage eines logistischen Modells $\\hat{y}(x)$ ist dann die *Wahrscheinlichkeit*, mit der es sich bei einer Pflanze dieser Kelchblattlänge um die Spezies \"Iris virginica\" handelt. Für eine Variable hat es zwei freie Parameter $a_0$ und $a_1$ und lautet:\n",
    "\n",
    "$$\\hat{y}(x) = \\frac{1}{1 + \\mathrm{e}^{- (a_0 + a_1 x)}}$$"
   ]
  },
  {
   "cell_type": "code",
   "execution_count": null,
   "id": "0cb9baa9-39a7-439d-8b03-6d8f6c78404a",
   "metadata": {
    "deletable": false,
    "editable": false,
    "nbgrader": {
     "cell_type": "code",
     "checksum": "665a3f89570d2bb626d2f4347198b957",
     "grade": false,
     "grade_id": "cell-0ff111f65bd686b6",
     "locked": true,
     "schema_version": 3,
     "solution": false,
     "task": false
    }
   },
   "outputs": [],
   "source": [
    "def logistic_model(x, a_0: float, a_1: float) -> float:\n",
    "    \"\"\"Logistic model for one continuous variable.\n",
    "\n",
    "    a_0, a_1 -- free parameters of the logistic model.\n",
    "    x -- continuous scalar variable\n",
    "\n",
    "    Returns a probability 0 < p < 1 under a logistic model of `a_0 + a_1 x`.\n",
    "    \"\"\"\n",
    "    return 1 / (1 + np.exp(-(a_0 + a_1 * x)))"
   ]
  },
  {
   "cell_type": "markdown",
   "id": "c9e18869-2f4d-409b-b829-32bba19c1a43",
   "metadata": {
    "deletable": false,
    "editable": false,
    "nbgrader": {
     "cell_type": "markdown",
     "checksum": "dd530bb10a44d45e0d2c3806f00b7015",
     "grade": false,
     "grade_id": "cell-1215cf9c20632965",
     "locked": true,
     "schema_version": 3,
     "solution": false,
     "task": false
    }
   },
   "source": [
    "## [3P] Daten einlesen und visualieren"
   ]
  },
  {
   "cell_type": "markdown",
   "id": "d55579ca-043d-4a16-9cc8-bde8624aeb30",
   "metadata": {
    "deletable": false,
    "editable": false,
    "nbgrader": {
     "cell_type": "markdown",
     "checksum": "b92f221448eeb4d97e8a323f9414f08e",
     "grade": false,
     "grade_id": "cell-b426b6058ad2ed12",
     "locked": true,
     "schema_version": 3,
     "solution": false,
     "task": false
    }
   },
   "source": [
    "Lesen Sie nun den fertig kodierten Datensatz ein:"
   ]
  },
  {
   "cell_type": "code",
   "execution_count": null,
   "id": "a62b6b84-4a25-499e-a3c6-ad6df2e8c146",
   "metadata": {
    "deletable": false,
    "editable": false,
    "nbgrader": {
     "cell_type": "code",
     "checksum": "1aeac0dce5aa1a1d4aace97a5cee4524",
     "grade": false,
     "grade_id": "cell-0cc62d24ee1ae899",
     "locked": true,
     "schema_version": 3,
     "solution": false,
     "task": false
    }
   },
   "outputs": [],
   "source": [
    "coded_df_iris = pd.read_csv('coded_df_iris.csv')"
   ]
  },
  {
   "cell_type": "markdown",
   "id": "67d1da4b-5d0a-42f3-8741-1e97124eced8",
   "metadata": {
    "deletable": false,
    "editable": false,
    "nbgrader": {
     "cell_type": "markdown",
     "checksum": "f07830efb357b01d6d3a4c8a63769c19",
     "grade": false,
     "grade_id": "cell-71af62a7436c6edc",
     "locked": true,
     "schema_version": 3,
     "solution": false,
     "task": false
    }
   },
   "source": [
    "Stellen Sie in einer gemeinsamen Abbildung die Datenpunkte sowie das logistische Modell mit $a_0 = -80;~~a_1 = 15$ sinnvoll im gesamten Datenbereich dar."
   ]
  },
  {
   "cell_type": "code",
   "execution_count": null,
   "id": "d20b739e-0380-4222-bd70-7d7cc59a605c",
   "metadata": {
    "deletable": false,
    "nbgrader": {
     "cell_type": "code",
     "checksum": "ef4314b80bc6d2f7a764a2f1e4038894",
     "grade": true,
     "grade_id": "cell-0d845428e044f734",
     "locked": false,
     "points": 3,
     "schema_version": 3,
     "solution": true,
     "task": false
    }
   },
   "outputs": [],
   "source": [
    "..."
   ]
  },
  {
   "cell_type": "markdown",
   "id": "f40cc1bb-7ed9-431d-b07a-984039498c20",
   "metadata": {
    "deletable": false,
    "editable": false,
    "nbgrader": {
     "cell_type": "markdown",
     "checksum": "32fe31a78c26de6812a0bd7b00ae6981",
     "grade": false,
     "grade_id": "cell-b090bf0b1e8a7f96",
     "locked": true,
     "schema_version": 3,
     "solution": false,
     "task": false
    }
   },
   "source": [
    "## [3P] Wert der Kostenfunktion für ausgewählte Modelle"
   ]
  },
  {
   "cell_type": "markdown",
   "id": "d126f94d-f8ad-4c65-9e2c-342d97ee9831",
   "metadata": {
    "deletable": false,
    "editable": false,
    "nbgrader": {
     "cell_type": "markdown",
     "checksum": "9853491cb2dc8805da9c7a455139277b",
     "grade": false,
     "grade_id": "cell-945553820d5ff652",
     "locked": true,
     "schema_version": 3,
     "solution": false,
     "task": false
    }
   },
   "source": [
    "Als Kostenfunktion für logistische Regression dient die \"mittlere Kreuzentropie\":"
   ]
  },
  {
   "cell_type": "code",
   "execution_count": null,
   "id": "f301f252-ae60-4d13-a64a-838c39aed92a",
   "metadata": {
    "deletable": false,
    "editable": false,
    "nbgrader": {
     "cell_type": "code",
     "checksum": "72cba6c6702c4e2725666c449158078d",
     "grade": false,
     "grade_id": "cell-af7a4d4eaf5b93af",
     "locked": true,
     "schema_version": 3,
     "solution": false,
     "task": false
    }
   },
   "outputs": [],
   "source": [
    "def average_cross_entropy(predictions, truth) -> float:\n",
    "    \"\"\"Calculate average cross entropy between two arrays.\n",
    "\n",
    "    Typically, `predictions` would hold predicted probabilities for labels\n",
    "    and `truth` would hold the observed values.\n",
    "\n",
    "    But really any two Series with values between 0 and 1 work.\n",
    "    \"\"\"\n",
    "    cross_entropies = -np.log(truth * predictions + (1 - truth) * (1 - predictions))\n",
    "    return cross_entropies.mean()"
   ]
  },
  {
   "cell_type": "markdown",
   "id": "ede041a5-b4bd-4bd2-8936-d0df6d30bbae",
   "metadata": {
    "deletable": false,
    "editable": false,
    "nbgrader": {
     "cell_type": "markdown",
     "checksum": "aaa2e1e69806d8e9c78f742b794f9e41",
     "grade": false,
     "grade_id": "cell-116b9d02afd940cb",
     "locked": true,
     "schema_version": 3,
     "solution": false,
     "task": false
    }
   },
   "source": [
    "Berechnen Sie die mittlere Kreuzentropie zwischen den Daten und dem logistischen Modell mit $a_0 = -80; ~~ a_1 = 15$ sowie vier weiteren logistischen Modellen mit von Ihnen gewählten Werten für $a_0$ und $a_1$.\n",
    "\n",
    "Stellen Sie diese Modelle gemeinsam mit den Daten und den mittleren Kreuzentropien sinnvoll gemeinsam dar."
   ]
  },
  {
   "cell_type": "code",
   "execution_count": null,
   "id": "8c8717f4-a520-4ee0-bc90-5e0b8813ba29",
   "metadata": {
    "deletable": false,
    "nbgrader": {
     "cell_type": "code",
     "checksum": "985ca47f0f00cef3ce3498dca198e49e",
     "grade": true,
     "grade_id": "cell-76af4828d366d0a9",
     "locked": false,
     "points": 3,
     "schema_version": 3,
     "solution": true,
     "task": false
    }
   },
   "outputs": [],
   "source": [
    "..."
   ]
  },
  {
   "cell_type": "markdown",
   "id": "6cd5320f-eb13-456b-afba-2abfe57fc701",
   "metadata": {
    "deletable": false,
    "editable": false,
    "nbgrader": {
     "cell_type": "markdown",
     "checksum": "40ffcffdfd21cf54c5dec1f7b2d051e3",
     "grade": false,
     "grade_id": "cell-53927a8a112488ee",
     "locked": true,
     "schema_version": 3,
     "solution": false,
     "task": false
    }
   },
   "source": [
    "## [3P] Konturplot der Kostenfunktion"
   ]
  },
  {
   "cell_type": "markdown",
   "id": "123d4c7a-3578-4fdc-8a20-8fd19f3f2195",
   "metadata": {
    "deletable": false,
    "editable": false,
    "nbgrader": {
     "cell_type": "markdown",
     "checksum": "cda01a6deb709b13d4b30df8024fed54",
     "grade": false,
     "grade_id": "cell-ee118cbeec90174c",
     "locked": true,
     "schema_version": 3,
     "solution": false,
     "task": false
    }
   },
   "source": [
    "Erstellen Sie einen Konturplot der Kostenfunktion. Tragen Sie dazu die mittlere Kreuzentropie eines logistischen Modells mit den Parametern $a_0$ und $a_1$ als Konturplot gegen die Parameter $a_0$ und $a_1$ auf. Wählen Sie einen sinnvollen Wertebereich für die Parameter. Welche Form hat der Bereich mit \"kleinen\" Werten der Kostenfunktion? Wann und warum treten sehr große Werte auf?\n",
    "\n",
    "Hilfe zur Erstellung eines Konturplots mit matplotlib finden Sie z.B. unter https://alex.miller.im/posts/contour-plots-in-python-matplotlib-x-y-z/. Es bietet sich an, zunächst die `np.meshgrid`s für `a_0` und `a_1` zu erstellen, die Daten dann in das auf dieser Seite beschriebene \"long\"-Format umzuwandeln, dort die Kostenfunktion auszuwerten, und dann wie dort beschrieben mit der `pivot_table`-Methode die Werte der Kostenfunktion in das zum Plotten benötigte Format umzuwandeln."
   ]
  },
  {
   "cell_type": "code",
   "execution_count": null,
   "id": "a74e04fd-957b-4f89-976b-9222cb308e8f",
   "metadata": {
    "deletable": false,
    "nbgrader": {
     "cell_type": "code",
     "checksum": "804e91204d1447d8f93df05cc55a4782",
     "grade": true,
     "grade_id": "cell-72767eb10fb0d4a0",
     "locked": false,
     "points": 3,
     "schema_version": 3,
     "solution": true,
     "task": false
    }
   },
   "outputs": [],
   "source": [
    "..."
   ]
  },
  {
   "cell_type": "markdown",
   "id": "f2821986-cac3-450a-b1f6-f4f63e9e3493",
   "metadata": {
    "deletable": false,
    "editable": false,
    "nbgrader": {
     "cell_type": "markdown",
     "checksum": "1a93e88f546afea8f029208805150ee9",
     "grade": false,
     "grade_id": "cell-cb8ca9cd83d8334a",
     "locked": true,
     "schema_version": 3,
     "solution": false,
     "task": false
    }
   },
   "source": [
    "## [1P] Mit den Daten herumspielen"
   ]
  },
  {
   "cell_type": "markdown",
   "id": "ee5bc410-3b67-418b-a087-4832fe79752f",
   "metadata": {
    "deletable": false,
    "editable": false,
    "nbgrader": {
     "cell_type": "markdown",
     "checksum": "8293b55ad2963e17d86a575dfbcf5f49",
     "grade": false,
     "grade_id": "cell-8b7e825474d9b87d",
     "locked": true,
     "schema_version": 3,
     "solution": false,
     "task": false
    }
   },
   "source": [
    "Sobald Sie für einen Datensatz die Kostenfunktion mit einem Konturplot visualisiert haben, sollte es relativ leicht sein, dies für andere Datensätze zu wiederholen. In der csv-Datei sind auch andere Größen und alle Spezies kodiert.\n",
    "\n",
    "Wählen Sie z.B. eine andere Messgröße, eine andere Kombination von Spezies (achten Sie dann auf deren Kodierung!), oder transformieren Sie Ihre Daten vor Darstellung der Kostenfunktion. In der Vorlesung wurde beispielsweise Skalierung von Mittelwert und Standardabweichung als sinnvolle Transformation oder die Kostenfunktion \"Mean Squared Error\" als nicht für logistische Regression geeignet angesprochen. Sie könnten auch dies implementieren und diskutieren.\n",
    "\n",
    "Probieren Sie mehr als einen Ansatz aus und setzen Sie diese um. Es ist nicht so wichtig, *was* Sie genau tun, wie *dass* Sie mehrere Dinge versuchen und zumindest ein interessantes Ergebnis erhalten und sinnvoll visualisieren. Dokumentieren Sie Ihr Vorgehen sinnvoll."
   ]
  },
  {
   "cell_type": "code",
   "execution_count": null,
   "id": "d14ff820-7a79-4ee3-94ed-88f07f1954cc",
   "metadata": {
    "deletable": false,
    "nbgrader": {
     "cell_type": "code",
     "checksum": "bfc8f2b0a23de241e4b8c330057716a1",
     "grade": true,
     "grade_id": "cell-0bb8f4ff1fd9e991",
     "locked": false,
     "points": 1,
     "schema_version": 3,
     "solution": true,
     "task": false
    }
   },
   "outputs": [],
   "source": [
    "..."
   ]
  }
 ],
 "metadata": {
  "kernelspec": {
   "display_name": "Python 3 (ipykernel)",
   "language": "python",
   "name": "python3"
  },
  "language_info": {
   "codemirror_mode": {
    "name": "ipython",
    "version": 3
   },
   "file_extension": ".py",
   "mimetype": "text/x-python",
   "name": "python",
   "nbconvert_exporter": "python",
   "pygments_lexer": "ipython3",
   "version": "3.10.11"
  }
 },
 "nbformat": 4,
 "nbformat_minor": 5
}
