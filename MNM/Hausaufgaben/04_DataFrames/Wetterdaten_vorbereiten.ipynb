{
 "cells": [
  {
   "cell_type": "markdown",
   "id": "7114f455",
   "metadata": {
    "deletable": false,
    "editable": false,
    "nbgrader": {
     "cell_type": "markdown",
     "checksum": "5e7821e27ab4db9ecfc2b9c431ac1e29",
     "grade": false,
     "grade_id": "cell-2f65c78f32492cc5",
     "locked": true,
     "schema_version": 3,
     "solution": false,
     "task": false
    }
   },
   "source": [
    "# Wetterdaten von 1950 bis (fast) heute: Vorbereiten"
   ]
  },
  {
   "cell_type": "code",
   "execution_count": null,
   "id": "f361dfb4",
   "metadata": {
    "deletable": false,
    "editable": false,
    "nbgrader": {
     "cell_type": "code",
     "checksum": "264c1d67a4be08f7fdfcf6805b39a5a2",
     "grade": false,
     "grade_id": "cell-00ee84213e928102",
     "locked": true,
     "schema_version": 3,
     "solution": false,
     "task": false
    }
   },
   "outputs": [],
   "source": [
    "%matplotlib inline\n",
    "\n",
    "import io\n",
    "import pathlib\n",
    "import urllib\n",
    "import zipfile\n",
    "\n",
    "import matplotlib.pyplot as plt\n",
    "import numpy as np\n",
    "import pandas as pd"
   ]
  },
  {
   "cell_type": "markdown",
   "id": "9f17c9c8",
   "metadata": {
    "deletable": false,
    "editable": false,
    "nbgrader": {
     "cell_type": "markdown",
     "checksum": "bc74901402abfe110f51e24d52fa6a75",
     "grade": false,
     "grade_id": "cell-081320ff78c7a5d2",
     "locked": true,
     "schema_version": 3,
     "solution": false,
     "task": false
    }
   },
   "source": [
    "In dieser Aufgabe verarbeiten, bereinigen und visualisieren Sie Wetterdaten des Deutschen Wetterdienstes. Der Deutsche Wetterdienst stellt für seine zahlreichen Wetterstationen `zip`-Archive mit ihren Messdaten bereit. Dabei gibt es Archive für verschiedene Häufigkeiten (von zehnminütlich bis zum zehnjährigen Mittel), verschiedene Messgrößen (etwa Sonneneinstrahlung oder Wind), sowie historische oder aktuelle Werte. In dieser Aufgabe interessieren wir uns für die historischen Werte (von 1950 bis 2022) der Temperatur und Luftfeuchtigkeit der Station \"Gießen/Wettenberg\"."
   ]
  },
  {
   "cell_type": "markdown",
   "id": "9125e0ea",
   "metadata": {
    "deletable": false,
    "editable": false,
    "nbgrader": {
     "cell_type": "markdown",
     "checksum": "f2024f863ceb78400cb18a3971087cc7",
     "grade": false,
     "grade_id": "cell-66c92e4972250329",
     "locked": true,
     "schema_version": 3,
     "solution": false,
     "task": false
    }
   },
   "source": [
    "\n",
    "Für eine vollständig bepunktete Abgabe sollten Sie bei der Umsetzung insbesondere auf idiomatischen, performanten, und gut lesbaren Code achten:\n",
    "* Nutzen Sie `pandas`-Methoden, statt explizit zu iterieren.\n",
    "* Nutzen Sie Method Chaining, statt Rechnungen zu wiederholen oder unnötige Kopien zu erstellen.\n",
    "* Formatieren Sie Ihren Code sinnvoll, nutzen Sie \"sprechende\" Variablen und Methoden wo möglich, und kommentieren Sie wo nötig."
   ]
  },
  {
   "cell_type": "markdown",
   "id": "7ade1a5a",
   "metadata": {
    "deletable": false,
    "editable": false,
    "nbgrader": {
     "cell_type": "markdown",
     "checksum": "d72301a1b7af103b05e9f73df87fe0d1",
     "grade": false,
     "grade_id": "cell-9a564deb6c18df52",
     "locked": true,
     "schema_version": 3,
     "solution": false,
     "task": false
    }
   },
   "source": [
    "## [0 Punkte] Download von den Seiten des Deutschen Wetterdienstes"
   ]
  },
  {
   "cell_type": "markdown",
   "id": "7b7a85f7",
   "metadata": {
    "deletable": false,
    "editable": false,
    "nbgrader": {
     "cell_type": "markdown",
     "checksum": "860591f8a84fef97544182529bce1c29",
     "grade": false,
     "grade_id": "cell-11a79b4b86d0c8c3",
     "locked": true,
     "schema_version": 3,
     "solution": false,
     "task": false
    }
   },
   "source": [
    "Die Funktion `extract_zipfile_from_web` lädt eine `.zip`-Datei herunter und extrahiert sie in ein Verzeichnis (standardmäßig `tmp`). Sie gibt eine Liste der extrahierten Dateien zurück."
   ]
  },
  {
   "cell_type": "code",
   "execution_count": null,
   "id": "f6ec374f",
   "metadata": {
    "deletable": false,
    "editable": false,
    "nbgrader": {
     "cell_type": "code",
     "checksum": "545014639338ff6d8b9bf5af9a0cd7aa",
     "grade": false,
     "grade_id": "cell-35901663a71f90a8",
     "locked": true,
     "schema_version": 3,
     "solution": false,
     "task": false
    }
   },
   "outputs": [],
   "source": [
    "def extract_zipfile_from_web(url: str, tmp_dir=pathlib.Path('tmp'), exist_ok=True):\n",
    "    \"\"\"Extracts a zipfile from the web to `tmp_dir` and returns list of extracted files.\n",
    "\n",
    "    url      -- location of the zipfile to download from the web\n",
    "    tmp_dir  -- output directory for extracted files\n",
    "    exist_ok -- whether to extract to existing directories\n",
    "\n",
    "    returns list of paths with extracted files\n",
    "    \"\"\"\n",
    "    tmp_dir.mkdir(exist_ok=exist_ok)\n",
    "\n",
    "    response = urllib.request.urlopen(url)\n",
    "    z = zipfile.ZipFile(io.BytesIO(response.read()))\n",
    "\n",
    "    z.extractall(path=tmp_dir)\n",
    "    return list(map(pathlib.Path(tmp_dir).joinpath, z.namelist()))"
   ]
  },
  {
   "cell_type": "markdown",
   "id": "2f63252c",
   "metadata": {
    "deletable": false,
    "editable": false,
    "nbgrader": {
     "cell_type": "markdown",
     "checksum": "7e7a94c2601ba73955857fe520c286f3",
     "grade": false,
     "grade_id": "cell-fb7084faa352226a",
     "locked": true,
     "schema_version": 3,
     "solution": false,
     "task": false
    }
   },
   "source": [
    "Das gewünschte Archiv (historische, stündliche Messwerte der Temperatur und Luftfeuchte in Gießen/Wettenberg) findet sich unter der folgenden URL:"
   ]
  },
  {
   "cell_type": "code",
   "execution_count": null,
   "id": "377d2274",
   "metadata": {
    "deletable": false,
    "editable": false,
    "nbgrader": {
     "cell_type": "code",
     "checksum": "af918dd2df2d9089e65bb208bae1914a",
     "grade": false,
     "grade_id": "cell-c8301b482b79f9ce",
     "locked": true,
     "schema_version": 3,
     "solution": false,
     "task": false
    }
   },
   "outputs": [],
   "source": [
    "url = (\n",
    "    'https://opendata.dwd.de/climate_environment/CDC/observations_germany/climate/hourly/'\n",
    "    'air_temperature/historical/stundenwerte_TU_01639_19500101_20221231_hist.zip'\n",
    ")"
   ]
  },
  {
   "cell_type": "markdown",
   "id": "6d17c8fb",
   "metadata": {
    "deletable": false,
    "editable": false,
    "nbgrader": {
     "cell_type": "markdown",
     "checksum": "7f10ed67d093ccb87f90ec1c504f62f3",
     "grade": false,
     "grade_id": "cell-2bf9f06246e223b5",
     "locked": true,
     "schema_version": 3,
     "solution": false,
     "task": false
    }
   },
   "source": [
    "Laden Sie es zunächst herunter und entpacken Sie es:"
   ]
  },
  {
   "cell_type": "code",
   "execution_count": null,
   "id": "6f4644aa",
   "metadata": {
    "deletable": false,
    "editable": false,
    "nbgrader": {
     "cell_type": "code",
     "checksum": "ca99a875dd93bb65d568a8b0efc7a143",
     "grade": false,
     "grade_id": "cell-48dda9648593ea8e",
     "locked": true,
     "schema_version": 3,
     "solution": false,
     "task": false
    }
   },
   "outputs": [],
   "source": [
    "extracted_files = extract_zipfile_from_web(url)\n",
    "extracted_files"
   ]
  },
  {
   "cell_type": "markdown",
   "id": "3fd08862",
   "metadata": {
    "deletable": false,
    "editable": false,
    "nbgrader": {
     "cell_type": "markdown",
     "checksum": "7d9daa530d53bdecf4fa2ed506e2fc53",
     "grade": false,
     "grade_id": "cell-20e74903e7238001",
     "locked": true,
     "schema_version": 3,
     "solution": false,
     "task": false
    }
   },
   "source": [
    "## [1 Punkt] Import des Datensatzes"
   ]
  },
  {
   "cell_type": "markdown",
   "id": "3043d42b",
   "metadata": {
    "deletable": false,
    "editable": false,
    "nbgrader": {
     "cell_type": "markdown",
     "checksum": "282c981e1938da863fe0f022fc872392",
     "grade": false,
     "grade_id": "cell-10b5ff1a5d1bb283",
     "locked": true,
     "schema_version": 3,
     "solution": false,
     "task": false
    }
   },
   "source": [
    "Das Zip-Archiv enthält einige Dateien mit dem Präfix `Metadaten_`, die Informationen u.A. zu den Messgeräten und zur Geographie enthalten. Die verbleibende Datei mit dem Präfix `produkt_` enthält die tatsächlichen Messwerte. Dabei handelt es sich um eine CSV-artige Datei (lassen Sie nicht von der Endung `.txt` irritieren). Die einzelnen Spalten dieser Datei haben folgende Titel:\n",
    "\n",
    "```\n",
    "STATIONS_ID;MESS_DATUM;QN_9;TT_TU;RF_TU;eor\n",
    "```\n",
    "\n",
    "`MESS_DATUM` enthält das Messdatum, `TT_TU` die Temperatur in Grad Celsius, und `RF_TU` die relative Luftfeuchtigkeit."
   ]
  },
  {
   "cell_type": "markdown",
   "id": "2fa7e9d3",
   "metadata": {
    "deletable": false,
    "editable": false,
    "nbgrader": {
     "cell_type": "markdown",
     "checksum": "dc1f95029e264443e2b655ea960044af",
     "grade": false,
     "grade_id": "cell-9912cdbf3083f7e6",
     "locked": true,
     "schema_version": 3,
     "solution": false,
     "task": false
    }
   },
   "source": [
    "Lesen Sie (ausschließlich) die Spalten `\"MESS_DATUM\"`, `\"TT_TU\"` und `\"RF_TU\"` in einen `DataFrame` ein. Verzichten Sie zunächst auf die Konversion von Datentypen und das Umbenennen von Spalten."
   ]
  },
  {
   "cell_type": "code",
   "execution_count": null,
   "id": "f99173c3",
   "metadata": {
    "deletable": false,
    "nbgrader": {
     "cell_type": "code",
     "checksum": "8f729e3dafda11d0fd90f7f2cfd1eceb",
     "grade": true,
     "grade_id": "cell-8a8b8c667783e650",
     "locked": false,
     "points": 1,
     "schema_version": 3,
     "solution": true,
     "task": false
    }
   },
   "outputs": [],
   "source": [
    "# Bitte geben Sie Ihren Code hier ein."
   ]
  },
  {
   "cell_type": "markdown",
   "id": "040a748e",
   "metadata": {
    "deletable": false,
    "editable": false,
    "nbgrader": {
     "cell_type": "markdown",
     "checksum": "c9c9155ae922658faf233949e9df8ded",
     "grade": false,
     "grade_id": "cell-b04e3318f53e2158",
     "locked": true,
     "schema_version": 3,
     "solution": false,
     "task": false
    }
   },
   "source": [
    "## [4 Punkte] Datensatz aufbereiten"
   ]
  },
  {
   "cell_type": "markdown",
   "id": "ee52d6ce",
   "metadata": {
    "deletable": false,
    "editable": false,
    "nbgrader": {
     "cell_type": "markdown",
     "checksum": "54806b2a4f9e82266fd410cb7cc4e7ea",
     "grade": false,
     "grade_id": "cell-e01e5cae80f77e61",
     "locked": true,
     "schema_version": 3,
     "solution": false,
     "task": false
    }
   },
   "source": [
    "Nach dem Einlesen eines Datensatzes muss dieser häufig aufbereitet werden. Dafür bietet es sich an, ein \"Rezept\" zu schreiben, dessen einzelne Schritte Sie dann nacheinander implementieren können. Hier verwenden wir dieses \"Rezept\":\n",
    "\n",
    "1. Datentypen umwandeln\n",
    "2. Spalten umbenennen\n",
    "3. Index wählen"
   ]
  },
  {
   "cell_type": "markdown",
   "id": "50fc97c2",
   "metadata": {
    "deletable": false,
    "editable": false,
    "nbgrader": {
     "cell_type": "markdown",
     "checksum": "443e26897d746f8f5dd9b030c5a86a98",
     "grade": false,
     "grade_id": "cell-83e2a9104460560c",
     "locked": true,
     "schema_version": 3,
     "solution": false,
     "task": false
    }
   },
   "source": [
    "#### Datentypen umwandeln\n",
    "Die Spalte `MESS_DATUM` enthält das Datum einer jeden Messung. Allerdings hat die Spalte nach Import den Typ `int64` und soll ein Datum im Format `%Y%m%d%H` (\"JahrMonatTagStunde\") repräsentieren. Das ist nicht in unserem Sinne. Stattdessen würden wir das Datum der Messung lieber mit dem Datentyp `datetime64[ns]` speichern. Damit lassen sich die Daten besser verarbeiten und visualisieren.\n",
    "\n",
    "Dazu könnten Sie die `.astype`, `.to_datetime`, und `.assign`-Methoden nutzen. Beispielsweise lässt sich eine Series von Jahreszahlen als Integer wie folgt in den Typ `datetime64` umwandeln:\n",
    "\n",
    "```python\n",
    ">>> years = pd.Series([2019, 2020])\n",
    ">>> pd.to_datetime(years.astype(str), format='%Y')\n",
    "pd.Series(['2019-01-01', '2020-01-01'], dtype=datetime64[ns])\n",
    "```\n",
    "\n",
    "Wählen Sie außerdem geeignete Datentypen für Temperatur und Luftfeuchtigkeit."
   ]
  },
  {
   "cell_type": "markdown",
   "id": "cc6f4435",
   "metadata": {
    "deletable": false,
    "editable": false,
    "nbgrader": {
     "cell_type": "markdown",
     "checksum": "aae4bcafca499522cbb99b23ab0b7193",
     "grade": false,
     "grade_id": "cell-7df8d2323ed087c0",
     "locked": true,
     "schema_version": 3,
     "solution": false,
     "task": false
    }
   },
   "source": [
    "#### Spalten umbenennen\n",
    "Benennen Sie die Spalten `MESS_DATUM`, `TT_TU`, und `RF_TU` respektive in `Datum`, `Temperatur`, und `Luftfeuchte` um. Dazu bietet sich die `.rename`-Methode an."
   ]
  },
  {
   "cell_type": "markdown",
   "id": "4c96bba3",
   "metadata": {
    "deletable": false,
    "editable": false,
    "nbgrader": {
     "cell_type": "markdown",
     "checksum": "5e1cea8398095ede69a3507608e8d4cb",
     "grade": false,
     "grade_id": "cell-29593e11bfa52f89",
     "locked": true,
     "schema_version": 3,
     "solution": false,
     "task": false
    }
   },
   "source": [
    "#### Index wählen\n",
    "Beim Einlesen der Daten hat pandas einen neuen Integer-Index erzeugt. Stattdessen wollen wir das `Datum` als Index wählen. Nutzen Sie dazu die `.set_index`-Methode."
   ]
  },
  {
   "cell_type": "code",
   "execution_count": null,
   "id": "530c4243",
   "metadata": {
    "deletable": false,
    "nbgrader": {
     "cell_type": "code",
     "checksum": "5f5b7ad88a7765be17281f3d793ade8e",
     "grade": true,
     "grade_id": "cell-0508c5d69fe838b0",
     "locked": false,
     "points": 4,
     "schema_version": 3,
     "solution": true,
     "task": false
    }
   },
   "outputs": [],
   "source": [
    "# Bitte geben Sie Ihren Code hier ein."
   ]
  },
  {
   "cell_type": "markdown",
   "id": "6b12e40a",
   "metadata": {
    "deletable": false,
    "editable": false,
    "nbgrader": {
     "cell_type": "markdown",
     "checksum": "ab61a1909ec2b3b5a76c4716f8ff9188",
     "grade": false,
     "grade_id": "cell-ce6ebc12a63867af",
     "locked": true,
     "schema_version": 3,
     "solution": false,
     "task": false
    }
   },
   "source": [
    "## [5 Punkte] Datensatz bereinigen\n",
    "\n",
    "Bei Messungen über lange Zeiträume hinweg kann es durchaus sein, dass einzelne Messungen fehlgeschlagen sind, etwa weil ein Messgerät eine Fehlfunktion hat oder gewartet wird. Zum Teil stehen dann im Datensatz unsinnige Messwerte. Solche Daten müssen detektiert und aus dem Datensatz entfernt werden — ein Problem, das auch allgemein bei großen Datenmengen auftreten kann.\n",
    "\n",
    "Ein \"Rezept\" zum Finden unsinniger Messwerten kann folgende Schritte beinhalten:\n",
    "\n",
    "* Überlegen Sie sich zunächst, welchen Wertebereich Sie (grob) erwarten.\n",
    "* Prüfen Sie, ob Ihr Datensatz bereits fehlende Werte enthält\n",
    "* Wiederholen Sie dann die folgenden Schritte, bis Sie keine unsinnigen Werte mehr finden:\n",
    "    1. Prüfen Sie (besonders) Maximum, Minimum, und Median mit der `.describe`-Methode.\n",
    "    2. Erstellen Sie ein Histogramm für jede Messgröße.\n",
    "    3. Suchen Sie in den `.value_counts` nach Werten, die besonders häufig oder besonders selten vorkommen.\n",
    "    4. Ersetzen Sie alle unsinnigen Messwerte mit einem fehlenden Wert (je nach Datentyp `np.nan`, `pd.NA`, `np.datetime64('NaT')` oder `None`)\n",
    "    \n",
    "Wenn Werte fehlen oder entfernt werden mussten, können zum Umgang damit mehrere Strategien sinnvoll sein:\n",
    "* im Datensatz belassen\n",
    "* aus dem Datensatz entfernen\n",
    "* interpolieren, z.B. linear, mit Splines, oder dem nächsten bekannten Wert\n",
    "* mit einem sinnvollen Wert ersetzen, z.B. Mittelwert oder Median"
   ]
  },
  {
   "cell_type": "markdown",
   "id": "d994b61f",
   "metadata": {
    "deletable": false,
    "editable": false,
    "nbgrader": {
     "cell_type": "markdown",
     "checksum": "44b07aa6e4c237d0f3b6956bf0443a88",
     "grade": false,
     "grade_id": "cell-6c16d440a147f15d",
     "locked": true,
     "schema_version": 3,
     "solution": false,
     "task": false
    }
   },
   "source": [
    "Überprüfen Sie auf geeignete Weise, ob und welche Messwerte für Temperatur und/oder Luftfeuchtigkeit in einem nicht sinnvollen Bereich liegen, und entfernen Sie diese. Achten Sie darauf, keine unnötigen Kopien der Daten zu erzeugen, sondern den existierenden `DataFrame` geeignet anzupassen. Dokumentieren Sie Ihr Vorgehen angemessen."
   ]
  },
  {
   "cell_type": "code",
   "execution_count": null,
   "id": "7831239c",
   "metadata": {
    "deletable": false,
    "nbgrader": {
     "cell_type": "code",
     "checksum": "112fc7a4a89616d24fd94421382ad4e4",
     "grade": true,
     "grade_id": "cell-34bc9eaf9c58aeb6",
     "locked": false,
     "points": 5,
     "schema_version": 3,
     "solution": true,
     "task": false
    }
   },
   "outputs": [],
   "source": [
    "# Bitte geben Sie Ihren Code hier ein."
   ]
  },
  {
   "cell_type": "markdown",
   "id": "65ebd9b7",
   "metadata": {
    "deletable": false,
    "editable": false,
    "nbgrader": {
     "cell_type": "markdown",
     "checksum": "dfb6fabf6a94d61560a04dafd11f3b53",
     "grade": false,
     "grade_id": "cell-6cd19209075d79b1",
     "locked": true,
     "schema_version": 3,
     "solution": false,
     "task": false
    }
   },
   "source": [
    " "
   ]
  }
 ],
 "metadata": {
  "kernelspec": {
   "display_name": "Python 3 (ipykernel)",
   "language": "python",
   "name": "python3"
  },
  "language_info": {
   "codemirror_mode": {
    "name": "ipython",
    "version": 3
   },
   "file_extension": ".py",
   "mimetype": "text/x-python",
   "name": "python",
   "nbconvert_exporter": "python",
   "pygments_lexer": "ipython3",
   "version": "3.10.10"
  },
  "toc": {
   "base_numbering": 1,
   "nav_menu": {},
   "number_sections": true,
   "sideBar": true,
   "skip_h1_title": false,
   "title_cell": "Table of Contents",
   "title_sidebar": "Contents",
   "toc_cell": false,
   "toc_position": {},
   "toc_section_display": true,
   "toc_window_display": true
  }
 },
 "nbformat": 4,
 "nbformat_minor": 5
}
