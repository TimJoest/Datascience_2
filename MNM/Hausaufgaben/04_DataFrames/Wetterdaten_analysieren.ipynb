{
 "cells": [
  {
   "cell_type": "markdown",
   "id": "7114f455",
   "metadata": {
    "deletable": false,
    "editable": false,
    "nbgrader": {
     "cell_type": "markdown",
     "checksum": "835ecaeeff85f99295c8c5b4dbe204d4",
     "grade": false,
     "grade_id": "cell-5d0fb9d7bd86fc76",
     "locked": true,
     "schema_version": 3,
     "solution": false,
     "task": false
    }
   },
   "source": [
    "# Wetterdaten von 1950 bis (fast) heute: Analysieren"
   ]
  },
  {
   "cell_type": "code",
   "execution_count": null,
   "id": "f361dfb4",
   "metadata": {
    "deletable": false,
    "editable": false,
    "nbgrader": {
     "cell_type": "code",
     "checksum": "d922e832a13e9b80c5a0582f7f08425e",
     "grade": false,
     "grade_id": "cell-05acf664373366d8",
     "locked": true,
     "schema_version": 3,
     "solution": false,
     "task": false
    }
   },
   "outputs": [],
   "source": [
    "%matplotlib inline\n",
    "\n",
    "import numpy as np\n",
    "import pandas as pd\n",
    "from matplotlib import pyplot as plt"
   ]
  },
  {
   "cell_type": "markdown",
   "id": "5a477057",
   "metadata": {
    "deletable": false,
    "editable": false,
    "nbgrader": {
     "cell_type": "markdown",
     "checksum": "31015f82be14c4a0e9ae4b6495a027b5",
     "grade": false,
     "grade_id": "cell-c07c6ff7c0ae39df",
     "locked": true,
     "schema_version": 3,
     "solution": false,
     "task": false
    }
   },
   "source": [
    "## [1 Punkt] Einlesen des bereinigten Datensatzes"
   ]
  },
  {
   "cell_type": "markdown",
   "id": "8e56b173",
   "metadata": {
    "deletable": false,
    "editable": false,
    "nbgrader": {
     "cell_type": "markdown",
     "checksum": "a13de31e21e208cd49503a9185f1bbe5",
     "grade": false,
     "grade_id": "cell-8a2b4b6839979662",
     "locked": true,
     "schema_version": 3,
     "solution": false,
     "task": false
    }
   },
   "source": [
    "Lesen Sie den bereinigten Datensatz aus der Datei `produkt_tu_stunde_19500101_20221231_01639_bereinigt.csv` in einen `pd.DataFrame` ein. Dieser Datensatz basiert auf Daten des Deutschen Wetterdienstes, die dieser unter `https://opendata.dwd.de/` bereitstellt, wurde aber bereinigt, damit diese Aufgabe komplett unabhängig von der Aufgabe `Wetterdaten_vorbereiten` bearbeitet werden kann.\n",
    "\n",
    "Insbesondere sollen Sie die Spalte `Datum` als Index mit Einträgen vom Typ `np.datetime64[ns]` einlesen. Nutzen Sie dazu die [`pd.read_csv`](https://pandas.pydata.org/pandas-docs/stable/reference/api/pandas.read_csv.html)-Funktion  unter Angabe von `index_col` und `parse_dates=True`."
   ]
  },
  {
   "cell_type": "code",
   "execution_count": null,
   "id": "0445e506",
   "metadata": {
    "deletable": false,
    "nbgrader": {
     "cell_type": "code",
     "checksum": "24c3bb9b2e5c5fc19a473593e4d07bd0",
     "grade": true,
     "grade_id": "cell-fcf54eccac79de0a",
     "locked": false,
     "points": 1,
     "schema_version": 3,
     "solution": true,
     "task": false
    }
   },
   "outputs": [],
   "source": [
    "# Bitte geben Sie Ihren Code hier ein."
   ]
  },
  {
   "cell_type": "markdown",
   "id": "b009f1c7",
   "metadata": {
    "deletable": false,
    "editable": false,
    "nbgrader": {
     "cell_type": "markdown",
     "checksum": "163d7bc5a8657f1ed49b42647e8d615f",
     "grade": false,
     "grade_id": "cell-ed517cd826751791",
     "locked": true,
     "schema_version": 3,
     "solution": false,
     "task": false
    }
   },
   "source": [
    "## [2 Punkte] Probleme der Visualisierung mit Histogrammen und `value_counts`"
   ]
  },
  {
   "cell_type": "markdown",
   "id": "619fe181",
   "metadata": {
    "deletable": false,
    "editable": false,
    "nbgrader": {
     "cell_type": "markdown",
     "checksum": "4a841c84232b4de6853261c984b9bdb3",
     "grade": false,
     "grade_id": "cell-f60493d736b4d0fc",
     "locked": true,
     "schema_version": 3,
     "solution": false,
     "task": false
    }
   },
   "source": [
    "Für die explorative Datenanalyse sind Histogramme und Plots der `value_counts` möglicherweise gut geeignet, aber zur Visualisierung nicht immer. Insbesondere können abhängig von der Datenquelle in Ihrer Darstellung Artefakte auftreten.\n",
    "\n",
    "Stellen Sie die bereinigten Messwerte der Luftfeuchtigkeit als Histogramm, sowie die `value_counts` der bereinigten Temperaturdaten als Scatterplot dar. Variieren Sie die Anzahl der `bins` des Histogramms. Welche Artefakte fallen Ihnen jeweils auf? Welche Ursachen könnte dies haben?"
   ]
  },
  {
   "cell_type": "code",
   "execution_count": null,
   "id": "7912d6b4",
   "metadata": {
    "deletable": false,
    "nbgrader": {
     "cell_type": "code",
     "checksum": "5b56a81b66f1fda4a0ee8557478ec0d5",
     "grade": true,
     "grade_id": "cell-913a18b4bcff9c90",
     "locked": false,
     "points": 2,
     "schema_version": 3,
     "solution": true,
     "task": false
    }
   },
   "outputs": [],
   "source": [
    "# Bitte geben Sie Ihren Code hier ein."
   ]
  },
  {
   "cell_type": "markdown",
   "id": "9517d378",
   "metadata": {
    "deletable": false,
    "editable": false,
    "nbgrader": {
     "cell_type": "markdown",
     "checksum": "c45c73c60208c454d6d8dbcd9edc92d0",
     "grade": false,
     "grade_id": "cell-82b091f413453c51",
     "locked": true,
     "schema_version": 3,
     "solution": false,
     "task": false
    }
   },
   "source": [
    "## [3 Punkte] Saisonalität der Temperatur und Luftfeuchtigkeit\n",
    "\n",
    "Temperatur und Luftfeuchtigkeit sind *saisonale* Größen, sie ändern sich also einigermaßen vorhersagbar im Verlauf eines Jahres (auf der Nordhalbkugel ist es normalerweise im Juni wärmer als im Januar). Diese Saisonalität sollen Sie als erstes visualisieren. Beide Größen schwanken jedoch auch im Tagesverlauf — diese Periodizität interessiert uns hier aber nicht. Überlegen Sie insbesondere, wie Sie dies berücksichtigen.\n",
    "\n",
    "Stellen Sie für die Monate Januar bis Dezember die *Verteilung* beider Größen über die Jahre hinweg in separaten Plots dar. Auf der Ordinate soll der Monat aufgetragen werden, auf der Abszisse die jeweilige Messgröße. Wählen Sie eine sinnvolle Darstellungsform, die nicht nur Mittelwert und Standardabweichung, sondern die tatsächliche Verteilung der Werte darstellt. Zum Beispiel könnten Sie einen Boxplot (`plt.boxplot`) oder einen Violinplot (`plt.violin`) nutzen.\n",
    "\n",
    "*Hinweis*: Die `pd.DataFrame.groupby`-Methode könnte sich als nützlich erweisen."
   ]
  },
  {
   "cell_type": "code",
   "execution_count": null,
   "id": "00fe0499",
   "metadata": {
    "deletable": false,
    "nbgrader": {
     "cell_type": "code",
     "checksum": "df24c0bb5a506faa43c2674785a9de6d",
     "grade": true,
     "grade_id": "cell-4444019f95ed0ee4",
     "locked": false,
     "points": 3,
     "schema_version": 3,
     "solution": true,
     "task": false
    }
   },
   "outputs": [],
   "source": [
    "# Bitte geben Sie Ihren Code hier ein."
   ]
  },
  {
   "cell_type": "markdown",
   "id": "d5427b2f",
   "metadata": {
    "deletable": false,
    "editable": false,
    "nbgrader": {
     "cell_type": "markdown",
     "checksum": "53acacb65f5063361d36d4d5b2627c8e",
     "grade": false,
     "grade_id": "cell-80ddfc1a229d9aa3",
     "locked": true,
     "schema_version": 3,
     "solution": false,
     "task": false
    }
   },
   "source": [
    "## [4 Punkte] Langfristige Veränderung der Jahrestemperatur\n",
    "\n",
    "Infolge der Erhitzung der Erde in den letzten Jahrzehnten, die in weiten Teilen der Welt bereits katastrophale Auswirkungen zeigt, hat sich auch das Klima in Gießen verändert. Stellen Sie diese Veränderung grafisch dar. Dabei ist die genaue Art der Darstellung Ihnen überlassen. Lassen Sie sich gerne z.B. von [anderen Darstellungen](https://en.wikipedia.org/wiki/Climate_change_art) inspirieren."
   ]
  },
  {
   "cell_type": "code",
   "execution_count": null,
   "id": "086a4ff6",
   "metadata": {
    "deletable": false,
    "nbgrader": {
     "cell_type": "code",
     "checksum": "0d05e8d5170dc4b1abad4f793e87477c",
     "grade": true,
     "grade_id": "cell-bf6fc9d1077a4015",
     "locked": false,
     "points": 4,
     "schema_version": 3,
     "solution": true,
     "task": false
    }
   },
   "outputs": [],
   "source": [
    "# Bitte geben Sie Ihren Code hier ein."
   ]
  },
  {
   "cell_type": "markdown",
   "id": "74ec7fd7",
   "metadata": {
    "deletable": false,
    "editable": false,
    "nbgrader": {
     "cell_type": "markdown",
     "checksum": "b157f713c7197e9f1bfff8a077f24ff0",
     "grade": false,
     "grade_id": "cell-bea16000237dbfc3",
     "locked": true,
     "schema_version": 3,
     "solution": false,
     "task": false
    }
   },
   "source": [
    " "
   ]
  }
 ],
 "metadata": {
  "kernelspec": {
   "display_name": "Python 3 (ipykernel)",
   "language": "python",
   "name": "python3"
  },
  "language_info": {
   "codemirror_mode": {
    "name": "ipython",
    "version": 3
   },
   "file_extension": ".py",
   "mimetype": "text/x-python",
   "name": "python",
   "nbconvert_exporter": "python",
   "pygments_lexer": "ipython3",
   "version": "3.10.10"
  },
  "toc": {
   "base_numbering": 1,
   "nav_menu": {},
   "number_sections": true,
   "sideBar": true,
   "skip_h1_title": false,
   "title_cell": "Table of Contents",
   "title_sidebar": "Contents",
   "toc_cell": false,
   "toc_position": {},
   "toc_section_display": true,
   "toc_window_display": false
  }
 },
 "nbformat": 4,
 "nbformat_minor": 5
}
