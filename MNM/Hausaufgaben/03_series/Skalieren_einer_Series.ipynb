{
 "cells": [
  {
   "cell_type": "markdown",
   "metadata": {
    "deletable": false,
    "editable": false,
    "nbgrader": {
     "cell_type": "markdown",
     "checksum": "8cd7b61b3b63592fcfe61295ffe3cfce",
     "grade": false,
     "grade_id": "cell-1824aa548cddb8db",
     "locked": true,
     "schema_version": 3,
     "solution": false,
     "task": false
    }
   },
   "source": [
    "## Skalieren einer Series\n",
    "\n",
    "Schreiben Sie eine Funktion `scale_series`, welche die Standardabweichung und den Mittelwert einer `pd.Series` auf gegebene Werte setzt. Die Funktion soll folgende Signatur haben:\n",
    "\n",
    "```python\n",
    "scale_series(numeric: pd.Series, new_mean: float=None, new_std: float=None) -> pd.Series\n",
    "```"
   ]
  },
  {
   "cell_type": "code",
   "execution_count": null,
   "metadata": {
    "deletable": false,
    "editable": false,
    "nbgrader": {
     "cell_type": "code",
     "checksum": "596ed089c7bee99bbf5271dfbba64a01",
     "grade": false,
     "grade_id": "cell-b1e6f11bf4387901",
     "locked": true,
     "schema_version": 3,
     "solution": false,
     "task": false
    }
   },
   "outputs": [],
   "source": [
    "import numpy as np\n",
    "import pandas as pd"
   ]
  },
  {
   "cell_type": "markdown",
   "metadata": {
    "deletable": false,
    "editable": false,
    "nbgrader": {
     "cell_type": "markdown",
     "checksum": "4197e62e7794de4a1e58bf13ca6d1135",
     "grade": false,
     "grade_id": "cell-22e0d46d9aef8261",
     "locked": true,
     "schema_version": 3,
     "solution": false,
     "task": false
    }
   },
   "source": [
    "- **\\[3 P\\]** Die Funktion gibt eine neue pandas-Series zurück, welche den gleichen Index und die gleiche Anzahl an Werten hat, aber den Mittelwert `new_mean` und die Standardabweichung `new_std`. Die Verteilung der Werte um ist ansonsten unverändert, so wie auch die eingegebene Series."
   ]
  },
  {
   "cell_type": "markdown",
   "metadata": {
    "deletable": false,
    "editable": false,
    "nbgrader": {
     "cell_type": "markdown",
     "checksum": "9123bdc5f8171a271c3f34848782affe",
     "grade": false,
     "grade_id": "cell-a3f33dc628abf9e0",
     "locked": true,
     "schema_version": 3,
     "solution": false,
     "task": false
    }
   },
   "source": [
    "- **\\[3 P\\]** Die Funktion lässt Mittelwert und Standardabweichung unverändert, falls diese nicht als Argumente übergeben wurden."
   ]
  },
  {
   "cell_type": "markdown",
   "metadata": {
    "deletable": false,
    "editable": false,
    "nbgrader": {
     "cell_type": "markdown",
     "checksum": "9208c9480f67203ab853e43be8f8ce45",
     "grade": false,
     "grade_id": "cell-8cab499395c4b224",
     "locked": true,
     "schema_version": 3,
     "solution": false,
     "task": false
    }
   },
   "source": [
    "- **\\[3 P\\]** Insbesondere kann die Funktion Series mit weniger als zwei Einträgen verarbeiten. Überlegen Sie, ob und wie in diesen Fällen Mittelwert und Standardabweichung angepasst werden können."
   ]
  },
  {
   "cell_type": "code",
   "execution_count": null,
   "metadata": {
    "deletable": false,
    "nbgrader": {
     "cell_type": "code",
     "checksum": "87ddd3a55a197da97f3d74d831178469",
     "grade": true,
     "grade_id": "cell-88a224874b352aed",
     "locked": false,
     "points": 9,
     "schema_version": 3,
     "solution": true,
     "task": false
    },
    "pycharm": {
     "name": "#%%\n"
    },
    "tags": []
   },
   "outputs": [],
   "source": [
    "# Bitte geben Sie Ihren Code hier ein."
   ]
  },
  {
   "cell_type": "code",
   "execution_count": null,
   "metadata": {
    "deletable": false,
    "editable": false,
    "nbgrader": {
     "cell_type": "code",
     "checksum": "9138750599c96491bfc60e3aaec81294",
     "grade": false,
     "grade_id": "cell-338ff80933042007",
     "locked": true,
     "schema_version": 3,
     "solution": false,
     "task": false
    },
    "tags": []
   },
   "outputs": [],
   "source": [
    "# Usage example 1:\n",
    "s=pd.Series(np.random.rand(100))\n",
    "print(f\"before (count,mean,std): {s.count(),s.mean(),s.std()}\")\n",
    "s_scaled=scale_series(s,10.0,5.0)\n",
    "print(f\"after  (count,mean,std): {s_scaled.count(),s_scaled.mean(),s_scaled.std()}\")\n",
    "print(f\"result should be (100, 10.0, 5.0)\")"
   ]
  },
  {
   "cell_type": "code",
   "execution_count": null,
   "metadata": {
    "deletable": false,
    "editable": false,
    "nbgrader": {
     "cell_type": "code",
     "checksum": "f0dce2c004dbe364f97f01cf41b1c83c",
     "grade": false,
     "grade_id": "cell-80660e0dd937c4dc",
     "locked": true,
     "schema_version": 3,
     "solution": false,
     "task": false
    },
    "tags": []
   },
   "outputs": [],
   "source": [
    "# Usage example 2:\n",
    "s=pd.Series(np.random.rand(100))\n",
    "print(f\"before (count,mean,std): {s.count(),s.mean(),s.std()}\")\n",
    "s_scaled=scale_series(s)\n",
    "print(f\"after  (count,mean,std): {s_scaled.count(),s_scaled.mean(),s_scaled.std()}\")\n",
    "print(f\"result should be the same as before\")"
   ]
  },
  {
   "cell_type": "code",
   "execution_count": null,
   "metadata": {
    "deletable": false,
    "editable": false,
    "nbgrader": {
     "cell_type": "code",
     "checksum": "ef59c8b6a21adcdee6dbb79865cbd7d9",
     "grade": false,
     "grade_id": "cell-82ac27da93b28135",
     "locked": true,
     "schema_version": 3,
     "solution": false,
     "task": false
    },
    "tags": []
   },
   "outputs": [],
   "source": [
    "# Usage example 3:\n",
    "s=pd.Series(np.random.rand(100))\n",
    "print(f\"before (count,mean,std): {s.count(),s.mean(),s.std()}\")\n",
    "s_scaled=scale_series(s,new_mean=10.0)\n",
    "print(f\"after  (count,mean,std): {s_scaled.count(),s_scaled.mean(),s_scaled.std()}\")\n",
    "print(f\"result should be the same as before, except new_mean=10.0\")"
   ]
  },
  {
   "cell_type": "code",
   "execution_count": null,
   "metadata": {
    "deletable": false,
    "editable": false,
    "nbgrader": {
     "cell_type": "code",
     "checksum": "b72f8975b722ba1dea23595d94b49983",
     "grade": false,
     "grade_id": "cell-7b94c78bfee1f5b1",
     "locked": true,
     "schema_version": 3,
     "solution": false,
     "task": false
    },
    "tags": []
   },
   "outputs": [],
   "source": [
    "# Usage example 4:\n",
    "s=pd.Series(np.random.rand(100))\n",
    "print(f\"before (count,mean,std): {s.count(),s.mean(),s.std()}\")\n",
    "s_scaled=scale_series(s,new_std=5.0)\n",
    "print(f\"after  (count,mean,std): {s_scaled.count(),s_scaled.mean(),s_scaled.std()}\")\n",
    "print(f\"result should be the same as before, except new_std=5.0\")"
   ]
  }
 ],
 "metadata": {
  "kernelspec": {
   "display_name": "Python 3 (ipykernel)",
   "language": "python",
   "name": "python3"
  },
  "language_info": {
   "codemirror_mode": {
    "name": "ipython",
    "version": 3
   },
   "file_extension": ".py",
   "mimetype": "text/x-python",
   "name": "python",
   "nbconvert_exporter": "python",
   "pygments_lexer": "ipython3",
   "version": "3.10.10"
  },
  "toc": {
   "base_numbering": 1,
   "nav_menu": {},
   "number_sections": true,
   "sideBar": true,
   "skip_h1_title": false,
   "title_cell": "Table of Contents",
   "title_sidebar": "Contents",
   "toc_cell": false,
   "toc_position": {},
   "toc_section_display": true,
   "toc_window_display": false
  }
 },
 "nbformat": 4,
 "nbformat_minor": 4
}
