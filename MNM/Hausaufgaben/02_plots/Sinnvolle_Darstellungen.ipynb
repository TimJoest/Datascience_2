{
 "cells": [
  {
   "cell_type": "markdown",
   "id": "killing-people",
   "metadata": {
    "deletable": false,
    "editable": false,
    "nbgrader": {
     "cell_type": "markdown",
     "checksum": "a64b8352c1beeac63fb052e412b467e6",
     "grade": false,
     "grade_id": "cell-94e2df07da151abc",
     "locked": true,
     "schema_version": 3,
     "solution": false,
     "task": false
    }
   },
   "source": [
    "## Sinnvolle Darstellung von Series\n",
    "\n",
    "Gegeben sind drei `pandas.Series` mit unterschiedlichen Inhalten. Stellen Sie diese Daten jeweils in einfachen Plots *sinnvoll* dar:\n",
    "* geben Sie dem Plot einen aussagekräftigen Titel\n",
    "* beschriften Sie ggf. die Achsen\n",
    "* skalieren Sie ggf. die Achsen, um alle Werte oder ihren funktionalen Zusammenhang darstellen zu können\n",
    "* erzeugen Sie ggf. eine Legende"
   ]
  },
  {
   "cell_type": "code",
   "execution_count": null,
   "id": "threatened-professor",
   "metadata": {
    "deletable": false,
    "editable": false,
    "nbgrader": {
     "cell_type": "code",
     "checksum": "6bd0e15b7a8fdd21294501b216455612",
     "grade": false,
     "grade_id": "cell-968ebc21dbfc43ac",
     "locked": true,
     "schema_version": 3,
     "solution": false,
     "task": false
    },
    "tags": []
   },
   "outputs": [],
   "source": [
    "%matplotlib inline\n",
    "import numpy as np\n",
    "import pandas as pd\n",
    "from matplotlib import pyplot as plt"
   ]
  },
  {
   "cell_type": "markdown",
   "id": "0c25df51",
   "metadata": {},
   "source": [
    "### Aktinide\n",
    "`actinides` enthält die Halbwertszeiten einer bestimmten Gruppe von chemischen Elementen (\"Aktinide\"), die allesamt radioaktiv sind. Angegeben ist jeweils die Halbwertszeit des langlebigsten Isotops, in Jahren."
   ]
  },
  {
   "cell_type": "code",
   "execution_count": null,
   "id": "cbf09b07",
   "metadata": {
    "deletable": false,
    "editable": false,
    "nbgrader": {
     "cell_type": "code",
     "checksum": "c0e3dcb79b5f7125292d93631c24ca6d",
     "grade": false,
     "grade_id": "cell-7951eda917f6ddf3",
     "locked": true,
     "schema_version": 3,
     "solution": false,
     "task": false
    },
    "tags": []
   },
   "outputs": [],
   "source": [
    "actinides = pd.read_csv('data/actinides.csv', index_col=0).squeeze()\n",
    "actinides"
   ]
  },
  {
   "cell_type": "code",
   "execution_count": null,
   "id": "07dcb811",
   "metadata": {
    "deletable": false,
    "nbgrader": {
     "cell_type": "code",
     "checksum": "5cb51820f429a42262ad221d892331b0",
     "grade": true,
     "grade_id": "cell-e7c43b87388195bb",
     "locked": false,
     "points": 5,
     "schema_version": 3,
     "solution": true,
     "task": false
    },
    "tags": []
   },
   "outputs": [],
   "source": [
    "# Bitte geben Sie Ihren Code hier ein."
   ]
  },
  {
   "cell_type": "markdown",
   "id": "137786f3",
   "metadata": {
    "deletable": false,
    "editable": false,
    "nbgrader": {
     "cell_type": "markdown",
     "checksum": "7cf7b93ced02b58ab960107772fca000",
     "grade": false,
     "grade_id": "cell-13af2c660b8b96fb",
     "locked": true,
     "schema_version": 3,
     "solution": false,
     "task": false
    }
   },
   "source": [
    "### Aktienpreis\n",
    "`stock_price` enthält den mit geometrischer brownscher Bewegung simulierten Preis einer Aktie seit 2019, in €."
   ]
  },
  {
   "cell_type": "code",
   "execution_count": null,
   "id": "7ee2c0bc",
   "metadata": {
    "deletable": false,
    "editable": false,
    "nbgrader": {
     "cell_type": "code",
     "checksum": "39e4754d487fae306d161fd9728a6fc0",
     "grade": false,
     "grade_id": "cell-b2f0c2d6d7a7450a",
     "locked": true,
     "schema_version": 3,
     "solution": false,
     "task": false
    },
    "tags": []
   },
   "outputs": [],
   "source": [
    "stock_price = pd.read_csv(\n",
    "    'data/stock_price.csv', index_col=0, parse_dates=True\n",
    ").squeeze()\n",
    "stock_price"
   ]
  },
  {
   "cell_type": "code",
   "execution_count": null,
   "id": "cba72ac9",
   "metadata": {
    "deletable": false,
    "nbgrader": {
     "cell_type": "code",
     "checksum": "115620da4c695c8bacfce41bdaf4dcb8",
     "grade": true,
     "grade_id": "cell-a3faa54e879b14fd",
     "locked": false,
     "points": 2,
     "schema_version": 3,
     "solution": true,
     "task": false
    },
    "tags": []
   },
   "outputs": [],
   "source": [
    "# Bitte geben Sie Ihren Code hier ein."
   ]
  },
  {
   "cell_type": "markdown",
   "id": "6b36be00",
   "metadata": {
    "deletable": false,
    "editable": false,
    "nbgrader": {
     "cell_type": "markdown",
     "checksum": "e23131182590b38997a7dd5333d096e9",
     "grade": false,
     "grade_id": "cell-dbb5e8d59b6413f1",
     "locked": true,
     "schema_version": 3,
     "solution": false,
     "task": false
    }
   },
   "source": [
    "### Bundestagswahl 2021\n",
    "`waehlerstimmen` enthält die absolute Zahl der auf verschiedene Parteien entfallenen Zweitstimmen bei der Bundestagswahl 2021."
   ]
  },
  {
   "cell_type": "code",
   "execution_count": null,
   "id": "331a8973",
   "metadata": {
    "deletable": false,
    "editable": false,
    "nbgrader": {
     "cell_type": "code",
     "checksum": "e90809493a30b19e2b3ca91b5e131cc8",
     "grade": false,
     "grade_id": "cell-f031d51bfb5509c3",
     "locked": true,
     "schema_version": 3,
     "solution": false,
     "task": false
    },
    "tags": []
   },
   "outputs": [],
   "source": [
    "waehlerstimmen = pd.read_csv('data/waehlerstimmen.csv', index_col=0).squeeze()\n",
    "waehlerstimmen"
   ]
  },
  {
   "cell_type": "code",
   "execution_count": null,
   "id": "b1e9e44d",
   "metadata": {
    "deletable": false,
    "nbgrader": {
     "cell_type": "code",
     "checksum": "ca59c3868710200851f64838dafca099",
     "grade": true,
     "grade_id": "cell-b85ce3899102a80c",
     "locked": false,
     "points": 3,
     "schema_version": 3,
     "solution": true,
     "task": false
    },
    "tags": []
   },
   "outputs": [],
   "source": [
    "# Bitte geben Sie Ihren Code hier ein."
   ]
  }
 ],
 "metadata": {
  "kernelspec": {
   "display_name": "Python 3 (ipykernel)",
   "language": "python",
   "name": "python3"
  },
  "language_info": {
   "codemirror_mode": {
    "name": "ipython",
    "version": 3
   },
   "file_extension": ".py",
   "mimetype": "text/x-python",
   "name": "python",
   "nbconvert_exporter": "python",
   "pygments_lexer": "ipython3",
   "version": "3.10.10"
  }
 },
 "nbformat": 4,
 "nbformat_minor": 5
}
