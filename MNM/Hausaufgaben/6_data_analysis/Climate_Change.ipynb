{
 "cells": [
  {
   "cell_type": "code",
   "execution_count": 77,
   "id": "a0772190-c2d9-4667-bf93-5a48804f0e6d",
   "metadata": {
    "deletable": false,
    "editable": false,
    "nbgrader": {
     "cell_type": "code",
     "checksum": "83c46e981ea065da52e26cb4a2355070",
     "grade": false,
     "grade_id": "cell-72fb182750dfaf09",
     "locked": true,
     "schema_version": 3,
     "solution": false,
     "task": false
    },
    "tags": []
   },
   "outputs": [],
   "source": [
    "import numpy as np\n",
    "import pandas as pd\n",
    "import scipy\n",
    "\n",
    "import matplotlib as mpl\n",
    "import matplotlib.pyplot as plt\n",
    "\n",
    "import io\n",
    "import requests\n",
    "from zipfile import ZipFile\n",
    "from pathlib import Path\n",
    "import calendar"
   ]
  },
  {
   "attachments": {},
   "cell_type": "markdown",
   "id": "0d0cdc87",
   "metadata": {
    "deletable": false,
    "editable": false,
    "nbgrader": {
     "cell_type": "markdown",
     "checksum": "e41aed41415a571a94d5d4712146b374",
     "grade": false,
     "grade_id": "cell-59293ef4567b20b7",
     "locked": true,
     "schema_version": 3,
     "solution": false,
     "task": false
    },
    "tags": []
   },
   "source": [
    "# Local Effects of Climate Change"
   ]
  },
  {
   "attachments": {},
   "cell_type": "markdown",
   "id": "3735deac-e147-4131-af03-6a36388cba1e",
   "metadata": {
    "deletable": false,
    "editable": false,
    "nbgrader": {
     "cell_type": "markdown",
     "checksum": "f55f77e0c41694dc1bc5beefed14294e",
     "grade": false,
     "grade_id": "cell-48cdf341e7002226",
     "locked": true,
     "schema_version": 3,
     "solution": false,
     "task": false
    },
    "tags": []
   },
   "source": [
    "## Question"
   ]
  },
  {
   "attachments": {},
   "cell_type": "markdown",
   "id": "767b8093-d149-4a18-b5a4-3be9a9c863cf",
   "metadata": {
    "deletable": false,
    "editable": false,
    "nbgrader": {
     "cell_type": "markdown",
     "checksum": "05a7c1b9968799890a09c7df9e37f15a",
     "grade": false,
     "grade_id": "cell-790d7aa559a61d4f",
     "locked": true,
     "schema_version": 3,
     "solution": false,
     "task": false
    },
    "tags": []
   },
   "source": [
    "> How did the local climate in Gießen change over the past 70 years?"
   ]
  },
  {
   "attachments": {},
   "cell_type": "markdown",
   "id": "3d54455d-da79-4ca3-991e-9fe948923960",
   "metadata": {
    "deletable": false,
    "editable": false,
    "nbgrader": {
     "cell_type": "markdown",
     "checksum": "2460b11231035c87825c298cb931e09a",
     "grade": false,
     "grade_id": "cell-9f56b0405c3c0d38",
     "locked": true,
     "schema_version": 3,
     "solution": false,
     "task": false
    },
    "tags": []
   },
   "source": [
    "## Data sources"
   ]
  },
  {
   "attachments": {},
   "cell_type": "markdown",
   "id": "9699ce5b-d57c-4232-857e-b32ead099d52",
   "metadata": {
    "deletable": false,
    "editable": false,
    "nbgrader": {
     "cell_type": "markdown",
     "checksum": "5d1c40d75434cfc6c44447ec6710c2b1",
     "grade": false,
     "grade_id": "cell-3849f65f4ab8dca5",
     "locked": true,
     "schema_version": 3,
     "solution": false,
     "task": false
    },
    "tags": []
   },
   "source": [
    "We need data for temperature, (relative) humidity, and precipitation collected near Gießen. Such data has been collected by Deutscher Wetterdienst (DWD) and is publically available via their open-data portal at https://opendata.dwd.de."
   ]
  },
  {
   "attachments": {},
   "cell_type": "markdown",
   "id": "90270da3-3c72-480b-aab1-89bef6ae1bce",
   "metadata": {
    "deletable": false,
    "editable": false,
    "nbgrader": {
     "cell_type": "markdown",
     "checksum": "cc02ab749fbbbe6c894df06d48579aef",
     "grade": false,
     "grade_id": "cell-f333616336182d92",
     "locked": true,
     "schema_version": 3,
     "solution": false,
     "task": false
    },
    "tags": []
   },
   "source": [
    "### Downloading the data"
   ]
  },
  {
   "attachments": {},
   "cell_type": "markdown",
   "id": "dd66ca39-c4ca-48f6-bc8b-bf32048194b6",
   "metadata": {
    "deletable": false,
    "editable": false,
    "nbgrader": {
     "cell_type": "markdown",
     "checksum": "89efadd7ea3dcd994365679915bc5bdd",
     "grade": false,
     "grade_id": "cell-f333616336182d91",
     "locked": true,
     "schema_version": 3,
     "solution": false,
     "task": false
    },
    "tags": []
   },
   "source": [
    "The function below will download are tarball containing the measurements as well as some metadata from a given URL. The tarball is extracted and placed in a specified directory."
   ]
  },
  {
   "cell_type": "code",
   "execution_count": 78,
   "id": "7a899204-e1bb-40bc-9bc9-14f001695416",
   "metadata": {
    "deletable": false,
    "editable": false,
    "nbgrader": {
     "cell_type": "code",
     "checksum": "82833d829b613081f2718a7778edb7e9",
     "grade": false,
     "grade_id": "cell-e44adb8e3e494c2e",
     "locked": true,
     "schema_version": 3,
     "solution": false,
     "task": false
    },
    "tags": []
   },
   "outputs": [],
   "source": [
    "def download_and_extract(\n",
    "    url: str,\n",
    "    output_path: Path = Path('tmp/dwd')\n",
    ") -> None:\n",
    "    \"\"\"download DWD climate data from url and extract.\"\"\"\n",
    "    output_path.mkdir(exist_ok=True, parents=True)\n",
    "\n",
    "    (ZipFile(io.BytesIO(requests.get(url).content))\n",
    "     .extractall(path=output_path)\n",
    "    )"
   ]
  },
  {
   "cell_type": "code",
   "execution_count": 79,
   "id": "60f83aa0-070a-4bab-8a54-0e619f5d952a",
   "metadata": {
    "deletable": false,
    "editable": false,
    "nbgrader": {
     "cell_type": "code",
     "checksum": "f046e1d54e8cf1b48071b2e5c76471b1",
     "grade": false,
     "grade_id": "cell-4644193098d62b8f",
     "locked": true,
     "schema_version": 3,
     "solution": false,
     "task": false
    },
    "tags": []
   },
   "outputs": [],
   "source": [
    "TMP_DIRECTORY = Path(\"_dwd\")\n",
    "DWD_data = 'https://opendata.dwd.de/climate_environment/CDC/observations_germany/climate/hourly/'\n",
    "temperature_humidity = 'air_temperature/historical/stundenwerte_TU_01639_19500101_20221231_hist.zip'\n",
    "precipitation = 'precipitation/historical/stundenwerte_RR_01639_19970320_20221231_hist.zip'\n",
    "\n",
    "download_and_extract(url=DWD_data + temperature_humidity, output_path=TMP_DIRECTORY / \"temperature_and_humidity\")\n",
    "download_and_extract(url=DWD_data + precipitation, output_path=TMP_DIRECTORY / \"precipitation\")"
   ]
  },
  {
   "attachments": {},
   "cell_type": "markdown",
   "id": "5155ef00-1497-4924-8681-c1b2ad8e90b9",
   "metadata": {
    "deletable": false,
    "editable": false,
    "nbgrader": {
     "cell_type": "markdown",
     "checksum": "c8ad29d955ccc29b18fbcb9c44f5952d",
     "grade": false,
     "grade_id": "cell-09df117837e5c1e8",
     "locked": true,
     "schema_version": 3,
     "solution": false,
     "task": false
    },
    "tags": []
   },
   "source": [
    "## Metadata"
   ]
  },
  {
   "attachments": {},
   "cell_type": "markdown",
   "id": "ba2b619f-9efb-4b25-80f7-4a929a787845",
   "metadata": {
    "deletable": false,
    "editable": false,
    "nbgrader": {
     "cell_type": "markdown",
     "checksum": "7df1631668f875bf8efde94ab852f0c3",
     "grade": false,
     "grade_id": "cell-f6e7dd3e61572f6d",
     "locked": true,
     "schema_version": 3,
     "solution": false,
     "task": false
    },
    "tags": []
   },
   "source": [
    "The downloaded datasets include specific *metadata files*. These contain the units, encodings, and meaning of the columns."
   ]
  },
  {
   "attachments": {},
   "cell_type": "markdown",
   "id": "d1588b3d-19a2-4d21-afcd-33903b4a9e4f",
   "metadata": {
    "deletable": false,
    "editable": false,
    "nbgrader": {
     "cell_type": "markdown",
     "checksum": "c36d082e0433d534d188084df3f329e5",
     "grade": false,
     "grade_id": "cell-a031719d82d356b3",
     "locked": true,
     "schema_version": 3,
     "solution": false,
     "task": false
    },
    "tags": []
   },
   "source": [
    "`(A)` For dates and measurement values, find out in which format they are available, and consider how you might convert them to usable and correct values for analysis with `pandas`."
   ]
  },
  {
   "attachments": {},
   "cell_type": "markdown",
   "id": "60f65869-00ae-44c4-9db7-b4b41c732223",
   "metadata": {
    "deletable": false,
    "editable": false,
    "nbgrader": {
     "cell_type": "markdown",
     "checksum": "925c38355a108271c6291c2f5f3b2d07",
     "grade": false,
     "grade_id": "cell-09f8ef1fa8f50fc7",
     "locked": true,
     "schema_version": 3,
     "solution": false,
     "task": false
    },
    "tags": []
   },
   "source": [
    "* Dates are encoded in the format (year)(month)(day)(time in 24 hour format).\n",
    "    * by default, pandas will import these as `int64` type.\n",
    "    * the time encoding changed in 1996!\n",
    "        * 1996-10-01 and later: UTC time\n",
    "        * Before 1996-10-01: MEZ time (UTC + 1h)\n",
    "    * have to convert to suitable date format\n",
    "        * need to conform to the different time zone encodings\n",
    "* measurements are given with *physical units*\n",
    "    * Temperature:  ${}^{\\circ}\\textrm{C}$\n",
    "    * Relative humidity: %\n",
    "    * precipitation: mm"
   ]
  },
  {
   "attachments": {},
   "cell_type": "markdown",
   "id": "75e05f24-ab7a-4412-8638-6bb343a0fa60",
   "metadata": {
    "deletable": false,
    "editable": false,
    "nbgrader": {
     "cell_type": "markdown",
     "checksum": "9d4336a4e9cc99a0d2b5cf262c2c23dd",
     "grade": false,
     "grade_id": "cell-b07593ab06b9b320",
     "locked": true,
     "schema_version": 3,
     "solution": false,
     "task": false
    },
    "tags": []
   },
   "source": [
    "## Data Import and Cleaning"
   ]
  },
  {
   "attachments": {},
   "cell_type": "markdown",
   "id": "d9a03106-9b5f-450b-998e-7bbf34584477",
   "metadata": {
    "deletable": false,
    "editable": false,
    "nbgrader": {
     "cell_type": "markdown",
     "checksum": "82580cdcc762dd13e99f66477c0d473e",
     "grade": false,
     "grade_id": "cell-ddd40ad2f7166ff4",
     "locked": true,
     "schema_version": 3,
     "solution": false,
     "task": false
    },
    "tags": []
   },
   "source": [
    "### `(R)` [2 Punkte] Importing"
   ]
  },
  {
   "attachments": {},
   "cell_type": "markdown",
   "id": "17099007-2ce7-4793-b535-72e7f7217756",
   "metadata": {
    "deletable": false,
    "editable": false,
    "nbgrader": {
     "cell_type": "markdown",
     "checksum": "36968b55403d8b560a5630d96774c292",
     "grade": false,
     "grade_id": "cell-ddd40ad2f7166ff9",
     "locked": true,
     "schema_version": 3,
     "solution": false,
     "task": false
    },
    "tags": []
   },
   "source": [
    "Import the temperature and humidity data into a DataFrame `df_th`, and the precipitation data into a DataFrame `df_p`. Consider which columns you want to keep."
   ]
  },
  {
   "cell_type": "code",
   "execution_count": 80,
   "id": "af2a708e-bd32-4daa-ad34-43a79d7a088a",
   "metadata": {
    "deletable": false,
    "nbgrader": {
     "cell_type": "code",
     "checksum": "238fe3dc3f08617f57673b4ce43f6423",
     "grade": true,
     "grade_id": "cell-83d5c575feb8426c",
     "locked": false,
     "points": 1,
     "schema_version": 3,
     "solution": true,
     "task": false
    },
    "tags": []
   },
   "outputs": [
    {
     "data": {
      "text/html": [
       "<div>\n",
       "<style scoped>\n",
       "    .dataframe tbody tr th:only-of-type {\n",
       "        vertical-align: middle;\n",
       "    }\n",
       "\n",
       "    .dataframe tbody tr th {\n",
       "        vertical-align: top;\n",
       "    }\n",
       "\n",
       "    .dataframe thead th {\n",
       "        text-align: right;\n",
       "    }\n",
       "</style>\n",
       "<table border=\"1\" class=\"dataframe\">\n",
       "  <thead>\n",
       "    <tr style=\"text-align: right;\">\n",
       "      <th></th>\n",
       "      <th>MESS_DATUM</th>\n",
       "      <th>TT_TU</th>\n",
       "      <th>RF_TU</th>\n",
       "    </tr>\n",
       "  </thead>\n",
       "  <tbody>\n",
       "    <tr>\n",
       "      <th>0</th>\n",
       "      <td>1950010101</td>\n",
       "      <td>-3.6</td>\n",
       "      <td>74.0</td>\n",
       "    </tr>\n",
       "    <tr>\n",
       "      <th>1</th>\n",
       "      <td>1950010102</td>\n",
       "      <td>-3.5</td>\n",
       "      <td>74.0</td>\n",
       "    </tr>\n",
       "    <tr>\n",
       "      <th>2</th>\n",
       "      <td>1950010103</td>\n",
       "      <td>-3.5</td>\n",
       "      <td>73.0</td>\n",
       "    </tr>\n",
       "    <tr>\n",
       "      <th>3</th>\n",
       "      <td>1950010104</td>\n",
       "      <td>-4.2</td>\n",
       "      <td>74.0</td>\n",
       "    </tr>\n",
       "    <tr>\n",
       "      <th>4</th>\n",
       "      <td>1950010105</td>\n",
       "      <td>-4.3</td>\n",
       "      <td>74.0</td>\n",
       "    </tr>\n",
       "    <tr>\n",
       "      <th>...</th>\n",
       "      <td>...</td>\n",
       "      <td>...</td>\n",
       "      <td>...</td>\n",
       "    </tr>\n",
       "    <tr>\n",
       "      <th>639896</th>\n",
       "      <td>2022123119</td>\n",
       "      <td>13.7</td>\n",
       "      <td>71.0</td>\n",
       "    </tr>\n",
       "    <tr>\n",
       "      <th>639897</th>\n",
       "      <td>2022123120</td>\n",
       "      <td>14.0</td>\n",
       "      <td>67.0</td>\n",
       "    </tr>\n",
       "    <tr>\n",
       "      <th>639898</th>\n",
       "      <td>2022123121</td>\n",
       "      <td>14.6</td>\n",
       "      <td>62.0</td>\n",
       "    </tr>\n",
       "    <tr>\n",
       "      <th>639899</th>\n",
       "      <td>2022123122</td>\n",
       "      <td>13.9</td>\n",
       "      <td>65.0</td>\n",
       "    </tr>\n",
       "    <tr>\n",
       "      <th>639900</th>\n",
       "      <td>2022123123</td>\n",
       "      <td>13.6</td>\n",
       "      <td>64.0</td>\n",
       "    </tr>\n",
       "  </tbody>\n",
       "</table>\n",
       "<p>639901 rows × 3 columns</p>\n",
       "</div>"
      ],
      "text/plain": [
       "        MESS_DATUM  TT_TU  RF_TU\n",
       "0       1950010101   -3.6   74.0\n",
       "1       1950010102   -3.5   74.0\n",
       "2       1950010103   -3.5   73.0\n",
       "3       1950010104   -4.2   74.0\n",
       "4       1950010105   -4.3   74.0\n",
       "...            ...    ...    ...\n",
       "639896  2022123119   13.7   71.0\n",
       "639897  2022123120   14.0   67.0\n",
       "639898  2022123121   14.6   62.0\n",
       "639899  2022123122   13.9   65.0\n",
       "639900  2022123123   13.6   64.0\n",
       "\n",
       "[639901 rows x 3 columns]"
      ]
     },
     "execution_count": 80,
     "metadata": {},
     "output_type": "execute_result"
    }
   ],
   "source": [
    "df_th = pd.read_csv(TMP_DIRECTORY / \"temperature_and_humidity\" / \"produkt_tu_stunde_19500101_20221231_01639.txt\", sep=\";\", na_values=-999, encoding=\"latin1\", usecols=[\"MESS_DATUM\", \"TT_TU\", \"RF_TU\"])\n",
    "df_th"
   ]
  },
  {
   "cell_type": "code",
   "execution_count": 81,
   "id": "ffdd105b-0aaf-4e76-8ca9-92a0ed8cf5da",
   "metadata": {
    "deletable": false,
    "nbgrader": {
     "cell_type": "code",
     "checksum": "b63e98d90fd4875a9f41dba2dd46c2e6",
     "grade": true,
     "grade_id": "cell-83d5c575feb8426d",
     "locked": false,
     "points": 1,
     "schema_version": 3,
     "solution": true,
     "task": false
    },
    "tags": []
   },
   "outputs": [
    {
     "data": {
      "text/html": [
       "<div>\n",
       "<style scoped>\n",
       "    .dataframe tbody tr th:only-of-type {\n",
       "        vertical-align: middle;\n",
       "    }\n",
       "\n",
       "    .dataframe tbody tr th {\n",
       "        vertical-align: top;\n",
       "    }\n",
       "\n",
       "    .dataframe thead th {\n",
       "        text-align: right;\n",
       "    }\n",
       "</style>\n",
       "<table border=\"1\" class=\"dataframe\">\n",
       "  <thead>\n",
       "    <tr style=\"text-align: right;\">\n",
       "      <th></th>\n",
       "      <th>MESS_DATUM</th>\n",
       "      <th>R1</th>\n",
       "      <th>RS_IND</th>\n",
       "      <th>WRTR</th>\n",
       "    </tr>\n",
       "  </thead>\n",
       "  <tbody>\n",
       "    <tr>\n",
       "      <th>0</th>\n",
       "      <td>1997032011</td>\n",
       "      <td>0.0</td>\n",
       "      <td>1.0</td>\n",
       "      <td>NaN</td>\n",
       "    </tr>\n",
       "    <tr>\n",
       "      <th>1</th>\n",
       "      <td>1997032012</td>\n",
       "      <td>0.0</td>\n",
       "      <td>1.0</td>\n",
       "      <td>NaN</td>\n",
       "    </tr>\n",
       "    <tr>\n",
       "      <th>2</th>\n",
       "      <td>1997032013</td>\n",
       "      <td>0.0</td>\n",
       "      <td>1.0</td>\n",
       "      <td>NaN</td>\n",
       "    </tr>\n",
       "    <tr>\n",
       "      <th>3</th>\n",
       "      <td>1997032014</td>\n",
       "      <td>0.0</td>\n",
       "      <td>0.0</td>\n",
       "      <td>NaN</td>\n",
       "    </tr>\n",
       "    <tr>\n",
       "      <th>4</th>\n",
       "      <td>1997032015</td>\n",
       "      <td>0.0</td>\n",
       "      <td>0.0</td>\n",
       "      <td>NaN</td>\n",
       "    </tr>\n",
       "    <tr>\n",
       "      <th>...</th>\n",
       "      <td>...</td>\n",
       "      <td>...</td>\n",
       "      <td>...</td>\n",
       "      <td>...</td>\n",
       "    </tr>\n",
       "    <tr>\n",
       "      <th>224913</th>\n",
       "      <td>2022123119</td>\n",
       "      <td>0.0</td>\n",
       "      <td>0.0</td>\n",
       "      <td>0.0</td>\n",
       "    </tr>\n",
       "    <tr>\n",
       "      <th>224914</th>\n",
       "      <td>2022123120</td>\n",
       "      <td>0.0</td>\n",
       "      <td>0.0</td>\n",
       "      <td>0.0</td>\n",
       "    </tr>\n",
       "    <tr>\n",
       "      <th>224915</th>\n",
       "      <td>2022123121</td>\n",
       "      <td>0.0</td>\n",
       "      <td>0.0</td>\n",
       "      <td>0.0</td>\n",
       "    </tr>\n",
       "    <tr>\n",
       "      <th>224916</th>\n",
       "      <td>2022123122</td>\n",
       "      <td>0.0</td>\n",
       "      <td>0.0</td>\n",
       "      <td>0.0</td>\n",
       "    </tr>\n",
       "    <tr>\n",
       "      <th>224917</th>\n",
       "      <td>2022123123</td>\n",
       "      <td>0.0</td>\n",
       "      <td>0.0</td>\n",
       "      <td>0.0</td>\n",
       "    </tr>\n",
       "  </tbody>\n",
       "</table>\n",
       "<p>224918 rows × 4 columns</p>\n",
       "</div>"
      ],
      "text/plain": [
       "        MESS_DATUM    R1  RS_IND  WRTR\n",
       "0       1997032011   0.0     1.0   NaN\n",
       "1       1997032012   0.0     1.0   NaN\n",
       "2       1997032013   0.0     1.0   NaN\n",
       "3       1997032014   0.0     0.0   NaN\n",
       "4       1997032015   0.0     0.0   NaN\n",
       "...            ...   ...     ...   ...\n",
       "224913  2022123119   0.0     0.0   0.0\n",
       "224914  2022123120   0.0     0.0   0.0\n",
       "224915  2022123121   0.0     0.0   0.0\n",
       "224916  2022123122   0.0     0.0   0.0\n",
       "224917  2022123123   0.0     0.0   0.0\n",
       "\n",
       "[224918 rows x 4 columns]"
      ]
     },
     "execution_count": 81,
     "metadata": {},
     "output_type": "execute_result"
    }
   ],
   "source": [
    "df_p = pd.read_csv(TMP_DIRECTORY / \"precipitation\" / \"produkt_rr_stunde_19970320_20221231_01639.txt\", sep=\";\", na_values=-999, encoding=\"latin1\", usecols=[\"MESS_DATUM\", \"  R1\", \"RS_IND\", \"WRTR\"])\n",
    "df_p "
   ]
  },
  {
   "attachments": {},
   "cell_type": "markdown",
   "id": "5a0390a4-ce9c-411c-966d-8d4fad49a6f8",
   "metadata": {
    "deletable": false,
    "editable": false,
    "nbgrader": {
     "cell_type": "markdown",
     "checksum": "93672107183af347eada18e7b6173a60",
     "grade": false,
     "grade_id": "cell-887b57504c77c6ed",
     "locked": true,
     "schema_version": 3,
     "solution": false,
     "task": false
    },
    "tags": []
   },
   "source": [
    "### `(A)` [3 Punkte] Tweaking"
   ]
  },
  {
   "attachments": {},
   "cell_type": "markdown",
   "id": "eef57a40",
   "metadata": {
    "deletable": false,
    "editable": false,
    "nbgrader": {
     "cell_type": "markdown",
     "checksum": "6e72b7cee984b90defe29f20355c76dc",
     "grade": false,
     "grade_id": "cell-108952526bc248c0",
     "locked": true,
     "schema_version": 3,
     "solution": false,
     "task": false
    },
    "tags": []
   },
   "source": [
    "Modify the dataframes in the following manner:\n",
    "\n",
    "* Rename the column labels in a reasonable manner.\n",
    "* Convert the datetimes at which the measurements were conducted to a proper Pandas `datetime` format (make them refer to UTC) and make this column the index of the DataFrame.\n",
    "* Remove all lines with missing values (due to, e.g., failed measurements)\n",
    "* Apply type conversions where appropriate.\n",
    "\n",
    "\n",
    "#### Notes\n",
    "* Be careful when removing \"missing values\" (as they are called in [the documentation of the dataset](https://opendata.dwd.de/climate_environment/CDC/observations_germany/climate/hourly/precipitation/historical/DESCRIPTION_obsgermany_climate_hourly_precipitation_historical_en.pdf)). There might by many \"missing values\" in some colums but you will still want to keep the line in the DataFrame in order to notlose too many measurements. Counting the number of missing values in each column might help get an overview.\n",
    "* we suggest placing all required code in a dedicated tweaking function, e.g.\n",
    "\n",
    "```python\n",
    "def tweak_temperature_and_humidity(df: pd.DataFrame) -> pd.DataFrame:\n",
    "    # your code goes here\n",
    "\n",
    "df_th = tweak_temperature_and_humidity(df_th)\n",
    "```"
   ]
  },
  {
   "cell_type": "code",
   "execution_count": 82,
   "id": "e527d666-d02f-46b7-87c8-42facfefd680",
   "metadata": {
    "deletable": false,
    "nbgrader": {
     "cell_type": "code",
     "checksum": "f5cbce3bfe490c3ea517b82144725b0d",
     "grade": true,
     "grade_id": "cell-2d1151b66417c66b",
     "locked": false,
     "points": 3,
     "schema_version": 3,
     "solution": true,
     "task": false
    },
    "tags": []
   },
   "outputs": [
    {
     "data": {
      "text/plain": [
       "(                           precipitation precipitation_indicator   \n",
       " datetime                                                           \n",
       " 1997-03-20 11:00:00+00:00            0.0                     1.0  \\\n",
       " 1997-03-20 12:00:00+00:00            0.0                     1.0   \n",
       " 1997-03-20 13:00:00+00:00            0.0                     1.0   \n",
       " 1997-03-20 14:00:00+00:00            0.0                     0.0   \n",
       " 1997-03-20 15:00:00+00:00            0.0                     0.0   \n",
       " ...                                  ...                     ...   \n",
       " 2022-12-31 19:00:00+00:00            0.0                     0.0   \n",
       " 2022-12-31 20:00:00+00:00            0.0                     0.0   \n",
       " 2022-12-31 21:00:00+00:00            0.0                     0.0   \n",
       " 2022-12-31 22:00:00+00:00            0.0                     0.0   \n",
       " 2022-12-31 23:00:00+00:00            0.0                     0.0   \n",
       " \n",
       "                           precipitation_form  \n",
       " datetime                                      \n",
       " 1997-03-20 11:00:00+00:00                NaN  \n",
       " 1997-03-20 12:00:00+00:00                NaN  \n",
       " 1997-03-20 13:00:00+00:00                NaN  \n",
       " 1997-03-20 14:00:00+00:00                NaN  \n",
       " 1997-03-20 15:00:00+00:00                NaN  \n",
       " ...                                      ...  \n",
       " 2022-12-31 19:00:00+00:00                0.0  \n",
       " 2022-12-31 20:00:00+00:00                0.0  \n",
       " 2022-12-31 21:00:00+00:00                0.0  \n",
       " 2022-12-31 22:00:00+00:00                0.0  \n",
       " 2022-12-31 23:00:00+00:00                0.0  \n",
       " \n",
       " [224918 rows x 3 columns],\n",
       "                            temperature  humidity\n",
       " datetime                                        \n",
       " 1950-01-01 01:00:00+00:00         -3.6        74\n",
       " 1950-01-01 02:00:00+00:00         -3.5        74\n",
       " 1950-01-01 03:00:00+00:00         -3.5        73\n",
       " 1950-01-01 04:00:00+00:00         -4.2        74\n",
       " 1950-01-01 05:00:00+00:00         -4.3        74\n",
       " ...                                ...       ...\n",
       " 2022-12-31 19:00:00+00:00         13.7        71\n",
       " 2022-12-31 20:00:00+00:00         14.0        67\n",
       " 2022-12-31 21:00:00+00:00         14.6        62\n",
       " 2022-12-31 22:00:00+00:00         13.9        65\n",
       " 2022-12-31 23:00:00+00:00         13.6        64\n",
       " \n",
       " [639404 rows x 2 columns])"
      ]
     },
     "execution_count": 82,
     "metadata": {},
     "output_type": "execute_result"
    }
   ],
   "source": [
    "\n",
    "def tweak_temperature_and_humidity(df: pd.DataFrame) -> pd.DataFrame:\n",
    "    \n",
    "    def tweak_time(time):\n",
    "        return (pd.to_datetime(time, format='%Y%m%d%H') + pd.Timedelta(hours=1) * (time <= 19961001)).dt.tz_localize('UTC')\n",
    "    \n",
    "    return ( df\n",
    "                .assign(datetime = tweak_time(df['MESS_DATUM']))\n",
    "                .rename(columns={\"TT_TU\": \"temperature\", \"RF_TU\": \"humidity\"})\n",
    "                .drop(columns='MESS_DATUM')\n",
    "                .dropna()\n",
    "                .astype({'temperature': 'float', 'humidity': np.uint8})\n",
    "                .set_index('datetime')\n",
    "            )\n",
    "    \n",
    "df_th = tweak_temperature_and_humidity(df_th)\n",
    "\n",
    "def tweak_precipitation(df: pd.DataFrame) -> pd.DataFrame:\n",
    "\n",
    "    return ( df\n",
    "                .assign(datetime = pd.to_datetime(df['MESS_DATUM'], format='%Y%m%d%H').dt.tz_localize('UTC'))\n",
    "                .rename(columns={'  R1': 'precipitation', 'RS_IND': 'precipitation_indicator', 'WRTR': 'precipitation_form'})\n",
    "                .astype({'precipitation': 'float', 'precipitation_indicator': 'category', 'precipitation_form': 'category'})\n",
    "                .drop(columns='MESS_DATUM')\n",
    "                .set_index('datetime')\n",
    "                \n",
    "            )\n",
    "\n",
    "df_p = tweak_precipitation(df_p)     \n",
    "\n",
    "df_p, df_th\n"
   ]
  },
  {
   "attachments": {},
   "cell_type": "markdown",
   "id": "5ae6cfd2-4c66-4d0b-9b7d-1c5c7f8e381b",
   "metadata": {
    "deletable": false,
    "editable": false,
    "nbgrader": {
     "cell_type": "markdown",
     "checksum": "fa31b2ecd280b1dc2ad1b31f868d1280",
     "grade": false,
     "grade_id": "cell-fd4a5c32d76e718e",
     "locked": true,
     "schema_version": 3,
     "solution": false,
     "task": false
    },
    "tags": []
   },
   "source": [
    "### `(T)` [2 Punkte] Merge DataFrames"
   ]
  },
  {
   "attachments": {},
   "cell_type": "markdown",
   "id": "05a6bc23-ce48-482c-846a-e842f6de340f",
   "metadata": {
    "deletable": false,
    "editable": false,
    "nbgrader": {
     "cell_type": "markdown",
     "checksum": "f605bc9058b66d13f974cdeadc60eb8a",
     "grade": false,
     "grade_id": "cell-280b526a17290392",
     "locked": true,
     "schema_version": 3,
     "solution": false,
     "task": false
    },
    "tags": []
   },
   "source": [
    "[Merge](https://pandas.pydata.org/pandas-docs/stable/reference/api/pandas.DataFrame.merge.html) the DataFrame containing the data for the temperature and the humidity with that containing the values for the amount of precipitation.\n",
    "\n",
    "The new DataFrame (you might call it `df_weather`) shall also have the datetimes of the measurements in the index.\n",
    "\n",
    "#### Notes\n",
    "\n",
    "* The time interval of available measurements in the *merged* DataFrame is determined by the DataFrame with the smaller interval.\n",
    "* Try to use the new DataFrame in the following tasks. If you do not succeed in merging the two DataFrames it is also fine to use the individual DataFrames to solve the tasks."
   ]
  },
  {
   "cell_type": "code",
   "execution_count": 83,
   "id": "0a551d4c-e82d-40d1-9ec4-a785062fd927",
   "metadata": {
    "deletable": false,
    "nbgrader": {
     "cell_type": "code",
     "checksum": "40cc4fb0e1f1fd19014c93ce85f031c8",
     "grade": true,
     "grade_id": "cell-1ae9ca6aac50fae7",
     "locked": false,
     "points": 2,
     "schema_version": 3,
     "solution": true,
     "task": false
    },
    "tags": []
   },
   "outputs": [
    {
     "data": {
      "text/html": [
       "<div>\n",
       "<style scoped>\n",
       "    .dataframe tbody tr th:only-of-type {\n",
       "        vertical-align: middle;\n",
       "    }\n",
       "\n",
       "    .dataframe tbody tr th {\n",
       "        vertical-align: top;\n",
       "    }\n",
       "\n",
       "    .dataframe thead th {\n",
       "        text-align: right;\n",
       "    }\n",
       "</style>\n",
       "<table border=\"1\" class=\"dataframe\">\n",
       "  <thead>\n",
       "    <tr style=\"text-align: right;\">\n",
       "      <th></th>\n",
       "      <th>temperature</th>\n",
       "      <th>humidity</th>\n",
       "      <th>precipitation</th>\n",
       "      <th>precipitation_indicator</th>\n",
       "      <th>precipitation_form</th>\n",
       "    </tr>\n",
       "    <tr>\n",
       "      <th>datetime</th>\n",
       "      <th></th>\n",
       "      <th></th>\n",
       "      <th></th>\n",
       "      <th></th>\n",
       "      <th></th>\n",
       "    </tr>\n",
       "  </thead>\n",
       "  <tbody>\n",
       "    <tr>\n",
       "      <th>1997-03-20 11:00:00+00:00</th>\n",
       "      <td>2.5</td>\n",
       "      <td>79</td>\n",
       "      <td>0.0</td>\n",
       "      <td>1.0</td>\n",
       "      <td>NaN</td>\n",
       "    </tr>\n",
       "    <tr>\n",
       "      <th>1997-03-20 12:00:00+00:00</th>\n",
       "      <td>2.5</td>\n",
       "      <td>83</td>\n",
       "      <td>0.0</td>\n",
       "      <td>1.0</td>\n",
       "      <td>NaN</td>\n",
       "    </tr>\n",
       "    <tr>\n",
       "      <th>1997-03-20 13:00:00+00:00</th>\n",
       "      <td>3.3</td>\n",
       "      <td>66</td>\n",
       "      <td>0.0</td>\n",
       "      <td>1.0</td>\n",
       "      <td>NaN</td>\n",
       "    </tr>\n",
       "    <tr>\n",
       "      <th>1997-03-20 14:00:00+00:00</th>\n",
       "      <td>3.3</td>\n",
       "      <td>65</td>\n",
       "      <td>0.0</td>\n",
       "      <td>0.0</td>\n",
       "      <td>NaN</td>\n",
       "    </tr>\n",
       "    <tr>\n",
       "      <th>1997-03-20 15:00:00+00:00</th>\n",
       "      <td>3.5</td>\n",
       "      <td>63</td>\n",
       "      <td>0.0</td>\n",
       "      <td>0.0</td>\n",
       "      <td>NaN</td>\n",
       "    </tr>\n",
       "    <tr>\n",
       "      <th>...</th>\n",
       "      <td>...</td>\n",
       "      <td>...</td>\n",
       "      <td>...</td>\n",
       "      <td>...</td>\n",
       "      <td>...</td>\n",
       "    </tr>\n",
       "    <tr>\n",
       "      <th>2022-12-31 19:00:00+00:00</th>\n",
       "      <td>13.7</td>\n",
       "      <td>71</td>\n",
       "      <td>0.0</td>\n",
       "      <td>0.0</td>\n",
       "      <td>0.0</td>\n",
       "    </tr>\n",
       "    <tr>\n",
       "      <th>2022-12-31 20:00:00+00:00</th>\n",
       "      <td>14.0</td>\n",
       "      <td>67</td>\n",
       "      <td>0.0</td>\n",
       "      <td>0.0</td>\n",
       "      <td>0.0</td>\n",
       "    </tr>\n",
       "    <tr>\n",
       "      <th>2022-12-31 21:00:00+00:00</th>\n",
       "      <td>14.6</td>\n",
       "      <td>62</td>\n",
       "      <td>0.0</td>\n",
       "      <td>0.0</td>\n",
       "      <td>0.0</td>\n",
       "    </tr>\n",
       "    <tr>\n",
       "      <th>2022-12-31 22:00:00+00:00</th>\n",
       "      <td>13.9</td>\n",
       "      <td>65</td>\n",
       "      <td>0.0</td>\n",
       "      <td>0.0</td>\n",
       "      <td>0.0</td>\n",
       "    </tr>\n",
       "    <tr>\n",
       "      <th>2022-12-31 23:00:00+00:00</th>\n",
       "      <td>13.6</td>\n",
       "      <td>64</td>\n",
       "      <td>0.0</td>\n",
       "      <td>0.0</td>\n",
       "      <td>0.0</td>\n",
       "    </tr>\n",
       "  </tbody>\n",
       "</table>\n",
       "<p>224496 rows × 5 columns</p>\n",
       "</div>"
      ],
      "text/plain": [
       "                           temperature  humidity  precipitation   \n",
       "datetime                                                          \n",
       "1997-03-20 11:00:00+00:00          2.5        79            0.0  \\\n",
       "1997-03-20 12:00:00+00:00          2.5        83            0.0   \n",
       "1997-03-20 13:00:00+00:00          3.3        66            0.0   \n",
       "1997-03-20 14:00:00+00:00          3.3        65            0.0   \n",
       "1997-03-20 15:00:00+00:00          3.5        63            0.0   \n",
       "...                                ...       ...            ...   \n",
       "2022-12-31 19:00:00+00:00         13.7        71            0.0   \n",
       "2022-12-31 20:00:00+00:00         14.0        67            0.0   \n",
       "2022-12-31 21:00:00+00:00         14.6        62            0.0   \n",
       "2022-12-31 22:00:00+00:00         13.9        65            0.0   \n",
       "2022-12-31 23:00:00+00:00         13.6        64            0.0   \n",
       "\n",
       "                          precipitation_indicator precipitation_form  \n",
       "datetime                                                              \n",
       "1997-03-20 11:00:00+00:00                     1.0                NaN  \n",
       "1997-03-20 12:00:00+00:00                     1.0                NaN  \n",
       "1997-03-20 13:00:00+00:00                     1.0                NaN  \n",
       "1997-03-20 14:00:00+00:00                     0.0                NaN  \n",
       "1997-03-20 15:00:00+00:00                     0.0                NaN  \n",
       "...                                           ...                ...  \n",
       "2022-12-31 19:00:00+00:00                     0.0                0.0  \n",
       "2022-12-31 20:00:00+00:00                     0.0                0.0  \n",
       "2022-12-31 21:00:00+00:00                     0.0                0.0  \n",
       "2022-12-31 22:00:00+00:00                     0.0                0.0  \n",
       "2022-12-31 23:00:00+00:00                     0.0                0.0  \n",
       "\n",
       "[224496 rows x 5 columns]"
      ]
     },
     "execution_count": 83,
     "metadata": {},
     "output_type": "execute_result"
    }
   ],
   "source": [
    "df_weather = (df_th\n",
    "              .merge(df_p, on='datetime', how='inner',)\n",
    ")\n",
    "df_weather"
   ]
  },
  {
   "attachments": {},
   "cell_type": "markdown",
   "id": "8188ee42-4ec6-4039-917c-d65a06ef21a5",
   "metadata": {
    "deletable": false,
    "editable": false,
    "nbgrader": {
     "cell_type": "markdown",
     "checksum": "e383242ef759dc89eda0dadf5c8cefea",
     "grade": false,
     "grade_id": "cell-50a79ddb4aa8e31a",
     "locked": true,
     "schema_version": 3,
     "solution": false,
     "task": false
    },
    "tags": []
   },
   "source": [
    "## Data Visualization"
   ]
  },
  {
   "attachments": {},
   "cell_type": "markdown",
   "id": "fe2337fc-b950-4758-ba78-9fa58480903c",
   "metadata": {
    "deletable": false,
    "editable": false,
    "nbgrader": {
     "cell_type": "markdown",
     "checksum": "9e0cf69176e395c0ddb710a18aacc745",
     "grade": false,
     "grade_id": "cell-8086e57efe19dc19",
     "locked": true,
     "schema_version": 3,
     "solution": false,
     "task": false
    },
    "tags": []
   },
   "source": [
    "In the following tasks you will asked to visualise certain aspects of the data.\n",
    "\n",
    "Try to make the visualisations as \"compelling\", understandable, and expressive as possible by adding e.g. axes labels (with units if required), plot titles and reasonable scales"
   ]
  },
  {
   "attachments": {},
   "cell_type": "markdown",
   "id": "2abc52d8-9a5e-435a-b2de-d7134df85b2a",
   "metadata": {
    "deletable": false,
    "editable": false,
    "nbgrader": {
     "cell_type": "markdown",
     "checksum": "3c1db07684727415dd981b6881339de3",
     "grade": false,
     "grade_id": "cell-b6b8bfb5e767bd3d",
     "locked": true,
     "schema_version": 3,
     "solution": false,
     "task": false
    }
   },
   "source": [
    "### `(A)` [3 Punkte] Seasonal contributions to precipitation"
   ]
  },
  {
   "attachments": {},
   "cell_type": "markdown",
   "id": "d56fa0cc-0647-492d-ad11-58c5c4fead3d",
   "metadata": {
    "deletable": false,
    "editable": false,
    "nbgrader": {
     "cell_type": "markdown",
     "checksum": "be70a6536ee77367cd874b963e578817",
     "grade": false,
     "grade_id": "cell-b6b8bfb5e767bd3a",
     "locked": true,
     "schema_version": 3,
     "solution": false,
     "task": false
    },
    "tags": []
   },
   "source": [
    "Determine the contribution to the total yearly amount of precipitation of each [**meteorological season**](https://www.dwd.de/DE/service/lexikon/Functions/glossar.html?lv3=101324&lv2=101304). Visualise the results in a single plot and make sure that the contributions of the single seasons can be distinguished."
   ]
  },
  {
   "cell_type": "code",
   "execution_count": 130,
   "id": "987bca8b-7d69-49fa-9d63-06579c47725a",
   "metadata": {
    "deletable": false,
    "nbgrader": {
     "cell_type": "code",
     "checksum": "2d2dc3a0c7cea345e5874c974c48df59",
     "grade": true,
     "grade_id": "cell-58b6d5bf37f5eed5",
     "locked": false,
     "points": 3,
     "schema_version": 3,
     "solution": true,
     "task": false
    },
    "tags": []
   },
   "outputs": [
    {
     "data": {
      "text/plain": [
       "<Axes: title={'center': 'yearly precipitation with contributions from seasons'}, xlabel='precipitation height / mm', ylabel='year'>"
      ]
     },
     "execution_count": 130,
     "metadata": {},
     "output_type": "execute_result"
    },
    {
     "data": {
      "image/png": "[encoded data removed]",
      "text/plain": [
       "<Figure size 640x480 with 1 Axes>"
      ]
     },
     "metadata": {},
     "output_type": "display_data"
    }
   ],
   "source": [
    "(\n",
    "    df_p\n",
    "    .assign(\n",
    "        year=df_p.index.year,\n",
    "        season=df_p.index.month % 12 // 3 + 1\n",
    "    )\n",
    "    .pivot_table(\n",
    "        index=\"year\",\n",
    "        columns=\"season\",\n",
    "        values=\"precipitation\",\n",
    "        aggfunc=np.sum\n",
    "    )\n",
    "    .plot\n",
    "    .barh(\n",
    "        stacked=True,\n",
    "        xlabel=\"precipitation height / mm\",\n",
    "        ylabel=\"year\", \n",
    "        title=\"yearly precipitation with contributions from seasons\"\n",
    "    )\n",
    ")"
   ]
  },
  {
   "attachments": {},
   "cell_type": "markdown",
   "id": "97442b57-19c1-457d-b125-50a5479797f7",
   "metadata": {
    "deletable": false,
    "editable": false,
    "nbgrader": {
     "cell_type": "markdown",
     "checksum": "61a1aa912229f9a5da87710dfa784899",
     "grade": false,
     "grade_id": "cell-253233647ef2f34b",
     "locked": true,
     "schema_version": 3,
     "solution": false,
     "task": false
    }
   },
   "source": [
    "### `(A)` [2 Punkte] The Summer of 2003"
   ]
  },
  {
   "attachments": {},
   "cell_type": "markdown",
   "id": "b2435d5e-03ad-4673-9c86-7c6bada120e0",
   "metadata": {
    "deletable": false,
    "editable": false,
    "nbgrader": {
     "cell_type": "markdown",
     "checksum": "b538286523d72f8d72d6402ed9cf5ecc",
     "grade": false,
     "grade_id": "cell-253233647ef2f341",
     "locked": true,
     "schema_version": 3,
     "solution": false,
     "task": false
    },
    "tags": []
   },
   "source": [
    "By looking at the plot from the previous task it becomes obvious that the amount of precipitation in 2003 was much lower than in other years.\n",
    "\n",
    "Search for hints in the data that support this observation. Generate two plots that further explain the observation (e.g. distributions, seasonal effects).\n",
    "\n",
    "*Note*: In fact, the [summer of 2003](https://en.wikipedia.org/wiki/2003_European_heat_wave) has been quite special from a metereological point of view."
   ]
  },
  {
   "cell_type": "code",
   "execution_count": 85,
   "id": "cca6cffc-9f48-4d98-a06f-2d9de9a96d05",
   "metadata": {
    "deletable": false,
    "nbgrader": {
     "cell_type": "code",
     "checksum": "36283ce77465e5e11a8fc345fecfbe3f",
     "grade": true,
     "grade_id": "cell-2cc8d74e3b69bea9",
     "locked": false,
     "points": 2,
     "schema_version": 3,
     "solution": true,
     "task": false
    },
    "tags": []
   },
   "outputs": [
    {
     "data": {
      "text/plain": [
       "Ellipsis"
      ]
     },
     "execution_count": 85,
     "metadata": {},
     "output_type": "execute_result"
    }
   ],
   "source": []
  },
  {
   "attachments": {},
   "cell_type": "markdown",
   "id": "876d8e3f-0809-434b-b680-82da8931a09f",
   "metadata": {
    "deletable": false,
    "editable": false,
    "nbgrader": {
     "cell_type": "markdown",
     "checksum": "3f02aa32800df1408a267061b70ab05f",
     "grade": false,
     "grade_id": "cell-d685a9b0c264f12f",
     "locked": true,
     "schema_version": 3,
     "solution": false,
     "task": false
    },
    "tags": []
   },
   "source": [
    "## Data Analysis"
   ]
  },
  {
   "attachments": {},
   "cell_type": "markdown",
   "id": "10ee1b97-8767-4096-9f89-3c8581c4d0a8",
   "metadata": {
    "deletable": false,
    "editable": false,
    "nbgrader": {
     "cell_type": "markdown",
     "checksum": "8c69a2e784d23797d16d52e309d4d43e",
     "grade": false,
     "grade_id": "cell-9795dd9e4c37cff6",
     "locked": true,
     "schema_version": 3,
     "solution": false,
     "task": false
    }
   },
   "source": [
    "### `(A)` [2 Punkte] Correlation between precipitation and humidity"
   ]
  },
  {
   "attachments": {},
   "cell_type": "markdown",
   "id": "158646e6-ed9f-4d59-8981-182c11dbe12b",
   "metadata": {
    "deletable": false,
    "editable": false,
    "nbgrader": {
     "cell_type": "markdown",
     "checksum": "c5870536bedb12cc653d5abf517ceb1a",
     "grade": false,
     "grade_id": "cell-9795dd9e4c37cff1",
     "locked": true,
     "schema_version": 3,
     "solution": false,
     "task": false
    },
    "tags": []
   },
   "source": [
    "Make a plot that correlates the amount of *actually fallen liquid precipitation* with the relative humidity. Also add temperature information in the *same* plot."
   ]
  },
  {
   "cell_type": "code",
   "execution_count": 128,
   "id": "2ed3e8a8",
   "metadata": {
    "deletable": false,
    "nbgrader": {
     "cell_type": "code",
     "checksum": "22ec7e2ab23448d8bda5699a991ee834",
     "grade": true,
     "grade_id": "cell-edeccd57f92a0fc1",
     "locked": false,
     "points": 2,
     "schema_version": 3,
     "solution": true,
     "task": false
    },
    "tags": []
   },
   "outputs": [
    {
     "data": {
      "text/plain": [
       "<matplotlib.legend.Legend at 0x7fe61ee15f60>"
      ]
     },
     "execution_count": 128,
     "metadata": {},
     "output_type": "execute_result"
    },
    {
     "data": {
      "image/png": "[encoded data removed]",
      "text/plain": [
       "<Figure size 640x480 with 2 Axes>"
      ]
     },
     "metadata": {},
     "output_type": "display_data"
    }
   ],
   "source": [
    "\n",
    "temp = df_weather.groupby('temperature').precipitation.mean()\n",
    "hum = df_weather.groupby('humidity').precipitation.mean()\n",
    "\n",
    "\n",
    "# Create a figure and an axis\n",
    "fig, ax1 = plt.subplots()\n",
    "\n",
    "# Plot the first set of data on the first axis\n",
    "ax1.plot(\n",
    "        temp, \n",
    "        label='temperature', \n",
    "        color='blue', \n",
    "        linestyle='--',\n",
    "        alpha=0.8,\n",
    "        marker = 'o',\n",
    "        markersize = 5,\n",
    "        markerfacecolor = 'white'\n",
    "        )\n",
    "ax1.set_xlabel('temperature / °C', color='blue')\n",
    "ax1.set_ylabel('precipitation / mm')\n",
    "\n",
    "# Create a second axis that shares the same y-axis\n",
    "ax2 = ax1.twiny()\n",
    "\n",
    "# Plot the second set of data on the second axis\n",
    "ax2.plot(\n",
    "        hum, \n",
    "        label='humidity', \n",
    "        color='orange', \n",
    "        linestyle='--',\n",
    "        alpha=0.8,\n",
    "        marker = 'o',\n",
    "        markersize = 5,\n",
    "        markerfacecolor = 'white'\n",
    "        )\n",
    "ax2.set_xlabel('humidity / %', color='orange')\n",
    "\n",
    "ax1.set_title('Correlation between temperature and humidity')\n",
    "\n",
    "fig.legend(loc=\"upper left\", bbox_to_anchor=(0,1), bbox_transform=ax1.transAxes)"
   ]
  },
  {
   "attachments": {},
   "cell_type": "markdown",
   "id": "a0e8cde1",
   "metadata": {
    "deletable": false,
    "editable": false,
    "nbgrader": {
     "cell_type": "markdown",
     "checksum": "cada75d7dd483290f1279025fadc8d2a",
     "grade": false,
     "grade_id": "cell-7be5945e79cb6fa3",
     "locked": true,
     "schema_version": 3,
     "solution": false,
     "task": false
    }
   },
   "source": [
    "### `(A)` [6 Punkte] Correlation between humidity and temperature"
   ]
  },
  {
   "attachments": {},
   "cell_type": "markdown",
   "id": "84abc313",
   "metadata": {
    "deletable": false,
    "editable": false,
    "nbgrader": {
     "cell_type": "markdown",
     "checksum": "07094368a65b1d77f3ad5a721c3a35dc",
     "grade": false,
     "grade_id": "cell-c5385e94c8064334",
     "locked": true,
     "schema_version": 3,
     "solution": false,
     "task": false
    }
   },
   "source": [
    "* Make a plot that correlates the relative humidity with the temperature. Can you see a trend?"
   ]
  },
  {
   "cell_type": "code",
   "execution_count": 93,
   "id": "94089d06-6778-47fb-911b-6e37eb3a114a",
   "metadata": {
    "deletable": false,
    "nbgrader": {
     "cell_type": "code",
     "checksum": "d203dfba39eb9a228ed99fbd14e8c1b4",
     "grade": true,
     "grade_id": "cell-10f50f6ef949d1b1",
     "locked": false,
     "points": 3,
     "schema_version": 3,
     "solution": true,
     "task": false
    },
    "tags": []
   },
   "outputs": [
    {
     "data": {
      "text/plain": [
       "<Axes: title={'center': 'Correlation between temperature and humidity'}, xlabel='temperature / °C', ylabel='humidity / %'>"
      ]
     },
     "execution_count": 93,
     "metadata": {},
     "output_type": "execute_result"
    },
    {
     "data": {
      "image/png": "[encoded data removed]",
      "text/plain": [
       "<Figure size 640x480 with 1 Axes>"
      ]
     },
     "metadata": {},
     "output_type": "display_data"
    }
   ],
   "source": [
    "(df_weather\n",
    "    .groupby('temperature').humidity.mean()\n",
    "    .plot(\n",
    "        title='Correlation between temperature and humidity',\n",
    "        xlabel='temperature / °C',\n",
    "        ylabel='humidity / %')\n",
    ")\n",
    "\n",
    "\"\"\"Je höher die Temperatur, desto niedriger die Luftfeuchtigkeit.\"\"\""
   ]
  },
  {
   "attachments": {},
   "cell_type": "markdown",
   "id": "5f683127",
   "metadata": {
    "deletable": false,
    "editable": false,
    "nbgrader": {
     "cell_type": "markdown",
     "checksum": "7288e48b61e840485a805d1f837fb166",
     "grade": false,
     "grade_id": "cell-5ba851e2567752b8",
     "locked": true,
     "schema_version": 3,
     "solution": false,
     "task": false
    }
   },
   "source": [
    "* Make another plot that shows the (mean) temperature and the (mean) relative humidity over the course of the day."
   ]
  },
  {
   "cell_type": "code",
   "execution_count": 116,
   "id": "34d1cd19-dba1-446f-9702-39b0fd62e591",
   "metadata": {
    "deletable": false,
    "nbgrader": {
     "cell_type": "code",
     "checksum": "ba072cd15f6562683375865ec713046e",
     "grade": true,
     "grade_id": "cell-d432d39ff2a075e6",
     "locked": false,
     "points": 3,
     "schema_version": 3,
     "solution": true,
     "task": false
    },
    "tags": []
   },
   "outputs": [
    {
     "data": {
      "text/plain": [
       "<matplotlib.legend.Legend at 0x7fe61f689d80>"
      ]
     },
     "execution_count": 116,
     "metadata": {},
     "output_type": "execute_result"
    },
    {
     "data": {
      "image/png": "[encoded data removed]",
      "text/plain": [
       "<Figure size 640x480 with 2 Axes>"
      ]
     },
     "metadata": {},
     "output_type": "display_data"
    }
   ],
   "source": [
    "\n",
    "\n",
    "temp = df_th.groupby(df_th.index.hour).temperature.mean()\n",
    "hum = df_th.groupby(df_th.index.hour).humidity.mean()\n",
    "\n",
    "\n",
    "# Create a figure and an axis\n",
    "fig, ax1 = plt.subplots()\n",
    "\n",
    "# Plot the first set of data on the first axis\n",
    "ax1.plot(temp, label='temperature', color='blue', linestyle='--', marker='o', markerfacecolor='white', markeredgewidth=2, markeredgecolor='blue')\n",
    "ax1.set_ylabel('temperature / °C', color='blue')\n",
    "ax1.set_xlabel('hour')\n",
    "ax1.set_xticks(np.arange(0, 24, 2))\n",
    "\n",
    "# Create a second axis that shares the same x-axis\n",
    "ax2 = ax1.twinx()\n",
    "\n",
    "# Plot the second set of data on the second axis\n",
    "ax2.plot(hum, label='humidity', color='orange', linestyle='--', marker='o', markerfacecolor='white', markeredgewidth=2, markeredgecolor='orange')\n",
    "ax2.set_ylabel('humidity / %', color='orange')\n",
    "\n",
    "ax1.set_title('Correlation between temperature and humidity')\n",
    "\n",
    "fig.legend(loc=\"lower right\", bbox_to_anchor=(1,0), bbox_transform=ax1.transAxes)"
   ]
  }
 ],
 "metadata": {
  "kernelspec": {
   "display_name": "Python 3 (ipykernel)",
   "language": "python",
   "name": "python3"
  },
  "language_info": {
   "codemirror_mode": {
    "name": "ipython",
    "version": 3
   },
   "file_extension": ".py",
   "mimetype": "text/x-python",
   "name": "python",
   "nbconvert_exporter": "python",
   "pygments_lexer": "ipython3",
   "version": "3.10.10"
  },
  "toc-autonumbering": false
 },
 "nbformat": 4,
 "nbformat_minor": 5
}
